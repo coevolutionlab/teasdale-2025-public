{
 "cells": [
  {
   "cell_type": "code",
   "execution_count": null,
   "id": "f3f4823d-b074-4d23-b1b3-3a73f16f94df",
   "metadata": {
    "tags": []
   },
   "outputs": [],
   "source": [
    "library(tidyverse)\n",
    "library(ggpubr)"
   ]
  },
  {
   "cell_type": "code",
   "execution_count": null,
   "id": "9e3452ed-f71f-405b-8dd4-51d6150390d7",
   "metadata": {
    "tags": []
   },
   "outputs": [],
   "source": [
    "csq = read_tsv(\"output/freebayes_at9852_ath_filt-q100-ac10-dp100-200k-only1k1g-csq_allgenes_csqtab.tsv\",\n",
    "              col_names=c(\"chrom\", \"pos\", \"pos2\", \"alt\", \"qual\", \"af\", \"bcsq\"), na=\".\")"
   ]
  },
  {
   "cell_type": "code",
   "execution_count": null,
   "id": "e25425b9-d6cd-4e1e-a7f4-275df66c5860",
   "metadata": {
    "tags": []
   },
   "outputs": [],
   "source": [
    "glimpse(csq)"
   ]
  },
  {
   "cell_type": "code",
   "execution_count": null,
   "id": "5d9d8625-83ee-4e53-93ec-55568a181766",
   "metadata": {
    "tags": []
   },
   "outputs": [],
   "source": [
    "csq2 = csq %>%\n",
    "    filter(!is.na(bcsq), !grepl(\"^@\", bcsq)) %>%\n",
    "    mutate(bcsq=sub(\",.*\", \"\", bcsq)) %>%\n",
    "    separate_wider_delim(bcsq, \"|\", names=c(\"csqtype\", \"gene_id\", \"transcript\", \"genetype\", \"strand\", \"aa\", \"cds\"), too_few=\"debug\", too_many=\"debug\") %>%\n",
    "    glimpse() %>%\n",
    "    select(gene_id, chrom, pos, alt, qual, af, csqtype) %>%\n",
    "    mutate(csqtype=sub(\"&.*\", \"\", csqtype)) %>%\n",
    "    filter(!grepl(\"^\\\\*\", csqtype)) %>%\n",
    "    group_by(gene_id) %>%\n",
    "    mutate(genepos = (pos - min(pos)) / ( max(pos)-min(pos)))"
   ]
  },
  {
   "cell_type": "code",
   "execution_count": null,
   "id": "3c0f7124-e2e9-4e5c-8e82-f805c3f53847",
   "metadata": {},
   "outputs": [],
   "source": [
    "sumaf = csq2 %>%\n",
    "    filter(af > 0.005) %>%\n",
    "    mutate(severe=csqtype %in% c(\"frameshift\", \"stop_gained\", \"feature_elongation\", \"start_lost\", \"stop_gained\", \"stop_lost\"))%>% \n",
    "    glimpse() %>%\n",
    "    group_by(gene_id, severe) %>%\n",
    "    summarise(sum_af=sum(af)) %>%\n",
    "    glimpse()"
   ]
  },
  {
   "cell_type": "code",
   "execution_count": null,
   "id": "0bc8e964-2a9c-44d8-b817-0e5de2495bf5",
   "metadata": {
    "tags": []
   },
   "outputs": [],
   "source": [
    "genes = read_tsv(\"../paper_plots//orthogroup_stats//input//nlr_cleaned.tsv\") %>%\n",
    "    glimpse()"
   ]
  },
  {
   "cell_type": "code",
   "execution_count": null,
   "id": "b27e0af0-91dd-40cc-934e-ce376e2eb6a9",
   "metadata": {
    "tags": []
   },
   "outputs": [],
   "source": [
    "pdat = sumaf %>%\n",
    "    left_join(genes %>% select(gene_id=id, nlrtype=nlr_tracker_type), by=\"gene_id\") %>%\n",
    "    mutate(is_nlr=ifelse(is.na(nlrtype), \"Non-NLR\", \"NLR\"))"
   ]
  },
  {
   "cell_type": "code",
   "execution_count": null,
   "id": "4a90c000-d6cf-42cb-ad90-4459ed3ee178",
   "metadata": {
    "tags": []
   },
   "outputs": [],
   "source": [
    "alltypes = csq2 %>%\n",
    "    filter(af > 0.005) %>%\n",
    "    group_by(gene_id, csqtype) %>%\n",
    "    summarise(sum_af=sum(af), .groups=\"drop\") %>%\n",
    "    left_join(genes %>% select(gene_id=id, nlrtype=nlr_tracker_type), by=\"gene_id\") %>%\n",
    "    mutate(is_nlr=ifelse(is.na(nlrtype), \"Non-NLR\", \"NLR\")) %>%\n",
    "    mutate(csqtype=fct_reorder(csqtype, sum_af, .fun=sum)) %>%\n",
    "    glimpse()"
   ]
  },
  {
   "cell_type": "code",
   "execution_count": null,
   "id": "1a6e7044-3a04-4f26-acf3-60cdab0e2fa2",
   "metadata": {
    "tags": []
   },
   "outputs": [],
   "source": [
    "p = alltypes %>%\n",
    "    ggplot(aes(y=csqtype, x=sum_af, colour=is_nlr, fill=is_nlr)) +\n",
    "        geom_boxplot(outlier.shape = NA) +\n",
    "        scale_fill_brewer(palette=\"Set1\", name=\"Gene Type\", aesthetics = c(\"fill\", \"colour\")) +\n",
    "        xlim(c(0, 50)) +\n",
    "        labs(y=NULL, x=\"sum(Allele Freq)\") +\n",
    "        theme_classic() +\n",
    "        theme(\n",
    "            legend.position = c(.7, .16),\n",
    "            axis.text.y=element_text(angle=0, hjust=1, vjust=0.5),\n",
    "        )\n",
    "print(p)\n",
    "ggsave(\"output/all_types_sumaf_boxplot.png\", width=3, height=4)\n",
    "ggsave(\"output/all_types_sumaf_boxplot.svg\", width=3, height=4)\n",
    "saveRDS(p, \"output/all_types_sumaf_boxplot.rds\")"
   ]
  },
  {
   "cell_type": "code",
   "execution_count": null,
   "id": "6502577f-57fe-43e2-b1e3-1d9e42f598fc",
   "metadata": {
    "tags": []
   },
   "outputs": [],
   "source": [
    "p = alltypes %>%\n",
    "    filter(csqtype %in% c(\"frameshift\", \"stop_gained\", \"feature_elongation\", \"start_lost\", \"stop_gained\", \"stop_lost\"))%>% \n",
    "    mutate(\n",
    "        is_nlr=factor(is_nlr, levels=c(\"Non-NLR\", \"NLR\")),\n",
    "    ) %>%\n",
    "    ggplot(aes(y=csqtype, x=sum_af, fill=is_nlr)) +\n",
    "        geom_boxplot(outlier.shape = NA) +\n",
    "        scale_fill_brewer(palette=\"Set1\", name=\"Gene Type\", aesthetics = c(\"fill\", \"colour\")) +\n",
    "        xlim(c(0, .5)) +\n",
    "        labs(y=NULL, x=\"sum(Allele Freq)\") +\n",
    "        theme_classic() +\n",
    "        theme(\n",
    "            legend.position = c(.7, .16),\n",
    "            axis.text.y=element_text(angle=0, hjust=1, vjust=0.5),\n",
    "        )\n",
    "print(p)\n",
    "ggsave(\"output/severe_types_sumaf_boxplot.png\", width=3, height=4)\n",
    "ggsave(\"output/severe_types_sumaf_boxplot.svg\", width=3, height=4)\n",
    "saveRDS(p, \"output/severe_types_sumaf_boxplot.rds\")"
   ]
  },
  {
   "cell_type": "code",
   "execution_count": null,
   "id": "e5f6565f-a8fe-44a4-bebb-0cc6c05b7151",
   "metadata": {
    "tags": []
   },
   "outputs": [],
   "source": [
    "p = pdat %>%\n",
    "    filter(severe) %>%\n",
    "    ggboxplot(y=\"sum_af\", x=\"is_nlr\", fill=\"is_nlr\", outlier.shape = NA, notch=T) +\n",
    "        stat_compare_means(comparisons=list(c(\"Non-NLR\", \"NLR\")), label = \"p.signif\", label.y=0.40) +\n",
    "        scale_fill_brewer(palette=\"Set1\", name=\"Gene Type\") +\n",
    "        scale_y_continuous(limits = c(0, 0.6)) +\n",
    "        labs(x=\"Gene Type\", y=\"sum(Allele Freq)\", title=\"Severe SNVs\") +\n",
    "        theme(legend.position = \"none\")\n",
    "print(p)\n",
    "saveRDS(p, \"output/sumaf-normalvsnlr-onlysevere.rds\")\n",
    "ggsave(\"output/sumaf-normalvsnlr-onlysevere.png\", width=3, height=3, dpi=600)\n",
    "ggsave(\"output/sumaf-normalvsnlr-onlysevere.svg\", width=3, height=3)"
   ]
  },
  {
   "cell_type": "code",
   "execution_count": null,
   "id": "0db42523-a560-452c-b843-2ece6997182b",
   "metadata": {},
   "outputs": [],
   "source": [
    "p = pdat %>%\n",
    "    filter(severe) %>%\n",
    "    ggviolin(y=\"sum_af\", x=\"is_nlr\", fill=\"is_nlr\") +\n",
    "        stat_compare_means(comparisons=list(c(\"Non-NLR\", \"NLR\")), label = \"p.signif\") +\n",
    "        scale_fill_brewer(palette=\"Set1\", name=\"Gene Type\") +\n",
    "        #scale_y_continuous(limits = c(0, 3.2)) +\n",
    "        labs(x=\"Gene Type\", y=\"sum(Allele Freq)\", title=\"Severe SNVs\") +\n",
    "        theme(legend.position = \"none\")\n",
    "print(p)\n",
    "saveRDS(p, \"output/sumaf-normalvsnlr-onlysevere.rds\")\n",
    "ggsave(\"output/sumaf-normalvsnlr-onlysevere.png\", width=2, height=3, dpi=600)\n",
    "ggsave(\"output/sumaf-normalvsnlr-onlysevere.svg\", width=2, height=3)"
   ]
  },
  {
   "cell_type": "code",
   "execution_count": null,
   "id": "6aca64a0-2381-44b9-8482-2d9562094d7a",
   "metadata": {
    "tags": []
   },
   "outputs": [],
   "source": [
    "p = pdat %>%\n",
    "    ggviolin(y=\"sum_af\", x=\"is_nlr\", fill=\"is_nlr\") +\n",
    "        stat_compare_means(comparisons=list(c(\"Non-NLR\", \"NLR\")), label = \"p.signif\", label.y.npc = 0.9, bracket.size = 1.2) +\n",
    "        scale_fill_brewer(palette=\"Set1\", name=\"Gene Type\") +\n",
    "        scale_y_continuous(limits = c(0, NA)) +\n",
    "        labs(x=\"Gene Type\", y=\"sum(Allele Freq)\", title=\"All SNVs\") +\n",
    "        theme(legend.position = \"none\")\n",
    "print(p)\n",
    "saveRDS(p, \"output/sumaf-normalvsnlr-allvariants.rds\")\n",
    "ggsave(\"output/sumaf-normalvsnlr-allvariants.png\", width=2, height=3, dpi=600)\n",
    "ggsave(\"output/sumaf-normalvsnlr-allvariants.svg\", width=2, height=3)"
   ]
  },
  {
   "cell_type": "code",
   "execution_count": null,
   "id": "f971a31d-1069-4e1d-965f-fe35e5e7504a",
   "metadata": {},
   "outputs": [],
   "source": []
  }
 ],
 "metadata": {
  "kernelspec": {
   "display_name": "R",
   "language": "R",
   "name": "ir"
  },
  "language_info": {
   "codemirror_mode": "r",
   "file_extension": ".r",
   "mimetype": "text/x-r-source",
   "name": "R",
   "pygments_lexer": "r",
   "version": "4.4.1"
  },
  "widgets": {
   "application/vnd.jupyter.widget-state+json": {
    "state": {},
    "version_major": 2,
    "version_minor": 0
   }
  }
 },
 "nbformat": 4,
 "nbformat_minor": 5
}
