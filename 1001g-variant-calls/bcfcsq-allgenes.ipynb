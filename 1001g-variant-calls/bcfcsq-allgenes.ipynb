{
 "cells": [
  {
   "cell_type": "code",
   "execution_count": 1,
   "id": "50779c60-ec60-4351-a1eb-a616e4c41629",
   "metadata": {
    "tags": []
   },
   "outputs": [],
   "source": [
    "conda activate kdm"
   ]
  },
  {
   "cell_type": "code",
   "execution_count": 2,
   "id": "8d3a2c90-df17-4792-b761-9ff3d3a4dfd9",
   "metadata": {
    "tags": []
   },
   "outputs": [],
   "source": [
    "bcftools view -h input/freebayes_at9852_ath_filt-q100-ac10-dp100-200k.vcf.gz | \\\n",
    "    grep '^#CHROM' | tr '\\t' '\\n' | tail +10 |\\\n",
    "    grep \"^OAKG\" > input/only_1k1g_samples.txt"
   ]
  },
  {
   "cell_type": "code",
   "execution_count": 3,
   "id": "ab4aabf8-c46a-4e53-92ad-0013b30a40e7",
   "metadata": {
    "tags": []
   },
   "outputs": [],
   "source": [
    "mkdir -p output"
   ]
  },
  {
   "cell_type": "code",
   "execution_count": 13,
   "id": "ea048d7d-3d47-4ef7-83e9-7492ea1987b7",
   "metadata": {
    "tags": []
   },
   "outputs": [],
   "source": [
    "blsl gffcsqify  -o output/at9852_hodgepodge-representative.gff3 ../final/annotation/latest/at9852_hodgepodgemerged.representatives.gff3 "
   ]
  },
  {
   "cell_type": "code",
   "execution_count": 18,
   "id": "e13bcf34-9a86-4e1e-8bf2-89e909915861",
   "metadata": {
    "collapsed": true,
    "jupyter": {
     "outputs_hidden": true
    },
    "tags": []
   },
   "outputs": [
    {
     "name": "stdout",
     "output_type": "stream",
     "text": [
      "Using standard /tmp/global2/kmurray/conda/envs/kdm/lib/perl5/site_perl/auto/share/dist/AGAT/agat_config.yaml file\n",
      "\n",
      " ------------------------------------------------------------------------------\n",
      "|   Another GFF Analysis Toolkit (AGAT) - Version: v1.2.0                      |\n",
      "|   https://github.com/NBISweden/AGAT                                          |\n",
      "|   National Bioinformatics Infrastructure Sweden (NBIS) - www.nbis.se         |\n",
      " ------------------------------------------------------------------------------\n",
      "                                        \n",
      "                                       \n",
      "                          ------ Start parsing ------                           \n",
      "-------------------------- parse options and metadata --------------------------\n",
      "=> Accessing the feature_levels YAML file\n",
      "Using standard /tmp/global2/kmurray/conda/envs/kdm/lib/perl5/site_perl/auto/share/dist/AGAT/feature_levels.yaml file\n",
      "=> Attribute used to group features when no Parent/ID relationship exists (i.e common tag):\n",
      "\t* locus_tag\n",
      "\t* gene_id\n",
      "=> merge_loci option deactivated\n",
      "=> Machine information:\n",
      "\tThis script is being run by perl v5.32.1\n",
      "\tBioperl location being used: /tmp/global2/kmurray/conda/envs/kdm/lib/perl5/site_perl/Bio/\n",
      "\tOperating system being used: linux \n",
      "=> Accessing Ontology\n",
      "\tNo ontology accessible from the gff file header!\n",
      "\tWe use the SOFA ontology distributed with AGAT:\n",
      "\t\t/tmp/global2/kmurray/conda/envs/kdm/lib/perl5/site_perl/auto/share/dist/AGAT/so.obo\n",
      "\tRead ontology /tmp/global2/kmurray/conda/envs/kdm/lib/perl5/site_perl/auto/share/dist/AGAT/so.obo:\n",
      "\t\t4 root terms, and 2596 total terms, and 1516 leaf terms\n",
      "\tFiltering ontology:\n",
      "\t\tWe found 1861 terms that are sequence_feature or is_a child of it.\n",
      "--------------------------------- parsing file ---------------------------------\n",
      "=> Number of line in file: 406094\n",
      "=> Number of comment lines: 0\n",
      "=> Fasta included: No\n",
      "=> Number of features lines: 406094\n",
      "=> Number of feature type (3rd column): 6\n",
      "\t* Level1: 1 => gene\n",
      "\t* level2: 1 => mRNA\n",
      "\t* level3: 4 => five_prime_UTR three_prime_UTR exon CDS\n",
      "\t* unknown: 0 => \n",
      "=> Version of the Bioperl GFF parser selected by AGAT: 3\n",
      "                  ------ End parsing (done in 45 second) ------                 \n",
      "\n",
      "\n",
      "                           ------ Start checks ------                           \n",
      "---------------------------- Check1: feature types -----------------------------\n",
      "----------------------------------- ontology -----------------------------------\n",
      "All feature types in agreement with the Ontology.\n",
      "------------------------------------- agat -------------------------------------\n",
      "AGAT can deal with all the encountered feature types (3rd column)\n",
      "------------------------------ done in 0 seconds -------------------------------\n",
      "\n",
      "------------------------------ Check2: duplicates ------------------------------\n",
      "None found\n",
      "------------------------------ done in 0 seconds -------------------------------\n",
      "\n",
      "-------------------------- Check3: sequential bucket ---------------------------\n",
      "Nothing to check as sequential bucket!\n",
      "------------------------------ done in 0 seconds -------------------------------\n",
      "\n",
      "--------------------------- Check4: l2 linked to l3 ----------------------------\n",
      "No problem found\n",
      "------------------------------ done in 1 seconds -------------------------------\n",
      "\n",
      "--------------------------- Check5: l1 linked to l2 ----------------------------\n",
      "4612 cases fixed where L2 features have parent features missing\n",
      "------------------------------ done in 0 seconds -------------------------------\n",
      "\n",
      "--------------------------- Check6: remove orphan l1 ---------------------------\n",
      "We remove only those not supposed to be orphan\n",
      "None found\n",
      "------------------------------ done in 0 seconds -------------------------------\n",
      "\n",
      "------------------------- Check7: all level3 locations -------------------------\n",
      "------------------------------ done in 8 seconds -------------------------------\n",
      "\n",
      "------------------------------ Check8: check cds -------------------------------\n",
      "No problem found\n",
      "------------------------------ done in 0 seconds -------------------------------\n",
      "\n",
      "----------------------------- Check9: check exons ------------------------------\n",
      "No exons created\n",
      "2662 exons locations modified that were wrong\n",
      "No supernumerary exons removed\n",
      "No level2 locations modified\n",
      "------------------------------ done in 6 seconds -------------------------------\n",
      "\n",
      "----------------------------- Check10: check utrs ------------------------------\n",
      "4 UTRs created that were missing\n",
      "18 UTRs locations modified that were wrong\n",
      "No supernumerary UTRs removed\n",
      "------------------------------ done in 3 seconds -------------------------------\n",
      "\n",
      "------------------------ Check11: all level2 locations -------------------------\n",
      "No problem found\n",
      "------------------------------ done in 6 seconds -------------------------------\n",
      "\n",
      "------------------------ Check12: all level1 locations -------------------------\n",
      "We fixed 2010 wrong level1 location cases\n",
      "------------------------------ done in 0 seconds -------------------------------\n",
      "\n",
      "---------------------- Check13: remove identical isoforms ----------------------\n",
      "None found\n",
      "------------------------------ done in 0 seconds -------------------------------\n",
      "                  ------ End checks (done in 24 second) ------                  \n",
      "\n",
      "\n",
      "GFF3 file parsed\n",
      "Fasta file parsed\n",
      "WARNING OmniscientTools _get_cds_start_phase: No phase found for the CDS by looking at the ORFs. All frames contain an internal stop codon, thus we cannot determine the correct phase. We will keep original stored phase information.\n",
      "WARNING OmniscientTools _get_cds_start_phase: No phase found for the CDS by looking at the ORFs. All frames contain an internal stop codon, thus we cannot determine the correct phase. We will keep original stored phase information.\n",
      "WARNING OmniscientTools _get_cds_start_phase: No phase found for the CDS by looking at the ORFs. All frames contain an internal stop codon, thus we cannot determine the correct phase. We will keep original stored phase information.\n",
      "WARNING OmniscientTools _get_cds_start_phase: No phase found for the CDS by looking at the ORFs. All frames contain an internal stop codon, thus we cannot determine the correct phase. We will keep original stored phase information.\n",
      "Formating output to GFF3\n",
      "Job done in 97 seconds\n"
     ]
    }
   ],
   "source": [
    "rm -f  output/at9852_hodgepodge-representative.phasefix.gff3 \n",
    "agat_sp_fix_cds_phases.pl -g output/at9852_hodgepodge-representative.gff3 -f ../final_scaffolds/at9852_linewrapped.fasta -o  output/at9852_hodgepodge-representative.phasefix.gff3 "
   ]
  },
  {
   "cell_type": "code",
   "execution_count": 4,
   "id": "5db3340b-f17e-4026-bc95-98cbbec16725",
   "metadata": {
    "tags": []
   },
   "outputs": [],
   "source": [
    "awk 'BEGIN{FS=OFS=\"\\t\"}$3 == \"gene\"{print $1, $4-1, $5, gensub(/ID=([^;]+).*/, \"\\\\1\", \"g\", $9)}' ../final/annotation/latest/at9852_hodgepodgemerged.representatives.gff3 \\\n",
    " | bedtools slop -b 100 -i - -g ../final_scaffolds/at9852.fasta.fai \\\n",
    " >output/all_genes_9852_slop_100.bed"
   ]
  },
  {
   "cell_type": "code",
   "execution_count": 6,
   "id": "181e630a-7219-4821-b45d-6d56da400cb1",
   "metadata": {
    "tags": []
   },
   "outputs": [
    {
     "name": "stdout",
     "output_type": "stream",
     "text": [
      "Using temporary file prefix: /ebio/scratch/kmurray/tmp/bcffilt/9094983c-c39c-4762-96af-af0f7835dbac. This WILL NOT be automatically cleaned!!\n",
      "chunkwise variant pipeline: 100%|██████| 26770/26770 [19:02<00:00, 23.44chunk/s]\n",
      "merge with cat: 100%|█████████████████| 26770/26770 [00:13<00:00, 1957.70file/s]\n"
     ]
    }
   ],
   "source": [
    "blsl vcfparallel \\\n",
    "    -o output/freebayes_at9852_ath_filt-q100-ac10-dp100-200k-only1k1g-csq_allgenes_csqtab.tsv \\\n",
    "    -R output/all_genes_9852_slop_100.bed \\\n",
    "    -T /ebio/scratch/kmurray/tmp/bcffilt/ \\\n",
    "    -f \"-S input/only_1k1g_samples.txt\" \\\n",
    "    --merge-with-cat \\\n",
    "    -c \"bcftools norm -N -m -any  /dev/stdin | bcftools csq -Ob0 --phase s --gff output/at9852_hodgepodge-representative.phasefix.gff3 --fasta ../final_scaffolds/at9852.fasta /dev/stdin | bcftools query -f '%CHROM\\t%POS\\t%POS\\t%ALT\\t%QUAL\\t%AF\\t%BCSQ\\n'\" \\\n",
    "    -t 128  \\\n",
    "    input/freebayes_at9852_ath_filt-q100-ac10-dp100-200k.vcf.gz"
   ]
  },
  {
   "cell_type": "code",
   "execution_count": 7,
   "id": "8b89393d-dd0b-400f-af94-1069b1f876fd",
   "metadata": {
    "tags": []
   },
   "outputs": [
    {
     "name": "stdout",
     "output_type": "stream",
     "text": [
      "total 785M\n",
      "drwxr-xr-x 2 kmurray ebio           4.0K Nov 18 15:06 ./\n",
      "drwxr-x--- 6 kmurray p-diffLines_20  327 Nov 18 15:05 ../\n",
      "-rw-r--r-- 1 kmurray ebio           1.2M Nov 18 14:46 all_genes_9852_slop_100.bed\n",
      "lrwxrwxrwx 1 kmurray ebio            208 Nov  7 15:12 at9852_hodgepodge-representative.gff3 -> ../../.git/annex/objects/7X/q4/SHA256E-s70159464--dd7d51737a1c87b6bb694bb46abe5148ea37e40f78513745fde1a48d4a6c74a6.gff3/SHA256E-s70159464--dd7d51737a1c87b6bb694bb46abe5148ea37e40f78513745fde1a48d4a6c74a6.gff3\n",
      "lrwxrwxrwx 1 kmurray ebio            208 Nov  7 15:19 at9852_hodgepodge-representative.phasefix.gff3 -> ../../.git/annex/objects/22/Qx/SHA256E-s71053444--18bb71dcb0b2ef58fd1e56b8a0a3b9bb725450ba9ee9fa22f247fe15dd959cec.gff3/SHA256E-s71053444--18bb71dcb0b2ef58fd1e56b8a0a3b9bb725450ba9ee9fa22f247fe15dd959cec.gff3\n",
      "-rw-r--r-- 1 kmurray ebio           602M Nov 18 15:06 freebayes_at9852_ath_filt-q100-ac10-dp100-200k-only1k1g-csq_allgenes_csqtab.tsv\n",
      "lrwxrwxrwx 1 kmurray ebio            206 Nov  7 16:26 freebayes_at9852_ath_filt-q100-ac10-dp100-200k-only1k1g-csq_onlyNLRs_csqtab_geneids.tsv -> ../../.git/annex/objects/wz/57/SHA256E-s17774513--51d190a22a5e5bc7dc816fdad9092ae263b0ca32beb31a69cd04c7adfd286a44.tsv/SHA256E-s17774513--51d190a22a5e5bc7dc816fdad9092ae263b0ca32beb31a69cd04c7adfd286a44.tsv\n",
      "lrwxrwxrwx 1 kmurray ebio            206 Nov  7 16:26 freebayes_at9852_ath_filt-q100-ac10-dp100-200k-only1k1g-csq_onlyNLRs_csqtab.tsv -> ../../.git/annex/objects/24/W7/SHA256E-s17032559--cb6def159c9ac882d987e00975f1aad3f0b87155a6db9f4e20ca9b2d9ad8cd39.tsv/SHA256E-s17032559--cb6def159c9ac882d987e00975f1aad3f0b87155a6db9f4e20ca9b2d9ad8cd39.tsv\n",
      "lrwxrwxrwx 1 kmurray ebio            204 Nov 16 13:19 summarised_csq_pergene.csv -> ../../.git/annex/objects/XG/V3/SHA256E-s5861389--3432e43b8209a6c4b167b23e10d6ed44e4303188119a3ab5e5e5edafde1364b2.csv/SHA256E-s5861389--3432e43b8209a6c4b167b23e10d6ed44e4303188119a3ab5e5e5edafde1364b2.csv\n",
      "lrwxrwxrwx 1 kmurray ebio            198 Nov  7 15:58 validated_nlrs_only_9852_slop100bp.bed -> ../../.git/annex/objects/G8/0M/SHA256E-s9328--0e489b79af4650368ec9cc975cf2d302859596f064c9685d0940b06e55866f79.bed/SHA256E-s9328--0e489b79af4650368ec9cc975cf2d302859596f064c9685d0940b06e55866f79.bed\n",
      "-rw-r--r-- 1 kmurray ebio           3.0K Nov  7 15:45 validated_nlrs_only_9852.txt\n"
     ]
    }
   ],
   "source": [
    "ls -lahF output/"
   ]
  },
  {
   "cell_type": "code",
   "execution_count": 69,
   "id": "868de3f8-dab1-4f2e-89af-835038768daa",
   "metadata": {
    "tags": []
   },
   "outputs": [],
   "source": [
    "bedtools intersect \\\n",
    "    -a ./output/validated_nlrs_only_9852_slop100bp.bed \\\n",
    "    -b output/freebayes_at9852_ath_filt-q100-ac10-dp100-200k-only1k1g-csq_onlyNLRs_csqtab.tsv \\\n",
    "    -loj \\\n",
    "    | awk -v 'OFS=\\t' '{print $5, $6, $8, $9, $10, $11, $4}' \\\n",
    "    > output/freebayes_at9852_ath_filt-q100-ac10-dp100-200k-only1k1g-csq_onlyNLRs_csqtab_geneids.tsv"
   ]
  },
  {
   "cell_type": "code",
   "execution_count": 70,
   "id": "b89b42b3-8cc7-4fba-bbdf-1534c4096369",
   "metadata": {
    "tags": []
   },
   "outputs": [
    {
     "name": "stdout",
     "output_type": "stream",
     "text": [
      "at9852_1_chr1\t3151589\tC\t5386.12\t0.0155675\t.\tat9852_G009400\n",
      "at9852_1_chr1\t3151591\tC\t5386.12\t0.00251088\t.\tat9852_G009400\n",
      "at9852_1_chr1\t3151613\tA\t489.192\t0.00181938\t.\tat9852_G009400\n",
      "at9852_1_chr1\t3151637\tA\t16241.1\t0.0129741\t.\tat9852_G009400\n",
      "at9852_1_chr1\t3151662\tC\t656307\t0.225697\t.\tat9852_G009400\n",
      "at9852_1_chr1\t3151662\t*\t656307\t.\t.\tat9852_G009400\n",
      "at9852_1_chr1\t3151671\tG\t656307\t0.274813\t.\tat9852_G009400\n",
      "at9852_1_chr1\t3151671\t*\t656307\t.\t.\tat9852_G009400\n",
      "at9852_1_chr1\t3151674\tA\t656307\t0.229096\t.\tat9852_G009400\n",
      "at9852_1_chr1\t3151674\t*\t656307\t.\t.\tat9852_G009400\n",
      "101617 output/freebayes_at9852_ath_filt-q100-ac10-dp100-200k-only1k1g-csq_onlyNLRs_csqtab_geneids.tsv\n"
     ]
    }
   ],
   "source": [
    "head output/freebayes_at9852_ath_filt-q100-ac10-dp100-200k-only1k1g-csq_onlyNLRs_csqtab_geneids.tsv\n",
    "wc -l output/freebayes_at9852_ath_filt-q100-ac10-dp100-200k-only1k1g-csq_onlyNLRs_csqtab_geneids.tsv"
   ]
  },
  {
   "cell_type": "code",
   "execution_count": null,
   "id": "c533f9e9-2044-4a0a-95b7-4885f1855927",
   "metadata": {},
   "outputs": [],
   "source": []
  }
 ],
 "metadata": {
  "kernelspec": {
   "display_name": "Bash",
   "language": "bash",
   "name": "bash"
  },
  "language_info": {
   "codemirror_mode": "shell",
   "file_extension": ".sh",
   "mimetype": "text/x-sh",
   "name": "bash"
  },
  "widgets": {
   "application/vnd.jupyter.widget-state+json": {
    "state": {},
    "version_major": 2,
    "version_minor": 0
   }
  }
 },
 "nbformat": 4,
 "nbformat_minor": 5
}
