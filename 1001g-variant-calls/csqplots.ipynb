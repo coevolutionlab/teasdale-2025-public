{
 "cells": [
  {
   "cell_type": "code",
   "execution_count": null,
   "id": "f3f4823d-b074-4d23-b1b3-3a73f16f94df",
   "metadata": {
    "tags": []
   },
   "outputs": [],
   "source": [
    "library(tidyverse)"
   ]
  },
  {
   "cell_type": "code",
   "execution_count": null,
   "id": "9e3452ed-f71f-405b-8dd4-51d6150390d7",
   "metadata": {
    "tags": []
   },
   "outputs": [],
   "source": [
    "csq = read_tsv(\"output/freebayes_at9852_ath_filt-q100-ac10-dp100-200k-only1k1g-csq_onlyNLRs_csqtab_geneids.tsv\",\n",
    "              col_names=c(\"chrom\", \"pos\", \"alt\", \"qual\", \"af\", \"bcsq\", \"gene_id\"), na=\".\")"
   ]
  },
  {
   "cell_type": "code",
   "execution_count": null,
   "id": "e25425b9-d6cd-4e1e-a7f4-275df66c5860",
   "metadata": {
    "tags": []
   },
   "outputs": [],
   "source": [
    "glimpse(csq)"
   ]
  },
  {
   "cell_type": "code",
   "execution_count": null,
   "id": "5d9d8625-83ee-4e53-93ec-55568a181766",
   "metadata": {
    "tags": []
   },
   "outputs": [],
   "source": [
    "csq2 = csq %>%\n",
    "    filter(!is.na(bcsq), !grepl(\"^@\", bcsq)) %>%\n",
    "    mutate(bcsq=sub(\",.*\", \"\", bcsq)) %>%\n",
    "    separate_wider_delim(bcsq, \"|\", names=c(\"csqtype\", \"gene\", \"transcript\", \"genetype\", \"strand\", \"aa\", \"cds\"), too_few=\"debug\", too_many=\"debug\") %>%\n",
    "    select(gene_id, chrom, pos, alt, qual, af, csqtype) %>%\n",
    "    mutate(csqtype=sub(\"&.*\", \"\", csqtype)) %>%\n",
    "    filter(!grepl(\"^\\\\*\", csqtype)) %>%\n",
    "    group_by(gene_id) %>%\n",
    "    mutate(genepos = (pos - min(pos)) / ( max(pos)-min(pos)))\n",
    "write_csv(csq2, \"output/summarised_csq_pergene.csv\", na=\"\")"
   ]
  },
  {
   "cell_type": "code",
   "execution_count": null,
   "id": "deb0eb81-4c25-4770-9bb9-5712114ef30a",
   "metadata": {
    "tags": []
   },
   "outputs": [],
   "source": [
    "table(csq2$csqtype)"
   ]
  },
  {
   "cell_type": "code",
   "execution_count": null,
   "id": "c61ab405-2a1a-468a-b77d-7fdf09385844",
   "metadata": {
    "tags": []
   },
   "outputs": [],
   "source": [
    "ggplot(csq2, aes(x=genepos, y=af)) +\n",
    "    geom_point(aes(colour=gene_id)) +\n",
    "    guides(colour=guide_none()) +\n",
    "    theme_bw() +\n",
    "    theme()"
   ]
  },
  {
   "cell_type": "code",
   "execution_count": null,
   "id": "b4ab9d1b-6ad7-4fc7-a869-4bee5898f958",
   "metadata": {
    "tags": []
   },
   "outputs": [],
   "source": [
    "ggplot(csq2, aes(x=genepos, y=af)) +\n",
    "    geom_point(aes(colour=csqtype)) +\n",
    "    labs(x=\"Relative Gene Position\", y=\"Allele Frequency\", colour=\"Variant\\nEffect\")+\n",
    "    theme_bw() +\n",
    "    theme()"
   ]
  },
  {
   "cell_type": "code",
   "execution_count": null,
   "id": "c7c1f77c-ffa6-470a-9969-305714625e76",
   "metadata": {
    "tags": []
   },
   "outputs": [],
   "source": [
    "csq2 %>%\n",
    "    filter(csqtype %in% c(\"frameshift\", \"stop_gained\", \"feature_elongation\", \"start_lost\", \"stop_gained\", \"stop_lost\"))%>%\n",
    "ggplot(aes(x=genepos, y=af)) +\n",
    "    geom_point(aes(colour=csqtype)) +\n",
    "    labs(x=\"Relative Gene Position\", y=\"Allele Frequency\", colour=\"Variant\\nEffect\")+\n",
    "    theme_bw() +\n",
    "    theme()"
   ]
  },
  {
   "cell_type": "code",
   "execution_count": null,
   "id": "9908262c-67ff-459a-bc97-f9c59af244c3",
   "metadata": {
    "tags": []
   },
   "outputs": [],
   "source": [
    "csq2 %>%\n",
    "    filter(csqtype %in% c(\"frameshift\", \"stop_gained\", \"feature_elongation\", \"start_lost\", \"stop_gained\", \"stop_lost\"))%>%\n",
    "    filter(af>0.01) %>%\n",
    "ggplot(aes(x=genepos, y=af)) +\n",
    "    geom_point(aes(colour=csqtype)) +\n",
    "    labs(x=\"Relative Gene Position\", y=\"Allele Frequency\", colour=\"Variant\\nEffect\")+\n",
    "    theme_bw() +\n",
    "    theme()"
   ]
  },
  {
   "cell_type": "code",
   "execution_count": null,
   "id": "f41d7c11-0641-446a-a44f-9624889c5128",
   "metadata": {
    "tags": []
   },
   "outputs": [],
   "source": [
    "library(ggridges)"
   ]
  },
  {
   "cell_type": "code",
   "execution_count": null,
   "id": "3c0f7124-e2e9-4e5c-8e82-f805c3f53847",
   "metadata": {},
   "outputs": [],
   "source": [
    "gcons = guide_legend(title=\"Consequence\")\n",
    "csq2 %>%\n",
    "ggplot(aes(x=af, y=csqtype)) +\n",
    "    geom_density_ridges(aes(fill=csqtype, colour=csqtype), scale=0.8, rel_min_height = 0.01, panel_scaling = F) +\n",
    "    labs(y=\"Consequence Type\",x=\"Allele Frequency\") +\n",
    "    guides(fill=gcons, colour=gcons) +\n",
    "    theme_bw() +\n",
    "    theme()"
   ]
  }
 ],
 "metadata": {
  "kernelspec": {
   "display_name": "R",
   "language": "R",
   "name": "ir"
  },
  "language_info": {
   "codemirror_mode": "r",
   "file_extension": ".r",
   "mimetype": "text/x-r-source",
   "name": "R",
   "pygments_lexer": "r",
   "version": "3.6.3"
  },
  "widgets": {
   "application/vnd.jupyter.widget-state+json": {
    "state": {},
    "version_major": 2,
    "version_minor": 0
   }
  }
 },
 "nbformat": 4,
 "nbformat_minor": 5
}
