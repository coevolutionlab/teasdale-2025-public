{
 "cells": [
  {
   "cell_type": "code",
   "execution_count": 1,
   "id": "0f73700e-9fbe-4113-812e-63fdfba40ff3",
   "metadata": {},
   "outputs": [],
   "source": [
    "conda activate dl20-orthogrouping"
   ]
  },
  {
   "cell_type": "code",
   "execution_count": 5,
   "id": "70f5d615-a208-4b2f-a6de-c7f1ab85fd23",
   "metadata": {},
   "outputs": [],
   "source": [
    "mkdir -p output/05_fixed_at9879_augustus_annotation\n",
    "\n",
    "grep \"at9879_1_chr1\" output/02_annotation/01_original-annotation-merged/at9879.augustus-v2.3.gff3 >> output/05_fixed_at9879_augustus_annotation/at9879_augustus_not_liftoff.gff3\n",
    "grep \"at9879_1_chr3\" output/02_annotation/01_original-annotation-merged/at9879.augustus-v2.3.gff3 >> output/05_fixed_at9879_augustus_annotation/at9879_augustus_not_liftoff.gff3\n",
    "grep \"at9879_1_chr4\" output/02_annotation/01_original-annotation-merged/at9879.augustus-v2.3.gff3 >> output/05_fixed_at9879_augustus_annotation/at9879_augustus_not_liftoff.gff3\n",
    "grep \"at9879_1_chr5\" output/02_annotation/01_original-annotation-merged/at9879.augustus-v2.3.gff3 >> output/05_fixed_at9879_augustus_annotation/at9879_augustus_not_liftoff.gff3"
   ]
  },
  {
   "cell_type": "code",
   "execution_count": 8,
   "id": "9eb2756f-1dd5-4485-9afc-aa40f149e9b3",
   "metadata": {},
   "outputs": [],
   "source": [
    "grep \"at9879_1_chr2\" output/02_annotation/01_original-annotation-merged/at9879.augustus-v2.3.gff3 > output/05_fixed_at9879_augustus_annotation/at9879_augustus_original_chr2.gff3"
   ]
  },
  {
   "cell_type": "code",
   "execution_count": 9,
   "id": "2c19258f-89a5-4597-9135-91417422da6c",
   "metadata": {},
   "outputs": [],
   "source": [
    "cat output/05_fixed_at9879_augustus_annotation/at9879_augustus_not_liftoff.gff3 output/05_fixed_at9879_augustus_annotation/at9879_augustus_original_chr2_second_half.gff3 > output/05_fixed_at9879_augustus_annotation/at9879_augustus_not_liftoff_with_good_half_chr2.gff3"
   ]
  },
  {
   "cell_type": "code",
   "execution_count": 17,
   "id": "3654a21a-d317-4824-96ff-32fa0d845faf",
   "metadata": {},
   "outputs": [
    {
     "name": "stdout",
     "output_type": "stream",
     "text": [
      "[M::mm_idx_gen::1.908*1.26] collected minimizers\n",
      "[M::mm_idx_gen::2.200*1.49] sorted minimizers\n",
      "[M::main::2.200*1.49] loaded/built the index for 5 target sequence(s)\n",
      "[M::mm_mapopt_update::2.317*1.46] mid_occ = 100\n",
      "[M::mm_idx_stat] kmer size: 19; skip: 19; is_hpc: 0; #seq: 5\n",
      "[M::mm_idx_stat::2.397*1.45] distinct minimizers: 10974725 (95.26% are singletons); average occurrences: 1.294; average spacing: 9.913\n",
      "[M::worker_pipeline::39.137*2.28] mapped 5 sequences\n",
      "[M::main] Version: 2.17-r941\n",
      "[M::main] CMD: minimap2 -cx asm5 --cs output/01_assembly/03_inversion_fixed/at9879.fasta output/01_assembly/01_pansn-named/at9879.scaffolds-v2.3.fasta\n",
      "[M::main] Real time: 39.152 sec; CPU: 89.333 sec; Peak RSS: 2.503 GB\n"
     ]
    }
   ],
   "source": [
    "#create alignment for chain file\n",
    "minimap2 -cx asm5 --cs output/01_assembly/03_inversion_fixed/at9879.fasta \\\n",
    "    output/01_assembly/01_pansn-named/at9879.scaffolds-v2.3.fasta\\\n",
    "    > at9879_PAF_FILE.paf"
   ]
  },
  {
   "cell_type": "code",
   "execution_count": 18,
   "id": "27f2df13-7b4c-46e0-a760-3073f9640fa0",
   "metadata": {},
   "outputs": [],
   "source": [
    "mv at9879_PAF_FILE.paf tmp/at9879_PAF_FILE.paf"
   ]
  },
  {
   "cell_type": "code",
   "execution_count": 19,
   "id": "f95f1ca7-7d89-4b5e-bcbc-621ba8d01553",
   "metadata": {},
   "outputs": [],
   "source": [
    "../../../../software/transanno-x86_64-unknown-linux-musl-v0.3.0/transanno minimap2chain \\\n",
    "    tmp/at9879_PAF_FILE.paf \\\n",
    "    --output tmp/at9879_CHAINFILE.chain"
   ]
  },
  {
   "cell_type": "code",
   "execution_count": 24,
   "id": "2ec38691-a6e3-42a2-a709-50c62b72893c",
   "metadata": {},
   "outputs": [
    {
     "name": "stdout",
     "output_type": "stream",
     "text": [
      "thread 'main' panicked at 'index out of bounds: the len is 0 but the index is 0', /home/runner/work/transanno/transanno/liftover-rs/src/genelift/mod.rs:469:12\n",
      "note: run with `RUST_BACKTRACE=1` environment variable to display a backtrace\n",
      "grep: write error\n"
     ]
    },
    {
     "ename": "",
     "evalue": "1",
     "output_type": "error",
     "traceback": []
    }
   ],
   "source": [
    "## this failed\n",
    "\n",
    "../../../../software/transanno-x86_64-unknown-linux-musl-v0.3.0/transanno liftgene \\\n",
    "    <(grep \"at9879_1_chr2\" output/02_annotation/01_original-annotation-merged/at9879.augustus-v2.3.gff3) \\\n",
    "    --chain tmp/at9879_CHAINFILE.chain \\\n",
    "    --failed at9879_FAILED.gtf.gz \\\n",
    "    --output at9879_SUCCEEDED.gtf.gz"
   ]
  },
  {
   "cell_type": "code",
   "execution_count": 25,
   "id": "cc702e78-2a68-40a0-bfe6-c4177d25fee4",
   "metadata": {},
   "outputs": [
    {
     "name": "stdout",
     "output_type": "stream",
     "text": [
      "66892\n"
     ]
    }
   ],
   "source": [
    "grep \"at9879_1_chr2\" output/02_annotation/01_original-annotation-merged/at9879.augustus-v2.3.gff3 "
   ]
  },
  {
   "cell_type": "code",
   "execution_count": 27,
   "id": "ebbf36a6-6e29-4182-b360-d066d3690269",
   "metadata": {},
   "outputs": [
    {
     "name": "stdout",
     "output_type": "stream",
     "text": [
      "Reading liftover chains\n",
      "Mapping coordinates\n",
      "WARNING: -gff is not recommended.\n",
      "Use 'ldHgGene -out=<file.gp>' and then 'liftOver -genePred <file.gp>'\n"
     ]
    }
   ],
   "source": [
    "../../../../software/liftOver output/05_fixed_at9879_augustus_annotation/at9879_augustus_original_chr2.gff3\\\n",
    "   -gff \\\n",
    "   tmp/at9879_CHAINFILE.chain \\\n",
    "   tmp/at9879_chr_augustus_liftover.gff3 \\\n",
    "   tmp/at9879_chr_augustus_liftover_unmapped.gff3"
   ]
  },
  {
   "cell_type": "code",
   "execution_count": 31,
   "id": "24578c45-55b0-42b4-93f1-3916779198d0",
   "metadata": {},
   "outputs": [
    {
     "name": "stdout",
     "output_type": "stream",
     "text": [
      "66892\n"
     ]
    }
   ],
   "source": [
    "cat tmp/at9879_chr_augustus_liftover.gff3 | wc -l"
   ]
  },
  {
   "cell_type": "code",
   "execution_count": 32,
   "id": "126682db-8359-4e50-aeeb-0d7f21602eba",
   "metadata": {},
   "outputs": [
    {
     "name": "stdout",
     "output_type": "stream",
     "text": [
      "##sequence-region   at9879_1_chr2 7378 24774710\n",
      "# ----- prediction on sequence number 2 (length = 24779077, name = at9879_1_chr2) -----\n",
      "at9879_1_chr2\tAUGUSTUS\tgene\t7378\t8211\t1\t-\t.\tID=g7869\n",
      "at9879_1_chr2\tAUGUSTUS\ttranscript\t7378\t8211\t1\t-\t.\tID=g7869.t1;Parent=g7869\n",
      "at9879_1_chr2\tAUGUSTUS\tstop_codon\t7378\t7380\t.\t-\t0\tParent=g7869.t1\n",
      "at9879_1_chr2\tAUGUSTUS\tCDS\t7378\t8211\t1\t-\t0\tID=g7869.t1.cds;Parent=g7869.t1\n",
      "at9879_1_chr2\tAUGUSTUS\tstart_codon\t8209\t8211\t.\t-\t0\tParent=g7869.t1\n",
      "at9879_1_chr2\tAUGUSTUS\tgene\t10404\t13985\t1\t-\t.\tID=g7870\n",
      "at9879_1_chr2\tAUGUSTUS\ttranscript\t10404\t13985\t1\t-\t.\tID=g7870.t1;Parent=g7870\n",
      "at9879_1_chr2\tAUGUSTUS\tstop_codon\t10404\t10406\t.\t-\t0\tParent=g7870.t1\n"
     ]
    }
   ],
   "source": [
    "head output/05_fixed_at9879_augustus_annotation/at9879_augustus_original_chr2.gff3"
   ]
  },
  {
   "cell_type": "code",
   "execution_count": 33,
   "id": "dba74c7b-7240-4a64-a39c-579c94192bd1",
   "metadata": {},
   "outputs": [
    {
     "name": "stdout",
     "output_type": "stream",
     "text": [
      "at9879_1_chr2\tAUGUSTUS\tgene\t3300079\t3300912\t1\t+\t.\tID=\u001b[01;31m\u001b[Kg7869\u001b[m\u001b[K\n",
      "at9879_1_chr2\tAUGUSTUS\ttranscript\t3300079\t3300912\t1\t+\t.\tID=\u001b[01;31m\u001b[Kg7869\u001b[m\u001b[K.t1;Parent=\u001b[01;31m\u001b[Kg7869\u001b[m\u001b[K\n",
      "at9879_1_chr2\tAUGUSTUS\tstop_codon\t3300910\t3300912\t.\t+\t0\tParent=\u001b[01;31m\u001b[Kg7869\u001b[m\u001b[K.t1\n",
      "at9879_1_chr2\tAUGUSTUS\tCDS\t3300079\t3300912\t1\t+\t0\tID=\u001b[01;31m\u001b[Kg7869\u001b[m\u001b[K.t1.cds;Parent=\u001b[01;31m\u001b[Kg7869\u001b[m\u001b[K.t1\n",
      "at9879_1_chr2\tAUGUSTUS\tstart_codon\t3300079\t3300081\t.\t+\t0\tParent=\u001b[01;31m\u001b[Kg7869\u001b[m\u001b[K.t1\n"
     ]
    }
   ],
   "source": [
    "grep \"g7869\" tmp/at9879_chr_augustus_liftover.gff3"
   ]
  },
  {
   "cell_type": "code",
   "execution_count": 34,
   "id": "6f49fa5e-107e-47eb-876a-479d76ef78e4",
   "metadata": {},
   "outputs": [],
   "source": [
    "cat tmp/at9879_chr_augustus_liftover.gff3 \\\n",
    "   output/05_fixed_at9879_augustus_annotation/at9879_augustus_not_liftoff.gff3 \\\n",
    "   > output/05_fixed_at9879_augustus_annotation/at9879_augustus_chr2_liftover.gff3"
   ]
  },
  {
   "cell_type": "code",
   "execution_count": 35,
   "id": "4063dff7-63e6-49c0-b27d-87bafadd7464",
   "metadata": {},
   "outputs": [
    {
     "name": "stdout",
     "output_type": "stream",
     "text": [
      "32643\n"
     ]
    }
   ],
   "source": [
    "grep \"gene\" output/05_fixed_at9879_augustus_annotation/at9879_augustus_chr2_liftover.gff3 | wc -l"
   ]
  },
  {
   "cell_type": "code",
   "execution_count": 48,
   "id": "137436ad-0751-4645-b993-7f8fdbb4ff15",
   "metadata": {},
   "outputs": [
    {
     "name": "stdout",
     "output_type": "stream",
     "text": [
      "0\n"
     ]
    }
   ],
   "source": [
    "grep 'AUGUSTUS_gene' output/02_annotation/01_original-annotation-merged/at9879.augustus-v2.3.gff3 | wc -l"
   ]
  },
  {
   "cell_type": "code",
   "execution_count": 49,
   "id": "6a8fb6ee-90ae-42a0-8f50-dafca17dfa22",
   "metadata": {},
   "outputs": [],
   "source": [
    "grep \"at9879_1_chr1\" output/02_annotation/01_original-annotation-merged/at9879.augustus-v2.3.gff3 >> tmp/at9879_augustus_not_liftoff_all.gff3\n",
    "grep \"at9879_1_chr2\" output/02_annotation/01_original-annotation-merged/at9879.augustus-v2.3.gff3 >> tmp/at9879_augustus_not_liftoff_all.gff3\n",
    "grep \"at9879_1_chr3\" output/02_annotation/01_original-annotation-merged/at9879.augustus-v2.3.gff3 >> tmp/at9879_augustus_not_liftoff_all.gff3\n",
    "grep \"at9879_1_chr4\" output/02_annotation/01_original-annotation-merged/at9879.augustus-v2.3.gff3 >> tmp/at9879_augustus_not_liftoff_all.gff3\n",
    "grep \"at9879_1_chr5\" output/02_annotation/01_original-annotation-merged/at9879.augustus-v2.3.gff3 >> tmp/at9879_augustus_not_liftoff_all.gff3"
   ]
  },
  {
   "cell_type": "code",
   "execution_count": 50,
   "id": "875130a5-6a39-47cf-8fa8-79b3ae29d8a8",
   "metadata": {},
   "outputs": [
    {
     "name": "stdout",
     "output_type": "stream",
     "text": [
      "32643\n"
     ]
    }
   ],
   "source": [
    "grep \"gene\" tmp/at9879_augustus_not_liftoff_all.gff3 | wc -l"
   ]
  },
  {
   "cell_type": "code",
   "execution_count": null,
   "id": "8a3fc6cb-cc43-4c72-a618-fba7388eebc7",
   "metadata": {},
   "outputs": [],
   "source": [
    "../assembly-and-annotation/output/05_fixed_at9879_augustus_annotation/at9879_augustus_chr2_liftover.gff3"
   ]
  }
 ],
 "metadata": {
  "kernelspec": {
   "display_name": "Bash",
   "language": "bash",
   "name": "bash"
  },
  "language_info": {
   "codemirror_mode": "shell",
   "file_extension": ".sh",
   "mimetype": "text/x-sh",
   "name": "bash"
  }
 },
 "nbformat": 4,
 "nbformat_minor": 5
}
