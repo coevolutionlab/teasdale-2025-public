{
 "cells": [
  {
   "cell_type": "markdown",
   "id": "671b8cc4-5b63-463a-9a9b-37d224d5d499",
   "metadata": {},
   "source": [
    "# 09 Exonerate test"
   ]
  },
  {
   "cell_type": "code",
   "execution_count": 1,
   "id": "9e8f4216-8414-4ab8-ab63-32251091a2a6",
   "metadata": {},
   "outputs": [],
   "source": [
    "conda activate dl20-exonerate"
   ]
  },
  {
   "cell_type": "markdown",
   "id": "b29831ba-2b39-4b11-bbd0-2c629930f1ce",
   "metadata": {},
   "source": [
    "Direct from the exonerate man page:\n",
    "\n",
    "\n",
    "Aligning a protein to genomic sequence\n",
    "\n",
    "Similarly, it is possible to align a protein sequence to the genome, (similar to GeneWise, but with heuristics).\n",
    "\n",
    "    exonerate --model protein2genome query.fasta target.fasta\n",
    "\n",
    "This model will allow introns in the alignment, but also allow frameshifts, and exon phase changes when a codon is split by an intron."
   ]
  },
  {
   "cell_type": "code",
   "execution_count": null,
   "id": "5a75c7c2-8da5-470a-87f9-717ecb09f18c",
   "metadata": {},
   "outputs": [],
   "source": [
    "exonerate --model protein2genome \\\n",
    "    --showtargetgff TRUE\\\n",
    "    input/max-v2.3-data-freeze/2.3_data_freeze_hifiasm/2_annotation/3_orthofinder/2_augustusProteinFasta/at6137.protein.fasta \\\n",
    "    output/01_assembly/01_pansn-named/at6137.scaffolds-v2.3.fasta \\\n",
    "    > testt_tmp.gff"
   ]
  },
  {
   "cell_type": "markdown",
   "id": "c45926a8-1d4a-48d4-9b0a-f974ae46c7a0",
   "metadata": {},
   "source": [
    "# liftoff intersect code"
   ]
  },
  {
   "cell_type": "code",
   "execution_count": 2,
   "id": "e461339d-2ce0-4bef-a078-9b52fcf69994",
   "metadata": {},
   "outputs": [],
   "source": [
    "dl20=(\n",
    "at6137 at6923 at6929 at7143\n",
    "at8285 at9104 at9336 at9503\n",
    "at9578 at9744 at9762 at9806\n",
    "at9830 at9847 at9852 at9879\n",
    "at9883 at9900\n",
    ")"
   ]
  },
  {
   "cell_type": "code",
   "execution_count": 3,
   "id": "4f13b7b2-d81d-409b-8519-38f1dd597439",
   "metadata": {},
   "outputs": [],
   "source": [
    "for accession in \"${dl20[@]}\"; do  \n",
    "    bedtools intersect -loj        \\\n",
    "    -a output/01_assembly/01_pansn-named/${accession}.liftoff-v2.3.gff        \\\n",
    "    -b output/01_assembly/01_pansn-named/${accession}.augustus-v2.3.gff3        \\\n",
    "    > tmp/01_assembly/02_masked/te_annotations_outside_liftoff_genes_merged_with_liftoff_genes/liftoff_intersect/${accession}_intersect_augustus_and_liftoff_loj.txt \n",
    " done\n"
   ]
  },
  {
   "cell_type": "code",
   "execution_count": 4,
   "id": "09ebe5e8-5ab7-46c2-b0b0-761393fb2d79",
   "metadata": {},
   "outputs": [],
   "source": [
    "for accession in \"${dl20[@]}\"; do  \n",
    "    for sample in $(cat input/Rgenes_with_annalena.list)\n",
    "     do\n",
    "         grep ${sample} tmp/01_assembly/02_masked/te_annotations_outside_liftoff_genes_merged_with_liftoff_genes/liftoff_intersect/${accession}_intersect_augustus_and_liftoff_loj.txt \\\n",
    "         >> tmp/01_assembly/02_masked/te_annotations_outside_liftoff_genes_merged_with_liftoff_genes/liftoff_intersect/${accession}_intersect_augustus_and_liftoff_loj_NLRs.txt\n",
    "     done\n",
    " done"
   ]
  },
  {
   "cell_type": "code",
   "execution_count": 5,
   "id": "71e97908-e6d3-434a-9ff7-8ba121541533",
   "metadata": {},
   "outputs": [
    {
     "name": "stdout",
     "output_type": "stream",
     "text": [
      "at6137_1_chr1\tLiftoff\tmRNA\t3127675\t3128249\t.\t+\t.\tID=AT1G09665.1;Parent=AT1G09665;Name=AT1G09665.1;Index=1;extra_copy_number=0\tat6137_1_chr1\tAUGUSTUS\tgene\t3127864\t3128456\t0.74\t+\t.\tID=g896\n",
      "at6137_1_chr1\tLiftoff\tmRNA\t3127675\t3128249\t.\t+\t.\tID=AT1G09665.1;Parent=AT1G09665;Name=AT1G09665.1;Index=1;extra_copy_number=0\tat6137_1_chr1\tAUGUSTUS\ttranscript\t3127864\t3128456\t0.74\t+\t.\tID=g896.t1;Parent=g896\n",
      "at6137_1_chr1\tLiftoff\tmRNA\t3127675\t3128249\t.\t+\t.\tID=AT1G09665.1;Parent=AT1G09665;Name=AT1G09665.1;Index=1;extra_copy_number=0\tat6137_1_chr1\tAUGUSTUS\tstart_codon\t3127864\t3127866\t.\t+\t0\tParent=g896.t1\n",
      "at6137_1_chr1\tLiftoff\tmRNA\t3127675\t3128249\t.\t+\t.\tID=AT1G09665.1;Parent=AT1G09665;Name=AT1G09665.1;Index=1;extra_copy_number=0\tat6137_1_chr1\tAUGUSTUS\tintron\t3128136\t3128392\t0.92\t+\t.\tParent=g896.t1\n",
      "at6137_1_chr1\tLiftoff\tmRNA\t3127675\t3128249\t.\t+\t.\tID=AT1G09665.1;Parent=AT1G09665;Name=AT1G09665.1;Index=1;extra_copy_number=0\tat6137_1_chr1\tAUGUSTUS\tCDS\t3127864\t3128135\t0.77\t+\t0\tID=g896.t1.cds;Parent=g896.t1\n",
      "at6137_1_chr1\tLiftoff\texon\t3127675\t3128135\t.\t+\t.\tParent=AT1G09665.1;extra_copy_number=0\tat6137_1_chr1\tAUGUSTUS\tgene\t3127864\t3128456\t0.74\t+\t.\tID=g896\n",
      "at6137_1_chr1\tLiftoff\texon\t3127675\t3128135\t.\t+\t.\tParent=AT1G09665.1;extra_copy_number=0\tat6137_1_chr1\tAUGUSTUS\ttranscript\t3127864\t3128456\t0.74\t+\t.\tID=g896.t1;Parent=g896\n",
      "at6137_1_chr1\tLiftoff\texon\t3127675\t3128135\t.\t+\t.\tParent=AT1G09665.1;extra_copy_number=0\tat6137_1_chr1\tAUGUSTUS\tstart_codon\t3127864\t3127866\t.\t+\t0\tParent=g896.t1\n",
      "at6137_1_chr1\tLiftoff\texon\t3127675\t3128135\t.\t+\t.\tParent=AT1G09665.1;extra_copy_number=0\tat6137_1_chr1\tAUGUSTUS\tCDS\t3127864\t3128135\t0.77\t+\t0\tID=g896.t1.cds;Parent=g896.t1\n",
      "at6137_1_chr1\tLiftoff\texon\t3128213\t3128249\t.\t+\t.\tParent=AT1G09665.1;extra_copy_number=0\tat6137_1_chr1\tAUGUSTUS\tgene\t3127864\t3128456\t0.74\t+\t.\tID=g896\n"
     ]
    }
   ],
   "source": [
    "head tmp/01_assembly/02_masked/te_annotations_outside_liftoff_genes_merged_with_liftoff_genes/liftoff_intersect/at6137_intersect_augustus_and_liftoff_loj_NLRs.txt"
   ]
  },
  {
   "cell_type": "code",
   "execution_count": 17,
   "id": "e5d71c59-a47c-48da-a31e-a7866725862d",
   "metadata": {},
   "outputs": [],
   "source": [
    "for accession in \"${dl20[@]}\"; do  \n",
    "    grep \"AUGUSTUS$(printf '\\t')gene\" tmp/01_assembly/02_masked/te_annotations_outside_liftoff_genes_merged_with_liftoff_genes/liftoff_intersect/${accession}_intersect_augustus_and_liftoff_loj_NLRs.txt \\\n",
    "         > tmp/01_assembly/02_masked/te_annotations_outside_liftoff_genes_merged_with_liftoff_genes/liftoff_intersect/${accession}_intersect_augustus_and_liftoff_loj_NLRs_gene.txt\n",
    " done"
   ]
  },
  {
   "cell_type": "code",
   "execution_count": 43,
   "id": "a14c4309-ecc2-407c-a274-2fbd888cc00e",
   "metadata": {},
   "outputs": [
    {
     "name": "stdout",
     "output_type": "stream",
     "text": [
      "at6137\t1\t165\n",
      "at6137\t2\t15\n",
      "at6137\t3\t1\n",
      "at6923\t1\t174\n",
      "at6923\t2\t10\n",
      "at6923\t4\t1\n",
      "at6923\t3\t2\n",
      "at6929\t1\t158\n",
      "at6929\t2\t19\n",
      "at6929\t3\t2\n",
      "at7143\t1\t162\n",
      "at7143\t2\t16\n",
      "at8285\t1\t159\n",
      "at8285\t2\t20\n",
      "at8285\t3\t2\n",
      "at9104\t1\t171\n",
      "at9104\t2\t15\n",
      "at9104\t3\t2\n",
      "at9336\t1\t165\n",
      "at9336\t2\t15\n",
      "at9336\t3\t1\n",
      "at9503\t1\t165\n",
      "at9503\t2\t19\n",
      "at9503\t3\t1\n",
      "at9578\t1\t163\n",
      "at9578\t2\t17\n",
      "at9578\t3\t4\n",
      "at9744\t1\t172\n",
      "at9744\t2\t14\n",
      "at9744\t3\t3\n",
      "at9762\t1\t166\n",
      "at9762\t2\t16\n",
      "at9762\t3\t2\n",
      "at9806\t1\t173\n",
      "at9806\t3\t1\n",
      "at9806\t2\t13\n",
      "at9830\t1\t164\n",
      "at9830\t2\t9\n",
      "at9830\t4\t1\n",
      "at9830\t3\t2\n",
      "at9847\t1\t171\n",
      "at9847\t2\t17\n",
      "at9847\t3\t1\n",
      "at9852\t1\t170\n",
      "at9852\t2\t15\n",
      "at9852\t4\t1\n",
      "at9852\t3\t4\n",
      "at9879\t1\t158\n",
      "at9879\t2\t15\n",
      "at9879\t3\t1\n",
      "at9883\t1\t173\n",
      "at9883\t2\t18\n",
      "at9883\t3\t1\n",
      "at9883\t4\t1\n",
      "at9900\t1\t161\n",
      "at9900\t2\t16\n"
     ]
    }
   ],
   "source": [
    "for accession in \"${dl20[@]}\"; do \n",
    "  python3 src/liftoff_overlap_processor.py \\\n",
    "      -g tmp/01_assembly/02_masked/te_annotations_outside_liftoff_genes_merged_with_liftoff_genes/liftoff_intersect/${accession}_intersect_augustus_and_liftoff_loj_NLRs_gene.txt \\\n",
    "      -a ${accession} \\\n",
    "      > tmp/01_assembly/02_masked/te_annotations_outside_liftoff_genes_merged_with_liftoff_genes/liftoff_intersect/${accession}_intersect_augustus_and_liftoff_loj_NLRs_gene_summary.txt\n",
    "done"
   ]
  }
 ],
 "metadata": {
  "kernelspec": {
   "display_name": "Bash",
   "language": "bash",
   "name": "bash"
  },
  "language_info": {
   "codemirror_mode": "shell",
   "file_extension": ".sh",
   "mimetype": "text/x-sh",
   "name": "bash"
  }
 },
 "nbformat": 4,
 "nbformat_minor": 5
}
