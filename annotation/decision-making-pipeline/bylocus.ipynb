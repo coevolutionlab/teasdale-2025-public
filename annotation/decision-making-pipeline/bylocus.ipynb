{
 "cells": [
  {
   "cell_type": "code",
   "execution_count": 1,
   "id": "64d5873a-d8e3-45da-888e-1c48cfb72334",
   "metadata": {},
   "outputs": [],
   "source": [
    "from intervaltree import IntervalTree\n",
    "from collections import defaultdict\n",
    "from gffuuu.gffparse import gff_heirarchy, gffInfoFields\n",
    "import json\n",
    "from pprint import pprint"
   ]
  },
  {
   "cell_type": "code",
   "execution_count": 91,
   "id": "af2fde9f-f5c2-4a8b-9656-2330f1bc69f3",
   "metadata": {},
   "outputs": [],
   "source": [
    "loci = defaultdict(lambda: defaultdict(IntervalTree))\n",
    "loci_coords = {}\n",
    "i = 0\n",
    "#with open(\"input/at6923_loci.bed\") as fh: \n",
    "with open(\"input/at6923_nlrloci.bed\") as fh: \n",
    "#with open(\"at9900_loci_NLRs.bed\") as fh:\n",
    "    for line in fh:\n",
    "        i += 1\n",
    "        id = f\"gene{i:05d}\"\n",
    "        fields = line.rstrip().split(\"\\t\")\n",
    "        chr, start, stop, strand = fields[:4]\n",
    "        start = int(start) +1\n",
    "        stop = int(stop)\n",
    "        loci[chr][strand][start:stop] = id\n",
    "        loci_coords[id] = f\"{chr}:{start}-{stop}\""
   ]
  },
  {
   "cell_type": "code",
   "execution_count": 78,
   "id": "f50b97f4-b4d8-4627-ae99-e49b9f5ff25f",
   "metadata": {},
   "outputs": [],
   "source": [
    "annots = {\"augustus\": \"input/at6923.augustus.gff\",\n",
    "          \"liftoff\": 'input/at6923.liftoff.protonly.gff',\n",
    "          \"pasa\": \"input/at6923.pasa.fix.gff\",\n",
    "          \"tama\": \"input/at6923.tama-v2.fix.gff\"}"
   ]
  },
  {
   "cell_type": "code",
   "execution_count": 79,
   "id": "536617b5-2aa6-483a-b8de-f26e4c6f3187",
   "metadata": {
    "tags": []
   },
   "outputs": [],
   "source": [
    "loci_data = defaultdict(list)\n",
    "for annot, gff in annots.items():\n",
    "    gff_data = gff_heirarchy(gff)\n",
    "    for gene, gene_data in gff_data.items():\n",
    "        locus = loci[gene_data[\"seqid\"]][gene_data[\"strand\"]].overlap(gene_data[\"start\"], gene_data[\"end\"])\n",
    "        if len(locus) > 0:\n",
    "            locus_id = list(locus)[0].data\n",
    "            loci_data[locus_id].append(gene_data)"
   ]
  },
  {
   "cell_type": "code",
   "execution_count": 80,
   "id": "03a9070d-2a22-494b-be07-eafeeea78803",
   "metadata": {},
   "outputs": [],
   "source": [
    "def get_all_features(annot, ftype):\n",
    "    feat = set()\n",
    "    if annot[\"type\"] == ftype:\n",
    "        feat.add((annot[\"start\"], annot[\"end\"], annot[\"strand\"], annot[\"type\"]))\n",
    "    for child in annot.get(\"children\", {}).values():\n",
    "        feat.update(get_all_features(child, ftype))\n",
    "    return feat"
   ]
  },
  {
   "cell_type": "code",
   "execution_count": 81,
   "id": "32e8e032-51b0-4207-bc12-ea602488a753",
   "metadata": {},
   "outputs": [],
   "source": [
    "def features_equal(a, b, ftype):\n",
    "    a = set(get_all_features(a, ftype))\n",
    "    b = set(get_all_features(b, ftype))\n",
    "    return a == b\n",
    "\n",
    "def feature_distance(a, b, ftype):\n",
    "    def overlap(a, b):\n",
    "        return a[0] <= b[0] <= a[1] or a[0] <= b[1] <= a[1]\n",
    "    a = list(get_all_features(a, ftype))\n",
    "    b = list(get_all_features(b, ftype))\n",
    "    ovl = list()\n",
    "    noovl = list()\n",
    "    b_with_ovl = set()\n",
    "    for ai in range(len(a)):\n",
    "        for bi in range(len(b)):\n",
    "            if overlap(a[ai], b[bi]):\n",
    "                ovl.append((a[ai], b[bi]))\n",
    "                b_with_ovl.add(b[bi])\n",
    "                break\n",
    "        else:\n",
    "            # a does not overlap with an b\n",
    "            noovl.append(a[ai])\n",
    "    for bi in range(len(b)):\n",
    "        if b[bi] not in b_with_ovl:\n",
    "            noovl.append(b[bi])\n",
    "    dist = 0\n",
    "    for A, B in ovl:\n",
    "        dist += abs(A[1] - B[1]) + abs(A[0] - B[0])\n",
    "    for x in noovl:\n",
    "        dist += x[1] - x[0]\n",
    "    return dist"
   ]
  },
  {
   "cell_type": "code",
   "execution_count": 82,
   "id": "9fa5dafe-5f2b-4bce-ac2d-9c206ac77008",
   "metadata": {},
   "outputs": [
    {
     "data": {
      "text/plain": [
       "263"
      ]
     },
     "execution_count": 82,
     "metadata": {},
     "output_type": "execute_result"
    }
   ],
   "source": [
    "#pprint(loci_data[\"gene00003\"])\n",
    "features_equal(loci_data[\"gene00001\"][0], loci_data[\"gene00001\"][1], \"CDS\")\n",
    "feature_distance(loci_data[\"gene00001\"][0], loci_data[\"gene00001\"][1], \"CDS\")"
   ]
  },
  {
   "cell_type": "code",
   "execution_count": 83,
   "id": "aecfdf6d-1ae4-491b-b055-1e82bfd7c5e8",
   "metadata": {},
   "outputs": [],
   "source": [
    "def handle_nopasa(locus, ldat):\n",
    "    if \"AUGUSTUS\" in ldat and \"Liftoff\" in ldat:\n",
    "        aug = ldat[\"AUGUSTUS\"][0]\n",
    "        liftoff = ldat[\"Liftoff\"][0]\n",
    "        for liftoff_tx in liftoff[\"children\"].values():\n",
    "            if features_equal(aug, liftoff_tx, \"CDS\"):\n",
    "                liftoff[\"attributes\"][\"confidence_reason\"] = \"aug_liftoff_cds_agree_use_liftoff\"\n",
    "                return {locus: liftoff}\n",
    "        # no txs are equal???\n",
    "        aug[\"attributes\"][\"confidence_reason\"] = \"aug_liftoff_cds_disagree_use_aug\"\n",
    "        return {locus: aug}\n",
    "    if \"AUGUSTUS\" in ldat:\n",
    "        aug = ldat[\"AUGUSTUS\"][0]\n",
    "        aug[\"attributes\"][\"confidence_reason\"] = \"only_aug\"\n",
    "        return {locus: aug}\n",
    "    if \"Liftoff\" in ldat:\n",
    "        liftoff = ldat[\"Liftoff\"][0]\n",
    "        liftoff[\"attributes\"][\"confidence_reason\"] = \"only_liftoff\"\n",
    "        return {locus: liftoff}\n",
    "    assert False"
   ]
  },
  {
   "cell_type": "code",
   "execution_count": 84,
   "id": "d147ae69-6644-48c5-8e20-1e11af1bff31",
   "metadata": {},
   "outputs": [],
   "source": [
    "def handle_multigene(locus, ldat):\n",
    "    n_genes = {ann: len(dat) for ann, dat in ldat.items()}\n",
    "    print(n_genes)\n",
    "    if n_genes.get(\"only_liftoffLiftoff\", 0) == 1 and n_genes.get(\"PASA\", 0) == 1 and n_genes.get(\"AUGUSTUS\", 0) > 1 and \"MERGED\" in ldata[\"PASA\"][0][\"attributes\"][\"ID\"]:\n",
    "        print(\"handling pasa merged gene\")\n",
    "        for pasatx in ldat[\"PASA\"][0][\"children\"].values():\n",
    "            for lotx in ldat[\"Liftoff\"][0][\"children\"].values(): \n",
    "                if feature_distance(pasatx, lotx, \"CDS\") < 18:\n",
    "                    ldat[\"PASA\"][0][\"attributes\"][\"confidence_reason\"] = \"pasa_merged_liftoff_agree_use_pasa\"\n",
    "                    return {locus: ldat[\"PASA\"][0]}\n",
    "    if n_genes.get(\"Liftoff\", 0) ==  n_genes.get(\"AUGUSTUS\", 0) and n_genes.get(\"AUGUSTUS\", 0) > 0:\n",
    "        print(\"handling nLO == nAUG\")\n",
    "        ret = {}    \n",
    "        for i in range(n_genes[\"Liftoff\"]):\n",
    "            sublocus = f\"{locus}-sub{i+1}\"\n",
    "            ret[sublocus] = \"liftoff_augustus_disagree_subgene_isoseq_merges_toohard\"\n",
    "            aug = ldat[\"AUGUSTUS\"][i]\n",
    "            lo =  ldat[\"Liftoff\"][i]\n",
    "            for lotx in ldat[\"Liftoff\"][i][\"children\"].values(): \n",
    "                if feature_distance(aug, lotx, \"CDS\") < 18:\n",
    "                    lo[\"attributes\"][\"confidence_reason\"] = \"liftoff_augustus_agree_subgene_isoseq_merges_use_liftoff\"\n",
    "                    ret[sublocus] = lo\n",
    "            if n_genes.get(\"PASA\", 0) == n_genes[\"Liftoff\"]:\n",
    "                pasa = ldat[\"PASA\"][i]\n",
    "                for lotx in lo[\"children\"].values(): \n",
    "                    for pasatx in pasa[\"children\"].values():\n",
    "                        if feature_distance(pasatx, lotx, \"CDS\") < 18 and feature_distance(aug, lotx, \"CDS\") < 18:\n",
    "                            pasa[\"attributes\"][\"confidence_reason\"] = \"aug_liftoff_pasa_agree_subgene_tama_merges_use_pasa\"\n",
    "                            ret[sublocus] = pasa\n",
    "        return ret\n",
    "    return {locus: \"; \".join(f\"{k}={v}\" for k, v in n_genes.items())} "
   ]
  },
  {
   "cell_type": "code",
   "execution_count": 85,
   "id": "cf4730d5-d889-4070-9a2c-e5721a85da27",
   "metadata": {},
   "outputs": [],
   "source": [
    "def handle_cases(locus, ldat):\n",
    "    many_liftoffs = False\n",
    "    for src in [\"AUGUSTUS\", \"PASA\", \"Liftoff\"]:\n",
    "        if src in ldat and len(ldat[src]) != 1:\n",
    "            # An annotator has more than one gene here\n",
    "            return handle_multigene(locus, ldat)\n",
    "        \n",
    "    if all(x not in ldat for x in  [\"AUGUSTUS\", \"PASA\", \"Liftoff\"]):\n",
    "        # only tama\n",
    "        return {locus: \"only_tama\"}\n",
    "    \n",
    "    if not \"PASA\" in ldat:\n",
    "        # don't have data from all tools, so can't all agree\n",
    "        #print(\"Not all annots present\")\n",
    "        return handle_nopasa(locus, ldat)\n",
    "    \n",
    "    pasa = ldat[\"PASA\"][0]\n",
    "    pasaid = pasa[\"attributes\"][\"ID\"]\n",
    "    \n",
    "    if \"AUGUSTUS\" not in ldat:\n",
    "        print(ldat)\n",
    "        return {locus: \"NO AUG\"}\n",
    "    \n",
    "    aug = ldat[\"AUGUSTUS\"][0]\n",
    "    pasa[\"attributes\"][\"confidence_reason\"] = \"pasa_cds_different_use_pasa\"\n",
    "    liftoff_agrees = False\n",
    "    for pasatx in pasa[\"children\"].values():\n",
    "        if not many_liftoffs and \"Liftoff\" in ldat:\n",
    "            # If present, and it agrees, add liftoff to the confidence reason (below)\n",
    "            liftoff = ldat[\"Liftoff\"][0]\n",
    "            for liftoff_tx in liftoff[\"children\"].values():\n",
    "                if features_equal(pasatx, liftoff_tx, \"CDS\"):\n",
    "                    liftoff_agrees = True\n",
    "                    pasa[\"attributes\"][\"confidence_reason\"] = \"pasa_liftoff_cds_agree_use_pasa\"\n",
    "        # We often have additional transcripts in the pasa that don't equal the augustus. This make sure that if one tx is equal to augustus we count it as equal.\n",
    "        if features_equal(pasatx, aug, \"CDS\"):\n",
    "            if liftoff_agrees:\n",
    "                pasa[\"attributes\"][\"confidence_reason\"] = \"aug_liftoff_pasa_cds_agree_use_pasa\"\n",
    "            else:\n",
    "                pasa[\"attributes\"][\"confidence_reason\"] = \"aug_pasa_cds_agree_use_pasa\"\n",
    "            return {locus: pasa}\n",
    "    if sum([x[1] - x[0] for x in get_all_features(aug, \"CDS\")]) > 5000:\n",
    "        # special case: augustus annotation is massive, so we use it as these are likely cases where the isoseq can't assay it.\n",
    "        aug[\"attributes\"][\"confidence_reason\"] = \"aug_pasa_cds_disagree_but_cds_too_long_for_isoseq_use_aug\"\n",
    "        return {locus: aug}\n",
    "    return {locus: pasa}"
   ]
  },
  {
   "cell_type": "code",
   "execution_count": 86,
   "id": "2e79905a-de7a-4b4e-b858-48acd486412f",
   "metadata": {
    "tags": []
   },
   "outputs": [
    {
     "name": "stdout",
     "output_type": "stream",
     "text": [
      "{'AUGUSTUS': 2, 'Liftoff': 2, 'PASA': 1, 'tama_v2': 1}\n",
      "handling nLO == nAUG\n",
      "{'AUGUSTUS': 3, 'Liftoff': 3, 'tama_v2': 1}\n",
      "handling nLO == nAUG\n",
      "{'AUGUSTUS': 2, 'Liftoff': 1, 'tama_v2': 1}\n",
      "{'AUGUSTUS': 2, 'Liftoff': 1, 'tama_v2': 1}\n",
      "{'AUGUSTUS': 1, 'Liftoff': 2, 'PASA': 1, 'tama_v2': 1}\n",
      "{'AUGUSTUS': 1, 'Liftoff': 2, 'PASA': 1, 'tama_v2': 1}\n",
      "{'AUGUSTUS': 2, 'Liftoff': 1, 'tama_v2': 1}\n",
      "{'AUGUSTUS': 2, 'PASA': 1, 'tama_v2': 1}\n",
      "{'AUGUSTUS': 2, 'Liftoff': 2, 'tama_v2': 1}\n",
      "handling nLO == nAUG\n",
      "{'AUGUSTUS': 2, 'Liftoff': 1, 'PASA': 1, 'tama_v2': 2}\n",
      "{'AUGUSTUS': 1, 'Liftoff': 2, 'PASA': 1, 'tama_v2': 1}\n",
      "{'AUGUSTUS': 2, 'Liftoff': 2, 'tama_v2': 1}\n",
      "handling nLO == nAUG\n",
      "{'AUGUSTUS': 3, 'Liftoff': 1}\n",
      "{'AUGUSTUS': 2, 'tama_v2': 1}\n",
      "{'AUGUSTUS': 3, 'Liftoff': 1, 'PASA': 1, 'tama_v2': 1}\n",
      "{'AUGUSTUS': 1, 'Liftoff': 2, 'PASA': 1, 'tama_v2': 1}\n",
      "{'AUGUSTUS': 2, 'Liftoff': 2, 'tama_v2': 1}\n",
      "handling nLO == nAUG\n",
      "{'AUGUSTUS': 2, 'Liftoff': 1}\n",
      "{'AUGUSTUS': 3, 'Liftoff': 1, 'PASA': 1, 'tama_v2': 1}\n",
      "{'AUGUSTUS': 3, 'PASA': 1, 'tama_v2': 1}\n",
      "{'AUGUSTUS': 3, 'Liftoff': 1}\n",
      "{'AUGUSTUS': 2, 'Liftoff': 1, 'PASA': 1, 'tama_v2': 1}\n",
      "{'AUGUSTUS': 2, 'Liftoff': 2, 'tama_v2': 1}\n",
      "handling nLO == nAUG\n",
      "{'AUGUSTUS': 2, 'Liftoff': 2, 'tama_v2': 1}\n",
      "handling nLO == nAUG\n",
      "{'AUGUSTUS': 2, 'Liftoff': 2, 'tama_v2': 2}\n",
      "handling nLO == nAUG\n",
      "{'AUGUSTUS': 2, 'Liftoff': 2, 'tama_v2': 1}\n",
      "handling nLO == nAUG\n",
      "{'AUGUSTUS': 2, 'Liftoff': 1, 'PASA': 1, 'tama_v2': 1}\n",
      "{'AUGUSTUS': 4, 'Liftoff': 4, 'tama_v2': 2}\n",
      "handling nLO == nAUG\n",
      "{'AUGUSTUS': 2, 'Liftoff': 2, 'tama_v2': 1}\n",
      "handling nLO == nAUG\n",
      "{'AUGUSTUS': 1, 'Liftoff': 2, 'PASA': 1, 'tama_v2': 1}\n",
      "{'AUGUSTUS': 3, 'Liftoff': 1, 'tama_v2': 1}\n",
      "{'AUGUSTUS': 2, 'Liftoff': 1}\n",
      "{'AUGUSTUS': 3, 'Liftoff': 2, 'tama_v2': 1}\n",
      "{'AUGUSTUS': 3, 'Liftoff': 1, 'tama_v2': 1}\n",
      "{'AUGUSTUS': 2, 'Liftoff': 2, 'tama_v2': 1}\n",
      "handling nLO == nAUG\n",
      "{'AUGUSTUS': 3, 'Liftoff': 4, 'tama_v2': 1}\n",
      "{'AUGUSTUS': 2, 'Liftoff': 2, 'PASA': 1, 'tama_v2': 1}\n",
      "handling nLO == nAUG\n",
      "{'AUGUSTUS': 2, 'Liftoff': 1, 'tama_v2': 1}\n",
      "{'AUGUSTUS': 1, 'Liftoff': 2, 'PASA': 1, 'tama_v2': 1}\n",
      "{'AUGUSTUS': 3, 'Liftoff': 1, 'PASA': 1, 'tama_v2': 1}\n",
      "{'AUGUSTUS': 3, 'Liftoff': 3, 'tama_v2': 1}\n",
      "handling nLO == nAUG\n"
     ]
    }
   ],
   "source": [
    "res = {}\n",
    "j = 0\n",
    "for locus, dat in loci_data.items():\n",
    "    j += 1\n",
    "    bysrc = dict()\n",
    "    for d in dat:\n",
    "        try:\n",
    "            bysrc[d[\"source\"]].append(d)\n",
    "        except KeyError:\n",
    "            bysrc[d[\"source\"]] = [d,]\n",
    "    try:\n",
    "        r = handle_cases(locus, bysrc)\n",
    "    except:\n",
    "        pprint(bysrc)\n",
    "        raise\n",
    "        \n",
    "    if r:\n",
    "        res.update(r)"
   ]
  },
  {
   "cell_type": "code",
   "execution_count": 87,
   "id": "2ad5af16-7d12-4949-b261-052f4ab2da23",
   "metadata": {},
   "outputs": [
    {
     "data": {
      "text/plain": [
       "218"
      ]
     },
     "execution_count": 87,
     "metadata": {},
     "output_type": "execute_result"
    }
   ],
   "source": [
    "len(res)"
   ]
  },
  {
   "cell_type": "code",
   "execution_count": 88,
   "id": "54d88210-1505-49cd-9fbb-65fd02d06c69",
   "metadata": {},
   "outputs": [],
   "source": [
    "def attr2line(attrs):\n",
    "    from urllib.parse import quote as Q\n",
    "    return \";\".join(\"=\".join((Q(k), Q(v))) for k, v in attrs.items())"
   ]
  },
  {
   "cell_type": "code",
   "execution_count": 89,
   "id": "3d58b04a-20b7-4dfe-a38c-41a191c3c1a9",
   "metadata": {},
   "outputs": [],
   "source": [
    "def prefix_name(entry, sid):\n",
    "    name = entry[\"attributes\"].get(\"Name\")\n",
    "    if name:\n",
    "        name = f\"{sid}_{name}\"\n",
    "    else:\n",
    "        name = sid\n",
    "    entry[\"attributes\"][\"Name\"] = name\n",
    "def write_gene(gene, geneid=None, file=None, changenames=True):\n",
    "    def write_line(entry):\n",
    "        x = [entry[field] for i, field in enumerate(gffInfoFields)]\n",
    "        x[-1] = attr2line(x[-1])\n",
    "        print(*x, sep=\"\\t\", file=file)\n",
    "    if not geneid:\n",
    "        geneid = gene[\"attributes\"][\"ID\"]\n",
    "    gene[\"attributes\"][\"ID\"] = geneid\n",
    "    prefix_name(gene, geneid)\n",
    "    write_line(gene)\n",
    "    subids = Counter()\n",
    "    for child in gene.get(\"children\", {}).values():\n",
    "        ct = child[\"type\"]\n",
    "        subids[ct] += 1\n",
    "        ci = subids[ct]\n",
    "        subid = f\"{geneid}_{ct}{ci:02d}\"\n",
    "        child[\"attributes\"][\"ID\"] = subid\n",
    "        child[\"attributes\"][\"Parent\"] = geneid\n",
    "        prefix_name(child, subid)\n",
    "        write_line(child)\n",
    "        gcids = Counter()\n",
    "        for gchild in child.get(\"children\", {}).values():\n",
    "            gt = gchild[\"type\"]\n",
    "            gcids[gt] += 1\n",
    "            gi = gcids[gt]\n",
    "            gcid = f\"{subid}_{gt}{gi:02d}\"\n",
    "            gchild[\"attributes\"][\"ID\"] = gcid\n",
    "            gchild[\"attributes\"][\"Parent\"] = subid\n",
    "            prefix_name(gchild, gcid)\n",
    "            write_line(gchild)       \n",
    "    print(\"###\", file=file)"
   ]
  },
  {
   "cell_type": "code",
   "execution_count": 75,
   "id": "43e60fcf-b8f5-4aad-8aeb-82df6c089210",
   "metadata": {
    "tags": []
   },
   "outputs": [],
   "source": [
    "with open(\"at6923_processed.gff3\", \"w\") as fh, \\\n",
    "     open(\"at6923_sadness.gff3\", \"w\") as sadfh:\n",
    "    print(\"##gff-version 3\", file=fh)\n",
    "    print(\"##gff-version 3\", file=sadfh)\n",
    "    for loc, gene in res.items():\n",
    "        if isinstance(gene, dict):\n",
    "            write_gene(gene, f\"at6923_{loc}\", file=fh)\n",
    "        else:\n",
    "            for gene in loci_data[loc]:\n",
    "                src = gene[\"source\"]\n",
    "                write_gene(gene, file=sadfh)"
   ]
  },
  {
   "cell_type": "code",
   "execution_count": 94,
   "id": "c149a4bf-19a8-493e-be25-43e9e1045c6c",
   "metadata": {},
   "outputs": [
    {
     "name": "stdout",
     "output_type": "stream",
     "text": [
      "gene00008 at6923_1_chr1:5449605-5458438\n",
      "gene00012 at6923_1_chr1:9284696-9290636\n",
      "gene00014 at6923_1_chr1:11116485-11121825\n",
      "gene00024 at6923_1_chr1:21144470-21149162\n",
      "gene00028 at6923_1_chr1:22616803-22620377\n",
      "gene00033 at6923_1_chr1:23035614-23041577\n",
      "gene00035 at6923_1_chr1:23211835-23220419\n",
      "gene00044 at6923_1_chr1:24903944-24911784\n",
      "gene00047 at6923_1_chr1:24963505-24972893\n",
      "gene00052 at6923_1_chr1:25075809-25079220\n",
      "gene00061 at6923_1_chr1:28729842-28733612\n",
      "gene00086 at6923_1_chr3:9259206-9267195\n",
      "gene00091 at6923_1_chr3:21430687-21434121\n",
      "gene00093 at6923_1_chr3:21532506-21543883\n",
      "gene00114 at6923_1_chr4:9784700-9797983\n",
      "gene00118 at6923_1_chr4:12104408-12116804\n",
      "gene00118 at6923_1_chr4:12104408-12116804\n",
      "gene00120 at6923_1_chr4:12119373-12125874\n",
      "gene00121 at6923_1_chr4:12146513-12158877\n",
      "gene00123 at6923_1_chr4:12192414-12204733\n",
      "gene00124 at6923_1_chr4:12214307-12223075\n",
      "gene00125 at6923_1_chr4:12228535-12238655\n",
      "gene00127 at6923_1_chr4:12246741-12256620\n",
      "gene00129 at6923_1_chr4:13117362-13123437\n",
      "gene00131 at6923_1_chr4:13124223-13129850\n",
      "gene00133 at6923_1_chr4:13294003-13303970\n",
      "gene00133 at6923_1_chr4:13294003-13303970\n",
      "gene00136 at6923_1_chr4:13314878-13320432\n",
      "gene00156 at6923_1_chr5:6146338-6157505\n",
      "gene00164 at6923_1_chr5:19425749-19431209\n",
      "gene00167 at6923_1_chr5:19774395-19778704\n",
      "gene00170 at6923_1_chr5:20032943-20036350\n",
      "gene00177 at6923_1_chr5:21319460-21326364\n",
      "gene00180 at6923_1_chr5:21523437-21529227\n",
      "gene00196 at6923_1_chr5:22281212-22296417\n",
      "gene00198 at6923_1_chr5:22297172-22304710\n",
      "gene00200 at6923_1_chr5:22306536-22311335\n",
      "gene00203 at6923_1_chr5:23162614-23167705\n",
      "gene00206 at6923_1_chr5:26945032-26951233\n",
      "gene00210 at6923_1_chr5:30004938-30014853\n"
     ]
    },
    {
     "data": {
      "text/plain": [
       "[('aug_liftoff_pasa_cds_agree_use_pasa', 42),\n",
       " ('toohard', 40),\n",
       " ('aug_liftoff_cds_disagree_use_aug', 33),\n",
       " ('aug_liftoff_cds_agree_use_liftoff', 29),\n",
       " ('aug_pasa_cds_agree_use_pasa', 23),\n",
       " ('liftoff_augustus_agree_subgene_isoseq_merges_use_liftoff', 19),\n",
       " ('pasa_cds_different_use_pasa', 15),\n",
       " ('only_aug', 12),\n",
       " ('pasa_liftoff_cds_agree_use_pasa', 5)]"
      ]
     },
     "execution_count": 94,
     "metadata": {},
     "output_type": "execute_result"
    }
   ],
   "source": [
    "from collections import Counter\n",
    "c = Counter()\n",
    "for loc, x in res.items():\n",
    "    if isinstance(x, dict):\n",
    "        c[x[\"attributes\"][\"confidence_reason\"]] += 1\n",
    "    else:\n",
    "        if '-sub' in loc:\n",
    "            loc = loc[:-5]\n",
    "        print(loc, loci_coords[loc])\n",
    "        c[\"toohard\"] += 1\n",
    "c.most_common()"
   ]
  },
  {
   "cell_type": "code",
   "execution_count": 41,
   "id": "edc10eca-5efb-4232-ba5f-383a5cfd7eb4",
   "metadata": {},
   "outputs": [
    {
     "data": {
      "text/plain": [
       "33672"
      ]
     },
     "execution_count": 41,
     "metadata": {},
     "output_type": "execute_result"
    }
   ],
   "source": [
    "sum(c.values())"
   ]
  },
  {
   "cell_type": "code",
   "execution_count": null,
   "id": "6f3dd9f5-b3cb-400a-9b57-b308fcdec8d0",
   "metadata": {},
   "outputs": [],
   "source": [
    "7840 + 821"
   ]
  },
  {
   "cell_type": "code",
   "execution_count": null,
   "id": "1a88baeb-2efd-4c0e-a8b0-d32f04b5ee94",
   "metadata": {},
   "outputs": [],
   "source": [
    "[('aug_liftoff_pasa_cds_agree_use_pasa', 42),\n",
    " ('some annots n genes != 1', 36),\n",
    " ('aug_liftoff_cds_disagree_use_aug', 33),\n",
    " ('aug_liftoff_cds_agree_use_liftoff', 26),\n",
    " ('aug_pasa_cds_agree_use_pasa', 21),\n",
    " ('only_aug', 17),\n",
    " ('pasa_liftoff_cds_agree_use_pasa', 11),\n",
    " ('pasa_cds_different_use_pasa', 10),\n",
    " ('aug_pasa_cds_disagree_but_cds_too_long_for_isoseq_use_aug', 1)]"
   ]
  },
  {
   "cell_type": "code",
   "execution_count": null,
   "id": "f0deb95a-5c90-4fdc-b808-315cea4a7c5b",
   "metadata": {},
   "outputs": [],
   "source": [
    "sad = {l: loci_data[l] for l, v in res.items() if v == 'some annots n genes != 1'}"
   ]
  },
  {
   "cell_type": "code",
   "execution_count": null,
   "id": "11fcb925-23a1-4901-8a5e-c08bc2ce4966",
   "metadata": {},
   "outputs": [],
   "source": [
    "for loc, ldat in sad.items():\n",
    "    for l in ldat:\n",
    "        S, s, e = l[\"seqid\"], l[\"start\"], l[\"end\"]\n",
    "        print(, l[\"strand\"], l[\"source\"], sep=\"\\t\")"
   ]
  },
  {
   "cell_type": "code",
   "execution_count": null,
   "id": "c2656266",
   "metadata": {},
   "outputs": [],
   "source": []
  }
 ],
 "metadata": {
  "jupytext": {
   "formats": "ipynb,py:light"
  },
  "kernelspec": {
   "display_name": "Python 3 (ipykernel)",
   "language": "python",
   "name": "python3"
  },
  "language_info": {
   "codemirror_mode": {
    "name": "ipython",
    "version": 3
   },
   "file_extension": ".py",
   "mimetype": "text/x-python",
   "name": "python",
   "nbconvert_exporter": "python",
   "pygments_lexer": "ipython3",
   "version": "3.8.10"
  }
 },
 "nbformat": 4,
 "nbformat_minor": 5
}
