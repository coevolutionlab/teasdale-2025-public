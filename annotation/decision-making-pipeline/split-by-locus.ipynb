{
 "cells": [
  {
   "cell_type": "code",
   "execution_count": 2,
   "id": "27fea6b0-0a83-4d4b-acf2-d34851f6e59e",
   "metadata": {},
   "outputs": [],
   "source": [
    "dl20 = [\"at6923\", \"at6929\", \"at7143\", \"at8285\", \"at9104\", \"at9336\",\n",
    "        \"at9503\", \"at9578\", \"at9744\", \"at9762\", \"at9806\", \"at9830\", \n",
    "        \"at9847\", \"at9852\", \"at9879\", \"at9883\", \"at9900\", \"at6137\", ]\n",
    "dl20 = [\"at9879\",]"
   ]
  },
  {
   "cell_type": "code",
   "execution_count": 3,
   "id": "b3903eb3-a163-4d31-a9af-dcd521ea5bb7",
   "metadata": {},
   "outputs": [],
   "source": [
    "from intervaltree import IntervalTree\n",
    "from collections import defaultdict, Counter\n",
    "from gffuuu.gffparse import gff_heirarchy, gffInfoFields\n",
    "import json\n",
    "from pprint import pprint\n",
    "import argparse\n",
    "import sys\n",
    "from pathlib import Path\n",
    "from gffuuuu import write_gene\n",
    "from shutil import copyfile"
   ]
  },
  {
   "cell_type": "code",
   "execution_count": 7,
   "id": "77e3018a-01ba-41e3-8d03-0d20924540c9",
   "metadata": {},
   "outputs": [],
   "source": [
    "def main(acc):\n",
    "    locibed = f\"output/{acc}_nlr_decisions.bed\"\n",
    "    loci = defaultdict(lambda: defaultdict(IntervalTree))\n",
    "    loci_coords = {}\n",
    "    print(\"loci at\", locibed)\n",
    "    with open(locibed) as fh: \n",
    "        for line in fh:\n",
    "            fields = line.rstrip().split(\"\\t\")\n",
    "            chr, start, stop, id, _, strand, region, decision = fields\n",
    "            start = int(start) +1\n",
    "            stop = int(stop)\n",
    "            if decision == \"TOO_HARD\":\n",
    "                loci[chr][strand][start:stop] = id\n",
    "                loci_coords[id] = (chr, start, stop, strand)\n",
    "    print(\"N too hard loci:\", len(loci_coords))\n",
    "\n",
    "    gffs = {\"Augustus\": f\"input/{acc}.augustus.gff\",\n",
    "            \"Liftoff-TAIR10\": f\"input/{acc}.liftoff.protonly.gff\",\n",
    "            \"PASA\": f\"input/{acc}.pasa.fix.gff\",\n",
    "            \"TAMA-v2\": f\"input/{acc}.tama-v2.fix.gff\",\n",
    "            #\"TEs\": f\"../web_apollo/v2/TEanno/{acc}_TEanno.gff3\",\n",
    "            \"PFam\": f\"../assembly-and-annotation/output/04_analyses_with_fixed_at9879/prep_for_decision_making/{acc}_pfam_acutalgff.gff3\",\n",
    "           } \n",
    "\n",
    "    loci_data = defaultdict(lambda : defaultdict(list))\n",
    "    for src, gff in gffs.items():\n",
    "        try:\n",
    "            gff_data = gff_heirarchy(gff)\n",
    "        except Exception as exc:\n",
    "            print(exc)\n",
    "            continue\n",
    "        i = 0\n",
    "        for gene, gene_data in gff_data.items():\n",
    "            locus = loci[gene_data[\"seqid\"]][gene_data[\"strand\"]].overlap(gene_data[\"start\"], gene_data[\"end\"])\n",
    "            if len(locus) > 0:\n",
    "                i +=  1\n",
    "                locus_id = list(locus)[0].data\n",
    "                loci_data[locus_id][src].append(gene_data)\n",
    "        print(f\"Added {i} genes from {gff} ({len(gff_data) - i} not added)\")\n",
    "\n",
    "    template = \"\"\"\n",
    "    <!doctype html>\n",
    "    <html lang=en>\n",
    "      <head>\n",
    "        <meta charset=utf-8>\n",
    "        <meta name=viewport content=\"width=device-width,initial-scale=1\">\n",
    "        <meta http-equiv=x-ua-compatible content=\"IE=edge,chrome=1\">\n",
    "        <title>__title__</title>\n",
    "        <script src=\"https://cdn.jsdelivr.net/npm/igv@2.12.6/dist/igv.min.js\"></script>\n",
    "    </head>\n",
    "    <body>\n",
    "      <div id=\"igvherepls\"></div>\n",
    "      <script>\n",
    "        var igvDiv = document.getElementById(\"igvherepls\");\n",
    "        var options = __data__;\n",
    "            igv.createBrowser(igvDiv, options)\n",
    "                    .then(function (browser) {\n",
    "                        console.log(\"Created IGV browser\");\n",
    "                    })\n",
    "      </script>\n",
    "    </body>\n",
    "    \"\"\"\n",
    "\n",
    "    infa = Path(f\"../assembly-and-annotation/output/01_assembly/03_inversion_fixed/{acc}.fasta\")\n",
    "    outfa = Path(\"manual_annotation\") / acc/ f\"{acc}.fasta\"\n",
    "    outfa.parent.mkdir(parents=True, exist_ok=True)\n",
    "    copyfile(infa, outfa, follow_symlinks=True)\n",
    "    copyfile(str(infa)+\".fai\", str(outfa) + \".fai\", follow_symlinks=True)\n",
    "\n",
    "    for loc, srcd in loci_data.items():\n",
    "        outdir = Path(\"manual_annotation\") / acc / loc \n",
    "        lc =loci_coords[loc]\n",
    "        data = {\n",
    "            \"reference\":  {\n",
    "                \"id\": acc,\n",
    "                \"name\": acc,\n",
    "                \"fastaURL\": f\"../{acc}.fasta\"\n",
    "            },\n",
    "            \"tracks\": [],\n",
    "            \"locus\": f\"{lc[0]}:{lc[1]}-{lc[2]}\",\n",
    "        }\n",
    "        for src, dat in srcd.items():\n",
    "            gff = outdir / f\"{src}.gff3\"\n",
    "            gff.parent.mkdir(parents=True, exist_ok=True)\n",
    "            with open(gff, \"w\") as fh:\n",
    "                for gene in dat:\n",
    "                    write_gene(gene, None, file=fh)\n",
    "            data[\"tracks\"].append({\n",
    "                \"name\": src,\n",
    "                \"url\": f\"./{src}.gff3\",\n",
    "                \"format\": \"gff3\"\n",
    "            })\n",
    "        data[\"tracks\"].append({\n",
    "            \"name\": \"output\",\n",
    "            \"url\": f\"./output.gff3\",\n",
    "            \"format\": \"gff3\"\n",
    "        })\n",
    "\n",
    "        with open(outdir / \"index.html\", \"w\") as fh:\n",
    "            html = template \\\n",
    "                    .replace(\"__title__\", loc) \\\n",
    "                    .replace(\"__data__\", json.dumps(data))\n",
    "            fh.write(html)"
   ]
  },
  {
   "cell_type": "code",
   "execution_count": 8,
   "id": "fd973205-4d3d-4b39-a71b-c9d623148c58",
   "metadata": {},
   "outputs": [
    {
     "name": "stdout",
     "output_type": "stream",
     "text": [
      "loci at output/at9879_nlr_decisions.bed\n",
      "N too hard loci: 35\n",
      "Added 66 genes from input/at9879.augustus.gff (32577 not added)\n",
      "Added 51 genes from input/at9879.liftoff.protonly.gff (26819 not added)\n",
      "Added 11 genes from input/at9879.pasa.fix.gff (14233 not added)\n",
      "Added 28 genes from input/at9879.tama-v2.fix.gff (16246 not added)\n",
      "Added 504 genes from ../assembly-and-annotation/output/04_analyses_with_fixed_at9879/prep_for_decision_making/at9879_pfam_acutalgff.gff3 (117258 not added)\n"
     ]
    },
    {
     "data": {
      "text/plain": [
       "[None]"
      ]
     },
     "execution_count": 8,
     "metadata": {},
     "output_type": "execute_result"
    }
   ],
   "source": [
    "from multiprocessing import Pool\n",
    "p = Pool(20)\n",
    "[x for x in p.map(main, dl20)]"
   ]
  },
  {
   "cell_type": "code",
   "execution_count": 9,
   "id": "3cdcc6ef-1d75-4f99-9868-48cb513118a4",
   "metadata": {},
   "outputs": [],
   "source": [
    "! genautoindex manual_annotation/"
   ]
  }
 ],
 "metadata": {
  "kernelspec": {
   "display_name": "Python 3 (ipykernel)",
   "language": "python",
   "name": "python3"
  },
  "language_info": {
   "codemirror_mode": {
    "name": "ipython",
    "version": 3
   },
   "file_extension": ".py",
   "mimetype": "text/x-python",
   "name": "python",
   "nbconvert_exporter": "python",
   "pygments_lexer": "ipython3",
   "version": "3.8.10"
  }
 },
 "nbformat": 4,
 "nbformat_minor": 5
}
