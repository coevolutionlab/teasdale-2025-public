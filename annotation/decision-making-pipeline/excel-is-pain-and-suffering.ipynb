{
 "cells": [
  {
   "cell_type": "code",
   "execution_count": 1,
   "id": "774b2b27-28a3-4121-bdaf-dad3a67afcd3",
   "metadata": {},
   "outputs": [
    {
     "name": "stderr",
     "output_type": "stream",
     "text": [
      "── \u001b[1mAttaching packages\u001b[22m ─────────────────────────────────────────────────────────────────────────────────────────────────────────────────────────────────── tidyverse 1.3.1 ──\n",
      "\n",
      "\u001b[32m✔\u001b[39m \u001b[34mggplot2\u001b[39m 3.4.1     \u001b[32m✔\u001b[39m \u001b[34mpurrr  \u001b[39m 1.0.1\n",
      "\u001b[32m✔\u001b[39m \u001b[34mtibble \u001b[39m 3.2.1     \u001b[32m✔\u001b[39m \u001b[34mdplyr  \u001b[39m 1.1.2\n",
      "\u001b[32m✔\u001b[39m \u001b[34mtidyr  \u001b[39m 1.3.0     \u001b[32m✔\u001b[39m \u001b[34mstringr\u001b[39m 1.5.0\n",
      "\u001b[32m✔\u001b[39m \u001b[34mreadr  \u001b[39m 2.1.2     \u001b[32m✔\u001b[39m \u001b[34mforcats\u001b[39m 0.5.1\n",
      "\n",
      "── \u001b[1mConflicts\u001b[22m ────────────────────────────────────────────────────────────────────────────────────────────────────────────────────────────────────── tidyverse_conflicts() ──\n",
      "\u001b[31m✖\u001b[39m \u001b[34mdplyr\u001b[39m::\u001b[32mfilter()\u001b[39m masks \u001b[34mstats\u001b[39m::filter()\n",
      "\u001b[31m✖\u001b[39m \u001b[34mdplyr\u001b[39m::\u001b[32mlag()\u001b[39m    masks \u001b[34mstats\u001b[39m::lag()\n",
      "\n"
     ]
    }
   ],
   "source": [
    "library(tidyverse)"
   ]
  },
  {
   "cell_type": "code",
   "execution_count": 2,
   "id": "78adf8dc-e080-45b1-8f0e-dce0d465e98d",
   "metadata": {},
   "outputs": [
    {
     "name": "stderr",
     "output_type": "stream",
     "text": [
      "\u001b[1m\u001b[22mNew names:\n",
      "\u001b[36m•\u001b[39m `` -> `...7`\n",
      "\u001b[36m•\u001b[39m `` -> `...28`\n"
     ]
    }
   ],
   "source": [
    "a = read_csv(\"https://docs.google.com/spreadsheets/d/1rlotaQ-u83HLd5ZGjR-UnCxC2Hzg8gzEWCGy37s_J7c/gviz/tq?tqx=out:csv&sheet=All\", col_types = cols(annotation_source=\"c\")) %>%\n",
    "    janitor::clean_names()"
   ]
  },
  {
   "cell_type": "code",
   "execution_count": 3,
   "id": "2a5fa05c-9f42-4b83-9d31-bcf30f003164",
   "metadata": {},
   "outputs": [],
   "source": [
    "annotation_srcs =  c(\n",
    "    \"aug_liftoff_cds_agree_use_liftoff\"=\"liftoff\",\n",
    "    \"aug_liftoff_cds_disagree_use_aug\"=\"augustus\",\n",
    "    \"aug_liftoff_pasa_agree_subgene_tama_merges_use_pasa\"=\"pasa\",\n",
    "    \"aug_liftoff_pasa_cds_agree_use_pasa\"=\"pasa\",\n",
    "    \"aug_pasa_cds_agree_use_pasa\"=\"pasa\",\n",
    "    \"aug_pasa_cds_disagree_but_cds_too_long_for_isoseq_use_aug\"=\"augustus\",\n",
    "    \"liftoff_augustus_agree_subgene_isoseq_merges_use_liftoff\"=\"liftoff\",\n",
    "    \"only_aug\"=\"augustus\",\n",
    "    \"only_liftoff\"=\"liftoff\",\n",
    "    \"pasa_cds_different_use_pasa\"=\"pasa\",\n",
    "    \"pasa_liftoff_cds_agree_use_pasa\"=\"pasa\",\n",
    "    \"TOO_HARD\"=\"manual\")"
   ]
  },
  {
   "cell_type": "code",
   "execution_count": 4,
   "id": "98b76452-2ae0-4ec4-aebb-cd31bf449205",
   "metadata": {
    "tags": []
   },
   "outputs": [
    {
     "data": {
      "text/html": [
       "<table class=\"dataframe\">\n",
       "<caption>A spec_tbl_df: 4 × 28</caption>\n",
       "<thead>\n",
       "\t<tr><th scope=col>number</th><th scope=col>luisa_id</th><th scope=col>chromosome</th><th scope=col>locus_start</th><th scope=col>locus_end</th><th scope=col>locus_name</th><th scope=col>x7</th><th scope=col>strand</th><th scope=col>locus_coords</th><th scope=col>chrom_gene</th><th scope=col>⋯</th><th scope=col>kevin_decision</th><th scope=col>manual_annotation_status</th><th scope=col>notes</th><th scope=col>pseudogene</th><th scope=col>readiness</th><th scope=col>annotation_source</th><th scope=col>luisa_fix_me_please</th><th scope=col>not_nlr</th><th scope=col>v4</th><th scope=col>x28</th></tr>\n",
       "\t<tr><th scope=col>&lt;dbl&gt;</th><th scope=col>&lt;chr&gt;</th><th scope=col>&lt;chr&gt;</th><th scope=col>&lt;dbl&gt;</th><th scope=col>&lt;dbl&gt;</th><th scope=col>&lt;chr&gt;</th><th scope=col>&lt;dbl&gt;</th><th scope=col>&lt;chr&gt;</th><th scope=col>&lt;chr&gt;</th><th scope=col>&lt;chr&gt;</th><th scope=col>⋯</th><th scope=col>&lt;chr&gt;</th><th scope=col>&lt;chr&gt;</th><th scope=col>&lt;chr&gt;</th><th scope=col>&lt;chr&gt;</th><th scope=col>&lt;chr&gt;</th><th scope=col>&lt;chr&gt;</th><th scope=col>&lt;chr&gt;</th><th scope=col>&lt;chr&gt;</th><th scope=col>&lt;chr&gt;</th><th scope=col>&lt;lgl&gt;</th></tr>\n",
       "</thead>\n",
       "<tbody>\n",
       "\t<tr><td>NA</td><td>NA</td><td>NA</td><td>NA</td><td>NA</td><td>NA</td><td>NA</td><td>NA</td><td>NA                       </td><td>NA</td><td>⋯</td><td>NA</td><td>NA</td><td>remaining HR4 cluster members                         </td><td>NA</td><td>NR</td><td>NA</td><td>NA</td><td>NA</td><td>NA</td><td>NA</td></tr>\n",
       "\t<tr><td>NA</td><td>NA</td><td>NA</td><td>NA</td><td>NA</td><td>NA</td><td>NA</td><td>NA</td><td>NA                       </td><td>NA</td><td>⋯</td><td>NA</td><td>NA</td><td>HR4 cluster members (highest so far) with total of 22.</td><td>NA</td><td>NR</td><td>NA</td><td>NA</td><td>NA</td><td>NA</td><td>NA</td></tr>\n",
       "\t<tr><td>NA</td><td>NA</td><td>NA</td><td>NA</td><td>NA</td><td>NA</td><td>NA</td><td>NA</td><td>at9336_9_u244:51927-54716</td><td>NA</td><td>⋯</td><td>NA</td><td>NA</td><td>not nlr                                               </td><td>NA</td><td>NR</td><td>NA</td><td>NA</td><td>NA</td><td>NA</td><td>NA</td></tr>\n",
       "\t<tr><td>NA</td><td>NA</td><td>NA</td><td>NA</td><td>NA</td><td>NA</td><td>NA</td><td>NA</td><td>at9336_9_u244:54934-56168</td><td>NA</td><td>⋯</td><td>NA</td><td>NA</td><td>not nlr                                               </td><td>NA</td><td>NR</td><td>NA</td><td>NA</td><td>NA</td><td>NA</td><td>NA</td></tr>\n",
       "</tbody>\n",
       "</table>\n"
      ],
      "text/latex": [
       "A spec\\_tbl\\_df: 4 × 28\n",
       "\\begin{tabular}{lllllllllllllllllllll}\n",
       " number & luisa\\_id & chromosome & locus\\_start & locus\\_end & locus\\_name & x7 & strand & locus\\_coords & chrom\\_gene & ⋯ & kevin\\_decision & manual\\_annotation\\_status & notes & pseudogene & readiness & annotation\\_source & luisa\\_fix\\_me\\_please & not\\_nlr & v4 & x28\\\\\n",
       " <dbl> & <chr> & <chr> & <dbl> & <dbl> & <chr> & <dbl> & <chr> & <chr> & <chr> & ⋯ & <chr> & <chr> & <chr> & <chr> & <chr> & <chr> & <chr> & <chr> & <chr> & <lgl>\\\\\n",
       "\\hline\n",
       "\t NA & NA & NA & NA & NA & NA & NA & NA & NA                        & NA & ⋯ & NA & NA & remaining HR4 cluster members                          & NA & NR & NA & NA & NA & NA & NA\\\\\n",
       "\t NA & NA & NA & NA & NA & NA & NA & NA & NA                        & NA & ⋯ & NA & NA & HR4 cluster members (highest so far) with total of 22. & NA & NR & NA & NA & NA & NA & NA\\\\\n",
       "\t NA & NA & NA & NA & NA & NA & NA & NA & at9336\\_9\\_u244:51927-54716 & NA & ⋯ & NA & NA & not nlr                                                & NA & NR & NA & NA & NA & NA & NA\\\\\n",
       "\t NA & NA & NA & NA & NA & NA & NA & NA & at9336\\_9\\_u244:54934-56168 & NA & ⋯ & NA & NA & not nlr                                                & NA & NR & NA & NA & NA & NA & NA\\\\\n",
       "\\end{tabular}\n"
      ],
      "text/markdown": [
       "\n",
       "A spec_tbl_df: 4 × 28\n",
       "\n",
       "| number &lt;dbl&gt; | luisa_id &lt;chr&gt; | chromosome &lt;chr&gt; | locus_start &lt;dbl&gt; | locus_end &lt;dbl&gt; | locus_name &lt;chr&gt; | x7 &lt;dbl&gt; | strand &lt;chr&gt; | locus_coords &lt;chr&gt; | chrom_gene &lt;chr&gt; | ⋯ ⋯ | kevin_decision &lt;chr&gt; | manual_annotation_status &lt;chr&gt; | notes &lt;chr&gt; | pseudogene &lt;chr&gt; | readiness &lt;chr&gt; | annotation_source &lt;chr&gt; | luisa_fix_me_please &lt;chr&gt; | not_nlr &lt;chr&gt; | v4 &lt;chr&gt; | x28 &lt;lgl&gt; |\n",
       "|---|---|---|---|---|---|---|---|---|---|---|---|---|---|---|---|---|---|---|---|---|\n",
       "| NA | NA | NA | NA | NA | NA | NA | NA | NA                        | NA | ⋯ | NA | NA | remaining HR4 cluster members                          | NA | NR | NA | NA | NA | NA | NA |\n",
       "| NA | NA | NA | NA | NA | NA | NA | NA | NA                        | NA | ⋯ | NA | NA | HR4 cluster members (highest so far) with total of 22. | NA | NR | NA | NA | NA | NA | NA |\n",
       "| NA | NA | NA | NA | NA | NA | NA | NA | at9336_9_u244:51927-54716 | NA | ⋯ | NA | NA | not nlr                                                | NA | NR | NA | NA | NA | NA | NA |\n",
       "| NA | NA | NA | NA | NA | NA | NA | NA | at9336_9_u244:54934-56168 | NA | ⋯ | NA | NA | not nlr                                                | NA | NR | NA | NA | NA | NA | NA |\n",
       "\n"
      ],
      "text/plain": [
       "  number luisa_id chromosome locus_start locus_end locus_name x7 strand\n",
       "1 NA     NA       NA         NA          NA        NA         NA NA    \n",
       "2 NA     NA       NA         NA          NA        NA         NA NA    \n",
       "3 NA     NA       NA         NA          NA        NA         NA NA    \n",
       "4 NA     NA       NA         NA          NA        NA         NA NA    \n",
       "  locus_coords              chrom_gene ⋯ kevin_decision\n",
       "1 NA                        NA         ⋯ NA            \n",
       "2 NA                        NA         ⋯ NA            \n",
       "3 at9336_9_u244:51927-54716 NA         ⋯ NA            \n",
       "4 at9336_9_u244:54934-56168 NA         ⋯ NA            \n",
       "  manual_annotation_status\n",
       "1 NA                      \n",
       "2 NA                      \n",
       "3 NA                      \n",
       "4 NA                      \n",
       "  notes                                                  pseudogene readiness\n",
       "1 remaining HR4 cluster members                          NA         NR       \n",
       "2 HR4 cluster members (highest so far) with total of 22. NA         NR       \n",
       "3 not nlr                                                NA         NR       \n",
       "4 not nlr                                                NA         NR       \n",
       "  annotation_source luisa_fix_me_please not_nlr v4 x28\n",
       "1 NA                NA                  NA      NA NA \n",
       "2 NA                NA                  NA      NA NA \n",
       "3 NA                NA                  NA      NA NA \n",
       "4 NA                NA                  NA      NA NA "
      ]
     },
     "metadata": {},
     "output_type": "display_data"
    }
   ],
   "source": [
    "funky = a %>%\n",
    "    filter(!grepl(\"^at6137\", chromosome)) %>%\n",
    "    filter(\n",
    "        is.na(chromosome)|\n",
    "        !is.na(kevin_decision) & !kevin_decision %in% names(annotation_srcs) |\n",
    "        is.na(readiness) | !is.na(readiness) & ! readiness %in% c(\"R\", \"NR\") |\n",
    "        !is.na(annotation_source) & !annotation_source %in% c(\"do_not_export\", unique(annotation_srcs)) |\n",
    "        !is.na(pseudogene) & !grepl(\"^protopseudogene_?|^pseudogene_?|^remnant_?\", pseudogene, perl=T)\n",
    "    )\n",
    "funky"
   ]
  },
  {
   "cell_type": "code",
   "execution_count": 5,
   "id": "85820e6c-5080-4fcb-8000-f5873234c30f",
   "metadata": {
    "tags": []
   },
   "outputs": [],
   "source": [
    "write_tsv(funky, \"tmp/funky.tsv\")"
   ]
  },
  {
   "cell_type": "code",
   "execution_count": 6,
   "id": "592babe0-c1ae-4615-8542-ac730f9b6da6",
   "metadata": {},
   "outputs": [],
   "source": [
    "core_decisions = a %>%\n",
    "    transmute(\n",
    "        accession=sub(\"_1_chr.\", \"\", chromosome),\n",
    "        chromosome, locus_start, locus_end, locus_name, strand, locus_coords, kevin_decision, pseudogene,\n",
    "        \n",
    "        # luisa's already doing -> doing, which mean the same thing\n",
    "        status_already=manual_annotation_status,\n",
    "        manual_annotation_status = sub(\"already \", \"\", manual_annotation_status),\n",
    "        # take readiness from luisa's manual annotations: done = ready, doing = not ready, blank = not started = not ready\n",
    "        readiness = case_when(\n",
    "            !is.na(readiness) ~ readiness,\n",
    "            kevin_decision==\"TOO_HARD\" & manual_annotation_status == \"done\"    ~ \"R\",\n",
    "            kevin_decision==\"TOO_HARD\" & manual_annotation_status == \"doing\"   ~ \"NR\",\n",
    "            T ~ readiness,\n",
    "        ),\n",
    "        # keep manual decisions as to annotation source, but update annotation sources by the lookup above\n",
    "        strand = case_when(\n",
    "            strand == \"#ERROR!\" ~ \"+\", # interpreted a + as a broken formula\n",
    "            T ~ strand,\n",
    "        ),\n",
    "        take_auto = !(kevin_decision == \"TOO_HARD\" | !is.na(annotation_source) | !is.na(manual_annotation_status) ) & kevin_decision != \"aug_liftoff_cds_disagree_use_aug\",\n",
    "        annotation_source = case_when(\n",
    "            !is.na(annotation_source) ~ annotation_source,\n",
    "            grepl(\"already\", status_already) ~ \"do_not_export\",\n",
    "            kevin_decision==\"TOO_HARD\" & manual_annotation_status == \"done\" && readiness == \"R\" && is.na(annotation_source) ~ \"manual\",\n",
    "            kevin_decision %in% names(annotation_srcs)  ~ annotation_srcs[kevin_decision],\n",
    "        )\n",
    "    ) %>% \n",
    "    filter(!is.na(locus_name))"
   ]
  },
  {
   "cell_type": "code",
   "execution_count": 7,
   "id": "35f3a963-1154-43c4-868b-ec409387f1dd",
   "metadata": {},
   "outputs": [],
   "source": [
    "ready = core_decisions %>%\n",
    "    filter(readiness == \"R\")"
   ]
  },
  {
   "cell_type": "code",
   "execution_count": 8,
   "id": "3a69f775-719a-477c-a5c4-26e370a1a5d8",
   "metadata": {},
   "outputs": [],
   "source": [
    "write_tsv(ready, \"post-curation/ready.tsv\", na=\"\")"
   ]
  },
  {
   "cell_type": "code",
   "execution_count": 9,
   "id": "b0d471fd-1c56-4af0-a866-e7e507442011",
   "metadata": {},
   "outputs": [
    {
     "name": "stderr",
     "output_type": "stream",
     "text": [
      "\u001b[1m\u001b[22m`summarise()` has grouped output by 'accession'. You can override using the `.groups` argument.\n"
     ]
    },
    {
     "data": {
      "text/html": [
       "<table class=\"dataframe\">\n",
       "<caption>A grouped_df: 0 × 3</caption>\n",
       "<thead>\n",
       "\t<tr><th scope=col>accession</th><th scope=col>locus_name</th><th scope=col>n</th></tr>\n",
       "\t<tr><th scope=col>&lt;chr&gt;</th><th scope=col>&lt;chr&gt;</th><th scope=col>&lt;int&gt;</th></tr>\n",
       "</thead>\n",
       "<tbody>\n",
       "</tbody>\n",
       "</table>\n"
      ],
      "text/latex": [
       "A grouped\\_df: 0 × 3\n",
       "\\begin{tabular}{lll}\n",
       " accession & locus\\_name & n\\\\\n",
       " <chr> & <chr> & <int>\\\\\n",
       "\\hline\n",
       "\\end{tabular}\n"
      ],
      "text/markdown": [
       "\n",
       "A grouped_df: 0 × 3\n",
       "\n",
       "| accession &lt;chr&gt; | locus_name &lt;chr&gt; | n &lt;int&gt; |\n",
       "|---|---|---|\n",
       "\n"
      ],
      "text/plain": [
       "     accession locus_name n"
      ]
     },
     "metadata": {},
     "output_type": "display_data"
    }
   ],
   "source": [
    "core_decisions %>%\n",
    "    select(accession, chromosome, locus_start, locus_end, locus_name, strand) %>%\n",
    "    unique() %>%\n",
    "    group_by(accession, locus_name) %>%\n",
    "    summarise(n=n()) %>%\n",
    "    filter(n!= 1)"
   ]
  },
  {
   "cell_type": "code",
   "execution_count": 10,
   "id": "584297c7-9816-4a0c-ae75-bf27c4c550dd",
   "metadata": {},
   "outputs": [
    {
     "data": {
      "text/html": [
       "<table class=\"dataframe\">\n",
       "<caption>A tibble: 17 × 2</caption>\n",
       "<thead>\n",
       "\t<tr><th scope=col>accession</th><th scope=col>n</th></tr>\n",
       "\t<tr><th scope=col>&lt;chr&gt;</th><th scope=col>&lt;int&gt;</th></tr>\n",
       "</thead>\n",
       "<tbody>\n",
       "\t<tr><td>at6923</td><td>245</td></tr>\n",
       "\t<tr><td>at6929</td><td>222</td></tr>\n",
       "\t<tr><td>at7143</td><td>241</td></tr>\n",
       "\t<tr><td>at8285</td><td>225</td></tr>\n",
       "\t<tr><td>at9104</td><td>261</td></tr>\n",
       "\t<tr><td>at9336</td><td>227</td></tr>\n",
       "\t<tr><td>at9503</td><td>253</td></tr>\n",
       "\t<tr><td>at9578</td><td>247</td></tr>\n",
       "\t<tr><td>at9744</td><td>247</td></tr>\n",
       "\t<tr><td>at9762</td><td>241</td></tr>\n",
       "\t<tr><td>at9806</td><td>234</td></tr>\n",
       "\t<tr><td>at9830</td><td>229</td></tr>\n",
       "\t<tr><td>at9847</td><td>244</td></tr>\n",
       "\t<tr><td>at9852</td><td>241</td></tr>\n",
       "\t<tr><td>at9879</td><td>223</td></tr>\n",
       "\t<tr><td>at9883</td><td>256</td></tr>\n",
       "\t<tr><td>at9900</td><td>239</td></tr>\n",
       "</tbody>\n",
       "</table>\n"
      ],
      "text/latex": [
       "A tibble: 17 × 2\n",
       "\\begin{tabular}{ll}\n",
       " accession & n\\\\\n",
       " <chr> & <int>\\\\\n",
       "\\hline\n",
       "\t at6923 & 245\\\\\n",
       "\t at6929 & 222\\\\\n",
       "\t at7143 & 241\\\\\n",
       "\t at8285 & 225\\\\\n",
       "\t at9104 & 261\\\\\n",
       "\t at9336 & 227\\\\\n",
       "\t at9503 & 253\\\\\n",
       "\t at9578 & 247\\\\\n",
       "\t at9744 & 247\\\\\n",
       "\t at9762 & 241\\\\\n",
       "\t at9806 & 234\\\\\n",
       "\t at9830 & 229\\\\\n",
       "\t at9847 & 244\\\\\n",
       "\t at9852 & 241\\\\\n",
       "\t at9879 & 223\\\\\n",
       "\t at9883 & 256\\\\\n",
       "\t at9900 & 239\\\\\n",
       "\\end{tabular}\n"
      ],
      "text/markdown": [
       "\n",
       "A tibble: 17 × 2\n",
       "\n",
       "| accession &lt;chr&gt; | n &lt;int&gt; |\n",
       "|---|---|\n",
       "| at6923 | 245 |\n",
       "| at6929 | 222 |\n",
       "| at7143 | 241 |\n",
       "| at8285 | 225 |\n",
       "| at9104 | 261 |\n",
       "| at9336 | 227 |\n",
       "| at9503 | 253 |\n",
       "| at9578 | 247 |\n",
       "| at9744 | 247 |\n",
       "| at9762 | 241 |\n",
       "| at9806 | 234 |\n",
       "| at9830 | 229 |\n",
       "| at9847 | 244 |\n",
       "| at9852 | 241 |\n",
       "| at9879 | 223 |\n",
       "| at9883 | 256 |\n",
       "| at9900 | 239 |\n",
       "\n"
      ],
      "text/plain": [
       "   accession n  \n",
       "1  at6923    245\n",
       "2  at6929    222\n",
       "3  at7143    241\n",
       "4  at8285    225\n",
       "5  at9104    261\n",
       "6  at9336    227\n",
       "7  at9503    253\n",
       "8  at9578    247\n",
       "9  at9744    247\n",
       "10 at9762    241\n",
       "11 at9806    234\n",
       "12 at9830    229\n",
       "13 at9847    244\n",
       "14 at9852    241\n",
       "15 at9879    223\n",
       "16 at9883    256\n",
       "17 at9900    239"
      ]
     },
     "metadata": {},
     "output_type": "display_data"
    }
   ],
   "source": [
    "ready %>%\n",
    "    filter(annotation_source != \"do_not_export\") %>%\n",
    "    group_by(accession) %>%\n",
    "    summarise(n=n())"
   ]
  },
  {
   "cell_type": "code",
   "execution_count": null,
   "id": "a7845117-b3ae-442b-92c0-34159d346d0d",
   "metadata": {},
   "outputs": [],
   "source": []
  }
 ],
 "metadata": {
  "kernelspec": {
   "display_name": "R",
   "language": "R",
   "name": "ir"
  },
  "language_info": {
   "codemirror_mode": "r",
   "file_extension": ".r",
   "mimetype": "text/x-r-source",
   "name": "R",
   "pygments_lexer": "r",
   "version": "4.3.2"
  },
  "widgets": {
   "application/vnd.jupyter.widget-state+json": {
    "state": {},
    "version_major": 2,
    "version_minor": 0
   }
  }
 },
 "nbformat": 4,
 "nbformat_minor": 5
}
