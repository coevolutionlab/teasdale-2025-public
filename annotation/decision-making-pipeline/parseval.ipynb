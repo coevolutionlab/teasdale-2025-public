{
 "cells": [
  {
   "cell_type": "code",
   "execution_count": 1,
   "id": "620b4237-2912-4f8d-b460-5cb3b728253d",
   "metadata": {
    "tags": []
   },
   "outputs": [],
   "source": [
    "conda activate parseval"
   ]
  },
  {
   "cell_type": "code",
   "execution_count": 7,
   "id": "3d689c9d-8d5b-4329-8059-89b620be6b51",
   "metadata": {
    "tags": []
   },
   "outputs": [
    {
     "name": "stdout",
     "output_type": "stream",
     "text": [
      "Using standard /tmp/global2/kmurray/conda/envs/parseval/lib/perl5/site_perl/auto/share/dist/AGAT/config.yaml file\n",
      "\n",
      " ------------------------------------------------------------------------------\n",
      "|   Another GFF Analysis Toolkit (AGAT) - Version: v1.0.0                      |\n",
      "|   https://github.com/NBISweden/AGAT                                          |\n",
      "|   National Bioinformatics Infrastructure Sweden (NBIS) - www.nbis.se         |\n",
      " ------------------------------------------------------------------------------\n",
      "                                        \n",
      "                                       \n",
      "                          ------ Start parsing ------                           \n",
      "-------------------------- parse options and metadata --------------------------\n",
      "=> Accessing the feature_levels YAML file\n",
      "Using standard /tmp/global2/kmurray/conda/envs/parseval/lib/perl5/site_perl/auto/share/dist/AGAT/feature_levels.yaml file\n",
      "=> Attribute used to group features when no Parent/ID relationship exists (i.e common tag):\n",
      "\t* locus_tag\n",
      "\t* gene_id\n",
      "=> merge_loci option deactivated\n",
      "=> Machine information:\n",
      "\tThis script is being run by perl v5.32.1\n",
      "\tBioperl location being used: /tmp/global2/kmurray/conda/envs/parseval/lib/perl5/site_perl/Bio/\n",
      "\tOperating system being used: linux \n",
      "=> Accessing Ontology\n",
      "\tNo ontology accessible from the gff file header!\n",
      "\tWe use the SOFA ontology distributed with AGAT:\n",
      "\t\t/tmp/global2/kmurray/conda/envs/parseval/lib/perl5/site_perl/auto/share/dist/AGAT/so.obo\n",
      "\tRead ontology /tmp/global2/kmurray/conda/envs/parseval/lib/perl5/site_perl/auto/share/dist/AGAT/so.obo:\n",
      "\t\t4 root terms, and 2596 total terms, and 1516 leaf terms\n",
      "\tFiltering ontology:\n",
      "\t\tWe found 1861 terms that are sequence_feature or is_a child of it.\n",
      "--------------------------------- parsing file ---------------------------------\n",
      "=> Number of line in file: 5750\n",
      "=> Number of comment lines: 242\n",
      "=> Fasta included: No\n",
      "=> Number of features lines: 5508\n",
      "=> Number of feature type (3rd column): 6\n",
      "\t* Level1: 1 => gene\n",
      "\t* level2: 1 => mRNA\n",
      "\t* level3: 4 => five_prime_UTR exon three_prime_UTR CDS\n",
      "\t* unknown: 0 => \n",
      "=> Version of the Bioperl GFF parser selected by AGAT: 3\n",
      "WARNING l2 and l1 features not on same seq_id @ nbis-mrna-7 level2 feature is on at9852_1_chr5 sequence while nbisL1-mrna-1 level1 feature is on at9852_1_chr1\n",
      "WARNING l2 and l1 features not on same seq_id @ nbis-mrna-8 level2 feature is on at9852_1_chr5 sequence while nbisL1-mrna-2 level1 feature is on at9852_1_chr1\n",
      "2 warning messages: WARNING l2 and l1 features not on same seq_id \n",
      "                  ------ End parsing (done in 2 second) ------                  \n",
      "\n",
      "\n",
      "                           ------ Start checks ------                           \n",
      "---------------------------- Check1: feature types -----------------------------\n",
      "----------------------------------- ontology -----------------------------------\n",
      "All feature types in agreement with the Ontology.\n",
      "------------------------------------- agat -------------------------------------\n",
      "AGAT can deal with all the encountered feature types (3rd column)\n",
      "------------------------------ done in 0 seconds -------------------------------\n",
      "\n",
      "------------------------------ Check2: duplicates ------------------------------\n",
      "Duplicates detected! (Same chr/contig/scaffold, same position, same ID)\n",
      "Removed 4 duplicated gene features for a total of 4 duplicates.\n",
      "Removed 7 duplicated three_prime_utr features for a total of 7 duplicates.\n",
      "Removed 4 duplicated five_prime_utr features for a total of 4 duplicates.\n",
      "Removed 38 duplicated exon features for a total of 38 duplicates.\n",
      "Removed 35 duplicated cds features for a total of 35 duplicates.\n",
      "Removed 6 duplicated mrna features for a total of 6 duplicates.\n",
      "------------------------------ done in 0 seconds -------------------------------\n",
      "\n",
      "-------------------------- Check3: sequential bucket ---------------------------\n",
      "Nothing to check as sequential bucket!\n",
      "------------------------------ done in 0 seconds -------------------------------\n",
      "\n",
      "--------------------------- Check4: l2 linked to l3 ----------------------------\n",
      "No problem found\n",
      "------------------------------ done in 0 seconds -------------------------------\n",
      "\n",
      "--------------------------- Check5: l1 linked to l2 ----------------------------\n",
      "No problem found\n",
      "------------------------------ done in 0 seconds -------------------------------\n",
      "\n",
      "--------------------------- Check6: remove orphan l1 ---------------------------\n",
      "We remove only those not supposed to be orphan\n",
      "2 cases removed where L1 features do not have children (while they are suposed to have children).\n",
      "------------------------------ done in 0 seconds -------------------------------\n",
      "\n",
      "------------------------- Check7: all level3 locations -------------------------\n",
      "------------------------------ done in 0 seconds -------------------------------\n",
      "\n",
      "------------------------------ Check8: check cds -------------------------------\n",
      "No problem found\n",
      "------------------------------ done in 0 seconds -------------------------------\n",
      "\n",
      "----------------------------- Check9: check exons ------------------------------\n",
      "No exons created\n",
      "14 exons locations modified that were wrong\n",
      "No supernumerary exons removed\n",
      "2 level2 locations modified\n",
      "------------------------------ done in 0 seconds -------------------------------\n",
      "\n",
      "----------------------------- Check10: check utrs ------------------------------\n",
      "No UTRs created\n",
      "No UTRs locations modified\n",
      "No supernumerary UTRs removed\n",
      "------------------------------ done in 0 seconds -------------------------------\n",
      "\n",
      "------------------------ Check11: all level2 locations -------------------------\n",
      "No problem found\n",
      "------------------------------ done in 0 seconds -------------------------------\n",
      "\n",
      "------------------------ Check12: all level1 locations -------------------------\n",
      "We fixed 16 wrong level1 location cases\n",
      "------------------------------ done in 0 seconds -------------------------------\n",
      "\n",
      "---------------------- Check13: remove identical isoforms ----------------------\n",
      "None found\n",
      "------------------------------ done in 0 seconds -------------------------------\n",
      "                  ------ End checks (done in 0 second) ------                   \n",
      "\n",
      "\n",
      "GFF3 file parsed\n",
      "Formating output to GFF3\n",
      "usage: /tmp/global2/kmurray/conda/envs/parseval/bin/agat_convert_sp_gxf2gxf.pl --gff ./post-curation/at9852_hodgepodge.gff3 -o ./at9852_hodgepodge.agat.gff3\n",
      "Job done in 2 seconds\n"
     ]
    }
   ],
   "source": [
    "agat_convert_sp_gxf2gxf.pl  \\\n",
    "    --gff ./post-curation/at9852_hodgepodge.gff3 \\\n",
    "    -o ./at9852_hodgepodge.agat.gff3"
   ]
  },
  {
   "cell_type": "code",
   "execution_count": 4,
   "id": "187bd694-d904-4553-9c89-b0a38c3b1f38",
   "metadata": {
    "tags": []
   },
   "outputs": [
    {
     "name": "stdout",
     "output_type": "stream",
     "text": [
      "warning: seqid \"at9852_1_chr1\" on line 26 in file \"input/at9852.augustus.gff\" has not been previously introduced with a \"##sequence-region\" line, create such a line automatically\n",
      "warning: seqid \"at9852_1_chr2\" on line 144004 in file \"input/at9852.augustus.gff\" has not been previously introduced with a \"##sequence-region\" line, create such a line automatically\n",
      "warning: seqid \"at9852_1_chr3\" on line 233667 in file \"input/at9852.augustus.gff\" has not been previously introduced with a \"##sequence-region\" line, create such a line automatically\n",
      "warning: seqid \"at9852_1_chr4\" on line 347922 in file \"input/at9852.augustus.gff\" has not been previously introduced with a \"##sequence-region\" line, create such a line automatically\n",
      "warning: seqid \"at9852_1_chr5\" on line 437411 in file \"input/at9852.augustus.gff\" has not been previously introduced with a \"##sequence-region\" line, create such a line automatically\n",
      "warning: line 1 in file \"post-curation/at9852_hodgepodge.gff3\" does not begin with \"##gff-version\" or \"##gvf-version\", create \"##gff-version 3\" line automatically\n",
      "warning: seqid \"at9852_1_chr1\" on line 1 in file \"post-curation/at9852_hodgepodge.gff3\" has not been previously introduced with a \"##sequence-region\" line, create such a line automatically\n",
      "warning: seqid \"at9847_1_chr1\" on line 190 in file \"post-curation/at9852_hodgepodge.gff3\" has not been previously introduced with a \"##sequence-region\" line, create such a line automatically\n",
      "warning: seqid \"at9852_1_chr2\" on line 1340 in file \"post-curation/at9852_hodgepodge.gff3\" has not been previously introduced with a \"##sequence-region\" line, create such a line automatically\n",
      "warning: seqid \"at9852_1_chr3\" on line 1598 in file \"post-curation/at9852_hodgepodge.gff3\" has not been previously introduced with a \"##sequence-region\" line, create such a line automatically\n",
      "warning: seqid \"at9852_1_chr4\" on line 2195 in file \"post-curation/at9852_hodgepodge.gff3\" has not been previously introduced with a \"##sequence-region\" line, create such a line automatically\n",
      "warning: seqid \"at9847_1_chr4\" on line 2315 in file \"post-curation/at9852_hodgepodge.gff3\" has not been previously introduced with a \"##sequence-region\" line, create such a line automatically\n",
      "[ParsEval] error: the multi-feature with ID \"AT4G19045\" on line 3399 in file \"post-curation/at9852_hodgepodge.gff3\" is separated from its counterpart on line 3380 by terminator ### on line 3398\n"
     ]
    }
   ],
   "source": [
    "parseval \\\n",
    "    -f text \\\n",
    "    -g \\\n",
    "    -o 9852.aug.peval.txt \\\n",
    "    input/at9852.augustus.gff \\\n",
    "    post-curation/at9852_hodgepodge.gff3 "
   ]
  },
  {
   "cell_type": "code",
   "execution_count": null,
   "id": "cdd5a75a-9992-4d83-9d72-7bdeabd9d169",
   "metadata": {},
   "outputs": [],
   "source": []
  }
 ],
 "metadata": {
  "kernelspec": {
   "display_name": "Bash",
   "language": "bash",
   "name": "bash"
  },
  "language_info": {
   "codemirror_mode": "shell",
   "file_extension": ".sh",
   "mimetype": "text/x-sh",
   "name": "bash"
  },
  "widgets": {
   "application/vnd.jupyter.widget-state+json": {
    "state": {},
    "version_major": 2,
    "version_minor": 0
   }
  }
 },
 "nbformat": 4,
 "nbformat_minor": 5
}
