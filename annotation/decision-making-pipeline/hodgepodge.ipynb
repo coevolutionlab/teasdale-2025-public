{
 "cells": [
  {
   "cell_type": "markdown",
   "id": "7cd2b7b1-388d-464f-b3ce-e54c05dbd2c8",
   "metadata": {},
   "source": [
    "ABANDON HOPE, ALL WHO ENTER HERE"
   ]
  },
  {
   "cell_type": "code",
   "execution_count": 1,
   "id": "f2c96e7e-b96f-4864-9150-d10624ddb324",
   "metadata": {
    "tags": []
   },
   "outputs": [
    {
     "data": {
      "text/plain": [
       "'20230816-103757_v3'"
      ]
     },
     "execution_count": 1,
     "metadata": {},
     "output_type": "execute_result"
    }
   ],
   "source": [
    "from datetime import datetime\n",
    "EXPORT_VERSION = f\"{datetime.now().strftime('%Y%m%d-%H%M%S')}_v3\"\n",
    "EXPORT_VERSION"
   ]
  },
  {
   "cell_type": "code",
   "execution_count": 2,
   "id": "20216b0e-a471-4e8b-937e-4fae4db1ad47",
   "metadata": {},
   "outputs": [
    {
     "data": {
      "text/plain": [
       "<module 'gffuuu.gffparse' from '/tmp/global2/kmurray/difflines-km/gffuuuu/gffuuu/gffparse.py'>"
      ]
     },
     "execution_count": 2,
     "metadata": {},
     "output_type": "execute_result"
    }
   ],
   "source": [
    "from gffuuu import gffparse\n",
    "import importlib\n",
    "importlib.reload(gffparse)"
   ]
  },
  {
   "cell_type": "code",
   "execution_count": 3,
   "id": "9967598e-9eef-4337-b471-12ae052ed861",
   "metadata": {},
   "outputs": [],
   "source": [
    "import pandas as pd\n",
    "import numpy as np\n",
    "from intervaltree import IntervalTree\n",
    "from ordered_set import OrderedSet\n",
    "from tqdm.notebook import tqdm"
   ]
  },
  {
   "cell_type": "code",
   "execution_count": 4,
   "id": "736bfc60-7428-4f33-9d0c-4de1107bb32f",
   "metadata": {},
   "outputs": [],
   "source": [
    "import subprocess\n",
    "from pathlib import Path\n",
    "import traceback\n",
    "import re\n",
    "import textwrap\n",
    "import json\n",
    "from copy import deepcopy\n",
    "from collections import defaultdict, Counter\n",
    "import math\n",
    "from sys import stdin,stdout,stderr\n"
   ]
  },
  {
   "cell_type": "markdown",
   "id": "5fe0aed1-4d62-4430-bd70-f80e1a8d9ed0",
   "metadata": {},
   "source": [
    "## GFF-ify manual annotation decisions"
   ]
  },
  {
   "cell_type": "code",
   "execution_count": 5,
   "id": "007c8e02-398a-4f20-a889-a376851be164",
   "metadata": {},
   "outputs": [],
   "source": [
    "df = pd.read_table(\"post-curation/ready.tsv\")"
   ]
  },
  {
   "cell_type": "code",
   "execution_count": 6,
   "id": "065ce510-38d9-4d19-b6f2-4a5f0f86556f",
   "metadata": {
    "tags": []
   },
   "outputs": [
    {
     "data": {
      "text/html": [
       "<div>\n",
       "<style scoped>\n",
       "    .dataframe tbody tr th:only-of-type {\n",
       "        vertical-align: middle;\n",
       "    }\n",
       "\n",
       "    .dataframe tbody tr th {\n",
       "        vertical-align: top;\n",
       "    }\n",
       "\n",
       "    .dataframe thead th {\n",
       "        text-align: right;\n",
       "    }\n",
       "</style>\n",
       "<table border=\"1\" class=\"dataframe\">\n",
       "  <thead>\n",
       "    <tr style=\"text-align: right;\">\n",
       "      <th></th>\n",
       "      <th>accession</th>\n",
       "      <th>chromosome</th>\n",
       "      <th>locus_start</th>\n",
       "      <th>locus_end</th>\n",
       "      <th>locus_name</th>\n",
       "      <th>strand</th>\n",
       "      <th>locus_coords</th>\n",
       "      <th>kevin_decision</th>\n",
       "      <th>pseudogene</th>\n",
       "      <th>status_already</th>\n",
       "      <th>manual_annotation_status</th>\n",
       "      <th>readiness</th>\n",
       "      <th>take_auto</th>\n",
       "      <th>annotation_source</th>\n",
       "    </tr>\n",
       "  </thead>\n",
       "  <tbody>\n",
       "    <tr>\n",
       "      <th>0</th>\n",
       "      <td>at6923</td>\n",
       "      <td>at6923_1_chr1</td>\n",
       "      <td>1591710</td>\n",
       "      <td>1592623</td>\n",
       "      <td>gene00485</td>\n",
       "      <td>+</td>\n",
       "      <td>at6923_1_chr1:1591711-1592623</td>\n",
       "      <td>aug_liftoff_cds_disagree_use_aug</td>\n",
       "      <td>NaN</td>\n",
       "      <td>NaN</td>\n",
       "      <td>NaN</td>\n",
       "      <td>R</td>\n",
       "      <td>False</td>\n",
       "      <td>liftoff</td>\n",
       "    </tr>\n",
       "    <tr>\n",
       "      <th>1</th>\n",
       "      <td>at6923</td>\n",
       "      <td>at6923_1_chr1</td>\n",
       "      <td>3133737</td>\n",
       "      <td>3134524</td>\n",
       "      <td>gene00955</td>\n",
       "      <td>+</td>\n",
       "      <td>at6923_1_chr1:3133738-3134524</td>\n",
       "      <td>aug_liftoff_cds_disagree_use_aug</td>\n",
       "      <td>NaN</td>\n",
       "      <td>NaN</td>\n",
       "      <td>NaN</td>\n",
       "      <td>R</td>\n",
       "      <td>False</td>\n",
       "      <td>liftoff</td>\n",
       "    </tr>\n",
       "    <tr>\n",
       "      <th>2</th>\n",
       "      <td>at6923</td>\n",
       "      <td>at6923_1_chr1</td>\n",
       "      <td>3644478</td>\n",
       "      <td>3647983</td>\n",
       "      <td>gene01098</td>\n",
       "      <td>-</td>\n",
       "      <td>at6923_1_chr1:3644479-3647983</td>\n",
       "      <td>aug_pasa_cds_agree_use_pasa</td>\n",
       "      <td>NaN</td>\n",
       "      <td>NaN</td>\n",
       "      <td>NaN</td>\n",
       "      <td>R</td>\n",
       "      <td>True</td>\n",
       "      <td>pasa</td>\n",
       "    </tr>\n",
       "    <tr>\n",
       "      <th>3</th>\n",
       "      <td>at6923</td>\n",
       "      <td>at6923_1_chr1</td>\n",
       "      <td>4134538</td>\n",
       "      <td>4138222</td>\n",
       "      <td>gene01244</td>\n",
       "      <td>+</td>\n",
       "      <td>at6923_1_chr1:4134539-4138222</td>\n",
       "      <td>pasa_cds_different_use_pasa</td>\n",
       "      <td>NaN</td>\n",
       "      <td>NaN</td>\n",
       "      <td>NaN</td>\n",
       "      <td>R</td>\n",
       "      <td>True</td>\n",
       "      <td>pasa</td>\n",
       "    </tr>\n",
       "    <tr>\n",
       "      <th>4</th>\n",
       "      <td>at6923</td>\n",
       "      <td>at6923_1_chr1</td>\n",
       "      <td>4138868</td>\n",
       "      <td>4142208</td>\n",
       "      <td>gene01246</td>\n",
       "      <td>+</td>\n",
       "      <td>at6923_1_chr1:4138869-4142208</td>\n",
       "      <td>liftoff_augustus_agree_subgene_isoseq_merges_u...</td>\n",
       "      <td>NaN</td>\n",
       "      <td>NaN</td>\n",
       "      <td>NaN</td>\n",
       "      <td>R</td>\n",
       "      <td>True</td>\n",
       "      <td>liftoff</td>\n",
       "    </tr>\n",
       "    <tr>\n",
       "      <th>...</th>\n",
       "      <td>...</td>\n",
       "      <td>...</td>\n",
       "      <td>...</td>\n",
       "      <td>...</td>\n",
       "      <td>...</td>\n",
       "      <td>...</td>\n",
       "      <td>...</td>\n",
       "      <td>...</td>\n",
       "      <td>...</td>\n",
       "      <td>...</td>\n",
       "      <td>...</td>\n",
       "      <td>...</td>\n",
       "      <td>...</td>\n",
       "      <td>...</td>\n",
       "    </tr>\n",
       "    <tr>\n",
       "      <th>4542</th>\n",
       "      <td>at9104</td>\n",
       "      <td>at9104_1_chr5</td>\n",
       "      <td>22381101</td>\n",
       "      <td>22390815</td>\n",
       "      <td>geneL</td>\n",
       "      <td>+</td>\n",
       "      <td>at9104_1_chr5:22381101-22390815</td>\n",
       "      <td>NaN</td>\n",
       "      <td>NaN</td>\n",
       "      <td>done</td>\n",
       "      <td>done</td>\n",
       "      <td>R</td>\n",
       "      <td>False</td>\n",
       "      <td>manual</td>\n",
       "    </tr>\n",
       "    <tr>\n",
       "      <th>4543</th>\n",
       "      <td>at9503</td>\n",
       "      <td>at9503_1_chr4</td>\n",
       "      <td>14691550</td>\n",
       "      <td>14702009</td>\n",
       "      <td>geneM</td>\n",
       "      <td>-</td>\n",
       "      <td>at9503_1_chr4:14691550-14702009</td>\n",
       "      <td>NaN</td>\n",
       "      <td>NaN</td>\n",
       "      <td>done</td>\n",
       "      <td>done</td>\n",
       "      <td>R</td>\n",
       "      <td>False</td>\n",
       "      <td>manual</td>\n",
       "    </tr>\n",
       "    <tr>\n",
       "      <th>4544</th>\n",
       "      <td>at9503</td>\n",
       "      <td>at9503_1_chr5</td>\n",
       "      <td>22081390</td>\n",
       "      <td>22089087</td>\n",
       "      <td>geneN</td>\n",
       "      <td>+</td>\n",
       "      <td>at9503_1_chr5:22081390-22089087</td>\n",
       "      <td>NaN</td>\n",
       "      <td>NaN</td>\n",
       "      <td>done</td>\n",
       "      <td>done</td>\n",
       "      <td>R</td>\n",
       "      <td>False</td>\n",
       "      <td>manual</td>\n",
       "    </tr>\n",
       "    <tr>\n",
       "      <th>4545</th>\n",
       "      <td>at9900</td>\n",
       "      <td>at9900_1_chr4</td>\n",
       "      <td>13288064</td>\n",
       "      <td>13299817</td>\n",
       "      <td>geneQ</td>\n",
       "      <td>+</td>\n",
       "      <td>at9900_1_chr4:13288064-13299817</td>\n",
       "      <td>NaN</td>\n",
       "      <td>NaN</td>\n",
       "      <td>done</td>\n",
       "      <td>done</td>\n",
       "      <td>R</td>\n",
       "      <td>False</td>\n",
       "      <td>pasa</td>\n",
       "    </tr>\n",
       "    <tr>\n",
       "      <th>4546</th>\n",
       "      <td>at9900</td>\n",
       "      <td>at9900_1_chr5</td>\n",
       "      <td>21518599</td>\n",
       "      <td>21528170</td>\n",
       "      <td>geneR</td>\n",
       "      <td>+</td>\n",
       "      <td>at9900_1_chr5:21518599-21528170</td>\n",
       "      <td>NaN</td>\n",
       "      <td>NaN</td>\n",
       "      <td>done</td>\n",
       "      <td>done</td>\n",
       "      <td>R</td>\n",
       "      <td>False</td>\n",
       "      <td>manual</td>\n",
       "    </tr>\n",
       "  </tbody>\n",
       "</table>\n",
       "<p>4547 rows × 14 columns</p>\n",
       "</div>"
      ],
      "text/plain": [
       "     accession     chromosome  locus_start  locus_end locus_name strand  \\\n",
       "0       at6923  at6923_1_chr1      1591710    1592623  gene00485      +   \n",
       "1       at6923  at6923_1_chr1      3133737    3134524  gene00955      +   \n",
       "2       at6923  at6923_1_chr1      3644478    3647983  gene01098      -   \n",
       "3       at6923  at6923_1_chr1      4134538    4138222  gene01244      +   \n",
       "4       at6923  at6923_1_chr1      4138868    4142208  gene01246      +   \n",
       "...        ...            ...          ...        ...        ...    ...   \n",
       "4542    at9104  at9104_1_chr5     22381101   22390815      geneL      +   \n",
       "4543    at9503  at9503_1_chr4     14691550   14702009      geneM      -   \n",
       "4544    at9503  at9503_1_chr5     22081390   22089087      geneN      +   \n",
       "4545    at9900  at9900_1_chr4     13288064   13299817      geneQ      +   \n",
       "4546    at9900  at9900_1_chr5     21518599   21528170      geneR      +   \n",
       "\n",
       "                         locus_coords  \\\n",
       "0       at6923_1_chr1:1591711-1592623   \n",
       "1       at6923_1_chr1:3133738-3134524   \n",
       "2       at6923_1_chr1:3644479-3647983   \n",
       "3       at6923_1_chr1:4134539-4138222   \n",
       "4       at6923_1_chr1:4138869-4142208   \n",
       "...                               ...   \n",
       "4542  at9104_1_chr5:22381101-22390815   \n",
       "4543  at9503_1_chr4:14691550-14702009   \n",
       "4544  at9503_1_chr5:22081390-22089087   \n",
       "4545  at9900_1_chr4:13288064-13299817   \n",
       "4546  at9900_1_chr5:21518599-21528170   \n",
       "\n",
       "                                         kevin_decision pseudogene  \\\n",
       "0                      aug_liftoff_cds_disagree_use_aug        NaN   \n",
       "1                      aug_liftoff_cds_disagree_use_aug        NaN   \n",
       "2                           aug_pasa_cds_agree_use_pasa        NaN   \n",
       "3                           pasa_cds_different_use_pasa        NaN   \n",
       "4     liftoff_augustus_agree_subgene_isoseq_merges_u...        NaN   \n",
       "...                                                 ...        ...   \n",
       "4542                                                NaN        NaN   \n",
       "4543                                                NaN        NaN   \n",
       "4544                                                NaN        NaN   \n",
       "4545                                                NaN        NaN   \n",
       "4546                                                NaN        NaN   \n",
       "\n",
       "     status_already manual_annotation_status readiness  take_auto  \\\n",
       "0               NaN                      NaN         R      False   \n",
       "1               NaN                      NaN         R      False   \n",
       "2               NaN                      NaN         R       True   \n",
       "3               NaN                      NaN         R       True   \n",
       "4               NaN                      NaN         R       True   \n",
       "...             ...                      ...       ...        ...   \n",
       "4542           done                     done         R      False   \n",
       "4543           done                     done         R      False   \n",
       "4544           done                     done         R      False   \n",
       "4545           done                     done         R      False   \n",
       "4546           done                     done         R      False   \n",
       "\n",
       "     annotation_source  \n",
       "0              liftoff  \n",
       "1              liftoff  \n",
       "2                 pasa  \n",
       "3                 pasa  \n",
       "4              liftoff  \n",
       "...                ...  \n",
       "4542            manual  \n",
       "4543            manual  \n",
       "4544            manual  \n",
       "4545              pasa  \n",
       "4546            manual  \n",
       "\n",
       "[4547 rows x 14 columns]"
      ]
     },
     "execution_count": 6,
     "metadata": {},
     "output_type": "execute_result"
    }
   ],
   "source": [
    "df"
   ]
  },
  {
   "cell_type": "code",
   "execution_count": 7,
   "id": "bcbdf230-eaa1-4c1a-af9c-167e6885b3c0",
   "metadata": {},
   "outputs": [],
   "source": [
    "def gff_path(acc, src, geneID=None):\n",
    "    \"\"\"Selects the path on disk based on accession and source, and gene id in the case of the manual cases\"\"\"\n",
    "    if src == \"manual\":\n",
    "        return f'manual_annotation/{acc}/{geneID}/output.gff3'\n",
    "    elif src == \"augustus\":\n",
    "        return f'input/{acc}.augustus.gff'\n",
    "    elif src == \"liftoff\":\n",
    "        return f'input/{acc}.liftoff.protonly.gff'\n",
    "    elif src == \"pasa\":\n",
    "        return f'input/{acc}.pasa.fix.gff'\n",
    "    else:\n",
    "        raise ValueError(f\"invalid source: {src}\")"
   ]
  },
  {
   "cell_type": "markdown",
   "id": "161093cd-dd81-470a-88fb-0d0557c1cb51",
   "metadata": {},
   "source": [
    "at6137 is excluded from this notebook section, and we treat all 6137 genes like we do the non-NLRs"
   ]
  },
  {
   "cell_type": "code",
   "execution_count": 8,
   "id": "beea7984-f8b3-49df-9be2-3bb99a843d60",
   "metadata": {},
   "outputs": [],
   "source": [
    "good_accs = ['at6923', 'at6929', 'at7143', 'at8285', 'at9104',\n",
    " 'at9336', 'at9503', 'at9578', 'at9744', 'at9762', 'at9806',\n",
    " 'at9830', 'at9847', 'at9852', 'at9883', 'at9900', 'at9879']\n",
    "all_accs = good_accs + [\"at6137\"]"
   ]
  },
  {
   "cell_type": "markdown",
   "id": "d89eec5f-5026-42c8-b917-0e1487acf023",
   "metadata": {
    "tags": []
   },
   "source": [
    "The horrible dictionarisaion of everything. takes ~2 mins so if the notebook hangs it's probably doing this."
   ]
  },
  {
   "cell_type": "markdown",
   "id": "93247a16-ea07-45ee-a83c-03e9b43cbb5a",
   "metadata": {},
   "source": [
    "Now, we break up the GFFs above into the loci defined in the decisions file."
   ]
  },
  {
   "cell_type": "code",
   "execution_count": 9,
   "id": "c02831b0-d5d0-4d6b-85e8-3506708cbeb1",
   "metadata": {},
   "outputs": [],
   "source": [
    "loci = {acc: {} for acc in good_accs}\n",
    "for i, gene in df.iterrows():\n",
    "    if gene.accession not in loci:\n",
    "        continue\n",
    "    if gene.chromosome not in loci[gene.accession]:\n",
    "        loci[gene.accession][gene.chromosome] =  {strand: IntervalTree() for strand in \"+-\"}\n",
    "    try:\n",
    "        loci[gene.accession][gene.chromosome][gene.strand][gene.locus_start:gene.locus_end] = gene.locus_name\n",
    "    except KeyError:\n",
    "        print(gene)\n",
    "        raise"
   ]
  },
  {
   "cell_type": "code",
   "execution_count": 10,
   "id": "26e7e0ab-aae3-4b53-8ae0-513bf5f93d0f",
   "metadata": {
    "tags": []
   },
   "outputs": [
    {
     "data": {
      "application/vnd.jupyter.widget-view+json": {
       "model_id": "e942af8606fc459197bd4d5b5b58cb92",
       "version_major": 2,
       "version_minor": 0
      },
      "text/plain": [
       "at6923 augustus: 0it [00:00, ?it/s]"
      ]
     },
     "metadata": {},
     "output_type": "display_data"
    },
    {
     "name": "stdout",
     "output_type": "stream",
     "text": [
      "at6923 augustus 297 genes from augustus\n"
     ]
    },
    {
     "data": {
      "application/vnd.jupyter.widget-view+json": {
       "model_id": "b902fb55ab9242a6b3b83a9f5e31f554",
       "version_major": 2,
       "version_minor": 0
      },
      "text/plain": [
       "at6923 liftoff: 0it [00:00, ?it/s]"
      ]
     },
     "metadata": {},
     "output_type": "display_data"
    },
    {
     "name": "stdout",
     "output_type": "stream",
     "text": [
      "at6923 liftoff 228 genes from liftoff\n"
     ]
    },
    {
     "data": {
      "application/vnd.jupyter.widget-view+json": {
       "model_id": "d4f0c1dedb1b4a51bf5741f1bf1d0dc3",
       "version_major": 2,
       "version_minor": 0
      },
      "text/plain": [
       "at6923 pasa: 0it [00:00, ?it/s]"
      ]
     },
     "metadata": {},
     "output_type": "display_data"
    },
    {
     "name": "stdout",
     "output_type": "stream",
     "text": [
      "at6923 pasa 127 genes from pasa\n"
     ]
    },
    {
     "data": {
      "application/vnd.jupyter.widget-view+json": {
       "model_id": "0fc128f470474e5e8d96cdc1f6a77303",
       "version_major": 2,
       "version_minor": 0
      },
      "text/plain": [
       "at6929 augustus: 0it [00:00, ?it/s]"
      ]
     },
     "metadata": {},
     "output_type": "display_data"
    },
    {
     "name": "stdout",
     "output_type": "stream",
     "text": [
      "at6929 augustus 260 genes from augustus\n"
     ]
    },
    {
     "data": {
      "application/vnd.jupyter.widget-view+json": {
       "model_id": "77396cd6d7824b22a38eba529f393088",
       "version_major": 2,
       "version_minor": 0
      },
      "text/plain": [
       "at6929 liftoff: 0it [00:00, ?it/s]"
      ]
     },
     "metadata": {},
     "output_type": "display_data"
    },
    {
     "name": "stdout",
     "output_type": "stream",
     "text": [
      "at6929 liftoff 213 genes from liftoff\n"
     ]
    },
    {
     "data": {
      "application/vnd.jupyter.widget-view+json": {
       "model_id": "35bcc8c14aa543f1b5ebbd67734e515e",
       "version_major": 2,
       "version_minor": 0
      },
      "text/plain": [
       "at6929 pasa: 0it [00:00, ?it/s]"
      ]
     },
     "metadata": {},
     "output_type": "display_data"
    },
    {
     "name": "stdout",
     "output_type": "stream",
     "text": [
      "at6929 pasa 111 genes from pasa\n"
     ]
    },
    {
     "data": {
      "application/vnd.jupyter.widget-view+json": {
       "model_id": "71d461d5a59c4efab3c28a9385f138a7",
       "version_major": 2,
       "version_minor": 0
      },
      "text/plain": [
       "at7143 augustus: 0it [00:00, ?it/s]"
      ]
     },
     "metadata": {},
     "output_type": "display_data"
    },
    {
     "name": "stdout",
     "output_type": "stream",
     "text": [
      "at7143 augustus 280 genes from augustus\n"
     ]
    },
    {
     "data": {
      "application/vnd.jupyter.widget-view+json": {
       "model_id": "94ce399a06db4d9b8644d2836326cc40",
       "version_major": 2,
       "version_minor": 0
      },
      "text/plain": [
       "at7143 liftoff: 0it [00:00, ?it/s]"
      ]
     },
     "metadata": {},
     "output_type": "display_data"
    },
    {
     "name": "stdout",
     "output_type": "stream",
     "text": [
      "at7143 liftoff 206 genes from liftoff\n"
     ]
    },
    {
     "data": {
      "application/vnd.jupyter.widget-view+json": {
       "model_id": "faf21b232ac04b2eb4a3d44015843548",
       "version_major": 2,
       "version_minor": 0
      },
      "text/plain": [
       "at7143 pasa: 0it [00:00, ?it/s]"
      ]
     },
     "metadata": {},
     "output_type": "display_data"
    },
    {
     "name": "stdout",
     "output_type": "stream",
     "text": [
      "at7143 pasa 130 genes from pasa\n"
     ]
    },
    {
     "data": {
      "application/vnd.jupyter.widget-view+json": {
       "model_id": "53e90dc77c114129b8b5eb530b83be59",
       "version_major": 2,
       "version_minor": 0
      },
      "text/plain": [
       "at8285 augustus: 0it [00:00, ?it/s]"
      ]
     },
     "metadata": {},
     "output_type": "display_data"
    },
    {
     "name": "stdout",
     "output_type": "stream",
     "text": [
      "at8285 augustus 270 genes from augustus\n"
     ]
    },
    {
     "data": {
      "application/vnd.jupyter.widget-view+json": {
       "model_id": "ad74da4a7f7c4ed59c1fd8f5e7d00981",
       "version_major": 2,
       "version_minor": 0
      },
      "text/plain": [
       "at8285 liftoff: 0it [00:00, ?it/s]"
      ]
     },
     "metadata": {},
     "output_type": "display_data"
    },
    {
     "name": "stdout",
     "output_type": "stream",
     "text": [
      "at8285 liftoff 221 genes from liftoff\n"
     ]
    },
    {
     "data": {
      "application/vnd.jupyter.widget-view+json": {
       "model_id": "4bb20486af7e4759bf8c9e6a5743ae1e",
       "version_major": 2,
       "version_minor": 0
      },
      "text/plain": [
       "at8285 pasa: 0it [00:00, ?it/s]"
      ]
     },
     "metadata": {},
     "output_type": "display_data"
    },
    {
     "name": "stdout",
     "output_type": "stream",
     "text": [
      "at8285 pasa 116 genes from pasa\n"
     ]
    },
    {
     "data": {
      "application/vnd.jupyter.widget-view+json": {
       "model_id": "da10d70a48fe41a88e285596352f4abe",
       "version_major": 2,
       "version_minor": 0
      },
      "text/plain": [
       "at9104 augustus: 0it [00:00, ?it/s]"
      ]
     },
     "metadata": {},
     "output_type": "display_data"
    },
    {
     "name": "stdout",
     "output_type": "stream",
     "text": [
      "at9104 augustus 300 genes from augustus\n"
     ]
    },
    {
     "data": {
      "application/vnd.jupyter.widget-view+json": {
       "model_id": "c9a0fbaf1b8b490795782c47eb90f5d6",
       "version_major": 2,
       "version_minor": 0
      },
      "text/plain": [
       "at9104 liftoff: 0it [00:00, ?it/s]"
      ]
     },
     "metadata": {},
     "output_type": "display_data"
    },
    {
     "name": "stdout",
     "output_type": "stream",
     "text": [
      "at9104 liftoff 229 genes from liftoff\n"
     ]
    },
    {
     "data": {
      "application/vnd.jupyter.widget-view+json": {
       "model_id": "d7e3d019bad04ec2922f966686fe0f2f",
       "version_major": 2,
       "version_minor": 0
      },
      "text/plain": [
       "at9104 pasa: 0it [00:00, ?it/s]"
      ]
     },
     "metadata": {},
     "output_type": "display_data"
    },
    {
     "name": "stdout",
     "output_type": "stream",
     "text": [
      "at9104 pasa 122 genes from pasa\n"
     ]
    },
    {
     "data": {
      "application/vnd.jupyter.widget-view+json": {
       "model_id": "256dc8fb33e548dd882c32a748e5cc34",
       "version_major": 2,
       "version_minor": 0
      },
      "text/plain": [
       "at9336 augustus: 0it [00:00, ?it/s]"
      ]
     },
     "metadata": {},
     "output_type": "display_data"
    },
    {
     "name": "stdout",
     "output_type": "stream",
     "text": [
      "at9336 augustus 265 genes from augustus\n"
     ]
    },
    {
     "data": {
      "application/vnd.jupyter.widget-view+json": {
       "model_id": "a112979da7bc47c6b187f950a8e5f341",
       "version_major": 2,
       "version_minor": 0
      },
      "text/plain": [
       "at9336 liftoff: 0it [00:00, ?it/s]"
      ]
     },
     "metadata": {},
     "output_type": "display_data"
    },
    {
     "name": "stdout",
     "output_type": "stream",
     "text": [
      "at9336 liftoff 212 genes from liftoff\n"
     ]
    },
    {
     "data": {
      "application/vnd.jupyter.widget-view+json": {
       "model_id": "d687ebebd77e4b24b648f0e641446d50",
       "version_major": 2,
       "version_minor": 0
      },
      "text/plain": [
       "at9336 pasa: 0it [00:00, ?it/s]"
      ]
     },
     "metadata": {},
     "output_type": "display_data"
    },
    {
     "name": "stdout",
     "output_type": "stream",
     "text": [
      "at9336 pasa 117 genes from pasa\n"
     ]
    },
    {
     "data": {
      "application/vnd.jupyter.widget-view+json": {
       "model_id": "84533a11758a41e89dbf57c4b0d5e91b",
       "version_major": 2,
       "version_minor": 0
      },
      "text/plain": [
       "at9503 augustus: 0it [00:00, ?it/s]"
      ]
     },
     "metadata": {},
     "output_type": "display_data"
    },
    {
     "name": "stdout",
     "output_type": "stream",
     "text": [
      "at9503 augustus 295 genes from augustus\n"
     ]
    },
    {
     "data": {
      "application/vnd.jupyter.widget-view+json": {
       "model_id": "919c765da65e47c4a3edf549c8515d63",
       "version_major": 2,
       "version_minor": 0
      },
      "text/plain": [
       "at9503 liftoff: 0it [00:00, ?it/s]"
      ]
     },
     "metadata": {},
     "output_type": "display_data"
    },
    {
     "name": "stdout",
     "output_type": "stream",
     "text": [
      "at9503 liftoff 225 genes from liftoff\n"
     ]
    },
    {
     "data": {
      "application/vnd.jupyter.widget-view+json": {
       "model_id": "7c4f1180efe848829034094e4a88b035",
       "version_major": 2,
       "version_minor": 0
      },
      "text/plain": [
       "at9503 pasa: 0it [00:00, ?it/s]"
      ]
     },
     "metadata": {},
     "output_type": "display_data"
    },
    {
     "name": "stdout",
     "output_type": "stream",
     "text": [
      "at9503 pasa 123 genes from pasa\n"
     ]
    },
    {
     "data": {
      "application/vnd.jupyter.widget-view+json": {
       "model_id": "f50f55c7731147ddbff3d2b0f4ffd91d",
       "version_major": 2,
       "version_minor": 0
      },
      "text/plain": [
       "at9578 augustus: 0it [00:00, ?it/s]"
      ]
     },
     "metadata": {},
     "output_type": "display_data"
    },
    {
     "name": "stdout",
     "output_type": "stream",
     "text": [
      "at9578 augustus 308 genes from augustus\n"
     ]
    },
    {
     "data": {
      "application/vnd.jupyter.widget-view+json": {
       "model_id": "f7a09887469e4b4ebb0069a0c09d8279",
       "version_major": 2,
       "version_minor": 0
      },
      "text/plain": [
       "at9578 liftoff: 0it [00:00, ?it/s]"
      ]
     },
     "metadata": {},
     "output_type": "display_data"
    },
    {
     "name": "stdout",
     "output_type": "stream",
     "text": [
      "at9578 liftoff 218 genes from liftoff\n"
     ]
    },
    {
     "data": {
      "application/vnd.jupyter.widget-view+json": {
       "model_id": "b4aa292292ca4f639f1ea53ca381cf98",
       "version_major": 2,
       "version_minor": 0
      },
      "text/plain": [
       "at9578 pasa: 0it [00:00, ?it/s]"
      ]
     },
     "metadata": {},
     "output_type": "display_data"
    },
    {
     "name": "stdout",
     "output_type": "stream",
     "text": [
      "at9578 pasa 118 genes from pasa\n"
     ]
    },
    {
     "data": {
      "application/vnd.jupyter.widget-view+json": {
       "model_id": "94c09b0ea62b449aa6dacb38427cba4d",
       "version_major": 2,
       "version_minor": 0
      },
      "text/plain": [
       "at9744 augustus: 0it [00:00, ?it/s]"
      ]
     },
     "metadata": {},
     "output_type": "display_data"
    },
    {
     "name": "stdout",
     "output_type": "stream",
     "text": [
      "at9744 augustus 301 genes from augustus\n"
     ]
    },
    {
     "data": {
      "application/vnd.jupyter.widget-view+json": {
       "model_id": "a2207a5f72194e84ba1169a51654cce6",
       "version_major": 2,
       "version_minor": 0
      },
      "text/plain": [
       "at9744 liftoff: 0it [00:00, ?it/s]"
      ]
     },
     "metadata": {},
     "output_type": "display_data"
    },
    {
     "name": "stdout",
     "output_type": "stream",
     "text": [
      "at9744 liftoff 225 genes from liftoff\n"
     ]
    },
    {
     "data": {
      "application/vnd.jupyter.widget-view+json": {
       "model_id": "d90c2cfabbef4476bcf0170e4205d773",
       "version_major": 2,
       "version_minor": 0
      },
      "text/plain": [
       "at9744 pasa: 0it [00:00, ?it/s]"
      ]
     },
     "metadata": {},
     "output_type": "display_data"
    },
    {
     "name": "stdout",
     "output_type": "stream",
     "text": [
      "at9744 pasa 132 genes from pasa\n"
     ]
    },
    {
     "data": {
      "application/vnd.jupyter.widget-view+json": {
       "model_id": "efe6b0d0323343338430e19858f82184",
       "version_major": 2,
       "version_minor": 0
      },
      "text/plain": [
       "at9762 augustus: 0it [00:00, ?it/s]"
      ]
     },
     "metadata": {},
     "output_type": "display_data"
    },
    {
     "name": "stdout",
     "output_type": "stream",
     "text": [
      "at9762 augustus 291 genes from augustus\n"
     ]
    },
    {
     "data": {
      "application/vnd.jupyter.widget-view+json": {
       "model_id": "70358c8a872a4bc4bfd6fc1f2f88c27d",
       "version_major": 2,
       "version_minor": 0
      },
      "text/plain": [
       "at9762 liftoff: 0it [00:00, ?it/s]"
      ]
     },
     "metadata": {},
     "output_type": "display_data"
    },
    {
     "name": "stdout",
     "output_type": "stream",
     "text": [
      "at9762 liftoff 223 genes from liftoff\n"
     ]
    },
    {
     "data": {
      "application/vnd.jupyter.widget-view+json": {
       "model_id": "9649e040b8d1458982d7685a9190e8c5",
       "version_major": 2,
       "version_minor": 0
      },
      "text/plain": [
       "at9762 pasa: 0it [00:00, ?it/s]"
      ]
     },
     "metadata": {},
     "output_type": "display_data"
    },
    {
     "name": "stdout",
     "output_type": "stream",
     "text": [
      "at9762 pasa 117 genes from pasa\n"
     ]
    },
    {
     "data": {
      "application/vnd.jupyter.widget-view+json": {
       "model_id": "55aa5188b52040118376a3c55ec8ab63",
       "version_major": 2,
       "version_minor": 0
      },
      "text/plain": [
       "at9806 augustus: 0it [00:00, ?it/s]"
      ]
     },
     "metadata": {},
     "output_type": "display_data"
    },
    {
     "name": "stdout",
     "output_type": "stream",
     "text": [
      "at9806 augustus 272 genes from augustus\n"
     ]
    },
    {
     "data": {
      "application/vnd.jupyter.widget-view+json": {
       "model_id": "508d305e61f5479685bbdf908730667c",
       "version_major": 2,
       "version_minor": 0
      },
      "text/plain": [
       "at9806 liftoff: 0it [00:00, ?it/s]"
      ]
     },
     "metadata": {},
     "output_type": "display_data"
    },
    {
     "name": "stdout",
     "output_type": "stream",
     "text": [
      "at9806 liftoff 223 genes from liftoff\n"
     ]
    },
    {
     "data": {
      "application/vnd.jupyter.widget-view+json": {
       "model_id": "bcca02068ff6495ca6abb026ba907744",
       "version_major": 2,
       "version_minor": 0
      },
      "text/plain": [
       "at9806 pasa: 0it [00:00, ?it/s]"
      ]
     },
     "metadata": {},
     "output_type": "display_data"
    },
    {
     "name": "stdout",
     "output_type": "stream",
     "text": [
      "at9806 pasa 115 genes from pasa\n"
     ]
    },
    {
     "data": {
      "application/vnd.jupyter.widget-view+json": {
       "model_id": "27e3c08148264a1db03d816b0be8de39",
       "version_major": 2,
       "version_minor": 0
      },
      "text/plain": [
       "at9830 augustus: 0it [00:00, ?it/s]"
      ]
     },
     "metadata": {},
     "output_type": "display_data"
    },
    {
     "name": "stdout",
     "output_type": "stream",
     "text": [
      "at9830 augustus 263 genes from augustus\n"
     ]
    },
    {
     "data": {
      "application/vnd.jupyter.widget-view+json": {
       "model_id": "c1a51e3bda4b42eb8a981cf5e2fee7ce",
       "version_major": 2,
       "version_minor": 0
      },
      "text/plain": [
       "at9830 liftoff: 0it [00:00, ?it/s]"
      ]
     },
     "metadata": {},
     "output_type": "display_data"
    },
    {
     "name": "stdout",
     "output_type": "stream",
     "text": [
      "at9830 liftoff 210 genes from liftoff\n"
     ]
    },
    {
     "data": {
      "application/vnd.jupyter.widget-view+json": {
       "model_id": "798f5954f315454d932e9b506cec5810",
       "version_major": 2,
       "version_minor": 0
      },
      "text/plain": [
       "at9830 pasa: 0it [00:00, ?it/s]"
      ]
     },
     "metadata": {},
     "output_type": "display_data"
    },
    {
     "name": "stdout",
     "output_type": "stream",
     "text": [
      "at9830 pasa 122 genes from pasa\n"
     ]
    },
    {
     "data": {
      "application/vnd.jupyter.widget-view+json": {
       "model_id": "dd27821f21b14633adfdb0e414d4aba8",
       "version_major": 2,
       "version_minor": 0
      },
      "text/plain": [
       "at9847 augustus: 0it [00:00, ?it/s]"
      ]
     },
     "metadata": {},
     "output_type": "display_data"
    },
    {
     "name": "stdout",
     "output_type": "stream",
     "text": [
      "at9847 augustus 291 genes from augustus\n"
     ]
    },
    {
     "data": {
      "application/vnd.jupyter.widget-view+json": {
       "model_id": "c3e8712489ff4745b8aee340ad61649f",
       "version_major": 2,
       "version_minor": 0
      },
      "text/plain": [
       "at9847 liftoff: 0it [00:00, ?it/s]"
      ]
     },
     "metadata": {},
     "output_type": "display_data"
    },
    {
     "name": "stdout",
     "output_type": "stream",
     "text": [
      "at9847 liftoff 224 genes from liftoff\n"
     ]
    },
    {
     "data": {
      "application/vnd.jupyter.widget-view+json": {
       "model_id": "1f946552fd9542859c1014e4a9415f36",
       "version_major": 2,
       "version_minor": 0
      },
      "text/plain": [
       "at9847 pasa: 0it [00:00, ?it/s]"
      ]
     },
     "metadata": {},
     "output_type": "display_data"
    },
    {
     "name": "stdout",
     "output_type": "stream",
     "text": [
      "at9847 pasa 121 genes from pasa\n"
     ]
    },
    {
     "data": {
      "application/vnd.jupyter.widget-view+json": {
       "model_id": "b37be742e5724e66a9af674f8a8b32d9",
       "version_major": 2,
       "version_minor": 0
      },
      "text/plain": [
       "at9852 augustus: 0it [00:00, ?it/s]"
      ]
     },
     "metadata": {},
     "output_type": "display_data"
    },
    {
     "name": "stdout",
     "output_type": "stream",
     "text": [
      "at9852 augustus 288 genes from augustus\n"
     ]
    },
    {
     "data": {
      "application/vnd.jupyter.widget-view+json": {
       "model_id": "f48821df0a8843368d1c43b3351aa14f",
       "version_major": 2,
       "version_minor": 0
      },
      "text/plain": [
       "at9852 liftoff: 0it [00:00, ?it/s]"
      ]
     },
     "metadata": {},
     "output_type": "display_data"
    },
    {
     "name": "stdout",
     "output_type": "stream",
     "text": [
      "at9852 liftoff 220 genes from liftoff\n"
     ]
    },
    {
     "data": {
      "application/vnd.jupyter.widget-view+json": {
       "model_id": "570439b7def1470d95640ac54dd42762",
       "version_major": 2,
       "version_minor": 0
      },
      "text/plain": [
       "at9852 pasa: 0it [00:00, ?it/s]"
      ]
     },
     "metadata": {},
     "output_type": "display_data"
    },
    {
     "name": "stdout",
     "output_type": "stream",
     "text": [
      "at9852 pasa 122 genes from pasa\n"
     ]
    },
    {
     "data": {
      "application/vnd.jupyter.widget-view+json": {
       "model_id": "b159c377f4cc4b8e8be9464c80bd3816",
       "version_major": 2,
       "version_minor": 0
      },
      "text/plain": [
       "at9883 augustus: 0it [00:00, ?it/s]"
      ]
     },
     "metadata": {},
     "output_type": "display_data"
    },
    {
     "name": "stdout",
     "output_type": "stream",
     "text": [
      "at9883 augustus 304 genes from augustus\n"
     ]
    },
    {
     "data": {
      "application/vnd.jupyter.widget-view+json": {
       "model_id": "897e219f4fa64db885c8e8a33a969b3a",
       "version_major": 2,
       "version_minor": 0
      },
      "text/plain": [
       "at9883 liftoff: 0it [00:00, ?it/s]"
      ]
     },
     "metadata": {},
     "output_type": "display_data"
    },
    {
     "name": "stdout",
     "output_type": "stream",
     "text": [
      "at9883 liftoff 223 genes from liftoff\n"
     ]
    },
    {
     "data": {
      "application/vnd.jupyter.widget-view+json": {
       "model_id": "2f9b6971884243a8b5c73f464618cf9c",
       "version_major": 2,
       "version_minor": 0
      },
      "text/plain": [
       "at9883 pasa: 0it [00:00, ?it/s]"
      ]
     },
     "metadata": {},
     "output_type": "display_data"
    },
    {
     "name": "stdout",
     "output_type": "stream",
     "text": [
      "at9883 pasa 118 genes from pasa\n"
     ]
    },
    {
     "data": {
      "application/vnd.jupyter.widget-view+json": {
       "model_id": "887e8731fd07496282f344ad4c46234e",
       "version_major": 2,
       "version_minor": 0
      },
      "text/plain": [
       "at9900 augustus: 0it [00:00, ?it/s]"
      ]
     },
     "metadata": {},
     "output_type": "display_data"
    },
    {
     "name": "stdout",
     "output_type": "stream",
     "text": [
      "at9900 augustus 271 genes from augustus\n"
     ]
    },
    {
     "data": {
      "application/vnd.jupyter.widget-view+json": {
       "model_id": "2b15f589145d47d98bf450fd61c625b6",
       "version_major": 2,
       "version_minor": 0
      },
      "text/plain": [
       "at9900 liftoff: 0it [00:00, ?it/s]"
      ]
     },
     "metadata": {},
     "output_type": "display_data"
    },
    {
     "name": "stdout",
     "output_type": "stream",
     "text": [
      "at9900 liftoff 215 genes from liftoff\n"
     ]
    },
    {
     "data": {
      "application/vnd.jupyter.widget-view+json": {
       "model_id": "f1c1f8bc515444cb8ef31ab2c7a5a3f0",
       "version_major": 2,
       "version_minor": 0
      },
      "text/plain": [
       "at9900 pasa: 0it [00:00, ?it/s]"
      ]
     },
     "metadata": {},
     "output_type": "display_data"
    },
    {
     "name": "stdout",
     "output_type": "stream",
     "text": [
      "at9900 pasa 126 genes from pasa\n"
     ]
    },
    {
     "data": {
      "application/vnd.jupyter.widget-view+json": {
       "model_id": "ab32ed8afc8242aa89db578caf6ba1fa",
       "version_major": 2,
       "version_minor": 0
      },
      "text/plain": [
       "at9879 augustus: 0it [00:00, ?it/s]"
      ]
     },
     "metadata": {},
     "output_type": "display_data"
    },
    {
     "name": "stdout",
     "output_type": "stream",
     "text": [
      "at9879 augustus 257 genes from augustus\n"
     ]
    },
    {
     "data": {
      "application/vnd.jupyter.widget-view+json": {
       "model_id": "2a373d65606f47f8ad4ca8e825b6ae12",
       "version_major": 2,
       "version_minor": 0
      },
      "text/plain": [
       "at9879 liftoff: 0it [00:00, ?it/s]"
      ]
     },
     "metadata": {},
     "output_type": "display_data"
    },
    {
     "name": "stdout",
     "output_type": "stream",
     "text": [
      "at9879 liftoff 206 genes from liftoff\n"
     ]
    },
    {
     "data": {
      "application/vnd.jupyter.widget-view+json": {
       "model_id": "9e4d855999e940e59b23b6861b492eda",
       "version_major": 2,
       "version_minor": 0
      },
      "text/plain": [
       "at9879 pasa: 0it [00:00, ?it/s]"
      ]
     },
     "metadata": {},
     "output_type": "display_data"
    },
    {
     "name": "stdout",
     "output_type": "stream",
     "text": [
      "at9879 pasa 110 genes from pasa\n"
     ]
    }
   ],
   "source": [
    "srcs = [\"augustus\", \"liftoff\", \"pasa\"]#, \"happy\"]\n",
    "locus_gffs = { acc: { src: defaultdict(list) for src in srcs} for acc in good_accs}\n",
    "all_lids = defaultdict(set)\n",
    "for acc in good_accs:\n",
    "    for src in srcs:\n",
    "        i = 0\n",
    "        if src == \"happy\":\n",
    "            gff_data = gffparse.gff_heirarchy(f\"output/{acc}_happy.gff3\", progress=f\"{acc} {src}\")\n",
    "        else:\n",
    "            gff_data = gffparse.gff_heirarchy(gff_path(acc, src), progress=f\"{acc} {src}\")\n",
    "        for gene, gene_data in gff_data.items():\n",
    "            try:\n",
    "                locus = loci[acc][gene_data[\"seqid\"]][gene_data[\"strand\"]].overlap(gene_data[\"start\"], gene_data[\"end\"])\n",
    "            except KeyError:\n",
    "                continue\n",
    "            if len(locus) > 0:\n",
    "                i +=  1\n",
    "                locus_ids = [l.data for l in locus]\n",
    "                for lid in locus_ids:\n",
    "                    locus_gffs[acc][src][lid].append(gene_data)\n",
    "                    all_lids[acc].add(lid)\n",
    "        print(f\"{acc} {src} {i} genes from {src}\")"
   ]
  },
  {
   "cell_type": "code",
   "execution_count": 11,
   "id": "b4a284f1-36b2-4a74-87f6-a078ea4d2b63",
   "metadata": {
    "tags": []
   },
   "outputs": [],
   "source": [
    "class GeneProcessor(object):\n",
    "    def __init__(self, gene):\n",
    "        self.gene = deepcopy(gene)\n",
    "        \n",
    "    def apply(self, function, *args, **kwargs):\n",
    "        res = function(self.gene, *args, **kwargs)\n",
    "        if res is not None:\n",
    "            self.gene = res\n",
    "        return self"
   ]
  },
  {
   "cell_type": "code",
   "execution_count": 12,
   "id": "de20e002-6119-4722-ad0e-157418e554b4",
   "metadata": {
    "tags": []
   },
   "outputs": [],
   "source": [
    "def rename_parent(gene, frm, to, silent=False):\n",
    "    gid =  gene[\"attributes\"][\"ID\"]\n",
    "    if re.match(frm, gid):\n",
    "        newid = re.sub(frm, to, gid)\n",
    "        if not silent:\n",
    "            print(f\"INFO: renaming gene {gid} to {newid}\", file=stderr)\n",
    "        gene['attributes'][\"ID\"] = newid\n",
    "        children = list(gene[\"children\"].keys())\n",
    "        for c in children:\n",
    "            child = gene[\"children\"][c]\n",
    "            if \"Parent\" in child[\"attributes\"] and re.match(frm, child[\"attributes\"][\"Parent\"]):\n",
    "                child[\"attributes\"][\"Parent\"] = newid\n",
    "    return gene"
   ]
  },
  {
   "cell_type": "code",
   "execution_count": 13,
   "id": "316b92a2-50ca-445f-9447-246a0471456e",
   "metadata": {
    "tags": []
   },
   "outputs": [],
   "source": [
    "def update_type(gene, type_updater, exclude_unknown_children=False):\n",
    "    gid = gene[\"attributes\"][\"ID\"]\n",
    "    gene[\"type\"] = type_updater.get(gene[\"type\"], gene[\"type\"])\n",
    "    if \"children\" in gene:\n",
    "        children = list(gene[\"children\"].keys())\n",
    "        for child in children:\n",
    "            update_type(gene[\"children\"][child], type_updater)\n",
    "            if exclude_unknown_children and gene[\"children\"][child][\"type\"] not in type_updater:\n",
    "                print(f\"WARNING: removing unloved child '{child}' of type {gene['children'][child]['type']} from gene {gid}\", file=stdout)\n",
    "                del gene[\"children\"][child]\n",
    "            else:\n",
    "                update_type(gene[\"children\"][child], type_updater)"
   ]
  },
  {
   "cell_type": "code",
   "execution_count": 14,
   "id": "dbed3da6-3fbb-4675-8eff-9cb35794cb7a",
   "metadata": {},
   "outputs": [],
   "source": [
    "def pseudogene_reontologise(gene, loc, exclude_unknown_children=False):\n",
    "    if not isinstance(loc.pseudogene, str) or not loc.pseudogene:\n",
    "        return gene\n",
    "    gid = gene[\"attributes\"][\"ID\"]\n",
    "    pseudogene_defs = set([x.strip() for x in loc.pseudogene.split(\",\")])\n",
    "    for pseudogene in pseudogene_defs:\n",
    "        if \"_\" in pseudogene:\n",
    "            pseudo, pseudo_id = pseudogene.split(\"_\", 1)\n",
    "        else:\n",
    "            pseudo = pseudogene\n",
    "            pseudo_id = None\n",
    "        if pseudo == \"protopseudogene\" and (pseudo_id is None or gid == pseudo_id):\n",
    "            type_updater = {} # we keep this the same\n",
    "            attrs = {\"is_pseudogenic\": \"protopseudogene\"}\n",
    "            exclude_unknown_children = False\n",
    "        elif pseudo == \"pseudogene\" and (pseudo_id is None or gid == pseudo_id):\n",
    "            type_updater = {\"gene\": \"pseudogene\",\n",
    "                            \"mRNA\": \"pseudogenic_transcript\",\n",
    "                            \"transcript\": \"pseudogenic_transcript\",\n",
    "                            \"CDS\": \"CDS\",\n",
    "                            \"exon\": \"exon\"}\n",
    "            attrs = {\"is_pseudogenic\": \"pseudogene\"}\n",
    "        elif (pseudo == \"remnants\" or pseudo == \"remnant\") and (pseudo_id is None or gid == pseudo_id):\n",
    "            type_updater = {\"gene\": \"pseudogenic_region\",\n",
    "                            \"mRNA\": \"pseudogenic_transcript\",\n",
    "                            \"transcript\": \"pseudogenic_transcript\",\n",
    "                            \"CDS\": \"CDS\",\n",
    "                            \"exon\": \"exon\"}\n",
    "            attrs = {\"is_pseudogenic\": \"remnants\"}\n",
    "        else:\n",
    "            if pseudo_id is not None:\n",
    "                pass\n",
    "                #print(f\"INFO: didn't match gene ID ({gid}) for {pseudogene} for {loc.accession}@{loc.locus_name}\", file=stderr)\n",
    "            else:\n",
    "                print(f\"ERROR: don't know how to deal with {pseudogene} for {loc.accession}@{loc.locus_name}\", file=stderr)\n",
    "            continue\n",
    "        update_type(gene, type_updater, exclude_unknown_children=exclude_unknown_children)\n",
    "        gene[\"attributes\"].update(attrs)\n",
    "    return gene"
   ]
  },
  {
   "cell_type": "code",
   "execution_count": 15,
   "id": "78e1f53a-c3eb-4fe9-82ad-d36a014b30a8",
   "metadata": {
    "tags": []
   },
   "outputs": [],
   "source": [
    "def pseudogenise_liftoff_invalid_orfs(gene, loc):\n",
    "    if gene[\"source\"] != \"Liftoff\":\n",
    "        return\n",
    "    # If the gene has no valid orfs in its mRNAs, then it's a pseudogene. These are pseudogenes, so add a pseudogene entry for this in the loc table.\n",
    "    # it then gets processed as though we did this manually in the horrible table of doom.\n",
    "    if int(gene[\"attributes\"].get(\"valid_orfs\", \"0\")) < 1:\n",
    "        gid = gene[\"attributes\"][\"ID\"]\n",
    "        existing = \"\"\n",
    "        if isinstance(loc.pseudogene, str):\n",
    "            if loc.pseudogene != \"pseudogene\":\n",
    "                #print(f\"WARNING: locus already has a pseudogene, check for mistakes {loc.chromosome} {loc.locus_name} {loc.pseudogene} liftoff {gid}\", file=stdout)\n",
    "                existing = f\",{loc.pseudogene}\"\n",
    "        if loc.pseudogene != \"pseudogene\":\n",
    "            loc.pseudogene = f\"pseudogene_{gid}{existing}\"\n",
    "            #print(f\"INFO: pseudogenise {loc.chromosome} {loc.locus_name} liftoff {gid} -- check for this later, automation said:  {loc.kevin_decision}\", file=stdout)\n",
    "    return gene\n"
   ]
  },
  {
   "cell_type": "code",
   "execution_count": 16,
   "id": "f04fcd58-4bf6-4ca8-8bf5-fc4db0078f35",
   "metadata": {
    "tags": []
   },
   "outputs": [],
   "source": [
    "nlrannot = {acc: [] for acc in good_accs}\n",
    "for i, loc in df.iterrows():\n",
    "    gff = []\n",
    "    if loc.accession not in nlrannot:\n",
    "        continue\n",
    "    if loc.annotation_source == \"do_not_export\":\n",
    "        continue\n",
    "    elif loc.annotation_source == \"manual\":\n",
    "        try:\n",
    "            gff = list(gffparse.gff_heirarchy(gff_path(loc.accession, loc.annotation_source, geneID=loc.locus_name)).values())\n",
    "        except Exception as exc:\n",
    "            if isinstance(exc, FileNotFoundError):\n",
    "                print(f\"NOT READY/no output.gff3: {loc.accession}, {loc.locus_name}\")\n",
    "            elif isinstance(exc, AssertionError):\n",
    "                print(f\"FIELDS:\\n{gff_path(loc.accession, loc.annotation_source, geneID=loc.locus_name)}\")\n",
    "            else:\n",
    "                print(f\"FIXME:\\n{gff_path(loc.accession, loc.annotation_source, geneID=loc.locus_name)}\")\n",
    "                traceback.print_exc()\n",
    "    # This disrespects the manual curation of the automated cases. Some automated decisions changed between when the manual curation happened and now, so we always revert to taking what is in the table.\n",
    "    #elif loc.take_auto == True:\n",
    "    #    try:\n",
    "    #        gff = locus_gffs[loc.accession][\"happy\"][loc.locus_name]\n",
    "    #    except KeyError as exc:\n",
    "    #        print(f\"WARNING: happy annotation lookup missing: {loc.accession} {loc.locus_name} {loc.annotation_source}\")\n",
    "    #        print(loc)\n",
    "    #        print(exc)\n",
    "    else:\n",
    "        try:\n",
    "            gff = locus_gffs[loc.accession][loc.annotation_source][loc.locus_name]\n",
    "        except KeyError as exc:\n",
    "            print(f\"WARNING: auto annotation lookup missing: {loc.accession} {loc.locus_name} {loc.annotation_source}\")\n",
    "            print(loc)\n",
    "            print(exc)\n",
    "            \n",
    "    def check(gene):\n",
    "        if gene[\"seqid\"] != loc.chromosome:\n",
    "            print(f\"ERROR: unexpected chromosome for  {loc.accession} {loc.locus_name} {loc.annotation_source}: {gene['seqid']} != {loc.chromosome}\", file=stderr)\n",
    "        gene[\"attributes\"][\"manually_curated_dl20\"] = \"true\"\n",
    "        gene[\"attributes\"][\"manual_curation_locus_id\"] = loc.locus_name\n",
    "        if \"confidence_reason\" not in gene[\"attributes\"]:\n",
    "            if not pd.isna(loc.kevin_decision):\n",
    "                gene[\"attributes\"][\"confidence_reason\"] =  loc.kevin_decision\n",
    "            else:\n",
    "                gene[\"attributes\"][\"confidence_reason\"] =  \"manual_post_curation\"\n",
    "    gff = [\n",
    "        (GeneProcessor(gene)\n",
    "         .apply(check)\n",
    "         .apply(pseudogenise_liftoff_invalid_orfs, loc)\n",
    "         # this renames the type column from protein coding genes to pseudogene, updating the whole annotation ontology tree\n",
    "         .apply(pseudogene_reontologise, loc, exclude_unknown_children=False)\n",
    "         # fix a bit of a fuckup, in that we forgot to deduplicate gene names when fixing them with agat after splitting to genes.\n",
    "         # This was done with a pretty dumb awk script that just kept the two mRNA entries then added the missing L1 parents with\n",
    "         # agat, but then they all get named like gene1, gene2 for all of these cases, so you have like 12 gene1s and they can do\n",
    "         # weird things with tools that expect gene IDs to be unique.\n",
    "         .apply(rename_parent, \"(nbisL1-mrna-\\\\d)\", f\"{loc.locus_name}_\\\\1\", silent=True)\n",
    "         .gene\n",
    "        )\n",
    "        for gene in gff\n",
    "    ]\n",
    "    \n",
    "    #def get_types(gene):\n",
    "    #    if \"type\" in gene:\n",
    "    #        yield gene[\"type\"]\n",
    "    #    if \"children\" in gene:\n",
    "    #        for child in gene[\"children\"].values():\n",
    "    #            yield from get_types(child)\n",
    "    #types = {g[\"attributes\"][\"ID\"]: list(OrderedSet(get_types(g))) for g in gff}\n",
    "    #if isinstance(loc.pseudogene, str) and \"_\" in loc.pseudogene:\n",
    "    #    for gid, typs in types.items():\n",
    "    #        pass\n",
    "    #        print(f\"INFO: {loc.accession} {loc.chromosome} {loc.locus_name} {loc.pseudogene} {gid} -> {typs}\", file=stdout)\n",
    "    #        if len(typs) < 2:\n",
    "    #            for gene in gff:\n",
    "    #                if gene[\"attributes\"][\"ID\"] == gid:\n",
    "    #                    write_gene(gene, file=stdout)\n",
    "    #        \n",
    "    nlrannot[loc.accession].extend(gff)"
   ]
  },
  {
   "cell_type": "markdown",
   "id": "7bd11d9c-d7ab-4ad8-8774-0a0f132bcc80",
   "metadata": {},
   "source": [
    "## automated annotations of Non-NLRs"
   ]
  },
  {
   "cell_type": "code",
   "execution_count": 17,
   "id": "10e66566-bde4-4b1a-91bf-2040368c1de4",
   "metadata": {
    "tags": []
   },
   "outputs": [],
   "source": [
    "def cdsextent(gene):\n",
    "    left, right = gene[\"start\"], gene[\"end\"]\n",
    "    for child in gene[\"children\"].values():\n",
    "        for gchild in child.get(\"children\", {}).values():\n",
    "            if gchild[\"type\"] != \"CDS\":\n",
    "                continue\n",
    "            if gchild[\"start\"] < left:\n",
    "                left = gchild[\"start\"]\n",
    "            if gchild[\"end\"] > right:\n",
    "                right = gchild[\"end\"]\n",
    "    return left, right"
   ]
  },
  {
   "cell_type": "code",
   "execution_count": 18,
   "id": "de600195-2fc9-424e-bc80-f0a8eb62b77e",
   "metadata": {
    "tags": []
   },
   "outputs": [
    {
     "data": {
      "application/vnd.jupyter.widget-view+json": {
       "model_id": "df1c03edc0014ad5b1e948c8b1e9a8ce",
       "version_major": 2,
       "version_minor": 0
      },
      "text/plain": [
       "  0%|          | 0/33966 [00:00<?, ?it/s]"
      ]
     },
     "metadata": {},
     "output_type": "display_data"
    },
    {
     "name": "stdout",
     "output_type": "stream",
     "text": [
      "Done at6137, skipped 0 NLR overlaps\n"
     ]
    },
    {
     "data": {
      "application/vnd.jupyter.widget-view+json": {
       "model_id": "6ace39bfb1a847c2b8509b114c73a7f4",
       "version_major": 2,
       "version_minor": 0
      },
      "text/plain": [
       "  0%|          | 0/34179 [00:00<?, ?it/s]"
      ]
     },
     "metadata": {},
     "output_type": "display_data"
    },
    {
     "name": "stdout",
     "output_type": "stream",
     "text": [
      "Done at6923, skipped 279 NLR overlaps\n"
     ]
    },
    {
     "data": {
      "application/vnd.jupyter.widget-view+json": {
       "model_id": "d5c67375eb9c473a9e20defb6d19beb3",
       "version_major": 2,
       "version_minor": 0
      },
      "text/plain": [
       "  0%|          | 0/33904 [00:00<?, ?it/s]"
      ]
     },
     "metadata": {},
     "output_type": "display_data"
    },
    {
     "name": "stdout",
     "output_type": "stream",
     "text": [
      "Done at6929, skipped 245 NLR overlaps\n"
     ]
    },
    {
     "data": {
      "application/vnd.jupyter.widget-view+json": {
       "model_id": "909518797b514043ae2f1ac74403704b",
       "version_major": 2,
       "version_minor": 0
      },
      "text/plain": [
       "  0%|          | 0/34138 [00:00<?, ?it/s]"
      ]
     },
     "metadata": {},
     "output_type": "display_data"
    },
    {
     "name": "stdout",
     "output_type": "stream",
     "text": [
      "Done at7143, skipped 264 NLR overlaps\n"
     ]
    },
    {
     "data": {
      "application/vnd.jupyter.widget-view+json": {
       "model_id": "c40bf1a06ec04b7484dc434afaf6add8",
       "version_major": 2,
       "version_minor": 0
      },
      "text/plain": [
       "  0%|          | 0/34251 [00:00<?, ?it/s]"
      ]
     },
     "metadata": {},
     "output_type": "display_data"
    },
    {
     "name": "stdout",
     "output_type": "stream",
     "text": [
      "Done at8285, skipped 258 NLR overlaps\n"
     ]
    },
    {
     "data": {
      "application/vnd.jupyter.widget-view+json": {
       "model_id": "78be604fba114d0d85161fe4471347e6",
       "version_major": 2,
       "version_minor": 0
      },
      "text/plain": [
       "  0%|          | 0/34134 [00:00<?, ?it/s]"
      ]
     },
     "metadata": {},
     "output_type": "display_data"
    },
    {
     "name": "stdout",
     "output_type": "stream",
     "text": [
      "Done at9104, skipped 293 NLR overlaps\n"
     ]
    },
    {
     "data": {
      "application/vnd.jupyter.widget-view+json": {
       "model_id": "23e01fe04a284b5b84f3d13ef475c157",
       "version_major": 2,
       "version_minor": 0
      },
      "text/plain": [
       "  0%|          | 0/34826 [00:00<?, ?it/s]"
      ]
     },
     "metadata": {},
     "output_type": "display_data"
    },
    {
     "name": "stdout",
     "output_type": "stream",
     "text": [
      "Done at9336, skipped 255 NLR overlaps\n"
     ]
    },
    {
     "data": {
      "application/vnd.jupyter.widget-view+json": {
       "model_id": "1b130426fd284193a9f5def7789be26b",
       "version_major": 2,
       "version_minor": 0
      },
      "text/plain": [
       "  0%|          | 0/34073 [00:00<?, ?it/s]"
      ]
     },
     "metadata": {},
     "output_type": "display_data"
    },
    {
     "name": "stdout",
     "output_type": "stream",
     "text": [
      "Done at9503, skipped 284 NLR overlaps\n"
     ]
    },
    {
     "data": {
      "application/vnd.jupyter.widget-view+json": {
       "model_id": "a9e7ed05ed3e4a4bb02d474db9466bb4",
       "version_major": 2,
       "version_minor": 0
      },
      "text/plain": [
       "  0%|          | 0/34084 [00:00<?, ?it/s]"
      ]
     },
     "metadata": {},
     "output_type": "display_data"
    },
    {
     "name": "stdout",
     "output_type": "stream",
     "text": [
      "Done at9578, skipped 282 NLR overlaps\n"
     ]
    },
    {
     "data": {
      "application/vnd.jupyter.widget-view+json": {
       "model_id": "c8dfc21251a44853ad6700e7dffabdb1",
       "version_major": 2,
       "version_minor": 0
      },
      "text/plain": [
       "  0%|          | 0/34530 [00:00<?, ?it/s]"
      ]
     },
     "metadata": {},
     "output_type": "display_data"
    },
    {
     "name": "stdout",
     "output_type": "stream",
     "text": [
      "Done at9744, skipped 290 NLR overlaps\n"
     ]
    },
    {
     "data": {
      "application/vnd.jupyter.widget-view+json": {
       "model_id": "69f973783aa844679fafab53fdf76c4d",
       "version_major": 2,
       "version_minor": 0
      },
      "text/plain": [
       "  0%|          | 0/34302 [00:00<?, ?it/s]"
      ]
     },
     "metadata": {},
     "output_type": "display_data"
    },
    {
     "name": "stdout",
     "output_type": "stream",
     "text": [
      "Done at9762, skipped 269 NLR overlaps\n"
     ]
    },
    {
     "data": {
      "application/vnd.jupyter.widget-view+json": {
       "model_id": "1859c7ea18454cfb85a9606e400907ae",
       "version_major": 2,
       "version_minor": 0
      },
      "text/plain": [
       "  0%|          | 0/33698 [00:00<?, ?it/s]"
      ]
     },
     "metadata": {},
     "output_type": "display_data"
    },
    {
     "name": "stdout",
     "output_type": "stream",
     "text": [
      "Done at9806, skipped 266 NLR overlaps\n"
     ]
    },
    {
     "data": {
      "application/vnd.jupyter.widget-view+json": {
       "model_id": "0f343dfa0c284bf183f5574499b4fafb",
       "version_major": 2,
       "version_minor": 0
      },
      "text/plain": [
       "  0%|          | 0/33927 [00:00<?, ?it/s]"
      ]
     },
     "metadata": {},
     "output_type": "display_data"
    },
    {
     "name": "stdout",
     "output_type": "stream",
     "text": [
      "Done at9830, skipped 259 NLR overlaps\n"
     ]
    },
    {
     "data": {
      "application/vnd.jupyter.widget-view+json": {
       "model_id": "0089193b88714c059ddf4e36e9f22f5e",
       "version_major": 2,
       "version_minor": 0
      },
      "text/plain": [
       "  0%|          | 0/34111 [00:00<?, ?it/s]"
      ]
     },
     "metadata": {},
     "output_type": "display_data"
    },
    {
     "name": "stdout",
     "output_type": "stream",
     "text": [
      "Done at9847, skipped 276 NLR overlaps\n"
     ]
    },
    {
     "data": {
      "application/vnd.jupyter.widget-view+json": {
       "model_id": "17b845ed8fdc4288aed4d9696f117ccf",
       "version_major": 2,
       "version_minor": 0
      },
      "text/plain": [
       "  0%|          | 0/33539 [00:00<?, ?it/s]"
      ]
     },
     "metadata": {},
     "output_type": "display_data"
    },
    {
     "name": "stdout",
     "output_type": "stream",
     "text": [
      "Done at9852, skipped 271 NLR overlaps\n"
     ]
    },
    {
     "data": {
      "application/vnd.jupyter.widget-view+json": {
       "model_id": "8911f62a5af2453cbbf074ec7dbb247a",
       "version_major": 2,
       "version_minor": 0
      },
      "text/plain": [
       "  0%|          | 0/34628 [00:00<?, ?it/s]"
      ]
     },
     "metadata": {},
     "output_type": "display_data"
    },
    {
     "name": "stdout",
     "output_type": "stream",
     "text": [
      "Done at9879, skipped 248 NLR overlaps\n"
     ]
    },
    {
     "data": {
      "application/vnd.jupyter.widget-view+json": {
       "model_id": "7af45c2385984f65ba7b4737b66d73d1",
       "version_major": 2,
       "version_minor": 0
      },
      "text/plain": [
       "  0%|          | 0/34340 [00:00<?, ?it/s]"
      ]
     },
     "metadata": {},
     "output_type": "display_data"
    },
    {
     "name": "stdout",
     "output_type": "stream",
     "text": [
      "Done at9883, skipped 281 NLR overlaps\n"
     ]
    },
    {
     "data": {
      "application/vnd.jupyter.widget-view+json": {
       "model_id": "3eb254392d8e4e2a82018c07299630b1",
       "version_major": 2,
       "version_minor": 0
      },
      "text/plain": [
       "  0%|          | 0/33828 [00:00<?, ?it/s]"
      ]
     },
     "metadata": {},
     "output_type": "display_data"
    },
    {
     "name": "stdout",
     "output_type": "stream",
     "text": [
      "Done at9900, skipped 268 NLR overlaps\n"
     ]
    }
   ],
   "source": [
    "autogff = {acc: [] for acc in all_accs}\n",
    "for acc in sorted(all_accs):\n",
    "    nskip = 0\n",
    "    for gid, gene in tqdm(gffparse.gff_heirarchy(f\"output/{acc}_happy.gff3\").items()):\n",
    "        chrom = gene[\"seqid\"]\n",
    "        if not chrom.startswith(acc):\n",
    "            print(\"ERROR:\", chrom, \"not from\", acc, file=stderr)\n",
    "        try:\n",
    "            l, r = cdsextent(gene)\n",
    "            nlrlocus = loci[acc][chrom][gene[\"strand\"]].overlap(l, r)\n",
    "            if nlrlocus:\n",
    "                #print(f\"INFO: skipping NLR locus handled already: {nlrlocus} {chrom} {gid}\")\n",
    "                nskip += 1\n",
    "                continue\n",
    "        except KeyError:\n",
    "            pass\n",
    "        autogff[acc].append(gene)\n",
    "    print(f\"Done {acc}, skipped {nskip} NLR overlaps\")"
   ]
  },
  {
   "cell_type": "markdown",
   "id": "912d85fb-292a-4cf8-b81f-953af1d78667",
   "metadata": {},
   "source": [
    "## Post-processing"
   ]
  },
  {
   "cell_type": "code",
   "execution_count": 19,
   "id": "d24d0daf-9ee8-46ad-8871-e9182a61f6cf",
   "metadata": {
    "tags": []
   },
   "outputs": [],
   "source": [
    "mergedannot = defaultdict(list)\n",
    "for acc, genes in autogff.items():\n",
    "    mergedannot[acc].extend(genes)\n",
    "for acc, genes in nlrannot.items():\n",
    "    mergedannot[acc].extend(genes)"
   ]
  },
  {
   "cell_type": "code",
   "execution_count": 20,
   "id": "5be30b0d-2839-4de7-a000-026df7c306b2",
   "metadata": {
    "tags": []
   },
   "outputs": [],
   "source": [
    "def extract_original_ids(gene):\n",
    "    idre = {\n",
    "        \"Liftoff\": r\"AT[1-5MC]G\\d{5}\",\n",
    "        \"transdecoder\": r\"G\\d+\",\n",
    "        \"AUGUSTUS\": r\"g\\d+\",\n",
    "        \"PASA\": r\"g\\d+\",\n",
    "        \"NLR_Annotator\": r\".+\",\n",
    "    }\n",
    "    reg = idre.get(gene[\"source\"], r\".+\")\n",
    "    orig_id = gene[\"attributes\"][\"ID\"]\n",
    "    name = gene[\"attributes\"].get(\"Name\", \"\")\n",
    "    \n",
    "    if re.match(r\"g\\d+\", orig_id) and gene[\"source\"] == \"Liftoff\":\n",
    "        # a special case for a few genes taken from omniprot\n",
    "        gene[\"source\"] = \"omniprot\"\n",
    "        gene[\"attributes\"][\"original_annotator_id\"]=orig_id\n",
    "        return gene\n",
    "    m = re.match(reg, gene[\"attributes\"][\"ID\"])\n",
    "    if not m:\n",
    "        m = re.search(reg, name)\n",
    "    if m:\n",
    "        orig_id = m.group(0)\n",
    "        gene[\"attributes\"][\"original_annotator_id\"]=orig_id\n",
    "    else:\n",
    "        print(f\"WARNING: no original id for {orig_id} with name {name} and type {gene['source']} on {gene['seqid']}\", file=stdout)\n",
    "    return gene\n"
   ]
  },
  {
   "cell_type": "code",
   "execution_count": 21,
   "id": "a58bfd44-ca05-45c1-aee4-c58c1d2121b5",
   "metadata": {
    "tags": []
   },
   "outputs": [],
   "source": [
    "def recursively(gene, function, *args, **kwargs):\n",
    "    function(gene, *args, **kwargs)\n",
    "    for child in gene.get(\"children\", {}).values():\n",
    "        recursively(child, function, *args, **kwargs)"
   ]
  },
  {
   "cell_type": "code",
   "execution_count": 22,
   "id": "07fb1825-aa26-43a4-9f7c-365a32ca3631",
   "metadata": {
    "tags": []
   },
   "outputs": [],
   "source": [
    "def nonames(gene):\n",
    "    \"\"\"Remove Name= from attributes as it's almost always crap, and we have regexed out all the relevant stuff\"\"\"\n",
    "    if \"Name\" in gene[\"attributes\"]:\n",
    "        del gene[\"attributes\"][\"Name\"]"
   ]
  },
  {
   "cell_type": "code",
   "execution_count": 23,
   "id": "88ee7310-fe1c-4bac-9def-c64d73cef229",
   "metadata": {
    "tags": []
   },
   "outputs": [],
   "source": [
    "def rename_sequential(gene, n, prefix=None):\n",
    "    newid = f\"G{n:06d}\"\n",
    "    if prefix:\n",
    "        newid = f\"{prefix}_{newid}\"\n",
    "    gffparse.reformat_names(gene, geneid=newid, changenames=False)"
   ]
  },
  {
   "cell_type": "code",
   "execution_count": 24,
   "id": "733bad55-9069-44dc-9195-47cd81cd9d07",
   "metadata": {
    "tags": []
   },
   "outputs": [],
   "source": [
    "def transcript_dedup(gene):\n",
    "    def tx_hash(T):\n",
    "        info = [T['seqid'], T['source'], T['type'], T['start'], T['end'], T['score'], T['strand'], T[\"phase\"]]\n",
    "        chld = [tx_hash(c) for c in T.get(\"children\", {}).values()]\n",
    "        chld.sort()\n",
    "        info.extend(chld)\n",
    "        return tuple(info)\n",
    "    \n",
    "    transcripts = defaultdict(list)\n",
    "    for tx in gene[\"children\"].values():\n",
    "        transcripts[tx_hash(tx)].append(tx)\n",
    "    children = {}\n",
    "    for txs in transcripts.values():\n",
    "        tx = txs[0]\n",
    "        if len(txs) > 1:\n",
    "            gid = gene[\"attributes\"][\"ID\"]\n",
    "            tids = [t[\"attributes\"][\"ID\"] for t in txs]\n",
    "            print(f\"WARNING: deduplicating duplicate transcripts in {gid}: {tids}\", file=stderr)\n",
    "            for t in txs:\n",
    "                print(tx_hash(t))\n",
    "        children[tx[\"attributes\"][\"ID\"]] = tx\n",
    "    gene[\"children\"] = children"
   ]
  },
  {
   "cell_type": "code",
   "execution_count": 25,
   "id": "388039eb-3dc1-4e35-a3ea-162679c15c3d",
   "metadata": {
    "tags": []
   },
   "outputs": [],
   "source": [
    "def orig_annotator(gene):\n",
    "    gene[\"attributes\"][\"original_annotator\"] = gene[\"source\"]\n",
    "    gene[\"source\"] = \"DL20\""
   ]
  },
  {
   "cell_type": "code",
   "execution_count": 26,
   "id": "721120bd-b2aa-4899-8309-0b6b4aff9395",
   "metadata": {
    "tags": []
   },
   "outputs": [
    {
     "data": {
      "application/vnd.jupyter.widget-view+json": {
       "model_id": "035a4771c5d14a6485ecd43495c524b3",
       "version_major": 2,
       "version_minor": 0
      },
      "text/plain": [
       "0it [00:00, ?it/s]"
      ]
     },
     "metadata": {},
     "output_type": "display_data"
    }
   ],
   "source": [
    "TE_LOCI = {}\n",
    "with open(\"../TE_annotation/TE_annotation/output/final_TE_annotation/merging_by_fam/final_TE_annotation_merged_fam.bed\") as bed:\n",
    "    for line in tqdm(bed):\n",
    "        fields = line.rstrip().split(\"\\t\")\n",
    "        if len(fields) != 4:\n",
    "            print(f\"WARNING: weird bed line {line.rstrip()}\", file=stderr)\n",
    "        chrom, start, end, ids = fields\n",
    "        start = int(start)+1\n",
    "        end = int(end)\n",
    "        ids = [x.replace(\"ID=\", \"\") for x in re.split('[,;]', ids) if \"ID=\" in x]\n",
    "        if chrom not in TE_LOCI:\n",
    "            TE_LOCI[chrom] =  IntervalTree()\n",
    "        TE_LOCI[chrom][start:end] = ids"
   ]
  },
  {
   "cell_type": "code",
   "execution_count": 27,
   "id": "9eb1525b-1c4b-4169-8869-78a9c2b57d4e",
   "metadata": {
    "tags": []
   },
   "outputs": [],
   "source": [
    "TE_GENE_COUNTS = Counter()\n",
    "def te_genes(gene):\n",
    "    chrom = gene[\"seqid\"]\n",
    "    acc = chrom.split(\"_\")[0]\n",
    "    l, r = gene[\"start\"], gene[\"end\"]\n",
    "    enveloping_hits = []\n",
    "    try:\n",
    "        te_hits = TE_LOCI[chrom].overlap(l, r)\n",
    "    except KeyError:\n",
    "        return gene\n",
    "    for iv in te_hits:\n",
    "        if iv.begin <= l and iv.end >= r:\n",
    "            enveloping_hits.append(iv)\n",
    "    if enveloping_hits:\n",
    "        if gene[\"type\"] == \"gene\":\n",
    "            gene[\"type\"] = \"transposable_element_gene\"\n",
    "        gene[\"attributes\"][\"te_ids\"] = \",\".join([x for iv in enveloping_hits for x in iv.data])\n",
    "        TE_GENE_COUNTS[acc]+= 1\n",
    "    return gene"
   ]
  },
  {
   "cell_type": "code",
   "execution_count": 28,
   "id": "0d3ba544-a219-491f-a3b3-0b648023b0f0",
   "metadata": {
    "tags": []
   },
   "outputs": [],
   "source": [
    "def pick_representative(gene):\n",
    "    \"\"\"Pick a representative transcript\n",
    "   \n",
    "    Ties are broken in the following order:\n",
    "    \n",
    "    - Longest sum of CDS lengths\n",
    "    - most 5' transcription start site\n",
    "    - longest sum of exon lengths \n",
    "    - shortest overall span of transcript (= shortest introns)\n",
    "    - lexographic order (assuming a duplicate)\n",
    "    \"\"\"\n",
    "    def mrna_length(transcript, by=\"exon\"):\n",
    "        length = 0\n",
    "        for child in transcript[\"children\"].values():\n",
    "            if child[\"type\"] == by:\n",
    "                length += child[\"end\"] - child[\"start\"] + 1\n",
    "        return length\n",
    "    \n",
    "    gid = gene[\"attributes\"][\"ID\"]\n",
    "    C = gene[\"children\"]\n",
    "    lens = {}\n",
    "    for cname, child in gene[\"children\"].items():\n",
    "        if child[\"type\"] == \"mRNA\":\n",
    "            if \"valid_orf\" in child[\"attributes\"] and child[\"attributes\"][\"valid_orf\"].lower() != \"true\":\n",
    "                # Skip invalid ORFs in Liftoff\n",
    "                continue\n",
    "            lens[cname] = mrna_length(child, by=\"CDS\")\n",
    "    if not lens:\n",
    "        return\n",
    "    maxsize = max(lens.values())\n",
    "    biggestcds = {cid:size for cid, size in lens.items() if size == maxsize}\n",
    "    \n",
    "    fiveness = {}\n",
    "    for cid in biggestcds:\n",
    "        if gene[\"strand\"] == \"+\":\n",
    "            fiveness[cid] = C[cid][\"start\"] - gene[\"start\"] \n",
    "        if gene[\"strand\"] == \"-\":\n",
    "            fiveness[cid] = gene[\"end\"] - C[cid][\"end\"]\n",
    "    fivemost = min(fiveness.values())\n",
    "    \n",
    "    lens = {cid: mrna_length(gene[\"children\"][cid], by=\"exon\")\n",
    "               for cid in fiveness if fiveness[cid] == fivemost}\n",
    "    maxsize = max(lens.values())\n",
    "    biggestexon = {cid:size for cid, size in lens.items() if size == maxsize}\n",
    "    \n",
    "    spans = {cid: C[cid][\"end\"] - C[cid][\"start\"] for cid in biggestexon}\n",
    "    minspan = min(spans.values())\n",
    "    smallest_span = {cid:size for cid, size in spans.items() if size == minspan}\n",
    "    \n",
    "    if len(smallest_span) > 1:\n",
    "        pass\n",
    "        #print(f\"WARNING: Equally-primary genes? {gene['attributes']['ID']}\", biggestcds, biggestexon, smallest_span)\n",
    "        #write_gene(gene, file=stdout)\n",
    "        \n",
    "    for pick in list(sorted(smallest_span.keys())):\n",
    "        gene[\"children\"][pick][\"attributes\"][\"primary_transcript_model\"] = \"true\"\n",
    "        if len(smallest_span) > 1:\n",
    "            gene[\"children\"][pick][\"attributes\"][\"primary_transcript_model_tied\"] = \"true\"\n",
    "        gene[\"children\"][pick][\"attributes\"][\"Name\"] = gene[\"children\"][pick][\"attributes\"][\"ID\"] + \"_PRIMARY\""
   ]
  },
  {
   "cell_type": "code",
   "execution_count": 29,
   "id": "85168533-4eb1-4d35-8c71-eae1968fc3d1",
   "metadata": {
    "tags": []
   },
   "outputs": [],
   "source": [
    "def onlyrep(gene):\n",
    "    gene = deepcopy(gene)\n",
    "    gene[\"children\"] = {c:v for c, v in gene[\"children\"].items() if v[\"attributes\"].get(\"primary_transcript_model\") == \"true\"}\n",
    "    return gene"
   ]
  },
  {
   "cell_type": "code",
   "execution_count": 30,
   "id": "bc6075b3-e335-4c45-85cf-145ae1e15c13",
   "metadata": {},
   "outputs": [],
   "source": [
    "def pseudogene_reontologise_general(gene, exclude_unknown_children=False):\n",
    "    gid = gene[\"attributes\"][\"ID\"]\n",
    "    typ = gene[\"type\"]\n",
    "    if int(gene[\"attributes\"].get(\"valid_orfs\", \"1\")) < 1:\n",
    "        # If liftoff has no valid ORFs\n",
    "        typ = \"pseudogene\"\n",
    "    elif len(gffparse.get_all_features(gene, \"CDS\")) < 1 and gene[\"type\"] == \"gene\":\n",
    "        typ =  \"remnants\"\n",
    "        \n",
    "    # Is pseudogenic\n",
    "    if typ == \"gene\" or typ == \"protopseudogene\":\n",
    "        return\n",
    "    if typ == \"pseudogene\":\n",
    "        type_updater = {\"gene\": \"pseudogene\",\n",
    "                        \"mRNA\": \"pseudogenic_transcript\",\n",
    "                        \"transcript\": \"pseudogenic_transcript\",\n",
    "                        \"CDS\": \"CDS\",\n",
    "                        \"exon\": \"exon\"}\n",
    "        attrs = {\"is_pseudogenic\": \"pseudogene\"}\n",
    "    elif typ == \"remnants\" or typ == \"pseudogenic_region\":\n",
    "        type_updater = {\"gene\": \"pseudogenic_region\",\n",
    "                        \"mRNA\": \"pseudogenic_transcript\",\n",
    "                        \"transcript\": \"pseudogenic_transcript\",\n",
    "                        \"CDS\": \"CDS\",\n",
    "                        \"exon\": \"exon\"}\n",
    "        attrs = {\"is_pseudogenic\": \"remnants\"}\n",
    "        typ = \"pseudogenic_region\"\n",
    "    else:\n",
    "        print(\"ERROR: not gene or pseudo or remnant\", file=stderr)\n",
    "        attrs ={}\n",
    "        type_updater = {}\n",
    "    \n",
    "    update_type(gene, type_updater, exclude_unknown_children=exclude_unknown_children)\n",
    "    gene[\"type\"] = typ\n",
    "    gene[\"attributes\"].update(attrs)\n",
    "    #print(typ, gene[\"attributes\"].get(\"valid_orfs\"))\n",
    "    #write_gene(gene, file=stdout)\n",
    "    return gene"
   ]
  },
  {
   "cell_type": "code",
   "execution_count": 31,
   "id": "8882de52-fc70-4cd3-bc99-01f0b8823083",
   "metadata": {
    "tags": []
   },
   "outputs": [],
   "source": [
    "def sanity_check(gene):\n",
    "    gid = gene[\"attributes\"][\"ID\"]\n",
    "    gene[\"attributes\"][\"dl20_export_version\"] = EXPORT_VERSION"
   ]
  },
  {
   "cell_type": "code",
   "execution_count": 32,
   "id": "239db248-4dca-47bc-8a86-1e8e673363c0",
   "metadata": {
    "tags": []
   },
   "outputs": [
    {
     "data": {
      "application/vnd.jupyter.widget-view+json": {
       "model_id": "c05dbd908f564f50879e509e5609bc83",
       "version_major": 2,
       "version_minor": 0
      },
      "text/plain": [
       "at6137: 0it [00:00, ?it/s]"
      ]
     },
     "metadata": {},
     "output_type": "display_data"
    },
    {
     "data": {
      "application/vnd.jupyter.widget-view+json": {
       "model_id": "6966457942944b77a79bb4b99a592218",
       "version_major": 2,
       "version_minor": 0
      },
      "text/plain": [
       "at6923: 0it [00:00, ?it/s]"
      ]
     },
     "metadata": {},
     "output_type": "display_data"
    },
    {
     "name": "stdout",
     "output_type": "stream",
     "text": [
      "WARNING: no original id for gene01661_nbisL1-mrna-1 with name ORF type:complete len:635 (+),score=166.22 and type transdecoder on at6923_1_chr1\n",
      "WARNING: no original id for gene01661_nbisL1-mrna-2 with name ORF type:complete len:635 (+),score=166.22 and type transdecoder on at6923_1_chr1\n",
      "WARNING: no original id for gene06422_nbisL1-mrna-2 with name ORF type:complete len:967 (+),score=145.88 and type transdecoder on at6923_1_chr1\n",
      "WARNING: no original id for gene06422_nbisL1-mrna-1 with name ORF type:complete len:967 (+),score=145.88 and type transdecoder on at6923_1_chr1\n"
     ]
    },
    {
     "data": {
      "application/vnd.jupyter.widget-view+json": {
       "model_id": "903e338a38fc4e168d8cd2569dc30c15",
       "version_major": 2,
       "version_minor": 0
      },
      "text/plain": [
       "at6929: 0it [00:00, ?it/s]"
      ]
     },
     "metadata": {},
     "output_type": "display_data"
    },
    {
     "name": "stdout",
     "output_type": "stream",
     "text": [
      "WARNING: no original id for gene31437_nbisL1-mrna-1 with name ORF type:complete len:1124 (+),score=194.02 and type transdecoder on at6929_1_chr5\n",
      "WARNING: no original id for gene31437_nbisL1-mrna-2 with name ORF type:complete len:1124 (+),score=194.02 and type transdecoder on at6929_1_chr5\n"
     ]
    },
    {
     "data": {
      "application/vnd.jupyter.widget-view+json": {
       "model_id": "9927699fb7944a199d20806e2b043a15",
       "version_major": 2,
       "version_minor": 0
      },
      "text/plain": [
       "at7143: 0it [00:00, ?it/s]"
      ]
     },
     "metadata": {},
     "output_type": "display_data"
    },
    {
     "name": "stdout",
     "output_type": "stream",
     "text": [
      "WARNING: no original id for gene31177_nbisL1-mrna-1 with name ORF type:complete len:1122 (+),score=140.96 and type transdecoder on at7143_1_chr5\n",
      "WARNING: no original id for gene31177_nbisL1-mrna-2 with name ORF type:complete len:1122 (+),score=140.96 and type transdecoder on at7143_1_chr5\n"
     ]
    },
    {
     "data": {
      "application/vnd.jupyter.widget-view+json": {
       "model_id": "27a9b16cb3944270905b61956eda8f97",
       "version_major": 2,
       "version_minor": 0
      },
      "text/plain": [
       "at8285: 0it [00:00, ?it/s]"
      ]
     },
     "metadata": {},
     "output_type": "display_data"
    },
    {
     "name": "stdout",
     "output_type": "stream",
     "text": [
      "WARNING: no original id for gene06377_nbisL1-mrna-1 with name ORF type:3prime_partial len:714 (+),score=128.47 and type transdecoder on at8285_1_chr1\n",
      "WARNING: no original id for gene06377_nbisL1-mrna-2 with name ORF type:3prime_partial len:714 (+),score=128.47 and type transdecoder on at8285_1_chr1\n"
     ]
    },
    {
     "data": {
      "application/vnd.jupyter.widget-view+json": {
       "model_id": "bc11552e7eb643d4806e6bbe8aff8c16",
       "version_major": 2,
       "version_minor": 0
      },
      "text/plain": [
       "at9104: 0it [00:00, ?it/s]"
      ]
     },
     "metadata": {},
     "output_type": "display_data"
    },
    {
     "name": "stdout",
     "output_type": "stream",
     "text": [
      "WARNING: no original id for gene07323_nbisL1-mrna-1 with name ORF type:complete len:439 (+),score=63.59 and type transdecoder on at9104_1_chr1\n",
      "WARNING: no original id for gene07323_nbisL1-mrna-2 with name ORF type:complete len:439 (+),score=63.59 and type transdecoder on at9104_1_chr1\n",
      "WARNING: no original id for gene31769_nbisL1-mrna-1 with name ORF type:complete len:134 (+),score=21.08 and type transdecoder on at9104_1_chr5\n",
      "WARNING: no original id for gene31769_nbisL1-mrna-2 with name ORF type:complete len:134 (+),score=21.08 and type transdecoder on at9104_1_chr5\n"
     ]
    },
    {
     "data": {
      "application/vnd.jupyter.widget-view+json": {
       "model_id": "c3be344d252a4dd4a234406cc4f5f479",
       "version_major": 2,
       "version_minor": 0
      },
      "text/plain": [
       "at9336: 0it [00:00, ?it/s]"
      ]
     },
     "metadata": {},
     "output_type": "display_data"
    },
    {
     "name": "stdout",
     "output_type": "stream",
     "text": [
      "WARNING: no original id for gene06476_nbisL1-mrna-1 with name ORF type:complete len:967 (+),score=149.58 and type transdecoder on at9336_1_chr1\n",
      "WARNING: no original id for gene06476_nbisL1-mrna-2 with name ORF type:complete len:967 (+),score=149.58 and type transdecoder on at9336_1_chr1\n"
     ]
    },
    {
     "data": {
      "application/vnd.jupyter.widget-view+json": {
       "model_id": "4cea1c0a34a34c3ea344602680782de6",
       "version_major": 2,
       "version_minor": 0
      },
      "text/plain": [
       "at9503: 0it [00:00, ?it/s]"
      ]
     },
     "metadata": {},
     "output_type": "display_data"
    },
    {
     "name": "stdout",
     "output_type": "stream",
     "text": [
      "WARNING: no original id for gene01660_nbisL1-mrna-1 with name ORF type:complete len:228 (+),score=44.57 and type transdecoder on at9503_1_chr1\n",
      "WARNING: no original id for gene01660_nbisL1-mrna-2 with name ORF type:complete len:228 (+),score=44.57 and type transdecoder on at9503_1_chr1\n",
      "WARNING: no original id for gene01836_nbisL1-mrna-2 with name ORF type:complete len:202 (+),score=27.77 and type transdecoder on at9503_1_chr1\n",
      "WARNING: no original id for gene01836_nbisL1-mrna-1 with name ORF type:complete len:202 (+),score=27.77 and type transdecoder on at9503_1_chr1\n",
      "WARNING: no original id for gene30807_nbisL1-mrna-2 with name ORF type:complete len:748 (+),score=193.10 and type transdecoder on at9503_1_chr5\n",
      "WARNING: no original id for gene30807_nbisL1-mrna-1 with name ORF type:complete len:748 (+),score=193.10 and type transdecoder on at9503_1_chr5\n",
      "WARNING: no original id for gene31710_nbisL1-mrna-1 with name ORF type:complete len:698 (+),score=110.76 and type transdecoder on at9503_1_chr5\n",
      "WARNING: no original id for gene31710_nbisL1-mrna-2 with name ORF type:complete len:698 (+),score=110.76 and type transdecoder on at9503_1_chr5\n"
     ]
    },
    {
     "data": {
      "application/vnd.jupyter.widget-view+json": {
       "model_id": "3e4975acb3c143f599b1b8651af8c84c",
       "version_major": 2,
       "version_minor": 0
      },
      "text/plain": [
       "at9578: 0it [00:00, ?it/s]"
      ]
     },
     "metadata": {},
     "output_type": "display_data"
    },
    {
     "name": "stdout",
     "output_type": "stream",
     "text": [
      "WARNING: no original id for gene32128_nbisL1-mrna-1 with name ORF type:complete len:485 (+),score=130.72 and type transdecoder on at9578_1_chr5\n",
      "WARNING: no original id for gene32128_nbisL1-mrna-2 with name ORF type:complete len:485 (+),score=130.72 and type transdecoder on at9578_1_chr5\n",
      "WARNING: no original id for gene34111_nbisL1-mrna-1 with name ORF type:complete len:615 (+),score=151.41 and type transdecoder on at9578_1_chr5\n",
      "WARNING: no original id for gene34111_nbisL1-mrna-2 with name ORF type:complete len:615 (+),score=151.41 and type transdecoder on at9578_1_chr5\n"
     ]
    },
    {
     "data": {
      "application/vnd.jupyter.widget-view+json": {
       "model_id": "101cca4263cd4251839922fe9680ebf1",
       "version_major": 2,
       "version_minor": 0
      },
      "text/plain": [
       "at9744: 0it [00:00, ?it/s]"
      ]
     },
     "metadata": {},
     "output_type": "display_data"
    },
    {
     "name": "stdout",
     "output_type": "stream",
     "text": [
      "WARNING: no original id for gene01838_nbisL1-mrna-2 with name ORF type:complete len:1050 (+),score=167.18 and type transdecoder on at9744_1_chr1\n",
      "WARNING: no original id for gene01838_nbisL1-mrna-1 with name ORF type:complete len:1050 (+),score=167.18 and type transdecoder on at9744_1_chr1\n",
      "WARNING: no original id for gene31930_nbisL1-mrna-2 with name ORF type:complete len:904 (+),score=133.38 and type transdecoder on at9744_1_chr5\n",
      "WARNING: no original id for gene31930_nbisL1-mrna-1 with name ORF type:complete len:904 (+),score=133.38 and type transdecoder on at9744_1_chr5\n",
      "WARNING: no original id for gene32406_nbisL1-mrna-1 with name ORF type:complete len:355 (+),score=91.68 and type transdecoder on at9744_1_chr5\n",
      "WARNING: no original id for gene32406_nbisL1-mrna-2 with name ORF type:complete len:355 (+),score=91.68 and type transdecoder on at9744_1_chr5\n"
     ]
    },
    {
     "data": {
      "application/vnd.jupyter.widget-view+json": {
       "model_id": "c75c3ad1c7d34fbd8472ad24022d23d7",
       "version_major": 2,
       "version_minor": 0
      },
      "text/plain": [
       "at9762: 0it [00:00, ?it/s]"
      ]
     },
     "metadata": {},
     "output_type": "display_data"
    },
    {
     "name": "stdout",
     "output_type": "stream",
     "text": [
      "WARNING: no original id for gene01843_nbisL1-mrna-1 with name ORF type:complete len:163 (+),score=25.27 and type transdecoder on at9762_1_chr1\n",
      "WARNING: no original id for gene01843_nbisL1-mrna-2 with name ORF type:complete len:163 (+),score=25.27 and type transdecoder on at9762_1_chr1\n",
      "WARNING: no original id for gene06343_nbisL1-mrna-1 with name ORF type:complete len:805 (+),score=127.76 and type transdecoder on at9762_1_chr1\n",
      "WARNING: no original id for gene06343_nbisL1-mrna-2 with name ORF type:complete len:805 (+),score=127.76 and type transdecoder on at9762_1_chr1\n",
      "WARNING: no original id for gene24138_nbisL1-mrna-1 with name ORF type:complete len:376 (+),score=104.09 and type transdecoder on at9762_1_chr4\n",
      "WARNING: no original id for gene24138_nbisL1-mrna-2 with name ORF type:complete len:376 (+),score=104.09 and type transdecoder on at9762_1_chr4\n",
      "WARNING: no original id for gene31662_nbisL1-mrna-2 with name ORF type:complete len:410 (+),score=95.81 and type transdecoder on at9762_1_chr5\n",
      "WARNING: no original id for gene31662_nbisL1-mrna-1 with name ORF type:complete len:410 (+),score=95.81 and type transdecoder on at9762_1_chr5\n",
      "WARNING: no original id for gene31879_nbisL1-mrna-2 with name ORF type:complete len:636 (+),score=83.08 and type transdecoder on at9762_1_chr5\n",
      "WARNING: no original id for gene31879_nbisL1-mrna-1 with name ORF type:complete len:636 (+),score=83.08 and type transdecoder on at9762_1_chr5\n",
      "WARNING: no original id for gene34110_nbisL1-mrna-1 with name ORF type:complete len:300 (+),score=49.51 and type transdecoder on at9762_1_chr5\n",
      "WARNING: no original id for gene34110_nbisL1-mrna-2 with name ORF type:complete len:300 (+),score=49.51 and type transdecoder on at9762_1_chr5\n",
      "WARNING: no original id for gene34110_nbisL1-mrna-3 with name ORF type:complete len:300 (+),score=49.51 and type transdecoder on at9762_1_chr5\n"
     ]
    },
    {
     "data": {
      "application/vnd.jupyter.widget-view+json": {
       "model_id": "40754b6b6289428f8d0be0ad54eccf52",
       "version_major": 2,
       "version_minor": 0
      },
      "text/plain": [
       "at9806: 0it [00:00, ?it/s]"
      ]
     },
     "metadata": {},
     "output_type": "display_data"
    },
    {
     "name": "stdout",
     "output_type": "stream",
     "text": [
      "WARNING: no original id for gene06388_nbisL1-mrna-1 with name ORF type:3prime_partial len:919 (+),score=149.83 and type transdecoder on at9806_1_chr1\n",
      "WARNING: no original id for gene06388_nbisL1-mrna-2 with name ORF type:3prime_partial len:919 (+),score=149.83 and type transdecoder on at9806_1_chr1\n",
      "WARNING: no original id for gene30283_nbisL1-mrna-1 with name ORF type:complete len:748 (+),score=197.73 and type transdecoder on at9806_1_chr5\n",
      "WARNING: no original id for gene30283_nbisL1-mrna-2 with name ORF type:complete len:748 (+),score=197.73 and type transdecoder on at9806_1_chr5\n"
     ]
    },
    {
     "data": {
      "application/vnd.jupyter.widget-view+json": {
       "model_id": "0044baa5c60846fe831dc26b5c0b1125",
       "version_major": 2,
       "version_minor": 0
      },
      "text/plain": [
       "at9830: 0it [00:00, ?it/s]"
      ]
     },
     "metadata": {},
     "output_type": "display_data"
    },
    {
     "data": {
      "application/vnd.jupyter.widget-view+json": {
       "model_id": "ed84f50605584764bfd193edcc9cc45f",
       "version_major": 2,
       "version_minor": 0
      },
      "text/plain": [
       "at9847: 0it [00:00, ?it/s]"
      ]
     },
     "metadata": {},
     "output_type": "display_data"
    },
    {
     "name": "stdout",
     "output_type": "stream",
     "text": [
      "WARNING: no original id for gene01664_nbisL1-mrna-1 with name ORF type:complete len:331 (+),score=95.87 and type transdecoder on at9847_1_chr1\n",
      "WARNING: no original id for gene01664_nbisL1-mrna-2 with name ORF type:complete len:331 (+),score=95.87 and type transdecoder on at9847_1_chr1\n",
      "WARNING: no original id for gene23918_nbisL1-mrna-2 with name ORF type:complete len:587 (+),score=116.28 and type transdecoder on at9847_1_chr4\n",
      "WARNING: no original id for gene23918_nbisL1-mrna-1 with name ORF type:complete len:587 (+),score=116.28 and type transdecoder on at9847_1_chr4\n",
      "WARNING: no original id for gene31262_nbisL1-mrna-1 with name ORF type:complete len:759 (+),score=90.00 and type transdecoder on at9847_1_chr5\n",
      "WARNING: no original id for gene31262_nbisL1-mrna-2 with name ORF type:complete len:759 (+),score=90.00 and type transdecoder on at9847_1_chr5\n",
      "WARNING: no original id for gene31696_nbisL1-mrna-2 with name ORF type:complete len:952 (+),score=149.07 and type transdecoder on at9847_1_chr5\n",
      "WARNING: no original id for gene31696_nbisL1-mrna-1 with name ORF type:complete len:952 (+),score=149.07 and type transdecoder on at9847_1_chr5\n"
     ]
    },
    {
     "data": {
      "application/vnd.jupyter.widget-view+json": {
       "model_id": "c7dd6dfbb7154dc0aa67cc38f7fc12a7",
       "version_major": 2,
       "version_minor": 0
      },
      "text/plain": [
       "at9852: 0it [00:00, ?it/s]"
      ]
     },
     "metadata": {},
     "output_type": "display_data"
    },
    {
     "name": "stdout",
     "output_type": "stream",
     "text": [
      "WARNING: no original id for gene30312_nbisL1-mrna-1 with name ORF type:complete len:748 (+),score=196.23 and type transdecoder on at9852_1_chr5\n",
      "WARNING: no original id for gene30312_nbisL1-mrna-2 with name ORF type:complete len:748 (+),score=196.23 and type transdecoder on at9852_1_chr5\n",
      "WARNING: no original id for gene30976_nbisL1-mrna-1 with name ORF type:complete len:1066 (+),score=173.17 and type transdecoder on at9852_1_chr5\n",
      "WARNING: no original id for gene30976_nbisL1-mrna-2 with name ORF type:complete len:1066 (+),score=173.17 and type transdecoder on at9852_1_chr5\n"
     ]
    },
    {
     "data": {
      "application/vnd.jupyter.widget-view+json": {
       "model_id": "0422c7b3100c44f39b3bb633e19ab903",
       "version_major": 2,
       "version_minor": 0
      },
      "text/plain": [
       "at9879: 0it [00:00, ?it/s]"
      ]
     },
     "metadata": {},
     "output_type": "display_data"
    },
    {
     "data": {
      "application/vnd.jupyter.widget-view+json": {
       "model_id": "7e9a7bd1af5d453790d35bb114234639",
       "version_major": 2,
       "version_minor": 0
      },
      "text/plain": [
       "at9883: 0it [00:00, ?it/s]"
      ]
     },
     "metadata": {},
     "output_type": "display_data"
    },
    {
     "data": {
      "application/vnd.jupyter.widget-view+json": {
       "model_id": "56935991daa845df8680ea99de2af37e",
       "version_major": 2,
       "version_minor": 0
      },
      "text/plain": [
       "at9900: 0it [00:00, ?it/s]"
      ]
     },
     "metadata": {},
     "output_type": "display_data"
    }
   ],
   "source": [
    "for acc, genes in sorted(mergedannot.items()):\n",
    "    with open(f\"post-curation/{acc}_hodgepodgemerged.gff3\", \"w\") as fh, \\\n",
    "         open(f\"post-curation/{acc}_hodgepodgemerged.representatives.gff3\", \"w\") as repfh:\n",
    "        for gene in genes:\n",
    "            if \"seqid\" not in gene:\n",
    "                print(gene)\n",
    "                break\n",
    "        for i, gene in tqdm(enumerate(sorted(genes, key=lambda g: (g[\"seqid\"], g[\"start\"], g[\"attributes\"][\"ID\"]))), desc=acc):\n",
    "            (\n",
    "                GeneProcessor(gene)\n",
    "                # regex the original annotator's ID from either the ID or the Name or give up and don't add it, but warn.\n",
    "                .apply(extract_original_ids)\n",
    "                .apply(pseudogene_reontologise_general)\n",
    "                # extract the original annotator's name (like above)\n",
    "                .apply(recursively, orig_annotator)\n",
    "                # remove duplicated transcripts\n",
    "                # hopefully not needed\n",
    "                #.apply(transcript_dedup)\n",
    "                # Remove \"Name=\" which is mostly horseshit\n",
    "                .apply(recursively, nonames)\n",
    "                # rename nicely in order\n",
    "                .apply(rename_sequential, prefix=acc, n=(i+1)*10)\n",
    "                # Pick representative gene model\n",
    "                .apply(pick_representative)\n",
    "                # Reassign TE genes to type transposible_element_gene\n",
    "                .apply(te_genes)\n",
    "                .apply(sanity_check)\n",
    "                # LAST, write to file\n",
    "                .apply(gffparse.write_gene, file=fh)\n",
    "                .apply(onlyrep)\n",
    "                .apply(gffparse.write_gene, file=repfh)\n",
    "            )"
   ]
  },
  {
   "cell_type": "code",
   "execution_count": 33,
   "id": "a5d7dc5f-2ad2-4ed7-89a9-71a142840850",
   "metadata": {
    "tags": []
   },
   "outputs": [
    {
     "name": "stdout",
     "output_type": "stream",
     "text": [
      "at9744\t5096\n",
      "at9879\t5080\n",
      "at8285\t5077\n",
      "at9883\t5017\n",
      "at7143\t4966\n",
      "at6923\t4928\n",
      "at9336\t4903\n",
      "at9847\t4902\n",
      "at9762\t4888\n",
      "at6137\t4856\n",
      "at9578\t4854\n",
      "at9503\t4841\n",
      "at9104\t4824\n",
      "at9900\t4794\n",
      "at9852\t4710\n",
      "at9806\t4701\n",
      "at6929\t4700\n",
      "at9830\t4681\n"
     ]
    }
   ],
   "source": [
    "for k, v in TE_GENE_COUNTS.most_common():\n",
    "    print(k, v, sep=\"\\t\")"
   ]
  },
  {
   "cell_type": "code",
   "execution_count": 34,
   "id": "d18d6290-ac1f-4782-a864-6dd709f25083",
   "metadata": {},
   "outputs": [],
   "source": [
    "def igvjs_accession(acc, force_remake_igv=True):\n",
    "    force_remake_igv=True\n",
    "    gffls = [\n",
    "        f\"post-curation/{acc}_hodgepodgemerged.gff3\",\n",
    "        f\"post-curation/{acc}_hodgepodgemerged.representatives.gff3\",\n",
    "        f'input/{acc}.augustus.gff',\n",
    "        f'input/{acc}.liftoff.protonly.gff',\n",
    "        f'input/{acc}.pasa.fix.gff',\n",
    "        f'input/{acc}.transdecoder.gff'\n",
    "    ]\n",
    "    idx_dir = Path(f\"post-curation/indexed/{acc}/\")\n",
    "    if not idx_dir.is_dir():\n",
    "        idx_dir.mkdir(parents=True)\n",
    "    gffidxd = []\n",
    "    for gff in gffls:\n",
    "        gff = Path(gff)\n",
    "        if not gff.exists():\n",
    "            continue\n",
    "        bn = Path(gff).name\n",
    "        if bn.endswith(\"gff\"):\n",
    "            bn = bn + \"3\"\n",
    "        out = idx_dir / bn\n",
    "        outgz = idx_dir / f\"{bn}.gz\"\n",
    "        outtbi = idx_dir / f\"{bn}.gz.tbi\"\n",
    "        gffidxd.append(str(outgz))\n",
    "        if not outtbi.exists() or force_remake_igv:\n",
    "            if \"transdecoder\" in str(gff):\n",
    "                regex = r\"(.+\\t){8}.+\"\n",
    "                subprocess.run(f\"grep -P '{regex}' {gff} >tmp/{bn}.fixtmp.gff3\", shell=True, check=True)\n",
    "                gff = f\"tmp/{bn}.fixtmp.gff3\"\n",
    "            if \"hodgepodge\" in str(gff):\n",
    "                subprocess.run(f\"conda activate dl20; rm -f tmp/{bn}.agatted.gff3; agat_convert_sp_gxf2gxf.pl --config input/agat_config.yaml -g {gff} -o tmp/{bn}.agatted.gff3 &>tmp/{bn}.agatted.gff3.log\", shell=True, check=True, executable=\"/bin/bash\")\n",
    "                gff = f\"tmp/{bn}.agatted.gff3\"\n",
    "                \n",
    "            subprocess.run(f\"grep -v '^#' {gff} | sort -s -k 1,1 -k 4,4n -o {out}\", shell=True, check=True)\n",
    "            subprocess.run(f\"bgzip --stdout --index --index-name {outgz}.gzi --compress-level 9 --threads 8 {out} >{outgz}\", shell=True, check=True)\n",
    "            subprocess.run(f\"tabix {outgz}\", shell=True, check=True)\n",
    "            print(f\"tabix {bn}\")\n",
    "        else:\n",
    "            print(f\"{bn} done\")\n",
    "    \n",
    "    igv_dir = Path(f\"post-curation/igv/{acc}\")\n",
    "    igv_dir.parent.mkdir(parents=True, exist_ok=True)\n",
    "    \n",
    "    fasta = Path(f\"../assembly-and-annotation/output/01_assembly/03_inversion_fixed/{acc}.fasta\")\n",
    "    subprocess.run(f\"blsl genigvjs --reference {fasta} --outdir {igv_dir} {' '.join(gffidxd)} output/{acc}_decisions.bed ../TE_annotation/TE_annotation/output/final_TE_annotation/merging_by_fam/final_TE_annotation_merged_fam.bed\", shell=True, check=True)\n",
    "    print(f\"IGV for {acc}\")\n",
    "    return acc"
   ]
  },
  {
   "cell_type": "code",
   "execution_count": 35,
   "id": "7f2b0cc4-5e5a-4c2b-9f9e-54cddaa689c1",
   "metadata": {
    "tags": []
   },
   "outputs": [
    {
     "name": "stdout",
     "output_type": "stream",
     "text": [
      "tabix at6137_hodgepodgemerged.gff3\n",
      "tabix at9830_hodgepodgemerged.gff3\n",
      "tabix at9806_hodgepodgemerged.gff3\n",
      "tabix at9883_hodgepodgemerged.gff3\n",
      "tabix at9879_hodgepodgemerged.gff3\n",
      "tabix at8285_hodgepodgemerged.gff3\n",
      "tabix at6929_hodgepodgemerged.gff3\n",
      "tabix at9104_hodgepodgemerged.gff3\n",
      "tabix at9900_hodgepodgemerged.gff3\n",
      "tabix at9762_hodgepodgemerged.gff3\n",
      "tabix at9744_hodgepodgemerged.gff3\n",
      "tabix at9503_hodgepodgemerged.gff3\n",
      "tabix at9336_hodgepodgemerged.gff3\n",
      "tabix at7143_hodgepodgemerged.gff3\n",
      "tabix at9852_hodgepodgemerged.gff3\n",
      "tabix at9847_hodgepodgemerged.gff3\n",
      "tabix at9578_hodgepodgemerged.gff3\n",
      "tabix at6923_hodgepodgemerged.gff3\n",
      "tabix at6137_hodgepodgemerged.representatives.gff3\n",
      "tabix at9830_hodgepodgemerged.representatives.gff3\n",
      "tabix at9879_hodgepodgemerged.representatives.gff3\n",
      "tabix at6137.augustus.gff3\n",
      "tabix at6929_hodgepodgemerged.representatives.gff3\n",
      "tabix at9806_hodgepodgemerged.representatives.gff3\n",
      "tabix at9883_hodgepodgemerged.representatives.gff3\n",
      "tabix at8285_hodgepodgemerged.representatives.gff3\n",
      "tabix at9830.augustus.gff3\n",
      "tabix at9879.augustus.gff3\n",
      "tabix at6137.liftoff.protonly.gff3\n",
      "tabix at6929.augustus.gff3\n",
      "tabix at9900_hodgepodgemerged.representatives.gff3\n",
      "tabix at9104_hodgepodgemerged.representatives.gff3\n",
      "IGV for at6137\n",
      "tabix at9762_hodgepodgemerged.representatives.gff3\n",
      "tabix at9806.augustus.gff3\n",
      "tabix at9883.augustus.gff3\n",
      "tabix at8285.augustus.gff3\n",
      "tabix at9830.liftoff.protonly.gff3\n",
      "tabix at9879.liftoff.protonly.gff3\n",
      "tabix at6929.liftoff.protonly.gff3\n",
      "tabix at9900.augustus.gff3\n",
      "tabix at9104.augustus.gff3\n",
      "tabix at9806.liftoff.protonly.gff3\n",
      "tabix at9762.augustus.gff3\n",
      "tabix at9883.liftoff.protonly.gff3\n",
      "tabix at9744_hodgepodgemerged.representatives.gff3\n",
      "tabix at8285.liftoff.protonly.gff3\n",
      "tabix at9830.pasa.fix.gff3\n",
      "tabix at9879.pasa.fix.gff3\n",
      "tabix at9503_hodgepodgemerged.representatives.gff3\n",
      "tabix at6929.pasa.fix.gff3\n",
      "tabix at7143_hodgepodgemerged.representatives.gff3\n",
      "tabix at9104.liftoff.protonly.gff3\n",
      "tabix at9336_hodgepodgemerged.representatives.gff3\n",
      "tabix at9900.liftoff.protonly.gff3\n",
      "tabix at9847_hodgepodgemerged.representatives.gff3\n",
      "tabix at9806.pasa.fix.gff3\n",
      "tabix at9762.liftoff.protonly.gff3\n",
      "tabix at9883.pasa.fix.gff3\n",
      "tabix at9744.augustus.gff3\n",
      "tabix at8285.pasa.fix.gff3\n",
      "tabix at9503.augustus.gff3\n",
      "tabix at7143.augustus.gff3\n",
      "tabix at9104.pasa.fix.gff3\n",
      "tabix at9336.augustus.gff3\n",
      "tabix at9900.pasa.fix.gff3\n",
      "tabix at9847.augustus.gff3\n",
      "tabix at9852_hodgepodgemerged.representatives.gff3\n",
      "tabix at9762.pasa.fix.gff3\n",
      "tabix at9744.liftoff.protonly.gff3\n",
      "tabix at9503.liftoff.protonly.gff3\n",
      "tabix at7143.liftoff.protonly.gff3\n",
      "tabix at9336.liftoff.protonly.gff3\n",
      "tabix at9578_hodgepodgemerged.representatives.gff3\n",
      "tabix at9847.liftoff.protonly.gff3\n",
      "tabix at9852.augustus.gff3\n",
      "tabix at9744.pasa.fix.gff3\n",
      "tabix at9503.pasa.fix.gff3\n",
      "tabix at9578.augustus.gff3\n",
      "tabix at9336.pasa.fix.gff3\n",
      "tabix at7143.pasa.fix.gff3\n",
      "tabix at9847.pasa.fix.gff3\n",
      "tabix at9852.liftoff.protonly.gff3\n",
      "tabix at9578.liftoff.protonly.gff3\n",
      "tabix at9852.pasa.fix.gff3\n",
      "tabix at9578.pasa.fix.gff3\n",
      "tabix at6923_hodgepodgemerged.representatives.gff3\n",
      "tabix at6923.augustus.gff3\n",
      "tabix at6923.liftoff.protonly.gff3\n",
      "tabix at6923.pasa.fix.gff3\n",
      "tabix at9830.transdecoder.gff3\n",
      "tabix at9879.transdecoder.gff3\n",
      "IGV for at9830\n",
      "tabix at9883.transdecoder.gff3\n",
      "IGV for at9879\n",
      "IGV for at9883\n",
      "tabix at9806.transdecoder.gff3\n",
      "tabix at8285.transdecoder.gff3\n",
      "IGV for at9806\n",
      "IGV for at8285\n",
      "tabix at9104.transdecoder.gff3\n",
      "IGV for at9104\n",
      "tabix at6929.transdecoder.gff3\n",
      "IGV for at6929\n",
      "tabix at9762.transdecoder.gff3\n",
      "IGV for at9762\n",
      "tabix at9900.transdecoder.gff3\n",
      "IGV for at9900\n",
      "tabix at9852.transdecoder.gff3\n",
      "IGV for at9852\n",
      "tabix at9336.transdecoder.gff3\n",
      "IGV for at9336\n",
      "tabix at9503.transdecoder.gff3\n",
      "IGV for at9503\n",
      "tabix at9744.transdecoder.gff3\n",
      "IGV for at9744\n",
      "tabix at9847.transdecoder.gff3\n",
      "IGV for at9847\n",
      "tabix at7143.transdecoder.gff3\n",
      "IGV for at7143\n",
      "tabix at9578.transdecoder.gff3\n",
      "IGV for at9578\n",
      "tabix at6923.transdecoder.gff3\n",
      "IGV for at6923\n",
      "at6923 Done!\n",
      "at6929 Done!\n",
      "at7143 Done!\n",
      "at8285 Done!\n",
      "at9104 Done!\n",
      "at9336 Done!\n",
      "at9503 Done!\n",
      "at9578 Done!\n",
      "at9744 Done!\n",
      "at9762 Done!\n",
      "at9806 Done!\n",
      "at9830 Done!\n",
      "at9847 Done!\n",
      "at9852 Done!\n",
      "at9883 Done!\n",
      "at9900 Done!\n",
      "at9879 Done!\n",
      "at6137 Done!\n"
     ]
    }
   ],
   "source": [
    "import multiprocessing\n",
    "with multiprocessing.Pool(20) as pool:\n",
    "    for x in pool.imap(igvjs_accession, all_accs):\n",
    "        print(f\"{x} Done!\")"
   ]
  },
  {
   "cell_type": "code",
   "execution_count": 36,
   "id": "624ea325-e45f-4420-a714-fabb6b91125d",
   "metadata": {},
   "outputs": [
    {
     "name": "stdout",
     "output_type": "stream",
     "text": [
      "sending incremental file list\n",
      ".d.....g... ./\n",
      ".d.....g... at6137/\n",
      "<f..t..g... at6137/at6137.augustus.gff3.gz\n",
      "          5.94M 100%  171.57MB/s    0:00:00 (xfr#1, to-chk=301/321)\n",
      "<f..t..g... at6137/at6137.augustus.gff3.gz.tbi\n",
      "         23.44K 100%  673.34kB/s    0:00:00 (xfr#2, to-chk=300/321)\n",
      ".f.....g... at6137/at6137.fasta\n",
      ".f.....g... at6137/at6137.fasta.fai\n",
      "<f..t..g... at6137/at6137.liftoff.protonly.gff3.gz\n",
      "          5.47M 100%   76.76MB/s    0:00:00 (xfr#3, to-chk=297/321)\n",
      "<f..t..g... at6137/at6137.liftoff.protonly.gff3.gz.tbi\n",
      "         23.56K 100%  338.34kB/s    0:00:00 (xfr#4, to-chk=296/321)\n",
      ".f.....g... at6137/at6137_decisions.bed\n",
      "<f.st..g... at6137/at6137_hodgepodgemerged.gff3.gz\n",
      "          7.04M 100%   18.45MB/s    0:00:00 (xfr#5, to-chk=294/321)\n",
      "<f.st..g... at6137/at6137_hodgepodgemerged.gff3.gz.tbi\n",
      "         25.87K 100%   69.21kB/s    0:00:00 (xfr#6, to-chk=293/321)\n",
      "<f.st..g... at6137/at6137_hodgepodgemerged.representatives.gff3.gz\n",
      "          5.50M 100%   12.00MB/s    0:00:00 (xfr#7, to-chk=292/321)\n",
      "<f.st..g... at6137/at6137_hodgepodgemerged.representatives.gff3.gz.tbi\n",
      "         24.00K 100%   53.64kB/s    0:00:00 (xfr#8, to-chk=291/321)\n",
      ".f.....g... at6137/final_TE_annotation_merged_fam.bed\n",
      "<f..t..g... at6137/index.html\n",
      "          2.71K 100%    6.04kB/s    0:00:00 (xfr#9, to-chk=289/321)\n",
      ".d.....g... at6923/\n",
      "<f..t..g... at6923/at6923.augustus.gff3.gz\n",
      "          5.98M 100%   12.03MB/s    0:00:00 (xfr#10, to-chk=288/321)\n",
      "<f..t..g... at6923/at6923.augustus.gff3.gz.tbi\n",
      "         23.44K 100%   48.19kB/s    0:00:00 (xfr#11, to-chk=287/321)\n",
      ".f.....g... at6923/at6923.fasta\n",
      ".f.....g... at6923/at6923.fasta.fai\n",
      "<f..t..g... at6923/at6923.liftoff.protonly.gff3.gz\n",
      "          5.48M 100%   10.28MB/s    0:00:00 (xfr#12, to-chk=284/321)\n",
      "<f..t..g... at6923/at6923.liftoff.protonly.gff3.gz.tbi\n",
      "         24.25K 100%   46.53kB/s    0:00:00 (xfr#13, to-chk=283/321)\n",
      "<f..t..g... at6923/at6923.pasa.fix.gff3.gz\n",
      "          5.69M 100%    9.97MB/s    0:00:00 (xfr#14, to-chk=282/321)\n",
      "<f..t..g... at6923/at6923.pasa.fix.gff3.gz.tbi\n",
      "         22.63K 100%   40.56kB/s    0:00:00 (xfr#15, to-chk=281/321)\n",
      "<f..t..g... at6923/at6923.transdecoder.gff3.gz\n",
      "         34.29M 100%   43.48MB/s    0:00:00 (xfr#16, to-chk=280/321)\n",
      "<f..t..g... at6923/at6923.transdecoder.gff3.gz.tbi\n",
      "         33.28K 100%   43.16kB/s    0:00:00 (xfr#17, to-chk=279/321)\n",
      ".f.....g... at6923/at6923_decisions.bed\n",
      "<f.st..g... at6923/at6923_hodgepodgemerged.gff3.gz\n",
      "          9.09M 100%    8.08MB/s    0:00:01 (xfr#18, to-chk=277/321)\n",
      "<f.st..g... at6923/at6923_hodgepodgemerged.gff3.gz.tbi\n",
      "         27.49K 100%  362.73kB/s    0:00:00 (xfr#19, to-chk=276/321)\n",
      "<f.st..g... at6923/at6923_hodgepodgemerged.representatives.gff3.gz\n",
      "          5.56M 100%   33.53MB/s    0:00:00 (xfr#20, to-chk=275/321)\n",
      "<f.st..g... at6923/at6923_hodgepodgemerged.representatives.gff3.gz.tbi\n",
      "         24.06K 100%  146.86kB/s    0:00:00 (xfr#21, to-chk=274/321)\n",
      ".f.....g... at6923/final_TE_annotation_merged_fam.bed\n",
      "<f..t..g... at6923/index.html\n",
      "          3.37K 100%   20.55kB/s    0:00:00 (xfr#22, to-chk=272/321)\n",
      ".d.....g... at6929/\n",
      "<f..t..g... at6929/at6929.augustus.gff3.gz\n",
      "          5.93M 100%   27.58MB/s    0:00:00 (xfr#23, to-chk=271/321)\n",
      "<f..t..g... at6929/at6929.augustus.gff3.gz.tbi\n",
      "         23.88K 100%  113.18kB/s    0:00:00 (xfr#24, to-chk=270/321)\n",
      ".f.....g... at6929/at6929.fasta\n",
      ".f.....g... at6929/at6929.fasta.fai\n",
      "<f..t..g... at6929/at6929.liftoff.protonly.gff3.gz\n",
      "          5.48M 100%   21.58MB/s    0:00:00 (xfr#25, to-chk=267/321)\n",
      "<f..t..g... at6929/at6929.liftoff.protonly.gff3.gz.tbi\n",
      "         23.50K 100%   94.44kB/s    0:00:00 (xfr#26, to-chk=266/321)\n",
      "<f..t..g... at6929/at6929.pasa.fix.gff3.gz\n",
      "          4.87M 100%   17.07MB/s    0:00:00 (xfr#27, to-chk=265/321)\n",
      "<f..t..g... at6929/at6929.pasa.fix.gff3.gz.tbi\n",
      "         22.16K 100%   79.54kB/s    0:00:00 (xfr#28, to-chk=264/321)\n",
      "<f..t..g... at6929/at6929.transdecoder.gff3.gz\n",
      "         25.26M 100%   56.41MB/s    0:00:00 (xfr#29, to-chk=263/321)\n",
      "<f..t..g... at6929/at6929.transdecoder.gff3.gz.tbi\n",
      "         30.29K 100%   69.10kB/s    0:00:00 (xfr#30, to-chk=262/321)\n",
      ".f.....g... at6929/at6929_decisions.bed\n",
      "<f.st..g... at6929/at6929_hodgepodgemerged.gff3.gz\n",
      "          8.33M 100%   12.34MB/s    0:00:00 (xfr#31, to-chk=260/321)\n",
      "<f.st..g... at6929/at6929_hodgepodgemerged.gff3.gz.tbi\n",
      "         27.36K 100%   41.43kB/s    0:00:00 (xfr#32, to-chk=259/321)\n",
      "<f.st..g... at6929/at6929_hodgepodgemerged.representatives.gff3.gz\n",
      "          5.50M 100%    7.31MB/s    0:00:00 (xfr#33, to-chk=258/321)\n",
      "<f.st..g... at6929/at6929_hodgepodgemerged.representatives.gff3.gz.tbi\n",
      "         24.36K 100%   33.04kB/s    0:00:00 (xfr#34, to-chk=257/321)\n",
      ".f.....g... at6929/final_TE_annotation_merged_fam.bed\n",
      "<f..t..g... at6929/index.html\n",
      "          3.37K 100%    4.57kB/s    0:00:00 (xfr#35, to-chk=255/321)\n",
      ".d.....g... at7143/\n",
      "<f..t..g... at7143/at7143.augustus.gff3.gz\n",
      "          5.96M 100%    7.48MB/s    0:00:00 (xfr#36, to-chk=254/321)\n",
      "<f..t..g... at7143/at7143.augustus.gff3.gz.tbi\n",
      "         23.84K 100%   30.56kB/s    0:00:00 (xfr#37, to-chk=253/321)\n",
      ".f.....g... at7143/at7143.fasta\n",
      ".f.....g... at7143/at7143.fasta.fai\n",
      "<f..t..g... at7143/at7143.liftoff.protonly.gff3.gz\n",
      "          5.47M 100%    6.51MB/s    0:00:00 (xfr#38, to-chk=250/321)\n",
      "<f..t..g... at7143/at7143.liftoff.protonly.gff3.gz.tbi\n",
      "         23.62K 100%   28.73kB/s    0:00:00 (xfr#39, to-chk=249/321)\n",
      "<f..t..g... at7143/at7143.pasa.fix.gff3.gz\n",
      "          5.33M 100%    6.02MB/s    0:00:00 (xfr#40, to-chk=248/321)\n",
      "<f..t..g... at7143/at7143.pasa.fix.gff3.gz.tbi\n",
      "         22.47K 100%   25.97kB/s    0:00:00 (xfr#41, to-chk=247/321)\n",
      "<f..t..g... at7143/at7143.transdecoder.gff3.gz\n",
      "         29.91M 100%   27.91MB/s    0:00:01 (xfr#42, to-chk=246/321)\n",
      "<f..t..g... at7143/at7143.transdecoder.gff3.gz.tbi\n",
      "         31.21K 100%    1.29MB/s    0:00:00 (xfr#43, to-chk=245/321)\n",
      ".f.....g... at7143/at7143_decisions.bed\n",
      "<f.st..g... at7143/at7143_hodgepodgemerged.gff3.gz\n",
      "          8.76M 100%   31.75MB/s    0:00:00 (xfr#44, to-chk=243/321)\n",
      "<f.st..g... at7143/at7143_hodgepodgemerged.gff3.gz.tbi\n",
      "         27.26K 100%  100.83kB/s    0:00:00 (xfr#45, to-chk=242/321)\n",
      "<f.st..g... at7143/at7143_hodgepodgemerged.representatives.gff3.gz\n",
      "          5.56M 100%   15.82MB/s    0:00:00 (xfr#46, to-chk=241/321)\n",
      "<f.st..g... at7143/at7143_hodgepodgemerged.representatives.gff3.gz.tbi\n",
      "         24.06K 100%   69.93kB/s    0:00:00 (xfr#47, to-chk=240/321)\n",
      ".f.....g... at7143/final_TE_annotation_merged_fam.bed\n",
      "<f..t..g... at7143/index.html\n",
      "          3.37K 100%    9.76kB/s    0:00:00 (xfr#48, to-chk=238/321)\n",
      ".d.....g... at8285/\n",
      "<f..t..g... at8285/at8285.augustus.gff3.gz\n",
      "          5.96M 100%   15.32MB/s    0:00:00 (xfr#49, to-chk=237/321)\n",
      "<f..t..g... at8285/at8285.augustus.gff3.gz.tbi\n",
      "         24.14K 100%   63.53kB/s    0:00:00 (xfr#50, to-chk=236/321)\n",
      ".f.....g... at8285/at8285.fasta\n",
      ".f.....g... at8285/at8285.fasta.fai\n",
      "<f..t..g... at8285/at8285.liftoff.protonly.gff3.gz\n",
      "          5.47M 100%   12.92MB/s    0:00:00 (xfr#51, to-chk=233/321)\n",
      "<f..t..g... at8285/at8285.liftoff.protonly.gff3.gz.tbi\n",
      "         23.69K 100%   57.27kB/s    0:00:00 (xfr#52, to-chk=232/321)\n",
      "<f..t..g... at8285/at8285.pasa.fix.gff3.gz\n",
      "          4.58M 100%   10.13MB/s    0:00:00 (xfr#53, to-chk=231/321)\n",
      "<f..t..g... at8285/at8285.pasa.fix.gff3.gz.tbi\n",
      "         22.15K 100%   50.18kB/s    0:00:00 (xfr#54, to-chk=230/321)\n",
      "<f..t..g... at8285/at8285.transdecoder.gff3.gz\n",
      "         21.49M 100%   37.46MB/s    0:00:00 (xfr#55, to-chk=229/321)\n",
      "<f..t..g... at8285/at8285.transdecoder.gff3.gz.tbi\n",
      "         29.49K 100%   52.66kB/s    0:00:00 (xfr#56, to-chk=228/321)\n",
      ".f.....g... at8285/at8285_decisions.bed\n",
      "<f.st..g... at8285/at8285_hodgepodgemerged.gff3.gz\n",
      "          8.15M 100%   10.52MB/s    0:00:00 (xfr#57, to-chk=226/321)\n",
      "<f.st..g... at8285/at8285_hodgepodgemerged.gff3.gz.tbi\n",
      "         27.25K 100%   36.01kB/s    0:00:00 (xfr#58, to-chk=225/321)\n",
      "<f.st..g... at8285/at8285_hodgepodgemerged.representatives.gff3.gz\n",
      "          5.55M 100%    6.53MB/s    0:00:00 (xfr#59, to-chk=224/321)\n",
      "<f.st..g... at8285/at8285_hodgepodgemerged.representatives.gff3.gz.tbi\n",
      "         24.50K 100%   29.50kB/s    0:00:00 (xfr#60, to-chk=223/321)\n",
      ".f.....g... at8285/final_TE_annotation_merged_fam.bed\n",
      "<f..t..g... at8285/index.html\n",
      "          3.37K 100%    4.05kB/s    0:00:00 (xfr#61, to-chk=221/321)\n",
      ".d.....g... at9104/\n",
      "<f..t..g... at9104/at9104.augustus.gff3.gz\n",
      "          5.95M 100%    6.69MB/s    0:00:00 (xfr#62, to-chk=220/321)\n",
      "<f..t..g... at9104/at9104.augustus.gff3.gz.tbi\n",
      "         24.13K 100%   27.79kB/s    0:00:00 (xfr#63, to-chk=219/321)\n",
      ".f.....g... at9104/at9104.fasta\n",
      ".f.....g... at9104/at9104.fasta.fai\n",
      "<f..t..g... at9104/at9104.liftoff.protonly.gff3.gz\n",
      "          5.48M 100%    5.93MB/s    0:00:00 (xfr#64, to-chk=216/321)\n",
      "<f..t..g... at9104/at9104.liftoff.protonly.gff3.gz.tbi\n",
      "         23.55K 100%   26.05kB/s    0:00:00 (xfr#65, to-chk=215/321)\n",
      "<f..t..g... at9104/at9104.pasa.fix.gff3.gz\n",
      "          4.78M 100%    5.00MB/s    0:00:00 (xfr#66, to-chk=214/321)\n",
      "<f..t..g... at9104/at9104.pasa.fix.gff3.gz.tbi\n",
      "         21.93K 100%   23.46kB/s    0:00:00 (xfr#67, to-chk=213/321)\n",
      "<f..t..g... at9104/at9104.transdecoder.gff3.gz\n",
      "         23.64M 100%   21.64MB/s    0:00:01 (xfr#68, to-chk=212/321)\n",
      "<f..t..g... at9104/at9104.transdecoder.gff3.gz.tbi\n",
      "         29.96K 100%  664.97kB/s    0:00:00 (xfr#69, to-chk=211/321)\n",
      ".f.....g... at9104/at9104_decisions.bed\n",
      "<f.st..g... at9104/at9104_hodgepodgemerged.gff3.gz\n",
      "          8.22M 100%   31.22MB/s    0:00:00 (xfr#70, to-chk=209/321)\n",
      "<f.st..g... at9104/at9104_hodgepodgemerged.gff3.gz.tbi\n",
      "         27.00K 100%  104.64kB/s    0:00:00 (xfr#71, to-chk=208/321)\n",
      "<f.st..g... at9104/at9104_hodgepodgemerged.representatives.gff3.gz\n",
      "          5.52M 100%   16.35MB/s    0:00:00 (xfr#72, to-chk=207/321)\n",
      "<f.st..g... at9104/at9104_hodgepodgemerged.representatives.gff3.gz.tbi\n",
      "         24.24K 100%   73.29kB/s    0:00:00 (xfr#73, to-chk=206/321)\n",
      ".f.....g... at9104/final_TE_annotation_merged_fam.bed\n",
      "<f..t..g... at9104/index.html\n",
      "          3.37K 100%   10.15kB/s    0:00:00 (xfr#74, to-chk=204/321)\n",
      ".d.....g... at9336/\n",
      "<f..t..g... at9336/at9336.augustus.gff3.gz\n",
      "          6.05M 100%   16.03MB/s    0:00:00 (xfr#75, to-chk=203/321)\n",
      "<f..t..g... at9336/at9336.augustus.gff3.gz.tbi\n",
      "         24.35K 100%   66.06kB/s    0:00:00 (xfr#76, to-chk=202/321)\n",
      ".f.....g... at9336/at9336.fasta\n",
      ".f.....g... at9336/at9336.fasta.fai\n",
      "<f..t..g... at9336/at9336.liftoff.protonly.gff3.gz\n",
      "          5.48M 100%   13.29MB/s    0:00:00 (xfr#77, to-chk=199/321)\n",
      "<f..t..g... at9336/at9336.liftoff.protonly.gff3.gz.tbi\n",
      "         23.97K 100%   59.42kB/s    0:00:00 (xfr#78, to-chk=198/321)\n",
      "<f..t..g... at9336/at9336.pasa.fix.gff3.gz\n",
      "          5.01M 100%   11.31MB/s    0:00:00 (xfr#79, to-chk=197/321)\n",
      "<f..t..g... at9336/at9336.pasa.fix.gff3.gz.tbi\n",
      "         22.43K 100%   51.66kB/s    0:00:00 (xfr#80, to-chk=196/321)\n",
      "<f..t..g... at9336/at9336.transdecoder.gff3.gz\n",
      "         26.90M 100%   44.93MB/s    0:00:00 (xfr#81, to-chk=195/321)\n",
      "<f..t..g... at9336/at9336.transdecoder.gff3.gz.tbi\n",
      "         30.90K 100%   52.85kB/s    0:00:00 (xfr#82, to-chk=194/321)\n",
      ".f.....g... at9336/at9336_decisions.bed\n",
      "<f.st..g... at9336/at9336_hodgepodgemerged.gff3.gz\n",
      "          8.51M 100%   10.62MB/s    0:00:00 (xfr#83, to-chk=192/321)\n",
      "<f..t..g... at9336/at9336_hodgepodgemerged.gff3.gz.tbi\n",
      "         27.59K 100%   35.22kB/s    0:00:00 (xfr#84, to-chk=191/321)\n",
      "<f.st..g... at9336/at9336_hodgepodgemerged.representatives.gff3.gz\n",
      "          5.62M 100%    6.40MB/s    0:00:00 (xfr#85, to-chk=190/321)\n",
      "<f.st..g... at9336/at9336_hodgepodgemerged.representatives.gff3.gz.tbi\n",
      "         24.61K 100%   28.67kB/s    0:00:00 (xfr#86, to-chk=189/321)\n",
      ".f.....g... at9336/final_TE_annotation_merged_fam.bed\n",
      "<f..t..g... at9336/index.html\n",
      "          3.37K 100%    3.92kB/s    0:00:00 (xfr#87, to-chk=187/321)\n",
      ".d.....g... at9503/\n",
      "<f..t..g... at9503/at9503.augustus.gff3.gz\n",
      "          5.96M 100%    6.50MB/s    0:00:00 (xfr#88, to-chk=186/321)\n",
      "<f..t..g... at9503/at9503.augustus.gff3.gz.tbi\n",
      "         23.74K 100%   26.49kB/s    0:00:00 (xfr#89, to-chk=185/321)\n",
      ".f.....g... at9503/at9503.fasta\n",
      ".f.....g... at9503/at9503.fasta.fai\n",
      "<f..t..g... at9503/at9503.liftoff.protonly.gff3.gz\n",
      "          5.48M 100%    5.75MB/s    0:00:00 (xfr#90, to-chk=182/321)\n",
      "<f..t..g... at9503/at9503.liftoff.protonly.gff3.gz.tbi\n",
      "         23.74K 100%   25.50kB/s    0:00:00 (xfr#91, to-chk=181/321)\n",
      "<f..t..g... at9503/at9503.pasa.fix.gff3.gz\n",
      "          5.06M 100%    5.13MB/s    0:00:00 (xfr#92, to-chk=180/321)\n",
      "<f..t..g... at9503/at9503.pasa.fix.gff3.gz.tbi\n",
      "         21.30K 100%   22.08kB/s    0:00:00 (xfr#93, to-chk=179/321)\n",
      "<f..t..g... at9503/at9503.transdecoder.gff3.gz\n",
      "         27.17M 100%   22.91MB/s    0:00:01 (xfr#94, to-chk=178/321)\n",
      "<f..t..g... at9503/at9503.transdecoder.gff3.gz.tbi\n",
      "         30.09K 100%  220.91kB/s    0:00:00 (xfr#95, to-chk=177/321)\n",
      ".f.....g... at9503/at9503_decisions.bed\n",
      "<f.st..g... at9503/at9503_hodgepodgemerged.gff3.gz\n",
      "          8.54M 100%   25.78MB/s    0:00:00 (xfr#96, to-chk=175/321)\n",
      "<f.st..g... at9503/at9503_hodgepodgemerged.gff3.gz.tbi\n",
      "         27.14K 100%   83.60kB/s    0:00:00 (xfr#97, to-chk=174/321)\n",
      "<f.st..g... at9503/at9503_hodgepodgemerged.representatives.gff3.gz\n",
      "          5.55M 100%   13.41MB/s    0:00:00 (xfr#98, to-chk=173/321)\n",
      "<f.st..g... at9503/at9503_hodgepodgemerged.representatives.gff3.gz.tbi\n",
      "         24.12K 100%   59.47kB/s    0:00:00 (xfr#99, to-chk=172/321)\n",
      ".f.....g... at9503/final_TE_annotation_merged_fam.bed\n",
      "<f..t..g... at9503/index.html\n",
      "          3.37K 100%    8.30kB/s    0:00:00 (xfr#100, to-chk=170/321)\n",
      ".d.....g... at9578/\n",
      "<f..t..g... at9578/at9578.augustus.gff3.gz\n",
      "          5.95M 100%   13.11MB/s    0:00:00 (xfr#101, to-chk=169/321)\n",
      "<f..t..g... at9578/at9578.augustus.gff3.gz.tbi\n",
      "         23.88K 100%   53.85kB/s    0:00:00 (xfr#102, to-chk=168/321)\n",
      ".f.....g... at9578/at9578.fasta\n",
      ".f.....g... at9578/at9578.fasta.fai\n",
      "<f..t..g... at9578/at9578.liftoff.protonly.gff3.gz\n",
      "          5.47M 100%   11.18MB/s    0:00:00 (xfr#103, to-chk=165/321)\n",
      "<f..t..g... at9578/at9578.liftoff.protonly.gff3.gz.tbi\n",
      "         24.03K 100%   50.14kB/s    0:00:00 (xfr#104, to-chk=164/321)\n",
      "<f..t..g... at9578/at9578.pasa.fix.gff3.gz\n",
      "          5.67M 100%   10.75MB/s    0:00:00 (xfr#105, to-chk=163/321)\n",
      "<f..t..g... at9578/at9578.pasa.fix.gff3.gz.tbi\n",
      "         23.15K 100%   44.95kB/s    0:00:00 (xfr#106, to-chk=162/321)\n",
      "<f..t..g... at9578/at9578.transdecoder.gff3.gz\n",
      "         34.15M 100%   47.06MB/s    0:00:00 (xfr#107, to-chk=161/321)\n",
      "<f..t..g... at9578/at9578.transdecoder.gff3.gz.tbi\n",
      "         33.33K 100%   47.04kB/s    0:00:00 (xfr#108, to-chk=160/321)\n",
      ".f.....g... at9578/at9578_decisions.bed\n",
      "<f.st..g... at9578/at9578_hodgepodgemerged.gff3.gz\n",
      "          9.00M 100%    9.65MB/s    0:00:00 (xfr#109, to-chk=158/321)\n",
      "<f.st..g... at9578/at9578_hodgepodgemerged.gff3.gz.tbi\n",
      "         27.58K 100%   30.27kB/s    0:00:00 (xfr#110, to-chk=157/321)\n",
      "<f.st..g... at9578/at9578_hodgepodgemerged.representatives.gff3.gz\n",
      "          5.54M 100%    5.49MB/s    0:00:00 (xfr#111, to-chk=156/321)\n",
      "<f.st..g... at9578/at9578_hodgepodgemerged.representatives.gff3.gz.tbi\n",
      "         24.14K 100%   24.45kB/s    0:00:00 (xfr#112, to-chk=155/321)\n",
      ".f.....g... at9578/final_TE_annotation_merged_fam.bed\n",
      "<f..t..g... at9578/index.html\n",
      "          3.37K 100%    3.41kB/s    0:00:00 (xfr#113, to-chk=153/321)\n",
      ".d.....g... at9744/\n",
      "<f..t..g... at9744/at9744.augustus.gff3.gz\n",
      "          6.01M 100%    5.73MB/s    0:00:01 (xfr#114, to-chk=152/321)\n",
      "<f..t..g... at9744/at9744.augustus.gff3.gz.tbi\n",
      "         24.49K 100%   23.35MB/s    0:00:00 (xfr#115, to-chk=151/321)\n",
      ".f.....g... at9744/at9744.fasta\n",
      ".f.....g... at9744/at9744.fasta.fai\n",
      "<f..t..g... at9744/at9744.liftoff.protonly.gff3.gz\n",
      "          5.48M 100%  158.48MB/s    0:00:00 (xfr#116, to-chk=148/321)\n",
      "<f..t..g... at9744/at9744.liftoff.protonly.gff3.gz.tbi\n",
      "         24.03K 100%  690.17kB/s    0:00:00 (xfr#117, to-chk=147/321)\n",
      "<f..t..g... at9744/at9744.pasa.fix.gff3.gz\n",
      "          5.19M 100%   77.29MB/s    0:00:00 (xfr#118, to-chk=146/321)\n",
      "<f..t..g... at9744/at9744.pasa.fix.gff3.gz.tbi\n",
      "         22.46K 100%  342.74kB/s    0:00:00 (xfr#119, to-chk=145/321)\n",
      "<f..t..g... at9744/at9744.transdecoder.gff3.gz\n",
      "         30.00M 100%  127.16MB/s    0:00:00 (xfr#120, to-chk=144/321)\n",
      "<f..t..g... at9744/at9744.transdecoder.gff3.gz.tbi\n",
      "         31.66K 100%  136.81kB/s    0:00:00 (xfr#121, to-chk=143/321)\n",
      ".f.....g... at9744/at9744_decisions.bed\n",
      "<f.st..g... at9744/at9744_hodgepodgemerged.gff3.gz\n",
      "          8.62M 100%   20.49MB/s    0:00:00 (xfr#122, to-chk=141/321)\n",
      "<f.st..g... at9744/at9744_hodgepodgemerged.gff3.gz.tbi\n",
      "         27.72K 100%   67.33kB/s    0:00:00 (xfr#123, to-chk=140/321)\n",
      "<f.st..g... at9744/at9744_hodgepodgemerged.representatives.gff3.gz\n",
      "          5.58M 100%   11.23MB/s    0:00:00 (xfr#124, to-chk=139/321)\n",
      "<f.st..g... at9744/at9744_hodgepodgemerged.representatives.gff3.gz.tbi\n",
      "         24.68K 100%   50.73kB/s    0:00:00 (xfr#125, to-chk=138/321)\n",
      ".f.....g... at9744/final_TE_annotation_merged_fam.bed\n",
      "<f..t..g... at9744/index.html\n",
      "          3.37K 100%    6.91kB/s    0:00:00 (xfr#126, to-chk=136/321)\n",
      ".d.....g... at9762/\n",
      "<f..t..g... at9762/at9762.augustus.gff3.gz\n",
      "          5.98M 100%   11.19MB/s    0:00:00 (xfr#127, to-chk=135/321)\n",
      "<f..t..g... at9762/at9762.augustus.gff3.gz.tbi\n",
      "         23.86K 100%   45.52kB/s    0:00:00 (xfr#128, to-chk=134/321)\n",
      ".f.....g... at9762/at9762.fasta\n",
      ".f.....g... at9762/at9762.fasta.fai\n",
      "<f..t..g... at9762/at9762.liftoff.protonly.gff3.gz\n",
      "          5.49M 100%    9.63MB/s    0:00:00 (xfr#129, to-chk=131/321)\n",
      "<f..t..g... at9762/at9762.liftoff.protonly.gff3.gz.tbi\n",
      "         23.81K 100%   42.66kB/s    0:00:00 (xfr#130, to-chk=130/321)\n",
      "<f..t..g... at9762/at9762.pasa.fix.gff3.gz\n",
      "          4.78M 100%    7.94MB/s    0:00:00 (xfr#131, to-chk=129/321)\n",
      "<f..t..g... at9762/at9762.pasa.fix.gff3.gz.tbi\n",
      "         22.10K 100%   37.54kB/s    0:00:00 (xfr#132, to-chk=128/321)\n",
      "<f..t..g... at9762/at9762.transdecoder.gff3.gz\n",
      "         24.61M 100%   32.96MB/s    0:00:00 (xfr#133, to-chk=127/321)\n",
      "<f..t..g... at9762/at9762.transdecoder.gff3.gz.tbi\n",
      "         30.50K 100%   41.77kB/s    0:00:00 (xfr#134, to-chk=126/321)\n",
      ".f.....g... at9762/at9762_decisions.bed\n",
      "<f.st..g... at9762/at9762_hodgepodgemerged.gff3.gz\n",
      "          8.34M 100%    9.11MB/s    0:00:00 (xfr#135, to-chk=124/321)\n",
      "<f.st..g... at9762/at9762_hodgepodgemerged.gff3.gz.tbi\n",
      "         26.96K 100%   30.12kB/s    0:00:00 (xfr#136, to-chk=123/321)\n",
      "<f.st..g... at9762/at9762_hodgepodgemerged.representatives.gff3.gz\n",
      "          5.54M 100%    5.60MB/s    0:00:00 (xfr#137, to-chk=122/321)\n",
      "<f.st..g... at9762/at9762_hodgepodgemerged.representatives.gff3.gz.tbi\n",
      "         24.10K 100%   24.91kB/s    0:00:00 (xfr#138, to-chk=121/321)\n",
      ".f.....g... at9762/final_TE_annotation_merged_fam.bed\n",
      "<f..t..g... at9762/index.html\n",
      "          3.37K 100%    3.48kB/s    0:00:00 (xfr#139, to-chk=119/321)\n",
      ".d.....g... at9806/\n",
      "<f..t..g... at9806/at9806.augustus.gff3.gz\n",
      "          5.90M 100%    5.74MB/s    0:00:00 (xfr#140, to-chk=118/321)\n",
      "<f..t..g... at9806/at9806.augustus.gff3.gz.tbi\n",
      "         23.82K 100%   23.71kB/s    0:00:00 (xfr#141, to-chk=117/321)\n",
      ".f.....g... at9806/at9806.fasta\n",
      ".f.....g... at9806/at9806.fasta.fai\n",
      "<f..t..g... at9806/at9806.liftoff.protonly.gff3.gz\n",
      "          5.48M 100%    5.17MB/s    0:00:01 (xfr#142, to-chk=114/321)\n",
      "<f..t..g... at9806/at9806.liftoff.protonly.gff3.gz.tbi\n",
      "         23.67K 100%    1.88MB/s    0:00:00 (xfr#143, to-chk=113/321)\n",
      "<f..t..g... at9806/at9806.pasa.fix.gff3.gz\n",
      "          4.50M 100%  112.94MB/s    0:00:00 (xfr#144, to-chk=112/321)\n",
      "<f..t..g... at9806/at9806.pasa.fix.gff3.gz.tbi\n",
      "         21.54K 100%  539.46kB/s    0:00:00 (xfr#145, to-chk=111/321)\n",
      "<f..t..g... at9806/at9806.transdecoder.gff3.gz\n",
      "         21.71M 100%  133.56MB/s    0:00:00 (xfr#146, to-chk=110/321)\n",
      "<f..t..g... at9806/at9806.transdecoder.gff3.gz.tbi\n",
      "         28.90K 100%  180.89kB/s    0:00:00 (xfr#147, to-chk=109/321)\n",
      ".f.....g... at9806/at9806_decisions.bed\n",
      "<f.st..g... at9806/at9806_hodgepodgemerged.gff3.gz\n",
      "          8.01M 100%   25.37MB/s    0:00:00 (xfr#148, to-chk=107/321)\n",
      "<f.st..g... at9806/at9806_hodgepodgemerged.gff3.gz.tbi\n",
      "         26.82K 100%   86.72kB/s    0:00:00 (xfr#149, to-chk=106/321)\n",
      "<f.st..g... at9806/at9806_hodgepodgemerged.representatives.gff3.gz\n",
      "          5.51M 100%   14.12MB/s    0:00:00 (xfr#150, to-chk=105/321)\n",
      "<f.st..g... at9806/at9806_hodgepodgemerged.representatives.gff3.gz.tbi\n",
      "         24.10K 100%   63.09kB/s    0:00:00 (xfr#151, to-chk=104/321)\n",
      ".f.....g... at9806/final_TE_annotation_merged_fam.bed\n",
      "<f..t..g... at9806/index.html\n",
      "          3.37K 100%    8.82kB/s    0:00:00 (xfr#152, to-chk=102/321)\n",
      ".d.....g... at9830/\n",
      "<f..t..g... at9830/at9830.augustus.gff3.gz\n",
      "          5.93M 100%   13.89MB/s    0:00:00 (xfr#153, to-chk=101/321)\n",
      "<f..t..g... at9830/at9830.augustus.gff3.gz.tbi\n",
      "         23.82K 100%   57.02kB/s    0:00:00 (xfr#154, to-chk=100/321)\n",
      ".f.....g... at9830/at9830.fasta\n",
      ".f.....g... at9830/at9830.fasta.fai\n",
      "<f..t..g... at9830/at9830.liftoff.protonly.gff3.gz\n",
      "          5.47M 100%   11.84MB/s    0:00:00 (xfr#155, to-chk=97/321)\n",
      "<f..t..g... at9830/at9830.liftoff.protonly.gff3.gz.tbi\n",
      "         23.73K 100%   52.54kB/s    0:00:00 (xfr#156, to-chk=96/321)\n",
      "<f..t..g... at9830/at9830.pasa.fix.gff3.gz\n",
      "          4.63M 100%    9.42MB/s    0:00:00 (xfr#157, to-chk=95/321)\n",
      "<f..t..g... at9830/at9830.pasa.fix.gff3.gz.tbi\n",
      "         21.23K 100%   44.11kB/s    0:00:00 (xfr#158, to-chk=94/321)\n",
      "<f..t..g... at9830/at9830.transdecoder.gff3.gz\n",
      "         22.01M 100%   34.76MB/s    0:00:00 (xfr#159, to-chk=93/321)\n",
      "<f..t..g... at9830/at9830.transdecoder.gff3.gz.tbi\n",
      "         28.88K 100%   46.61kB/s    0:00:00 (xfr#160, to-chk=92/321)\n",
      ".f.....g... at9830/at9830_decisions.bed\n",
      "<f.st..g... at9830/at9830_hodgepodgemerged.gff3.gz\n",
      "          8.11M 100%   10.13MB/s    0:00:00 (xfr#161, to-chk=90/321)\n",
      "<f.st..g... at9830/at9830_hodgepodgemerged.gff3.gz.tbi\n",
      "         26.98K 100%   34.49kB/s    0:00:00 (xfr#162, to-chk=89/321)\n",
      "<f.st..g... at9830/at9830_hodgepodgemerged.representatives.gff3.gz\n",
      "          5.51M 100%    6.27MB/s    0:00:00 (xfr#163, to-chk=88/321)\n",
      "<f.st..g... at9830/at9830_hodgepodgemerged.representatives.gff3.gz.tbi\n",
      "         24.29K 100%   28.31kB/s    0:00:00 (xfr#164, to-chk=87/321)\n",
      ".f.....g... at9830/final_TE_annotation_merged_fam.bed\n",
      "<f..t..g... at9830/index.html\n",
      "          3.37K 100%    3.92kB/s    0:00:00 (xfr#165, to-chk=85/321)\n",
      ".d.....g... at9847/\n",
      "<f..t..g... at9847/at9847.augustus.gff3.gz\n",
      "          5.97M 100%    6.51MB/s    0:00:00 (xfr#166, to-chk=84/321)\n",
      "<f..t..g... at9847/at9847.augustus.gff3.gz.tbi\n",
      "         23.82K 100%   26.59kB/s    0:00:00 (xfr#167, to-chk=83/321)\n",
      ".f.....g... at9847/at9847.fasta\n",
      ".f.....g... at9847/at9847.fasta.fai\n",
      "<f..t..g... at9847/at9847.liftoff.protonly.gff3.gz\n",
      "          5.47M 100%    5.73MB/s    0:00:00 (xfr#168, to-chk=80/321)\n",
      "<f..t..g... at9847/at9847.liftoff.protonly.gff3.gz.tbi\n",
      "         23.47K 100%   25.13kB/s    0:00:00 (xfr#169, to-chk=79/321)\n",
      "<f..t..g... at9847/at9847.pasa.fix.gff3.gz\n",
      "          5.41M 100%    5.41MB/s    0:00:00 (xfr#170, to-chk=78/321)\n",
      "<f..t..g... at9847/at9847.pasa.fix.gff3.gz.tbi\n",
      "         22.00K 100%   22.52kB/s    0:00:00 (xfr#171, to-chk=77/321)\n",
      "<f..t..g... at9847/at9847.transdecoder.gff3.gz\n",
      "         31.31M 100%   25.78MB/s    0:00:01 (xfr#172, to-chk=76/321)\n",
      "<f..t..g... at9847/at9847.transdecoder.gff3.gz.tbi\n",
      "         31.33K 100%  191.21kB/s    0:00:00 (xfr#173, to-chk=75/321)\n",
      ".f.....g... at9847/at9847_decisions.bed\n",
      "<f.st..g... at9847/at9847_hodgepodgemerged.gff3.gz\n",
      "          8.81M 100%   23.80MB/s    0:00:00 (xfr#174, to-chk=73/321)\n",
      "<f.st..g... at9847/at9847_hodgepodgemerged.gff3.gz.tbi\n",
      "         27.45K 100%   75.71kB/s    0:00:00 (xfr#175, to-chk=72/321)\n",
      "<f.st..g... at9847/at9847_hodgepodgemerged.representatives.gff3.gz\n",
      "          5.56M 100%   12.30MB/s    0:00:00 (xfr#176, to-chk=71/321)\n",
      "<f.st..g... at9847/at9847_hodgepodgemerged.representatives.gff3.gz.tbi\n",
      "         24.30K 100%   54.94kB/s    0:00:00 (xfr#177, to-chk=70/321)\n",
      ".f.....g... at9847/final_TE_annotation_merged_fam.bed\n",
      "<f..t..g... at9847/index.html\n",
      "          3.37K 100%    7.61kB/s    0:00:00 (xfr#178, to-chk=68/321)\n",
      ".d.....g... at9852/\n",
      "<f..t..g... at9852/at9852.augustus.gff3.gz\n",
      "          5.91M 100%   12.05MB/s    0:00:00 (xfr#179, to-chk=67/321)\n",
      "<f..t..g... at9852/at9852.augustus.gff3.gz.tbi\n",
      "         23.26K 100%   48.53kB/s    0:00:00 (xfr#180, to-chk=66/321)\n",
      ".f.....g... at9852/at9852.fasta\n",
      ".f.....g... at9852/at9852.fasta.fai\n",
      "<f..t..g... at9852/at9852.liftoff.protonly.gff3.gz\n",
      "          5.48M 100%   10.44MB/s    0:00:00 (xfr#181, to-chk=63/321)\n",
      "<f..t..g... at9852/at9852.liftoff.protonly.gff3.gz.tbi\n",
      "         23.79K 100%   46.46kB/s    0:00:00 (xfr#182, to-chk=62/321)\n",
      "<f..t..g... at9852/at9852.pasa.fix.gff3.gz\n",
      "          4.70M 100%    8.39MB/s    0:00:00 (xfr#183, to-chk=61/321)\n",
      "<f..t..g... at9852/at9852.pasa.fix.gff3.gz.tbi\n",
      "         21.63K 100%   39.48kB/s    0:00:00 (xfr#184, to-chk=60/321)\n",
      "<f..t..g... at9852/at9852.transdecoder.gff3.gz\n",
      "         23.65M 100%   32.69MB/s    0:00:00 (xfr#185, to-chk=59/321)\n",
      "<f..t..g... at9852/at9852.transdecoder.gff3.gz.tbi\n",
      "         29.33K 100%   41.39kB/s    0:00:00 (xfr#186, to-chk=58/321)\n",
      ".f.....g... at9852/at9852_decisions.bed\n",
      "<f.st..g... at9852/at9852_hodgepodgemerged.gff3.gz\n",
      "          8.20M 100%    9.23MB/s    0:00:00 (xfr#187, to-chk=56/321)\n",
      "<f.st..g... at9852/at9852_hodgepodgemerged.gff3.gz.tbi\n",
      "         26.73K 100%   30.78kB/s    0:00:00 (xfr#188, to-chk=55/321)\n",
      "<f.st..g... at9852/at9852_hodgepodgemerged.representatives.gff3.gz\n",
      "          5.49M 100%    5.63MB/s    0:00:00 (xfr#189, to-chk=54/321)\n",
      "<f..t..g... at9852/at9852_hodgepodgemerged.representatives.gff3.gz.tbi\n",
      "         23.83K 100%   25.02kB/s    0:00:00 (xfr#190, to-chk=53/321)\n",
      ".f.....g... at9852/final_TE_annotation_merged_fam.bed\n",
      "<f..t..g... at9852/index.html\n",
      "          3.37K 100%    3.53kB/s    0:00:00 (xfr#191, to-chk=51/321)\n",
      ".d.....g... at9879/\n",
      "<f..t..g... at9879/at9879.augustus.gff3.gz\n",
      "          4.06M 100%    4.04MB/s    0:00:00 (xfr#192, to-chk=50/321)\n",
      "<f..t..g... at9879/at9879.augustus.gff3.gz.tbi\n",
      "         22.72K 100%   23.14kB/s    0:00:00 (xfr#193, to-chk=49/321)\n",
      ".f.....g... at9879/at9879.fasta\n",
      ".f.....g... at9879/at9879.fasta.fai\n",
      "<f..t..g... at9879/at9879.liftoff.protonly.gff3.gz\n",
      "          5.49M 100%    5.28MB/s    0:00:00 (xfr#194, to-chk=46/321)\n",
      "<f..t..g... at9879/at9879.liftoff.protonly.gff3.gz.tbi\n",
      "         23.90K 100%   23.53kB/s    0:00:00 (xfr#195, to-chk=45/321)\n",
      "<f..t..g... at9879/at9879.pasa.fix.gff3.gz\n",
      "          4.49M 100%    4.21MB/s    0:00:01 (xfr#196, to-chk=44/321)\n",
      "<f..t..g... at9879/at9879.pasa.fix.gff3.gz.tbi\n",
      "         21.21K 100%    1.01MB/s    0:00:00 (xfr#197, to-chk=43/321)\n",
      "<f..t..g... at9879/at9879.transdecoder.gff3.gz\n",
      "         20.94M 100%  146.87MB/s    0:00:00 (xfr#198, to-chk=42/321)\n",
      "<f..t..g... at9879/at9879.transdecoder.gff3.gz.tbi\n",
      "         28.96K 100%  206.42kB/s    0:00:00 (xfr#199, to-chk=41/321)\n",
      ".f.....g... at9879/at9879_decisions.bed\n",
      "<f.st..g... at9879/at9879_hodgepodgemerged.gff3.gz\n",
      "          8.12M 100%   26.70MB/s    0:00:00 (xfr#200, to-chk=39/321)\n",
      "<f.st..g... at9879/at9879_hodgepodgemerged.gff3.gz.tbi\n",
      "         26.59K 100%   89.23kB/s    0:00:00 (xfr#201, to-chk=38/321)\n",
      "<f.st..g... at9879/at9879_hodgepodgemerged.representatives.gff3.gz\n",
      "          5.45M 100%   14.24MB/s    0:00:00 (xfr#202, to-chk=37/321)\n",
      "<f.st..g... at9879/at9879_hodgepodgemerged.representatives.gff3.gz.tbi\n",
      "         23.88K 100%   63.55kB/s    0:00:00 (xfr#203, to-chk=36/321)\n",
      ".f.....g... at9879/final_TE_annotation_merged_fam.bed\n",
      "<f..t..g... at9879/index.html\n",
      "          3.37K 100%    8.96kB/s    0:00:00 (xfr#204, to-chk=34/321)\n",
      ".d.....g... at9883/\n",
      "<f..t..g... at9883/at9883.augustus.gff3.gz\n",
      "          5.98M 100%   14.12MB/s    0:00:00 (xfr#205, to-chk=33/321)\n",
      "<f..t..g... at9883/at9883.augustus.gff3.gz.tbi\n",
      "         24.05K 100%   58.00kB/s    0:00:00 (xfr#206, to-chk=32/321)\n",
      ".f.....g... at9883/at9883.fasta\n",
      ".f.....g... at9883/at9883.fasta.fai\n",
      "<f..t..g... at9883/at9883.liftoff.protonly.gff3.gz\n",
      "          5.48M 100%   11.90MB/s    0:00:00 (xfr#207, to-chk=29/321)\n",
      "<f..t..g... at9883/at9883.liftoff.protonly.gff3.gz.tbi\n",
      "         23.93K 100%   53.11kB/s    0:00:00 (xfr#208, to-chk=28/321)\n",
      "<f..t..g... at9883/at9883.pasa.fix.gff3.gz\n",
      "          4.42M 100%    9.03MB/s    0:00:00 (xfr#209, to-chk=27/321)\n",
      "<f..t..g... at9883/at9883.pasa.fix.gff3.gz.tbi\n",
      "         21.90K 100%   45.70kB/s    0:00:00 (xfr#210, to-chk=26/321)\n",
      "<f..t..g... at9883/at9883.transdecoder.gff3.gz\n",
      "         20.26M 100%   33.02MB/s    0:00:00 (xfr#211, to-chk=25/321)\n",
      "<f..t..g... at9883/at9883.transdecoder.gff3.gz.tbi\n",
      "         29.00K 100%   48.33kB/s    0:00:00 (xfr#212, to-chk=24/321)\n",
      ".f.....g... at9883/at9883_decisions.bed\n",
      "<f.st..g... at9883/at9883_hodgepodgemerged.gff3.gz\n",
      "          8.03M 100%   10.44MB/s    0:00:00 (xfr#213, to-chk=22/321)\n",
      "<f.st..g... at9883/at9883_hodgepodgemerged.gff3.gz.tbi\n",
      "         26.94K 100%   35.84kB/s    0:00:00 (xfr#214, to-chk=21/321)\n",
      "<f.st..g... at9883/at9883_hodgepodgemerged.representatives.gff3.gz\n",
      "          5.57M 100%    6.57MB/s    0:00:00 (xfr#215, to-chk=20/321)\n",
      "<f.st..g... at9883/at9883_hodgepodgemerged.representatives.gff3.gz.tbi\n",
      "         24.37K 100%   29.42kB/s    0:00:00 (xfr#216, to-chk=19/321)\n",
      ".f.....g... at9883/final_TE_annotation_merged_fam.bed\n",
      "<f..t..g... at9883/index.html\n",
      "          3.37K 100%    4.06kB/s    0:00:00 (xfr#217, to-chk=17/321)\n",
      ".d.....g... at9900/\n",
      "<f..t..g... at9900/at9900.augustus.gff3.gz\n",
      "          5.93M 100%    6.69MB/s    0:00:00 (xfr#218, to-chk=16/321)\n",
      "<f..t..g... at9900/at9900.augustus.gff3.gz.tbi\n",
      "         23.38K 100%   26.99kB/s    0:00:00 (xfr#219, to-chk=15/321)\n",
      ".f.....g... at9900/at9900.fasta\n",
      ".f.....g... at9900/at9900.fasta.fai\n",
      "<f..t..g... at9900/at9900.liftoff.protonly.gff3.gz\n",
      "          5.48M 100%    5.93MB/s    0:00:00 (xfr#220, to-chk=12/321)\n",
      "<f..t..g... at9900/at9900.liftoff.protonly.gff3.gz.tbi\n",
      "         24.00K 100%   26.61kB/s    0:00:00 (xfr#221, to-chk=11/321)\n",
      "<f..t..g... at9900/at9900.pasa.fix.gff3.gz\n",
      "          4.98M 100%    5.21MB/s    0:00:00 (xfr#222, to-chk=10/321)\n",
      "<f..t..g... at9900/at9900.pasa.fix.gff3.gz.tbi\n",
      "         21.91K 100%   23.49kB/s    0:00:00 (xfr#223, to-chk=9/321)\n",
      "<f..t..g... at9900/at9900.transdecoder.gff3.gz\n",
      "         25.57M 100%   23.24MB/s    0:00:01 (xfr#224, to-chk=8/321)\n",
      "<f..t..g... at9900/at9900.transdecoder.gff3.gz.tbi\n",
      "         29.94K 100%  573.38kB/s    0:00:00 (xfr#225, to-chk=7/321)\n",
      ".f.....g... at9900/at9900_decisions.bed\n",
      "<f.st..g... at9900/at9900_hodgepodgemerged.gff3.gz\n",
      "          8.35M 100%   37.40MB/s    0:00:00 (xfr#226, to-chk=5/321)\n",
      "<f.st..g... at9900/at9900_hodgepodgemerged.gff3.gz.tbi\n",
      "         27.04K 100%  123.38kB/s    0:00:00 (xfr#227, to-chk=4/321)\n",
      "<f.st..g... at9900/at9900_hodgepodgemerged.representatives.gff3.gz\n",
      "          5.50M 100%   18.41MB/s    0:00:00 (xfr#228, to-chk=3/321)\n",
      "<f.st..g... at9900/at9900_hodgepodgemerged.representatives.gff3.gz.tbi\n",
      "         24.09K 100%   82.27kB/s    0:00:00 (xfr#229, to-chk=2/321)\n",
      ".f.....g... at9900/final_TE_annotation_merged_fam.bed\n",
      "<f..t..g... at9900/index.html\n",
      "          3.37K 100%   11.50kB/s    0:00:00 (xfr#230, to-chk=0/321)\n",
      "\n",
      "sent 250.10M bytes  received 1.87M bytes  24.00M bytes/sec\n",
      "total size is 4.98G  speedup is 19.77\n"
     ]
    }
   ],
   "source": [
    "! bash post-curation/sync2dviz.sh"
   ]
  },
  {
   "cell_type": "code",
   "execution_count": 37,
   "id": "71180239-a49d-4999-8310-5c8ba86985c2",
   "metadata": {
    "tags": []
   },
   "outputs": [],
   "source": [
    "! ssh root@d6dataviz chown -R root:www-data /data/www/dl20"
   ]
  },
  {
   "cell_type": "code",
   "execution_count": null,
   "id": "0f46ceb2-401b-4237-a733-21a0da9f207f",
   "metadata": {},
   "outputs": [],
   "source": []
  }
 ],
 "metadata": {
  "kernelspec": {
   "display_name": "Chimi/EBIO Python 3 (ipykernel)",
   "language": "python",
   "name": "python3"
  },
  "language_info": {
   "codemirror_mode": {
    "name": "ipython",
    "version": 3
   },
   "file_extension": ".py",
   "mimetype": "text/x-python",
   "name": "python",
   "nbconvert_exporter": "python",
   "pygments_lexer": "ipython3",
   "version": "3.12.3"
  },
  "widgets": {
   "application/vnd.jupyter.widget-state+json": {
    "state": {},
    "version_major": 2,
    "version_minor": 0
   }
  }
 },
 "nbformat": 4,
 "nbformat_minor": 5
}
