{
 "cells": [
  {
   "cell_type": "markdown",
   "id": "3a47f9d0-e98f-4526-829d-96188a7471ea",
   "metadata": {},
   "source": [
    "# split gene model into two cases:\n",
    "    \n",
    "each gene gets named gene1, gene2, could have same name in hodepodge"
   ]
  },
  {
   "cell_type": "markdown",
   "id": "89de6d31-219f-4165-97ee-a673b3a26a13",
   "metadata": {},
   "source": [
    "# Pasa multiple gene models\n",
    "\n",
    "pick model with the longest CDS, break ties with 5'-ness start "
   ]
  },
  {
   "cell_type": "markdown",
   "id": "905c6fcf-b464-407a-8a30-d967e6ec2527",
   "metadata": {},
   "source": [
    "# Protopseudogene\n",
    " \n",
    "genes with no transcripts\n",
    "\n",
    "5' augustus given gene/mrna entry of liftoff that covers it\n",
    "\n",
    "did not adjust CDS\n",
    "\n",
    "check if this is OK (should be handled by agat)"
   ]
  },
  {
   "cell_type": "markdown",
   "id": "18deb6af-25fe-48ae-bc89-a0a9beea56c7",
   "metadata": {},
   "source": [
    "# Liftoff\n",
    "\n",
    "check all liftoff entries, are they valid cds, mark as pseudogene if not"
   ]
  },
  {
   "cell_type": "markdown",
   "id": "f397fc68-7bfd-4891-b321-c8d8329f44c6",
   "metadata": {},
   "source": [
    "# Genes vs pseudogenes vs remnants \n",
    "\n",
    "wtf should we do with this"
   ]
  },
  {
   "cell_type": "code",
   "execution_count": null,
   "id": "94dae8fa-07c1-40db-9028-d86bb616b4b2",
   "metadata": {},
   "outputs": [],
   "source": []
  }
 ],
 "metadata": {
  "kernelspec": {
   "display_name": "Python 3 (ipykernel)",
   "language": "python",
   "name": "python3"
  },
  "language_info": {
   "codemirror_mode": {
    "name": "ipython",
    "version": 3
   },
   "file_extension": ".py",
   "mimetype": "text/x-python",
   "name": "python",
   "nbconvert_exporter": "python",
   "pygments_lexer": "ipython3",
   "version": "3.8.10"
  },
  "widgets": {
   "application/vnd.jupyter.widget-state+json": {
    "state": {},
    "version_major": 2,
    "version_minor": 0
   }
  }
 },
 "nbformat": 4,
 "nbformat_minor": 5
}
