{
 "cells": [
  {
   "cell_type": "markdown",
   "id": "b0f2d0ed-65e8-4d53-8702-2182b3aa07d1",
   "metadata": {},
   "source": [
    "# Step 11. Comparing final gffs"
   ]
  },
  {
   "cell_type": "code",
   "execution_count": 1,
   "id": "77ba597e-cbec-4593-ac00-c8d0e7cfdf2b",
   "metadata": {},
   "outputs": [],
   "source": [
    "conda activate dl20-orthogrouping\n",
    "# need gff2bed installed \n",
    "\n",
    "#See Luisa if you have questions"
   ]
  },
  {
   "cell_type": "markdown",
   "id": "63085a06-f036-45f2-83d3-de701f596ee7",
   "metadata": {},
   "source": [
    "Aims:\n",
    "\n",
    "- you have produced new annotations using isoseq, and you want to decide when to use this over augustus etc\n",
    "- need to take into account orthogroup membership"
   ]
  },
  {
   "cell_type": "code",
   "execution_count": 46,
   "id": "218726b9-8dfe-46a9-ba38-5951e396949a",
   "metadata": {},
   "outputs": [],
   "source": [
    "dl20=(\n",
    "at6923 at6929 at7143\n",
    "at8285 at9104 at9336 at9503\n",
    "at9578 at9744 at9762 at9806\n",
    "at9830 at9847 at9852 at9879\n",
    "at9883 at9900\n",
    ")"
   ]
  },
  {
   "cell_type": "code",
   "execution_count": 48,
   "id": "ccce9308-f26f-45bc-8f32-63d15170c165",
   "metadata": {},
   "outputs": [],
   "source": [
    "dl20=(\n",
    "at9900\n",
    ")"
   ]
  },
  {
   "cell_type": "markdown",
   "id": "658c75a6-5d2b-4f3c-9abf-6792d36751c6",
   "metadata": {},
   "source": [
    "## Comparing annotation gffs"
   ]
  },
  {
   "cell_type": "code",
   "execution_count": 3,
   "id": "696a8328-f20f-46b8-a4ae-e5c3d1a71966",
   "metadata": {},
   "outputs": [],
   "source": [
    "mkdir -p tmp/02_annotation/11_comparing_gffs/parseval"
   ]
  },
  {
   "cell_type": "code",
   "execution_count": 3,
   "id": "82a89211-00cb-4fbc-8a5f-b74a21c9702e",
   "metadata": {},
   "outputs": [],
   "source": [
    "cd tmp/02_annotation/11_comparing_gffs/parseval"
   ]
  },
  {
   "cell_type": "code",
   "execution_count": 5,
   "id": "6b4b3306-43ce-4202-b5cc-854f2ea9e9d5",
   "metadata": {},
   "outputs": [
    {
     "name": "stdout",
     "output_type": "stream",
     "text": [
      "/home/luisa/work/detlef/difflines_annex/assembly-and-annotation/tmp/02_annotation/11_comparing_gffs/parseval\n"
     ]
    }
   ],
   "source": [
    "pwd"
   ]
  },
  {
   "cell_type": "code",
   "execution_count": 11,
   "id": "6cfd77be-d3e0-41e3-ad3e-080cf208f720",
   "metadata": {},
   "outputs": [
    {
     "name": "stdout",
     "output_type": "stream",
     "text": [
      "95568\n"
     ]
    }
   ],
   "source": [
    "cat ../../../../output/01_assembly/01_pansn-named/at9900.augustus-v2.3.gff3 | awk '{if ($3==\"gene\") print}' |wc -l"
   ]
  },
  {
   "cell_type": "markdown",
   "id": "fb1c1af6-a1cf-400f-835c-c08717183ab3",
   "metadata": {},
   "source": [
    "Number of pasa updated gene-models:"
   ]
  },
  {
   "cell_type": "code",
   "execution_count": 13,
   "id": "69831a3f-9362-4d18-820b-c2046dcd54e3",
   "metadata": {},
   "outputs": [
    {
     "name": "stdout",
     "output_type": "stream",
     "text": [
      "14497\n"
     ]
    }
   ],
   "source": [
    "grep \"single gene model update\" isoseq/at9900_mydb_pasa.gene_structures_post_PASA_updates.196744.gff3 | wc -l\n",
    "grep \"single gene model update\" isoseq/at9900_mydb_pasa.gene_structures_post_PASA_updates.196744.gff3 > pasa_corrected_genemodels_it1.txt"
   ]
  },
  {
   "cell_type": "code",
   "execution_count": 15,
   "id": "9a90c66e-758c-4765-a5c0-27e4e2d43aa0",
   "metadata": {},
   "outputs": [
    {
     "name": "stdout",
     "output_type": "stream",
     "text": [
      "32498\n"
     ]
    }
   ],
   "source": [
    "cat liftoff_polished/at9900.scaffolds-v2.3_liftoff_polished.gff3_polished | awk '{if ($3==\"gene\") print}' |wc -l"
   ]
  },
  {
   "cell_type": "code",
   "execution_count": 72,
   "id": "cb45f5d2-505c-4e96-838b-03305fd4e2c7",
   "metadata": {},
   "outputs": [],
   "source": [
    "#grep \"gene\" ../../../../output/01_assembly/01_pansn-named/at9900.augustus-v2.3.gff3 > at9900.scaffolds-v2.3_liftoff_polished_just_genes.gff3\n",
    "#gff2bed < at9900.scaffolds-v2.3_liftoff_polished_just_genes.gff3 > at9900.scaffolds-v2.3_liftoff_polished_just_genes.bed\n",
    "\n",
    "bedtools intersect -f 0.4 -F 0.4 -v -a at9900.scaffolds-v2.3_liftoff_polished_just_genes.bed -b liftoff_polished/at9900.scaffolds-v2.3_liftoff_polished.gff3_polished.gff3 > original_augustus_genes_with_no_tair10_liftoff_f.txt"
   ]
  },
  {
   "cell_type": "code",
   "execution_count": 12,
   "id": "1fb954a1-8649-429d-8ceb-ee2c29831591",
   "metadata": {},
   "outputs": [
    {
     "name": "stdout",
     "output_type": "stream",
     "text": [
      "6625\n"
     ]
    }
   ],
   "source": [
    "cat original_augustus_genes_with_no_tair10_liftoff.txt |wc -l"
   ]
  },
  {
   "cell_type": "code",
   "execution_count": 25,
   "id": "517662f9-3571-4cd2-b444-25c7e8a21425",
   "metadata": {},
   "outputs": [],
   "source": [
    "for sample in $(cat at9900_augustus_gene_ids.txt)\n",
    "do\n",
    "    grep ${sample} Orthogroups.txt >> at9900_orthologs.csv\n",
    "done"
   ]
  },
  {
   "cell_type": "code",
   "execution_count": 26,
   "id": "88914ed6-bbfc-4549-a857-a615119231bd",
   "metadata": {},
   "outputs": [],
   "source": [
    "cat at9900_orthologs.csv | cut -d: -f1 > at9900_ortholog_ids.txt"
   ]
  },
  {
   "cell_type": "code",
   "execution_count": 29,
   "id": "5c44bcfa-f5af-4378-b99b-6a3fbd34f7e2",
   "metadata": {},
   "outputs": [
    {
     "name": "stdout",
     "output_type": "stream",
     "text": [
      "OG0004396: Araport_AT1G01010.1 arenosa_g104.t1 at6137_g1.t1 at6923_g1.t1 at6929_g1.t1 at7143_g1.t1 at8285_g1.t1 at9104_g1.t1 at9336_g1.t1 at9503_g1.t1 at9578_g1.t1 at9744_g2.t1 at9762_g1.t1 at9806_g1.t1 at9830_g1.t1 at9847_g1.t1 at9852_g1.t1 at9879_g1.t1 at9883_g1.t1 at9900_g1.t1\n",
      "OG0004397: Araport_AT1G01020.1 arenosa_g103.t1 at6137_g2.t1 at6923_g2.t1 at6929_g2.t1 at7143_g2.t1 at8285_g2.t1 at9104_g2.t1 at9336_g2.t1 at9503_g2.t1 at9578_g2.t1 at9744_g3.t1 at9762_g2.t1 at9806_g2.t1 at9830_g2.t1 at9847_g2.t1 at9852_g2.t1 at9879_g2.t1 at9883_g2.t1 at9900_g2.t1\n",
      "OG0004398: Araport_AT1G01030.1 arenosa_g102.t1 at6137_g3.t1 at6923_g3.t1 at6929_g3.t1 at7143_g3.t1 at8285_g3.t1 at9104_g3.t1 at9336_g3.t1 at9503_g3.t1 at9578_g3.t1 at9744_g4.t1 at9762_g3.t1 at9806_g3.t1 at9830_g3.t1 at9847_g3.t1 at9852_g3.t1 at9879_g3.t1 at9883_g3.t1 at9900_g3.t1\n",
      "OG0004399: Araport_AT1G01040.1 arenosa_g101.t1 at6137_g4.t1 at6923_g4.t1 at6929_g4.t1 at7143_g4.t1 at8285_g4.t1 at9104_g4.t1 at9336_g4.t1 at9503_g4.t1 at9578_g4.t1 at9744_g5.t1 at9762_g4.t1 at9806_g4.t1 at9830_g4.t1 at9847_g4.t1 at9852_g4.t1 at9879_g4.t1 at9883_g4.t1 at9900_g4.t1\n",
      "OG0004400: Araport_AT1G01050.1 arenosa_g100.t1 at6137_g5.t1 at6923_g5.t1 at6929_g5.t1 at7143_g5.t1 at8285_g5.t1 at9104_g5.t1 at9336_g5.t1 at9503_g5.t1 at9578_g5.t1 at9744_g6.t1 at9762_g5.t1 at9806_g5.t1 at9830_g5.t1 at9847_g5.t1 at9852_g5.t1 at9879_g5.t1 at9883_g5.t1 at9900_g5.t1\n",
      "OG0004401: Araport_AT1G01060.1 arenosa_g99.t3 at6137_g6.t1 at6923_g6.t1 at6929_g6.t1 at7143_g6.t1 at8285_g6.t1 at9104_g6.t1 at9336_g6.t1 at9503_g6.t1 at9578_g6.t1 at9744_g7.t1 at9762_g6.t1 at9806_g6.t1 at9830_g6.t1 at9847_g6.t1 at9852_g6.t1 at9879_g6.t1 at9883_g6.t1 at9900_g6.t1\n",
      "OG0019538: Araport_AT1G01070.1 at6137_g7.t1 at6923_g7.t1 at6929_g7.t1 at7143_g7.t1 at8285_g7.t1 at9104_g7.t1 at9336_g7.t1 at9503_g7.t1 at9578_g7.t1 at9744_g8.t1 at9762_g7.t1 at9806_g7.t1 at9830_g7.t1 at9847_g7.t1 at9852_g7.t1 at9879_g7.t1 at9883_g7.t1 at9900_g7.t1\n",
      "OG0004402: Araport_AT1G01080.1 arenosa_g98.t1 at6137_g9.t1 at6923_g8.t1 at6929_g8.t1 at7143_g8.t1 at8285_g8.t1 at9104_g8.t1 at9336_g8.t1 at9503_g8.t1 at9578_g8.t1 at9744_g9.t1 at9762_g8.t1 at9806_g8.t1 at9830_g8.t1 at9847_g8.t1 at9852_g8.t1 at9879_g8.t1 at9883_g8.t1 at9900_g8.t1\n",
      "OG0004403: Araport_AT1G01090.1 arenosa_g97.t1 at6137_g10.t1 at6923_g9.t1 at6929_g9.t1 at7143_g9.t1 at8285_g9.t1 at9104_g9.t1 at9336_g9.t1 at9503_g9.t1 at9578_g9.t1 at9744_g10.t1 at9762_g9.t1 at9806_g9.t1 at9830_g9.t1 at9847_g9.t1 at9852_g9.t1 at9879_g9.t1 at9883_g9.t1 at9900_g9.t1\n",
      "OG0000581: Araport_AT1G01100.1 Araport_AT4G00810.1 Araport_AT5G47700.1 arenosa_g20245.t1 arenosa_g96.t1 at6137_g11.t1 at6137_g19648.t1 at6137_g29920.t1 at6923_g10.t1 at6923_g20003.t1 at6923_g30114.t1 at6929_g10.t1 at6929_g29673.t1 at7143_g10.t1 at7143_g19745.t1 at7143_g30045.t1 at8285_g20032.t1 at8285_g30250.t1 at9104_g10.t1 at9104_g19973.t1 at9104_g29983.t1 at9336_g10.t1 at9336_g30158.t1 at9503_g10.t1 at9503_g19706.t1 at9503_g29888.t1 at9578_g19850.t1 at9578_g29966.t1 at9744_g11.t1 at9744_g20057.t1 at9744_g30327.t1 at9762_g20020.t1 at9762_g30160.t1 at9806_g10.t1 at9806_g19611.t1 at9806_g29499.t1 at9830_g10.t1 at9830_g19959.t1 at9830_g29795.t1 at9847_g10.t1 at9847_g19836.t1 at9847_g30068.t1 at9852_g10.t1 at9852_g19549.t1 at9852_g29585.t1 at9879_g20211.t1 at9879_g30563.t1 at9883_g10.t1 at9883_g20032.t1 at9883_g30198.t1 at9900_g10.t1 at9900_g19739.t1 at9900_g29715.t1\n"
     ]
    }
   ],
   "source": [
    "head at9900_orthologs.csv"
   ]
  },
  {
   "cell_type": "code",
   "execution_count": 4,
   "id": "65e6a37f-3586-4075-8cac-a1a9d462854d",
   "metadata": {},
   "outputs": [
    {
     "name": "stdout",
     "output_type": "stream",
     "text": [
      "gffcompare v0.12.6\n",
      "-----------------------------\n",
      "Usage:\n",
      "gffcompare [-r <reference_mrna.gtf> [-R]] [-T] [-V] [-s <seq_path>]\n",
      "    [-o <outprefix>] [-p <cprefix>] \n",
      "    {-i <input_gtf_list> | <input1.gtf> [<input2.gtf> .. <inputN.gtf>]}\n",
      "\n",
      " GffCompare provides classification and reference annotation mapping and\n",
      " matching statistics for RNA-Seq assemblies (transfrags) or other generic\n",
      " GFF/GTF files.\n",
      " GffCompare also clusters and tracks transcripts across multiple GFF/GTF\n",
      " files (samples), writing matching transcripts (identical intron chains) into\n",
      " <outprefix>.tracking, and a GTF file <outprefix>.combined.gtf which \n",
      " contains a nonredundant set of transcripts across all input files (with\n",
      " a single representative transfrag chosen for each clique of matching transfrags\n",
      " across samples).\n",
      "\n",
      " Options:\n",
      " -v display gffcompare version (also --version)\n",
      " -i provide a text file with a list of (query) GTF files to process instead\n",
      "    of expecting them as command line arguments (useful when a large number\n",
      "    of GTF files should be processed)\n",
      "\n",
      " -r reference annotation file (GTF/GFF)\n",
      " -R for -r option, consider only the reference transcripts that\n",
      "    overlap any of the input transfrags (Sn correction)\n",
      " -Q for -r option, consider only the input transcripts that\n",
      "    overlap any of the reference transcripts (Precision correction);\n",
      "    (Warning: this will discard all \"novel\" loci!)\n",
      " -M discard (ignore) single-exon transfrags and reference transcripts\n",
      " -N discard (ignore) single-exon reference transcripts\n",
      " -D discard \"duplicate\" query transfrags (i.e. same intron chain) within\n",
      "    a single sample (disable \"annotation\" mode for a single file); \n",
      "    this option is automatically enabled when multiple query files are provided\n",
      " -S when -D is enabled (or multiple query files are provided), perform a more \n",
      "    strict duplicate checking: only discard matching (same intron chain) query \n",
      "    transcripts from the same sample if their boundaries are fully contained \n",
      "    within (or same with) matching transcripts\n",
      "    if --strict-match is also given, exact match of all exons is required\n",
      " --no-merge : disable close-exon merging (default: merge exons separated by\n",
      "   \"introns\" shorter than 5 bases\n",
      "\n",
      " -s path to genome sequences (optional); this can be either a multi-FASTA\n",
      "    file or a directory containing single-fasta files (one for each contig);\n",
      "    repeats must be soft-masked (lower case) in order to be able to classify\n",
      "    transfrags as repeats\n",
      "\n",
      " -e when estimating exon level accuracy, this is the maximum range\n",
      "    variation allowed for the free ends of terminal exons (default 100);\n",
      "\tthis terminal exon restriction  applies to transcript level accuracy\n",
      "\twhen --strict-match option is given\n",
      " --strict-match : transcript matching takes into account the -e range\n",
      "    for terminal exons; code '=' is only assigned if transcript ends are\n",
      "    within that range, otherwise code '~' is assigned just for intron chain\n",
      "    match (or significant overlap in the case of single exon transcripts)\n",
      "\n",
      " -d max. distance (range) for grouping transcript start sites (100)\n",
      " -V verbose processing mode (also shows GFF parser warnings)\n",
      " -T do not generate .tmap and .refmap files for each input file\n",
      " --chr-stats: the .stats file will show summary and accuracy data\n",
      "   per reference contig/chromosome\n",
      " -j <output.tab> if -r was given, writes novel junctions in this file\n",
      " --debug : enables -V and generates additional files: \n",
      "    <outprefix>.Q_discarded.lst, <outprefix>.missed_introns.gff,\n",
      "    <outprefix>.R_missed.lst\n",
      "\n",
      "Options for the combined GTF output file:\n",
      " -p the name prefix to use for consensus transcripts in the \n",
      "    <outprefix>.combined.gtf file (default: 'TCONS')\n",
      " -C discard matching and \"contained\" transfrags in the GTF output\n",
      "    (i.e. collapse intron-redundant transfrags across all query files)\n",
      " -A like -C but does not discard intron-redundant transfrags if they start\n",
      "    with a different 5' exon (keep alternate TSS)\n",
      " -X like -C but also discard contained transfrags if transfrag ends stick out\n",
      "    within the container's introns\n",
      " -K for -C/-A/-X, do NOT discard any redundant transfrag matching a reference\n",
      "\n"
     ]
    }
   ],
   "source": [
    "../../../../software/gffcompare/gffcompare/gffcompare -h"
   ]
  },
  {
   "cell_type": "markdown",
   "id": "86f606ce-4d99-42b5-9656-8126f39a9a6d",
   "metadata": {},
   "source": [
    "First we want to know how many of the genes have identical cds in augustus, liftoff"
   ]
  },
  {
   "cell_type": "code",
   "execution_count": 96,
   "id": "5d99f741-d77c-4789-98f9-d94821e4bf4a",
   "metadata": {},
   "outputs": [],
   "source": [
    "blsl liftoff-gff3 at9900.scaffolds-v2.3_liftoff_polished.gff3_polished_sans_weird_genes5.gff3 > at9900.scaffolds-v2.3_liftoff_polished.gff3_polished_fixed.gff3"
   ]
  },
  {
   "cell_type": "code",
   "execution_count": null,
   "id": "e7b5f568-2719-4ed0-8507-7d72e27f7b3b",
   "metadata": {},
   "outputs": [],
   "source": [
    "for accession in \"${dl20[@]}\"\n",
    "do\n",
    "\n",
    "#sed 's/transcript/mRNA/g' output/02_annotation/03_augustus-reannotation/${accession}~reduced-te-masked/02_augustus/${accession}~reduced-te-masked_augustus_spp-arabidopsis.idfix.gff3 > tmp/02_annotation/06_orthogrouping/parseval_test/augustus_reduced_te_masked_${accession}_test.gff\n",
    "#sed 's/transcript/mRNA/g' output/02_annotation/01_original-annotation-merged/${accession}.augustus-v2.3.gff3 > tmp/02_annotation/06_orthogrouping/parseval_test/augustus_${accession}_test.gff\n",
    "#grep -v \"intron\" tmp/02_annotation/06_orthogrouping/parseval_test/augustus_reduced_te_masked_${accession}_test.gff > tmp/02_annotation/06_orthogrouping/parseval_test/augustus_reduced_te_${accession}_test_nointrons.gff\n",
    "parseval -f html -p --summary -w -o parseval_test1_re_te_${accession} ../../../../output/01_assembly/01_pansn-named/${accession}.augustus-v2.3.gff3 at9900.scaffolds-v2.3_liftoff_polished.gff3_polished_sans_weird_genes5.gff3\n",
    "\n",
    "done\n",
    "\n",
    "#parseval -f html -p --summary -w -o parseval_test1_re_te_at9900 ../../../../output/01_assembly/01_pansn-named/at9900.augustus-v2.3.gff3 at9900.scaffolds-v2.3_liftoff_polished.gff3_polished_sans_weird_genes5.gff3\n",
    "\n"
   ]
  },
  {
   "cell_type": "code",
   "execution_count": 15,
   "id": "7f32050f-e9c1-48f8-b28f-a8270d1fa4b7",
   "metadata": {
    "tags": []
   },
   "outputs": [
    {
     "ename": "",
     "evalue": "1",
     "output_type": "error",
     "traceback": []
    }
   ],
   "source": [
    "grep \"CDS segments structures match perfectly\" parseval_test1_re_te_at9900/at9900_9_u178/* >> perfect_cds_matches_by_liftoff_ids.txt"
   ]
  },
  {
   "cell_type": "code",
   "execution_count": 25,
   "id": "efa24c6b-a429-4e7c-852d-68e74ac0cedf",
   "metadata": {
    "tags": []
   },
   "outputs": [],
   "source": [
    "grep -P \"AUGUSTUS\\tmRNA\" parseval_test1_re_te_at9900/at9900_9_u177/* >> genes_with_cds_hits_.txt"
   ]
  },
  {
   "cell_type": "code",
   "execution_count": 20,
   "id": "7d8b4be3-4e62-4b28-8883-fe15f5632a9d",
   "metadata": {},
   "outputs": [
    {
     "name": "stdout",
     "output_type": "stream",
     "text": [
      "parseval_test1_re_te_at9900/at9900_1_chr1/10010277-10012452.html:at9900_1_chr1\tAUGUSTUS\tmRNA\t10010529\t10012131\t0.96\t+\t.\tID=g2797.t1\n",
      "parseval_test1_re_te_at9900/at9900_1_chr1/10012463-10014072.html:at9900_1_chr1\tAUGUSTUS\tmRNA\t10012556\t10013840\t0.93\t+\t.\tID=g2798.t1\n",
      "parseval_test1_re_te_at9900/at9900_1_chr1/10016187-10017498.html:at9900_1_chr1\tAUGUSTUS\tmRNA\t10016187\t10017322\t0.89\t-\t.\tID=g2799.t1\n",
      "parseval_test1_re_te_at9900/at9900_1_chr1/10021108-10022764.html:at9900_1_chr1\tAUGUSTUS\tmRNA\t10021415\t10022670\t0.57\t-\t.\tID=g2800.t1\n",
      "parseval_test1_re_te_at9900/at9900_1_chr1/10027045-10028257.html:at9900_1_chr1\tAUGUSTUS\tmRNA\t10027304\t10027947\t0.89\t+\t.\tID=g2801.t1\n",
      "parseval_test1_re_te_at9900/at9900_1_chr1/10030022-10031412.html:at9900_1_chr1\tAUGUSTUS\tmRNA\t10030022\t10030549\t0.71\t+\t.\tID=g2802.t1\n",
      "parseval_test1_re_te_at9900/at9900_1_chr1/10030022-10031412.html:at9900_1_chr1\tAUGUSTUS\tmRNA\t10030816\t10031412\t0.7\t+\t.\tID=g2803.t1\n",
      "parseval_test1_re_te_at9900/at9900_1_chr1/10032500-10036862.html:at9900_1_chr1\tAUGUSTUS\tmRNA\t10032819\t10036484\t0.86\t+\t.\tID=g2804.t1\n",
      "parseval_test1_re_te_at9900/at9900_1_chr1/10037242-10038566.html:at9900_1_chr1\tAUGUSTUS\tmRNA\t10037370\t10038152\t0.99\t+\t.\tID=g2805.t1\n",
      "parseval_test1_re_te_at9900/at9900_1_chr1/10038643-10041149.html:at9900_1_chr1\tAUGUSTUS\tmRNA\t10039581\t10040840\t1\t+\t.\tID=g2806.t1\n"
     ]
    }
   ],
   "source": [
    "head genes_with_cds_hits_.txt"
   ]
  },
  {
   "cell_type": "code",
   "execution_count": 108,
   "id": "4a0182f6-e4dc-4f0d-b55e-58f1d2b1f702",
   "metadata": {},
   "outputs": [
    {
     "name": "stdout",
     "output_type": "stream",
     "text": [
      "at9900_1_chr1\tLiftoff\texon\t19722237\t19724864\t.\t-\t.\tID=AT1G44125:exon:13;Parent=AT1G44125.1,AT1G44125.2,AT1G44125.3,AT1G44125.4,AT1G44125.5,AT1G44125.6;Name=AT1G44125:exon:13;extra_copy_number=0\n"
     ]
    }
   ],
   "source": [
    "head -90143 at9900.scaffolds-v2.3_liftoff_polished.gff3_polished_sans_weird_genes5_sed.gff3 | tail +90143"
   ]
  },
  {
   "cell_type": "code",
   "execution_count": 6,
   "id": "96bf4fa3-a838-418d-973e-c055c6d11a0f",
   "metadata": {},
   "outputs": [
    {
     "name": "stdout",
     "output_type": "stream",
     "text": [
      "/home/luisa/work/detlef/difflines_annex/assembly-and-annotation/tmp/02_annotation/11_comparing_gffs/parseval\n"
     ]
    }
   ],
   "source": [
    "pwd"
   ]
  },
  {
   "cell_type": "code",
   "execution_count": null,
   "id": "fc1558d9-fc12-42e1-865b-bdac367d0e73",
   "metadata": {},
   "outputs": [],
   "source": []
  },
  {
   "cell_type": "code",
   "execution_count": 82,
   "id": "438198d2-bca2-4a57-894f-12d0d7daaec9",
   "metadata": {},
   "outputs": [
    {
     "name": "stdout",
     "output_type": "stream",
     "text": [
      "at9900_9_u177\tLiftoff\ttRNA\t16146\t16220\t.\t+\t.\tID=ATMG01330.1;Parent=ATMG01330;Name=ATMG01330.1;id2=id-trnY(GTA)-2;parent2=gene-trnY(GTA)-2;Note=One of two non-identical trnY(GTA) copies (coords 98660..98586);gbkey=tRNA;gene=trnY(GTA)-2;product=tRNA-Tyr;extra_copy_number=0\n"
     ]
    }
   ],
   "source": [
    "head -646158 at9900.scaffolds-v2.3_liftoff_polished.gff3_polished_sans_weird_genes3.gff3 | tail +646158"
   ]
  },
  {
   "cell_type": "code",
   "execution_count": 5,
   "id": "85b7a856-5a3b-435f-b645-b20f88d5fec5",
   "metadata": {},
   "outputs": [
    {
     "name": "stdout",
     "output_type": "stream",
     "text": [
      "at9900_1_chr2\tLiftoff\tgene\t13291104\t13291370\t.\t+\t.\tID=AT5G42530;Name=AT5G42530;Note=hypothetical protein;computational_description=unknown protein%3B FUNCTIONS IN: molecular_function unknown%3B INVOLVED IN: biological_process unknown%3B LOCATED IN: endomembrane system%3B BEST Arabidopsis thaliana protein match is: unknown protein (TAIR:\u001b[01;31m\u001b[KAT2G25510.2\u001b[m\u001b[K)%3B Has 30201 Blast hits to 17322 proteins in 780 species: Archae - 12%3B Bacteria - 1396%3B Metazoa - 17338%3B Fungi - 3422%3B Plants - 5037%3B Viruses - 0%3B Other Eukaryotes - 2996 (source: NCBI BLink).;Dbxref=PMID:12376638,PMID:12509532,PMID:12509522,PMID:14535883,PMID:18684332,PMID:18783601,locus:2162306;locus_type=protein_coding;coverage=0.438;sequence_ID=0.399;valid_ORFs=0;extra_copy_number=0;copy_num_ID=AT5G42530_0;partial_mapping=True;low_identity=True\n",
      "at9900_1_chr2\tLiftoff\tmRNA\t13291104\t13291370\t.\t+\t.\tID=AT5G42530.1;Parent=AT5G42530;Name=AT5G42530.1;Note=hypothetical protein;conf_class=2;computational_description=unknown protein%3B FUNCTIONS IN: molecular_function unknown%3B INVOLVED IN: biological_process unknown%3B LOCATED IN: endomembrane system%3B BEST Arabidopsis thaliana protein match is: unknown protein (TAIR:\u001b[01;31m\u001b[KAT2G25510.2\u001b[m\u001b[K)%3B Has 30201 Blast hits to 17322 proteins in 780 species: Archae - 12%3B Bacteria - 1396%3B Metazoa - 17338%3B Fungi - 3422%3B Plants - 5037%3B Viruses - 0%3B Other Eukaryotes - 2996 (source: NCBI BLink).;conf_rating=****;Dbxref=PMID:18467450,gene:2162305,UniProt:Q8W483;matches_ref_protein=False;valid_ORF=False;missing_stop_codon=True;extra_copy_number=0\n",
      "at9900_1_chr2\tLiftoff\tmRNA\t13296279\t13296640\t.\t+\t.\tID=\u001b[01;31m\u001b[KAT2G25510.2\u001b[m\u001b[K;Parent=AT2G25510;Name=\u001b[01;31m\u001b[KAT2G25510.2\u001b[m\u001b[K;Note=transmembrane protein;conf_class=2;computational_description=unknown protein%3B FUNCTIONS IN: molecular_function unknown%3B INVOLVED IN: biological_process unknown%3B LOCATED IN: endomembrane system%3B EXPRESSED IN: 22 plant structures%3B EXPRESSED DURING: 13 growth stages%3B BEST Arabidopsis thaliana protein match is: unknown protein (TAIR:AT5G42530.1).;conf_rating=****;Dbxref=gene:6530296747,UniProt:F4ISJ6;matches_ref_protein=False;valid_ORF=False;missing_start_codon=True;extra_copy_number=0\n",
      "at9900_1_chr2\tLiftoff\texon\t13296279\t13296315\t.\t+\t.\tID=AT2G25510:exon:2;Parent=\u001b[01;31m\u001b[KAT2G25510.2\u001b[m\u001b[K;Name=AT2G25510:exon:2;extra_copy_number=0\n",
      "at9900_1_chr2\tLiftoff\texon\t13296315\t13296640\t.\t+\t.\tID=AT2G25510:exon:4;Parent=\u001b[01;31m\u001b[KAT2G25510.2\u001b[m\u001b[K;Name=AT2G25510:exon:4;extra_copy_number=0\n",
      "at9900_1_chr2\tLiftoff\tCDS\t13296315\t13296517\t.\t+\t.\tID=AT2G25510:CDS:2;Parent=\u001b[01;31m\u001b[KAT2G25510.2\u001b[m\u001b[K;Name=AT2G25510:CDS:2;extra_copy_number=0\n",
      "at9900_1_chr2\tLiftoff\tfive_prime_UTR\t13296279\t13296315\t.\t+\t.\tID=AT2G25510:five_prime_UTR:2;Parent=\u001b[01;31m\u001b[KAT2G25510.2\u001b[m\u001b[K;Name=AT2G25510:five_prime_UTR:2;extra_copy_number=0\n",
      "at9900_1_chr2\tLiftoff\tthree_prime_UTR\t13296518\t13296640\t.\t+\t.\tID=AT2G25510:three_prime_UTR:1;Parent=\u001b[01;31m\u001b[KAT2G25510.2\u001b[m\u001b[K;Name=AT2G25510:three_prime_UTR:1;extra_copy_number=0\n"
     ]
    }
   ],
   "source": [
    "grep  \"AT2G25510.2\" at9900.scaffolds-v2.3_liftoff_polished.gff3_polished_sans_weird_genes5.gff3"
   ]
  },
  {
   "cell_type": "code",
   "execution_count": 105,
   "id": "26a7e288-ec1b-4728-aa34-21878759037b",
   "metadata": {},
   "outputs": [],
   "source": [
    "sed -i 's/,AT1G25175.3,AT1G25175.4//g' at9900.scaffolds-v2.3_liftoff_polished.gff3_polished_sans_weird_genes5_sed.gff3"
   ]
  },
  {
   "cell_type": "code",
   "execution_count": 99,
   "id": "414791cc-6b86-4614-9b3e-f47483dac7cb",
   "metadata": {},
   "outputs": [],
   "source": [
    "cp at9900.scaffolds-v2.3_liftoff_polished.gff3_polished_sans_weird_genes5.gff3 at9900.scaffolds-v2.3_liftoff_polished.gff3_polished_sans_weird_genes5_sed.gff3"
   ]
  },
  {
   "cell_type": "code",
   "execution_count": 90,
   "id": "7c0257c2-9464-4172-a22d-4d9e4cb82b26",
   "metadata": {},
   "outputs": [],
   "source": [
    "head -n 646340 at9900.scaffolds-v2.3_liftoff_polished.gff3_polished_sans_weird_genes4.gff3 > at9900.scaffolds-v2.3_liftoff_polished.gff3_polished_sans_weird_genes5.gff3"
   ]
  },
  {
   "cell_type": "code",
   "execution_count": 86,
   "id": "006ee5de-3b59-4091-beee-b02621e6ffde",
   "metadata": {},
   "outputs": [],
   "source": [
    "tail -n 973 at9900.scaffolds-v2.3_liftoff_polished.gff3_polished_sans_weird_genes3.gff3 > at9900.scaffolds-v2.3_liftoff_polished.gff3_polished_22.gff3"
   ]
  },
  {
   "cell_type": "code",
   "execution_count": 87,
   "id": "6c5628b7-b1b7-4252-b758-80fd81b84698",
   "metadata": {},
   "outputs": [],
   "source": [
    "cat at9900.scaffolds-v2.3_liftoff_polished.gff3_polished_12.gff3 at9900.scaffolds-v2.3_liftoff_polished.gff3_polished_22.gff3 > at9900.scaffolds-v2.3_liftoff_polished.gff3_polished_sans_weird_genes4.gff3"
   ]
  },
  {
   "cell_type": "code",
   "execution_count": 84,
   "id": "79123f4f-33fd-4eac-a4b5-b096aefd113c",
   "metadata": {},
   "outputs": [
    {
     "name": "stdout",
     "output_type": "stream",
     "text": [
      "647132\n"
     ]
    }
   ],
   "source": [
    "cat at9900.scaffolds-v2.3_liftoff_polished.gff3_polished_sans_weird_genes3.gff3 | wc -l"
   ]
  },
  {
   "cell_type": "code",
   "execution_count": 27,
   "id": "4bb163ef-856d-4c39-9ef1-a2c1e705aba9",
   "metadata": {},
   "outputs": [
    {
     "name": "stdout",
     "output_type": "stream",
     "text": [
      "at9900_9_u178\tLiftoff\tfive_prime_UTR\t98323\t98546\t.\t-\t.\tID=AT3G47810:five_prime_UTR:1;Parent=AT3G47810.3;Name=MAG1:five_prime_UTR:1;extra_copy_number=0\n",
      "at9900_9_u178\tLiftoff\tgene\t97041\t97738\t.\t+\t.\tID=AT3G07825;description=Natural antisense transcript overlaps with AT3G47810;Note=Natural antisense transcript overlaps with AT3G47810;locus_type=antisense_long_noncoding_rna;Name=AT3G07825;coverage=0.997;sequence_ID=0.972;extra_copy_number=0;copy_num_ID=AT3G07825_0\n",
      "at9900_9_u178\tLiftoff\tantisense_lncRNA\t97041\t97738\t.\t+\t.\tID=AT3G07825.1;Parent=AT3G07825;Name=AT3G07825.1;extra_copy_number=0\n",
      "at9900_9_u178\tLiftoff\texon\t97041\t97738\t.\t+\t.\tID=AT3G07825:exon:1;Parent=AT3G07825.1;Name=AT3G07825:exon:1;extra_copy_number=0\n",
      "at9900_9_u26\tLiftoff\tgene\t44915\t45973\t.\t-\t.\tID=ATCG00270;Note=photosystem II reaction center protein D;Name=ATCG00270;curator_summary=PSII D2 protein;symbol=PSBD;full_name=photosystem II reaction center protein D;computational_description=photosystem II reaction center protein D (PSBD)%3B FUNCTIONS IN: electron transporter%2C transferring electrons within the noncyclic electron transport pathway of photosynthesis activity%3B INVOLVED IN: photosynthetic electron transport in photosystem II%2C photosynthesis%2C light harvesting in photosystem II%3B LOCATED IN: in 6 components%3B EXPRESSED IN: 24 plant structures%3B EXPRESSED DURING: 13 growth stages%3B CONTAINS InterPro DOMAIN/s: Photosynthetic reaction centre%2C L/M (InterPro:IPR000484)%2C Photosystem II reaction centre protein PsbD/D2 (InterPro:IPR005868)%3B BEST Arabidopsis thaliana protein match is: photosystem II reaction center protein A (TAIR:ATCG00020.1).;Dbxref=PMID:10467011,PMID:9681024,PMID:9306699,PMID:8768377,PMID:11752385,PMID:11161017,PMID:11959137,PMID:12650626,PMID:15322131,PMID:16461379,PMID:17435084,PMID:18532976,PMID:18650403,locus:504954651;locus_type=protein_coding;coverage=0.996;sequence_ID=0.797;valid_ORFs=1;extra_copy_number=0;copy_num_ID=ATCG00270_0\n",
      "at9900_9_u26\tLiftoff\tmRNA\t44915\t45973\t.\t-\t.\tID=ATCG00270.1;Parent=ATCG00270;Name=ATCG00270.1;index=1;Note=photosystem II reaction center protein D;curator_summary=PSII D2 protein;conf_class=1;symbol=PSBD;full_name=photosystem II reaction center protein D;computational_description=photosystem II reaction center protein D (PSBD)%3B FUNCTIONS IN: electron transporter%2C transferring electrons within the noncyclic electron transport pathway of photosynthesis activity%3B INVOLVED IN: photosynthetic electron transport in photosystem II%2C photosynthesis%2C light harvesting in photosystem II%3B LOCATED IN: in 6 components%3B EXPRESSED IN: 24 plant structures%3B EXPRESSED DURING: 13 growth stages%3B CONTAINS InterPro DOMAIN/s: Photosynthetic reaction centre%2C L/M (InterPro:IPR000484)%2C Photosystem II reaction centre protein PsbD/D2 (InterPro:IPR005868)%3B BEST Arabidopsis thaliana protein match is: photosystem II reaction center protein A (TAIR:ATCG00020.1).;conf_rating=*****;Dbxref=PMID:14729914,PMID:15322131,PMID:16461379,PMID:17432890,PMID:18431481,PMID:18532976,PMID:18633119,gene:1009022903;matches_ref_protein=False;valid_ORF=True;extra_copy_number=0\n",
      "at9900_9_u26\tLiftoff\texon\t44915\t45973\t.\t-\t.\tID=ATCG00270:exon:1;Parent=ATCG00270.1;Name=PSBD:exon:1;extra_copy_number=0\n",
      "at9900_9_u26\tLiftoff\tCDS\t44915\t45973\t.\t-\t.\tID=ATCG00270:CDS:1;Parent=ATCG00270.1;Name=PSBD:CDS:1;extra_copy_number=0\n",
      "at9900_9_u26\tLiftoff\tgene\t62098\t63608\t.\t+\t.\tID=ATCG00920;Note=rRNA;Name=ATCG00920;curator_summary=chloroplast-encoded 16S ribosomal RNA;locus_type=ribosomal_rna;symbol=RRN16S.1;full_name=ribosomal RNA16S;Dbxref=PMID:18667093,locus:504954715,PMID:18667093,locus:504954715;coverage=0.975;sequence_ID=0.793;extra_copy_number=0;copy_num_ID=ATCG00920_0\n",
      "at9900_9_u26\tLiftoff\trRNA\t62098\t63608\t.\t+\t.\tID=ATCG00920.1;Parent=ATCG00920;Name=ATCG00920.1;index=1;Note=unknown protein;curator_summary=chloroplast-encoded 16S ribosomal RNA;symbol=RRN16S.1;full_name=ribosomal RNA16S;Dbxref=gene:1009022934,gene:1009022934;extra_copy_number=0\n",
      "at9900_9_u26\tLiftoff\texon\t62098\t63608\t.\t+\t.\tID=ATCG00920:exon:1;Parent=ATCG00920.1;Name=RRN16S.1:exon:1;extra_copy_number=0\n",
      "at9900_9_u26\tLiftoff\tgene\t62590\t63155\t.\t-\t.\tID=ATMG00640;id2=gene-atp4;Name=atp4;gbkey=Gene;gene=atp4;gene_biotype=protein_coding;coverage=0.924;sequence_ID=0.7;matches_ref_protein=False;valid_ORF=False;missing_start_codon=True;valid_ORFs=0;extra_copy_number=0;copy_num_ID=ATMG00640_0\n",
      "at9900_9_u26\tLiftoff\tCDS\t62590\t63155\t.\t-\t.\tID=ATMG00640.1;Parent=ATMG00640;Name=ATMG00640.1;id2=cds-DAB41524.1;parent2=gene-atp4;Dbxref=NCBI_GP:DAB41524.1;name2=DAB41524.1;gbkey=CDS;gene=atp4;product=ATPase subunit 4;protein_id=DAB41524.1;extra_copy_number=0\n",
      "at9900_9_u26\tLiftoff\tgene\t64222\t66938\t.\t+\t.\tID=ATCG00950;Note=rRNA;Name=ATCG00950;curator_summary=chloroplast-encoded 23S ribosomal RNA;locus_type=ribosomal_rna;symbol=RRN23S.1;full_name=ribosomal RNA23S;Dbxref=locus:504954718,locus:504954718;coverage=0.902;sequence_ID=0.718;extra_copy_number=0;copy_num_ID=ATCG00950_0\n",
      "at9900_9_u26\tLiftoff\trRNA\t64222\t66938\t.\t+\t.\tID=ATCG00950.1;Parent=ATCG00950;Name=ATCG00950.1;index=1;Note=unknown protein;curator_summary=chloroplast-encoded 23S ribosomal RNA;symbol=RRN23S.1;full_name=ribosomal RNA23S;Dbxref=gene:1009022877,gene:1009022877;extra_copy_number=0\n",
      "at9900_9_u26\tLiftoff\texon\t64222\t66938\t.\t+\t.\tID=ATCG00950:exon:1;Parent=ATCG00950.1;Name=RRN23S.1:exon:1;extra_copy_number=0\n",
      "at9900_9_u26\tLiftoff\tgene\t73198\t73458\t.\t+\t.\tID=ATCG00020;Note=photosystem II reaction center protein A;Name=ATCG00020;curator_summary=Encodes chlorophyll binding protein D1%2C a part of the photosystem II reaction center core;symbol=PSBA;full_name=photosystem II reaction center protein A;computational_description=photosystem II reaction center protein A (PSBA)%3B FUNCTIONS IN: chlorophyll binding%3B INVOLVED IN: photosynthesis%2C light reaction%3B LOCATED IN: in 6 components%3B EXPRESSED IN: 24 plant structures%3B EXPRESSED DURING: 14 growth stages%3B CONTAINS InterPro DOMAIN/s: Photosystem II reaction centre protein PsbA/D1 (InterPro:IPR005867)%2C Photosynthetic reaction centre%2C L/M (InterPro:IPR000484)%3B BEST Arabidopsis thaliana protein match is: photosystem II reaction center protein D (TAIR:ATCG00270.1).;Dbxref=PMID:10394638,PMID:9744095,PMID:9193094,PMID:8590463,PMID:11673622,PMID:11752385,PMID:11299375,PMID:11532164,PMID:12232406,PMID:14976253,PMID:2834093,PMID:15032878,PMID:15028209,PMID:15322131,PMID:15851416,PMID:16461379,PMID:16916444,PMID:17435084,PMID:17425718,PMID:18532976,PMID:18650403,PMID:16247559,PMID:19919572,PMID:20179937,PMID:20653883,PMID:21282060,PMID:22189425,PMID:23027666,PMID:23598180,PMID:24510261,locus:504954626;locus_type=protein_coding;coverage=0.243;sequence_ID=0.207;valid_ORFs=0;extra_copy_number=0;copy_num_ID=ATCG00020_0;partial_mapping=True;low_identity=True\n",
      "at9900_9_u26\tLiftoff\tmRNA\t73198\t73458\t.\t+\t.\tID=ATCG00020.1;Parent=ATCG00020;Name=ATCG00020.1;index=1;Note=photosystem II reaction center protein A;curator_summary=Encodes chlorophyll binding protein D1%2C a part of the photosystem II reaction center core;conf_class=9;symbol=PSBA;full_name=photosystem II reaction center protein A;computational_description=photosystem II reaction center protein A (PSBA)%3B FUNCTIONS IN: chlorophyll binding%3B INVOLVED IN: photosynthesis%2C light reaction%3B LOCATED IN: in 6 components%3B EXPRESSED IN: 24 plant structures%3B EXPRESSED DURING: 14 growth stages%3B CONTAINS InterPro DOMAIN/s: Photosystem II reaction centre protein PsbA/D1 (InterPro:IPR005867)%2C Photosynthetic reaction centre%2C L/M (InterPro:IPR000484)%3B BEST Arabidopsis thaliana protein match is: photosystem II reaction center protein D (TAIR:ATCG00270.1).;conf_rating=*;Dbxref=PMID:10394638,PMID:9744095,PMID:9681024,PMID:9193094,PMID:8737990,PMID:8590463,PMID:11673622,PMID:11752385,PMID:11299375,PMID:12232406,PMID:14729914,PMID:14976253,PMID:15032878,PMID:15028209,PMID:15322131,PMID:15851416,PMID:12966044,PMID:16461379,PMID:16531500,PMID:16916444,PMID:17435084,PMID:17432890,PMID:17425718,PMID:18431481,PMID:18532976,PMID:18633119,gene:1009022836;matches_ref_protein=False;valid_ORF=False;missing_start_codon=True;extra_copy_number=0\n",
      "at9900_9_u26\tLiftoff\texon\t73198\t73458\t.\t+\t.\tID=ATCG00020:exon:1;Parent=ATCG00020.1;Name=PSBA:exon:1;extra_copy_number=0\n",
      "at9900_9_u26\tLiftoff\tCDS\t73198\t73458\t.\t+\t.\tID=ATCG00020:CDS:1;Parent=ATCG00020.1;Name=PSBA:CDS:1;extra_copy_number=0\n"
     ]
    }
   ],
   "source": [
    "tail liftoff_polished/at9900.scaffolds-v2.3_liftoff_polished.gff3_polished.gff3 -n 20"
   ]
  },
  {
   "cell_type": "code",
   "execution_count": 19,
   "id": "2346803f-0730-48d3-a889-d0eb12363573",
   "metadata": {},
   "outputs": [
    {
     "name": "stdout",
     "output_type": "stream",
     "text": [
      "\n",
      "ParsEval: comparative analysis of two alternative sources of annotation\n",
      "Usage: parseval [options] reference.gff3 prediction.gff3\n",
      "  Basic options:\n",
      "    -d|--debug:                 Print debugging messages\n",
      "    -h|--help:                  Print help message and exit\n",
      "    -l|--delta: INT             Extend gene loci by this many nucleotides;\n",
      "                                default is 0\n",
      "    -V|--verbose:               Print verbose warning messages\n",
      "    -v|--version:               Print version number and exit\n",
      "\n",
      "  Output options:\n",
      "    -a|--datashare: STRING      Location from which to copy shared data for\n",
      "                                HTML output (if `make install' has not yet\n",
      "                                been run)\n",
      "    -f|--outformat: STRING      Indicate desired output format; possible\n",
      "                                options: 'csv', 'text', or 'html'\n",
      "                                (default='text'); in 'text' or 'csv' mode,\n",
      "                                will create a single file; in 'html' mode,\n",
      "                                will create a directory\n",
      "    -g|--nogff3:                Do no print GFF3 output corresponding to each\n",
      "                                comparison\n",
      "    -o|--outfile: FILENAME      File/directory to which output will be\n",
      "                                written; default is the terminal (STDOUT)\n",
      "    -p|--nopng:                 In HTML output mode, skip generation of PNG\n",
      "                                graphics for each gene locus\n",
      "    -s|--summary:               Only print summary statistics, do not print\n",
      "                                individual comparisons\n",
      "    -w|--overwrite:             Force overwrite of any existing output files\n",
      "    -x|--refrlabel: STRING      Optional label for reference annotations\n",
      "    -y|--predlabel: STRING      Optional label for prediction annotations\n",
      "\n",
      "  Filtering options:\n",
      "    -k|--makefilter             Create a default configuration file for\n",
      "                                filtering reported results and quit,\n",
      "                                performing no comparisons\n",
      "    -r|--filterfile: STRING     Use the indicated configuration file to\n",
      "                                filter reported results;\n",
      "    -t|--maxtrans: INT          Maximum transcripts allowed per locus; use 0\n",
      "                                to disable limit; default is 32\n",
      "\n"
     ]
    }
   ],
   "source": [
    "parseval --help"
   ]
  },
  {
   "cell_type": "code",
   "execution_count": 29,
   "id": "b7b0ba69-2cd3-4e4d-87c5-a216471f5dfe",
   "metadata": {},
   "outputs": [
    {
     "name": "stdout",
     "output_type": "stream",
     "text": [
      "error: mRNA 'g19461.t1' has 3 exons but 3 introns\n",
      "warning: found no valid mRNAs for gene 'g19461'\n"
     ]
    }
   ],
   "source": [
    "parseval -o parseval_test6_re_te --summary tmp/02_annotation/06_orthogrouping/parseval_test/augustus_at6137_test.gff tmp/02_annotation/06_orthogrouping/parseval_test/augustus_reduced_te_at6137_test_nointrons.gff"
   ]
  },
  {
   "cell_type": "code",
   "execution_count": 33,
   "id": "9ddf7a1d-fa6a-408a-9405-097fdfad525d",
   "metadata": {},
   "outputs": [
    {
     "name": "stdout",
     "output_type": "stream",
     "text": [
      "warning: seqid \"at6137_1_chr1\" on line 2 in file \"tmp/02_annotation/06_orthogrouping/parseval_test/augustus_reduced_te_at6137_test_nointrons.gff\" has not been previously introduced with a \"##sequence-region\" line, create such a line automatically\n",
      "warning: seqid \"at6137_1_chr2\" on line 157593 in file \"tmp/02_annotation/06_orthogrouping/parseval_test/augustus_reduced_te_at6137_test_nointrons.gff\" has not been previously introduced with a \"##sequence-region\" line, create such a line automatically\n",
      "warning: seqid \"at6137_1_chr3\" on line 265919 in file \"tmp/02_annotation/06_orthogrouping/parseval_test/augustus_reduced_te_at6137_test_nointrons.gff\" has not been previously introduced with a \"##sequence-region\" line, create such a line automatically\n",
      "warning: seqid \"at6137_1_chr4\" on line 402007 in file \"tmp/02_annotation/06_orthogrouping/parseval_test/augustus_reduced_te_at6137_test_nointrons.gff\" has not been previously introduced with a \"##sequence-region\" line, create such a line automatically\n",
      "warning: seqid \"at6137_1_chr5\" on line 493925 in file \"tmp/02_annotation/06_orthogrouping/parseval_test/augustus_reduced_te_at6137_test_nointrons.gff\" has not been previously introduced with a \"##sequence-region\" line, create such a line automatically\n",
      "warning: seqid \"at6137_9_u81\" on line 636037 in file \"tmp/02_annotation/06_orthogrouping/parseval_test/augustus_reduced_te_at6137_test_nointrons.gff\" has not been previously introduced with a \"##sequence-region\" line, create such a line automatically\n",
      "error: mRNA 'g19461.t1' has 3 exons but 3 introns\n",
      "warning: found no valid mRNAs for gene 'g19461'\n"
     ]
    }
   ],
   "source": [
    "parseval -f html -p -o parseval_test6_re_te_3 tmp/02_annotation/06_orthogrouping/parseval_test/augustus_reduced_te_at6137_test_nointrons.gff tmp/02_annotation/06_orthogrouping/parseval_test/augustus_at6137_test.gff"
   ]
  },
  {
   "cell_type": "code",
   "execution_count": 4,
   "id": "a27c874a-a50e-447e-97f8-c1273db22aee",
   "metadata": {},
   "outputs": [
    {
     "name": "stdout",
     "output_type": "stream",
     "text": [
      "+ set -xe\n",
      "+ for accession in \"${dl20[@]}\"\n",
      "+ sed s/transcript/mRNA/g output/02_annotation/03_augustus-reannotation/at6137~reduced-te-masked/02_augustus/at6137~reduced-te-masked_augustus_spp-arabidopsis.idfix.gff3\n",
      "+ sed s/transcript/mRNA/g output/02_annotation/03_augustus-reannotation/at6137~telo-centro-rdna-masked/02_augustus/at6137~telo-centro-rdna-masked_augustus_spp-arabidopsis.gff3\n",
      "+ bedtools sort -i tmp/02_annotation/06_orthogrouping/parseval_test/augustus_at6137_test_centro.gff\n",
      "+ grep --color=auto -v intron tmp/02_annotation/06_orthogrouping/parseval_test/augustus_reduced_te_masked2_at6137_test.gff\n",
      "+ grep --color=auto -v intron tmp/02_annotation/06_orthogrouping/parseval_test/augustus_at6137_test_sorted_centro.gff\n",
      "+ parseval -w -f html -p -o parseval_test6_re_te_v_telo_cent_at6137 tmp/02_annotation/06_orthogrouping/parseval_test/augustus_at6137_test_sorted_centro_nointrons.gff tmp/02_annotation/06_orthogrouping/parseval_test/augustus_reduced_te_at6137_test_nointrons.gff\n",
      "warning: line 1 in file \"tmp/02_annotation/06_orthogrouping/parseval_test/augustus_at6137_test_sorted_centro_nointrons.gff\" does not begin with \"##gff-version\" or \"##gvf-version\", create \"##gff-version 3\" line automatically\n",
      "[ParsEval] error: the multi-feature with ID \"g1.t1\" on line 168163 in file \"tmp/02_annotation/06_orthogrouping/parseval_test/augustus_at6137_test_sorted_centro_nointrons.gff\" has a different sequence id than its counterpart on line 1+ for accession in \"${dl20[@]}\"\n",
      "+ sed s/transcript/mRNA/g output/02_annotation/03_augustus-reannotation/at6923~reduced-te-masked/02_augustus/at6923~reduced-te-masked_augustus_spp-arabidopsis.idfix.gff3\n",
      "+ sed s/transcript/mRNA/g output/02_annotation/03_augustus-reannotation/at6923~telo-centro-rdna-masked/02_augustus/at6923~telo-centro-rdna-masked_augustus_spp-arabidopsis.gff3\n",
      "+ bedtools sort -i tmp/02_annotation/06_orthogrouping/parseval_test/augustus_at6923_test_centro.gff\n",
      "+ grep --color=auto -v intron tmp/02_annotation/06_orthogrouping/parseval_test/augustus_reduced_te_masked2_at6923_test.gff\n",
      "+ grep --color=auto -v intron tmp/02_annotation/06_orthogrouping/parseval_test/augustus_at6923_test_sorted_centro.gff\n",
      "+ parseval -w -f html -p -o parseval_test6_re_te_v_telo_cent_at6923 tmp/02_annotation/06_orthogrouping/parseval_test/augustus_at6923_test_sorted_centro_nointrons.gff tmp/02_annotation/06_orthogrouping/parseval_test/augustus_reduced_te_at6923_test_nointrons.gff\n",
      "warning: line 1 in file \"tmp/02_annotation/06_orthogrouping/parseval_test/augustus_at6923_test_sorted_centro_nointrons.gff\" does not begin with \"##gff-version\" or \"##gvf-version\", create \"##gff-version 3\" line automatically\n",
      "[ParsEval] error: the multi-feature with ID \"g1.t1\" on line 162215 in file \"tmp/02_annotation/06_orthogrouping/parseval_test/augustus_at6923_test_sorted_centro_nointrons.gff\" has a different sequence id than its counterpart on line 1+ for accession in \"${dl20[@]}\"\n",
      "+ sed s/transcript/mRNA/g output/02_annotation/03_augustus-reannotation/at6929~reduced-te-masked/02_augustus/at6929~reduced-te-masked_augustus_spp-arabidopsis.idfix.gff3\n",
      "+ sed s/transcript/mRNA/g output/02_annotation/03_augustus-reannotation/at6929~telo-centro-rdna-masked/02_augustus/at6929~telo-centro-rdna-masked_augustus_spp-arabidopsis.gff3\n",
      "+ bedtools sort -i tmp/02_annotation/06_orthogrouping/parseval_test/augustus_at6929_test_centro.gff\n",
      "+ grep --color=auto -v intron tmp/02_annotation/06_orthogrouping/parseval_test/augustus_reduced_te_masked2_at6929_test.gff\n",
      "+ grep --color=auto -v intron tmp/02_annotation/06_orthogrouping/parseval_test/augustus_at6929_test_sorted_centro.gff\n",
      "+ parseval -w -f html -p -o parseval_test6_re_te_v_telo_cent_at6929 tmp/02_annotation/06_orthogrouping/parseval_test/augustus_at6929_test_sorted_centro_nointrons.gff tmp/02_annotation/06_orthogrouping/parseval_test/augustus_reduced_te_at6929_test_nointrons.gff\n",
      "warning: line 1 in file \"tmp/02_annotation/06_orthogrouping/parseval_test/augustus_at6929_test_sorted_centro_nointrons.gff\" does not begin with \"##gff-version\" or \"##gvf-version\", create \"##gff-version 3\" line automatically\n",
      "[ParsEval] error: the multi-feature with ID \"g1.t1\" on line 170563 in file \"tmp/02_annotation/06_orthogrouping/parseval_test/augustus_at6929_test_sorted_centro_nointrons.gff\" has a different sequence id than its counterpart on line 1+ for accession in \"${dl20[@]}\"\n",
      "+ sed s/transcript/mRNA/g output/02_annotation/03_augustus-reannotation/at7143~reduced-te-masked/02_augustus/at7143~reduced-te-masked_augustus_spp-arabidopsis.idfix.gff3\n",
      "+ sed s/transcript/mRNA/g output/02_annotation/03_augustus-reannotation/at7143~telo-centro-rdna-masked/02_augustus/at7143~telo-centro-rdna-masked_augustus_spp-arabidopsis.gff3\n",
      "+ bedtools sort -i tmp/02_annotation/06_orthogrouping/parseval_test/augustus_at7143_test_centro.gff\n",
      "+ grep --color=auto -v intron tmp/02_annotation/06_orthogrouping/parseval_test/augustus_reduced_te_masked2_at7143_test.gff\n",
      "+ grep --color=auto -v intron tmp/02_annotation/06_orthogrouping/parseval_test/augustus_at7143_test_sorted_centro.gff\n",
      "+ parseval -w -f html -p -o parseval_test6_re_te_v_telo_cent_at7143 tmp/02_annotation/06_orthogrouping/parseval_test/augustus_at7143_test_sorted_centro_nointrons.gff tmp/02_annotation/06_orthogrouping/parseval_test/augustus_reduced_te_at7143_test_nointrons.gff\n",
      "warning: line 1 in file \"tmp/02_annotation/06_orthogrouping/parseval_test/augustus_at7143_test_sorted_centro_nointrons.gff\" does not begin with \"##gff-version\" or \"##gvf-version\", create \"##gff-version 3\" line automatically\n",
      "[ParsEval] error: the multi-feature with ID \"g1.t1\" on line 182890 in file \"tmp/02_annotation/06_orthogrouping/parseval_test/augustus_at7143_test_sorted_centro_nointrons.gff\" has a different sequence id than its counterpart on line 1+ for accession in \"${dl20[@]}\"\n",
      "+ sed s/transcript/mRNA/g output/02_annotation/03_augustus-reannotation/at8285~reduced-te-masked/02_augustus/at8285~reduced-te-masked_augustus_spp-arabidopsis.idfix.gff3\n",
      "+ sed s/transcript/mRNA/g output/02_annotation/03_augustus-reannotation/at8285~telo-centro-rdna-masked/02_augustus/at8285~telo-centro-rdna-masked_augustus_spp-arabidopsis.gff3\n",
      "+ bedtools sort -i tmp/02_annotation/06_orthogrouping/parseval_test/augustus_at8285_test_centro.gff\n",
      "+ grep --color=auto -v intron tmp/02_annotation/06_orthogrouping/parseval_test/augustus_reduced_te_masked2_at8285_test.gff\n",
      "+ grep --color=auto -v intron tmp/02_annotation/06_orthogrouping/parseval_test/augustus_at8285_test_sorted_centro.gff\n",
      "+ parseval -w -f html -p -o parseval_test6_re_te_v_telo_cent_at8285 tmp/02_annotation/06_orthogrouping/parseval_test/augustus_at8285_test_sorted_centro_nointrons.gff tmp/02_annotation/06_orthogrouping/parseval_test/augustus_reduced_te_at8285_test_nointrons.gff\n",
      "warning: line 1 in file \"tmp/02_annotation/06_orthogrouping/parseval_test/augustus_at8285_test_sorted_centro_nointrons.gff\" does not begin with \"##gff-version\" or \"##gvf-version\", create \"##gff-version 3\" line automatically\n",
      "[ParsEval] error: the multi-feature with ID \"g1.t1\" on line 189492 in file \"tmp/02_annotation/06_orthogrouping/parseval_test/augustus_at8285_test_sorted_centro_nointrons.gff\" has a different sequence id than its counterpart on line 1+ for accession in \"${dl20[@]}\"\n",
      "+ sed s/transcript/mRNA/g output/02_annotation/03_augustus-reannotation/at9104~reduced-te-masked/02_augustus/at9104~reduced-te-masked_augustus_spp-arabidopsis.idfix.gff3\n",
      "+ sed s/transcript/mRNA/g output/02_annotation/03_augustus-reannotation/at9104~telo-centro-rdna-masked/02_augustus/at9104~telo-centro-rdna-masked_augustus_spp-arabidopsis.gff3\n",
      "+ bedtools sort -i tmp/02_annotation/06_orthogrouping/parseval_test/augustus_at9104_test_centro.gff\n",
      "+ grep --color=auto -v intron tmp/02_annotation/06_orthogrouping/parseval_test/augustus_reduced_te_masked2_at9104_test.gff\n",
      "+ grep --color=auto -v intron tmp/02_annotation/06_orthogrouping/parseval_test/augustus_at9104_test_sorted_centro.gff\n",
      "+ parseval -w -f html -p -o parseval_test6_re_te_v_telo_cent_at9104 tmp/02_annotation/06_orthogrouping/parseval_test/augustus_at9104_test_sorted_centro_nointrons.gff tmp/02_annotation/06_orthogrouping/parseval_test/augustus_reduced_te_at9104_test_nointrons.gff\n",
      "warning: line 1 in file \"tmp/02_annotation/06_orthogrouping/parseval_test/augustus_at9104_test_sorted_centro_nointrons.gff\" does not begin with \"##gff-version\" or \"##gvf-version\", create \"##gff-version 3\" line automatically\n",
      "[ParsEval] error: the multi-feature with ID \"g1\" on line 166921 in file \"tmp/02_annotation/06_orthogrouping/parseval_test/augustus_at9104_test_sorted_centro_nointrons.gff\" has a different sequence id than its counterpart on line 2+ for accession in \"${dl20[@]}\"\n",
      "+ sed s/transcript/mRNA/g output/02_annotation/03_augustus-reannotation/at9336~reduced-te-masked/02_augustus/at9336~reduced-te-masked_augustus_spp-arabidopsis.idfix.gff3\n",
      "+ sed s/transcript/mRNA/g output/02_annotation/03_augustus-reannotation/at9336~telo-centro-rdna-masked/02_augustus/at9336~telo-centro-rdna-masked_augustus_spp-arabidopsis.gff3\n",
      "+ bedtools sort -i tmp/02_annotation/06_orthogrouping/parseval_test/augustus_at9336_test_centro.gff\n",
      "+ grep --color=auto -v intron tmp/02_annotation/06_orthogrouping/parseval_test/augustus_reduced_te_masked2_at9336_test.gff\n",
      "+ grep --color=auto -v intron tmp/02_annotation/06_orthogrouping/parseval_test/augustus_at9336_test_sorted_centro.gff\n",
      "+ parseval -w -f html -p -o parseval_test6_re_te_v_telo_cent_at9336 tmp/02_annotation/06_orthogrouping/parseval_test/augustus_at9336_test_sorted_centro_nointrons.gff tmp/02_annotation/06_orthogrouping/parseval_test/augustus_reduced_te_at9336_test_nointrons.gff\n",
      "warning: line 1 in file \"tmp/02_annotation/06_orthogrouping/parseval_test/augustus_at9336_test_sorted_centro_nointrons.gff\" does not begin with \"##gff-version\" or \"##gvf-version\", create \"##gff-version 3\" line automatically\n",
      "[ParsEval] error: the multi-feature with ID \"g1.t1\" on line 180326 in file \"tmp/02_annotation/06_orthogrouping/parseval_test/augustus_at9336_test_sorted_centro_nointrons.gff\" has a different sequence id than its counterpart on line 1+ for accession in \"${dl20[@]}\"\n",
      "+ sed s/transcript/mRNA/g output/02_annotation/03_augustus-reannotation/at9503~reduced-te-masked/02_augustus/at9503~reduced-te-masked_augustus_spp-arabidopsis.idfix.gff3\n",
      "+ sed s/transcript/mRNA/g output/02_annotation/03_augustus-reannotation/at9503~telo-centro-rdna-masked/02_augustus/at9503~telo-centro-rdna-masked_augustus_spp-arabidopsis.gff3\n",
      "+ bedtools sort -i tmp/02_annotation/06_orthogrouping/parseval_test/augustus_at9503_test_centro.gff\n",
      "+ grep --color=auto -v intron tmp/02_annotation/06_orthogrouping/parseval_test/augustus_reduced_te_masked2_at9503_test.gff\n",
      "+ grep --color=auto -v intron tmp/02_annotation/06_orthogrouping/parseval_test/augustus_at9503_test_sorted_centro.gff\n",
      "+ parseval -w -f html -p -o parseval_test6_re_te_v_telo_cent_at9503 tmp/02_annotation/06_orthogrouping/parseval_test/augustus_at9503_test_sorted_centro_nointrons.gff tmp/02_annotation/06_orthogrouping/parseval_test/augustus_reduced_te_at9503_test_nointrons.gff\n",
      "warning: line 1 in file \"tmp/02_annotation/06_orthogrouping/parseval_test/augustus_at9503_test_sorted_centro_nointrons.gff\" does not begin with \"##gff-version\" or \"##gvf-version\", create \"##gff-version 3\" line automatically\n",
      "[ParsEval] error: the multi-feature with ID \"g1.t1\" on line 169373 in file \"tmp/02_annotation/06_orthogrouping/parseval_test/augustus_at9503_test_sorted_centro_nointrons.gff\" has a different sequence id than its counterpart on line 1+ for accession in \"${dl20[@]}\"\n",
      "+ sed s/transcript/mRNA/g output/02_annotation/03_augustus-reannotation/at9578~reduced-te-masked/02_augustus/at9578~reduced-te-masked_augustus_spp-arabidopsis.idfix.gff3\n",
      "+ sed s/transcript/mRNA/g output/02_annotation/03_augustus-reannotation/at9578~telo-centro-rdna-masked/02_augustus/at9578~telo-centro-rdna-masked_augustus_spp-arabidopsis.gff3\n",
      "+ bedtools sort -i tmp/02_annotation/06_orthogrouping/parseval_test/augustus_at9578_test_centro.gff\n",
      "+ grep --color=auto -v intron tmp/02_annotation/06_orthogrouping/parseval_test/augustus_reduced_te_masked2_at9578_test.gff\n",
      "+ grep --color=auto -v intron tmp/02_annotation/06_orthogrouping/parseval_test/augustus_at9578_test_sorted_centro.gff\n",
      "+ parseval -w -f html -p -o parseval_test6_re_te_v_telo_cent_at9578 tmp/02_annotation/06_orthogrouping/parseval_test/augustus_at9578_test_sorted_centro_nointrons.gff tmp/02_annotation/06_orthogrouping/parseval_test/augustus_reduced_te_at9578_test_nointrons.gff\n",
      "warning: line 1 in file \"tmp/02_annotation/06_orthogrouping/parseval_test/augustus_at9578_test_sorted_centro_nointrons.gff\" does not begin with \"##gff-version\" or \"##gvf-version\", create \"##gff-version 3\" line automatically\n",
      "[ParsEval] error: the multi-feature with ID \"g1\" on line 180177 in file \"tmp/02_annotation/06_orthogrouping/parseval_test/augustus_at9578_test_sorted_centro_nointrons.gff\" has a different sequence id than its counterpart on line 2+ for accession in \"${dl20[@]}\"\n",
      "+ sed s/transcript/mRNA/g output/02_annotation/03_augustus-reannotation/at9744~reduced-te-masked/02_augustus/at9744~reduced-te-masked_augustus_spp-arabidopsis.idfix.gff3\n",
      "+ sed s/transcript/mRNA/g output/02_annotation/03_augustus-reannotation/at9744~telo-centro-rdna-masked/02_augustus/at9744~telo-centro-rdna-masked_augustus_spp-arabidopsis.gff3\n",
      "+ bedtools sort -i tmp/02_annotation/06_orthogrouping/parseval_test/augustus_at9744_test_centro.gff\n",
      "+ grep --color=auto -v intron tmp/02_annotation/06_orthogrouping/parseval_test/augustus_reduced_te_masked2_at9744_test.gff\n",
      "+ grep --color=auto -v intron tmp/02_annotation/06_orthogrouping/parseval_test/augustus_at9744_test_sorted_centro.gff\n",
      "+ parseval -w -f html -p -o parseval_test6_re_te_v_telo_cent_at9744 tmp/02_annotation/06_orthogrouping/parseval_test/augustus_at9744_test_sorted_centro_nointrons.gff tmp/02_annotation/06_orthogrouping/parseval_test/augustus_reduced_te_at9744_test_nointrons.gff\n",
      "warning: line 1 in file \"tmp/02_annotation/06_orthogrouping/parseval_test/augustus_at9744_test_sorted_centro_nointrons.gff\" does not begin with \"##gff-version\" or \"##gvf-version\", create \"##gff-version 3\" line automatically\n",
      "[ParsEval] error: the multi-feature with ID \"g1.t1\" on line 171493 in file \"tmp/02_annotation/06_orthogrouping/parseval_test/augustus_at9744_test_sorted_centro_nointrons.gff\" has a different sequence id than its counterpart on line 1+ for accession in \"${dl20[@]}\"\n",
      "+ sed s/transcript/mRNA/g output/02_annotation/03_augustus-reannotation/at9762~reduced-te-masked/02_augustus/at9762~reduced-te-masked_augustus_spp-arabidopsis.idfix.gff3\n",
      "+ sed s/transcript/mRNA/g output/02_annotation/03_augustus-reannotation/at9762~telo-centro-rdna-masked/02_augustus/at9762~telo-centro-rdna-masked_augustus_spp-arabidopsis.gff3\n",
      "+ bedtools sort -i tmp/02_annotation/06_orthogrouping/parseval_test/augustus_at9762_test_centro.gff\n",
      "+ grep --color=auto -v intron tmp/02_annotation/06_orthogrouping/parseval_test/augustus_reduced_te_masked2_at9762_test.gff\n",
      "+ grep --color=auto -v intron tmp/02_annotation/06_orthogrouping/parseval_test/augustus_at9762_test_sorted_centro.gff\n",
      "+ parseval -w -f html -p -o parseval_test6_re_te_v_telo_cent_at9762 tmp/02_annotation/06_orthogrouping/parseval_test/augustus_at9762_test_sorted_centro_nointrons.gff tmp/02_annotation/06_orthogrouping/parseval_test/augustus_reduced_te_at9762_test_nointrons.gff\n",
      "warning: line 1 in file \"tmp/02_annotation/06_orthogrouping/parseval_test/augustus_at9762_test_sorted_centro_nointrons.gff\" does not begin with \"##gff-version\" or \"##gvf-version\", create \"##gff-version 3\" line automatically\n",
      "[ParsEval] error: the multi-feature with ID \"g1.t1\" on line 190477 in file \"tmp/02_annotation/06_orthogrouping/parseval_test/augustus_at9762_test_sorted_centro_nointrons.gff\" has a different sequence id than its counterpart on line 1+ for accession in \"${dl20[@]}\"\n",
      "+ sed s/transcript/mRNA/g output/02_annotation/03_augustus-reannotation/at9806~reduced-te-masked/02_augustus/at9806~reduced-te-masked_augustus_spp-arabidopsis.idfix.gff3\n",
      "+ sed s/transcript/mRNA/g output/02_annotation/03_augustus-reannotation/at9806~telo-centro-rdna-masked/02_augustus/at9806~telo-centro-rdna-masked_augustus_spp-arabidopsis.gff3\n",
      "+ bedtools sort -i tmp/02_annotation/06_orthogrouping/parseval_test/augustus_at9806_test_centro.gff\n",
      "+ grep --color=auto -v intron tmp/02_annotation/06_orthogrouping/parseval_test/augustus_reduced_te_masked2_at9806_test.gff\n",
      "+ grep --color=auto -v intron tmp/02_annotation/06_orthogrouping/parseval_test/augustus_at9806_test_sorted_centro.gff\n",
      "+ parseval -w -f html -p -o parseval_test6_re_te_v_telo_cent_at9806 tmp/02_annotation/06_orthogrouping/parseval_test/augustus_at9806_test_sorted_centro_nointrons.gff tmp/02_annotation/06_orthogrouping/parseval_test/augustus_reduced_te_at9806_test_nointrons.gff\n",
      "warning: line 1 in file \"tmp/02_annotation/06_orthogrouping/parseval_test/augustus_at9806_test_sorted_centro_nointrons.gff\" does not begin with \"##gff-version\" or \"##gvf-version\", create \"##gff-version 3\" line automatically\n",
      "[ParsEval] error: the multi-feature with ID \"g1.t1\" on line 188117 in file \"tmp/02_annotation/06_orthogrouping/parseval_test/augustus_at9806_test_sorted_centro_nointrons.gff\" has a different sequence id than its counterpart on line 1+ for accession in \"${dl20[@]}\"\n",
      "+ sed s/transcript/mRNA/g output/02_annotation/03_augustus-reannotation/at9830~reduced-te-masked/02_augustus/at9830~reduced-te-masked_augustus_spp-arabidopsis.idfix.gff3\n",
      "+ sed s/transcript/mRNA/g output/02_annotation/03_augustus-reannotation/at9830~telo-centro-rdna-masked/02_augustus/at9830~telo-centro-rdna-masked_augustus_spp-arabidopsis.gff3\n",
      "+ bedtools sort -i tmp/02_annotation/06_orthogrouping/parseval_test/augustus_at9830_test_centro.gff\n",
      "+ grep --color=auto -v intron tmp/02_annotation/06_orthogrouping/parseval_test/augustus_reduced_te_masked2_at9830_test.gff\n",
      "+ grep --color=auto -v intron tmp/02_annotation/06_orthogrouping/parseval_test/augustus_at9830_test_sorted_centro.gff\n",
      "+ parseval -w -f html -p -o parseval_test6_re_te_v_telo_cent_at9830 tmp/02_annotation/06_orthogrouping/parseval_test/augustus_at9830_test_sorted_centro_nointrons.gff tmp/02_annotation/06_orthogrouping/parseval_test/augustus_reduced_te_at9830_test_nointrons.gff\n",
      "warning: line 1 in file \"tmp/02_annotation/06_orthogrouping/parseval_test/augustus_at9830_test_sorted_centro_nointrons.gff\" does not begin with \"##gff-version\" or \"##gvf-version\", create \"##gff-version 3\" line automatically\n",
      "[ParsEval] error: the multi-feature with ID \"g1.t1\" on line 176184 in file \"tmp/02_annotation/06_orthogrouping/parseval_test/augustus_at9830_test_sorted_centro_nointrons.gff\" has a different sequence id than its counterpart on line 1+ for accession in \"${dl20[@]}\"\n",
      "+ sed s/transcript/mRNA/g output/02_annotation/03_augustus-reannotation/at9847~reduced-te-masked/02_augustus/at9847~reduced-te-masked_augustus_spp-arabidopsis.idfix.gff3\n",
      "+ sed s/transcript/mRNA/g output/02_annotation/03_augustus-reannotation/at9847~telo-centro-rdna-masked/02_augustus/at9847~telo-centro-rdna-masked_augustus_spp-arabidopsis.gff3\n",
      "+ bedtools sort -i tmp/02_annotation/06_orthogrouping/parseval_test/augustus_at9847_test_centro.gff\n",
      "+ grep --color=auto -v intron tmp/02_annotation/06_orthogrouping/parseval_test/augustus_reduced_te_masked2_at9847_test.gff\n",
      "+ grep --color=auto -v intron tmp/02_annotation/06_orthogrouping/parseval_test/augustus_at9847_test_sorted_centro.gff\n",
      "+ parseval -w -f html -p -o parseval_test6_re_te_v_telo_cent_at9847 tmp/02_annotation/06_orthogrouping/parseval_test/augustus_at9847_test_sorted_centro_nointrons.gff tmp/02_annotation/06_orthogrouping/parseval_test/augustus_reduced_te_at9847_test_nointrons.gff\n",
      "warning: line 1 in file \"tmp/02_annotation/06_orthogrouping/parseval_test/augustus_at9847_test_sorted_centro_nointrons.gff\" does not begin with \"##gff-version\" or \"##gvf-version\", create \"##gff-version 3\" line automatically\n",
      "[ParsEval] error: the multi-feature with ID \"g1.t1\" on line 162108 in file \"tmp/02_annotation/06_orthogrouping/parseval_test/augustus_at9847_test_sorted_centro_nointrons.gff\" has a different sequence id than its counterpart on line 1+ for accession in \"${dl20[@]}\"\n",
      "+ sed s/transcript/mRNA/g output/02_annotation/03_augustus-reannotation/at9852~reduced-te-masked/02_augustus/at9852~reduced-te-masked_augustus_spp-arabidopsis.idfix.gff3\n",
      "+ sed s/transcript/mRNA/g output/02_annotation/03_augustus-reannotation/at9852~telo-centro-rdna-masked/02_augustus/at9852~telo-centro-rdna-masked_augustus_spp-arabidopsis.gff3\n",
      "+ bedtools sort -i tmp/02_annotation/06_orthogrouping/parseval_test/augustus_at9852_test_centro.gff\n",
      "+ grep --color=auto -v intron tmp/02_annotation/06_orthogrouping/parseval_test/augustus_reduced_te_masked2_at9852_test.gff\n",
      "+ grep --color=auto -v intron tmp/02_annotation/06_orthogrouping/parseval_test/augustus_at9852_test_sorted_centro.gff\n",
      "+ parseval -w -f html -p -o parseval_test6_re_te_v_telo_cent_at9852 tmp/02_annotation/06_orthogrouping/parseval_test/augustus_at9852_test_sorted_centro_nointrons.gff tmp/02_annotation/06_orthogrouping/parseval_test/augustus_reduced_te_at9852_test_nointrons.gff\n",
      "warning: line 1 in file \"tmp/02_annotation/06_orthogrouping/parseval_test/augustus_at9852_test_sorted_centro_nointrons.gff\" does not begin with \"##gff-version\" or \"##gvf-version\", create \"##gff-version 3\" line automatically\n",
      "[ParsEval] error: the multi-feature with ID \"g1.t1\" on line 179094 in file \"tmp/02_annotation/06_orthogrouping/parseval_test/augustus_at9852_test_sorted_centro_nointrons.gff\" has a different sequence id than its counterpart on line 1+ for accession in \"${dl20[@]}\"\n",
      "+ sed s/transcript/mRNA/g output/02_annotation/03_augustus-reannotation/at9879~reduced-te-masked/02_augustus/at9879~reduced-te-masked_augustus_spp-arabidopsis.idfix.gff3\n",
      "+ sed s/transcript/mRNA/g output/02_annotation/03_augustus-reannotation/at9879~telo-centro-rdna-masked/02_augustus/at9879~telo-centro-rdna-masked_augustus_spp-arabidopsis.gff3\n",
      "+ bedtools sort -i tmp/02_annotation/06_orthogrouping/parseval_test/augustus_at9879_test_centro.gff\n",
      "+ grep --color=auto -v intron tmp/02_annotation/06_orthogrouping/parseval_test/augustus_reduced_te_masked2_at9879_test.gff\n",
      "+ grep --color=auto -v intron tmp/02_annotation/06_orthogrouping/parseval_test/augustus_at9879_test_sorted_centro.gff\n",
      "+ parseval -w -f html -p -o parseval_test6_re_te_v_telo_cent_at9879 tmp/02_annotation/06_orthogrouping/parseval_test/augustus_at9879_test_sorted_centro_nointrons.gff tmp/02_annotation/06_orthogrouping/parseval_test/augustus_reduced_te_at9879_test_nointrons.gff\n",
      "warning: line 1 in file \"tmp/02_annotation/06_orthogrouping/parseval_test/augustus_at9879_test_sorted_centro_nointrons.gff\" does not begin with \"##gff-version\" or \"##gvf-version\", create \"##gff-version 3\" line automatically\n",
      "[ParsEval] error: the multi-feature with ID \"g1.t1\" on line 179291 in file \"tmp/02_annotation/06_orthogrouping/parseval_test/augustus_at9879_test_sorted_centro_nointrons.gff\" has a different sequence id than its counterpart on line 1+ for accession in \"${dl20[@]}\"\n",
      "+ sed s/transcript/mRNA/g output/02_annotation/03_augustus-reannotation/at9883~reduced-te-masked/02_augustus/at9883~reduced-te-masked_augustus_spp-arabidopsis.idfix.gff3\n",
      "+ sed s/transcript/mRNA/g output/02_annotation/03_augustus-reannotation/at9883~telo-centro-rdna-masked/02_augustus/at9883~telo-centro-rdna-masked_augustus_spp-arabidopsis.gff3\n",
      "+ bedtools sort -i tmp/02_annotation/06_orthogrouping/parseval_test/augustus_at9883_test_centro.gff\n",
      "+ grep --color=auto -v intron tmp/02_annotation/06_orthogrouping/parseval_test/augustus_reduced_te_masked2_at9883_test.gff\n",
      "+ grep --color=auto -v intron tmp/02_annotation/06_orthogrouping/parseval_test/augustus_at9883_test_sorted_centro.gff\n",
      "+ parseval -w -f html -p -o parseval_test6_re_te_v_telo_cent_at9883 tmp/02_annotation/06_orthogrouping/parseval_test/augustus_at9883_test_sorted_centro_nointrons.gff tmp/02_annotation/06_orthogrouping/parseval_test/augustus_reduced_te_at9883_test_nointrons.gff\n",
      "warning: line 1 in file \"tmp/02_annotation/06_orthogrouping/parseval_test/augustus_at9883_test_sorted_centro_nointrons.gff\" does not begin with \"##gff-version\" or \"##gvf-version\", create \"##gff-version 3\" line automatically\n",
      "[ParsEval] error: the multi-feature with ID \"g1.t1\" on line 180580 in file \"tmp/02_annotation/06_orthogrouping/parseval_test/augustus_at9883_test_sorted_centro_nointrons.gff\" has a different sequence id than its counterpart on line 1+ for accession in \"${dl20[@]}\"\n",
      "+ sed s/transcript/mRNA/g output/02_annotation/03_augustus-reannotation/at9900~reduced-te-masked/02_augustus/at9900~reduced-te-masked_augustus_spp-arabidopsis.idfix.gff3\n",
      "+ sed s/transcript/mRNA/g output/02_annotation/03_augustus-reannotation/at9900~telo-centro-rdna-masked/02_augustus/at9900~telo-centro-rdna-masked_augustus_spp-arabidopsis.gff3\n",
      "+ bedtools sort -i tmp/02_annotation/06_orthogrouping/parseval_test/augustus_at9900_test_centro.gff\n",
      "+ grep --color=auto -v intron tmp/02_annotation/06_orthogrouping/parseval_test/augustus_reduced_te_masked2_at9900_test.gff\n",
      "+ grep --color=auto -v intron tmp/02_annotation/06_orthogrouping/parseval_test/augustus_at9900_test_sorted_centro.gff\n",
      "+ parseval -w -f html -p -o parseval_test6_re_te_v_telo_cent_at9900 tmp/02_annotation/06_orthogrouping/parseval_test/augustus_at9900_test_sorted_centro_nointrons.gff tmp/02_annotation/06_orthogrouping/parseval_test/augustus_reduced_te_at9900_test_nointrons.gff\n",
      "warning: line 1 in file \"tmp/02_annotation/06_orthogrouping/parseval_test/augustus_at9900_test_sorted_centro_nointrons.gff\" does not begin with \"##gff-version\" or \"##gvf-version\", create \"##gff-version 3\" line automatically\n",
      "[ParsEval] error: the multi-feature with ID \"g1.t1\" on line 175848 in file \"tmp/02_annotation/06_orthogrouping/parseval_test/augustus_at9900_test_sorted_centro_nointrons.gff\" has a different sequence id than its counterpart on line 1"
     ]
    },
    {
     "ename": "",
     "evalue": "1",
     "output_type": "error",
     "traceback": []
    }
   ],
   "source": [
    "set -xe\n",
    "\n",
    "for accession in \"${dl20[@]}\"\n",
    "do\n",
    "\n",
    "sed 's/transcript/mRNA/g' \\\n",
    "     output/02_annotation/03_augustus-reannotation/${accession}~reduced-te-masked/02_augustus/${accession}~reduced-te-masked_augustus_spp-arabidopsis.idfix.gff3 \\\n",
    "     > tmp/02_annotation/06_orthogrouping/parseval_test/augustus_reduced_te_masked2_${accession}_test.gff\n",
    "sed 's/transcript/mRNA/g' \\\n",
    "     output/02_annotation/03_augustus-reannotation/${accession}~telo-centro-rdna-masked/02_augustus/${accession}~telo-centro-rdna-masked_augustus_spp-arabidopsis.gff3 \\\n",
    "     > tmp/02_annotation/06_orthogrouping/parseval_test/augustus_${accession}_test_centro.gff\n",
    "bedtools sort -i tmp/02_annotation/06_orthogrouping/parseval_test/augustus_${accession}_test_centro.gff \\\n",
    "     > tmp/02_annotation/06_orthogrouping/parseval_test/augustus_${accession}_test_sorted_centro.gff\n",
    "grep -v \"intron\" tmp/02_annotation/06_orthogrouping/parseval_test/augustus_reduced_te_masked2_${accession}_test.gff \\\n",
    "     > tmp/02_annotation/06_orthogrouping/parseval_test/augustus_reduced_te_${accession}_test_nointrons.gff\n",
    "grep -v \"intron\" tmp/02_annotation/06_orthogrouping/parseval_test/augustus_${accession}_test_sorted_centro.gff > \\\n",
    "     tmp/02_annotation/06_orthogrouping/parseval_test/augustus_${accession}_test_sorted_centro_nointrons.gff\n",
    "parseval -w -f html -p -o parseval_test6_re_te_v_telo_cent_${accession} \\\n",
    "     tmp/02_annotation/06_orthogrouping/parseval_test/augustus_${accession}_test_sorted_centro_nointrons.gff \\\n",
    "     tmp/02_annotation/06_orthogrouping/parseval_test/augustus_reduced_te_${accession}_test_nointrons.gff\n",
    "     \n",
    "\n",
    "done\n",
    "\n"
   ]
  },
  {
   "cell_type": "code",
   "execution_count": null,
   "id": "daa91fe2-705e-48c9-a6be-981c05fcaa7c",
   "metadata": {},
   "outputs": [],
   "source": [
    "for accession in \"${dl20[@]}\"\n",
    "do\n",
    "\n",
    "#sed 's/transcript/mRNA/g' output/02_annotation/03_augustus-reannotation/${accession}~reduced-te-masked/02_augustus/${accession}~reduced-te-masked_augustus_spp-arabidopsis.idfix.gff3 > tmp/02_annotation/06_orthogrouping/parseval_test/augustus_reduced_te_masked_${accession}_test.gff\n",
    "#sed 's/transcript/mRNA/g' output/02_annotation/01_original-annotation-merged/${accession}.augustus-v2.3.gff3 > tmp/02_annotation/06_orthogrouping/parseval_test/augustus_${accession}_test.gff\n",
    "#grep -v \"intron\" tmp/02_annotation/06_orthogrouping/parseval_test/augustus_reduced_te_masked_${accession}_test.gff > tmp/02_annotation/06_orthogrouping/parseval_test/augustus_reduced_te_${accession}_test_nointrons.gff\n",
    "parseval -f html -p --summary -w -o parseval_test2_isoseq_augustus_${accession} at9900.augustus-v2.3_mrna.gff3 isoseq/at9900_mydb_pasa.gene_structures_post_PASA_updates.196744.gff3\n",
    "\n",
    "done\n",
    "\n",
    "#parseval -f html -p --summary -w -o parseval_test1_re_te_at9900 ../../../../output/01_assembly/01_pansn-named/at9900.augustus-v2.3.gff3 at9900.scaffolds-v2.3_liftoff_polished.gff3_polished_sans_weird_genes5.gff3\n",
    "parseval -f html -p --summary -w -o parseval_test2_isoseq_augustus_at9900 at9900.augustus-v2.3_mrna.gff3 isoseq/at9900_mydb_pasa.gene_structures_post_PASA_updates.196744.gff3\n",
    "\n"
   ]
  },
  {
   "cell_type": "code",
   "execution_count": 31,
   "id": "34e851cd-4767-465d-b8ad-90a66b212d4e",
   "metadata": {
    "tags": []
   },
   "outputs": [],
   "source": [
    "grep \"CDS segments structures match perfectly\" parseval_test2_isoseq_augustus_at9900/at9900_9_u177/* >> perfect_cds_matches_by_liftoff_ids_isoseq.txt"
   ]
  },
  {
   "cell_type": "code",
   "execution_count": 37,
   "id": "3437c27b-ea83-44e7-82a7-1cf1826f3ba7",
   "metadata": {
    "tags": []
   },
   "outputs": [],
   "source": [
    "grep -P \"AUGUSTUS\\tmRNA\" parseval_test2_isoseq_augustus_at9900/at9900_9_u177/* >> genes_with_cds_hits_isoseq.txt"
   ]
  },
  {
   "cell_type": "code",
   "execution_count": 38,
   "id": "dcb68d72-0dbe-4b6d-b502-e5d6bb96902d",
   "metadata": {},
   "outputs": [],
   "source": [
    "bedtools intersect -c -a at9900.augustus-v2.3_mrna.gff3 -b isoseq/at9900.collapsed.tama.v2.gff3 > at9900_bedtools_number_of_isoforms_per_augustus_gene.txt"
   ]
  },
  {
   "cell_type": "code",
   "execution_count": 41,
   "id": "42814eca-d3ce-4efa-896e-69848924425d",
   "metadata": {},
   "outputs": [],
   "source": [
    "grep \"gene\" at9900_bedtools_number_of_isoforms_per_augustus_gene.txt > at9900_bedtools_number_of_isoforms_per_augustus_genes.txt"
   ]
  },
  {
   "cell_type": "code",
   "execution_count": 45,
   "id": "23ae6590-6b06-45c9-aa0e-a9ebc631c9ee",
   "metadata": {},
   "outputs": [
    {
     "name": "stdout",
     "output_type": "stream",
     "text": [
      "Error: Unable to open file ../../../../../../Gautam/iso_seq/tama_v2/at6137.collapsed.tama.v2.gff3. Exiting.\n"
     ]
    }
   ],
   "source": [
    "for accession in \"${dl20[@]}\"\n",
    "do\n",
    "bedtools intersect -c -a ../../../../output/01_assembly/01_pansn-named/${accession}.augustus-v2.3.gff3 -b ../../../../../../Gautam/iso_seq/tama_v2/${accession}.collapsed.tama.v2.gff3 > ${accession}_bedtools_number_of_isoforms_per_augustus_gene_all.txt\n",
    "done"
   ]
  },
  {
   "cell_type": "code",
   "execution_count": 47,
   "id": "c6b505d7-5c5b-49f4-8199-a7b89c43d99e",
   "metadata": {},
   "outputs": [],
   "source": [
    "for accession in \"${dl20[@]}\"\n",
    "do\n",
    "grep \"gene\" ${accession}_bedtools_number_of_isoforms_per_augustus_gene_all.txt > ${accession}_bedtools_number_of_isoforms_per_augustus_genes_all.txt\n",
    "done"
   ]
  },
  {
   "cell_type": "code",
   "execution_count": null,
   "id": "0626c162-2e04-4db0-8cde-de5914cd8355",
   "metadata": {},
   "outputs": [],
   "source": [
    "for accession in \"${dl20[@]}\"\n",
    "do\n",
    "\n",
    "#sed 's/transcript/mRNA/g' output/02_annotation/03_augustus-reannotation/${accession}~reduced-te-masked/02_augustus/${accession}~reduced-te-masked_augustus_spp-arabidopsis.idfix.gff3 > tmp/02_annotation/06_orthogrouping/parseval_test/augustus_reduced_te_masked_${accession}_test.gff\n",
    "#sed 's/transcript/mRNA/g' output/02_annotation/01_original-annotation-merged/${accession}.augustus-v2.3.gff3 > tmp/02_annotation/06_orthogrouping/parseval_test/augustus_${accession}_test.gff\n",
    "#grep -v \"intron\" tmp/02_annotation/06_orthogrouping/parseval_test/augustus_reduced_te_masked_${accession}_test.gff > tmp/02_annotation/06_orthogrouping/parseval_test/augustus_reduced_te_${accession}_test_nointrons.gff\n",
    "parseval -f html -p --summary -w -o parseval_test2_isoseq_augustus_${accession} at9900.augustus-v2.3_mrna.gff3 isoseq/at9900_mydb_pasa.gene_structures_post_PASA_updates.196744.gff3\n",
    "\n",
    "done\n",
    "\n",
    "#parseval -f html -p --summary -w -o parseval_test1_re_te_at9900 ../../../../output/01_assembly/01_pansn-named/at9900.augustus-v2.3.gff3 at9900.scaffolds-v2.3_liftoff_polished.gff3_polished_sans_weird_genes5.gff3\n",
    "parseval -f html -p --summary -w -o parseval_test3_isoseq_liftoff_at9900 at9900.scaffolds-v2.3_liftoff_polished.gff3_polished_sans_weird_genes5.gff3 isoseq/at9900_mydb_pasa.gene_structures_post_PASA_updates.196744.gff3\n",
    "\n"
   ]
  },
  {
   "cell_type": "code",
   "execution_count": 54,
   "id": "8166c6d8-5ac0-4fae-a994-11b7960b071c",
   "metadata": {},
   "outputs": [],
   "source": [
    "grep \"CDS segments structures match perfectly\" parseval_test3_isoseq_liftoff_at9900/at9900_9_u177/* >> perfect_cds_matches_by_liftoff_ids_isoseq_and_liftoff.txt"
   ]
  },
  {
   "cell_type": "code",
   "execution_count": 60,
   "id": "d787f7d5-9c7f-401c-98be-b6d87d5356a1",
   "metadata": {},
   "outputs": [
    {
     "ename": "",
     "evalue": "1",
     "output_type": "error",
     "traceback": []
    }
   ],
   "source": [
    "grep -P \"\\.\\tmRNA\" parseval_test3_isoseq_liftoff_at9900/at9900_9_u177/* >> genes_with_cds_hits_isoseq_and_liftoff.txt"
   ]
  },
  {
   "cell_type": "code",
   "execution_count": 68,
   "id": "dadd8d7a-7f22-42d7-ab38-286bd4989d34",
   "metadata": {},
   "outputs": [],
   "source": [
    "grep -P \"AUGUSTUS\\tmRNA\" parseval_test3_isoseq_liftoff_at9900/at9900_9_u177/* >> genes_with_cds_hits_isoseq_and_liftoff_.txt"
   ]
  }
 ],
 "metadata": {
  "kernelspec": {
   "display_name": "Bash",
   "language": "bash",
   "name": "bash"
  },
  "language_info": {
   "codemirror_mode": "shell",
   "file_extension": ".sh",
   "mimetype": "text/x-sh",
   "name": "bash"
  }
 },
 "nbformat": 4,
 "nbformat_minor": 5
}
