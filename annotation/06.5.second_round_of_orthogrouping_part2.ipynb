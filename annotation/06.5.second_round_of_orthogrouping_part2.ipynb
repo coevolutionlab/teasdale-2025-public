{
 "cells": [
  {
   "cell_type": "code",
   "execution_count": null,
   "id": "aa4fd1e4-a85c-4e35-bf3c-624f3fcd667e",
   "metadata": {},
   "outputs": [],
   "source": []
  },
  {
   "cell_type": "markdown",
   "id": "b0f2d0ed-65e8-4d53-8702-2182b3aa07d1",
   "metadata": {},
   "source": [
    "# Step 6. Second round of Orthogrouping"
   ]
  },
  {
   "cell_type": "code",
   "execution_count": 6,
   "id": "77ba597e-cbec-4593-ac00-c8d0e7cfdf2b",
   "metadata": {},
   "outputs": [],
   "source": [
    "conda activate dl20-orthogrouping\n",
    "# need gff2bed installed \n",
    "\n",
    "#See Luisa if you have questions"
   ]
  },
  {
   "cell_type": "markdown",
   "id": "63085a06-f036-45f2-83d3-de701f596ee7",
   "metadata": {},
   "source": [
    "Aims:\n",
    "\n",
    "- redo the orthogrouping based on the new annotations and perform several more rigorous orthogrouping analyses\n",
    "- Orthofinder for proteins\n",
    "- Orthofinder for nucleotide sequences of the coding region (including introns?)\n",
    "- Orthofinder for nucleotide sequences of the flanking regions (on their own)\n",
    "- Blast for inclusive clusters\n",
    "- Kmer based clustering for finer scale clusters\n",
    "- Graph based clustering?"
   ]
  },
  {
   "cell_type": "markdown",
   "id": "8ee0ddf3-c279-4238-af04-53b423fd25f9",
   "metadata": {},
   "source": [
    "### Part 1: Output nucleotide sequences for the coding regions and translate into aa"
   ]
  },
  {
   "cell_type": "markdown",
   "id": "9b96b0d3-2c3d-4af5-ab3c-1aa6a38bafc2",
   "metadata": {},
   "source": [
    "Input:\n",
    "- Fixed gffs (output/02_annotation/02_manual-curation-updated/at6137/${accession}.manualcuration.fixed.gff3)\n",
    "- Scaffolds (output/01_assembly/01_pansn-named/${accession}.scaffolds-v2.3.fasta)"
   ]
  },
  {
   "cell_type": "code",
   "execution_count": 7,
   "id": "218726b9-8dfe-46a9-ba38-5951e396949a",
   "metadata": {},
   "outputs": [],
   "source": [
    "dl20=(\n",
    "at6137 at6923 at6929 at7143\n",
    "at8285 at9104 at9336 at9503\n",
    "at9578 at9744 at9762 at9806\n",
    "at9830 at9847 at9852 at9879\n",
    "at9883 at9900\n",
    ")"
   ]
  },
  {
   "cell_type": "code",
   "execution_count": 11,
   "id": "251a3745-9136-4220-b3da-fb6c7051e431",
   "metadata": {},
   "outputs": [],
   "source": [
    "# output the fasta sequences\n",
    "mkdir -p tmp/02_annotation/06_orthogrouping/bed\n",
    "for accession in \"${dl20[@]}\"\n",
    "do \n",
    "gff2bed < output/02_annotation/02_manual-curation-updated/${accession}/${accession}.manualcuration.gff3 > tmp/02_annotation/06_orthogrouping/bed/${accession}_sorted.bed\n",
    "done"
   ]
  },
  {
   "cell_type": "code",
   "execution_count": 22,
   "id": "fb36c229-0557-45bc-b029-b5ce64b0b979",
   "metadata": {},
   "outputs": [],
   "source": [
    "mkdir -p tmp/02_annotation/06_orthogrouping/fasta\n",
    "for accession in \"${dl20[@]}\"\n",
    "do\n",
    "    grep gene tmp/02_annotation/06_orthogrouping/bed/${accession}_sorted.bed > tmp/02_annotation/06_orthogrouping/bed/${accession}_sorted_genes.bed\n",
    "    bedtools getfasta -s -name \\\n",
    "       -fi output/01_assembly/01_pansn-named/${accession}.scaffolds-v2.3.fasta \\\n",
    "       -bed tmp/02_annotation/06_orthogrouping/bed/${accession}_sorted_genes.bed > tmp/02_annotation/06_orthogrouping/fasta/${accession}_all_features.fasta\n",
    "done"
   ]
  },
  {
   "cell_type": "code",
   "execution_count": 31,
   "id": "61bd6a7b-ca08-4e56-bfa9-373fdd9153d7",
   "metadata": {},
   "outputs": [],
   "source": [
    "#Output original NLR orthogroups as orthogroup fasta files\n",
    "mkdir -p tmp/02_annotation/06_orthogrouping/original_orthogroup_fasta\n",
    "cp src/fasta_formatter_general_with_an_orthofinder_list_whole_genome.py tmp/02_annotation/06_orthogrouping/fasta/\n",
    "cp input/NLR_orthologs.csv tmp/02_annotation/06_orthogrouping/fasta/\n",
    "cd tmp/02_annotation/06_orthogrouping/fasta/\n",
    "python3 fasta_formatter_general_with_an_orthofinder_list_whole_genome.py -t NLR_orthologs.csv *.fasta\n",
    "mv *.fa ../../../../tmp/02_annotation/06_orthogrouping/original_orthogroup_fasta/\n",
    "rm fasta_formatter_general_with_an_orthofinder_list_whole_genome.py\n",
    "rm NLR_orthologs.csv\n",
    "cd ..\n",
    "cd ..\n",
    "cd ..\n",
    "cd .."
   ]
  },
  {
   "cell_type": "code",
   "execution_count": 38,
   "id": "993d0f0c-f18b-4ed8-b75f-d1b5a784810b",
   "metadata": {},
   "outputs": [],
   "source": [
    "# edit bed files such that you get 500bp flanking region\n",
    "\n",
    "mkdir -p tmp/02_annotation/06_orthogrouping/bed_flanking_500\n",
    "mkdir -p tmp/02_annotation/06_orthogrouping/fasta_flanking_500\n",
    "for accession in \"${dl20[@]}\"\n",
    "do\n",
    "    bedtools slop -i tmp/02_annotation/06_orthogrouping/bed/${accession}_sorted_genes.bed -g output/01_assembly/01_pansn-named/${accession}.scaffolds-v2.3.fasta.fai -b 500 > tmp/02_annotation/06_orthogrouping/bed_flanking_500/${accession}_sorted_genes_500_flanking.bed\n",
    "    bedtools getfasta -s -name \\\n",
    "       -fi output/01_assembly/01_pansn-named/${accession}.scaffolds-v2.3.fasta \\\n",
    "       -bed tmp/02_annotation/06_orthogrouping/bed_flanking_500/${accession}_sorted_genes_500_flanking.bed > tmp/02_annotation/06_orthogrouping/fasta_flanking_500/${accession}_all_features_flanking_500.fasta\n",
    "done\n"
   ]
  },
  {
   "cell_type": "code",
   "execution_count": 39,
   "id": "046a782e-f347-488f-aa02-b7e853fc8a0e",
   "metadata": {},
   "outputs": [],
   "source": [
    "#Output original NLR orthogroups as orthogroup fasta files with 500bp flanking either side of the gene\n",
    "mkdir -p tmp/02_annotation/06_orthogrouping/original_orthogroup_fasta_500bp_flanking\n",
    "cp src/fasta_formatter_general_with_an_orthofinder_list_whole_genome.py tmp/02_annotation/06_orthogrouping/fasta_flanking_500\n",
    "cp input/NLR_orthologs.csv tmp/02_annotation/06_orthogrouping/fasta_flanking_500/\n",
    "cd tmp/02_annotation/06_orthogrouping/fasta_flanking_500\n",
    "python3 fasta_formatter_general_with_an_orthofinder_list_whole_genome.py -t NLR_orthologs.csv *.fasta\n",
    "mv *.fa ../../../../tmp/02_annotation/06_orthogrouping/original_orthogroup_fasta_500bp_flanking/\n",
    "rm fasta_formatter_general_with_an_orthofinder_list_whole_genome.py\n",
    "rm NLR_orthologs.csv\n",
    "cd ..\n",
    "cd ..\n",
    "cd ..\n",
    "cd .."
   ]
  },
  {
   "cell_type": "code",
   "execution_count": 6,
   "id": "72e81789-acb8-4315-bcdd-8631d0304e43",
   "metadata": {},
   "outputs": [],
   "source": [
    "# using just the mRNA of the liftoff to pull out the fasta sequences\n",
    "\n",
    "mkdir -p tmp/02_annotation/06_orthogrouping/bed_liftoff\n",
    "for accession in \"${dl20[@]}\"\n",
    "do \n",
    "gff2bed < output/01_assembly/01_pansn-named/${accession}.liftoff-v2.3.gff > tmp/02_annotation/06_orthogrouping/bed_liftoff/${accession}_sorted.bed\n",
    "done\n"
   ]
  },
  {
   "cell_type": "code",
   "execution_count": 7,
   "id": "058c9aab-c544-4bf2-9bca-f20dfbfd0916",
   "metadata": {},
   "outputs": [],
   "source": [
    "mkdir -p tmp/02_annotation/06_orthogrouping/fasta_liftoff\n",
    "for accession in \"${dl20[@]}\"\n",
    "do\n",
    "    grep mRNA tmp/02_annotation/06_orthogrouping/bed_liftoff/${accession}_sorted.bed > tmp/02_annotation/06_orthogrouping/bed_liftoff/${accession}_sorted_mRNA.bed\n",
    "    bedtools getfasta -s -name \\\n",
    "       -fi output/01_assembly/01_pansn-named/${accession}.scaffolds-v2.3.fasta \\\n",
    "       -bed tmp/02_annotation/06_orthogrouping/bed_liftoff/${accession}_sorted_mRNA.bed > tmp/02_annotation/06_orthogrouping/fasta_liftoff/${accession}_all_features.fasta\n",
    "done"
   ]
  },
  {
   "cell_type": "code",
   "execution_count": 17,
   "id": "6253d84f-f617-4ecb-80aa-4b1f5fbdbc54",
   "metadata": {},
   "outputs": [],
   "source": [
    "#write own python editor for bed files to get the flanking region\n",
    "\n",
    "#tmp/02_annotation/06_orthogrouping/bed/${accession}_sorted_genes.bed\n",
    "\n",
    "mkdir -p tmp/02_annotation/06_orthogrouping/bed_with_max500_but_non-overlaping\n",
    "cp flanking_regions_bed_editor.py tmp/02_annotation/06_orthogrouping/bed/\n",
    "\n",
    "cd tmp/02_annotation/06_orthogrouping/bed/\n",
    "\n",
    "for accession in \"${dl20[@]}\"\n",
    "do \n",
    "    python3 flanking_regions_bed_editor.py \\\n",
    "    -g ${accession}_sorted_genes.bed \\\n",
    "    -f ../../../../output/01_assembly/01_pansn-named/${accession}.scaffolds-v2.3.fasta.fai \\\n",
    "    -m 500 > ../bed_with_max500_but_non-overlaping/${accession}_sorted_genes_with_flanking.bed\n",
    "done\n",
    "\n",
    "cd /home/luisa/work/detlef/difflines_annex/assembly-and-annotation/\n",
    "\n"
   ]
  },
  {
   "cell_type": "code",
   "execution_count": 19,
   "id": "bb2b8497-55ce-4693-8707-395cd11dcdf9",
   "metadata": {},
   "outputs": [],
   "source": [
    "mkdir -p tmp/02_annotation/06_orthogrouping/fasta_with_max100_flanking_but_not_overlaping\n",
    "for accession in \"${dl20[@]}\"\n",
    "do\n",
    "    bedtools getfasta -s -name \\\n",
    "       -fi output/01_assembly/01_pansn-named/${accession}.scaffolds-v2.3.fasta \\\n",
    "       -bed tmp/02_annotation/06_orthogrouping/bed_with_max500_but_non-overlaping/${accession}_sorted_genes_with_flanking.bed \\\n",
    "       > tmp/02_annotation/06_orthogrouping/fasta_with_max100_flanking_but_not_overlaping/${accession}_all_features_flanking.fasta\n",
    "done\n"
   ]
  },
  {
   "cell_type": "code",
   "execution_count": 20,
   "id": "28eb5c5c-0c1d-49f0-9ac4-5347c0817acf",
   "metadata": {},
   "outputs": [],
   "source": [
    "mkdir -p original_orthogroup_fasta_flanking_but_not_overlaping_500\n",
    "\n",
    "#Output original NLR orthogroups as orthogroup fasta files with 500bp flanking either side of the gene\n",
    "cp src/fasta_formatter_general_with_an_orthofinder_list_whole_genome.py tmp/02_annotation/06_orthogrouping/fasta_with_max100_flanking_but_not_overlaping/\n",
    "cp input/NLR_orthologs.csv tmp/02_annotation/06_orthogrouping/fasta_with_max100_flanking_but_not_overlaping/\n",
    "cd tmp/02_annotation/06_orthogrouping/fasta_with_max100_flanking_but_not_overlaping\n",
    "python3 fasta_formatter_general_with_an_orthofinder_list_whole_genome.py -t NLR_orthologs.csv *.fasta\n",
    "mv *.fa ../../../../tmp/02_annotation/06_orthogrouping/original_orthogroup_fasta_flanking_but_not_overlaping_500/\n",
    "rm fasta_formatter_general_with_an_orthofinder_list_whole_genome.py\n",
    "rm NLR_orthologs.csv\n",
    "cd ..\n",
    "cd ..\n",
    "cd ..\n",
    "cd .."
   ]
  },
  {
   "cell_type": "code",
   "execution_count": 14,
   "id": "696a8328-f20f-46b8-a4ae-e5c3d1a71966",
   "metadata": {},
   "outputs": [],
   "source": [
    "mkdir -p tmp/02_annotation/06_orthogrouping/parseval_test"
   ]
  },
  {
   "cell_type": "code",
   "execution_count": 26,
   "id": "e7b5f568-2719-4ed0-8507-7d72e27f7b3b",
   "metadata": {},
   "outputs": [],
   "source": [
    "sed 's/transcript/mRNA/g' output/02_annotation/03_augustus-reannotation/at6137~reduced-te-masked/02_augustus/at6137~reduced-te-masked_augustus_spp-arabidopsis.idfix.gff3 > tmp/02_annotation/06_orthogrouping/parseval_test/augustus_reduced_te_masked_at6137_test.gff"
   ]
  },
  {
   "cell_type": "code",
   "execution_count": 15,
   "id": "eee7ad7d-df87-44ad-b817-81ea1b7b25d8",
   "metadata": {},
   "outputs": [],
   "source": [
    "sed 's/transcript/mRNA/g' output/02_annotation/01_original-annotation-merged/at6137.augustus-v2.3.gff3 > tmp/02_annotation/06_orthogrouping/parseval_test/augustus_at6137_test.gff"
   ]
  },
  {
   "cell_type": "code",
   "execution_count": 27,
   "id": "10f6aa33-de45-4a77-9226-f4b2eb0c48b4",
   "metadata": {},
   "outputs": [],
   "source": [
    "grep -v \"intron\" tmp/02_annotation/06_orthogrouping/parseval_test/augustus_reduced_te_masked_at6137_test.gff > tmp/02_annotation/06_orthogrouping/parseval_test/augustus_reduced_te_at6137_test_nointrons.gff"
   ]
  },
  {
   "cell_type": "code",
   "execution_count": 19,
   "id": "2346803f-0730-48d3-a889-d0eb12363573",
   "metadata": {},
   "outputs": [
    {
     "name": "stdout",
     "output_type": "stream",
     "text": [
      "\n",
      "ParsEval: comparative analysis of two alternative sources of annotation\n",
      "Usage: parseval [options] reference.gff3 prediction.gff3\n",
      "  Basic options:\n",
      "    -d|--debug:                 Print debugging messages\n",
      "    -h|--help:                  Print help message and exit\n",
      "    -l|--delta: INT             Extend gene loci by this many nucleotides;\n",
      "                                default is 0\n",
      "    -V|--verbose:               Print verbose warning messages\n",
      "    -v|--version:               Print version number and exit\n",
      "\n",
      "  Output options:\n",
      "    -a|--datashare: STRING      Location from which to copy shared data for\n",
      "                                HTML output (if `make install' has not yet\n",
      "                                been run)\n",
      "    -f|--outformat: STRING      Indicate desired output format; possible\n",
      "                                options: 'csv', 'text', or 'html'\n",
      "                                (default='text'); in 'text' or 'csv' mode,\n",
      "                                will create a single file; in 'html' mode,\n",
      "                                will create a directory\n",
      "    -g|--nogff3:                Do no print GFF3 output corresponding to each\n",
      "                                comparison\n",
      "    -o|--outfile: FILENAME      File/directory to which output will be\n",
      "                                written; default is the terminal (STDOUT)\n",
      "    -p|--nopng:                 In HTML output mode, skip generation of PNG\n",
      "                                graphics for each gene locus\n",
      "    -s|--summary:               Only print summary statistics, do not print\n",
      "                                individual comparisons\n",
      "    -w|--overwrite:             Force overwrite of any existing output files\n",
      "    -x|--refrlabel: STRING      Optional label for reference annotations\n",
      "    -y|--predlabel: STRING      Optional label for prediction annotations\n",
      "\n",
      "  Filtering options:\n",
      "    -k|--makefilter             Create a default configuration file for\n",
      "                                filtering reported results and quit,\n",
      "                                performing no comparisons\n",
      "    -r|--filterfile: STRING     Use the indicated configuration file to\n",
      "                                filter reported results;\n",
      "    -t|--maxtrans: INT          Maximum transcripts allowed per locus; use 0\n",
      "                                to disable limit; default is 32\n",
      "\n"
     ]
    }
   ],
   "source": [
    "parseval --help"
   ]
  },
  {
   "cell_type": "code",
   "execution_count": 29,
   "id": "b7b0ba69-2cd3-4e4d-87c5-a216471f5dfe",
   "metadata": {},
   "outputs": [
    {
     "name": "stdout",
     "output_type": "stream",
     "text": [
      "error: mRNA 'g19461.t1' has 3 exons but 3 introns\n",
      "warning: found no valid mRNAs for gene 'g19461'\n"
     ]
    }
   ],
   "source": [
    "parseval -o parseval_test6_re_te --summary tmp/02_annotation/06_orthogrouping/parseval_test/augustus_at6137_test.gff tmp/02_annotation/06_orthogrouping/parseval_test/augustus_reduced_te_at6137_test_nointrons.gff"
   ]
  },
  {
   "cell_type": "code",
   "execution_count": 33,
   "id": "9ddf7a1d-fa6a-408a-9405-097fdfad525d",
   "metadata": {},
   "outputs": [
    {
     "name": "stdout",
     "output_type": "stream",
     "text": [
      "warning: seqid \"at6137_1_chr1\" on line 2 in file \"tmp/02_annotation/06_orthogrouping/parseval_test/augustus_reduced_te_at6137_test_nointrons.gff\" has not been previously introduced with a \"##sequence-region\" line, create such a line automatically\n",
      "warning: seqid \"at6137_1_chr2\" on line 157593 in file \"tmp/02_annotation/06_orthogrouping/parseval_test/augustus_reduced_te_at6137_test_nointrons.gff\" has not been previously introduced with a \"##sequence-region\" line, create such a line automatically\n",
      "warning: seqid \"at6137_1_chr3\" on line 265919 in file \"tmp/02_annotation/06_orthogrouping/parseval_test/augustus_reduced_te_at6137_test_nointrons.gff\" has not been previously introduced with a \"##sequence-region\" line, create such a line automatically\n",
      "warning: seqid \"at6137_1_chr4\" on line 402007 in file \"tmp/02_annotation/06_orthogrouping/parseval_test/augustus_reduced_te_at6137_test_nointrons.gff\" has not been previously introduced with a \"##sequence-region\" line, create such a line automatically\n",
      "warning: seqid \"at6137_1_chr5\" on line 493925 in file \"tmp/02_annotation/06_orthogrouping/parseval_test/augustus_reduced_te_at6137_test_nointrons.gff\" has not been previously introduced with a \"##sequence-region\" line, create such a line automatically\n",
      "warning: seqid \"at6137_9_u81\" on line 636037 in file \"tmp/02_annotation/06_orthogrouping/parseval_test/augustus_reduced_te_at6137_test_nointrons.gff\" has not been previously introduced with a \"##sequence-region\" line, create such a line automatically\n",
      "error: mRNA 'g19461.t1' has 3 exons but 3 introns\n",
      "warning: found no valid mRNAs for gene 'g19461'\n"
     ]
    }
   ],
   "source": [
    "parseval -f html -p -o parseval_test6_re_te_3 tmp/02_annotation/06_orthogrouping/parseval_test/augustus_reduced_te_at6137_test_nointrons.gff tmp/02_annotation/06_orthogrouping/parseval_test/augustus_at6137_test.gff"
   ]
  }
 ],
 "metadata": {
  "kernelspec": {
   "display_name": "Bash",
   "language": "bash",
   "name": "bash"
  },
  "language_info": {
   "codemirror_mode": "shell",
   "file_extension": ".sh",
   "mimetype": "text/x-sh",
   "name": "bash"
  }
 },
 "nbformat": 4,
 "nbformat_minor": 5
}
