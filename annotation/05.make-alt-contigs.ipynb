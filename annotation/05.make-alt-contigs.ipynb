{
 "cells": [
  {
   "cell_type": "markdown",
   "id": "90626a70-3d67-4e95-a6aa-c9bf50eb062f",
   "metadata": {},
   "source": [
    "# Step 5. Make alt contigs (specifically test set of contigs for short read genotyping)"
   ]
  },
  {
   "cell_type": "code",
   "execution_count": 27,
   "id": "embedded-glossary",
   "metadata": {},
   "outputs": [],
   "source": [
    "conda activate dl20-orthologs\n",
    "git annex get output/02_annotation/01_original-annotation-merged/at6137*\n",
    "git annex get output/01_assembly/02_masked/at6137.scaffolds.unmasked.fasta*"
   ]
  },
  {
   "cell_type": "code",
   "execution_count": 28,
   "id": "acquired-doctor",
   "metadata": {},
   "outputs": [],
   "source": [
    "mkdir -p tmp/ortho/mkseqs/ tmp/ortho/seqs"
   ]
  },
  {
   "cell_type": "code",
   "execution_count": 32,
   "id": "prescription-canyon",
   "metadata": {},
   "outputs": [
    {
     "name": "stdout",
     "output_type": "stream",
     "text": [
      "********************************************************************************\n",
      "*                              - Start parsing -                               *\n",
      "********************************************************************************\n",
      "-------------------------- parse options and metadata --------------------------\n",
      "=> Accessing the feature level json files\n",
      "\tUsing standard /home/kevin/.mambaforge/envs/dl20-orthologs/lib/perl5/site_perl/auto/share/dist/AGAT/features_level1.json file\n",
      "\tUsing standard /home/kevin/.mambaforge/envs/dl20-orthologs/lib/perl5/site_perl/auto/share/dist/AGAT/features_level2.json file\n",
      "\tUsing standard /home/kevin/.mambaforge/envs/dl20-orthologs/lib/perl5/site_perl/auto/share/dist/AGAT/features_level3.json file\n",
      "\tUsing standard /home/kevin/.mambaforge/envs/dl20-orthologs/lib/perl5/site_perl/auto/share/dist/AGAT/features_spread.json file\n",
      "=> Attribute used to group features when no Parent/ID relationship exists (i.e common tag):\n",
      "\t* locus_tag\n",
      "\t* gene_id\n",
      "=> merge_loci option deactivated\n",
      "=> Machine information:\n",
      "\tThis script is being run by perl v5.32.1\n",
      "\tBioperl location being used: /home/kevin/.mambaforge/envs/dl20-orthologs/lib/perl5/site_perl/Bio/\n",
      "\tOperating system being used: linux \n",
      "=> Accessing Ontology\n",
      "\tNo ontology accessible from the gff file header!\n",
      "\tWe use the SOFA ontology distributed with AGAT:\n",
      "\t\t/home/kevin/.mambaforge/envs/dl20-orthologs/lib/perl5/site_perl/auto/share/dist/AGAT/so.obo\n",
      "\tRead ontology /home/kevin/.mambaforge/envs/dl20-orthologs/lib/perl5/site_perl/auto/share/dist/AGAT/so.obo:\n",
      "\t\t4 root terms, and 2596 total terms, and 1516 leaf terms\n",
      "\tFiltering ontology:\n",
      "\t\tWe found 1861 terms that are sequence_feature or is_a child of it.\n",
      "--------------------------------- parsing file ---------------------------------\n",
      "=> Number of line in file: 980456\n",
      "=> Number of comment lines: 573649\n",
      "=> Fasta included: No\n",
      "=> Number of features lines: 406807\n",
      "=> Number of feature type (3rd column): 6\n",
      "\t* Level1: 1 => gene\n",
      "\t* level2: 1 => transcript\n",
      "\t* level3: 4 => intron stop_codon CDS start_codon\n",
      "\t* unknown: 0 => \n",
      "=> Version of the Bioperl GFF parser selected by AGAT: 3\n",
      "Parsing: 100% [======================================================]D 0h00m43s\n",
      "********************************************************************************\n",
      "*                               - End parsing -                                *\n",
      "*                              done in 46 seconds                              *\n",
      "********************************************************************************\n",
      "\n",
      "********************************************************************************\n",
      "*                               - Start checks -                               *\n",
      "********************************************************************************\n",
      "---------------------------- Check1: feature types -----------------------------\n",
      "----------------------------------- ontology -----------------------------------\n",
      "All feature types in agreement with the Ontology.\n",
      "------------------------------------- agat -------------------------------------\n",
      "AGAT can deal with all the encountered feature types (3rd column)\n",
      "------------------------------ done in 0 seconds -------------------------------\n",
      "\n",
      "------------------------------ Check2: duplicates ------------------------------\n",
      "None found\n",
      "------------------------------ done in 0 seconds -------------------------------\n",
      "\n",
      "-------------------------- Check3: sequential bucket ---------------------------\n",
      "Nothing to check as sequential bucket!\n",
      "------------------------------ done in 0 seconds -------------------------------\n",
      "\n",
      "--------------------------- Check4: l2 linked to l3 ----------------------------\n",
      "No problem found\n",
      "------------------------------ done in 0 seconds -------------------------------\n",
      "\n",
      "--------------------------- Check5: l1 linked to l2 ----------------------------\n",
      "No problem found\n",
      "------------------------------ done in 0 seconds -------------------------------\n",
      "\n",
      "--------------------------- Check6: remove orphan l1 ---------------------------\n",
      "We remove only those not supposed to be orphan\n",
      "None found\n",
      "------------------------------ done in 0 seconds -------------------------------\n",
      "\n",
      "------------------------- Check7: all level3 locations -------------------------\n",
      "------------------------------ done in 3 seconds -------------------------------\n",
      "\n",
      "------------------------------ Check8: check cds -------------------------------\n",
      "No problem found\n",
      "------------------------------ done in 1 seconds -------------------------------\n",
      "\n",
      "----------------------------- Check9: check exons ------------------------------\n",
      "163579 exons created that were missing\n",
      "1 exons locations modified that were wrong\n",
      "No supernumerary exons removed\n",
      "No level2 locations modified\n",
      "------------------------------ done in 9 seconds -------------------------------\n",
      "\n",
      "----------------------------- Check10: check utrs ------------------------------\n",
      "1 UTRs created that were missing\n",
      "No UTRs locations modified\n",
      "No supernumerary UTRs removed\n",
      "------------------------------ done in 4 seconds -------------------------------\n",
      "\n",
      "------------------------ Check11: all level2 locations -------------------------\n",
      "No problem found\n",
      "------------------------------ done in 5 seconds -------------------------------\n",
      "\n",
      "------------------------ Check12: all level1 locations -------------------------\n",
      "No problem found\n",
      "------------------------------ done in 1 seconds -------------------------------\n",
      "\n",
      "---------------------- Check13: remove identical isoforms ----------------------\n",
      "None found\n",
      "------------------------------ done in 0 seconds -------------------------------\n",
      "********************************************************************************\n",
      "*                                - End checks -                                *\n",
      "*                              done in 23 seconds                              *\n",
      "********************************************************************************\n",
      "\n",
      "=> OmniscientI total time: 69 seconds\n"
     ]
    }
   ],
   "source": [
    "agat_convert_sp_gff2bed.pl \\\n",
    "    --gff output/02_annotation/01_original-annotation-merged/at6137.augustus-v2.3.gff3 \\\n",
    "    --sub transcript \\\n",
    "    --out tmp/ortho/mkseqs/at6137.transcript.bed"
   ]
  },
  {
   "cell_type": "code",
   "execution_count": 38,
   "id": "comic-tuner",
   "metadata": {},
   "outputs": [],
   "source": [
    "awk '{printf(\"%s:%d-%d(%s)\\t%s|%s\\n\", $1, $2, $3, $6, $1, $4);}' \\\n",
    "    < tmp/ortho/mkseqs/at6137.transcript.bed \\\n",
    "    > tmp/ortho/mkseqs/at6137.renamer.tsv"
   ]
  },
  {
   "cell_type": "code",
   "execution_count": 39,
   "id": "hidden-swift",
   "metadata": {},
   "outputs": [],
   "source": [
    "bedtools getfasta \\\n",
    "    -s -fullHeader \\\n",
    "    -bed tmp/ortho/mkseqs/at6137.transcript.bed \\\n",
    "    -fi output/01_assembly/02_masked/at6137.scaffolds.unmasked.fasta \\\n",
    "    -fo tmp/ortho/seqs/at6137.transcript.fasta"
   ]
  },
  {
   "cell_type": "code",
   "execution_count": 41,
   "id": "progressive-knock",
   "metadata": {},
   "outputs": [
    {
     "name": "stdout",
     "output_type": "stream",
     "text": [
      "[INFO]\u001b[0m read key-value file: tmp/ortho/mkseqs/at6137.renamer.tsv\n",
      "[INFO]\u001b[0m 31972 pairs of key-value loaded\n"
     ]
    }
   ],
   "source": [
    "seqkit replace -p '^(.*)$' -r '{kv}  $1' \\\n",
    "    -k tmp/ortho/mkseqs/at6137.renamer.tsv \\\n",
    "    tmp/ortho/seqs/at6137.transcript.fasta \\\n",
    "    >tmp/ortho/seqs/at6137.trascript.rename.fasta"
   ]
  },
  {
   "cell_type": "code",
   "execution_count": null,
   "id": "handmade-centre",
   "metadata": {},
   "outputs": [],
   "source": []
  }
 ],
 "metadata": {
  "jupytext": {
   "formats": "ipynb,sh:light"
  },
  "kernelspec": {
   "display_name": "Bash",
   "language": "bash",
   "name": "bash"
  },
  "language_info": {
   "codemirror_mode": "shell",
   "file_extension": ".sh",
   "mimetype": "text/x-sh",
   "name": "bash"
  }
 },
 "nbformat": 4,
 "nbformat_minor": 5
}
