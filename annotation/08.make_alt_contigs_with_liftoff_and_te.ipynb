{
 "cells": [
  {
   "cell_type": "markdown",
   "id": "6d88177b-1fa9-481a-bec6-7476415be006",
   "metadata": {},
   "source": [
    "# 08. Produce alt contigs for omnidopsis project\n",
    "\n",
    "specifically for split orthogroups which do not contain a sequence from at9852"
   ]
  },
  {
   "cell_type": "code",
   "execution_count": 1,
   "id": "6ec9fcac-4d09-48b7-a942-308eaaf649b9",
   "metadata": {
    "tags": []
   },
   "outputs": [],
   "source": [
    "conda activate dl20"
   ]
  },
  {
   "cell_type": "code",
   "execution_count": 2,
   "id": "03ff6457-a785-4623-9c57-1d52d8359a00",
   "metadata": {},
   "outputs": [],
   "source": [
    "dl20=(\n",
    "at6137 at6923 at6929 at7143\n",
    "at8285 at9104 at9336 at9503\n",
    "at9578 at9744 at9762 at9806\n",
    "at9830 at9847 at9852 at9879\n",
    "at9883 at9900\n",
    ")"
   ]
  },
  {
   "cell_type": "code",
   "execution_count": 3,
   "id": "59c4eab5-bc60-4518-91b6-a1c33b64cfd3",
   "metadata": {},
   "outputs": [],
   "source": [
    "mkdir -p tmp/altcontigs output/03_alt-contigs/"
   ]
  },
  {
   "cell_type": "markdown",
   "id": "e2a30868-e94d-4fe7-8a98-b66c30317ef1",
   "metadata": {},
   "source": [
    "## Get list of orthogroups *not* in 9852"
   ]
  },
  {
   "cell_type": "code",
   "execution_count": 4,
   "id": "0dda02b0-67b2-44f4-8361-76cd0813da2a",
   "metadata": {},
   "outputs": [],
   "source": [
    "# list of split orthogroups that don't contain at9852\n",
    "grep \"at9852\" -L ../luisa-misc/panrg-for-luisas-talk/input/all_fasta_70/* \\\n",
    " > tmp/altcontigs/split_orthologs_missing_at9852.txt\n",
    " \n",
    "grep \"at9744\" -L ../luisa-misc/panrg-for-luisas-talk/input/all_fasta_70/* \\\n",
    " > tmp/altcontigs/split_orthologs_missing_at9852.txt\n",
    "\n",
    "grep \"at7143\" -L ../luisa-misc/panrg-for-luisas-talk/input/all_fasta_70/* \\\n",
    " > tmp/altcontigs/split_orthologs_missing_at9852.txt"
   ]
  },
  {
   "cell_type": "markdown",
   "id": "6436b309-04c5-4b71-b170-c47e3e71b9b2",
   "metadata": {},
   "source": [
    "Cat this sequences to get a list of sequences from which to select alt contigs"
   ]
  },
  {
   "cell_type": "markdown",
   "id": "001024c9-d2ee-44c3-9ad0-0da38aadfed9",
   "metadata": {},
   "source": [
    "## Prepare TE annotation"
   ]
  },
  {
   "cell_type": "code",
   "execution_count": 5,
   "id": "37dc5cf0-6da7-4ff5-a096-a90f2b1e8ca3",
   "metadata": {},
   "outputs": [],
   "source": [
    "# Pansn rename the reduced TE gffs\n",
    "# TODO: move this to the original pansn-naming notebook\n",
    "\n",
    "THIS ONE IS NOT NEEDED FOR NEW TE ANNOTATIONS\n",
    "\n",
    "for accession in \"${dl20[@]}\"\n",
    "do \n",
    "grep \"^$accession\" input/2022-07-16_curated-repeat-annotation-adri/pangenome_TEannotation_intacts.gff3 | \\\n",
    "    ./src/pansn-rename -R '_' -d '#' -D '_' -m cat \\\n",
    "        -r output/01_assembly/01_pansn-named/${accession}.scaffolds-v2.3.fasta.fai \\\n",
    "        -o output/01_assembly/01_pansn-named/${accession}_reduced_TE_anno_adri_2022-07-06.gff3 \\\n",
    "        -\n",
    "done"
   ]
  },
  {
   "cell_type": "markdown",
   "id": "2fb8459a-ba78-4684-871b-8d88f043d295",
   "metadata": {},
   "source": [
    "tmp/altcontigs/bed/Araport_sorted_just_genes.bed## Merge TE annotation with liftoff annotation"
   ]
  },
  {
   "cell_type": "code",
   "execution_count": 6,
   "id": "ca993bd3-09a3-48d3-9861-1c872d65313f",
   "metadata": {},
   "outputs": [],
   "source": [
    "for accession in \"${dl20[@]}\"\n",
    "do \n",
    "    # Extract just the genes from the liftoff annotations, convert to bed\n",
    "    awk '$3 == \"gene\" && $9 ~ /.*Note=protein_coding_gene.*/{print $0}' \\\n",
    "        <output/01_assembly/01_pansn-named/${accession}.liftoff-v2.3.gff \\\n",
    "    | sed -e 's/;.*//' \\\n",
    "    | gff2bed > tmp/altcontigs/${accession}_liftoff-genes.bed\n",
    "    \n",
    "    # Merge the TE annotations with the liftoff such that you can retrieve the fasta sequence for \n",
    "    # all the gene models of interest with a nominal amount of flanking sequence that does not read\n",
    "    # into the neighboring genes or TEs. Then convert to bed\n",
    "    bedtools subtract -a ../TE_annotation/output/New_TE_annotations_from_Adrian/split_by_accession/${accession}_TEintact.gff3 \\\n",
    "        -b output/02_annotation/01_original-annotation-merged/${accession}.liftoff-v2.3.gff3 \\\n",
    "        -A \\\n",
    "    | gff2bed \\\n",
    "      > tmp/altcontigs/${accession}_reduced-te_sans_ingene_te.bed\n",
    "   \n",
    "    cat tmp/altcontigs/${accession}_liftoff-genes.bed \\\n",
    "        tmp/altcontigs/${accession}_reduced-te_sans_ingene_te.bed \\\n",
    "    | bedtools sort \\\n",
    "        -i - \\\n",
    "        > tmp/altcontigs/${accession}_te_and_liftoff_annotations_sorted.bed\n",
    "    \n",
    "done"
   ]
  },
  {
   "cell_type": "markdown",
   "id": "7e477c34-e0ad-4eb7-9f7b-5be66362d838",
   "metadata": {},
   "source": [
    "## Extract genes + flanking sequences"
   ]
  },
  {
   "cell_type": "code",
   "execution_count": 7,
   "id": "41ac0967-be85-48b3-bd70-69015175d41f",
   "metadata": {},
   "outputs": [],
   "source": [
    "for accession in \"${dl20[@]}\"\n",
    "do\n",
    "    python3 src/flanking_regions_bed_editor.py \\\n",
    "        -g tmp/altcontigs/${accession}_te_and_liftoff_annotations_sorted.bed \\\n",
    "        -f output/01_assembly/01_pansn-named/${accession}.scaffolds-v2.3.fasta.fai \\\n",
    "        -m 300 \\\n",
    "        > tmp/altcontigs/${accession}_te_and_liftoff_annotations_withflanking.bed\n",
    "\n",
    "    bedtools getfasta -s -name \\\n",
    "       -fi output/01_assembly/01_pansn-named/${accession}.scaffolds-v2.3.fasta \\\n",
    "       -bed tmp/altcontigs/${accession}_te_and_liftoff_annotations_withflanking.bed \\\n",
    "       > tmp/altcontigs/${accession}_all-annotated-features-with-flanking.fasta\n",
    "done"
   ]
  },
  {
   "cell_type": "markdown",
   "id": "4eae3d51-8dc6-4480-830d-86d2de823f00",
   "metadata": {},
   "source": [
    "## Find which araport IDs match which augustus IDs in the orthofinder"
   ]
  },
  {
   "cell_type": "code",
   "execution_count": 8,
   "id": "901088df-b967-4dba-b163-23d1356367a6",
   "metadata": {},
   "outputs": [],
   "source": [
    "for accession in \"${dl20[@]}\"\n",
    "do\n",
    "    awk '$3 == \"gene\"{print $0}' \\\n",
    "        <output/01_assembly/01_pansn-named/${accession}.augustus-v2.3.gff3 \\\n",
    "    | gff2bed > tmp/altcontigs/${accession}.augustus-v2.3.bed\n",
    "        \n",
    "    bedtools intersect -wo \\\n",
    "       -a tmp/altcontigs/${accession}_liftoff-genes.bed \\\n",
    "       -b tmp/altcontigs/${accession}.augustus-v2.3.bed \\\n",
    "    | cut -f 4,14 \\\n",
    "       > tmp/altcontigs/${accession}_intersect_augustus_and_liftoff.txt\n",
    "    \n",
    "done"
   ]
  },
  {
   "cell_type": "code",
   "execution_count": 8,
   "id": "4e3ace62-80dc-42b0-b06c-285713ba7662",
   "metadata": {},
   "outputs": [],
   "source": [
    "ls tmp/altcontigs/*_all-annotated-features-with-flanking.fasta >tmp/altcontigs/flankingfasta.fofn\n",
    "ls tmp/altcontigs/*_intersect_augustus_and_liftoff.txt >tmp/altcontigs/intersection.fofn"
   ]
  },
  {
   "cell_type": "code",
   "execution_count": 9,
   "id": "aa2f91c8-0f25-48e5-aac4-6ad8dbdf9cb7",
   "metadata": {},
   "outputs": [
    {
     "name": "stdout",
     "output_type": "stream",
     "text": [
      "OG0020285 at6137_g5522\n",
      "OG0007265 at6137_g6115\n",
      "OG0022220 at6137_g21652\n",
      "OG0020405 at6929_g6217\n",
      "OG0022364 at6929_g22410\n",
      "OG0026014 at6929_g26254\n",
      "OG0028700 at6929_g29227\n",
      "OG0024998 at6929_g31604\n",
      "OG0026847 at8285_g11465\n",
      "OG0000620 at9104_g5957\n",
      "OG0020448 at9104_g6550\n",
      "OG0027951 at9104_g6873\n",
      "OG0027952 at9104_g6874\n",
      "OG0020726 at9104_g9493\n",
      "OG0028295 at9104_g28785\n",
      "OG0000324 at9104_g29306\n",
      "OG0027372 at9336_g5529\n",
      "OG0027136 at9336_g29934\n",
      "OG0002663 at9336_g30113\n",
      "OG0027953 at9503_g6879\n",
      "OG0024379 at9503_g29586\n",
      "OG0001611 at9578_g5520\n",
      "OG0026328 at9578_g29845\n",
      "OG0001142 at9744_g5555\n",
      "OG0000695 at9744_g30441\n",
      "OG0027994 at9744_g30442\n",
      "OG0028258 at9762_g5710\n",
      "OG0024861 at9762_g6924\n",
      "OG0002657 at9762_g29124\n",
      "OG0002449 at9806_g5466\n",
      "OG0007341 at9806_g6211\n",
      "OG0024899 at9806_g13595\n",
      "OG0021707 at9830_g25928\n",
      "OG0017972 at9830_g29540\n",
      "OG0000122 at9847_g17563\n",
      "OG0002638 at9847_g26643\n",
      "OG0002178 at9847_g29787\n",
      "OG0029188 at9847_g29789\n",
      "OG0022223 at9852_g21399\n",
      "OG0016891 at9852_g26174\n",
      "OG0017991 at9852_g29361\n",
      "OG0026553 at9879_g2661\n",
      "OG0000197 at9879_g22978\n",
      "OG0001755 at9879_g27128\n",
      "OG0024409 at9879_g32533\n",
      "OG0028256 at9883_g5526\n",
      "OG0029189 at9883_g29944\n",
      "OG0000160 at9900_g5815\n",
      "OG0001979 at9900_g29068\n"
     ]
    }
   ],
   "source": [
    "python3 src/pick_alt_contigs.py \\\n",
    "    -o output/03_alt-contigs/alt_contigs_20230110.fasta \\\n",
    "    -f tmp/altcontigs/split_orthologs_missing_at9852.txt \\\n",
    "    -F tmp/altcontigs/flankingfasta.fofn \\\n",
    "    -b tmp/altcontigs/intersection.fofn"
   ]
  },
  {
   "cell_type": "code",
   "execution_count": 11,
   "id": "35857750-1757-4ff3-b9af-f098762b1dd4",
   "metadata": {},
   "outputs": [
    {
     "name": "stdout",
     "output_type": "stream",
     "text": [
      "98 output/03_alt-contigs/alt_contigs_20230110.fasta\n"
     ]
    }
   ],
   "source": [
    "wc -l output/03_alt-contigs/alt_contigs_20230110.fasta"
   ]
  },
  {
   "cell_type": "markdown",
   "id": "b374a419-e7e4-46c6-83e5-71dcee2095cb",
   "metadata": {},
   "source": [
    "## Make the bedfiles for the reference genomes"
   ]
  },
  {
   "cell_type": "code",
   "execution_count": 13,
   "id": "a9728dd2-cba6-4daf-9eaf-a2f5603ad221",
   "metadata": {},
   "outputs": [],
   "source": [
    "references=(\n",
    "at7143 at9852 at9744\n",
    ")"
   ]
  },
  {
   "cell_type": "code",
   "execution_count": 14,
   "id": "3275c160-5248-4e73-b457-ce73ca2cd622",
   "metadata": {},
   "outputs": [],
   "source": [
    "mkdir -p tmp/altcontigs/bed"
   ]
  },
  {
   "cell_type": "code",
   "execution_count": 21,
   "id": "778ee704-e5c9-4ef5-81b6-54062bf0fc17",
   "metadata": {},
   "outputs": [],
   "source": [
    "gff2bed < output/01_assembly/01_pansn-named/${references}.augustus-v2.3.gff3 > tmp/altcontigs/bed/${references}_sorted.bed\n",
    "grep \"gene\" tmp/altcontigs/bed/${references}_sorted.bed > tmp/altcontigs/bed/${references}_sorted_just_genes.bed"
   ]
  },
  {
   "cell_type": "code",
   "execution_count": 31,
   "id": "497ffdf4-6c4b-4034-9e93-0a1e1905a24c",
   "metadata": {},
   "outputs": [],
   "source": [
    "gff2bed < output/01_assembly/01_pansn-named/Araport.gff3 > tmp/altcontigs/bed/Araport_sorted.bed\n",
    "grep \"Araport11\"$'\\t'\"gene\" tmp/altcontigs/bed/Araport_sorted.bed > tmp/altcontigs/bed/Araport_sorted_just_genes.bed"
   ]
  }
 ],
 "metadata": {
  "kernelspec": {
   "display_name": "Bash",
   "language": "bash",
   "name": "bash"
  },
  "language_info": {
   "codemirror_mode": "shell",
   "file_extension": ".sh",
   "mimetype": "text/x-sh",
   "name": "bash"
  }
 },
 "nbformat": 4,
 "nbformat_minor": 5
}
