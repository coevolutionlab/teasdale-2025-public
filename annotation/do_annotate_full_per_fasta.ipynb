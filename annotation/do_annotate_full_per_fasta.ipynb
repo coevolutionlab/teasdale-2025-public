{
 "cells": [
  {
   "cell_type": "markdown",
   "id": "6f45f803-889d-4955-ada7-15b8091d461c",
   "metadata": {},
   "source": [
    "# Full annotation pipeline from Max\n",
    "\n",
    "This is a parametric notebook (see next cell) which will annotate using Max's full annotation pipeline a given A. thaliana reference fasta file."
   ]
  },
  {
   "cell_type": "code",
   "execution_count": null,
   "id": "1dd4db89-9372-4adf-9182-adac9307f8d1",
   "metadata": {
    "tags": [
     "parameters"
    ]
   },
   "outputs": [],
   "source": [
    "ACCESSION=at6137\n",
    "SCAFFOLD_TITLE=\"unmasked\"\n",
    "SCAFFOLDS=NOTFOUND.fasta\n",
    "OUTDIR=NOTFOUND\n",
    "NCPUS=${NSLOTS:-64}\n",
    "REFERENCE_GENES_GFF=output/01_assembly/01_pansn-named/Araport.gff3\n",
    "REFERENCE_SCAFFOLDS=output/01_assembly/01_pansn-named/Araport.scaffolds.fasta"
   ]
  },
  {
   "cell_type": "code",
   "execution_count": null,
   "id": "f3157c34-1b55-4e07-bf07-32405a25986c",
   "metadata": {},
   "outputs": [],
   "source": [
    "conda activate dl20-annotate"
   ]
  },
  {
   "cell_type": "markdown",
   "id": "27a22a5f-f5ca-40fe-bec3-abe2d750ab95",
   "metadata": {},
   "source": [
    "# Step 1: liftoff\n",
    "\n",
    "This recreates max's `6_gene_annotation/2_liftoff/2_masked/run_liftoff.sh`. We use Araport.gff + Araport.scaffolds.fasta as the TAIR10 reference."
   ]
  },
  {
   "cell_type": "code",
   "execution_count": null,
   "id": "019e4fe4-e055-472e-94db-84dae0e6560c",
   "metadata": {},
   "outputs": [],
   "source": [
    "mkdir -p ${OUTDIR}/01_liftoff/\n",
    "mkdir -p ${OUTDIR}/tmp/01_liftoff"
   ]
  },
  {
   "cell_type": "code",
   "execution_count": null,
   "id": "512aa27f-6bbd-464f-bf9d-59d829697332",
   "metadata": {},
   "outputs": [],
   "source": [
    "liftoff \\\n",
    "    -exclude_partial \\\n",
    "    -dir ${OUTDIR}/tmp/01_liftoff/ \\\n",
    "    -g $REFERENCE_GENES_GFF \\\n",
    "    -o ${OUTDIR}/01_liftoff/${ACCESSION}~${SCAFFOLD_TITLE}.liftoff.gff \\\n",
    "    -u ${OUTDIR}/01_liftoff/${ACCESSION}~${SCAFFOLD_TITLE}.liftoff.unmapped.gff \\\n",
    "    -copies \\\n",
    "    -p $NCPUS \\\n",
    "    $SCAFFOLDS \\\n",
    "    $REFERENCE_SCAFFOLDS"
   ]
  },
  {
   "cell_type": "code",
   "execution_count": null,
   "id": "96eee7f5-b7f9-4b96-99fd-049682a061d7",
   "metadata": {},
   "outputs": [],
   "source": [
    "awk 'BEGIN{FS=OFS=\"\\t\"}$3 == \"exon\" || $3 == \"CDS\"{print $1, $2, $3, $4, $5, $6, $7, $8, $9 \",source=T\"}' \\\n",
    "    < ${OUTDIR}/01_liftoff/${ACCESSION}~${SCAFFOLD_TITLE}.liftoff.gff \\\n",
    "    > ${OUTDIR}/01_liftoff/${ACCESSION}~${SCAFFOLD_TITLE}.liftoff.hints\n"
   ]
  },
  {
   "cell_type": "markdown",
   "id": "35026e8a-ea63-40a7-9745-d69c69093f3a",
   "metadata": {
    "tags": []
   },
   "source": [
    "# Step 2: Augustus\n",
    "\n",
    "This is derived from `6_gene_annotation/4_augustus/2_annotation/runAugustus.sh`."
   ]
  },
  {
   "cell_type": "markdown",
   "id": "dc949aa7-0132-49cd-81f1-655f3bcf8b09",
   "metadata": {},
   "source": [
    "## Step 2.1: Augustus annotation from inbuilt `arabidopsis` trained species dataset\n",
    "\n",
    "This runs augustus with `--species=arabidopsis`, i.e. the pre-trained weights the augutstus authors have trained on TAIR10."
   ]
  },
  {
   "cell_type": "code",
   "execution_count": null,
   "id": "d5da296b-934b-4a61-9244-2e82b3ca8a7d",
   "metadata": {},
   "outputs": [],
   "source": [
    "mkdir -p ${OUTDIR}/02_augustus/\n",
    "mkdir -p ${OUTDIR}/tmp/02_augustus/01_seqsplit/"
   ]
  },
  {
   "cell_type": "code",
   "execution_count": null,
   "id": "3406848d-17c4-403e-9dc9-6b847768fe96",
   "metadata": {},
   "outputs": [],
   "source": [
    "seqkit split -i -f -O ${OUTDIR}/tmp/02_augustus/01_seqsplit/ $SCAFFOLDS"
   ]
  },
  {
   "cell_type": "code",
   "execution_count": null,
   "id": "f01731ea-2be9-4f82-bcdc-1f774052c3ee",
   "metadata": {},
   "outputs": [],
   "source": [
    "mkdir -p ${OUTDIR}/tmp/02_augustus/02_spp-arabiopsis/\n",
    "parallel -j $NCPUS augustus \\\n",
    "    --species=arabidopsis \\\n",
    "    --softmasking=1 \\\n",
    "    --hintsfile=${OUTDIR}/01_liftoff/${ACCESSION}~${SCAFFOLD_TITLE}.liftoff.hints \\\n",
    "    --extrinsicCfgFile=input/max-augustus-config_newtest.cfg \\\n",
    "    --gff3=on \\\n",
    "    {} \\> ${OUTDIR}/tmp/02_augustus/02_spp-arabiopsis/{/}.gff3 \\\n",
    "    ::: ${OUTDIR}/tmp/02_augustus/01_seqsplit/*.fasta\n",
    "    \n",
    "cat ${OUTDIR}/tmp/02_augustus/02_spp-arabiopsis/*.gff3 \\\n",
    "    >  ${OUTDIR}/02_augustus/${ACCESSION}~${SCAFFOLD_TITLE}_augustus_spp-arabidopsis.gff3"
   ]
  },
  {
   "cell_type": "markdown",
   "id": "7abb598b-b48b-46c1-a8ec-82becd546149",
   "metadata": {},
   "source": [
    "Fix up IDs as they re-start every chromosome."
   ]
  },
  {
   "cell_type": "code",
   "execution_count": null,
   "id": "9a6fc4a6-1ff6-40b2-b865-28cad91b0100",
   "metadata": {},
   "outputs": [],
   "source": [
    "conda activate dl20-gff"
   ]
  },
  {
   "cell_type": "code",
   "execution_count": null,
   "id": "722f4e01-f24a-45fd-84a6-690c93a308b0",
   "metadata": {},
   "outputs": [],
   "source": [
    "agat_sq_manage_IDs.pl \\\n",
    "    --gff \"${OUTDIR}/02_augustus/${ACCESSION}~${SCAFFOLD_TITLE}_augustus_spp-arabidopsis.gff3\" \\\n",
    "    -o \"${OUTDIR}/02_augustus/${ACCESSION}~${SCAFFOLD_TITLE}_augustus_spp-arabidopsis.idfix.gff3\""
   ]
  }
 ],
 "metadata": {
  "kernelspec": {
   "display_name": "Bash",
   "language": "bash",
   "name": "bash"
  },
  "language_info": {
   "codemirror_mode": "shell",
   "file_extension": ".sh",
   "mimetype": "text/x-sh",
   "name": "bash"
  }
 },
 "nbformat": 4,
 "nbformat_minor": 5
}
