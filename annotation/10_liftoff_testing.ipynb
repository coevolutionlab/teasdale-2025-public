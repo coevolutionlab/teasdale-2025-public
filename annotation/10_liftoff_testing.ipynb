{
 "cells": [
  {
   "cell_type": "markdown",
   "id": "3eb18b22-fca1-48bc-9f15-b3a6ea9d7112",
   "metadata": {},
   "source": [
    "# Luisa test ground for liftoff annotations"
   ]
  },
  {
   "cell_type": "code",
   "execution_count": 1,
   "id": "55d3edb3-4f29-4025-a7e8-d3ecfeaddb01",
   "metadata": {},
   "outputs": [
    {
     "name": "stdout",
     "output_type": "stream",
     "text": [
      "(dl20-orthogrouping) \n"
     ]
    }
   ],
   "source": [
    "conda activate dl20-orthogrouping"
   ]
  },
  {
   "cell_type": "code",
   "execution_count": 2,
   "id": "cb34001e-0820-4f0b-a88b-e4845d9cb01f",
   "metadata": {},
   "outputs": [
    {
     "name": "stdout",
     "output_type": "stream",
     "text": [
      "(dl20-orthogrouping) \n"
     ]
    }
   ],
   "source": [
    "dl20=(\n",
    "at6137 at6923 at6929 at7143\n",
    "at8285 at9104 at9336 at9503\n",
    "at9578 at9744 at9762 at9806\n",
    "at9830 at9847 at9852\n",
    "at9883 at9900\n",
    ")"
   ]
  },
  {
   "cell_type": "code",
   "execution_count": 6,
   "id": "299b5a71-98d0-4061-bb14-f91a2be85def",
   "metadata": {},
   "outputs": [
    {
     "name": "stdout",
     "output_type": "stream",
     "text": [
      "(dl20-orthogrouping) \n"
     ]
    }
   ],
   "source": [
    "dl20=(\n",
    "at9503 at9578 at9883\n",
    ")"
   ]
  },
  {
   "cell_type": "code",
   "execution_count": 3,
   "id": "743e1b12-81c2-49c0-9b24-aaa83d6702ce",
   "metadata": {
    "collapsed": true,
    "jupyter": {
     "outputs_hidden": true
    },
    "tags": []
   },
   "outputs": [
    {
     "name": "stdout",
     "output_type": "stream",
     "text": [
      "extracting features\n",
      "2023-01-31 12:27:44,746 - INFO - Populating features\n",
      "2023-01-31 12:28:29,936 - INFO - Populating features table and first-order relations: 789400 features\n",
      "2023-01-31 12:28:29,936 - INFO - Updating relations\n",
      "2023-01-31 12:28:35,809 - INFO - Creating relations(parent) index\n",
      "2023-01-31 12:28:36,258 - INFO - Creating relations(child) index\n",
      "2023-01-31 12:28:36,822 - INFO - Creating features(featuretype) index\n",
      "2023-01-31 12:28:37,177 - INFO - Creating features (seqid, start, end) index\n",
      "2023-01-31 12:28:37,534 - INFO - Creating features (seqid, start, end, strand) index\n",
      "2023-01-31 12:28:37,911 - INFO - Running ANALYZE features\n",
      "aligning features\n",
      "[M::main::1.153*0.99] loaded/built the index for 5 target sequence(s)\n",
      "[M::mm_mapopt_update::1.498*0.99] mid_occ = 116\n",
      "[M::mm_idx_stat] kmer size: 15; skip: 10; is_hpc: 0; #seq: 5\n",
      "[M::mm_idx_stat::1.732*0.99] distinct minimizers: 15848382 (79.20% are singletons); average occurrences: 1.658; average spacing: 5.358\n",
      "[M::worker_pipeline::26.625*1.00] mapped 33252 sequences\n",
      "[M::main] Version: 2.17-r941\n",
      "[M::main] CMD: minimap2 -o intermediate_files/reference_all_to_target_all.sam -a --end-bonus 5 --eqx -N 50 -p 0.5 -t 1 output/01_assembly/01_pansn-named/at9879_chr2_fixed/at9879.scaffolds-v2.3_chr2_fixed.fasta.mmi intermediate_files/reference_all_genes.fa\n",
      "[M::main] Real time: 26.649 sec; CPU: 26.621 sec; Peak RSS: 2.924 GB\n",
      "lifting features\n",
      "polishing annotations\n",
      "extracting features\n",
      "2023-01-31 12:32:22,573 - INFO - Populating features\n",
      "2023-01-31 12:33:07,774 - INFO - Populating features table and first-order relations: 789400 features\n",
      "2023-01-31 12:33:07,775 - INFO - Updating relations\n",
      "2023-01-31 12:33:13,620 - INFO - Creating relations(parent) index\n",
      "2023-01-31 12:33:14,088 - INFO - Creating relations(child) index\n",
      "2023-01-31 12:33:14,646 - INFO - Creating features(featuretype) index\n",
      "2023-01-31 12:33:15,004 - INFO - Creating features (seqid, start, end) index\n",
      "2023-01-31 12:33:15,373 - INFO - Creating features (seqid, start, end, strand) index\n",
      "2023-01-31 12:33:15,781 - INFO - Running ANALYZE features\n",
      "aligning features\n",
      "[M::main::1.052*0.99] loaded/built the index for 9 target sequence(s)\n",
      "[M::mm_mapopt_update::1.368*0.99] mid_occ = 105\n",
      "[M::mm_idx_stat] kmer size: 15; skip: 10; is_hpc: 0; #seq: 9\n",
      "[M::mm_idx_stat::1.600*0.99] distinct minimizers: 15726471 (79.53% are singletons); average occurrences: 1.600; average spacing: 5.352\n",
      "[M::worker_pipeline::25.597*1.00] mapped 33252 sequences\n",
      "[M::main] Version: 2.17-r941\n",
      "[M::main] CMD: minimap2 -o intermediate_files/reference_all_to_target_all.sam -a --end-bonus 5 --eqx -N 50 -p 0.5 -t 1 output/01_assembly/01_pansn-named/at9900.scaffolds-v2.3.fasta.mmi intermediate_files/reference_all_genes.fa\n",
      "[M::main] Real time: 25.611 sec; CPU: 25.599 sec; Peak RSS: 2.920 GB\n",
      "lifting features\n",
      "polishing annotations\n"
     ]
    }
   ],
   "source": [
    "#for accession in \"${dl20[@]}\"\n",
    "#do\n",
    "\n",
    "liftoff -g output/01_assembly/01_pansn-named/Araport.gff3 \\\n",
    "        -polish -o output/04_analyses_with_fixed_at9879/01_polished_araport/liftoff/at9879.scaffolds-v2.3_liftoff_polished.gff3 \\\n",
    "        output/01_assembly/01_pansn-named/at9879_chr2_fixed/at9879.scaffolds-v2.3_chr2_fixed.fasta \\\n",
    "        output/01_assembly/01_pansn-named/Araport.scaffolds.fasta\n",
    "liftoff -g output/01_assembly/01_pansn-named/Araport.gff3 \\\n",
    "        -polish -o output/04_analyses_with_fixed_at9879/01_polished_araport/liftoff/at9900.scaffolds-v2.3_liftoff_polished.gff3 \\\n",
    "        output/01_assembly/01_pansn-named/at9900.scaffolds-v2.3.fasta\\\n",
    "        output/01_assembly/01_pansn-named/Araport.scaffolds.fasta\n",
    "\n",
    "#done"
   ]
  },
  {
   "cell_type": "code",
   "execution_count": 2,
   "id": "eb2e5065-feea-469a-9a83-919c2832354c",
   "metadata": {},
   "outputs": [],
   "source": [
    "mkdir -p output/04_analyses_with_fixed_at9879/01_polished_araport_liftoff_TAIR10"
   ]
  },
  {
   "cell_type": "code",
   "execution_count": 7,
   "id": "66700553-ece8-4805-a9bd-17568d1a4b2f",
   "metadata": {
    "collapsed": true,
    "jupyter": {
     "outputs_hidden": true
    },
    "tags": []
   },
   "outputs": [
    {
     "name": "stdout",
     "output_type": "stream",
     "text": [
      "usage: liftoff [-h] (-g GFF | -db DB) [-o FILE] [-u FILE] [-exclude_partial]\n",
      "               [-dir DIR] [-mm2_options =STR] [-a A] [-s S] [-d D] [-flank F]\n",
      "               [-V] [-p P] [-m PATH] [-f TYPES] [-infer_genes]\n",
      "               [-infer_transcripts] [-chroms TXT] [-unplaced TXT] [-copies]\n",
      "               [-sc SC] [-overlap O] [-mismatch M] [-gap_open GO]\n",
      "               [-gap_extend GE] [-polish] [-cds]\n",
      "               target reference\n",
      "\n",
      "Lift features from one genome assembly to another\n",
      "\n",
      "Required input (sequences):\n",
      "  target              target fasta genome to lift genes to\n",
      "  reference           reference fasta genome to lift genes from\n",
      "\n",
      "Required input (annotation):\n",
      "  -g GFF              annotation file to lift over in GFF or GTF format\n",
      "  -db DB              name of feature database; if not specified, the -g\n",
      "                      argument must be provided and a database will be built\n",
      "                      automatically\n",
      "\n",
      "Output:\n",
      "  -o FILE             write output to FILE in same format as input; by\n",
      "                      default, output is written to terminal (stdout)\n",
      "  -u FILE             write unmapped features to FILE; default is\n",
      "                      \"unmapped_features.txt\"\n",
      "  -exclude_partial    write partial mappings below -s and -a threshold to\n",
      "                      unmapped_features.txt; if true partial/low sequence\n",
      "                      identity mappings will be included in the gff file with\n",
      "                      partial_mapping=True, low_identity=True in comments\n",
      "  -dir DIR            name of directory to save intermediate fasta and SAM\n",
      "                      files; default is \"intermediate_files\"\n",
      "\n",
      "Alignments:\n",
      "  -mm2_options =STR   space delimited minimap2 parameters. By default =\"-a\n",
      "                      --end-bonus 5 --eqx -N 50 -p 0.5\"\n",
      "  -a A                designate a feature mapped only if it aligns with\n",
      "                      coverage ≥A; by default A=0.5\n",
      "  -s S                designate a feature mapped only if its child features\n",
      "                      (usually exons/CDS) align with sequence identity ≥S; by\n",
      "                      default S=0.5\n",
      "  -d D                distance scaling factor; alignment nodes separated by\n",
      "                      more than a factor of D in the target genome will not be\n",
      "                      connected in the graph; by default D=2.0\n",
      "  -flank F            amount of flanking sequence to align as a fraction\n",
      "                      [0.0-1.0] of gene length. This can improve gene\n",
      "                      alignment where gene structure differs between target\n",
      "                      and reference; by default F=0.0\n",
      "\n",
      "Miscellaneous settings:\n",
      "  -h, --help          show this help message and exit\n",
      "  -V, --version       show program version\n",
      "  -p P                use p parallel processes to accelerate alignment; by\n",
      "                      default p=1\n",
      "  -m PATH             Minimap2 path\n",
      "  -f TYPES            list of feature types to lift over\n",
      "  -infer_genes        use if annotation file only includes transcripts,\n",
      "                      exon/CDS features\n",
      "  -infer_transcripts  use if annotation file only includes exon/CDS features\n",
      "                      and does not include transcripts/mRNA\n",
      "  -chroms TXT         comma seperated file with corresponding chromosomes in\n",
      "                      the reference,target sequences\n",
      "  -unplaced TXT       text file with name(s) of unplaced sequences to map\n",
      "                      genes from after genes from chromosomes in chroms.txt\n",
      "                      are mapped; default is \"unplaced_seq_names.txt\"\n",
      "  -copies             look for extra gene copies in the target genome\n",
      "  -sc SC              with -copies, minimum sequence identity in exons/CDS for\n",
      "                      which a gene is considered a copy; must be greater than\n",
      "                      -s; default is 1.0\n",
      "  -overlap O          maximum fraction [0.0-1.0] of overlap allowed by 2\n",
      "                      features; by default O=0.1\n",
      "  -mismatch M         mismatch penalty in exons when finding best mapping; by\n",
      "                      default M=2\n",
      "  -gap_open GO        gap open penalty in exons when finding best mapping; by\n",
      "                      default GO=2\n",
      "  -gap_extend GE      gap extend penalty in exons when finding best mapping;\n",
      "                      by default GE=1\n",
      "  -polish\n",
      "  -cds                annotate status of each CDS (partial, missing start,\n",
      "                      missing stop, inframe stop codon)\n",
      "(dl20-orthogrouping) \n"
     ]
    }
   ],
   "source": [
    "liftoff -h"
   ]
  },
  {
   "cell_type": "code",
   "execution_count": 8,
   "id": "2fc9f7cd-9f90-45ad-a10b-985bbf9a9713",
   "metadata": {
    "collapsed": true,
    "jupyter": {
     "outputs_hidden": true
    },
    "tags": []
   },
   "outputs": [
    {
     "name": "stdout",
     "output_type": "stream",
     "text": [
      "extracting features\n",
      "2023-02-01 15:29:42,948 - INFO - Populating features\n",
      "2023-02-01 15:30:12,956 - INFO - Populating features table and first-order relations: 590263 features\n",
      "2023-02-01 15:30:12,956 - INFO - Updating relations\n",
      "2023-02-01 15:30:20,330 - INFO - Creating relations(parent) index\n",
      "2023-02-01 15:30:21,714 - INFO - Creating relations(child) index\n",
      "2023-02-01 15:30:22,427 - INFO - Creating features(featuretype) index\n",
      "2023-02-01 15:30:23,060 - INFO - Creating features (seqid, start, end) index\n",
      "2023-02-01 15:30:23,322 - INFO - Creating features (seqid, start, end, strand) index\n",
      "2023-02-01 15:30:23,609 - INFO - Running ANALYZE features\n",
      "aligning features\n",
      "[M::main::1.106*0.98] loaded/built the index for 7 target sequence(s)\n",
      "[M::mm_mapopt_update::1.372*0.99] mid_occ = 100\n",
      "[M::mm_idx_stat] kmer size: 15; skip: 10; is_hpc: 0; #seq: 7\n",
      "[M::mm_idx_stat::1.564*0.99] distinct minimizers: 15775165 (79.40% are singletons); average occurrences: 1.615; average spacing: 5.354; total length: 136407965\n",
      "[M::worker_pipeline::26.271*1.00] mapped 28775 sequences\n",
      "[M::main] Version: 2.24-r1122\n",
      "[M::main] CMD: minimap2 -o intermediate_files/reference_all_to_target_all.sam -a --end-bonus 5 --eqx -N 50 -p 0.5 -t 1 output/01_assembly/01_pansn-named/at9503.scaffolds-v2.3.fasta.mmi intermediate_files/reference_all_genes.fa\n",
      "[M::main] Real time: 26.291 sec; CPU: 26.267 sec; Peak RSS: 1.088 GB\n",
      "lifting features\n",
      "polishing annotations\n",
      "extracting features\n",
      "2023-02-01 15:33:18,878 - INFO - Populating features\n",
      "2023-02-01 15:33:49,065 - INFO - Populating features table and first-order relations: 590263 features\n",
      "2023-02-01 15:33:49,065 - INFO - Updating relations\n",
      "2023-02-01 15:33:56,042 - INFO - Creating relations(parent) index\n",
      "2023-02-01 15:33:57,301 - INFO - Creating relations(child) index\n",
      "2023-02-01 15:33:57,925 - INFO - Creating features(featuretype) index\n",
      "2023-02-01 15:33:58,469 - INFO - Creating features (seqid, start, end) index\n",
      "2023-02-01 15:33:58,726 - INFO - Creating features (seqid, start, end, strand) index\n",
      "2023-02-01 15:33:59,000 - INFO - Running ANALYZE features\n",
      "aligning features\n",
      "[M::mm_idx_gen::3.045*0.97] collected minimizers\n",
      "[M::mm_idx_gen::5.012*0.98] sorted minimizers\n",
      "@SQ\tSN:at9578_1_chr1\tLN:33401629\n",
      "@SQ\tSN:at9578_1_chr2\tLN:21734620\n",
      "@SQ\tSN:at9578_1_chr3\tLN:26348032\n",
      "@SQ\tSN:at9578_1_chr4\tLN:23817584\n",
      "@SQ\tSN:at9578_1_chr5\tLN:30154809\n",
      "@SQ\tSN:at9578_9_u75\tLN:267603\n",
      "@PG\tID:minimap2\tPN:minimap2\tVN:2.24-r1122\tCL:minimap2 -d output/01_assembly/01_pansn-named/at9578.scaffolds-v2.3.fasta.mmi -a --end-bonus 5 --eqx -N 50 -p 0.5 -t 1 output/01_assembly/01_pansn-named/at9578.scaffolds-v2.3.fasta\n",
      "[M::main::5.551*0.98] loaded/built the index for 6 target sequence(s)\n",
      "[M::mm_idx_stat] kmer size: 15; skip: 10; is_hpc: 0; #seq: 6\n",
      "[M::mm_idx_stat::5.741*0.98] distinct minimizers: 15769706 (79.50% are singletons); average occurrences: 1.609; average spacing: 5.349; total length: 135724277\n",
      "[M::main] Version: 2.24-r1122\n",
      "[M::main] CMD: minimap2 -d output/01_assembly/01_pansn-named/at9578.scaffolds-v2.3.fasta.mmi -a --end-bonus 5 --eqx -N 50 -p 0.5 -t 1 output/01_assembly/01_pansn-named/at9578.scaffolds-v2.3.fasta\n",
      "[M::main] Real time: 5.933 sec; CPU: 5.721 sec; Peak RSS: 1.310 GB\n",
      "[M::main::0.837*1.03] loaded/built the index for 6 target sequence(s)\n",
      "[M::mm_mapopt_update::1.125*1.02] mid_occ = 102\n",
      "[M::mm_idx_stat] kmer size: 15; skip: 10; is_hpc: 0; #seq: 6\n",
      "[M::mm_idx_stat::1.315*1.02] distinct minimizers: 15769706 (79.50% are singletons); average occurrences: 1.609; average spacing: 5.349; total length: 135724277\n",
      "[M::worker_pipeline::25.853*1.00] mapped 28775 sequences\n",
      "[M::main] Version: 2.24-r1122\n",
      "[M::main] CMD: minimap2 -o intermediate_files/reference_all_to_target_all.sam -a --end-bonus 5 --eqx -N 50 -p 0.5 -t 1 output/01_assembly/01_pansn-named/at9578.scaffolds-v2.3.fasta.mmi intermediate_files/reference_all_genes.fa\n",
      "[M::main] Real time: 25.866 sec; CPU: 25.875 sec; Peak RSS: 1.088 GB\n",
      "lifting features\n",
      "polishing annotations\n",
      "extracting features\n",
      "2023-02-01 15:37:00,757 - INFO - Populating features\n",
      "2023-02-01 15:37:31,456 - INFO - Populating features table and first-order relations: 590263 features\n",
      "2023-02-01 15:37:31,456 - INFO - Updating relations\n",
      "2023-02-01 15:37:38,561 - INFO - Creating relations(parent) index\n",
      "2023-02-01 15:37:39,891 - INFO - Creating relations(child) index\n",
      "2023-02-01 15:37:40,516 - INFO - Creating features(featuretype) index\n",
      "2023-02-01 15:37:41,081 - INFO - Creating features (seqid, start, end) index\n",
      "2023-02-01 15:37:41,336 - INFO - Creating features (seqid, start, end, strand) index\n",
      "2023-02-01 15:37:41,607 - INFO - Running ANALYZE features\n",
      "aligning features\n",
      "[M::main::1.011*1.00] loaded/built the index for 5 target sequence(s)\n",
      "[M::mm_mapopt_update::1.265*1.00] mid_occ = 111\n",
      "[M::mm_idx_stat] kmer size: 15; skip: 10; is_hpc: 0; #seq: 5\n",
      "[M::mm_idx_stat::1.456*1.00] distinct minimizers: 15691127 (79.50% are singletons); average occurrences: 1.647; average spacing: 5.361; total length: 138592812\n",
      "[M::worker_pipeline::25.305*1.00] mapped 28775 sequences\n",
      "[M::main] Version: 2.24-r1122\n",
      "[M::main] CMD: minimap2 -o intermediate_files/reference_all_to_target_all.sam -a --end-bonus 5 --eqx -N 50 -p 0.5 -t 1 output/01_assembly/01_pansn-named/at9852.scaffolds-v2.3.fasta.mmi intermediate_files/reference_all_genes.fa\n",
      "[M::main] Real time: 25.318 sec; CPU: 25.313 sec; Peak RSS: 1.089 GB\n",
      "lifting features\n",
      "polishing annotations\n",
      "extracting features\n",
      "2023-02-01 15:40:37,287 - INFO - Populating features\n",
      "2023-02-01 15:41:07,879 - INFO - Populating features table and first-order relations: 590263 features\n",
      "2023-02-01 15:41:07,880 - INFO - Updating relations\n",
      "2023-02-01 15:41:15,172 - INFO - Creating relations(parent) index\n",
      "2023-02-01 15:41:16,502 - INFO - Creating relations(child) index\n",
      "2023-02-01 15:41:17,129 - INFO - Creating features(featuretype) index\n",
      "2023-02-01 15:41:17,703 - INFO - Creating features (seqid, start, end) index\n",
      "2023-02-01 15:41:17,959 - INFO - Creating features (seqid, start, end, strand) index\n",
      "2023-02-01 15:41:18,233 - INFO - Running ANALYZE features\n",
      "aligning features\n",
      "[M::mm_idx_gen::2.964*0.97] collected minimizers\n",
      "[M::mm_idx_gen::4.923*0.98] sorted minimizers\n",
      "@SQ\tSN:at9883_1_chr1\tLN:33747718\n",
      "@SQ\tSN:at9883_1_chr2\tLN:23266240\n",
      "@SQ\tSN:at9883_1_chr3\tLN:26028663\n",
      "@SQ\tSN:at9883_1_chr4\tLN:23936058\n",
      "@SQ\tSN:at9883_1_chr5\tLN:29492918\n",
      "@SQ\tSN:at9883_9_u26\tLN:111558\n",
      "@SQ\tSN:at9883_9_u121\tLN:182247\n",
      "@PG\tID:minimap2\tPN:minimap2\tVN:2.24-r1122\tCL:minimap2 -d output/01_assembly/01_pansn-named/at9883.scaffolds-v2.3.fasta.mmi -a --end-bonus 5 --eqx -N 50 -p 0.5 -t 1 output/01_assembly/01_pansn-named/at9883.scaffolds-v2.3.fasta\n",
      "[M::main::5.458*0.98] loaded/built the index for 7 target sequence(s)\n",
      "[M::mm_idx_stat] kmer size: 15; skip: 10; is_hpc: 0; #seq: 7\n",
      "[M::mm_idx_stat::5.649*0.99] distinct minimizers: 15743378 (79.40% are singletons); average occurrences: 1.624; average spacing: 5.349; total length: 136765402\n",
      "[M::main] Version: 2.24-r1122\n",
      "[M::main] CMD: minimap2 -d output/01_assembly/01_pansn-named/at9883.scaffolds-v2.3.fasta.mmi -a --end-bonus 5 --eqx -N 50 -p 0.5 -t 1 output/01_assembly/01_pansn-named/at9883.scaffolds-v2.3.fasta\n",
      "[M::main] Real time: 5.847 sec; CPU: 5.673 sec; Peak RSS: 1.315 GB\n",
      "[M::main::0.842*1.03] loaded/built the index for 7 target sequence(s)\n",
      "[M::mm_mapopt_update::1.094*1.02] mid_occ = 108\n",
      "[M::mm_idx_stat] kmer size: 15; skip: 10; is_hpc: 0; #seq: 7\n",
      "[M::mm_idx_stat::1.283*1.02] distinct minimizers: 15743378 (79.40% are singletons); average occurrences: 1.624; average spacing: 5.349; total length: 136765402\n",
      "[M::worker_pipeline::25.581*1.00] mapped 28775 sequences\n",
      "[M::main] Version: 2.24-r1122\n",
      "[M::main] CMD: minimap2 -o intermediate_files/reference_all_to_target_all.sam -a --end-bonus 5 --eqx -N 50 -p 0.5 -t 1 output/01_assembly/01_pansn-named/at9883.scaffolds-v2.3.fasta.mmi intermediate_files/reference_all_genes.fa\n",
      "[M::main] Real time: 25.594 sec; CPU: 25.605 sec; Peak RSS: 1.089 GB\n",
      "lifting features\n",
      "polishing annotations\n",
      "(dl20-orthogrouping) \n"
     ]
    }
   ],
   "source": [
    "for accession in \"${dl20[@]}\"\n",
    "do\n",
    "\n",
    "liftoff -g input/max_liftoff_input/TAIR10_GFF3_genes.gff \\\n",
    "        -polish -o output/04_analyses_with_fixed_at9879/01_polished_araport_liftoff_TAIR10/${accession}.scaffolds-v2.3_liftoff_polished.gff3 \\\n",
    "        output/01_assembly/01_pansn-named/${accession}.scaffolds-v2.3.fasta \\\n",
    "        input/max_liftoff_input/TAIR10_chr_all.renamed.fas\n",
    "        \n",
    "done"
   ]
  },
  {
   "cell_type": "code",
   "execution_count": 9,
   "id": "1238a415-1b1a-485e-a33a-72b555f49180",
   "metadata": {},
   "outputs": [
    {
     "name": "stdout",
     "output_type": "stream",
     "text": [
      "extracting features\n",
      "2023-02-01 15:45:26,949 - INFO - Populating features\n",
      "2023-02-01 15:45:57,639 - INFO - Populating features table and first-order relations: 590263 features\n",
      "2023-02-01 15:45:57,639 - INFO - Updating relations\n",
      "2023-02-01 15:46:04,805 - INFO - Creating relations(parent) index\n",
      "2023-02-01 15:46:06,142 - INFO - Creating relations(child) index\n",
      "2023-02-01 15:46:06,766 - INFO - Creating features(featuretype) index\n",
      "2023-02-01 15:46:07,323 - INFO - Creating features (seqid, start, end) index\n",
      "2023-02-01 15:46:07,582 - INFO - Creating features (seqid, start, end, strand) index\n",
      "2023-02-01 15:46:07,855 - INFO - Running ANALYZE features\n",
      "aligning features\n",
      "[M::mm_idx_gen::2.893*1.01] collected minimizers\n",
      "[M::mm_idx_gen::4.904*1.00] sorted minimizers\n",
      "@SQ\tSN:at9879_1_chr1\tLN:34155544\n",
      "@SQ\tSN:at9879_1_chr2\tLN:24779077\n",
      "@SQ\tSN:at9879_1_chr3\tLN:27173682\n",
      "@SQ\tSN:at9879_1_chr4\tLN:23300978\n",
      "@SQ\tSN:at9879_1_chr5\tLN:31396706\n",
      "@PG\tID:minimap2\tPN:minimap2\tVN:2.24-r1122\tCL:minimap2 -d output/01_assembly/01_pansn-named/at9879_chr2_fixed/at9879.scaffolds-v2.3_chr2_fixed.fasta.mmi -a --end-bonus 5 --eqx -N 50 -p 0.5 -t 1 output/01_assembly/01_pansn-named/at9879_chr2_fixed/at9879.scaffolds-v2.3_chr2_fixed.fasta\n",
      "[M::main::5.444*1.00] loaded/built the index for 5 target sequence(s)\n",
      "[M::mm_idx_stat] kmer size: 15; skip: 10; is_hpc: 0; #seq: 5\n",
      "[M::mm_idx_stat::5.634*1.00] distinct minimizers: 15848382 (79.20% are singletons); average occurrences: 1.658; average spacing: 5.358; total length: 140805987\n",
      "[M::main] Version: 2.24-r1122\n",
      "[M::main] CMD: minimap2 -d output/01_assembly/01_pansn-named/at9879_chr2_fixed/at9879.scaffolds-v2.3_chr2_fixed.fasta.mmi -a --end-bonus 5 --eqx -N 50 -p 0.5 -t 1 output/01_assembly/01_pansn-named/at9879_chr2_fixed/at9879.scaffolds-v2.3_chr2_fixed.fasta\n",
      "[M::main] Real time: 5.852 sec; CPU: 5.741 sec; Peak RSS: 1.330 GB\n",
      "[M::main::0.853*1.02] loaded/built the index for 5 target sequence(s)\n",
      "[M::mm_mapopt_update::1.126*1.02] mid_occ = 116\n",
      "[M::mm_idx_stat] kmer size: 15; skip: 10; is_hpc: 0; #seq: 5\n",
      "[M::mm_idx_stat::1.316*1.02] distinct minimizers: 15848382 (79.20% are singletons); average occurrences: 1.658; average spacing: 5.358; total length: 140805987\n",
      "[M::worker_pipeline::26.213*1.00] mapped 28775 sequences\n",
      "[M::main] Version: 2.24-r1122\n",
      "[M::main] CMD: minimap2 -o intermediate_files/reference_all_to_target_all.sam -a --end-bonus 5 --eqx -N 50 -p 0.5 -t 1 output/01_assembly/01_pansn-named/at9879_chr2_fixed/at9879.scaffolds-v2.3_chr2_fixed.fasta.mmi intermediate_files/reference_all_genes.fa\n",
      "[M::main] Real time: 26.228 sec; CPU: 26.240 sec; Peak RSS: 1.094 GB\n",
      "lifting features\n",
      "polishing annotations\n",
      "(dl20-orthogrouping) \n"
     ]
    }
   ],
   "source": [
    "liftoff -g input/max_liftoff_input/TAIR10_GFF3_genes.gff \\\n",
    "        -polish -o output/04_analyses_with_fixed_at9879/01_polished_araport_liftoff_TAIR10/at9879.scaffolds-v2.3_liftoff_polished.gff3 \\\n",
    "        output/01_assembly/01_pansn-named/at9879_chr2_fixed/at9879.scaffolds-v2.3_chr2_fixed.fasta \\\n",
    "        input/max_liftoff_input/TAIR10_chr_all.renamed.fas"
   ]
  },
  {
   "cell_type": "code",
   "execution_count": 7,
   "id": "d60d5e03-d26e-46d6-9f4d-c32dad89d37e",
   "metadata": {
    "tags": []
   },
   "outputs": [
    {
     "name": "stdout",
     "output_type": "stream",
     "text": [
      "(dl20-orthogrouping) \n",
      "(dl20-orthogrouping) \n",
      "extracting features\n",
      "@SQ\tSN:at9852_1_chr1\tLN:33329944\n",
      "@SQ\tSN:at9852_1_chr2\tLN:23396451\n",
      "@SQ\tSN:at9852_1_chr3\tLN:26358531\n",
      "@SQ\tSN:at9852_1_chr4\tLN:24203097\n",
      "@SQ\tSN:at9852_1_chr5\tLN:31304789\n",
      "@PG\tID:minimap2\tPN:minimap2\tVN:2.24-r1122\tCL:minimap2 -d output/01_assembly/01_pansn-named/at9852.scaffolds-v2.3.fasta.mmi -a --end-bonus 5 --eqx -N 50 -p 0.5 -t 1 output/01_assembly/01_pansn-named/at9852.scaffolds-v2.3.fasta\n",
      "aligning features\n",
      "lifting features\n",
      "polishing annotations\n",
      "2023-02-01 15:18:13,215 - INFO - Populating features\n",
      "2023-02-01 15:18:43,475 - INFO - Populating features table and first-order relations: 590263 features\n",
      "2023-02-01 15:18:43,476 - INFO - Updating relations\n",
      "2023-02-01 15:18:51,301 - INFO - Creating relations(parent) index\n",
      "2023-02-01 15:18:52,858 - INFO - Creating relations(child) index\n",
      "2023-02-01 15:18:53,547 - INFO - Creating features(featuretype) index\n",
      "2023-02-01 15:18:54,222 - INFO - Creating features (seqid, start, end) index\n",
      "2023-02-01 15:18:54,493 - INFO - Creating features (seqid, start, end, strand) index\n",
      "2023-02-01 15:18:54,781 - INFO - Running ANALYZE features\n",
      "[M::mm_idx_gen::3.318*0.97] collected minimizers\n",
      "[M::mm_idx_gen::5.365*0.98] sorted minimizers\n",
      "[M::main::5.940*0.98] loaded/built the index for 5 target sequence(s)\n",
      "[M::mm_idx_stat] kmer size: 15; skip: 10; is_hpc: 0; #seq: 5\n",
      "[M::mm_idx_stat::6.149*0.98] distinct minimizers: 15691127 (79.50% are singletons); average occurrences: 1.647; average spacing: 5.361; total length: 138592812\n",
      "[M::main] Version: 2.24-r1122\n",
      "[M::main] CMD: minimap2 -d output/01_assembly/01_pansn-named/at9852.scaffolds-v2.3.fasta.mmi -a --end-bonus 5 --eqx -N 50 -p 0.5 -t 1 output/01_assembly/01_pansn-named/at9852.scaffolds-v2.3.fasta\n",
      "[M::main] Real time: 6.431 sec; CPU: 6.170 sec; Peak RSS: 1.322 GB\n",
      "[M::main::0.878*1.03] loaded/built the index for 5 target sequence(s)\n",
      "[M::mm_mapopt_update::1.162*1.02] mid_occ = 111\n",
      "[M::mm_idx_stat] kmer size: 15; skip: 10; is_hpc: 0; #seq: 5\n",
      "[M::mm_idx_stat::1.365*1.02] distinct minimizers: 15691127 (79.50% are singletons); average occurrences: 1.647; average spacing: 5.361; total length: 138592812\n",
      "[M::worker_pipeline::26.106*1.00] mapped 28775 sequences\n",
      "[M::main] Version: 2.24-r1122\n",
      "[M::main] CMD: minimap2 -o tmp/liftoff_at9852/reference_all_to_target_all.sam -a --end-bonus 5 --eqx -N 50 -p 0.5 -t 1 output/01_assembly/01_pansn-named/at9852.scaffolds-v2.3.fasta.mmi tmp/liftoff_at9852/reference_all_genes.fa\n",
      "[M::main] Real time: 26.123 sec; CPU: 26.145 sec; Peak RSS: 1.088 GB\n",
      "(dl20-orthogrouping) \n"
     ]
    }
   ],
   "source": [
    "#did not work\n",
    "mkdir -p tmp\n",
    "parallel -j20 \\\n",
    "        liftoff -g input/max_liftoff_input/TAIR10_GFF3_genes.gff \\\n",
    "            -dir tmp/liftoff_{} \\\n",
    "            -polish -o output/04_analyses_with_fixed_at9879/01_polished_araport_liftoff_TAIR10/{}.scaffolds-v2.3_liftoff_polished.gff3 \\\n",
    "            output/01_assembly/01_pansn-named/{}.scaffolds-v2.3.fasta \\\n",
    "            input/max_liftoff_input/TAIR10_chr_all.renamed.fas \\\n",
    "            ::: \"${dl20[@]}\"\n"
   ]
  },
  {
   "cell_type": "code",
   "execution_count": 3,
   "id": "50634ec7-c99a-4627-be66-c6c3ecae1c75",
   "metadata": {},
   "outputs": [],
   "source": [
    "#for accession in \"${dl20[@]}\"\n",
    "#do\n",
    "\n",
    "bedtools intersect -v -a output/04_analyses_with_fixed_at9879/01_polished_araport/liftoff/at9900.scaffolds-v2.3_liftoff_polished.gff3 -b output/01_assembly/01_pansn-named/at9900.augustus-v2.3.gff3 > test_luisa.txt \n",
    "\n",
    "#done"
   ]
  },
  {
   "cell_type": "code",
   "execution_count": 2,
   "id": "5cac3f7e-7ce9-4b30-b136-b3f2b1915c0e",
   "metadata": {},
   "outputs": [],
   "source": [
    "grep \"gene\" test_luisa.txt > test_gene_luisa.txt"
   ]
  },
  {
   "cell_type": "code",
   "execution_count": 3,
   "id": "aadd913b-6b4b-428b-b9c4-82aa3129b11d",
   "metadata": {},
   "outputs": [],
   "source": [
    "grep \"locus_type=protein_coding\" test_gene_luisa.txt > test_gene_luisa2.txt"
   ]
  },
  {
   "cell_type": "code",
   "execution_count": 4,
   "id": "aee8ac92-667f-4cad-805d-a9bfad90b020",
   "metadata": {},
   "outputs": [],
   "source": [
    "agat_convert_sp_gxf2gxf.pl --gff output/01_assembly/01_pansn-named/at9900.augustus-v2.3.gff3 > tmp/at9900.augustus-v2.3_agat.gff3"
   ]
  },
  {
   "cell_type": "markdown",
   "id": "68510355-355f-4eb3-bfa4-5b5a9b4d06de",
   "metadata": {},
   "source": [
    "add in miniprot piece of shit"
   ]
  },
  {
   "cell_type": "code",
   "execution_count": null,
   "id": "6667c11a-fda6-485d-bc3d-295fbec6b422",
   "metadata": {},
   "outputs": [],
   "source": [
    "agat"
   ]
  },
  {
   "cell_type": "code",
   "execution_count": 4,
   "id": "567a0358-cdb0-43b1-9f83-3fcdebde29a5",
   "metadata": {},
   "outputs": [],
   "source": [
    "\n",
    "bedtools intersect -v -a output/04_analyses_with_fixed_at9879/prep_for_decision_making/at9900.pasa.fix.gff \\\n",
    "         -b output/01_assembly/01_pansn-named/at9900.augustus-v2.3.gff3 > test_luisa5.txt\n"
   ]
  },
  {
   "cell_type": "code",
   "execution_count": 6,
   "id": "4ec57673-67c6-488a-afbc-ae027460bc8a",
   "metadata": {},
   "outputs": [
    {
     "ename": "",
     "evalue": "1",
     "output_type": "error",
     "traceback": []
    }
   ],
   "source": [
    "grep \"gene\" test_luisa5.txt > test_gene_luisa5.txt"
   ]
  }
 ],
 "metadata": {
  "kernelspec": {
   "display_name": "Bash",
   "language": "bash",
   "name": "bash"
  },
  "language_info": {
   "codemirror_mode": "shell",
   "file_extension": ".sh",
   "mimetype": "text/x-sh",
   "name": "bash"
  }
 },
 "nbformat": 4,
 "nbformat_minor": 5
}
