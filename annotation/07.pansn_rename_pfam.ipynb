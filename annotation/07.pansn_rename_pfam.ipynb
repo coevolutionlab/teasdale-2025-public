{
 "cells": [
  {
   "cell_type": "markdown",
   "id": "47f51cfc-56fe-4ba0-9a82-142429433c2e",
   "metadata": {},
   "source": [
    "# Rename Difflines pfam gffs accoridng to ekg's PanSN naming\n",
    "\n",
    "We are using the [panSN naming scheme](https://github.com/pangenome/PanSN-spec) from ekg/pangenome team to rename all the 18 diff lines + Tair 10"
   ]
  },
  {
   "cell_type": "code",
   "execution_count": 1,
   "id": "41d960b3",
   "metadata": {},
   "outputs": [],
   "source": [
    "mkdir -p output/02_annotation/03_pfam_original_augustus\n",
    "#git annex unlock -q output/01_assembly/01_pansn-named"
   ]
  },
  {
   "cell_type": "markdown",
   "id": "e81fd892",
   "metadata": {},
   "source": [
    "The format we have settled on is: `${accession_id}_${haplotype}_${chr_or_contig}`. Ideally, we'd use a less common delimiter than `_` in these names, but very many programs break if we use other delimiters. A short history: `#` is a comment in gffs, `~` isn't valid in gffs, `:` would confuse the `chr1:1-233` range specfication, `!` doesn't play nice with bash due to history expansion, `|` is a pain on the CLI.\n",
    "\n",
    "The accession id is the ecotype id prefixed with at (so that they don't start with a number). The haplotype is either 1, as we have pseudo-haploid assemblies, or 9, indicating an unknown haplotype for unplaced contigs. Organellar genomes count as placed, and on the first haplotype.\n",
    "We have two different input naming schemes: the one from Max (Chr1_RagTag_RagTag) and the one from TAIR10. This first loop is for Max's genomes."
   ]
  },
  {
   "cell_type": "code",
   "execution_count": 3,
   "id": "fd55fd20",
   "metadata": {
    "lines_to_next_cell": 2,
    "tags": []
   },
   "outputs": [],
   "source": [
    "dl20=(\n",
    "at6137 at6923 at6929 at7143\n",
    "at8285 at9104 at9336 at9503\n",
    "at9578 at9744 at9762 at9806\n",
    "at9830 at9847 at9852 at9879\n",
    "at9883 at9900\n",
    ")\n",
    "\n",
    "for accession in \"${dl20[@]}\"\n",
    "do\n",
    "    gffsed=( sed\n",
    "        -e \"s/\\bChr1_RagTag_RagTag\\b/${accession}_1_chr1/g\"\n",
    "        -e \"s/\\bChr2_RagTag_RagTag\\b/${accession}_1_chr2/g\"\n",
    "        -e \"s/\\bChr3_RagTag_RagTag\\b/${accession}_1_chr3/g\"\n",
    "        -e \"s/\\bChr4_RagTag_RagTag\\b/${accession}_1_chr4/g\"\n",
    "        -e \"s/\\bChr5_RagTag_RagTag\\b/${accession}_1_chr5/g\"\n",
    "        -e \"s/\\bptg0\\+\\([0-9]\\+\\)[^\\t0-9]*/${accession}_9_u\\1/g\"\n",
    "    )\n",
    "    \n",
    "    \"${gffsed[@]}\" \\\n",
    "        ../manual_annotation/input/pfam_gffs/${accession}_pfam_genomic.gff \\\n",
    "        >output/02_annotation/03_pfam_original_augustus/${accession}_pfam_genomic-v2.3.gff\n",
    "done"
   ]
  },
  {
   "cell_type": "code",
   "execution_count": null,
   "id": "c020649a-4b6f-4973-b9c5-423fc51111d3",
   "metadata": {},
   "outputs": [],
   "source": []
  }
 ],
 "metadata": {
  "jupytext": {
   "cell_metadata_filter": "-all",
   "executable": "/bin/bash",
   "formats": "ipynb,auto:light",
   "main_language": "bash",
   "notebook_metadata_filter": "-all"
  },
  "kernelspec": {
   "display_name": "Bash",
   "language": "bash",
   "name": "bash"
  },
  "language_info": {
   "codemirror_mode": "shell",
   "file_extension": ".sh",
   "mimetype": "text/x-sh",
   "name": "bash"
  }
 },
 "nbformat": 4,
 "nbformat_minor": 5
}
