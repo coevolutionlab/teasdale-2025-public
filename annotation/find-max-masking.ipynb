{
 "cells": [
  {
   "cell_type": "markdown",
   "id": "05173bbe-f5ed-4bcd-ab5d-4ef0ba27a9de",
   "metadata": {},
   "source": [
    "# Aim: Find the source of the *.softmasked* in the 2.3 data freeze"
   ]
  },
  {
   "cell_type": "code",
   "execution_count": 1,
   "id": "96483517-234d-4a9d-b460-1d9a4c8036c9",
   "metadata": {},
   "outputs": [],
   "source": [
    "cd /ebio/abt6_projects7/diffLines_20/data/2.3_data_freeze_hifiasm"
   ]
  },
  {
   "cell_type": "markdown",
   "id": "39b1652e-b777-4c90-ad8c-7163efad9a1d",
   "metadata": {},
   "source": [
    "So, we have a dilemma: we have an unmasked reference as the main scaffold file in the data freeze:"
   ]
  },
  {
   "cell_type": "code",
   "execution_count": 2,
   "id": "c99476c5-e8ae-4fbf-92b7-9d6eb5cace1d",
   "metadata": {},
   "outputs": [
    {
     "name": "stdout",
     "output_type": "stream",
     "text": [
      "total 0\n",
      "lrwxrwxrwx 1 mcollenberg p-diffLines_20 138 Oct  6  2021 at6137.scaffolds.bionano.final.fasta -> /ebio/abt6_projects7/diffLines_20/data/1_genomes/hifiasm/2_scaffolding/3_removeUnplaced/2_subsetFASTA/at6137.scaffolds.bionano.final.fasta\n",
      "lrwxrwxrwx 1 mcollenberg p-diffLines_20 138 Oct  6  2021 at6923.scaffolds.bionano.final.fasta -> /ebio/abt6_projects7/diffLines_20/data/1_genomes/hifiasm/2_scaffolding/3_removeUnplaced/2_subsetFASTA/at6923.scaffolds.bionano.final.fasta\n",
      "lrwxrwxrwx 1 mcollenberg p-diffLines_20 138 Oct  6  2021 at6929.scaffolds.bionano.final.fasta -> /ebio/abt6_projects7/diffLines_20/data/1_genomes/hifiasm/2_scaffolding/3_removeUnplaced/2_subsetFASTA/at6929.scaffolds.bionano.final.fasta\n",
      "lrwxrwxrwx 1 mcollenberg p-diffLines_20 138 Oct  6  2021 at7143.scaffolds.bionano.final.fasta -> /ebio/abt6_projects7/diffLines_20/data/1_genomes/hifiasm/2_scaffolding/3_removeUnplaced/2_subsetFASTA/at7143.scaffolds.bionano.final.fasta\n",
      "lrwxrwxrwx 1 mcollenberg p-diffLines_20 138 Oct  6  2021 at8285.scaffolds.bionano.final.fasta -> /ebio/abt6_projects7/diffLines_20/data/1_genomes/hifiasm/2_scaffolding/3_removeUnplaced/2_subsetFASTA/at8285.scaffolds.bionano.final.fasta\n",
      "lrwxrwxrwx 1 mcollenberg p-diffLines_20 138 Oct  6  2021 at9104.scaffolds.bionano.final.fasta -> /ebio/abt6_projects7/diffLines_20/data/1_genomes/hifiasm/2_scaffolding/3_removeUnplaced/2_subsetFASTA/at9104.scaffolds.bionano.final.fasta\n",
      "lrwxrwxrwx 1 mcollenberg p-diffLines_20 138 Oct  6  2021 at9336.scaffolds.bionano.final.fasta -> /ebio/abt6_projects7/diffLines_20/data/1_genomes/hifiasm/2_scaffolding/3_removeUnplaced/2_subsetFASTA/at9336.scaffolds.bionano.final.fasta\n",
      "lrwxrwxrwx 1 mcollenberg p-diffLines_20 138 Oct  6  2021 at9503.scaffolds.bionano.final.fasta -> /ebio/abt6_projects7/diffLines_20/data/1_genomes/hifiasm/2_scaffolding/3_removeUnplaced/2_subsetFASTA/at9503.scaffolds.bionano.final.fasta\n",
      "lrwxrwxrwx 1 mcollenberg p-diffLines_20 138 Oct  6  2021 at9578.scaffolds.bionano.final.fasta -> /ebio/abt6_projects7/diffLines_20/data/1_genomes/hifiasm/2_scaffolding/3_removeUnplaced/2_subsetFASTA/at9578.scaffolds.bionano.final.fasta\n",
      "lrwxrwxrwx 1 mcollenberg p-diffLines_20 138 Oct  6  2021 at9744.scaffolds.bionano.final.fasta -> /ebio/abt6_projects7/diffLines_20/data/1_genomes/hifiasm/2_scaffolding/3_removeUnplaced/2_subsetFASTA/at9744.scaffolds.bionano.final.fasta\n",
      "lrwxrwxrwx 1 mcollenberg p-diffLines_20 138 Oct  6  2021 at9762.scaffolds.bionano.final.fasta -> /ebio/abt6_projects7/diffLines_20/data/1_genomes/hifiasm/2_scaffolding/3_removeUnplaced/2_subsetFASTA/at9762.scaffolds.bionano.final.fasta\n",
      "lrwxrwxrwx 1 mcollenberg p-diffLines_20 138 Oct  6  2021 at9806.scaffolds.bionano.final.fasta -> /ebio/abt6_projects7/diffLines_20/data/1_genomes/hifiasm/2_scaffolding/3_removeUnplaced/2_subsetFASTA/at9806.scaffolds.bionano.final.fasta\n",
      "lrwxrwxrwx 1 mcollenberg p-diffLines_20 138 Oct  6  2021 at9830.scaffolds.bionano.final.fasta -> /ebio/abt6_projects7/diffLines_20/data/1_genomes/hifiasm/2_scaffolding/3_removeUnplaced/2_subsetFASTA/at9830.scaffolds.bionano.final.fasta\n",
      "lrwxrwxrwx 1 mcollenberg p-diffLines_20 138 Oct  6  2021 at9847.scaffolds.bionano.final.fasta -> /ebio/abt6_projects7/diffLines_20/data/1_genomes/hifiasm/2_scaffolding/3_removeUnplaced/2_subsetFASTA/at9847.scaffolds.bionano.final.fasta\n",
      "lrwxrwxrwx 1 mcollenberg p-diffLines_20 138 Oct  6  2021 at9852.scaffolds.bionano.final.fasta -> /ebio/abt6_projects7/diffLines_20/data/1_genomes/hifiasm/2_scaffolding/3_removeUnplaced/2_subsetFASTA/at9852.scaffolds.bionano.final.fasta\n",
      "lrwxrwxrwx 1 mcollenberg p-diffLines_20 138 Oct  6  2021 at9879.scaffolds.bionano.final.fasta -> /ebio/abt6_projects7/diffLines_20/data/1_genomes/hifiasm/2_scaffolding/3_removeUnplaced/2_subsetFASTA/at9879.scaffolds.bionano.final.fasta\n",
      "lrwxrwxrwx 1 mcollenberg p-diffLines_20 138 Oct  6  2021 at9883.scaffolds.bionano.final.fasta -> /ebio/abt6_projects7/diffLines_20/data/1_genomes/hifiasm/2_scaffolding/3_removeUnplaced/2_subsetFASTA/at9883.scaffolds.bionano.final.fasta\n",
      "lrwxrwxrwx 1 mcollenberg p-diffLines_20 138 Oct  6  2021 at9900.scaffolds.bionano.final.fasta -> /ebio/abt6_projects7/diffLines_20/data/1_genomes/hifiasm/2_scaffolding/3_removeUnplaced/2_subsetFASTA/at9900.scaffolds.bionano.final.fasta\n"
     ]
    }
   ],
   "source": [
    "ls -l 1_assemblies/"
   ]
  },
  {
   "cell_type": "markdown",
   "id": "d8466c38-f75e-46f3-8eb9-275dd6e25886",
   "metadata": {},
   "source": [
    "`blsl mask2bed` scans a FASTA and reports stretches of lowercase soft-masked sequences as a bed file. Alas there are none in these files"
   ]
  },
  {
   "cell_type": "code",
   "execution_count": 3,
   "id": "5ac3b3c8-0214-45e1-9940-4d4856234576",
   "metadata": {},
   "outputs": [
    {
     "name": "stdout",
     "output_type": "stream",
     "text": [
      "0\n"
     ]
    }
   ],
   "source": [
    "blsl mask2bed 1_assemblies/at6137.scaffolds.bionano.final.fasta | wc -l"
   ]
  },
  {
   "cell_type": "markdown",
   "id": "ce3bb239-990c-4ee6-98a7-01184bf4a59f",
   "metadata": {},
   "source": [
    "But, the augustus annotations have `*.softmasked.*` in their names, indicating the input to augustus was soft-masked"
   ]
  },
  {
   "cell_type": "code",
   "execution_count": 4,
   "id": "fd55f06a-8132-40ec-9b1e-adba41fd08bc",
   "metadata": {},
   "outputs": [
    {
     "name": "stdout",
     "output_type": "stream",
     "text": [
      "total 4\n",
      "lrwxrwxrwx 1 mcollenberg p-diffLines_20 127 Oct  8  2021 at6137.softmasked.final.gff3 -> /ebio/abt6_projects7/diffLines_20/data/1_genomes/hifiasm/6_gene_annotation/4_augustus/2_annotation/at6137.softmasked.final.gff3\n",
      "lrwxrwxrwx 1 mcollenberg p-diffLines_20 127 Oct  8  2021 at6923.softmasked.final.gff3 -> /ebio/abt6_projects7/diffLines_20/data/1_genomes/hifiasm/6_gene_annotation/4_augustus/2_annotation/at6923.softmasked.final.gff3\n",
      "lrwxrwxrwx 1 mcollenberg p-diffLines_20 127 Oct  8  2021 at6929.softmasked.final.gff3 -> /ebio/abt6_projects7/diffLines_20/data/1_genomes/hifiasm/6_gene_annotation/4_augustus/2_annotation/at6929.softmasked.final.gff3\n",
      "lrwxrwxrwx 1 mcollenberg p-diffLines_20 127 Oct  8  2021 at7143.softmasked.final.gff3 -> /ebio/abt6_projects7/diffLines_20/data/1_genomes/hifiasm/6_gene_annotation/4_augustus/2_annotation/at7143.softmasked.final.gff3\n",
      "lrwxrwxrwx 1 mcollenberg p-diffLines_20 127 Oct  8  2021 at8285.softmasked.final.gff3 -> /ebio/abt6_projects7/diffLines_20/data/1_genomes/hifiasm/6_gene_annotation/4_augustus/2_annotation/at8285.softmasked.final.gff3\n",
      "lrwxrwxrwx 1 mcollenberg p-diffLines_20 127 Oct  8  2021 at9104.softmasked.final.gff3 -> /ebio/abt6_projects7/diffLines_20/data/1_genomes/hifiasm/6_gene_annotation/4_augustus/2_annotation/at9104.softmasked.final.gff3\n",
      "lrwxrwxrwx 1 mcollenberg p-diffLines_20 127 Oct  8  2021 at9336.softmasked.final.gff3 -> /ebio/abt6_projects7/diffLines_20/data/1_genomes/hifiasm/6_gene_annotation/4_augustus/2_annotation/at9336.softmasked.final.gff3\n",
      "lrwxrwxrwx 1 mcollenberg p-diffLines_20 127 Oct  8  2021 at9503.softmasked.final.gff3 -> /ebio/abt6_projects7/diffLines_20/data/1_genomes/hifiasm/6_gene_annotation/4_augustus/2_annotation/at9503.softmasked.final.gff3\n",
      "lrwxrwxrwx 1 mcollenberg p-diffLines_20 127 Oct  8  2021 at9578.softmasked.final.gff3 -> /ebio/abt6_projects7/diffLines_20/data/1_genomes/hifiasm/6_gene_annotation/4_augustus/2_annotation/at9578.softmasked.final.gff3\n",
      "lrwxrwxrwx 1 mcollenberg p-diffLines_20 127 Oct  8  2021 at9744.softmasked.final.gff3 -> /ebio/abt6_projects7/diffLines_20/data/1_genomes/hifiasm/6_gene_annotation/4_augustus/2_annotation/at9744.softmasked.final.gff3\n",
      "lrwxrwxrwx 1 mcollenberg p-diffLines_20 127 Oct  8  2021 at9762.softmasked.final.gff3 -> /ebio/abt6_projects7/diffLines_20/data/1_genomes/hifiasm/6_gene_annotation/4_augustus/2_annotation/at9762.softmasked.final.gff3\n",
      "lrwxrwxrwx 1 mcollenberg p-diffLines_20 127 Oct  8  2021 at9806.softmasked.final.gff3 -> /ebio/abt6_projects7/diffLines_20/data/1_genomes/hifiasm/6_gene_annotation/4_augustus/2_annotation/at9806.softmasked.final.gff3\n",
      "lrwxrwxrwx 1 mcollenberg p-diffLines_20 127 Oct  8  2021 at9830.softmasked.final.gff3 -> /ebio/abt6_projects7/diffLines_20/data/1_genomes/hifiasm/6_gene_annotation/4_augustus/2_annotation/at9830.softmasked.final.gff3\n",
      "lrwxrwxrwx 1 mcollenberg p-diffLines_20 127 Oct  8  2021 at9847.softmasked.final.gff3 -> /ebio/abt6_projects7/diffLines_20/data/1_genomes/hifiasm/6_gene_annotation/4_augustus/2_annotation/at9847.softmasked.final.gff3\n",
      "lrwxrwxrwx 1 mcollenberg p-diffLines_20 127 Oct  8  2021 at9852.softmasked.final.gff3 -> /ebio/abt6_projects7/diffLines_20/data/1_genomes/hifiasm/6_gene_annotation/4_augustus/2_annotation/at9852.softmasked.final.gff3\n",
      "lrwxrwxrwx 1 mcollenberg p-diffLines_20 127 Oct  8  2021 at9879.softmasked.final.gff3 -> /ebio/abt6_projects7/diffLines_20/data/1_genomes/hifiasm/6_gene_annotation/4_augustus/2_annotation/at9879.softmasked.final.gff3\n",
      "lrwxrwxrwx 1 mcollenberg p-diffLines_20 127 Oct  8  2021 at9883.softmasked.final.gff3 -> /ebio/abt6_projects7/diffLines_20/data/1_genomes/hifiasm/6_gene_annotation/4_augustus/2_annotation/at9883.softmasked.final.gff3\n",
      "lrwxrwxrwx 1 mcollenberg p-diffLines_20 127 Oct  8  2021 at9900.softmasked.final.gff3 -> /ebio/abt6_projects7/diffLines_20/data/1_genomes/hifiasm/6_gene_annotation/4_augustus/2_annotation/at9900.softmasked.final.gff3\n",
      "-rw-rw---- 2 mcollenberg p-diffLines_20 101 Oct  8  2021 README\n"
     ]
    }
   ],
   "source": [
    "ls -l 2_annotation/1_geneAnnotation/2_augustus"
   ]
  },
  {
   "cell_type": "markdown",
   "id": "bd7bf694-2f06-45b4-b958-82d6b2ec944b",
   "metadata": {},
   "source": [
    "If we dig deeper into where the target of those annotation symlinks are, it's a bit clearer"
   ]
  },
  {
   "cell_type": "code",
   "execution_count": 5,
   "id": "2cfdba4b-f130-48ec-9dc4-da289025268c",
   "metadata": {},
   "outputs": [
    {
     "name": "stdout",
     "output_type": "stream",
     "text": [
      "total 1026216\n",
      "lrwxrwxrwx 1 mcollenberg p-diffLines_20      114 Oct  7  2021 at6137.liftoff.hints -> /ebio/abt6_projects7/diffLines_20/data/1_genomes/hifiasm/6_gene_annotation/4_augustus/1_hints/at6137.liftoff.hints\n",
      "lrwxrwxrwx 1 mcollenberg p-diffLines_20      114 Oct  7  2021 at6137.softmasked.final.fasta -> /ebio/abt6_projects7/diffLines_20/data/1_genomes/hifiasm/6_gene_annotation/1_masking/at6137.softmasked.final.fasta\n",
      "-rw-rw---- 2 mcollenberg p-diffLines_20 58178459 Oct  7  2021 at6137.softmasked.final.gff3\n",
      "lrwxrwxrwx 1 mcollenberg p-diffLines_20      114 Oct  7  2021 at6923.liftoff.hints -> /ebio/abt6_projects7/diffLines_20/data/1_genomes/hifiasm/6_gene_annotation/4_augustus/1_hints/at6923.liftoff.hints\n",
      "lrwxrwxrwx 1 mcollenberg p-diffLines_20      114 Oct  7  2021 at6923.softmasked.final.fasta -> /ebio/abt6_projects7/diffLines_20/data/1_genomes/hifiasm/6_gene_annotation/1_masking/at6923.softmasked.final.fasta\n",
      "-rw-rw---- 2 mcollenberg p-diffLines_20 58483317 Oct  7  2021 at6923.softmasked.final.gff3\n",
      "lrwxrwxrwx 1 mcollenberg p-diffLines_20      114 Oct  7  2021 at6929.liftoff.hints -> /ebio/abt6_projects7/diffLines_20/data/1_genomes/hifiasm/6_gene_annotation/4_augustus/1_hints/at6929.liftoff.hints\n",
      "lrwxrwxrwx 1 mcollenberg p-diffLines_20      114 Oct  7  2021 at6929.softmasked.final.fasta -> /ebio/abt6_projects7/diffLines_20/data/1_genomes/hifiasm/6_gene_annotation/1_masking/at6929.softmasked.final.fasta\n",
      "-rw-rw---- 2 mcollenberg p-diffLines_20 58049954 Oct  7  2021 at6929.softmasked.final.gff3\n",
      "lrwxrwxrwx 1 mcollenberg p-diffLines_20      114 Oct  7  2021 at7143.liftoff.hints -> /ebio/abt6_projects7/diffLines_20/data/1_genomes/hifiasm/6_gene_annotation/4_augustus/1_hints/at7143.liftoff.hints\n",
      "lrwxrwxrwx 1 mcollenberg p-diffLines_20      114 Oct  7  2021 at7143.softmasked.final.fasta -> /ebio/abt6_projects7/diffLines_20/data/1_genomes/hifiasm/6_gene_annotation/1_masking/at7143.softmasked.final.fasta\n",
      "-rw-rw---- 2 mcollenberg p-diffLines_20 58428153 Oct  7  2021 at7143.softmasked.final.gff3\n",
      "lrwxrwxrwx 1 mcollenberg p-diffLines_20      114 Oct  7  2021 at8285.liftoff.hints -> /ebio/abt6_projects7/diffLines_20/data/1_genomes/hifiasm/6_gene_annotation/4_augustus/1_hints/at8285.liftoff.hints\n",
      "lrwxrwxrwx 1 mcollenberg p-diffLines_20      114 Oct  7  2021 at8285.softmasked.final.fasta -> /ebio/abt6_projects7/diffLines_20/data/1_genomes/hifiasm/6_gene_annotation/1_masking/at8285.softmasked.final.fasta\n",
      "-rw-rw---- 2 mcollenberg p-diffLines_20 58483165 Oct  7  2021 at8285.softmasked.final.gff3\n",
      "lrwxrwxrwx 1 mcollenberg p-diffLines_20      114 Oct  7  2021 at9104.liftoff.hints -> /ebio/abt6_projects7/diffLines_20/data/1_genomes/hifiasm/6_gene_annotation/4_augustus/1_hints/at9104.liftoff.hints\n",
      "lrwxrwxrwx 1 mcollenberg p-diffLines_20      114 Oct  7  2021 at9104.softmasked.final.fasta -> /ebio/abt6_projects7/diffLines_20/data/1_genomes/hifiasm/6_gene_annotation/1_masking/at9104.softmasked.final.fasta\n",
      "-rw-rw---- 2 mcollenberg p-diffLines_20 58202040 Oct  7  2021 at9104.softmasked.final.gff3\n",
      "lrwxrwxrwx 1 mcollenberg p-diffLines_20      114 Oct  7  2021 at9336.liftoff.hints -> /ebio/abt6_projects7/diffLines_20/data/1_genomes/hifiasm/6_gene_annotation/4_augustus/1_hints/at9336.liftoff.hints\n",
      "lrwxrwxrwx 1 mcollenberg p-diffLines_20      114 Oct  7  2021 at9336.softmasked.final.fasta -> /ebio/abt6_projects7/diffLines_20/data/1_genomes/hifiasm/6_gene_annotation/1_masking/at9336.softmasked.final.fasta\n",
      "-rw-rw---- 2 mcollenberg p-diffLines_20 59324349 Oct  7  2021 at9336.softmasked.final.gff3\n",
      "lrwxrwxrwx 1 mcollenberg p-diffLines_20      114 Oct  7  2021 at9503.liftoff.hints -> /ebio/abt6_projects7/diffLines_20/data/1_genomes/hifiasm/6_gene_annotation/4_augustus/1_hints/at9503.liftoff.hints\n",
      "lrwxrwxrwx 1 mcollenberg p-diffLines_20      114 Oct  7  2021 at9503.softmasked.final.fasta -> /ebio/abt6_projects7/diffLines_20/data/1_genomes/hifiasm/6_gene_annotation/1_masking/at9503.softmasked.final.fasta\n",
      "-rw-rw---- 2 mcollenberg p-diffLines_20 58321379 Oct  7  2021 at9503.softmasked.final.gff3\n",
      "lrwxrwxrwx 1 mcollenberg p-diffLines_20      114 Oct  7  2021 at9578.liftoff.hints -> /ebio/abt6_projects7/diffLines_20/data/1_genomes/hifiasm/6_gene_annotation/4_augustus/1_hints/at9578.liftoff.hints\n",
      "lrwxrwxrwx 1 mcollenberg p-diffLines_20      114 Oct  7  2021 at9578.softmasked.final.fasta -> /ebio/abt6_projects7/diffLines_20/data/1_genomes/hifiasm/6_gene_annotation/1_masking/at9578.softmasked.final.fasta\n",
      "-rw-rw---- 2 mcollenberg p-diffLines_20 58288146 Oct  7  2021 at9578.softmasked.final.gff3\n",
      "lrwxrwxrwx 1 mcollenberg p-diffLines_20      114 Oct  7  2021 at9744.liftoff.hints -> /ebio/abt6_projects7/diffLines_20/data/1_genomes/hifiasm/6_gene_annotation/4_augustus/1_hints/at9744.liftoff.hints\n",
      "lrwxrwxrwx 1 mcollenberg p-diffLines_20      114 Oct  7  2021 at9744.softmasked.final.fasta -> /ebio/abt6_projects7/diffLines_20/data/1_genomes/hifiasm/6_gene_annotation/1_masking/at9744.softmasked.final.fasta\n",
      "-rw-rw---- 2 mcollenberg p-diffLines_20 58861299 Oct  7  2021 at9744.softmasked.final.gff3\n",
      "lrwxrwxrwx 1 mcollenberg p-diffLines_20      114 Oct  7  2021 at9762.liftoff.hints -> /ebio/abt6_projects7/diffLines_20/data/1_genomes/hifiasm/6_gene_annotation/4_augustus/1_hints/at9762.liftoff.hints\n",
      "lrwxrwxrwx 1 mcollenberg p-diffLines_20      114 Oct  7  2021 at9762.softmasked.final.fasta -> /ebio/abt6_projects7/diffLines_20/data/1_genomes/hifiasm/6_gene_annotation/1_masking/at9762.softmasked.final.fasta\n",
      "-rw-rw---- 2 mcollenberg p-diffLines_20 58656455 Oct  7  2021 at9762.softmasked.final.gff3\n",
      "lrwxrwxrwx 1 mcollenberg p-diffLines_20      114 Oct  7  2021 at9806.liftoff.hints -> /ebio/abt6_projects7/diffLines_20/data/1_genomes/hifiasm/6_gene_annotation/4_augustus/1_hints/at9806.liftoff.hints\n",
      "lrwxrwxrwx 1 mcollenberg p-diffLines_20      114 Oct  7  2021 at9806.softmasked.final.fasta -> /ebio/abt6_projects7/diffLines_20/data/1_genomes/hifiasm/6_gene_annotation/1_masking/at9806.softmasked.final.fasta\n",
      "-rw-rw---- 2 mcollenberg p-diffLines_20 57713445 Oct  7  2021 at9806.softmasked.final.gff3\n",
      "lrwxrwxrwx 1 mcollenberg p-diffLines_20      114 Oct  7  2021 at9830.liftoff.hints -> /ebio/abt6_projects7/diffLines_20/data/1_genomes/hifiasm/6_gene_annotation/4_augustus/1_hints/at9830.liftoff.hints\n",
      "lrwxrwxrwx 1 mcollenberg p-diffLines_20      114 Oct  7  2021 at9830.softmasked.final.fasta -> /ebio/abt6_projects7/diffLines_20/data/1_genomes/hifiasm/6_gene_annotation/1_masking/at9830.softmasked.final.fasta\n",
      "-rw-rw---- 2 mcollenberg p-diffLines_20 58015856 Oct  7  2021 at9830.softmasked.final.gff3\n",
      "lrwxrwxrwx 1 mcollenberg p-diffLines_20      114 Oct  7  2021 at9847.liftoff.hints -> /ebio/abt6_projects7/diffLines_20/data/1_genomes/hifiasm/6_gene_annotation/4_augustus/1_hints/at9847.liftoff.hints\n",
      "lrwxrwxrwx 1 mcollenberg p-diffLines_20      114 Oct  7  2021 at9847.softmasked.final.fasta -> /ebio/abt6_projects7/diffLines_20/data/1_genomes/hifiasm/6_gene_annotation/1_masking/at9847.softmasked.final.fasta\n",
      "-rw-rw---- 2 mcollenberg p-diffLines_20 58483128 Oct  7  2021 at9847.softmasked.final.gff3\n",
      "lrwxrwxrwx 1 mcollenberg p-diffLines_20      114 Oct  7  2021 at9852.liftoff.hints -> /ebio/abt6_projects7/diffLines_20/data/1_genomes/hifiasm/6_gene_annotation/4_augustus/1_hints/at9852.liftoff.hints\n",
      "lrwxrwxrwx 1 mcollenberg p-diffLines_20      114 Oct  7  2021 at9852.softmasked.final.fasta -> /ebio/abt6_projects7/diffLines_20/data/1_genomes/hifiasm/6_gene_annotation/1_masking/at9852.softmasked.final.fasta\n",
      "-rw-rw---- 2 mcollenberg p-diffLines_20 57780052 Oct  7  2021 at9852.softmasked.final.gff3\n",
      "lrwxrwxrwx 1 mcollenberg p-diffLines_20      114 Oct  7  2021 at9879.liftoff.hints -> /ebio/abt6_projects7/diffLines_20/data/1_genomes/hifiasm/6_gene_annotation/4_augustus/1_hints/at9879.liftoff.hints\n",
      "lrwxrwxrwx 1 mcollenberg p-diffLines_20      114 Oct  7  2021 at9879.softmasked.final.fasta -> /ebio/abt6_projects7/diffLines_20/data/1_genomes/hifiasm/6_gene_annotation/1_masking/at9879.softmasked.final.fasta\n",
      "-rw-rw---- 2 mcollenberg p-diffLines_20 58982568 Oct  7  2021 at9879.softmasked.final.gff3\n",
      "lrwxrwxrwx 1 mcollenberg p-diffLines_20      114 Oct  7  2021 at9883.liftoff.hints -> /ebio/abt6_projects7/diffLines_20/data/1_genomes/hifiasm/6_gene_annotation/4_augustus/1_hints/at9883.liftoff.hints\n",
      "lrwxrwxrwx 1 mcollenberg p-diffLines_20      114 Oct  7  2021 at9883.softmasked.final.fasta -> /ebio/abt6_projects7/diffLines_20/data/1_genomes/hifiasm/6_gene_annotation/1_masking/at9883.softmasked.final.fasta\n",
      "-rw-rw---- 2 mcollenberg p-diffLines_20 58526514 Oct  7  2021 at9883.softmasked.final.gff3\n",
      "lrwxrwxrwx 1 mcollenberg p-diffLines_20      114 Oct  7  2021 at9900.liftoff.hints -> /ebio/abt6_projects7/diffLines_20/data/1_genomes/hifiasm/6_gene_annotation/4_augustus/1_hints/at9900.liftoff.hints\n",
      "lrwxrwxrwx 1 mcollenberg p-diffLines_20      114 Oct  7  2021 at9900.softmasked.final.fasta -> /ebio/abt6_projects7/diffLines_20/data/1_genomes/hifiasm/6_gene_annotation/1_masking/at9900.softmasked.final.fasta\n",
      "-rw-rw---- 2 mcollenberg p-diffLines_20 57938863 Oct  7  2021 at9900.softmasked.final.gff3\n",
      "-rw-rw---- 1 mcollenberg p-diffLines_20     2077 Oct  7  2021 newtest.cfg\n",
      "-rw-rw---- 1 mcollenberg p-diffLines_20      403 Oct  7  2021 runAugustus.sh\n"
     ]
    }
   ],
   "source": [
    "ls -l /ebio/abt6_projects7/diffLines_20/data/1_genomes/hifiasm/6_gene_annotation/4_augustus/2_annotation"
   ]
  },
  {
   "cell_type": "markdown",
   "id": "3b633b02-0594-4db1-b60b-4d5a217d6d74",
   "metadata": {},
   "source": [
    "OK, so the masking was done under..."
   ]
  },
  {
   "cell_type": "code",
   "execution_count": 6,
   "id": "1910e9a3-6a79-4009-8a40-65848bc85ca1",
   "metadata": {},
   "outputs": [
    {
     "name": "stdout",
     "output_type": "stream",
     "text": [
      "total 2398708\n",
      "lrwxrwxrwx 1 mcollenberg p-diffLines_20       122 Aug 30  2021 at6137.repeatAnnotation.gff -> /tmp/global2/mcollenberg/data/diff_lines/hifiasm/5_repeatAnnotation/3_combineRepeatAnnotations/at6137.repeatAnnotation.gff\n",
      "lrwxrwxrwx 1 mcollenberg p-diffLines_20       138 Oct  6  2021 at6137.scaffolds.bionano.final.fasta -> /ebio/abt6_projects7/diffLines_20/data/1_genomes/hifiasm/2_scaffolding/3_removeUnplaced/2_subsetFASTA/at6137.scaffolds.bionano.final.fasta\n",
      "-rw-rw---- 1 mcollenberg p-diffLines_20 134927629 Oct  6  2021 at6137.softmasked.final.fasta\n",
      "lrwxrwxrwx 1 mcollenberg p-diffLines_20       122 Aug 30  2021 at6923.repeatAnnotation.gff -> /tmp/global2/mcollenberg/data/diff_lines/hifiasm/5_repeatAnnotation/3_combineRepeatAnnotations/at6923.repeatAnnotation.gff\n",
      "lrwxrwxrwx 1 mcollenberg p-diffLines_20       138 Oct  6  2021 at6923.scaffolds.bionano.final.fasta -> /ebio/abt6_projects7/diffLines_20/data/1_genomes/hifiasm/2_scaffolding/3_removeUnplaced/2_subsetFASTA/at6923.scaffolds.bionano.final.fasta\n",
      "-rw-rw---- 1 mcollenberg p-diffLines_20 134291930 Oct  6  2021 at6923.softmasked.final.fasta\n",
      "lrwxrwxrwx 1 mcollenberg p-diffLines_20       122 Aug 30  2021 at6929.repeatAnnotation.gff -> /tmp/global2/mcollenberg/data/diff_lines/hifiasm/5_repeatAnnotation/3_combineRepeatAnnotations/at6929.repeatAnnotation.gff\n",
      "lrwxrwxrwx 1 mcollenberg p-diffLines_20       138 Oct  6  2021 at6929.scaffolds.bionano.final.fasta -> /ebio/abt6_projects7/diffLines_20/data/1_genomes/hifiasm/2_scaffolding/3_removeUnplaced/2_subsetFASTA/at6929.scaffolds.bionano.final.fasta\n",
      "-rw-rw---- 1 mcollenberg p-diffLines_20 136047740 Oct  6  2021 at6929.softmasked.final.fasta\n",
      "lrwxrwxrwx 1 mcollenberg p-diffLines_20       122 Aug 30  2021 at7143.repeatAnnotation.gff -> /tmp/global2/mcollenberg/data/diff_lines/hifiasm/5_repeatAnnotation/3_combineRepeatAnnotations/at7143.repeatAnnotation.gff\n",
      "lrwxrwxrwx 1 mcollenberg p-diffLines_20       138 Oct  6  2021 at7143.scaffolds.bionano.final.fasta -> /ebio/abt6_projects7/diffLines_20/data/1_genomes/hifiasm/2_scaffolding/3_removeUnplaced/2_subsetFASTA/at7143.scaffolds.bionano.final.fasta\n",
      "-rw-rw---- 1 mcollenberg p-diffLines_20 133258434 Oct  6  2021 at7143.softmasked.final.fasta\n",
      "lrwxrwxrwx 1 mcollenberg p-diffLines_20       122 Aug 30  2021 at8285.repeatAnnotation.gff -> /tmp/global2/mcollenberg/data/diff_lines/hifiasm/5_repeatAnnotation/3_combineRepeatAnnotations/at8285.repeatAnnotation.gff\n",
      "lrwxrwxrwx 1 mcollenberg p-diffLines_20       138 Oct  6  2021 at8285.scaffolds.bionano.final.fasta -> /ebio/abt6_projects7/diffLines_20/data/1_genomes/hifiasm/2_scaffolding/3_removeUnplaced/2_subsetFASTA/at8285.scaffolds.bionano.final.fasta\n",
      "-rw-rw---- 1 mcollenberg p-diffLines_20 137916827 Oct  6  2021 at8285.softmasked.final.fasta\n",
      "lrwxrwxrwx 1 mcollenberg p-diffLines_20       122 Aug 30  2021 at9104.repeatAnnotation.gff -> /tmp/global2/mcollenberg/data/diff_lines/hifiasm/5_repeatAnnotation/3_combineRepeatAnnotations/at9104.repeatAnnotation.gff\n",
      "lrwxrwxrwx 1 mcollenberg p-diffLines_20       138 Oct  6  2021 at9104.scaffolds.bionano.final.fasta -> /ebio/abt6_projects7/diffLines_20/data/1_genomes/hifiasm/2_scaffolding/3_removeUnplaced/2_subsetFASTA/at9104.scaffolds.bionano.final.fasta\n",
      "-rw-rw---- 1 mcollenberg p-diffLines_20 136230981 Oct  6  2021 at9104.softmasked.final.fasta\n",
      "lrwxrwxrwx 1 mcollenberg p-diffLines_20       122 Aug 30  2021 at9336.repeatAnnotation.gff -> /tmp/global2/mcollenberg/data/diff_lines/hifiasm/5_repeatAnnotation/3_combineRepeatAnnotations/at9336.repeatAnnotation.gff\n",
      "lrwxrwxrwx 1 mcollenberg p-diffLines_20       138 Oct  6  2021 at9336.scaffolds.bionano.final.fasta -> /ebio/abt6_projects7/diffLines_20/data/1_genomes/hifiasm/2_scaffolding/3_removeUnplaced/2_subsetFASTA/at9336.scaffolds.bionano.final.fasta\n",
      "-rw-rw---- 1 mcollenberg p-diffLines_20 139430578 Oct  6  2021 at9336.softmasked.final.fasta\n",
      "lrwxrwxrwx 1 mcollenberg p-diffLines_20       122 Aug 30  2021 at9503.repeatAnnotation.gff -> /tmp/global2/mcollenberg/data/diff_lines/hifiasm/5_repeatAnnotation/3_combineRepeatAnnotations/at9503.repeatAnnotation.gff\n",
      "lrwxrwxrwx 1 mcollenberg p-diffLines_20       138 Oct  6  2021 at9503.scaffolds.bionano.final.fasta -> /ebio/abt6_projects7/diffLines_20/data/1_genomes/hifiasm/2_scaffolding/3_removeUnplaced/2_subsetFASTA/at9503.scaffolds.bionano.final.fasta\n",
      "-rw-rw---- 1 mcollenberg p-diffLines_20 136408096 Oct  6  2021 at9503.softmasked.final.fasta\n",
      "lrwxrwxrwx 1 mcollenberg p-diffLines_20       122 Aug 30  2021 at9578.repeatAnnotation.gff -> /tmp/global2/mcollenberg/data/diff_lines/hifiasm/5_repeatAnnotation/3_combineRepeatAnnotations/at9578.repeatAnnotation.gff\n",
      "lrwxrwxrwx 1 mcollenberg p-diffLines_20       138 Oct  6  2021 at9578.scaffolds.bionano.final.fasta -> /ebio/abt6_projects7/diffLines_20/data/1_genomes/hifiasm/2_scaffolding/3_removeUnplaced/2_subsetFASTA/at9578.scaffolds.bionano.final.fasta\n",
      "-rw-rw---- 1 mcollenberg p-diffLines_20 135724395 Oct  6  2021 at9578.softmasked.final.fasta\n",
      "lrwxrwxrwx 1 mcollenberg p-diffLines_20       122 Aug 30  2021 at9744.repeatAnnotation.gff -> /tmp/global2/mcollenberg/data/diff_lines/hifiasm/5_repeatAnnotation/3_combineRepeatAnnotations/at9744.repeatAnnotation.gff\n",
      "lrwxrwxrwx 1 mcollenberg p-diffLines_20       138 Oct  6  2021 at9744.scaffolds.bionano.final.fasta -> /ebio/abt6_projects7/diffLines_20/data/1_genomes/hifiasm/2_scaffolding/3_removeUnplaced/2_subsetFASTA/at9744.scaffolds.bionano.final.fasta\n",
      "-rw-rw---- 1 mcollenberg p-diffLines_20 136211330 Oct  6  2021 at9744.softmasked.final.fasta\n",
      "lrwxrwxrwx 1 mcollenberg p-diffLines_20       122 Aug 30  2021 at9762.repeatAnnotation.gff -> /tmp/global2/mcollenberg/data/diff_lines/hifiasm/5_repeatAnnotation/3_combineRepeatAnnotations/at9762.repeatAnnotation.gff\n",
      "lrwxrwxrwx 1 mcollenberg p-diffLines_20       138 Oct  6  2021 at9762.scaffolds.bionano.final.fasta -> /ebio/abt6_projects7/diffLines_20/data/1_genomes/hifiasm/2_scaffolding/3_removeUnplaced/2_subsetFASTA/at9762.scaffolds.bionano.final.fasta\n",
      "-rw-rw---- 1 mcollenberg p-diffLines_20 140468566 Oct  6  2021 at9762.softmasked.final.fasta\n",
      "lrwxrwxrwx 1 mcollenberg p-diffLines_20       122 Aug 30  2021 at9806.repeatAnnotation.gff -> /tmp/global2/mcollenberg/data/diff_lines/hifiasm/5_repeatAnnotation/3_combineRepeatAnnotations/at9806.repeatAnnotation.gff\n",
      "lrwxrwxrwx 1 mcollenberg p-diffLines_20       138 Oct  6  2021 at9806.scaffolds.bionano.final.fasta -> /ebio/abt6_projects7/diffLines_20/data/1_genomes/hifiasm/2_scaffolding/3_removeUnplaced/2_subsetFASTA/at9806.scaffolds.bionano.final.fasta\n",
      "-rw-rw---- 1 mcollenberg p-diffLines_20 136594010 Oct  6  2021 at9806.softmasked.final.fasta\n",
      "lrwxrwxrwx 1 mcollenberg p-diffLines_20       122 Aug 30  2021 at9830.repeatAnnotation.gff -> /tmp/global2/mcollenberg/data/diff_lines/hifiasm/5_repeatAnnotation/3_combineRepeatAnnotations/at9830.repeatAnnotation.gff\n",
      "lrwxrwxrwx 1 mcollenberg p-diffLines_20       138 Oct  6  2021 at9830.scaffolds.bionano.final.fasta -> /ebio/abt6_projects7/diffLines_20/data/1_genomes/hifiasm/2_scaffolding/3_removeUnplaced/2_subsetFASTA/at9830.scaffolds.bionano.final.fasta\n",
      "-rw-rw---- 1 mcollenberg p-diffLines_20 133043886 Oct  6  2021 at9830.softmasked.final.fasta\n",
      "lrwxrwxrwx 1 mcollenberg p-diffLines_20       122 Aug 30  2021 at9847.repeatAnnotation.gff -> /tmp/global2/mcollenberg/data/diff_lines/hifiasm/5_repeatAnnotation/3_combineRepeatAnnotations/at9847.repeatAnnotation.gff\n",
      "lrwxrwxrwx 1 mcollenberg p-diffLines_20       138 Oct  6  2021 at9847.scaffolds.bionano.final.fasta -> /ebio/abt6_projects7/diffLines_20/data/1_genomes/hifiasm/2_scaffolding/3_removeUnplaced/2_subsetFASTA/at9847.scaffolds.bionano.final.fasta\n",
      "-rw-rw---- 1 mcollenberg p-diffLines_20 134832531 Oct  6  2021 at9847.softmasked.final.fasta\n",
      "lrwxrwxrwx 1 mcollenberg p-diffLines_20       122 Aug 30  2021 at9852.repeatAnnotation.gff -> /tmp/global2/mcollenberg/data/diff_lines/hifiasm/5_repeatAnnotation/3_combineRepeatAnnotations/at9852.repeatAnnotation.gff\n",
      "lrwxrwxrwx 1 mcollenberg p-diffLines_20       138 Oct  6  2021 at9852.scaffolds.bionano.final.fasta -> /ebio/abt6_projects7/diffLines_20/data/1_genomes/hifiasm/2_scaffolding/3_removeUnplaced/2_subsetFASTA/at9852.scaffolds.bionano.final.fasta\n",
      "-rw-rw---- 1 mcollenberg p-diffLines_20 138592917 Oct  6  2021 at9852.softmasked.final.fasta\n",
      "lrwxrwxrwx 1 mcollenberg p-diffLines_20       122 Aug 30  2021 at9879.repeatAnnotation.gff -> /tmp/global2/mcollenberg/data/diff_lines/hifiasm/5_repeatAnnotation/3_combineRepeatAnnotations/at9879.repeatAnnotation.gff\n",
      "lrwxrwxrwx 1 mcollenberg p-diffLines_20       138 Oct  6  2021 at9879.scaffolds.bionano.final.fasta -> /ebio/abt6_projects7/diffLines_20/data/1_genomes/hifiasm/2_scaffolding/3_removeUnplaced/2_subsetFASTA/at9879.scaffolds.bionano.final.fasta\n",
      "-rw-rw---- 1 mcollenberg p-diffLines_20 140806092 Oct  6  2021 at9879.softmasked.final.fasta\n",
      "lrwxrwxrwx 1 mcollenberg p-diffLines_20       122 Aug 30  2021 at9883.repeatAnnotation.gff -> /tmp/global2/mcollenberg/data/diff_lines/hifiasm/5_repeatAnnotation/3_combineRepeatAnnotations/at9883.repeatAnnotation.gff\n",
      "lrwxrwxrwx 1 mcollenberg p-diffLines_20       138 Oct  6  2021 at9883.scaffolds.bionano.final.fasta -> /ebio/abt6_projects7/diffLines_20/data/1_genomes/hifiasm/2_scaffolding/3_removeUnplaced/2_subsetFASTA/at9883.scaffolds.bionano.final.fasta\n",
      "-rw-rw---- 1 mcollenberg p-diffLines_20 136765533 Oct  6  2021 at9883.softmasked.final.fasta\n",
      "lrwxrwxrwx 1 mcollenberg p-diffLines_20       122 Aug 30  2021 at9900.repeatAnnotation.gff -> /tmp/global2/mcollenberg/data/diff_lines/hifiasm/5_repeatAnnotation/3_combineRepeatAnnotations/at9900.repeatAnnotation.gff\n",
      "lrwxrwxrwx 1 mcollenberg p-diffLines_20       138 Oct  6  2021 at9900.scaffolds.bionano.final.fasta -> /ebio/abt6_projects7/diffLines_20/data/1_genomes/hifiasm/2_scaffolding/3_removeUnplaced/2_subsetFASTA/at9900.scaffolds.bionano.final.fasta\n",
      "-rw-rw---- 1 mcollenberg p-diffLines_20 134680471 Oct  6  2021 at9900.softmasked.final.fasta\n",
      "-rw-rw---- 1 mcollenberg p-diffLines_20       212 Oct  6  2021 softmaskScaffolds.sh\n"
     ]
    }
   ],
   "source": [
    "ls -l /ebio/abt6_projects7/diffLines_20/data/1_genomes/hifiasm/6_gene_annotation/1_masking/"
   ]
  },
  {
   "cell_type": "markdown",
   "id": "137604b4-549b-4756-92f8-f2bc05b87435",
   "metadata": {},
   "source": [
    "**except**, those `*.repeatAnnotation.gff` are broken symlinks, either as those files are owned only by max, or because they are no longer there."
   ]
  },
  {
   "cell_type": "code",
   "execution_count": 7,
   "id": "a4ebbefe-12c8-4968-a251-3a25ff283f6f",
   "metadata": {},
   "outputs": [
    {
     "name": "stdout",
     "output_type": "stream",
     "text": [
      "head: cannot open '/ebio/abt6_projects7/diffLines_20/data/1_genomes/hifiasm/6_gene_annotation/1_masking/at6137.repeatAnnotation.gff' for reading: Permission denied\n"
     ]
    },
    {
     "ename": "",
     "evalue": "1",
     "output_type": "error",
     "traceback": []
    }
   ],
   "source": [
    "head -n 1  /ebio/abt6_projects7/diffLines_20/data/1_genomes/hifiasm/6_gene_annotation/1_masking/at6137.repeatAnnotation.gff"
   ]
  },
  {
   "cell_type": "markdown",
   "id": "e95552ff-113f-4d64-9e0f-90e55079f9b8",
   "metadata": {},
   "source": [
    "But, if we look at an equivalent directory on /ebio, the files seem to be there"
   ]
  },
  {
   "cell_type": "code",
   "execution_count": 8,
   "id": "22f7a549-8ede-47a5-bb0b-009aef9c7068",
   "metadata": {},
   "outputs": [
    {
     "name": "stdout",
     "output_type": "stream",
     "text": [
      "-rw-rw---- 1 mcollenberg p-diffLines_20 18M Aug 30  2021 /ebio/abt6_projects7/diffLines_20/data/1_genomes/hifiasm/5_repeatAnnotation/3_combineRepeatAnnotations/at6137.repeatAnnotation.gff\n",
      "-rw-rw---- 1 mcollenberg p-diffLines_20 16M Aug 30  2021 /ebio/abt6_projects7/diffLines_20/data/1_genomes/hifiasm/5_repeatAnnotation/3_combineRepeatAnnotations/at6923.repeatAnnotation.gff\n",
      "-rw-rw---- 1 mcollenberg p-diffLines_20 28M Aug 30  2021 /ebio/abt6_projects7/diffLines_20/data/1_genomes/hifiasm/5_repeatAnnotation/3_combineRepeatAnnotations/at6929.repeatAnnotation.gff\n",
      "-rw-rw---- 1 mcollenberg p-diffLines_20 15M Aug 30  2021 /ebio/abt6_projects7/diffLines_20/data/1_genomes/hifiasm/5_repeatAnnotation/3_combineRepeatAnnotations/at7143.repeatAnnotation.gff\n",
      "-rw-rw---- 1 mcollenberg p-diffLines_20 18M Aug 30  2021 /ebio/abt6_projects7/diffLines_20/data/1_genomes/hifiasm/5_repeatAnnotation/3_combineRepeatAnnotations/at8285.repeatAnnotation.gff\n",
      "-rw-rw---- 1 mcollenberg p-diffLines_20 18M Aug 30  2021 /ebio/abt6_projects7/diffLines_20/data/1_genomes/hifiasm/5_repeatAnnotation/3_combineRepeatAnnotations/at9104.repeatAnnotation.gff\n",
      "-rw-rw---- 1 mcollenberg p-diffLines_20 17M Aug 30  2021 /ebio/abt6_projects7/diffLines_20/data/1_genomes/hifiasm/5_repeatAnnotation/3_combineRepeatAnnotations/at9336.repeatAnnotation.gff\n",
      "-rw-rw---- 1 mcollenberg p-diffLines_20 18M Aug 30  2021 /ebio/abt6_projects7/diffLines_20/data/1_genomes/hifiasm/5_repeatAnnotation/3_combineRepeatAnnotations/at9503.repeatAnnotation.gff\n",
      "-rw-rw---- 1 mcollenberg p-diffLines_20 16M Aug 30  2021 /ebio/abt6_projects7/diffLines_20/data/1_genomes/hifiasm/5_repeatAnnotation/3_combineRepeatAnnotations/at9578.repeatAnnotation.gff\n",
      "-rw-rw---- 1 mcollenberg p-diffLines_20 28M Aug 30  2021 /ebio/abt6_projects7/diffLines_20/data/1_genomes/hifiasm/5_repeatAnnotation/3_combineRepeatAnnotations/at9744.repeatAnnotation.gff\n",
      "-rw-rw---- 1 mcollenberg p-diffLines_20 22M Aug 30  2021 /ebio/abt6_projects7/diffLines_20/data/1_genomes/hifiasm/5_repeatAnnotation/3_combineRepeatAnnotations/at9762.repeatAnnotation.gff\n",
      "-rw-rw---- 1 mcollenberg p-diffLines_20 31M Aug 30  2021 /ebio/abt6_projects7/diffLines_20/data/1_genomes/hifiasm/5_repeatAnnotation/3_combineRepeatAnnotations/at9806.repeatAnnotation.gff\n",
      "-rw-rw---- 1 mcollenberg p-diffLines_20 28M Aug 30  2021 /ebio/abt6_projects7/diffLines_20/data/1_genomes/hifiasm/5_repeatAnnotation/3_combineRepeatAnnotations/at9830.repeatAnnotation.gff\n",
      "-rw-rw---- 1 mcollenberg p-diffLines_20 18M Aug 30  2021 /ebio/abt6_projects7/diffLines_20/data/1_genomes/hifiasm/5_repeatAnnotation/3_combineRepeatAnnotations/at9847.repeatAnnotation.gff\n",
      "-rw-rw---- 1 mcollenberg p-diffLines_20 23M Aug 30  2021 /ebio/abt6_projects7/diffLines_20/data/1_genomes/hifiasm/5_repeatAnnotation/3_combineRepeatAnnotations/at9852.repeatAnnotation.gff\n",
      "-rw-rw---- 1 mcollenberg p-diffLines_20 23M Aug 30  2021 /ebio/abt6_projects7/diffLines_20/data/1_genomes/hifiasm/5_repeatAnnotation/3_combineRepeatAnnotations/at9879.repeatAnnotation.gff\n",
      "-rw-rw---- 1 mcollenberg p-diffLines_20 18M Aug 30  2021 /ebio/abt6_projects7/diffLines_20/data/1_genomes/hifiasm/5_repeatAnnotation/3_combineRepeatAnnotations/at9883.repeatAnnotation.gff\n",
      "-rw-rw---- 1 mcollenberg p-diffLines_20 19M Aug 30  2021 /ebio/abt6_projects7/diffLines_20/data/1_genomes/hifiasm/5_repeatAnnotation/3_combineRepeatAnnotations/at9900.repeatAnnotation.gff\n"
     ]
    }
   ],
   "source": [
    "ls -lh /ebio/abt6_projects7/diffLines_20/data/1_genomes/hifiasm/5_repeatAnnotation/3_combineRepeatAnnotations/*.repeatAnnotation.gff"
   ]
  },
  {
   "cell_type": "markdown",
   "id": "16218b0e-ed81-4376-8c23-1bd23d3539ce",
   "metadata": {},
   "source": [
    "However, in that directory, there are multiple versions (3_ and 3.1_combineRepeatAnnotation)"
   ]
  },
  {
   "cell_type": "code",
   "execution_count": 9,
   "id": "31b9e021-a314-408d-a13f-64f48cc42020",
   "metadata": {},
   "outputs": [
    {
     "name": "stdout",
     "output_type": "stream",
     "text": [
      "0_scripts\t\t      5_te_visualization   tair10.helitron.length\n",
      "1_edtaTEannotation\t      6_te_slidingWindows  tair10_TE.length\n",
      "2_otherRepeats\t\t      7_te_length\t   testing\n",
      "3.1_combineRepeatAnnotations  old\t\t   testing2\n",
      "3_combineRepeatAnnotations    tair10.copia.length  testing3\n",
      "4_tRNA\t\t\t      tair10.gypsy.length\n"
     ]
    }
   ],
   "source": [
    "ls /ebio/abt6_projects7/diffLines_20/data/1_genomes/hifiasm/5_repeatAnnotation/"
   ]
  },
  {
   "cell_type": "markdown",
   "id": "ed0b00d6-1be2-4a1a-b19f-ce5caf5fa571",
   "metadata": {},
   "source": [
    "# Questions:\n",
    "\n",
    "- Does this chain correctly represent how the `at6137.softmasked.final.gff3` annotations came to be?\n",
    "- Which version of the `combineRepeatAnnotations` ended up being used to mask the fastas?\n",
    "- Are there anything we're missing?"
   ]
  }
 ],
 "metadata": {
  "kernelspec": {
   "display_name": "Bash",
   "language": "bash",
   "name": "bash"
  },
  "language_info": {
   "codemirror_mode": "shell",
   "file_extension": ".sh",
   "mimetype": "text/x-sh",
   "name": "bash"
  }
 },
 "nbformat": 4,
 "nbformat_minor": 5
}
