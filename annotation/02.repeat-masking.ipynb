{
 "cells": [
  {
   "cell_type": "markdown",
   "id": "609fc66b-0702-488e-9fae-f9bfe04ba595",
   "metadata": {},
   "source": [
    "# Un-mask softmasked genomes"
   ]
  },
  {
   "cell_type": "code",
   "execution_count": 1,
   "id": "bddedfc6-d93a-4b95-9205-62d726896c04",
   "metadata": {},
   "outputs": [],
   "source": [
    "conda activate dl20\n",
    "mkdir -p output/01_assembly/02_masked\n",
    "mkdir -p tmp/01_assembly/02_masked/\n",
    "git annex unlock -q output/01_assembly/02_masked"
   ]
  },
  {
   "cell_type": "markdown",
   "id": "bd7393a1-c2db-4591-81b4-e809723a7bc7",
   "metadata": {},
   "source": [
    "In the following, we:\n",
    "\n",
    "1. completely unmask Max's original scaffolds (with panSN names)\n",
    "2. for each of the three levels of repeat masking, we\n",
    "    1. get this accessions entries out of Adri's big gff, then rename the PanSN names to use `_`\n",
    "    2. mask the fasta with this new renamed gff\n",
    "    3. faidx the resulting fasta"
   ]
  },
  {
   "cell_type": "code",
   "execution_count": 2,
   "id": "6c8fb539-5ae1-4ea1-bf32-3462447cf11e",
   "metadata": {},
   "outputs": [
    {
     "name": "stdout",
     "output_type": "stream",
     "text": [
      "done at6137\n",
      "done at6923\n",
      "done at6929\n",
      "done at7143\n",
      "done at8285\n",
      "done at9104\n",
      "done at9336\n",
      "done at9503\n",
      "done at9578\n",
      "done at9744\n",
      "done at9762\n",
      "done at9806\n",
      "done at9830\n",
      "done at9847\n",
      "done at9852\n",
      "done at9879\n",
      "done at9883\n",
      "done at9900\n"
     ]
    }
   ],
   "source": [
    "dl20=(\n",
    "at6137 at6923 at6929 at7143 at8285 at9104 at9336 at9503\n",
    "at9578 at9744 at9762 at9806 at9830 at9847 at9852 at9879\n",
    "at9883 at9900\n",
    ")\n",
    "for accession in \"${dl20[@]}\"\n",
    "do\n",
    "    # UNMAKSED\n",
    "    seqtk seq -U -S output/01_assembly/01_pansn-named/${accession}.scaffolds-v2.3.fasta \\\n",
    "        > output/01_assembly/02_masked/${accession}.scaffolds.unmasked.fasta\n",
    "    samtools faidx output/01_assembly/02_masked/${accession}.scaffolds.unmasked.fasta\n",
    "    \n",
    "    \n",
    "    # Adri's EVERYTHING\n",
    "    grep \"^$accession\" input/2022-07-16_curated-repeat-annotation-adri/pangenome.fasta.mod.EDTA.TEanno.gff3 | \\\n",
    "    ./src/pansn-rename -R '_' -d '#' -D '_' -m cat \\\n",
    "        -r output/01_assembly/01_pansn-named/${accession}.scaffolds-v2.3.fasta.fai \\\n",
    "        -o tmp/01_assembly/02_masked/${accession}_all-repeats.gff3 \\\n",
    "        -\n",
    "    bedtools maskfasta \\\n",
    "        -fi output/01_assembly/01_pansn-named/${accession}.scaffolds-v2.3.fasta \\\n",
    "        -fo output/01_assembly/02_masked/${accession}.scaffolds.all-repeats-masked.fasta \\\n",
    "        -bed tmp/01_assembly/02_masked/${accession}_all-repeats.gff3 \\\n",
    "        -soft -fullHeader\n",
    "    samtools faidx output/01_assembly/02_masked/${accession}.scaffolds.all-repeats-masked.fasta\n",
    "    \n",
    "    \n",
    "    # TELOMERES, CENTROMERES, AND RDNAS\n",
    "    grep \"^$accession\" input/2022-07-16_curated-repeat-annotation-adri/telomeres_centromeres_rDNAs.gff3 | \\\n",
    "    ./src/pansn-rename -R '_' -d '#' -D '_' -m cat \\\n",
    "        -r output/01_assembly/01_pansn-named/${accession}.scaffolds-v2.3.fasta.fai \\\n",
    "        -o tmp/01_assembly/02_masked/${accession}_telo-centro-rdna.gff3 \\\n",
    "        -\n",
    "    bedtools maskfasta \\\n",
    "        -fi output/01_assembly/01_pansn-named/${accession}.scaffolds-v2.3.fasta \\\n",
    "        -fo output/01_assembly/02_masked/${accession}.scaffolds.telo-centro-rdna-masked.fasta \\\n",
    "        -bed tmp/01_assembly/02_masked/${accession}_telo-centro-rdna.gff3 \\\n",
    "        -soft -fullHeader\n",
    "    samtools faidx output/01_assembly/02_masked/${accession}.scaffolds.telo-centro-rdna-masked.fasta\n",
    "    \n",
    "    # Adri's REDUCED, \"HIGH CONFIDENCE\" TE ANNOTATION\n",
    "    grep \"^$accession\" input/2022-07-16_curated-repeat-annotation-adri/reduced_TE_anno.gff3 | \\\n",
    "    ./src/pansn-rename -R '_' -d '#' -D '_' -m cat \\\n",
    "        -r output/01_assembly/01_pansn-named/${accession}.scaffolds-v2.3.fasta.fai \\\n",
    "        -o tmp/01_assembly/02_masked/${accession}_reduced-te.gff3 \\\n",
    "        -\n",
    "    bedtools maskfasta \\\n",
    "        -fi output/01_assembly/01_pansn-named/${accession}.scaffolds-v2.3.fasta \\\n",
    "        -fo output/01_assembly/02_masked/${accession}.scaffolds.reduced-te-masked.fasta \\\n",
    "        -bed tmp/01_assembly/02_masked/${accession}_reduced-te.gff3 \\\n",
    "        -soft -fullHeader\n",
    "    samtools faidx output/01_assembly/02_masked/${accession}.scaffolds.reduced-te-masked.fasta\n",
    "    \n",
    "    echo \"done $accession\"\n",
    "done"
   ]
  },
  {
   "cell_type": "markdown",
   "id": "a5561e7c-2fa8-49ee-b8c5-c933e2bbd1d6",
   "metadata": {},
   "source": [
    "## Sanity checking\n",
    "\n",
    "The following files should have been soft-masked, and I do them in what should be the most masked -> least masked. we're counting lines in a bed file of masked regions, i.e. the number of masked features. In case you're re-running this, the numbers now are 36949, 5732, 658, and 0."
   ]
  },
  {
   "cell_type": "code",
   "execution_count": 3,
   "id": "78e23da0-5cb2-4fca-b93d-cb5f4300faeb",
   "metadata": {},
   "outputs": [
    {
     "name": "stdout",
     "output_type": "stream",
     "text": [
      "36949\n"
     ]
    }
   ],
   "source": [
    "blsl mask2bed output/01_assembly/02_masked/${accession}.scaffolds.all-repeats-masked.fasta | wc -l"
   ]
  },
  {
   "cell_type": "code",
   "execution_count": 4,
   "id": "ac201a8e-b5f0-43ec-b766-df7550d62667",
   "metadata": {},
   "outputs": [
    {
     "name": "stdout",
     "output_type": "stream",
     "text": [
      "5732\n"
     ]
    }
   ],
   "source": [
    "blsl mask2bed output/01_assembly/02_masked/${accession}.scaffolds.reduced-te-masked.fasta  | wc -l"
   ]
  },
  {
   "cell_type": "code",
   "execution_count": 5,
   "id": "e3f856f5-ebb4-48f6-8a95-ffbf1b3a0159",
   "metadata": {},
   "outputs": [
    {
     "name": "stdout",
     "output_type": "stream",
     "text": [
      "658\n"
     ]
    }
   ],
   "source": [
    "blsl mask2bed output/01_assembly/02_masked/${accession}.scaffolds.telo-centro-rdna-masked.fasta  | wc -l"
   ]
  },
  {
   "cell_type": "code",
   "execution_count": 6,
   "id": "27b0c5b8-f48a-4544-9ab6-d5047013af6f",
   "metadata": {},
   "outputs": [
    {
     "name": "stdout",
     "output_type": "stream",
     "text": [
      "0\n"
     ]
    }
   ],
   "source": [
    "blsl mask2bed output/01_assembly/02_masked/${accession}.scaffolds.unmasked.fasta | wc -l"
   ]
  }
 ],
 "metadata": {
  "jupytext": {
   "formats": "ipynb,sh:light"
  },
  "kernelspec": {
   "display_name": "Bash",
   "language": "bash",
   "name": "bash"
  },
  "language_info": {
   "codemirror_mode": "shell",
   "file_extension": ".sh",
   "mimetype": "text/x-sh",
   "name": "bash"
  }
 },
 "nbformat": 4,
 "nbformat_minor": 5
}
