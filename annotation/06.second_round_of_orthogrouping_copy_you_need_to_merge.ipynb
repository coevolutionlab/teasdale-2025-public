{
 "cells": [
  {
   "cell_type": "markdown",
   "id": "f4a435b6-9ee3-4953-83f8-c9c42f29a1fb",
   "metadata": {},
   "source": [
    "# Step 6. Second round of Orthogrouping"
   ]
  },
  {
   "cell_type": "code",
   "execution_count": 6,
   "id": "26b0a9bd-596d-4793-b399-57773770a0ae",
   "metadata": {},
   "outputs": [],
   "source": [
    "conda activate dl20-orthogrouping\n",
    "# need gff2bed installed \n",
    "\n",
    "#See Luisa if you have questions"
   ]
  },
  {
   "cell_type": "markdown",
   "id": "114f6b72-cbf0-4d03-969e-fbe6dd382a6e",
   "metadata": {},
   "source": [
    "Aims:\n",
    "\n",
    "- redo the orthogrouping based on the new annotations and perform several more rigorous orthogrouping analyses\n",
    "- Orthofinder for proteins\n",
    "- Orthofinder for nucleotide sequences of the coding region (including introns?)\n",
    "- Orthofinder for nucleotide sequences of the flanking regions (on their own)\n",
    "- Blast for inclusive clusters\n",
    "- Kmer based clustering for finer scale clusters\n",
    "- Graph based clustering?"
   ]
  },
  {
   "cell_type": "markdown",
   "id": "091ad2f7-7fee-4a9a-91e2-ebec20df6617",
   "metadata": {},
   "source": [
    "### Part 1: Output nucleotide sequences for the coding regions and translate into aa"
   ]
  },
  {
   "cell_type": "markdown",
   "id": "5715761f-9c0d-45db-9fd7-5d55dacde384",
   "metadata": {},
   "source": [
    "Input:\n",
    "- Fixed gffs (output/02_annotation/02_manual-curation-updated/at6137/${accession}.manualcuration.fixed.gff3)\n",
    "- Scaffolds (output/01_assembly/01_pansn-named/${accession}.scaffolds-v2.3.fasta)"
   ]
  },
  {
   "cell_type": "code",
   "execution_count": 7,
   "id": "b0ce4315-0ab6-432a-85a2-9234880309e2",
   "metadata": {},
   "outputs": [],
   "source": [
    "dl20=(\n",
    "at6137 at6923 at6929 at7143\n",
    "at8285 at9104 at9336 at9503\n",
    "at9578 at9744 at9762 at9806\n",
    "at9830 at9847 at9852 at9879\n",
    "at9883 at9900\n",
    ")"
   ]
  },
  {
   "cell_type": "code",
   "execution_count": 11,
   "id": "4957f3c9-1fb5-4c51-9629-4116d368cace",
   "metadata": {},
   "outputs": [],
   "source": [
    "# output the fasta sequences\n",
    "mkdir -p tmp/02_annotation/06_orthogrouping/bed\n",
    "for accession in \"${dl20[@]}\"\n",
    "do \n",
    "gff2bed < output/02_annotation/02_manual-curation-updated/${accession}/${accession}.manualcuration.gff3 > tmp/02_annotation/06_orthogrouping/bed/${accession}_sorted.bed\n",
    "done"
   ]
  },
  {
   "cell_type": "code",
   "execution_count": 22,
   "id": "f69e0a1e-278c-42ec-b63f-5d032fc60573",
   "metadata": {},
   "outputs": [],
   "source": [
    "mkdir -p tmp/02_annotation/06_orthogrouping/fasta\n",
    "for accession in \"${dl20[@]}\"\n",
    "do\n",
    "    grep gene tmp/02_annotation/06_orthogrouping/bed/${accession}_sorted.bed > tmp/02_annotation/06_orthogrouping/bed/${accession}_sorted_genes.bed\n",
    "    bedtools getfasta -s -name \\\n",
    "       -fi output/01_assembly/01_pansn-named/${accession}.scaffolds-v2.3.fasta \\\n",
    "       -bed tmp/02_annotation/06_orthogrouping/bed/${accession}_sorted_genes.bed > tmp/02_annotation/06_orthogrouping/fasta/${accession}_all_features.fasta\n",
    "done"
   ]
  },
  {
   "cell_type": "code",
   "execution_count": 31,
   "id": "67a85d05-c762-4e40-8d7f-958c938fa0ef",
   "metadata": {},
   "outputs": [],
   "source": [
    "#Output original NLR orthogroups as orthogroup fasta files\n",
    "mkdir -p tmp/02_annotation/06_orthogrouping/original_orthogroup_fasta\n",
    "cp src/fasta_formatter_general_with_an_orthofinder_list_whole_genome.py tmp/02_annotation/06_orthogrouping/fasta/\n",
    "cp input/NLR_orthologs.csv tmp/02_annotation/06_orthogrouping/fasta/\n",
    "cd tmp/02_annotation/06_orthogrouping/fasta/\n",
    "python3 fasta_formatter_general_with_an_orthofinder_list_whole_genome.py -t NLR_orthologs.csv *.fasta\n",
    "mv *.fa ../../../../tmp/02_annotation/06_orthogrouping/original_orthogroup_fasta/\n",
    "rm fasta_formatter_general_with_an_orthofinder_list_whole_genome.py\n",
    "rm NLR_orthologs.csv\n",
    "cd ..\n",
    "cd ..\n",
    "cd ..\n",
    "cd .."
   ]
  },
  {
   "cell_type": "code",
   "execution_count": 38,
   "id": "043a59b1-3604-4ec9-bf56-94c7e2bf67e7",
   "metadata": {},
   "outputs": [],
   "source": [
    "# edit bed files such that you get 500bp flanking region\n",
    "\n",
    "mkdir -p tmp/02_annotation/06_orthogrouping/bed_flanking_500\n",
    "mkdir -p tmp/02_annotation/06_orthogrouping/fasta_flanking_500\n",
    "for accession in \"${dl20[@]}\"\n",
    "do\n",
    "    bedtools slop -i tmp/02_annotation/06_orthogrouping/bed/${accession}_sorted_genes.bed -g output/01_assembly/01_pansn-named/${accession}.scaffolds-v2.3.fasta.fai -b 500 > tmp/02_annotation/06_orthogrouping/bed_flanking_500/${accession}_sorted_genes_500_flanking.bed\n",
    "    bedtools getfasta -s -name \\\n",
    "       -fi output/01_assembly/01_pansn-named/${accession}.scaffolds-v2.3.fasta \\\n",
    "       -bed tmp/02_annotation/06_orthogrouping/bed_flanking_500/${accession}_sorted_genes_500_flanking.bed > tmp/02_annotation/06_orthogrouping/fasta_flanking_500/${accession}_all_features_flanking_500.fasta\n",
    "done\n"
   ]
  },
  {
   "cell_type": "code",
   "execution_count": 39,
   "id": "46ce5d62-0de4-42cb-9b3d-6bd7cce4d13a",
   "metadata": {},
   "outputs": [],
   "source": [
    "#Output original NLR orthogroups as orthogroup fasta files with 500bp flanking either side of the gene\n",
    "mkdir -p tmp/02_annotation/06_orthogrouping/original_orthogroup_fasta_500bp_flanking\n",
    "cp src/fasta_formatter_general_with_an_orthofinder_list_whole_genome.py tmp/02_annotation/06_orthogrouping/fasta_flanking_500\n",
    "cp input/NLR_orthologs.csv tmp/02_annotation/06_orthogrouping/fasta_flanking_500/\n",
    "cd tmp/02_annotation/06_orthogrouping/fasta_flanking_500\n",
    "python3 fasta_formatter_general_with_an_orthofinder_list_whole_genome.py -t NLR_orthologs.csv *.fasta\n",
    "mv *.fa ../../../../tmp/02_annotation/06_orthogrouping/original_orthogroup_fasta_500bp_flanking/\n",
    "rm fasta_formatter_general_with_an_orthofinder_list_whole_genome.py\n",
    "rm NLR_orthologs.csv\n",
    "cd ..\n",
    "cd ..\n",
    "cd ..\n",
    "cd .."
   ]
  },
  {
   "cell_type": "code",
   "execution_count": 6,
   "id": "1eed9932-488b-4858-85c0-af31622cfad8",
   "metadata": {},
   "outputs": [],
   "source": [
    "# using just the mRNA of the liftoff to pull out the fasta sequences\n",
    "\n",
    "mkdir -p tmp/02_annotation/06_orthogrouping/bed_liftoff\n",
    "for accession in \"${dl20[@]}\"\n",
    "do \n",
    "gff2bed < output/01_assembly/01_pansn-named/${accession}.liftoff-v2.3.gff > tmp/02_annotation/06_orthogrouping/bed_liftoff/${accession}_sorted.bed\n",
    "done\n"
   ]
  },
  {
   "cell_type": "code",
   "execution_count": 7,
   "id": "f7a47962-64c4-4a2e-8f34-30a8d5d30fec",
   "metadata": {},
   "outputs": [],
   "source": [
    "mkdir -p tmp/02_annotation/06_orthogrouping/fasta_liftoff\n",
    "for accession in \"${dl20[@]}\"\n",
    "do\n",
    "    grep mRNA tmp/02_annotation/06_orthogrouping/bed_liftoff/${accession}_sorted.bed > tmp/02_annotation/06_orthogrouping/bed_liftoff/${accession}_sorted_mRNA.bed\n",
    "    bedtools getfasta -s -name \\\n",
    "       -fi output/01_assembly/01_pansn-named/${accession}.scaffolds-v2.3.fasta \\\n",
    "       -bed tmp/02_annotation/06_orthogrouping/bed_liftoff/${accession}_sorted_mRNA.bed > tmp/02_annotation/06_orthogrouping/fasta_liftoff/${accession}_all_features.fasta\n",
    "done"
   ]
  },
  {
   "cell_type": "code",
   "execution_count": 17,
   "id": "bd8541a1-884b-498f-aff7-94ccfc56cca0",
   "metadata": {},
   "outputs": [],
   "source": [
    "#write own python editor for bed files to get the flanking region\n",
    "\n",
    "#tmp/02_annotation/06_orthogrouping/bed/${accession}_sorted_genes.bed\n",
    "\n",
    "mkdir -p tmp/02_annotation/06_orthogrouping/bed_with_max500_but_non-overlaping\n",
    "cp flanking_regions_bed_editor.py tmp/02_annotation/06_orthogrouping/bed/\n",
    "\n",
    "cd tmp/02_annotation/06_orthogrouping/bed/\n",
    "\n",
    "for accession in \"${dl20[@]}\"\n",
    "do \n",
    "    python3 flanking_regions_bed_editor.py \\\n",
    "    -g ${accession}_sorted_genes.bed \\\n",
    "    -f ../../../../output/01_assembly/01_pansn-named/${accession}.scaffolds-v2.3.fasta.fai \\\n",
    "    -m 500 > ../bed_with_max500_but_non-overlaping/${accession}_sorted_genes_with_flanking.bed\n",
    "done\n",
    "\n",
    "cd /home/luisa/work/detlef/difflines_annex/assembly-and-annotation/\n",
    "\n"
   ]
  },
  {
   "cell_type": "code",
   "execution_count": 19,
   "id": "b9e0a844-794e-4cf9-8fef-c2675ee730d6",
   "metadata": {},
   "outputs": [],
   "source": [
    "mkdir -p tmp/02_annotation/06_orthogrouping/fasta_with_max100_flanking_but_not_overlaping\n",
    "for accession in \"${dl20[@]}\"\n",
    "do\n",
    "    bedtools getfasta -s -name \\\n",
    "       -fi output/01_assembly/01_pansn-named/${accession}.scaffolds-v2.3.fasta \\\n",
    "       -bed tmp/02_annotation/06_orthogrouping/bed_with_max500_but_non-overlaping/${accession}_sorted_genes_with_flanking.bed \\\n",
    "       > tmp/02_annotation/06_orthogrouping/fasta_with_max100_flanking_but_not_overlaping/${accession}_all_features_flanking.fasta\n",
    "done\n"
   ]
  },
  {
   "cell_type": "code",
   "execution_count": 20,
   "id": "579f4b19-6b02-4b52-87d0-1aa3edbaf5a2",
   "metadata": {},
   "outputs": [],
   "source": [
    "mkdir -p original_orthogroup_fasta_flanking_but_not_overlaping_500\n",
    "\n",
    "#Output original NLR orthogroups as orthogroup fasta files with 500bp flanking either side of the gene\n",
    "cp src/fasta_formatter_general_with_an_orthofinder_list_whole_genome.py tmp/02_annotation/06_orthogrouping/fasta_with_max100_flanking_but_not_overlaping/\n",
    "cp input/NLR_orthologs.csv tmp/02_annotation/06_orthogrouping/fasta_with_max100_flanking_but_not_overlaping/\n",
    "cd tmp/02_annotation/06_orthogrouping/fasta_with_max100_flanking_but_not_overlaping\n",
    "python3 fasta_formatter_general_with_an_orthofinder_list_whole_genome.py -t NLR_orthologs.csv *.fasta\n",
    "mv *.fa ../../../../tmp/02_annotation/06_orthogrouping/original_orthogroup_fasta_flanking_but_not_overlaping_500/\n",
    "rm fasta_formatter_general_with_an_orthofinder_list_whole_genome.py\n",
    "rm NLR_orthologs.csv\n",
    "cd ..\n",
    "cd ..\n",
    "cd ..\n",
    "cd .."
   ]
  },
  {
   "cell_type": "code",
   "execution_count": 14,
   "id": "41c4929f-7678-482c-8850-281543bf1179",
   "metadata": {},
   "outputs": [],
   "source": [
    "mkdir -p tmp/02_annotation/06_orthogrouping/parseval_test"
   ]
  },
  {
   "cell_type": "code",
   "execution_count": 26,
   "id": "ddc86b81-46c8-4dd1-9e4b-c6715cbb667f",
   "metadata": {},
   "outputs": [],
   "source": [
    "sed 's/transcript/mRNA/g' output/02_annotation/03_augustus-reannotation/at6137~reduced-te-masked/02_augustus/at6137~reduced-te-masked_augustus_spp-arabidopsis.idfix.gff3 > tmp/02_annotation/06_orthogrouping/parseval_test/augustus_reduced_te_masked_at6137_test.gff"
   ]
  },
  {
   "cell_type": "code",
   "execution_count": 15,
   "id": "384a7270-ffc7-4f13-9451-529f5df36061",
   "metadata": {},
   "outputs": [],
   "source": [
    "sed 's/transcript/mRNA/g' output/02_annotation/01_original-annotation-merged/at6137.augustus-v2.3.gff3 > tmp/02_annotation/06_orthogrouping/parseval_test/augustus_at6137_test.gff"
   ]
  },
  {
   "cell_type": "code",
   "execution_count": 27,
   "id": "b0dea080-8c45-4341-8988-56fd565b1fb5",
   "metadata": {},
   "outputs": [],
   "source": [
    "grep -v \"intron\" tmp/02_annotation/06_orthogrouping/parseval_test/augustus_reduced_te_masked_at6137_test.gff > tmp/02_annotation/06_orthogrouping/parseval_test/augustus_reduced_te_at6137_test_nointrons.gff"
   ]
  },
  {
   "cell_type": "code",
   "execution_count": 19,
   "id": "8d7b4f87-e191-4517-802d-a3232bbb2a45",
   "metadata": {},
   "outputs": [
    {
     "name": "stdout",
     "output_type": "stream",
     "text": [
      "\n",
      "ParsEval: comparative analysis of two alternative sources of annotation\n",
      "Usage: parseval [options] reference.gff3 prediction.gff3\n",
      "  Basic options:\n",
      "    -d|--debug:                 Print debugging messages\n",
      "    -h|--help:                  Print help message and exit\n",
      "    -l|--delta: INT             Extend gene loci by this many nucleotides;\n",
      "                                default is 0\n",
      "    -V|--verbose:               Print verbose warning messages\n",
      "    -v|--version:               Print version number and exit\n",
      "\n",
      "  Output options:\n",
      "    -a|--datashare: STRING      Location from which to copy shared data for\n",
      "                                HTML output (if `make install' has not yet\n",
      "                                been run)\n",
      "    -f|--outformat: STRING      Indicate desired output format; possible\n",
      "                                options: 'csv', 'text', or 'html'\n",
      "                                (default='text'); in 'text' or 'csv' mode,\n",
      "                                will create a single file; in 'html' mode,\n",
      "                                will create a directory\n",
      "    -g|--nogff3:                Do no print GFF3 output corresponding to each\n",
      "                                comparison\n",
      "    -o|--outfile: FILENAME      File/directory to which output will be\n",
      "                                written; default is the terminal (STDOUT)\n",
      "    -p|--nopng:                 In HTML output mode, skip generation of PNG\n",
      "                                graphics for each gene locus\n",
      "    -s|--summary:               Only print summary statistics, do not print\n",
      "                                individual comparisons\n",
      "    -w|--overwrite:             Force overwrite of any existing output files\n",
      "    -x|--refrlabel: STRING      Optional label for reference annotations\n",
      "    -y|--predlabel: STRING      Optional label for prediction annotations\n",
      "\n",
      "  Filtering options:\n",
      "    -k|--makefilter             Create a default configuration file for\n",
      "                                filtering reported results and quit,\n",
      "                                performing no comparisons\n",
      "    -r|--filterfile: STRING     Use the indicated configuration file to\n",
      "                                filter reported results;\n",
      "    -t|--maxtrans: INT          Maximum transcripts allowed per locus; use 0\n",
      "                                to disable limit; default is 32\n",
      "\n"
     ]
    }
   ],
   "source": [
    "parseval --help"
   ]
  },
  {
   "cell_type": "code",
   "execution_count": 29,
   "id": "d9d84252-b075-40c8-9ffc-bc8b1ca6c312",
   "metadata": {},
   "outputs": [
    {
     "name": "stdout",
     "output_type": "stream",
     "text": [
      "error: mRNA 'g19461.t1' has 3 exons but 3 introns\n",
      "warning: found no valid mRNAs for gene 'g19461'\n"
     ]
    }
   ],
   "source": [
    "parseval -o parseval_test6_re_te --summary tmp/02_annotation/06_orthogrouping/parseval_test/augustus_at6137_test.gff tmp/02_annotation/06_orthogrouping/parseval_test/augustus_reduced_te_at6137_test_nointrons.gff"
   ]
  },
  {
   "cell_type": "code",
   "execution_count": 33,
   "id": "f135bab5-939d-493d-98e5-77dd97947354",
   "metadata": {},
   "outputs": [
    {
     "name": "stdout",
     "output_type": "stream",
     "text": [
      "warning: seqid \"at6137_1_chr1\" on line 2 in file \"tmp/02_annotation/06_orthogrouping/parseval_test/augustus_reduced_te_at6137_test_nointrons.gff\" has not been previously introduced with a \"##sequence-region\" line, create such a line automatically\n",
      "warning: seqid \"at6137_1_chr2\" on line 157593 in file \"tmp/02_annotation/06_orthogrouping/parseval_test/augustus_reduced_te_at6137_test_nointrons.gff\" has not been previously introduced with a \"##sequence-region\" line, create such a line automatically\n",
      "warning: seqid \"at6137_1_chr3\" on line 265919 in file \"tmp/02_annotation/06_orthogrouping/parseval_test/augustus_reduced_te_at6137_test_nointrons.gff\" has not been previously introduced with a \"##sequence-region\" line, create such a line automatically\n",
      "warning: seqid \"at6137_1_chr4\" on line 402007 in file \"tmp/02_annotation/06_orthogrouping/parseval_test/augustus_reduced_te_at6137_test_nointrons.gff\" has not been previously introduced with a \"##sequence-region\" line, create such a line automatically\n",
      "warning: seqid \"at6137_1_chr5\" on line 493925 in file \"tmp/02_annotation/06_orthogrouping/parseval_test/augustus_reduced_te_at6137_test_nointrons.gff\" has not been previously introduced with a \"##sequence-region\" line, create such a line automatically\n",
      "warning: seqid \"at6137_9_u81\" on line 636037 in file \"tmp/02_annotation/06_orthogrouping/parseval_test/augustus_reduced_te_at6137_test_nointrons.gff\" has not been previously introduced with a \"##sequence-region\" line, create such a line automatically\n",
      "error: mRNA 'g19461.t1' has 3 exons but 3 introns\n",
      "warning: found no valid mRNAs for gene 'g19461'\n"
     ]
    }
   ],
   "source": [
    "parseval -f html -p -o parseval_test6_re_te_3 tmp/02_annotation/06_orthogrouping/parseval_test/augustus_reduced_te_at6137_test_nointrons.gff tmp/02_annotation/06_orthogrouping/parseval_test/augustus_at6137_test.gff"
   ]
  }
 ],
 "metadata": {
  "kernelspec": {
   "display_name": "Bash",
   "language": "bash",
   "name": "bash"
  },
  "language_info": {
   "codemirror_mode": "shell",
   "file_extension": ".sh",
   "mimetype": "text/x-sh",
   "name": "bash"
  }
 },
 "nbformat": 4,
 "nbformat_minor": 5
}
