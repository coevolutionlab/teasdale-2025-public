{
 "cells": [
  {
   "cell_type": "code",
   "execution_count": null,
   "id": "0ac13cca-f3b5-4fe1-a0c6-2b9c1551db8f",
   "metadata": {},
   "outputs": [],
   "source": [
    "\n",
    "uagat_sp_statistics.pl --gff annotation/${ACCESSION}~${SCAFFOLD_TITLE}/02.augustus/${ACCESSION}~${SCAFFOLD_TITLE}_augustus_spp-arabidopsis.gff3"
   ]
  },
  {
   "cell_type": "markdown",
   "id": "6896aeae-7a02-47ad-9fc8-f06c289189fe",
   "metadata": {
    "tags": []
   },
   "source": [
    "## Step 2.2: BUSCO retraining"
   ]
  },
  {
   "cell_type": "code",
   "execution_count": null,
   "id": "ac66b420-b906-4853-9674-75b1ff7eaa38",
   "metadata": {},
   "outputs": [],
   "source": [
    "mkdir -p annotation/${ACCESSION}/02.busco\n",
    "rm -r tmp/annotation/${ACCESSION}/02.busco # TODO remove when this is all working properly\n",
    "mkdir -p tmp/annotation/${ACCESSION}/02.busco"
   ]
  },
  {
   "cell_type": "code",
   "execution_count": null,
   "id": "1e4e8232-008c-4316-8e4d-24349c1bdf38",
   "metadata": {},
   "outputs": [
    {
     "name": "stdout",
     "output_type": "stream",
     "text": [
      "/tmp/global2/kmurray/conda/envs/dl20-annotate/bin/augustus\n",
      "INFO:\t***** Start a BUSCO v4.1.4 analysis, current time: 07/16/2022 07:55:22 *****\n",
      "INFO:\tConfiguring BUSCO with /tmp/global2/kmurray/conda/envs/dl20-annotate/share/busco/config.ini\n",
      "INFO:\tMode is genome\n",
      "INFO:\tAttempting to restart the run using the following directory: /tmp/global2/kmurray/difflines-km/assembly-and-annotation/tmp/annotation/at6137/02.busco/busco_at6137_embryophyta_odb10\n",
      "INFO:\tInput file is /tmp/global2/kmurray/difflines-km/assembly-and-annotation/unmasked/at6137.unmasked-scaffolds.fasta\n",
      "INFO:\tDownloading information on latest versions of BUSCO data...\n",
      "INFO:\tRunning BUSCO using lineage dataset embryophyta_odb10 (eukaryota, 2020-09-10)\n",
      "INFO:\tSkipping makeblastdb as BLAST DB already exists at /tmp/global2/kmurray/difflines-km/assembly-and-annotation/tmp/annotation/at6137/02.busco/busco_at6137_embryophyta_odb10/blast_db/at6137.unmasked-scaffolds.fasta\n",
      "INFO:\tSkipping tblastn as results already exist at /tmp/global2/kmurray/difflines-km/assembly-and-annotation/tmp/annotation/at6137/02.busco/busco_at6137_embryophyta_odb10/run_embryophyta_odb10/blast_output/tblastn.tsv\n",
      "INFO:\tRunning Augustus gene predictor on BLAST search results.\n",
      "INFO:\tSkipping 1st augustus run as output already processed\n",
      "INFO:\tExtracting predicted proteins...\n",
      "INFO:\t***** Run HMMER on gene sequences *****\n",
      "INFO:\tSkipping HMMER run as output already processed\n",
      "INFO:\tStarting second step of analysis. The gene predictor Augustus is retrained using the results from the initial run to yield more accurate results.\n",
      "INFO:\tExtracting missing and fragmented buscos from the file ancestral_variants...\n",
      "INFO:\tSkipping tblastn as results already exist at /tmp/global2/kmurray/difflines-km/assembly-and-annotation/tmp/annotation/at6137/02.busco/busco_at6137_embryophyta_odb10/run_embryophyta_odb10/blast_output/tblastn_missing_and_frag_rerun.tsv\n",
      "INFO:\tConverting predicted genes to short genbank files\n",
      "INFO:\tSkipping gff2gb conversion as it has already been done\n",
      "INFO:\tAll files converted to short genbank files, now training Augustus using Single-Copy Complete BUSCOs\n",
      "INFO:\tSkipping new species creation as it has already been done\n",
      "INFO:\tSkipping etraining as it has already been done\n",
      "WARNING:\tOptimizing augustus metaparameters, this may take a very long time, started at 07/16/2022 07:55:35\n",
      "INFO:\tRunning 1 job(s) on optimize_augustus.pl, starting at 07/16/2022 07:55:35\n",
      "INFO:\t[optimize_augustus.pl]\t1 of 1 task(s) completed\n",
      "INFO:\tSkipping etraining as it has already been done\n",
      "INFO:\tRe-running Augustus with the new metaparameters, number of target BUSCOs: 17\n",
      "INFO:\tRunning Augustus gene predictor on BLAST search results.\n",
      "INFO:\tSkipping 2nd augustus run as output already processed\n",
      "INFO:\tExtracting predicted proteins...\n",
      "INFO:\t***** Run HMMER on gene sequences *****\n",
      "INFO:\tSkipping HMMER run as output already processed\n",
      "INFO:\tResults:\tC:99.3%[S:98.9%,D:0.4%],F:0.1%,M:0.6%,n:1614\t   \n",
      "\n",
      "INFO:\t\n",
      "\n",
      "\t--------------------------------------------------\n",
      "\t|Results from dataset embryophyta_odb10           |\n",
      "\t--------------------------------------------------\n",
      "\t|C:99.3%[S:98.9%,D:0.4%],F:0.1%,M:0.6%,n:1614     |\n",
      "\t|1603\tComplete BUSCOs (C)                       |\n",
      "\t|1596\tComplete and single-copy BUSCOs (S)       |\n",
      "\t|7\tComplete and duplicated BUSCOs (D)        |\n",
      "\t|1\tFragmented BUSCOs (F)                     |\n",
      "\t|10\tMissing BUSCOs (M)                        |\n",
      "\t|1614\tTotal BUSCO groups searched               |\n",
      "\t--------------------------------------------------\n",
      "INFO:\tBUSCO analysis done with WARNING(s). Total running time: 4875 seconds\n",
      "\n",
      "***** Summary of warnings: *****\n",
      "WARNING:busco.GenomeAnalysis\tOptimizing augustus metaparameters, this may take a very long time, started at 07/16/2022 07:55:35\n",
      "\n",
      "INFO:\tResults written in /tmp/global2/kmurray/difflines-km/assembly-and-annotation/tmp/annotation/at6137/02.busco/busco_at6137_embryophyta_odb10\n",
      "\n"
     ]
    }
   ],
   "source": [
    "# cd into tmp dir as busco is daft and always outputs some files to $CWD\n",
    "cd tmp/annotation/${ACCESSION}/02.busco\n",
    "export NUMEXPR_MAX_THREADS=8  # fixes a bunch of stupid log messages\n",
    "busco \\\n",
    "    --mode genome \\\n",
    "    --in ../../../../$SCAFFOLDS \\\n",
    "    --out busco_${ACCESSION}~${SCAFFOLD_TITLE}_embryophyta_odb10 \\\n",
    "    --lineage embryophyta_odb10 \\\n",
    "    --restart \\\n",
    "    --long --augustus_parameters='--progress=true' \\\n",
    "    --cpu $NCPUS\n",
    "cd ../../../../"
   ]
  },
  {
   "cell_type": "code",
   "execution_count": null,
   "id": "eeac237d-c854-4494-9a08-ad06c479c41a",
   "metadata": {},
   "outputs": [],
   "source": []
  }
 ],
 "metadata": {
  "kernelspec": {
   "display_name": "Bash",
   "language": "bash",
   "name": "bash"
  },
  "language_info": {
   "codemirror_mode": "shell",
   "file_extension": ".sh",
   "mimetype": "text/x-sh",
   "name": "bash"
  }
 },
 "nbformat": 4,
 "nbformat_minor": 5
}
