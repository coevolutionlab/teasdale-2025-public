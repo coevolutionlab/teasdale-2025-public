{
 "cells": [
  {
   "cell_type": "code",
   "execution_count": 1,
   "id": "4420149e-0bc7-46b4-a507-fb2b3c179a43",
   "metadata": {},
   "outputs": [
    {
     "name": "stdout",
     "output_type": "stream",
     "text": [
      "(biser1.4) \n"
     ]
    },
    {
     "ename": "",
     "evalue": "1",
     "output_type": "error",
     "traceback": []
    }
   ],
   "source": [
    "conda activate biser1.4"
   ]
  },
  {
   "cell_type": "code",
   "execution_count": 3,
   "id": "a994c424-8ae5-4c4b-8e72-15afdf46549e",
   "metadata": {},
   "outputs": [
    {
     "name": "stdout",
     "output_type": "stream",
     "text": [
      "(biser1.4) \n"
     ]
    },
    {
     "ename": "",
     "evalue": "1",
     "output_type": "error",
     "traceback": []
    }
   ],
   "source": [
    "zcat ../output/at9852/freqfiles/at9852.mCG.freqBED.gz|awk 'OFS=\"\\t\"{print $1,$2,$3,\"mCG\", $11}' > ../output/at9852/freqfiles/at9852.mCG.freqBED.bedscore"
   ]
  },
  {
   "cell_type": "code",
   "execution_count": 6,
   "id": "4e37a779-788c-4c21-a33a-1676395789eb",
   "metadata": {},
   "outputs": [
    {
     "name": "stdout",
     "output_type": "stream",
     "text": [
      "(biser1.4) \n"
     ]
    },
    {
     "ename": "",
     "evalue": "1",
     "output_type": "error",
     "traceback": []
    }
   ],
   "source": [
    "bedmap --echo --wmean --delim \"\\t\" ../../../final_annotation/latest/at9852_nlrs.bed ../output/at9852/freqfiles/at9852.mCG.freqBED.bedscore > ../output/at9852.test.nlrs.bedscore"
   ]
  },
  {
   "cell_type": "code",
   "execution_count": 7,
   "id": "42833847-cde8-472e-a2c2-f13300545348",
   "metadata": {},
   "outputs": [
    {
     "name": "stdout",
     "output_type": "stream",
     "text": [
      "(biser1.4) \n"
     ]
    },
    {
     "ename": "",
     "evalue": "1",
     "output_type": "error",
     "traceback": []
    }
   ],
   "source": [
    "bedmap --echo --wmean --delim \"\\t\" ../../../final_annotation/latest/at9852_nlrs.bed ../../../spo11/output/at9852.spo11_sorted.mq10.genomecov.bedscore > ../output/at9852.test.nlrs.spo11.bedscore"
   ]
  },
  {
   "cell_type": "code",
   "execution_count": 12,
   "id": "6c26d7df-8be9-4e1a-9342-f689f11ff3c1",
   "metadata": {},
   "outputs": [
    {
     "name": "stdout",
     "output_type": "stream",
     "text": [
      "(biser1.4) \n"
     ]
    },
    {
     "ename": "",
     "evalue": "1",
     "output_type": "error",
     "traceback": []
    }
   ],
   "source": [
    "paste ../output/at9852.test.nlrs.bedscore ../output/at9852.test.nlrs.spo11.bedscore |cut -f1,2,3,5,6,12|awk '($6>0)' > ../output/at9852.test.nlrs.mCG.spo11.scores.txt"
   ]
  },
  {
   "cell_type": "code",
   "execution_count": null,
   "id": "b00b0203-1820-4eb5-aaab-d3bf223f97ae",
   "metadata": {},
   "outputs": [],
   "source": []
  }
 ],
 "metadata": {
  "kernelspec": {
   "display_name": "Bash",
   "language": "bash",
   "name": "bash"
  },
  "language_info": {
   "codemirror_mode": "shell",
   "file_extension": ".sh",
   "mimetype": "text/x-sh",
   "name": "bash"
  }
 },
 "nbformat": 4,
 "nbformat_minor": 5
}
