{
 "cells": [
  {
   "cell_type": "code",
   "execution_count": 1,
   "id": "a469baad-1b24-4e03-bc94-335b8ab5944a",
   "metadata": {
    "execution": {
     "iopub.execute_input": "2022-11-10T06:29:16.207394Z",
     "iopub.status.busy": "2022-11-10T06:29:16.206434Z",
     "iopub.status.idle": "2022-11-10T06:29:16.614395Z",
     "shell.execute_reply": "2022-11-10T06:29:16.615903Z"
    }
   },
   "outputs": [
    {
     "name": "stdout",
     "output_type": "stream",
     "text": [
      "(/u/gshirsekar/conda-envs/ccsmeth_v2) "
     ]
    },
    {
     "ename": "",
     "evalue": "1",
     "output_type": "error",
     "traceback": []
    }
   ],
   "source": [
    "conda activate ccsmeth_v2"
   ]
  },
  {
   "cell_type": "markdown",
   "id": "9148d26c-3e2a-43ab-ad03-6fad20acdcee",
   "metadata": {},
   "source": [
    "### Get system information and packages used in running methylation calls\n",
    "GPU related information can be found in the log files "
   ]
  },
  {
   "cell_type": "code",
   "execution_count": 2,
   "id": "f57d4d09-d659-4492-b49d-da0adaf1f916",
   "metadata": {
    "execution": {
     "iopub.execute_input": "2022-11-10T06:29:16.625766Z",
     "iopub.status.busy": "2022-11-10T06:29:16.623870Z",
     "iopub.status.idle": "2022-11-10T06:29:16.736147Z",
     "shell.execute_reply": "2022-11-10T06:29:16.737688Z"
    }
   },
   "outputs": [
    {
     "name": "stdout",
     "output_type": "stream",
     "text": [
      "(/u/gshirsekar/conda-envs/ccsmeth_v2) "
     ]
    },
    {
     "ename": "",
     "evalue": "1",
     "output_type": "error",
     "traceback": []
    }
   ],
   "source": [
    "echo -e \"import watermark \\nprint(watermark.watermark())\" > loadwatermark.py"
   ]
  },
  {
   "cell_type": "code",
   "execution_count": 3,
   "id": "be540cfb-8a93-49eb-b758-ed42bc0fe26a",
   "metadata": {
    "execution": {
     "iopub.execute_input": "2022-11-10T06:29:16.746948Z",
     "iopub.status.busy": "2022-11-10T06:29:16.745043Z",
     "iopub.status.idle": "2022-11-10T06:29:28.200960Z",
     "shell.execute_reply": "2022-11-10T06:29:28.202470Z"
    }
   },
   "outputs": [
    {
     "name": "stdout",
     "output_type": "stream",
     "text": [
      "Last updated: 2022-11-10T07:29:28.032789+01:00\n",
      "\n",
      "Python implementation: CPython\n",
      "Python version       : 3.10.6\n",
      "IPython version      : 8.4.0\n",
      "\n",
      "Compiler    : GCC 10.4.0\n",
      "OS          : Linux\n",
      "Release     : 4.12.14-122.130-default\n",
      "Machine     : x86_64\n",
      "Processor   : x86_64\n",
      "CPU cores   : 80\n",
      "Architecture: 64bit\n",
      "\n",
      "(/u/gshirsekar/conda-envs/ccsmeth_v2) "
     ]
    },
    {
     "ename": "",
     "evalue": "1",
     "output_type": "error",
     "traceback": []
    }
   ],
   "source": [
    "python loadwatermark.py"
   ]
  },
  {
   "cell_type": "code",
   "execution_count": 4,
   "id": "df50702d-422a-4491-aaae-71e8e052727a",
   "metadata": {
    "execution": {
     "iopub.execute_input": "2022-11-10T06:29:28.211644Z",
     "iopub.status.busy": "2022-11-10T06:29:28.209933Z",
     "iopub.status.idle": "2022-11-10T06:29:36.981156Z",
     "shell.execute_reply": "2022-11-10T06:29:36.982680Z"
    }
   },
   "outputs": [
    {
     "name": "stdout",
     "output_type": "stream",
     "text": [
      "Package                Version\n",
      "---------------------- -----------\n",
      "asttokens              2.0.8\n",
      "attrs                  22.1.0\n",
      "backcall               0.2.0\n",
      "beautifulsoup4         4.11.1\n",
      "biopython              1.79\n",
      "bleach                 4.1.0\n",
      "brotlipy               0.7.0\n",
      "ccsmeth                0.3.1\n",
      "certifi                2022.9.24\n",
      "cffi                   1.15.1\n",
      "charset-normalizer     2.1.1\n",
      "colorama               0.4.5\n",
      "conda                  4.14.0\n",
      "conda-package-handling 1.8.1\n",
      "cryptography           37.0.4\n",
      "debugpy                1.5.1\n",
      "decorator              5.1.1\n",
      "defusedxml             0.7.1\n",
      "entrypoints            0.4\n",
      "executing              1.0.0\n",
      "fastjsonschema         2.16.1\n",
      "idna                   3.3\n",
      "importlib-metadata     4.11.4\n",
      "importlib-resources    5.9.0\n",
      "ipykernel              6.15.2\n",
      "ipython                8.5.0\n",
      "isal                   1.0.1\n",
      "jedi                   0.18.1\n",
      "Jinja2                 3.1.2\n",
      "joblib                 1.1.0\n",
      "jsonschema             4.16.0\n",
      "jupyter_client         7.3.5\n",
      "jupyter_core           4.11.1\n",
      "jupyterlab-pygments    0.1.2\n",
      "jupytext               1.14.0\n",
      "libmambapy             0.25.0\n",
      "mamba                  0.25.0\n",
      "markdown-it-py         2.1.0\n",
      "MarkupSafe             2.1.1\n",
      "matplotlib-inline      0.1.6\n",
      "mdit-py-plugins        0.3.0\n",
      "mdurl                  0.1.0\n",
      "mistune                0.8.4\n",
      "nbclient               0.5.13\n",
      "nbconvert              6.4.4\n",
      "nbformat               5.5.0\n",
      "nest-asyncio           1.5.5\n",
      "networkx               2.8.6\n",
      "numpy                  1.23.3\n",
      "packaging              21.3\n",
      "pandas                 1.4.4\n",
      "pandocfilters          1.5.0\n",
      "parso                  0.8.3\n",
      "patsy                  0.5.2\n",
      "pexpect                4.8.0\n",
      "pickleshare            0.7.5\n",
      "pip                    22.2.2\n",
      "pkgutil_resolve_name   1.3.10\n",
      "prompt-toolkit         3.0.31\n",
      "psutil                 5.9.0\n",
      "ptyprocess             0.7.0\n",
      "pure-eval              0.2.2\n",
      "pybedtools             0.9.0\n",
      "pycosat                0.6.3\n",
      "pycparser              2.21\n",
      "pyfaidx                0.7.1\n",
      "Pygments               2.13.0\n",
      "pyOpenSSL              22.0.0\n",
      "pyparsing              3.0.9\n",
      "pyrsistent             0.18.1\n",
      "pysam                  0.19.1\n",
      "PySocks                1.7.1\n",
      "pytabix                0.1\n",
      "python-dateutil        2.8.2\n",
      "pytz                   2022.2.1\n",
      "PyYAML                 6.0\n",
      "pyzmq                  23.2.0\n",
      "requests               2.28.1\n",
      "ruamel-yaml-conda      0.15.80\n",
      "scikit-learn           1.1.2\n",
      "scipy                  1.9.1\n",
      "setuptools             65.3.0\n",
      "six                    1.16.0\n",
      "soupsieve              2.3.2.post1\n",
      "stack-data             0.5.0\n",
      "statsmodels            0.13.2\n",
      "testpath               0.6.0\n",
      "threadpoolctl          3.1.0\n",
      "toml                   0.10.2\n",
      "toolz                  0.12.0\n",
      "torch                  1.11.0\n",
      "tornado                6.2\n",
      "tqdm                   4.64.1\n",
      "traitlets              5.4.0\n",
      "typing_extensions      4.3.0\n",
      "urllib3                1.26.11\n",
      "watermark              2.3.1\n",
      "wcwidth                0.2.5\n",
      "webencodings           0.5.1\n",
      "whatshap               1.6\n",
      "wheel                  0.37.1\n",
      "xopen                  1.6.0\n",
      "zipp                   3.8.1\n",
      "(/u/gshirsekar/conda-envs/ccsmeth_v2) "
     ]
    },
    {
     "ename": "",
     "evalue": "1",
     "output_type": "error",
     "traceback": []
    }
   ],
   "source": [
    "pip list"
   ]
  },
  {
   "cell_type": "markdown",
   "id": "c597f22f-1e6f-49c8-b834-a8577b44dc39",
   "metadata": {},
   "source": [
    "### map the hifi with kinetics reads to own reference assembly"
   ]
  },
  {
   "cell_type": "code",
   "execution_count": 5,
   "id": "15656834-4637-4c2a-8193-a10df9dd0a8b",
   "metadata": {
    "execution": {
     "iopub.execute_input": "2022-11-10T06:29:36.992339Z",
     "iopub.status.busy": "2022-11-10T06:29:36.990435Z",
     "iopub.status.idle": "2022-11-10T07:27:31.566389Z",
     "shell.execute_reply": "2022-11-10T07:27:31.567066Z"
    }
   },
   "outputs": [
    {
     "name": "stdout",
     "output_type": "stream",
     "text": [
      "(/u/gshirsekar/conda-envs/ccsmeth_v2) (/u/gshirsekar/conda-envs/ccsmeth_v2) (/u/gshirsekar/conda-envs/ccsmeth_v2) (/u/gshirsekar/conda-envs/ccsmeth_v2) (/u/gshirsekar/conda-envs/ccsmeth_v2) (/u/gshirsekar/conda-envs/ccsmeth_v2) (/u/gshirsekar/conda-envs/ccsmeth_v2) # ===============================================\n",
      "## parameters: \n",
      "hifireads:\n",
      "\t../../../../../hifiWithKineticsReads-cobra/at6137/at6137.hifi_withKinetics.bam\n",
      "ref:\n",
      "\t../../../../assembly-and-annotation/output/01_assembly/01_pansn-named/at6137.scaffolds-v2.3.fasta\n",
      "output:\n",
      "\t../../tmp/at6137.hifi_withKinetics_mapped_to_at6137.bam\n",
      "header:\n",
      "\tFalse\n",
      "path_to_pbmm2:\n",
      "\tNone\n",
      "minimap2:\n",
      "\tFalse\n",
      "path_to_minimap2:\n",
      "\tNone\n",
      "bestn:\n",
      "\t3\n",
      "bwa:\n",
      "\tFalse\n",
      "path_to_bwa:\n",
      "\tNone\n",
      "path_to_samtools:\n",
      "\tNone\n",
      "threads:\n",
      "\t24\n",
      "# ===============================================\n",
      "[align_hifi_reads]start..\n",
      "cmds: pbmm2 align --preset HIFI -j 24 --sort  /cobra/ptmp/gshirsekar/annex/assembly-and-annotation/output/01_assembly/01_pansn-named/at6137.scaffolds-v2.3.fasta /cobra/ptmp/gshirsekar/hifiWithKineticsReads-cobra/at6137/at6137.hifi_withKinetics.bam /cobra/ptmp/gshirsekar/annex/methylation/methylationCalling/tmp/at6137.hifi_withKinetics_mapped_to_at6137.bam && samtools index -@ 24 /cobra/ptmp/gshirsekar/annex/methylation/methylationCalling/tmp/at6137.hifi_withKinetics_mapped_to_at6137.bam\n",
      "succeeded..\n",
      "==stdout:\n",
      "\n",
      "==stderr:\n",
      "\n",
      "[align_hifi_reads]costs 3469.1 seconds\n",
      "(/u/gshirsekar/conda-envs/ccsmeth_v2) "
     ]
    },
    {
     "ename": "",
     "evalue": "1",
     "output_type": "error",
     "traceback": []
    }
   ],
   "source": [
    "## reads path might need to be changed if the initial reads are somewhere else\n",
    "reads=../../../../../hifiWithKineticsReads-cobra/at6137/at6137.hifi_withKinetics.bam\n",
    "## ref path adjust accordingly (same as reads path)\n",
    "ref=../../../../assembly-and-annotation/output/01_assembly/01_pansn-named/at6137.scaffolds-v2.3.fasta\n",
    "output=../../tmp/at6137.hifi_withKinetics_mapped_to_at6137.bam\n",
    "threads=24\n",
    "\n",
    "nice ccsmeth align_hifi \\\n",
    "    --hifireads ${reads} \\\n",
    "    --ref ${ref} \\\n",
    "    --output ${output} \\\n",
    "    --threads ${threads}"
   ]
  },
  {
   "cell_type": "code",
   "execution_count": 6,
   "id": "77e64c2b-a774-4261-8962-b3777b92875a",
   "metadata": {
    "execution": {
     "iopub.execute_input": "2022-11-10T07:27:31.572947Z",
     "iopub.status.busy": "2022-11-10T07:27:31.572179Z",
     "iopub.status.idle": "2022-11-10T07:27:31.688401Z",
     "shell.execute_reply": "2022-11-10T07:27:31.689046Z"
    }
   },
   "outputs": [
    {
     "name": "stdout",
     "output_type": "stream",
     "text": [
      "(/u/gshirsekar/conda-envs/ccsmeth_v2) "
     ]
    },
    {
     "ename": "",
     "evalue": "1",
     "output_type": "error",
     "traceback": []
    }
   ],
   "source": [
    "mkdir -p ../../output/logfiles_at6137"
   ]
  },
  {
   "cell_type": "code",
   "execution_count": 7,
   "id": "0298ba60-0c25-4366-b8c1-54f76e1c8aa6",
   "metadata": {
    "execution": {
     "iopub.execute_input": "2022-11-10T07:27:31.694691Z",
     "iopub.status.busy": "2022-11-10T07:27:31.694044Z",
     "iopub.status.idle": "2022-11-10T07:27:31.973530Z",
     "shell.execute_reply": "2022-11-10T07:27:31.972963Z"
    }
   },
   "outputs": [
    {
     "name": "stdout",
     "output_type": "stream",
     "text": [
      "(/u/gshirsekar/conda-envs/ccsmeth_v2) "
     ]
    },
    {
     "ename": "",
     "evalue": "1",
     "output_type": "error",
     "traceback": []
    }
   ],
   "source": [
    "for context in CG CHG CHH\n",
    "do\n",
    "mkdir -p ../../output/at6137/${context}/at6137_${context}\n",
    "done"
   ]
  },
  {
   "cell_type": "code",
   "execution_count": null,
   "id": "dc9bfe9b-9894-4438-90bd-8cce0a26bf98",
   "metadata": {},
   "outputs": [],
   "source": []
  },
  {
   "cell_type": "markdown",
   "id": "2da7037e-6afa-4501-8b3f-22293551f5f3",
   "metadata": {},
   "source": [
    "### call the modifications in all the contexts (CG, CHG, CHH)"
   ]
  },
  {
   "cell_type": "code",
   "execution_count": 8,
   "id": "76b8a941-4feb-4d03-b993-ea6accf0f091",
   "metadata": {
    "execution": {
     "iopub.execute_input": "2022-11-10T07:27:31.979501Z",
     "iopub.status.busy": "2022-11-10T07:27:31.978955Z",
     "iopub.status.idle": "2022-11-10T07:27:34.059952Z",
     "shell.execute_reply": "2022-11-10T07:27:34.058273Z"
    }
   },
   "outputs": [
    {
     "name": "stdout",
     "output_type": "stream",
     "text": [
      "Academic tradition requires you to cite works you base your article on.\n",
      "If you use programs that use GNU Parallel to process data for an article in a\n",
      "scientific publication, please cite:\n",
      "\n",
      "  O. Tange (2018): GNU Parallel 2018, Mar 2018, ISBN 9781387509881,\n",
      "  DOI https://doi.org/10.5281/zenodo.1146014\n",
      "\n",
      "This helps funding further development; AND IT WON'T COST YOU A CENT.\n",
      "If you pay 10000 EUR you should feel free to use GNU Parallel without citing.\n",
      "\n",
      "More about funding GNU Parallel and the citation notice:\n",
      "https://www.gnu.org/software/parallel/parallel_design.html#Citation-notice\n",
      "\n",
      "To silence this citation notice: run 'parallel --citation' once.\n",
      "\n",
      "Come on: You have run parallel 43 times. Isn't it about time \n",
      "you run 'parallel --citation' once to silence the citation notice?\n",
      "\n",
      "Submitted batch job 6098120\n",
      "Submitted batch job 6098121\n",
      "Submitted batch job 6098122\n",
      "(/u/gshirsekar/conda-envs/ccsmeth_v2) "
     ]
    },
    {
     "ename": "",
     "evalue": "1",
     "output_type": "error",
     "traceback": []
    }
   ],
   "source": [
    "parallel --jobs 3 sbatch {} ::: call_modifications*.cobra.slurm"
   ]
  },
  {
   "cell_type": "markdown",
   "id": "bb880435-e0ca-4db6-809f-8e14c3a71891",
   "metadata": {},
   "source": [
    "### make methyl artist database"
   ]
  },
  {
   "cell_type": "code",
   "execution_count": 9,
   "id": "94345c46-f439-43c5-83e9-530e8ed506da",
   "metadata": {
    "execution": {
     "iopub.execute_input": "2022-11-10T07:27:34.068362Z",
     "iopub.status.busy": "2022-11-10T07:27:34.066803Z",
     "iopub.status.idle": "2022-11-10T07:27:34.178706Z",
     "shell.execute_reply": "2022-11-10T07:27:34.180634Z"
    }
   },
   "outputs": [
    {
     "name": "stdout",
     "output_type": "stream",
     "text": [
      "(/u/gshirsekar/conda-envs/ccsmeth_v2) "
     ]
    },
    {
     "ename": "",
     "evalue": "1",
     "output_type": "error",
     "traceback": []
    }
   ],
   "source": [
    "#parallel --jobs 3 bash {} ::: makeMethylArtistDB_*.sh"
   ]
  },
  {
   "cell_type": "code",
   "execution_count": 10,
   "id": "677819fa-419e-4cae-a613-36a0d43e939e",
   "metadata": {
    "execution": {
     "iopub.execute_input": "2022-11-10T07:27:34.199049Z",
     "iopub.status.busy": "2022-11-10T07:27:34.193780Z",
     "iopub.status.idle": "2022-11-10T07:27:34.336970Z",
     "shell.execute_reply": "2022-11-10T07:27:34.339108Z"
    }
   },
   "outputs": [
    {
     "name": "stdout",
     "output_type": "stream",
     "text": [
      "\u001b[0m\u001b[00mat6137.hifi_withKinetics_mapped_to_at6137.bam\u001b[0m\n",
      "\u001b[00mat6137.hifi_withKinetics_mapped_to_at6137.bam.bai\u001b[0m\n",
      "\u001b[00mat6923.hifi_withKinetics_mapped_to_at6923.bam\u001b[0m\n",
      "\u001b[00mat7143.hifi_withKinetics_mapped_to_at7143.bam\u001b[0m\n",
      "\u001b[00mat8285.hifi_withKinetics_mapped_to_at8285.bam\u001b[0m\n",
      "\u001b[00mat9336.hifi_withKinetics_mapped_to_at9336.bam\u001b[0m\n",
      "\u001b[00mat9336.hifi_withKinetics_mapped_to_at9336.bam.bai\u001b[0m\n",
      "\u001b[00mat9578.hifi_withKinetics_mapped_to_at9578.bam\u001b[0m\n",
      "\u001b[00mat9744.hifi_withKinetics_mapped_to_at9744.bam\u001b[0m\n",
      "\u001b[00mat9744.hifi_withKinetics_mapped_to_at9744.bam.bai\u001b[0m\n",
      "\u001b[00mat9762.hifi_withKinetics_mapped_to_at9762.bam\u001b[0m\n",
      "\u001b[00mat9762.hifi_withKinetics_mapped_to_at9762.bam.bai\u001b[0m\n",
      "\u001b[00mat9806.hifi_withKinetics_mapped_to_at9806.bam\u001b[0m\n",
      "\u001b[00mat9852.hifi_withKinetics_mapped_to_at9852.bam\u001b[0m\n",
      "\u001b[00mat9852.hifi_withKinetics_mapped_to_at9852.bam.bai\u001b[0m\n",
      "\u001b[00mat9879.hifi_withKinetics_mapped_to_at9879.bam\u001b[0m\n",
      "(/u/gshirsekar/conda-envs/ccsmeth_v2) "
     ]
    },
    {
     "ename": "",
     "evalue": "1",
     "output_type": "error",
     "traceback": []
    }
   ],
   "source": [
    "ls ../../tmp/"
   ]
  },
  {
   "cell_type": "code",
   "execution_count": 11,
   "id": "9986e81e-067d-4c30-b553-65763bbbcef7",
   "metadata": {
    "execution": {
     "iopub.execute_input": "2022-11-10T07:27:34.349949Z",
     "iopub.status.busy": "2022-11-10T07:27:34.347751Z",
     "iopub.status.idle": "2022-11-10T07:27:34.461662Z",
     "shell.execute_reply": "2022-11-10T07:27:34.463501Z"
    }
   },
   "outputs": [
    {
     "name": "stdout",
     "output_type": "stream",
     "text": [
      "ls: cannot access '../../t': No such file or directory\n",
      "(/u/gshirsekar/conda-envs/ccsmeth_v2) "
     ]
    },
    {
     "ename": "",
     "evalue": "1",
     "output_type": "error",
     "traceback": []
    }
   ],
   "source": [
    "ls ../../t"
   ]
  }
 ],
 "metadata": {
  "kernelspec": {
   "display_name": "Bash",
   "language": "bash",
   "name": "bash"
  },
  "language_info": {
   "codemirror_mode": "shell",
   "file_extension": ".sh",
   "mimetype": "text/x-sh",
   "name": "bash"
  }
 },
 "nbformat": 4,
 "nbformat_minor": 5
}
