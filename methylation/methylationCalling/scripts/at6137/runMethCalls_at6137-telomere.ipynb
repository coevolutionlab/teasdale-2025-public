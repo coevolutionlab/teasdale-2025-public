{
 "cells": [
  {
   "cell_type": "code",
   "execution_count": 2,
   "id": "a469baad-1b24-4e03-bc94-335b8ab5944a",
   "metadata": {},
   "outputs": [
    {
     "name": "stdout",
     "output_type": "stream",
     "text": [
      "(/u/gshirsekar/conda-envs/ccsmeth) \n"
     ]
    },
    {
     "ename": "",
     "evalue": "1",
     "output_type": "error",
     "traceback": []
    }
   ],
   "source": [
    "conda activate /u/gshirsekar/conda-envs/ccsmeth\n"
   ]
  },
  {
   "cell_type": "markdown",
   "id": "9148d26c-3e2a-43ab-ad03-6fad20acdcee",
   "metadata": {},
   "source": [
    "### Get system information and packages used in running methylation calls\n",
    "GPU related information can be found in the log files "
   ]
  },
  {
   "cell_type": "code",
   "execution_count": 3,
   "id": "f57d4d09-d659-4492-b49d-da0adaf1f916",
   "metadata": {},
   "outputs": [
    {
     "name": "stdout",
     "output_type": "stream",
     "text": [
      "(/u/gshirsekar/conda-envs/ccsmeth) \n"
     ]
    },
    {
     "ename": "",
     "evalue": "1",
     "output_type": "error",
     "traceback": []
    }
   ],
   "source": [
    "echo -e \"import watermark \\nprint(watermark.watermark())\" > loadwatermark.py"
   ]
  },
  {
   "cell_type": "code",
   "execution_count": 4,
   "id": "be540cfb-8a93-49eb-b758-ed42bc0fe26a",
   "metadata": {},
   "outputs": [
    {
     "name": "stdout",
     "output_type": "stream",
     "text": [
      "Last updated: 2023-11-14T10:21:36.449324+01:00\n",
      "\n",
      "Python implementation: CPython\n",
      "Python version       : 3.8.13\n",
      "IPython version      : 8.12.0\n",
      "\n",
      "Compiler    : GCC 10.3.0\n",
      "OS          : Linux\n",
      "Release     : 5.14.21-150400.24.92-default\n",
      "Machine     : x86_64\n",
      "Processor   : x86_64\n",
      "CPU cores   : 144\n",
      "Architecture: 64bit\n",
      "\n",
      "(/u/gshirsekar/conda-envs/ccsmeth) \n"
     ]
    },
    {
     "ename": "",
     "evalue": "1",
     "output_type": "error",
     "traceback": []
    }
   ],
   "source": [
    "python loadwatermark.py"
   ]
  },
  {
   "cell_type": "code",
   "execution_count": 5,
   "id": "df50702d-422a-4491-aaae-71e8e052727a",
   "metadata": {
    "collapsed": true,
    "jupyter": {
     "outputs_hidden": true
    }
   },
   "outputs": [
    {
     "name": "stdout",
     "output_type": "stream",
     "text": [
      "Package                  Version\n",
      "------------------------ ---------\n",
      "anyio                    3.5.0\n",
      "argon2-cffi              21.3.0\n",
      "argon2-cffi-bindings     21.2.0\n",
      "asciitree                0.3.3\n",
      "asttokens                2.0.5\n",
      "async-lru                2.0.2\n",
      "attrs                    22.1.0\n",
      "Babel                    2.11.0\n",
      "backcall                 0.2.0\n",
      "beautifulsoup4           4.12.2\n",
      "bleach                   4.1.0\n",
      "bokeh                    3.1.1\n",
      "brotlipy                 0.7.0\n",
      "cached-property          1.5.2\n",
      "ccsmeth                  0.3.0\n",
      "certifi                  2023.7.22\n",
      "cffi                     1.15.0\n",
      "charset-normalizer       2.1.0\n",
      "click                    8.1.5\n",
      "cloudpickle              2.2.1\n",
      "colorama                 0.4.5\n",
      "comm                     0.1.2\n",
      "conda                    4.13.0\n",
      "conda-package-handling   1.8.1\n",
      "contourpy                1.1.0\n",
      "cryptography             37.0.2\n",
      "cycler                   0.11.0\n",
      "cytoolz                  0.12.0\n",
      "dask                     2023.5.0\n",
      "debugpy                  1.5.1\n",
      "decorator                5.1.1\n",
      "defusedxml               0.7.1\n",
      "dill                     0.3.6\n",
      "distributed              2023.5.0\n",
      "entrypoints              0.4\n",
      "executing                0.8.3\n",
      "fasteners                0.17.3\n",
      "fastjsonschema           2.16.2\n",
      "fonttools                4.41.0\n",
      "fsspec                   2023.6.0\n",
      "h5py                     3.8.0\n",
      "idna                     3.3\n",
      "importlib-metadata       6.0.0\n",
      "importlib-resources      5.2.0\n",
      "ipykernel                6.19.2\n",
      "ipython                  8.12.0\n",
      "ipython-genutils         0.2.0\n",
      "ipywidgets               8.0.4\n",
      "jedi                     0.18.1\n",
      "Jinja2                   3.1.2\n",
      "joblib                   1.3.0\n",
      "json5                    0.9.6\n",
      "jsonschema               4.17.3\n",
      "jupyter                  1.0.0\n",
      "jupyter_client           8.1.0\n",
      "jupyter-console          6.6.3\n",
      "jupyter_core             5.3.0\n",
      "jupyter-events           0.6.3\n",
      "jupyter-lsp              2.2.0\n",
      "jupyter_server           2.5.0\n",
      "jupyter_server_terminals 0.4.4\n",
      "jupyterlab               4.0.2\n",
      "jupyterlab-pygments      0.1.2\n",
      "jupyterlab_server        2.22.0\n",
      "jupyterlab-widgets       3.0.7\n",
      "kiwisolver               1.4.4\n",
      "libmambapy               0.26.0\n",
      "locket                   1.0.0\n",
      "lxml                     4.9.1\n",
      "lz4                      4.3.2\n",
      "mamba                    0.26.0\n",
      "MarkupSafe               2.1.1\n",
      "matplotlib               3.5.2\n",
      "matplotlib-inline        0.1.6\n",
      "mistune                  0.8.4\n",
      "mkl-fft                  1.3.1\n",
      "mkl-random               1.2.2\n",
      "mkl-service              2.4.0\n",
      "msgpack                  1.0.5\n",
      "multiprocess             0.70.14\n",
      "munkres                  1.1.4\n",
      "nbclassic                0.5.5\n",
      "nbclient                 0.5.13\n",
      "nbconvert                6.5.4\n",
      "nbformat                 5.7.0\n",
      "nest-asyncio             1.5.6\n",
      "networkx                 3.1\n",
      "notebook                 6.5.4\n",
      "notebook_shim            0.2.2\n",
      "numcodecs                0.11.0\n",
      "numexpr                  2.7.3\n",
      "numpy                    1.23.0\n",
      "packaging                23.0\n",
      "pandas                   2.0.3\n",
      "pandocfilters            1.5.0\n",
      "parso                    0.8.3\n",
      "partd                    1.4.0\n",
      "patsy                    0.5.3\n",
      "pexpect                  4.8.0\n",
      "pickleshare              0.7.5\n",
      "Pillow                   9.0.1\n",
      "pip                      21.2.4\n",
      "pixy                     1.2.6b1\n",
      "pkgutil_resolve_name     1.3.10\n",
      "platformdirs             2.5.2\n",
      "ply                      3.11\n",
      "pomegranate              0.14.8\n",
      "pooch                    1.7.0\n",
      "prometheus-client        0.14.1\n",
      "prompt-toolkit           3.0.36\n",
      "psutil                   5.9.0\n",
      "ptyprocess               0.7.0\n",
      "pure-eval                0.2.2\n",
      "py3nvml                  0.2.7\n",
      "pyarrow                  9.0.0\n",
      "pybedtools               0.9.0\n",
      "pycosat                  0.6.3\n",
      "pycparser                2.21\n",
      "Pygments                 2.15.1\n",
      "pyOpenSSL                22.0.0\n",
      "pyparsing                3.1.0\n",
      "PyQt5                    5.15.7\n",
      "PyQt5-sip                12.11.0\n",
      "pyrsistent               0.18.0\n",
      "pysam                    0.19.1\n",
      "PySocks                  1.7.1\n",
      "pytabix                  0.1\n",
      "python-dateutil          2.8.2\n",
      "python-json-logger       2.0.7\n",
      "pytz                     2022.7\n",
      "PyYAML                   6.0\n",
      "pyzmq                    25.1.0\n",
      "qtconsole                5.4.2\n",
      "QtPy                     2.2.0\n",
      "requests                 2.28.1\n",
      "rfc3339-validator        0.1.4\n",
      "rfc3986-validator        0.1.1\n",
      "ruamel-yaml-conda        0.15.80\n",
      "scikit-allel             1.3.6\n",
      "scikit-learn             1.3.0\n",
      "scipy                    1.10.1\n",
      "seaborn                  0.12.2\n",
      "Send2Trash               1.8.0\n",
      "setuptools               61.2.0\n",
      "sip                      6.6.2\n",
      "six                      1.16.0\n",
      "sniffio                  1.2.0\n",
      "sortedcontainers         2.4.0\n",
      "soupsieve                2.4\n",
      "sra-downloader           1.0.6\n",
      "stack-data               0.2.0\n",
      "statsmodels              0.14.0\n",
      "tblib                    1.7.0\n",
      "terminado                0.17.1\n",
      "threadpoolctl            3.2.0\n",
      "tinycss2                 1.2.1\n",
      "toml                     0.10.2\n",
      "tomli                    2.0.1\n",
      "toolz                    0.12.0\n",
      "torch                    1.11.0\n",
      "torchaudio               0.11.0\n",
      "torchvision              0.2.2\n",
      "tornado                  6.2\n",
      "tqdm                     4.64.0\n",
      "traitlets                5.7.1\n",
      "typing_extensions        4.3.0\n",
      "tzdata                   2023.3\n",
      "unicodedata2             15.0.0\n",
      "urllib3                  1.26.9\n",
      "watermark                2.4.2\n",
      "wcwidth                  0.2.5\n",
      "webencodings             0.5.1\n",
      "websocket-client         0.58.0\n",
      "wheel                    0.37.1\n",
      "widgetsnbextension       4.0.5\n",
      "xmltodict                0.13.0\n",
      "xyzservices              2023.7.0\n",
      "zarr                     2.15.0\n",
      "zict                     3.0.0\n",
      "zipp                     3.11.0\n",
      "(/u/gshirsekar/conda-envs/ccsmeth) \n"
     ]
    },
    {
     "ename": "",
     "evalue": "1",
     "output_type": "error",
     "traceback": []
    }
   ],
   "source": [
    "pip list"
   ]
  },
  {
   "cell_type": "code",
   "execution_count": null,
   "id": "4baf5fd3-fce8-478e-a4cc-c4b60af52dab",
   "metadata": {},
   "outputs": [],
   "source": [
    "ls ../../../hifiWithKinetics/"
   ]
  },
  {
   "cell_type": "markdown",
   "id": "c597f22f-1e6f-49c8-b834-a8577b44dc39",
   "metadata": {},
   "source": [
    "### map the hifi with kinetics reads to own reference assembly"
   ]
  },
  {
   "cell_type": "code",
   "execution_count": 7,
   "id": "15656834-4637-4c2a-8193-a10df9dd0a8b",
   "metadata": {},
   "outputs": [
    {
     "name": "stdout",
     "output_type": "stream",
     "text": [
      "(/u/gshirsekar/conda-envs/ccsmeth) \n",
      "(/u/gshirsekar/conda-envs/ccsmeth) \n",
      "(/u/gshirsekar/conda-envs/ccsmeth) \n",
      "(/u/gshirsekar/conda-envs/ccsmeth) \n",
      "(/u/gshirsekar/conda-envs/ccsmeth) \n",
      "(/u/gshirsekar/conda-envs/ccsmeth) \n",
      "(/u/gshirsekar/conda-envs/ccsmeth) \n",
      "# ===============================================\n",
      "## parameters: \n",
      "hifireads:\n",
      "\t../../../hifiWithKinetics/at6137/at6137.hifi_withKinetics.bam\n",
      "ref:\n",
      "\t/ptmp/gshirsekar/wenfei/T850.q20.fastq.gz.alltelomere.fa\n",
      "output:\n",
      "\t/ptmp/gshirsekar/wenfei/at6137_hifiWithKineticsMappedTo_T850.alltelomere.bam\n",
      "header:\n",
      "\tFalse\n",
      "path_to_pbmm2:\n",
      "\tNone\n",
      "minimap2:\n",
      "\tFalse\n",
      "path_to_minimap2:\n",
      "\tNone\n",
      "bestn:\n",
      "\t3\n",
      "bwa:\n",
      "\tFalse\n",
      "path_to_bwa:\n",
      "\tNone\n",
      "path_to_samtools:\n",
      "\tNone\n",
      "threads:\n",
      "\t24\n",
      "# ===============================================\n",
      "[align_hifi_reads]start..\n",
      "cmds: pbmm2 align --preset HIFI -j 24 --sort  /ptmp/gshirsekar/wenfei/T850.q20.fastq.gz.alltelomere.fa /raven/ptmp/gshirsekar/dl20-annex/methylation/hifiWithKinetics/at6137/at6137.hifi_withKinetics.bam /ptmp/gshirsekar/wenfei/at6137_hifiWithKineticsMappedTo_T850.alltelomere.bam && samtools index -@ 24 /ptmp/gshirsekar/wenfei/at6137_hifiWithKineticsMappedTo_T850.alltelomere.bam\n",
      "succeeded..\n",
      "==stdout:\n",
      "\n",
      "==stderr:\n",
      "\n",
      "[align_hifi_reads]costs 610.8 seconds\n",
      "(/u/gshirsekar/conda-envs/ccsmeth) \n"
     ]
    },
    {
     "ename": "",
     "evalue": "1",
     "output_type": "error",
     "traceback": []
    }
   ],
   "source": [
    "## reads path might need to be changed if the initial reads are somewhere else\n",
    "reads=../../../hifiWithKinetics/at6137/at6137.hifi_withKinetics.bam\n",
    "## ref path adjust accordingly (same as reads path)\n",
    "ref=/ptmp/gshirsekar/wenfei/T850.q20.fastq.gz.alltelomere.fa\n",
    "output=/ptmp/gshirsekar/wenfei/at6137_hifiWithKineticsMappedTo_T850.alltelomere.bam\n",
    "threads=24\n",
    "\n",
    "nice ccsmeth align_hifi \\\n",
    "    --hifireads ${reads} \\\n",
    "    --ref ${ref} \\\n",
    "    --output ${output} \\\n",
    "    --threads ${threads}"
   ]
  },
  {
   "cell_type": "code",
   "execution_count": 8,
   "id": "77e64c2b-a774-4261-8962-b3777b92875a",
   "metadata": {},
   "outputs": [
    {
     "name": "stdout",
     "output_type": "stream",
     "text": [
      "(/u/gshirsekar/conda-envs/ccsmeth) \n"
     ]
    },
    {
     "ename": "",
     "evalue": "1",
     "output_type": "error",
     "traceback": []
    }
   ],
   "source": [
    "mkdir -p /ptmp/gshirsekar/wenfei/output/logfiles_at6137"
   ]
  },
  {
   "cell_type": "code",
   "execution_count": 9,
   "id": "0298ba60-0c25-4366-b8c1-54f76e1c8aa6",
   "metadata": {},
   "outputs": [
    {
     "name": "stdout",
     "output_type": "stream",
     "text": [
      "(/u/gshirsekar/conda-envs/ccsmeth) \n"
     ]
    },
    {
     "ename": "",
     "evalue": "1",
     "output_type": "error",
     "traceback": []
    }
   ],
   "source": [
    "for context in CG\n",
    "do\n",
    "mkdir -p /ptmp/gshirsekar/wenfei/output/at6137/${context}/at6137_${context}\n",
    "done"
   ]
  },
  {
   "cell_type": "code",
   "execution_count": null,
   "id": "dc9bfe9b-9894-4438-90bd-8cce0a26bf98",
   "metadata": {},
   "outputs": [],
   "source": []
  },
  {
   "cell_type": "markdown",
   "id": "2da7037e-6afa-4501-8b3f-22293551f5f3",
   "metadata": {},
   "source": [
    "### call the modifications in all the contexts (CG, CHG, CHH)"
   ]
  },
  {
   "cell_type": "code",
   "execution_count": 11,
   "id": "76b8a941-4feb-4d03-b993-ea6accf0f091",
   "metadata": {},
   "outputs": [
    {
     "name": "stdout",
     "output_type": "stream",
     "text": [
      "Submitted batch job 7836820\n",
      "(/u/gshirsekar/conda-envs/ccsmeth) \n"
     ]
    },
    {
     "ename": "",
     "evalue": "1",
     "output_type": "error",
     "traceback": []
    }
   ],
   "source": [
    "parallel --jobs 1 sbatch {} ::: call_modifications-telomere.CG.raven.slurm"
   ]
  },
  {
   "cell_type": "markdown",
   "id": "bb880435-e0ca-4db6-809f-8e14c3a71891",
   "metadata": {},
   "source": [
    "### make methyl artist database"
   ]
  },
  {
   "cell_type": "code",
   "execution_count": null,
   "id": "94345c46-f439-43c5-83e9-530e8ed506da",
   "metadata": {},
   "outputs": [],
   "source": [
    "#parallel --jobs 3 bash {} ::: makeMethylArtistDB_*.sh"
   ]
  },
  {
   "cell_type": "code",
   "execution_count": 6,
   "id": "677819fa-419e-4cae-a613-36a0d43e939e",
   "metadata": {},
   "outputs": [],
   "source": [
    "ls ../../tmp/"
   ]
  },
  {
   "cell_type": "code",
   "execution_count": null,
   "id": "9986e81e-067d-4c30-b553-65763bbbcef7",
   "metadata": {},
   "outputs": [],
   "source": [
    "ls ../../t"
   ]
  }
 ],
 "metadata": {
  "kernelspec": {
   "display_name": "Bash",
   "language": "bash",
   "name": "bash"
  },
  "language_info": {
   "codemirror_mode": "shell",
   "file_extension": ".sh",
   "mimetype": "text/x-sh",
   "name": "bash"
  }
 },
 "nbformat": 4,
 "nbformat_minor": 5
}
