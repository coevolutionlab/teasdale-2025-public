{
 "cells": [
  {
   "cell_type": "code",
   "execution_count": 1,
   "id": "a469baad-1b24-4e03-bc94-335b8ab5944a",
   "metadata": {},
   "outputs": [
    {
     "name": "stdout",
     "output_type": "stream",
     "text": [
      "(/u/gshirsekar/conda-envs/ccsmeth) "
     ]
    },
    {
     "ename": "",
     "evalue": "1",
     "output_type": "error",
     "traceback": []
    }
   ],
   "source": [
    "conda activate ccsmeth_v2"
   ]
  },
  {
   "cell_type": "markdown",
   "id": "9148d26c-3e2a-43ab-ad03-6fad20acdcee",
   "metadata": {},
   "source": [
    "### Get system information and packages used in running methylation calls\n",
    "GPU related information can be found in the log files "
   ]
  },
  {
   "cell_type": "code",
   "execution_count": null,
   "id": "f57d4d09-d659-4492-b49d-da0adaf1f916",
   "metadata": {},
   "outputs": [],
   "source": [
    "echo -e \"import watermark \\nprint(watermark.watermark())\" > loadwatermark.py"
   ]
  },
  {
   "cell_type": "code",
   "execution_count": null,
   "id": "be540cfb-8a93-49eb-b758-ed42bc0fe26a",
   "metadata": {},
   "outputs": [],
   "source": [
    "python loadwatermark.py"
   ]
  },
  {
   "cell_type": "code",
   "execution_count": null,
   "id": "df50702d-422a-4491-aaae-71e8e052727a",
   "metadata": {},
   "outputs": [],
   "source": [
    "pip list"
   ]
  },
  {
   "cell_type": "markdown",
   "id": "c597f22f-1e6f-49c8-b834-a8577b44dc39",
   "metadata": {},
   "source": [
    "### map the hifi with kinetics reads to own reference assembly"
   ]
  },
  {
   "cell_type": "code",
   "execution_count": null,
   "id": "15656834-4637-4c2a-8193-a10df9dd0a8b",
   "metadata": {},
   "outputs": [],
   "source": [
    "## reads path might need to be changed if the initial reads are somewhere else\n",
    "reads=../../../../../hifiWithKineticsReads-cobra/at6137/at6137.hifi_withKinetics.bam\n",
    "## ref path adjust accordingly (same as reads path)\n",
    "ref=../../../../assembly-and-annotation/output/01_assembly/01_pansn-named/at6137.scaffolds-v2.3.fasta\n",
    "output=../../tmp/at6137.hifi_withKinetics_mapped_to_at6137.bam\n",
    "threads=24\n",
    "\n",
    "nice ccsmeth align_hifi \\\n",
    "    --hifireads ${reads} \\\n",
    "    --ref ${ref} \\\n",
    "    --output ${output} \\\n",
    "    --threads ${threads}"
   ]
  },
  {
   "cell_type": "code",
   "execution_count": null,
   "id": "77e64c2b-a774-4261-8962-b3777b92875a",
   "metadata": {},
   "outputs": [],
   "source": [
    "mkdir -p ../../output/logfiles_at6137"
   ]
  },
  {
   "cell_type": "code",
   "execution_count": 2,
   "id": "0298ba60-0c25-4366-b8c1-54f76e1c8aa6",
   "metadata": {},
   "outputs": [],
   "source": [
    "for context in CG CHG CHH\n",
    "do\n",
    "mkdir -p ../../output/at6137/${context}/at6137_${context}\n",
    "done"
   ]
  },
  {
   "cell_type": "code",
   "execution_count": null,
   "id": "dc9bfe9b-9894-4438-90bd-8cce0a26bf98",
   "metadata": {},
   "outputs": [],
   "source": []
  },
  {
   "cell_type": "markdown",
   "id": "2da7037e-6afa-4501-8b3f-22293551f5f3",
   "metadata": {},
   "source": [
    "### call the modifications in all the contexts (CG, CHG, CHH)"
   ]
  },
  {
   "cell_type": "code",
   "execution_count": null,
   "id": "76b8a941-4feb-4d03-b993-ea6accf0f091",
   "metadata": {},
   "outputs": [],
   "source": [
    "parallel --jobs 3 sbatch {} ::: call_modifications*.cobra.slurm"
   ]
  },
  {
   "cell_type": "markdown",
   "id": "bb880435-e0ca-4db6-809f-8e14c3a71891",
   "metadata": {},
   "source": [
    "### make methyl artist database"
   ]
  },
  {
   "cell_type": "code",
   "execution_count": null,
   "id": "94345c46-f439-43c5-83e9-530e8ed506da",
   "metadata": {},
   "outputs": [],
   "source": [
    "#parallel --jobs 3 bash {} ::: makeMethylArtistDB_*.sh"
   ]
  },
  {
   "cell_type": "code",
   "execution_count": 6,
   "id": "677819fa-419e-4cae-a613-36a0d43e939e",
   "metadata": {},
   "outputs": [],
   "source": [
    "ls ../../tmp/"
   ]
  },
  {
   "cell_type": "code",
   "execution_count": null,
   "id": "9986e81e-067d-4c30-b553-65763bbbcef7",
   "metadata": {},
   "outputs": [],
   "source": [
    "ls ../../t"
   ]
  }
 ],
 "metadata": {
  "kernelspec": {
   "display_name": "Bash",
   "language": "bash",
   "name": "bash"
  },
  "language_info": {
   "codemirror_mode": "shell",
   "file_extension": ".sh",
   "mimetype": "text/x-sh",
   "name": "bash"
  }
 },
 "nbformat": 4,
 "nbformat_minor": 5
}
