{
 "cells": [
  {
   "cell_type": "code",
   "execution_count": null,
   "id": "834b7d15-8657-429b-8a2d-96902a2d326e",
   "metadata": {
    "tags": []
   },
   "outputs": [],
   "source": [
    "region_bed = \"../final/neighborhoods/latest/final_renamed.bed\"\n",
    "gene_annotation = \"../final/annotation/latest/all_accesssions.hodgepodgemerged.gff3\"\n",
    "te_annotation = \"../final/TE_annotation/latest/pangenome_TEannotation.gff3\""
   ]
  },
  {
   "cell_type": "code",
   "execution_count": null,
   "id": "e4ede947-4bc9-4168-9ce1-d0b413d80617",
   "metadata": {
    "tags": []
   },
   "outputs": [],
   "source": [
    "library(stringr)\n",
    "library(tidyverse)\n",
    "library(gggenes)\n",
    "options(repr.plot.width=8, repr.plot.height=6, repr.plot.res = 320)"
   ]
  },
  {
   "cell_type": "code",
   "execution_count": null,
   "id": "e6fa9d6f-d666-42f1-8360-928c29a6e84d",
   "metadata": {
    "tags": []
   },
   "outputs": [],
   "source": [
    "regions = read_tsv(region_bed, col_names = c(\"chrom\", \"start\", \"end\", \"region_name\")) %>%\n",
    "    mutate(accession=sub(\"(at\\\\d+)_.*\", \"\\\\1\", chrom), nh_offset=pmax(1, start-100))"
   ]
  },
  {
   "cell_type": "code",
   "execution_count": null,
   "id": "c0701181-0998-4c46-b6ad-f042a71e201c",
   "metadata": {
    "tags": []
   },
   "outputs": [],
   "source": [
    "genes = read_tsv(gene_annotation, col_names=c(\"chrom\", \"source\", \"type\", \"start\", \"end\", \"score\", \"strand\", \"phase\", \"attrs\"), comment=\"#\")  %>%\n",
    "    filter(type%in%c(\"gene\", \"pseudogene\", \"pseuogenic_region\", \"transposable_element_gene\")) %>%\n",
    "    mutate(geneid=sub(\"ID=([^;]+).*\", \"\\\\1\", attrs, perl=T))"
   ]
  },
  {
   "cell_type": "code",
   "execution_count": null,
   "id": "9397f75c-87f9-4914-96ad-ad035260c65d",
   "metadata": {
    "tags": []
   },
   "outputs": [],
   "source": [
    "#ntk = read_tsv(\"../domainly/output/all_nlrtracker.tsv\") %>%\n",
    "ntk = read_csv(\"https://docs.google.com/spreadsheets/d/1zDNJx06aHCdjKWWai-mqQPEE3xmoJRTFNKn3d3zNUSo/export?gid=681416978&format=csv\") %>%\n",
    "    janitor::clean_names() %>%\n",
    "    transmute(\n",
    "        gene=id,\n",
    "        gene_type=curated_type_final,\n",
    "    ) %>%\n",
    "    filter(gene_type == \"nlr\") %>%\n",
    "    unique()"
   ]
  },
  {
   "cell_type": "code",
   "execution_count": null,
   "id": "e3a61596-e0c5-426a-979a-0c769b47f56c",
   "metadata": {
    "tags": []
   },
   "outputs": [],
   "source": [
    "gene_classes = genes %>%\n",
    "    left_join(ntk, by=c(\"geneid\"=\"gene\")) %>%\n",
    "    mutate(\n",
    "        class = case_when(\n",
    "            grepl(\"transposable\", type) ~ \"TE gene\",\n",
    "            grepl(\"pseudogen\", type) & gene_type == \"nlr\"  ~ \"NLR pseudogene\",\n",
    "            grepl(\"pseudogen\", type) & is.na(gene_type)  ~ \"pseudogene\",\n",
    "            type == \"gene\" & gene_type == \"nlr\" ~ \"NLR\",\n",
    "            type == \"gene\" & is.na(gene_type) ~ \"gene\",\n",
    "        )\n",
    "    ) %>%\n",
    "    select(geneid, class) %>%\n",
    "    unique()"
   ]
  },
  {
   "cell_type": "code",
   "execution_count": null,
   "id": "0be125ce-d20c-47a7-9cb3-4c6615a506cf",
   "metadata": {
    "tags": []
   },
   "outputs": [],
   "source": [
    "gene_classes %>%\n",
    "    count(geneid) %>%\n",
    "    filter(n>1)"
   ]
  },
  {
   "cell_type": "code",
   "execution_count": null,
   "id": "9d2b67b2-622d-42e2-832a-d0683a439777",
   "metadata": {
    "tags": []
   },
   "outputs": [],
   "source": [
    "colourscheme = tribble(\n",
    "    ~class, ~colour,\n",
    "    \"gene\", \"#1F78B4\",\n",
    "    \"NLR\", \"chocolate1\",\n",
    "    \"NLR pseudogene\", \"#E31A1C\",\n",
    "    \"pseudogene\", \"pink\",\n",
    "    \"TE\", \"#555555\",\n",
    "    \"TE gene\", \"#222222\",\n",
    ")\n",
    "pal.colour=colourscheme$colour\n",
    "names(pal.colour) = colourscheme$class"
   ]
  },
  {
   "cell_type": "code",
   "execution_count": null,
   "id": "4a7e407e-63f2-40bb-b5b0-2e20849efc10",
   "metadata": {
    "tags": []
   },
   "outputs": [],
   "source": [
    "nh_genes = regions %>%\n",
    "    left_join(genes, by=join_by(chrom, start<=start, end>=end), suffix = c(\".region\", \".gene\"), relationship = \"many-to-many\" ) %>%\n",
    "    mutate(accession=sub(\"(at\\\\d+)_.*\", \"\\\\1\", chrom)) %>%\n",
    "    filter(!grepl(\"at6137\", chrom))  %>%\n",
    "    unique() %>%\n",
    "    write_tsv(\"output/nh_genes-2024-04-19.tsv\", na=\"\")"
   ]
  },
  {
   "cell_type": "code",
   "execution_count": null,
   "id": "5e257b9c-8cb8-4bf4-9189-a15bec30ccab",
   "metadata": {
    "tags": []
   },
   "outputs": [],
   "source": [
    "te = read_tsv(te_annotation, col_names=c(\"chrom\", \"source\", \"type\", \"start\", \"end\", \"score\", \"strand\", \"phase\", \"attrs\"), comment = \"#\") %>%\n",
    "    filter(!grepl(\"Parent\", attrs)) %>%\n",
    "    mutate(teid=sub(\"ID=([^;]+).*\", \"\\\\1\", attrs, perl=T)) %>%\n",
    "    select(-attrs, -score, -phase, -source, -type)"
   ]
  },
  {
   "cell_type": "code",
   "execution_count": null,
   "id": "53b06a59-97d4-46f0-8c0c-0a7441031a01",
   "metadata": {
    "tags": []
   },
   "outputs": [],
   "source": [
    "nh_te = regions %>%\n",
    "    left_join(te, by=join_by(chrom, start<=start, end>=end), suffix = c(\".region\", \".gene\"), relationship = \"many-to-many\" )  %>%\n",
    "    filter(!grepl(\"at6137\", chrom))  %>%\n",
    "    mutate(accession=sub(\"(at\\\\d+)_.*\", \"\\\\1\", chrom)) %>%\n",
    "    unique() %>%\n",
    "    write_tsv(\"output/nh_te-2024-04-19.tsv\", na=\"\")"
   ]
  },
  {
   "cell_type": "code",
   "execution_count": null,
   "id": "1374d89a-f1f0-41a5-9636-e983a12eb66a",
   "metadata": {
    "tags": []
   },
   "outputs": [],
   "source": [
    "nodes = read_tsv(\"../pangenome_pggb/km_diffent/output/node_radii_genomecoord.tsv.xz\")"
   ]
  },
  {
   "cell_type": "code",
   "execution_count": null,
   "id": "e4e31b8e-43b1-4400-af17-17b024f4aadf",
   "metadata": {},
   "outputs": [],
   "source": [
    "nodes = nodes %>%\n",
    "    mutate(chrom=sub(\":.*\", \"\", path)) %>%\n",
    "    select(-path)"
   ]
  },
  {
   "cell_type": "code",
   "execution_count": null,
   "id": "836e3f49-7853-48cf-ad9f-1ced76da21b1",
   "metadata": {
    "tags": []
   },
   "outputs": [],
   "source": [
    "reg_nodes = regions %>%\n",
    "    left_join(nodes, by=join_by(chrom, start<end, end>start), suffix = c(\".nh\", \".node\")) %>%\n",
    "    mutate(startO = start.node-start.nh, endO=end.node-start.nh)"
   ]
  },
  {
   "cell_type": "code",
   "execution_count": null,
   "id": "7668ac04-8c1b-4d9f-88a9-bbe1b353c521",
   "metadata": {
    "tags": []
   },
   "outputs": [],
   "source": [
    "outd = \"output/2024-08-06_nh\"\n",
    "dir.create(outd, recursive = T, showWarnings = F)\n",
    "nh_name = c(\"chr4_nbh12\")\n",
    "reg = regions %>%\n",
    "    filter(region_name %in% nh_name) %>%\n",
    "    filter(!grepl(\"at6137\", chrom))  %>%\n",
    "    mutate(startO=start-nh_offset, endO=end-nh_offset)\n",
    "nhg = nh_genes %>%\n",
    "    filter(region_name %in% nh_name) %>%\n",
    "    mutate(startO=start.gene-nh_offset, endO=end.gene-nh_offset) %>%\n",
    "    left_join(gene_classes, by=join_by(geneid)) \n",
    "nht = nh_te  %>%\n",
    "    filter(region_name %in% nh_name) %>%\n",
    "    mutate(startO=start.gene-nh_offset, endO=end.gene-nh_offset, class=\"TE\")\n",
    "nhr = reg_nodes %>%\n",
    "    filter(region_name %in% nh_name, !grepl(\"at6137\", chrom)) %>%\n",
    "    mutate(x=round((endO+startO)/2/50)*50) %>%\n",
    "    group_by(chrom, start.nh, end.nh, region_name, x) %>%\n",
    "    mutate(mean_nr=sum((endO-startO)*node_diameter)/sum((endO-startO))) %>%\n",
    "    left_join(\n",
    "        nhg %>%\n",
    "            select(chrom, startO, endO, class),\n",
    "        by=join_by(chrom, startO<endO, endO>startO),\n",
    "        suffix=c(\"\", \".gene\")\n",
    "    ) %>%\n",
    "    mutate(class=ifelse(is.na(class), \"Intergenic\", class))\n",
    "\n",
    "p = ggplot(nhg, aes(xmin = startO, xmax = endO)) +\n",
    "    #annotate(\"segment\", x=reg$startO, xend=reg$endO, y=-10, yend=-10, colour=\"grey\") +\n",
    "    geom_gene_arrow(aes(xmin = startO, xmax = endO, forward=strand==\"+\", colour=class, fill=class, group=accession), y=-80, arrowhead_height = unit(.6, \"mm\"), arrowhead_width = unit(.4, \"mm\"),arrow_body_height=unit(1.5, \"mm\"), alpha=1, data=nhg)  +\n",
    "    #geom_gene_arrow(aes(forward=strand==\"+\", colour=class, fill=class), y=-40, arrowhead_height = unit(.3, \"mm\"), arrowhead_width = unit(.4, \"mm\"), arrow_body_height=unit(1, \"mm\"), data=nht, alpha=0.5) +\n",
    "    geom_point(aes(x=x, y=mean_nr,colour=class), size=0.2, data=nhr) +\n",
    "    scale_y_continuous(breaks = c(0, 250), limits = c(-120, 260)) +\n",
    "    scale_x_continuous(labels = scales::label_number(suffix = \"Kbp\", scale = 1e-3), breaks = seq(0, 300000, 50000)) + \n",
    "    scale_fill_manual(values=c(pal.colour, \"Intergenic\"=\"grey60\"), guide=guide_legend(nrow =1), name=\"Gene Type\", aesthetics = c(\"fill\", \"colour\")) +\n",
    "    facet_grid(accession~region_name, scale=\"free_x\", space=\"free_x\") +\n",
    "    labs(y=\"Local Complexity\", x=\"Neighbourhood Coordinate (bp)\") +\n",
    "    theme_classic() +\n",
    "    theme(\n",
    "        legend.position=\"bottom\",\n",
    "        strip.text.y.right=element_text(angle=0, hjust=0, vjust=0.5, size=8),\n",
    "    )   \n",
    "\n",
    "nh_name=\"fig3_rpp45\"\n",
    "#print(p)\n",
    "ggsave(sprintf(\"%s/%s.png\", outd, nh_name), width=7, height=7)\n",
    "ggsave(sprintf(\"%s/%s.svg\", outd, nh_name), width=7, height=7)\n",
    "saveRDS(p, sprintf(\"%s/%s.rds\", outd, nh_name))"
   ]
  },
  {
   "cell_type": "code",
   "execution_count": null,
   "id": "a98cb822-b3ed-4296-8444-95e2440181ba",
   "metadata": {},
   "outputs": [],
   "source": [
    "for (nh_name in unique(regions$region_name)) {\n",
    "    reg = regions %>%\n",
    "        filter(region_name %in% nh_name) %>%\n",
    "        filter(!grepl(\"at6137\", chrom))  %>%\n",
    "        mutate(startO=start-nh_offset, endO=end-nh_offset)\n",
    "    nhg = nh_genes %>%\n",
    "        filter(region_name %in% nh_name) %>%\n",
    "        mutate(startO=start.gene-nh_offset, endO=end.gene-nh_offset) %>%\n",
    "        left_join(gene_classes, by=join_by(geneid)) \n",
    "    nht = nh_te  %>%\n",
    "        filter(region_name %in% nh_name) %>%\n",
    "        mutate(startO=start.gene-nh_offset, endO=end.gene-nh_offset, class=\"TE\")\n",
    "    nhr = reg_nodes %>%\n",
    "        filter(region_name %in% nh_name, !grepl(\"at6137\", chrom)) %>%\n",
    "        mutate(x=round((endO+startO)/2/50)*50) %>%\n",
    "        group_by(chrom, start.nh, end.nh, region_name, x) %>%\n",
    "        mutate(mean_nr=sum((endO-startO)*node_diameter)/sum((endO-startO))) %>%\n",
    "        left_join(\n",
    "            nhg %>%\n",
    "                select(chrom, startO, endO, class),\n",
    "            by=join_by(chrom, startO<endO, endO>startO),\n",
    "            suffix=c(\"\", \".gene\")\n",
    "        ) %>%\n",
    "        mutate(class=ifelse(is.na(class), \"Intergenic\", class))\n",
    "    \n",
    "    p = ggplot(nhg, aes(xmin = startO, xmax = endO)) +\n",
    "        #annotate(\"segment\", x=reg$startO, xend=reg$endO, y=-10, yend=-10, colour=\"grey\") +\n",
    "        geom_gene_arrow(aes(xmin = startO, xmax = endO, forward=strand==\"+\", colour=class, fill=class, group=accession), y=-160,  arrowhead_height = unit(.6, \"mm\"), arrowhead_width = unit(.4, \"mm\"),arrow_body_height=unit(1.5, \"mm\"), alpha=1, data=nhg)  +\n",
    "        geom_gene_arrow(aes(forward=strand==\"+\", colour=class, fill=class), y=-160, arrowhead_height = unit(.3, \"mm\"), arrowhead_width = unit(.4, \"mm\"), arrow_body_height=unit(1, \"mm\"), data=nht, alpha=0.5) +\n",
    "        geom_point(aes(x=x, y=mean_nr,colour=class), size=0.2, data=nhr) +\n",
    "        scale_y_continuous(breaks = c(0, 250), limits = c(-220, 260)) +\n",
    "        scale_x_continuous(labels = scales::label_number(suffix = \" Kbp\", scale = 1e-3)) + \n",
    "        scale_fill_manual(values=c(pal.colour, \"Intergenic\"=\"grey60\"), guide=guide_legend(nrow =1), name=\"Gene Type\", aesthetics = c(\"fill\", \"colour\")) +\n",
    "        facet_grid(accession~region_name, scale=\"free_x\", space=\"free_x\") +\n",
    "        labs(y=\"Local Complexity\", x=\"Neighbourhood Coordinate (bp)\") +\n",
    "        theme_classic() +\n",
    "        theme(\n",
    "            legend.position=\"bottom\",\n",
    "            strip.text.y.right=element_text(angle=0, hjust=0, vjust=0.5, size=8),\n",
    "        )   \n",
    "    \n",
    "#    p=ggplot(nhg, aes(xmin = startO, xmax = endO, y = accession)) +\n",
    "#        annotate(\"segment\", x=reg$startO, xend=reg$endO, y=reg$accession, yend=reg$accession, colour=\"grey\") +\n",
    "#        geom_gene_arrow(aes(xmin = startO, xmax = endO, y =I(-10), forward=strand==\"+\", colour=class, fill=class, group=accession), arrowhead_height = unit(.8, \"mm\"), arrowhead_width = unit(.4, \"mm\"), alpha=1, data=nhg)  +\n",
    "#        geom_gene_arrow(aes(forward=strand==\"+\", colour=class, fill=class), arrowhead_height = unit(1, \"mm\"), arrowhead_width = unit(.6, \"mm\"), alpha=0.7) +\n",
    "#        geom_gene_arrow(aes(forward=strand==\"+\", colour=class, fill=class), arrowhead_height = unit(.5, \"mm\"), arrowhead_width = unit(.6, \"mm\"), arrow_body_height=unit(1.4, \"mm\"), data=nht, alpha=0.5) +\n",
    "#        theme_genes()+\n",
    "#        labs(y=NULL, x=\"Neighbourhood Coordinate (bp)\", title=nh_name) +\n",
    "#        theme(\n",
    "#            legend.position=\"bottom\", \n",
    "#            panel.grid.major.y = element_blank()\n",
    "#        )\n",
    "#\n",
    "    print(p)\n",
    "    ggsave(sprintf(\"%s/%s.png\", outd, nh_name), width=7, height=7)\n",
    "    ggsave(sprintf(\"%s/%s.svg\", outd, nh_name), width=7, height=7)\n",
    "    saveRDS(p, sprintf(\"%s/%s.rds\", outd, nh_name))\n",
    "}"
   ]
  },
  {
   "cell_type": "code",
   "execution_count": null,
   "id": "24874925-d7fd-4674-824e-411dab21c581",
   "metadata": {
    "tags": []
   },
   "outputs": [],
   "source": [
    "og = read_csv(\"https://docs.google.com/spreadsheets/d/1zDNJx06aHCdjKWWai-mqQPEE3xmoJRTFNKn3d3zNUSo/export?format=csv&gid=681416978\") %>%\n",
    "    janitor::clean_names() %>%\n",
    "    filter(curated_type_final==\"nlr\") %>%\n",
    "    transmute(geneid=id, fine_og= fine_orthogroups_second_draft_70_cd_hit_genes_and_pseudogenes, broad_og=broad_orthogroups) %>%\n",
    "    unique() %>%\n",
    "    glimpse()"
   ]
  },
  {
   "cell_type": "code",
   "execution_count": null,
   "id": "bb38eaa4-65bb-45fc-8e56-c52110c64553",
   "metadata": {
    "tags": []
   },
   "outputs": [],
   "source": [
    "nh_name = c(\"chr1_nbh25\")\n",
    "acc_order = c(\"at9578\", \"at6929\", \"at9503\", \"at9883\", \"at9104\", \"at8285\", \"at9806\", \"at9762\", \"at9852\", \"at9900\", \"at7143\", \"at6923\", \"at9830\",\"at9744\",  \"at9336\", \"at9847\", \"at9879\")\n",
    "reg = regions %>%\n",
    "    filter(region_name %in% nh_name) %>%\n",
    "    filter(!grepl(\"at6137\", chrom))  %>%\n",
    "    mutate(startO=start-nh_offset, endO=end-nh_offset)\n",
    "nh_len= reg %>%\n",
    "    transmute(chrom, region_name, nhl = endO-startO)\n",
    "    \n",
    "nhg = nh_genes %>%\n",
    "    filter(region_name %in% nh_name) %>%\n",
    "    mutate(startO=start.gene-nh_offset, endO=end.gene-nh_offset) %>%\n",
    "    left_join(gene_classes, by=join_by(geneid))  %>%\n",
    "    left_join(og, by=join_by(geneid)) %>%\n",
    "    mutate(\n",
    "        fillclass=case_when(\n",
    "            class==\"NLR\" ~ sprintf(\"NLR OG %d\", as.numeric(as.factor(as.character(fine_og)))),\n",
    "            T ~ class,\n",
    "        ),\n",
    "    )\n",
    "nht = nh_te  %>%\n",
    "    filter(region_name %in% nh_name) %>%\n",
    "    mutate(startO=start.gene-nh_offset, endO=end.gene-nh_offset, class=\"TE\")\n",
    "\n",
    "p=ggplot(nhg, aes(xmin = startO, xmax = endO, y = accession)) +\n",
    "    annotate(\"segment\", x=reg$startO, xend=reg$endO, y=reg$accession, yend=reg$accession, colour=\"grey\") +\n",
    "    geom_gene_arrow(aes(xmin = startO, xmax = endO, forward=strand==\"+\", fill=fillclass, group=accession), arrowhead_height = unit(.8, \"mm\"), arrowhead_width = unit(.4, \"mm\"), alpha=1, data=nhg)  +\n",
    "    geom_gene_arrow(aes(forward=strand==\"+\"), arrowhead_height = unit(.5, \"mm\"), arrowhead_width = unit(.6, \"mm\"), arrow_body_height=unit(1.4, \"mm\"), fill=\"grey60\", data=nht, alpha=0.5) +\n",
    "    scale_fill_brewer(palette = \"Paired\", name = \"Gene\\nClass\") +\n",
    "    scale_y_discrete(limits=acc_order) +\n",
    "    theme_genes()+\n",
    "    labs(y=NULL, x=\"Neighbourhood Coordinate (bp)\") +\n",
    "    theme(\n",
    "        legend.position=\"bottom\", \n",
    "        panel.grid.major.y = element_blank()\n",
    "    )\n",
    "\n",
    "nh_name=\"fig5_chr1_nbh25\"\n",
    "print(p)\n",
    "ggsave(sprintf(\"%s/%s.png\", outd, nh_name), width=7, height=5)\n",
    "ggsave(sprintf(\"%s/%s.svg\", outd, nh_name), width=7, height=5)\n",
    "saveRDS(p, sprintf(\"%s/%s.rds\", outd, nh_name))"
   ]
  },
  {
   "cell_type": "code",
   "execution_count": null,
   "id": "986acc1e-3795-4fde-b948-c6c5fbf4e08e",
   "metadata": {},
   "outputs": [],
   "source": [
    "nhg %>%\n",
    "    select(fine_og, fillclass) %>%\n",
    "    filter(!is.na(fine_og)) %>%\n",
    "    unique()\n",
    "    "
   ]
  },
  {
   "cell_type": "markdown",
   "id": "ff68479f-aa41-41c4-9a22-6c0b6d2ca872",
   "metadata": {},
   "source": [
    "# For figure 1\n",
    "\n",
    "A good example"
   ]
  },
  {
   "cell_type": "code",
   "execution_count": null,
   "id": "a807f029-c040-43c9-86fc-efd3b54b73d7",
   "metadata": {
    "tags": []
   },
   "outputs": [],
   "source": [
    "nh_name = \"chr5_nbh23\"\n",
    "\n",
    "syntanch = nh_genes %>%\n",
    "    filter(region_name == nh_name) %>%\n",
    "    group_by(accession) %>%\n",
    "    summarise(left=first(geneid), right=last(geneid))  %>%\n",
    "    pivot_longer(c(left, right)) %>%\n",
    "    glimpse()\n",
    "nhg = genes %>%\n",
    "    mutate(accession=sub(\"(at\\\\d+)_.*\", \"\\\\1\", chrom)) %>%\n",
    "    filter(!grepl(\"at6137\", chrom), grepl(\"chr5\", chrom))  %>%\n",
    "    left_join(gene_classes, by=join_by(geneid))  %>%\n",
    "    left_join(\n",
    "        read_csv(\"https://docs.google.com/spreadsheets/d/1zDNJx06aHCdjKWWai-mqQPEE3xmoJRTFNKn3d3zNUSo/export?gid=681416978&format=csv\", na=c(\"NA\",\"#N/A\")) %>%\n",
    "        janitor::clean_names() %>%\n",
    "        select(geneid=id, fine_og=fine_orthogroups_second_draft_70_cd_hit_genes_and_pseudogenes, broad_og=combined_broad_orthogroups_and_pseudogenes) \n",
    "    ) %>%\n",
    "    mutate(\n",
    "        class=case_when(\n",
    "            fine_og%in% c(\"OG0002656-cluster-1\")  | fine_og == \"OG0029600-cluster-1\" & chrom == \"at9104_1_chr5\" ~ \"FocalNLR\",\n",
    "            geneid %in% syntanch$value ~ \"SyntenicAnchor\",\n",
    "            class == \"gene\" ~ \"Gene\",\n",
    "            class == \"TE gene\" ~ \"Gene\",\n",
    "            class == \"NLR pseudogene\" ~ \"NLR\",\n",
    "            class == \"pseudogene\" ~ \"Gene\",\n",
    "            T ~ class\n",
    "        )) %>%\n",
    "    group_by(chrom) %>%\n",
    "    mutate(offset=min(start[class==\"FocalNLR\"])) %>%\n",
    "    ungroup() %>%\n",
    "    mutate(startO=start-offset, endO=end-offset) %>% \n",
    "    filter(startO> -75000 & endO < 75000)\n",
    "reg = regions %>%\n",
    "    filter(region_name == nh_name) %>%\n",
    "    filter(!grepl(\"at6137\", chrom)) %>%\n",
    "    left_join(nhg %>%\n",
    "                select(accession, offset) %>%\n",
    "                unique()) %>%\n",
    "    mutate(startO=start-offset, endO=end-offset) %>%\n",
    "    glimpse()\n",
    "nhg =  nhg %>%\n",
    "    mutate(in_nh = purrr::pmap_lgl(list(startO, endO, accession), function(s, e, a) e < reg[reg$accession == a, \"endO\"] & s < reg[reg$accession == a, \"endO\"] & e > reg[reg$accession == a, \"startO\"] & s > reg[reg$accession == a, \"startO\"]  )) %>%\n",
    "    glimpse()\n",
    "                                    "
   ]
  },
  {
   "cell_type": "code",
   "execution_count": null,
   "id": "c1fdb0e7-c6ca-4c68-bf76-ebe9bc14d69e",
   "metadata": {},
   "outputs": [],
   "source": [
    "nhg %>% \n",
    "    count(class)"
   ]
  },
  {
   "cell_type": "code",
   "execution_count": null,
   "id": "0ffda74b-a833-420d-9843-5055fc10a4bd",
   "metadata": {
    "tags": []
   },
   "outputs": [],
   "source": [
    "p=ggplot(nhg, aes(xmin = startO, xmax = endO, y = accession)) +\n",
    "    annotate(\"segment\", x=-80000, xend=80000, y=reg$accession, yend=reg$accession, colour=\"grey\") +\n",
    "    annotate(\"segment\", x=reg$startO, xend=reg$endO, y=reg$accession, yend=reg$accession, colour=\"black\", size=2) +\n",
    "    geom_gene_arrow(aes(forward=strand==\"+\", colour=class, fill=class, alpha=in_nh), arrowhead_height = unit(1, \"mm\"), arrowhead_width = unit(.6, \"mm\")) +\n",
    "    scale_fill_manual(values=c(pal.colour, \"Gene\"=\"#1F78B4\", \"FocalNLR\"=\"yellow2\", \"SyntenicAnchor\"=\"maroon1\"), guide=guide_legend(nrow =1), name=\"Gene Type\", aesthetics = c(\"fill\", \"colour\")) +\n",
    "    scale_alpha_manual(values=c(.5, 1), guide=guide_none()) +\n",
    "    scale_y_discrete(limits=rev) +\n",
    "    theme_genes() +\n",
    "    labs(y=NULL, x=\"Relative Coordinate (bp)\") +\n",
    "    theme(\n",
    "        legend.position=\"bottom\", \n",
    "        panel.grid.major.y = element_blank()\n",
    "    )\n",
    "\n",
    "print(p)\n",
    "ggsave(sprintf(\"%s/Fig1_neighbourhood-syntenic-anchor-explanation.png\", outd), width=7, height=4)\n",
    "ggsave(sprintf(\"%s/Fig1_neighbourhood-syntenic-anchor-explanation.svg\", outd), width=7, height=4)\n",
    "saveRDS(p, sprintf(\"%s/Fig1_neighbourhood-syntenic-anchor-explanation2.rds\", outd))"
   ]
  },
  {
   "cell_type": "code",
   "execution_count": null,
   "id": "162bb00f-f904-4d27-995e-7c3528a4e84e",
   "metadata": {},
   "outputs": [],
   "source": [
    "save(nhg, reg, p, file=sprintf(\"%s/Fig1_neighbourhood-syntenic-anchor-explanation.rds\", outd), compress=F)"
   ]
  }
 ],
 "metadata": {
  "kernelspec": {
   "display_name": "R",
   "language": "R",
   "name": "ir"
  },
  "language_info": {
   "codemirror_mode": "r",
   "file_extension": ".r",
   "mimetype": "text/x-r-source",
   "name": "R",
   "pygments_lexer": "r",
   "version": "4.3.3"
  },
  "widgets": {
   "application/vnd.jupyter.widget-state+json": {
    "state": {},
    "version_major": 2,
    "version_minor": 0
   }
  }
 },
 "nbformat": 4,
 "nbformat_minor": 5
}
