{
 "cells": [
  {
   "cell_type": "code",
   "execution_count": null,
   "id": "834b7d15-8657-429b-8a2d-96902a2d326e",
   "metadata": {
    "tags": []
   },
   "outputs": [],
   "source": [
    "region_bed = \"input//gal_fbox_AT5G56370.bed\"\n",
    "gene_annotation = \"../final_annotation/latest/ALL_ACCESSIONS.hodgepodgemerged.gff3\"\n",
    "te_annotation = \"../TE_annotation/TE_annotation/output//final_TE_annotation//pangenome_TEannotation.gff3\"\n",
    "colour_grouping = \"allgenes_colours.tsv\"\n",
    "colourscheme = \"colourscheme.tsv\""
   ]
  },
  {
   "cell_type": "code",
   "execution_count": null,
   "id": "e4ede947-4bc9-4168-9ce1-d0b413d80617",
   "metadata": {
    "tags": []
   },
   "outputs": [],
   "source": [
    "library(stringr)\n",
    "library(tidyverse)\n",
    "library(gggenes)\n",
    "options(repr.plot.width=8, repr.plot.height=6, repr.plot.res = 320)"
   ]
  },
  {
   "cell_type": "code",
   "execution_count": null,
   "id": "e6fa9d6f-d666-42f1-8360-928c29a6e84d",
   "metadata": {
    "tags": []
   },
   "outputs": [],
   "source": [
    "regions = read_tsv(region_bed, col_names = c(\"chrom\", \"start\", \"end\", \"region_name\")) %>%\n",
    "    mutate(accession=sub(\"(at\\\\d+)_.*\", \"\\\\1\", chrom), nh_offset=pmax(1, start-100))"
   ]
  },
  {
   "cell_type": "code",
   "execution_count": null,
   "id": "c0701181-0998-4c46-b6ad-f042a71e201c",
   "metadata": {
    "tags": []
   },
   "outputs": [],
   "source": [
    "genes = read_tsv(gene_annotation, col_names=c(\"chrom\", \"source\", \"type\", \"start\", \"end\", \"score\", \"strand\", \"phase\", \"attrs\"))  %>%\n",
    "    filter(type%in%c(\"gene\", \"pseudogene\", \"pseuogenic_region\", \"transposable_element_gene\")) %>%\n",
    "    mutate(geneid=sub(\"ID=([^;]+).*\", \"\\\\1\", attrs, perl=T))"
   ]
  },
  {
   "cell_type": "code",
   "execution_count": null,
   "id": "29b40b73-c4e6-4f4a-98e8-fe6d8ba639d8",
   "metadata": {
    "tags": []
   },
   "outputs": [],
   "source": [
    "ipr = read_tsv(\"../domainly/output/all_genic_iprscan.tsv\",\n",
    "               col_names=c(\"seqname\", \"seqsum\", \"seqlen\", \"db\", \"hit_id\", \"hit_name\", \"hit_start\", \"hit_end\", \"evalue\",\n",
    "                           \"status\", \"rundate\", \"ipr_acc\", \"ipr_desc\")\n",
    "              ) %>%\n",
    "    mutate(geneid=sub(\"(at\\\\d+_G\\\\d+)_.*\", \"\\\\1\", seqname))"
   ]
  },
  {
   "cell_type": "code",
   "execution_count": null,
   "id": "065a886d-009b-43d1-b72b-5853b0ad43a9",
   "metadata": {
    "tags": []
   },
   "outputs": [],
   "source": [
    "dumbipr = ipr %>%\n",
    "    group_by(geneid, seqname, seqlen) %>%\n",
    "    filter(db != \"MobiDBLite\") %>%\n",
    "    summarise(hits=paste(hit_name, collapse=\";\"))"
   ]
  },
  {
   "cell_type": "code",
   "execution_count": null,
   "id": "e3a61596-e0c5-426a-979a-0c769b47f56c",
   "metadata": {
    "tags": []
   },
   "outputs": [],
   "source": [
    "gene_classes = genes %>%\n",
    "    left_join(dumbipr, by=\"geneid\") %>%\n",
    "    mutate(\n",
    "        class = case_when(\n",
    "            grepl(\"transposable\", type) ~ \"TE gene\",\n",
    "            grepl(\"pseudogen\", type) & grepl(\"f-?box\", hits, ignore.case=T)  ~ \"F-Box pseudogene\",\n",
    "            grepl(\"pseudogen\", type) & !grepl(\"f-?box\", hits, ignore.case=T)  ~ \"pseudogene\",\n",
    "            type == \"gene\" & grepl(\"f-?box\", hits, ignore.case=T)  ~ \"F-Box\",\n",
    "            type == \"gene\" & !grepl(\"f-?box\", hits, ignore.case=T)  ~ \"gene\",\n",
    "        )\n",
    "    ) %>%\n",
    "    select(geneid, class)"
   ]
  },
  {
   "cell_type": "code",
   "execution_count": null,
   "id": "0be125ce-d20c-47a7-9cb3-4c6615a506cf",
   "metadata": {
    "tags": []
   },
   "outputs": [],
   "source": [
    "table(gene_classes$class)"
   ]
  },
  {
   "cell_type": "code",
   "execution_count": null,
   "id": "9d2b67b2-622d-42e2-832a-d0683a439777",
   "metadata": {
    "tags": []
   },
   "outputs": [],
   "source": [
    "colourscheme = tribble(\n",
    "    ~class, ~colour,\n",
    "    \"gene\", \"#1F78B4\",\n",
    "    \"F-Box\",  \"lawngreen\",\n",
    "    \"F-Box;FBD\",  \"seagreen2\",\n",
    "    \"F-Box;LRR\",  \"seagreen3\",\n",
    "    \"F-Box;LRR;FBD\", \"seagreen4\",\n",
    "    \"F-Box pseudogene\", \"#E31A1C\",\n",
    "    \"pseudogene\", \"pink\",\n",
    "    \"TE\", \"#555555\",\n",
    "    \"TE gene\", \"#222222\",\n",
    ")\n",
    "pal.colour=colourscheme$colour\n",
    "names(pal.colour) = colourscheme$class"
   ]
  },
  {
   "cell_type": "code",
   "execution_count": null,
   "id": "4a7e407e-63f2-40bb-b5b0-2e20849efc10",
   "metadata": {
    "tags": []
   },
   "outputs": [],
   "source": [
    "nh_genes = regions %>%\n",
    "    left_join(genes, by=join_by(chrom, start<=start, end>=end), suffix = c(\".region\", \".gene\"), relationship = \"many-to-many\" ) %>%\n",
    "    mutate(accession=sub(\"(at\\\\d+)_.*\", \"\\\\1\", chrom))"
   ]
  },
  {
   "cell_type": "code",
   "execution_count": null,
   "id": "5e257b9c-8cb8-4bf4-9189-a15bec30ccab",
   "metadata": {
    "tags": []
   },
   "outputs": [],
   "source": [
    "te = read_tsv(te_annotation, col_names=c(\"chrom\", \"source\", \"type\", \"start\", \"end\", \"score\", \"strand\", \"phase\", \"attrs\"), comment = \"#\") %>%\n",
    "    filter(!grepl(\"Parent\", attrs)) %>%\n",
    "    mutate(teid=sub(\"ID=([^;]+).*\", \"\\\\1\", attrs, perl=T)) %>%\n",
    "    select(-attrs, -score, -phase, -source, -type)"
   ]
  },
  {
   "cell_type": "code",
   "execution_count": null,
   "id": "53b06a59-97d4-46f0-8c0c-0a7441031a01",
   "metadata": {
    "tags": []
   },
   "outputs": [],
   "source": [
    "nh_te = regions %>%\n",
    "    left_join(te, by=join_by(chrom, start<=start, end>=end), suffix = c(\".region\", \".gene\"), relationship = \"many-to-many\" )  %>%\n",
    "    mutate(accession=sub(\"(at\\\\d+)_.*\", \"\\\\1\", chrom))"
   ]
  },
  {
   "cell_type": "code",
   "execution_count": null,
   "id": "d1e90186-4b5d-4dbd-9de7-c0bd0e7a18b5",
   "metadata": {
    "tags": []
   },
   "outputs": [],
   "source": [
    "lib = read_tsv(\"candiates.tsv\") %>%\n",
    "    select(-n) %>%\n",
    "    filter(!is.na(domain))"
   ]
  },
  {
   "cell_type": "code",
   "execution_count": null,
   "id": "e39edae6-9afd-4b73-968b-443b87c2ccca",
   "metadata": {
    "tags": []
   },
   "outputs": [],
   "source": [
    "lib"
   ]
  },
  {
   "cell_type": "code",
   "execution_count": null,
   "id": "9d497ec6-0a73-4e20-b9b9-8c9887e5ac5d",
   "metadata": {
    "tags": []
   },
   "outputs": [],
   "source": [
    "fboxannot = ipr %>%\n",
    "    filter(geneid %in%nhg$geneid, !db %in% c(\"MobiDBLite\", \"Coils\", \"PANTHER\")) %>%\n",
    "    left_join(lib)  %>%\n",
    "    group_by(geneid, seqname, domain, seqlen) %>%\n",
    "    arrange(geneid, domain, hit_start) %>%\n",
    "    mutate(indx = c(0, cumsum(as.numeric(lead(hit_start)) > cummax(as.numeric(hit_end)))[-n()])) %>%\n",
    "    ungroup() %>%\n",
    "    group_by(geneid, seqname, domain, seqlen, indx) %>%\n",
    "    summarise(start=min(hit_start), end=max(hit_end)) %>%\n",
    "    arrange(geneid, start) %>%\n",
    "    group_by(geneid) %>%\n",
    "    filter(seqname == first(seqname[seqlen == max(seqlen)]), !is.na(domain)) %>%\n",
    "    mutate(\n",
    "        group =  cumsum(c(\"SDFSDFS\", lag(domain)[-1]) != domain)\n",
    "    ) %>%\n",
    "    group_by(geneid, domain, group) %>%\n",
    "    summarise(start=min(start), end=max(end)) %>%\n",
    "    group_by(geneid) %>%\n",
    "    arrange(start) %>%\n",
    "    summarise(domains=paste(domain, collapse=\";\"))"
   ]
  },
  {
   "cell_type": "code",
   "execution_count": null,
   "id": "fd3c95e7-d818-4e06-8e24-29df9c84b96f",
   "metadata": {
    "tags": []
   },
   "outputs": [],
   "source": [
    "gene_classes = genes %>%\n",
    "    left_join(fboxannot, by=\"geneid\") %>%\n",
    "    mutate(\n",
    "        class = case_when(\n",
    "            grepl(\"transposable\", type) ~ \"TE gene\",\n",
    "            grepl(\"pseudogen\", type) & is.na(domains)  ~ \"pseudogene\",\n",
    "            grepl(\"pseudogen\", type) & !is.na(domains)  ~ \"F-Box pseudogene\",\n",
    "            type == \"gene\" & is.na(domains)  ~ \"gene\",\n",
    "            type == \"gene\" & !is.na(domains)  ~ domains,\n",
    "        )\n",
    "    ) %>%\n",
    "    select(geneid, class)"
   ]
  },
  {
   "cell_type": "code",
   "execution_count": null,
   "id": "e7c32ade-8466-441d-a280-596184862f99",
   "metadata": {
    "tags": []
   },
   "outputs": [],
   "source": [
    "gene_classes %>%\n",
    "    count(class)"
   ]
  },
  {
   "cell_type": "code",
   "execution_count": null,
   "id": "7668ac04-8c1b-4d9f-88a9-bbe1b353c521",
   "metadata": {
    "tags": []
   },
   "outputs": [],
   "source": [
    "dir.create(\"output/gal\", recursive = T, showWarnings = F)\n",
    "for (nh_name in unique(regions$region_name)) {\n",
    "    reg = regions %>%\n",
    "        filter(region_name == nh_name) %>%\n",
    "        mutate(startO=start-nh_offset, endO=end-nh_offset)\n",
    "    nhg = nh_genes %>%\n",
    "        filter(region_name == nh_name) %>%\n",
    "        mutate(startO=start.gene-nh_offset, endO=end.gene-nh_offset) %>%\n",
    "        left_join(gene_classes, by=join_by(geneid)) \n",
    "    print(nhg)\n",
    "    nht = nh_te  %>%\n",
    "        filter(region_name == nh_name) %>%\n",
    "        mutate(startO=start.gene-nh_offset, endO=end.gene-nh_offset, class=\"TE\")\n",
    "\n",
    "    p=ggplot(nhg, aes(xmin = startO, xmax = endO, y = accession)) +\n",
    "        annotate(\"segment\", x=reg$startO, xend=reg$endO, y=reg$accession, yend=reg$accession, colour=\"grey\") +\n",
    "        geom_gene_arrow(aes(forward=strand==\"+\", colour=class, fill=class), arrowhead_height = unit(1, \"mm\"), arrowhead_width = unit(.6, \"mm\"), alpha=0.8) +\n",
    "        geom_gene_arrow(aes(forward=strand==\"+\", colour=class, fill=class), arrowhead_height = unit(.5, \"mm\"), arrowhead_width = unit(.6, \"mm\"), arrow_body_height=unit(1.4, \"mm\"), data=nht, alpha=0.6) +\n",
    "        scale_fill_manual(values=pal.colour, guide=guide_legend(nrow =1), name=\"Gene Type\", aesthetics = c(\"fill\", \"colour\")) +\n",
    "        theme_genes()+\n",
    "        labs(y=NULL, x=\"Neighbourhood Coordinate (bp)\", title=nh_name) +\n",
    "        theme(\n",
    "            legend.position=\"bottom\", \n",
    "            panel.grid.major.y = element_blank()\n",
    "        )\n",
    "\n",
    "    print(p)\n",
    "    ggsave(sprintf(\"output/gal/%s_series.png\", nh_name), width=7, height=5)\n",
    "    ggsave(sprintf(\"output/gal/%s_series.svg\", nh_name), width=7, height=5)\n",
    "}"
   ]
  }
 ],
 "metadata": {
  "kernelspec": {
   "display_name": "R",
   "language": "R",
   "name": "ir"
  },
  "language_info": {
   "codemirror_mode": "r",
   "file_extension": ".r",
   "mimetype": "text/x-r-source",
   "name": "R",
   "pygments_lexer": "r",
   "version": "4.3.3"
  },
  "widgets": {
   "application/vnd.jupyter.widget-state+json": {
    "state": {},
    "version_major": 2,
    "version_minor": 0
   }
  }
 },
 "nbformat": 4,
 "nbformat_minor": 5
}
