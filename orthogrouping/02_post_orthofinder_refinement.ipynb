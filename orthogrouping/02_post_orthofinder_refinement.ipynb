{
 "cells": [
  {
   "cell_type": "markdown",
   "id": "8424cb41-fcf6-4088-a5ac-a50d9d8272ad",
   "metadata": {},
   "source": [
    "# 02. Updating raw orthogroups with blast to produce inclusive orthogroups and using clustering to produce exclusive orthogroups (alleles)"
   ]
  },
  {
   "cell_type": "code",
   "execution_count": null,
   "id": "d3928626-6f8d-4ea2-b182-4c385f1bc091",
   "metadata": {},
   "outputs": [],
   "source": [
    "# blast to cluster orthogroups and non nlr orthogroup sequences\n",
    "# clustering to split orthogroup sequences\n",
    "# run genespace and take into account synteny\n",
    "# compare to diamond deepclust (but not always appropriate as it is just a hard cut off)\n"
   ]
  },
  {
   "cell_type": "code",
   "execution_count": null,
   "id": "b08e9249-4415-4c14-b1d0-edb1e651877c",
   "metadata": {},
   "outputs": [],
   "source": [
    "mamba activate dl20-orthogrouping\n",
    "conda info --envs"
   ]
  },
  {
   "cell_type": "code",
   "execution_count": null,
   "id": "2de6ca35-fa34-4c62-afdf-b95f91570388",
   "metadata": {},
   "outputs": [],
   "source": [
    "dl20=(\n",
    "at6923 at6929 at7143\n",
    "at8285 at9104 at9336 at9503\n",
    "at9578 at9744 at9762 at9806\n",
    "at9830 at9847 at9852 at9879\n",
    "at9883 at9900\n",
    ")"
   ]
  },
  {
   "cell_type": "markdown",
   "id": "fb036dc4-1cf0-4a66-813f-95d433f57c67",
   "metadata": {},
   "source": [
    "# Create the final NLR master table"
   ]
  },
  {
   "cell_type": "markdown",
   "id": "ebb844ad-bc89-4488-8661-9a7d1250c976",
   "metadata": {},
   "source": [
    "### Start with the making the manual curated gene list, this is not based on the orthogrouping but is the gff entries labelled as manually curated (i.e. we looked at them and they were in the manually curated table)"
   ]
  },
  {
   "cell_type": "code",
   "execution_count": null,
   "id": "b8cc7b88-19b2-4e5b-bd7a-ba8bd4c01309",
   "metadata": {
    "tags": []
   },
   "outputs": [],
   "source": [
    "# only need to run this once\n",
    "\n",
    "mkdir -p tmp/just_manually_annotated_final_actual\n",
    "\n",
    "for accession in \"${dl20[@]}\"\n",
    "do \n",
    "grep \"manually_curated\" ../final/annotation/latest/${accession}_hodgepodgemerged.gff3 \\\n",
    "   > tmp/just_manually_annotated_final_actual/${accession}.manual_annotated_genes.gff3\n",
    "done"
   ]
  },
  {
   "cell_type": "code",
   "execution_count": null,
   "id": "de36a34d-29b6-4d4d-bd5c-12776146a9b8",
   "metadata": {},
   "outputs": [],
   "source": [
    "# make a gff of all the final manually curated gffs\n",
    "\n",
    "cat tmp/just_manually_annotated_final_actual/*.gff3 > tmp/just_manually_annotated_final_actual/all_manually_curated_genes.gff3"
   ]
  },
  {
   "cell_type": "code",
   "execution_count": null,
   "id": "63e3ebfd-2d3f-48d6-b4de-06966259a8e0",
   "metadata": {},
   "outputs": [],
   "source": [
    "cat tmp/just_manually_annotated_final_actual/all_manually_curated_genes.gff3 | wc -l"
   ]
  },
  {
   "cell_type": "code",
   "execution_count": null,
   "id": "3b897934-7026-41ba-b9f5-8ee9b9e296a0",
   "metadata": {},
   "outputs": [],
   "source": [
    "# run python script Kevin wrote to make a table out of the 9th column in the gff with all the comments\n",
    "python3 ./extractids.py \\\n",
    "    <tmp/just_manually_annotated_final_actual/all_manually_curated_genes.gff3 \\\n",
    "    > tmp/just_manually_annotated_final_actual/all_manually_curated_genes.attr.tsv"
   ]
  },
  {
   "cell_type": "code",
   "execution_count": null,
   "id": "14d407d4-d064-4af4-91a9-1677f6072fe8",
   "metadata": {},
   "outputs": [],
   "source": [
    "cat tmp/just_manually_annotated_final_actual/all_manually_curated_genes.attr.tsv | wc -l"
   ]
  },
  {
   "cell_type": "code",
   "execution_count": null,
   "id": "d2c505c2-08e3-42de-8db4-ba43197c2072",
   "metadata": {
    "jupyter": {
     "outputs_hidden": true
    },
    "tags": []
   },
   "outputs": [],
   "source": [
    "head tmp/just_manually_annotated_final_actual/all_manually_curated_genes.attr.tsv"
   ]
  },
  {
   "cell_type": "code",
   "execution_count": null,
   "id": "fca6347f-5a58-4977-83a5-70a759a54ff0",
   "metadata": {},
   "outputs": [],
   "source": [
    "# produce a gff of the extra NLR tracker sequence\n",
    "# use this to add sequences that were not dealt with manually from nlr tracker\n",
    "\n",
    "#extra_nlr_tracker_ids.txt\n",
    "\n",
    "for id in $(cat tmp/just_manually_annotated_final_actual/nlr_extras.txt)\n",
    "do \n",
    "grep ${id} ../final/annotation/latest/ALL_ACCESSIONS_hodgepodgemerged.gff3 \\\n",
    "   >> tmp/just_manually_annotated_final_actual/all.extra_nlr_tracker_genes.gff3\n",
    "done"
   ]
  },
  {
   "cell_type": "code",
   "execution_count": null,
   "id": "7aa46877-5876-4c2e-8bea-27c823a570de",
   "metadata": {},
   "outputs": [],
   "source": [
    "python3 ./extractids.py \\\n",
    "    < tmp/just_manually_annotated_final_actual/all.extra_nlr_tracker_genes.gff3 \\\n",
    "    > tmp/just_manually_annotated_final_actual/all_extra_nlr_tracker_genes.attr.tsv"
   ]
  },
  {
   "cell_type": "code",
   "execution_count": null,
   "id": "765eddd9-9c75-4e38-92a2-2dcc00557fd6",
   "metadata": {},
   "outputs": [],
   "source": [
    "#add the last few sequences identified through orthogrouping"
   ]
  },
  {
   "cell_type": "code",
   "execution_count": null,
   "id": "9628c97b-3578-46fc-ac71-15b56c426f04",
   "metadata": {},
   "outputs": [],
   "source": [
    "for id in $(cat tmp/just_manually_annotated_final_actual/few_extras_from_orthogrouping.txt)\n",
    "do \n",
    "grep ${id} ../final/annotation/latest/ALL_ACCESSIONS_hodgepodgemerged.gff3 \\\n",
    "   >> tmp/just_manually_annotated_final_actual/all.extra_nlr_orthogrouping_genes.gff3\n",
    "done"
   ]
  },
  {
   "cell_type": "code",
   "execution_count": null,
   "id": "e8d388ee-2b41-4583-b54d-7c00852cda4c",
   "metadata": {},
   "outputs": [],
   "source": [
    "python3 ./extractids.py \\\n",
    "    < tmp/just_manually_annotated_final_actual/all.extra_nlr_orthogrouping_genes.gff3 \\\n",
    "    > tmp/just_manually_annotated_final_actual/all_extra_nlr_orthogrouping_genes.attr.tsv"
   ]
  },
  {
   "cell_type": "markdown",
   "id": "80d5ea16-a225-468b-a80a-00b538f237fd",
   "metadata": {
    "tags": []
   },
   "source": [
    "## Propduce a list of all the Orthogroups that contain manually curated sequences"
   ]
  },
  {
   "cell_type": "code",
   "execution_count": null,
   "id": "949b2135-f6c8-4f1d-abfb-4b0dfe3fccd2",
   "metadata": {},
   "outputs": [],
   "source": [
    "# The manually_curated_gene_ids.txt file is the subset of the all_manually_curated_genes.attr.tsv file that is gene or protopseudogene"
   ]
  },
  {
   "cell_type": "code",
   "execution_count": null,
   "id": "a281a6da-f85c-41c7-a5f2-b9653a37c1d0",
   "metadata": {},
   "outputs": [],
   "source": [
    "# Make a file of all orthogroups containing the manually annotated sequences\n",
    "\n",
    "for accession in $(cat tmp/just_manually_annotated_final/all_manually_curated_and_nlrtracker_ids.txt)\n",
    "do\n",
    "grep ${accession} output/difflines_v3_aa_orthofinder/Orthogroups.txt >> tmp/just_manually_annotated_final/all_orthogroup_members_aa.txt\n",
    "grep ${accession} output/difflines_v3_nt_orthofinder/Orthogroups.txt >> tmp/just_manually_annotated_final/all_orthogroup_members_nt.txt\n",
    "done"
   ]
  },
  {
   "cell_type": "code",
   "execution_count": null,
   "id": "1149179d-fd0a-4de7-9646-3c1ae81229a2",
   "metadata": {},
   "outputs": [],
   "source": [
    "cat tmp/just_manually_annotated_final/all_manually_curated_and_nlrtracker_ids.txt | wc -l"
   ]
  },
  {
   "cell_type": "code",
   "execution_count": null,
   "id": "3a48fcff-1eb6-42c6-a29c-40bd5a8eea39",
   "metadata": {},
   "outputs": [],
   "source": [
    "cat tmp/just_manually_annotated_final/all_orthogroup_members_aa.txt | wc -l\n",
    "cat tmp/just_manually_annotated_final/all_orthogroup_members_nt.txt | wc -l"
   ]
  },
  {
   "cell_type": "code",
   "execution_count": null,
   "id": "a62027ac-1098-4fc6-8fb1-c6280390d807",
   "metadata": {},
   "outputs": [],
   "source": [
    "sort tmp/just_manually_annotated_final/all_orthogroup_members_aa.txt | uniq > tmp/just_manually_annotated_final/all_orthogroups_containing_manually_curated_sequences_aa.txt\n",
    "sort tmp/just_manually_annotated_final/all_orthogroup_members_nt.txt | uniq > tmp/just_manually_annotated_final/all_orthogroups_containing_manually_curated_sequences_nt.txt\n",
    "\n",
    "\n"
   ]
  },
  {
   "cell_type": "code",
   "execution_count": null,
   "id": "940b080f-5342-474e-bf5d-312d2770246d",
   "metadata": {},
   "outputs": [],
   "source": [
    "cat tmp/just_manually_annotated_final/all_orthogroups_containing_manually_curated_sequences_aa.txt | wc -l\n",
    "cat tmp/just_manually_annotated_final/all_orthogroups_containing_manually_curated_sequences_nt.txt | wc -l"
   ]
  },
  {
   "cell_type": "code",
   "execution_count": null,
   "id": "b7752b0b-654f-47ee-a08a-bb4a2c9780db",
   "metadata": {},
   "outputs": [],
   "source": []
  },
  {
   "cell_type": "code",
   "execution_count": null,
   "id": "0b72b19f-83b9-484f-bc80-6ff35ab06c09",
   "metadata": {
    "tags": []
   },
   "outputs": [],
   "source": [
    "sed 's/:.*//' tmp/all_orthogroups_containing_manually_curated_sequences.txt > tmp/Manually_curated_gene_orthogroups.txt"
   ]
  },
  {
   "cell_type": "code",
   "execution_count": null,
   "id": "7a192b15-8864-466e-a2f6-e9f76bd6703e",
   "metadata": {
    "tags": []
   },
   "outputs": [],
   "source": [
    "cat tmp/Manually_curated_gene_orthogroups.txt | wc -l"
   ]
  },
  {
   "cell_type": "code",
   "execution_count": null,
   "id": "f2b6bd27-cc9c-4ac0-8e61-7ac5b9c26476",
   "metadata": {},
   "outputs": [],
   "source": [
    "# put the sequence files for the manually curated orthogroups (obviously excluding at6137) in a folder\n",
    "\n",
    "mkdir -p tmp/just_manually_annotated_final_actual/manually_curated_orthogroups\n",
    "\n",
    "for orthogroup in $(cat tmp/just_manually_annotated_final_actual/manually_curated_orthogroups.txt)\n",
    "do \n",
    "cp output/difflinesv4_orthofinder/OrthoFinder_final_difflines_aa/OrthoFinder/Results_Aug22/Orthogroup_Sequences/${orthogroup}.fa tmp/just_manually_annotated_final_actual/manually_curated_orthogroups/\n",
    "done"
   ]
  },
  {
   "cell_type": "markdown",
   "id": "17de3174-c5a9-489b-bfd8-13be8b21534f",
   "metadata": {},
   "source": [
    "Need to check whether these othogroups contain any sequence that wasn't manually annotated, they will at the very least because they won't contain at6137"
   ]
  },
  {
   "cell_type": "code",
   "execution_count": null,
   "id": "29a97530-fd3e-4cda-905c-e63ef216a8a9",
   "metadata": {},
   "outputs": [],
   "source": [
    "# make a list of all sequences in the orthogroups that contain manually annotated sequences\n",
    "# run tmp/all_orthogroups_containing_manually_curated_sequences.txt through the reformat_orthofinder_results_notebook"
   ]
  },
  {
   "cell_type": "code",
   "execution_count": null,
   "id": "36926c4f-99ab-4a01-8aec-788cec71552d",
   "metadata": {},
   "outputs": [],
   "source": [
    "cat tmp/ortho-clean-map_just_orthogroups_containing_manually_annotated_sequences.tsv | wc -l"
   ]
  },
  {
   "cell_type": "code",
   "execution_count": null,
   "id": "da8fe5fc-abd5-4bda-b92c-b1a2d8d84c82",
   "metadata": {},
   "outputs": [],
   "source": [
    "head tmp/ortho-clean-map_just_orthogroups_containing_manually_annotated_sequences.tsv"
   ]
  },
  {
   "cell_type": "code",
   "execution_count": null,
   "id": "901fad3e-7312-4626-8737-9243865747f1",
   "metadata": {},
   "outputs": [],
   "source": [
    "awk -F '\\t' '{print $2}' tmp/ortho-clean-map_just_orthogroups_containing_manually_annotated_sequences.tsv > tmp/manual_orthogroups_seq_list.txt"
   ]
  },
  {
   "cell_type": "code",
   "execution_count": null,
   "id": "1cea6c12-3629-4825-98b4-d891047fe6d2",
   "metadata": {},
   "outputs": [],
   "source": [
    "cut -d_ -f1,2 tmp/manual_orthogroups_seq_list.txt > tmp/manual_orthogroups_seq_list_gene.txt\n",
    "tail -n +2 tmp/manual_orthogroups_seq_list_gene.txt > tmp/manual_orthogroups_seq_list_gene_no_header.txt"
   ]
  },
  {
   "cell_type": "code",
   "execution_count": null,
   "id": "e5f39dc4-13f0-48a4-b161-6b9ef3ab742e",
   "metadata": {},
   "outputs": [],
   "source": [
    "head tmp/manual_orthogroups_seq_list_gene_no_header.txt\n",
    "cat tmp/manual_orthogroups_seq_list_gene_no_header.txt |wc -l"
   ]
  },
  {
   "cell_type": "code",
   "execution_count": null,
   "id": "ff96be0c-9ff4-4de6-a511-9c75ac364892",
   "metadata": {},
   "outputs": [],
   "source": [
    "# Now export a table including all sequences in the orthogroups containing manually annotated sequences"
   ]
  },
  {
   "cell_type": "code",
   "execution_count": null,
   "id": "20fb889a-1567-46e7-91ab-f8386836e0ab",
   "metadata": {},
   "outputs": [],
   "source": [
    "cat input/final_gffs/*_hodgepodgemerged.gff3 \\\n",
    "    | awk '$3 ~ /gene|pseudogene|pseudogenic_region/{print $0}' \\\n",
    "    >tmp/all_annotations.genes.gff3"
   ]
  },
  {
   "cell_type": "code",
   "execution_count": null,
   "id": "6b91b60c-a88c-4171-adac-945214d0fa74",
   "metadata": {},
   "outputs": [],
   "source": [
    "for sequence in $(cat tmp/manual_orthogroups_seq_list_gene_no_header.txt)\n",
    "do\n",
    "   grep ${sequence} tmp/all_annotations.genes.gff3 >> tmp/manual_orthogroups_seq_genes.gff3\n",
    "done"
   ]
  },
  {
   "cell_type": "code",
   "execution_count": null,
   "id": "15512c7e-4785-4da0-b714-171cc601e99f",
   "metadata": {
    "jupyter": {
     "outputs_hidden": true
    },
    "tags": []
   },
   "outputs": [],
   "source": [
    "head tmp/manual_orthogroups_seq_genes.gff3"
   ]
  },
  {
   "cell_type": "code",
   "execution_count": null,
   "id": "0307b458-00eb-4bff-81a0-4f753d57bc01",
   "metadata": {},
   "outputs": [],
   "source": [
    "# run python script Kevin wrote to make a table out of the 9th column in the gff with all the comments\n",
    "python3 ./extractids.py \\\n",
    "    <tmp/manual_orthogroups_seq_genes.gff3 \\\n",
    "    > tmp/all_manually_curated_genes_plus_those_in_mc_orthogroups.attr.tsv"
   ]
  },
  {
   "cell_type": "code",
   "execution_count": null,
   "id": "146fca0e-335b-41f7-87f9-017f05ab7df2",
   "metadata": {},
   "outputs": [],
   "source": [
    "head tmp/all_manually_curated_genes_plus_those_in_mc_orthogroups.attr.tsv"
   ]
  },
  {
   "cell_type": "code",
   "execution_count": null,
   "id": "470bba26-e95a-4a32-abcd-2491211e0d3d",
   "metadata": {},
   "outputs": [],
   "source": [
    "# get the protein fasta files"
   ]
  },
  {
   "cell_type": "code",
   "execution_count": null,
   "id": "4e8b4d59-9a5d-41f1-b342-7b243fd4d7a8",
   "metadata": {},
   "outputs": [],
   "source": [
    "for orthogroup in $(cat tmp/Manually_curated_gene_orthogroups.txt)\n",
    "do \n",
    "cp tmp/orthofinder/orthofinder_no_araport/orthofinder/Orthogroup_Sequences/${orthogroup}.fa tmp/manually_curated_gene_orthogroups/\n",
    "done"
   ]
  },
  {
   "cell_type": "code",
   "execution_count": null,
   "id": "d24f5e39-1d6e-429d-ba28-d9dbbb86ab86",
   "metadata": {},
   "outputs": [],
   "source": [
    "# cat the new table with the orthogroup list\n",
    "tmp/ortho-clean-map_just_orthogroups_containing_manually_annotated_sequences.tsv"
   ]
  },
  {
   "cell_type": "code",
   "execution_count": null,
   "id": "de2529e2-6ddf-458a-8069-5f3ed0d7778a",
   "metadata": {},
   "outputs": [],
   "source": [
    "## now pull out all the sequences that are nominally actually in nlr orthogroups\n",
    "\n",
    "for accession in $(cat tmp/just_manually_annotated_final/actual_NLR_aa_orthogroups.txt)\n",
    "do\n",
    "grep ${accession} output/difflines_v3_aa_orthofinder/Orthogroups.txt >> tmp/just_manually_annotated_final/all_orthogroups_actually_NLRs_aa.txt\n",
    "done\n"
   ]
  },
  {
   "cell_type": "code",
   "execution_count": null,
   "id": "7528f670-d4f3-4db0-be0f-874d921cbeb6",
   "metadata": {},
   "outputs": [],
   "source": [
    "#Assign all pseudogenes and pseudogeneic regions to orthogroups"
   ]
  },
  {
   "cell_type": "code",
   "execution_count": null,
   "id": "4f62d7bb-37a5-45aa-a1a3-75af724ba645",
   "metadata": {},
   "outputs": [],
   "source": [
    "# Take all nlr proteins and map to all known pseudogenes and pseudogenic regions"
   ]
  },
  {
   "cell_type": "code",
   "execution_count": null,
   "id": "a3d66e23-0c6e-4a62-8ecc-64b068c26e68",
   "metadata": {
    "tags": []
   },
   "outputs": [],
   "source": [
    "mkdir -p tmp/just_manually_annotated_final/aa_NLR_orthogroups\n",
    "\n",
    "for orthogroup in $(cat tmp/just_manually_annotated_final/all_orthogroups_actually_NLRs_aa_ids.txt)\n",
    "do\n",
    "cp output/difflines_v3_aa_orthofinder/Orthogroup_Sequences/${orthogroup}.fa tmp/just_manually_annotated_final/aa_NLR_orthogroups/\n",
    "done"
   ]
  },
  {
   "cell_type": "code",
   "execution_count": null,
   "id": "1e036b44-16ce-4f99-81ff-bcb22b43afb8",
   "metadata": {},
   "outputs": [],
   "source": [
    "cat tmp/just_manually_annotated_final/aa_NLR_orthogroups/*.fa > tmp/just_manually_annotated_final/all_nlr_aa.fasta"
   ]
  },
  {
   "cell_type": "code",
   "execution_count": null,
   "id": "01c08af4-bd76-404d-8957-e99aecb15fe7",
   "metadata": {},
   "outputs": [],
   "source": [
    "cat output/per_accession_aa_cds/*_cds_aa.fasta > tmp/just_manually_annotated_final_actual/all_proteins.fasta"
   ]
  },
  {
   "cell_type": "code",
   "execution_count": null,
   "id": "0ec6b3eb-b48b-4bff-8292-92552abed19e",
   "metadata": {},
   "outputs": [],
   "source": [
    "cat output/per_accession_nt_pseudogene/*_pseudogene_nt.fasta output/per_accession_nt_pseudogenic_region/*.fasta > tmp/just_manually_annotated_final_actual/all_pseudoegenes_andregions.fasta\n"
   ]
  },
  {
   "cell_type": "code",
   "execution_count": null,
   "id": "7ef3866f-32c9-4e57-9911-9c0305fde89c",
   "metadata": {
    "jupyter": {
     "outputs_hidden": true
    },
    "tags": []
   },
   "outputs": [],
   "source": [
    "miniprot -t8 tmp/just_manually_annotated_final_actual/all_pseudoegenes_andregions.fasta tmp/just_manually_annotated_final_actual/all_proteins.fasta > tmp/just_manually_annotated_final_actual/output_test_nlr_aa_against_all_ppr.paf"
   ]
  },
  {
   "cell_type": "code",
   "execution_count": null,
   "id": "df0e7d94-d5b2-4f38-aeae-ecc900f28ecc",
   "metadata": {
    "tags": []
   },
   "outputs": [],
   "source": [
    "for pseudo in $(cat tmp/just_manually_annotated_final_actual/ppr_that_are_mc_or_nlrtracker.txt)\n",
    "do\n",
    "grep \"${pseudo}\" tmp/just_manually_annotated_final_actual/output_test_nlr_aa_against_all_ppr.paf >> tmp/just_manually_annotated_final_actual/subset_of_ppr_flagged2.paf\n",
    "done"
   ]
  },
  {
   "cell_type": "code",
   "execution_count": null,
   "id": "e0473d97-e259-4f13-b46d-fbc25089af43",
   "metadata": {},
   "outputs": [],
   "source": [
    "cat tmp/just_manually_annotated_final_actual/manually_curated_orthogroups/*.fa > tmp/just_manually_annotated_final_actual/all_mc_proteins.fasta"
   ]
  },
  {
   "cell_type": "code",
   "execution_count": null,
   "id": "838dd2ea-aecc-408c-8d22-3ab4ac6ee133",
   "metadata": {},
   "outputs": [],
   "source": [
    "miniprot -t8 tmp/just_manually_annotated_final_actual/all_pseudoegenes_andregions.fasta \\\n",
    "    tmp/just_manually_annotated_final_actual/all_mc_proteins.fasta \\\n",
    "    > tmp/just_manually_annotated_final_actual/output_test_mc_aa_against_all_ppr.paf"
   ]
  },
  {
   "cell_type": "code",
   "execution_count": null,
   "id": "e5db1fb6-18b3-426a-aafa-9781f0b78a0b",
   "metadata": {},
   "outputs": [],
   "source": [
    "cat tmp/just_manually_annotated_final_actual/manually_curated_orthogroups/*.fa > tmp/just_manually_annotated_final_actual/all_mc_proteins.fasta"
   ]
  },
  {
   "cell_type": "code",
   "execution_count": null,
   "id": "502be84f-c3ff-4a78-8609-8a4fa1158e92",
   "metadata": {},
   "outputs": [],
   "source": [
    "miniprot -t8 tmp/just_manually_annotated_final_actual/all_pseudoegenes_andregions.fasta \\\n",
    "    tmp/just_manually_annotated_final_actual/all_mc_proteins.fasta \\\n",
    "    > tmp/just_manually_annotated_final_actual/output_test_mc_aa_against_all_ppr.paf"
   ]
  },
  {
   "cell_type": "markdown",
   "id": "fb31ac55-cdf1-488a-b4c3-46f58ebd7238",
   "metadata": {},
   "source": [
    "## Assign all pseudogenes and pseudogeneic regions to orthogroups"
   ]
  },
  {
   "cell_type": "code",
   "execution_count": null,
   "id": "af8ca4d4-48c1-4437-96b5-77523c29266a",
   "metadata": {},
   "outputs": [],
   "source": [
    "cat output/per_accession_aa_cds/*_cds_aa.fasta > tmp/all_proteins.fasta"
   ]
  },
  {
   "cell_type": "code",
   "execution_count": null,
   "id": "061ace3f-a5e8-4623-b20a-d0f608b77b6d",
   "metadata": {},
   "outputs": [],
   "source": [
    "cat tmp/all_proteins.fasta | wc -l"
   ]
  },
  {
   "cell_type": "code",
   "execution_count": null,
   "id": "55a08ff7-5938-4e16-b7bc-8d3fe46226fb",
   "metadata": {},
   "outputs": [],
   "source": [
    "head tmp/all_proteins.fasta"
   ]
  },
  {
   "cell_type": "code",
   "execution_count": null,
   "id": "fd7dc328-db99-4d9c-a22e-98a3d518304e",
   "metadata": {},
   "outputs": [],
   "source": [
    "cat output/per_accession_nt_pseudogene/at*_pseudogene_nt.fasta > output/per_accession_nt_pseudogene/all_pseudogenes_nt.fasta\n",
    "cat output/per_accession_nt_pseudogenic_region/at*_pseudogenic_region_nt.fasta > output/per_accession_nt_pseudogenic_region/all_pseudogenic_regions.fasta"
   ]
  },
  {
   "cell_type": "code",
   "execution_count": null,
   "id": "cc756d33-72d9-40bf-94b9-7fef3683ed1f",
   "metadata": {},
   "outputs": [],
   "source": [
    "cat output/per_accession_nt_pseudogene/all_pseudogenes_nt.fasta output/per_accession_nt_pseudogenic_region/all_pseudogenic_regions.fasta > all_pseudo_and_pseudogenic_regions.fasta"
   ]
  },
  {
   "cell_type": "code",
   "execution_count": null,
   "id": "03222990-bc80-4154-8540-4e24b872d897",
   "metadata": {},
   "outputs": [],
   "source": [
    "#This blast will only assign pseudogenes to the manually curated orthogroups\n",
    "makeblastdb -in all_proteins.fasta -dbtype prot -out all_proteins\n",
    "blastx -db all_proteins \\\n",
    "    -query all_pseudo_and_pseudogenic_regions.fasta \\\n",
    "    -outfmt \"6 qseqid sseqid pident length mismatch gapopen qstart qend sstart send evalue bitscore qlen slen gaps ppos frames qframe sframe sallgi\" \\\n",
    "    -out all_pseudo_and_pseudogenic_regions_all_proteins_aa.tsv -num_threads 16"
   ]
  },
  {
   "cell_type": "code",
   "execution_count": null,
   "id": "3f21b587-2d66-48be-ad42-c499bf7943f5",
   "metadata": {},
   "outputs": [],
   "source": [
    "cat all_pseudo_and_pseudogenic_regions_all_proteins_aa.tsv | sort -k1,1 -k13,13nr -k12,12n | sort -u -k1,1 --merge > all_pseudo_and_pseudogenic_regions_all_proteins_aa_single_hit.tsv"
   ]
  },
  {
   "cell_type": "code",
   "execution_count": null,
   "id": "65945330-772f-497d-8857-0c9be84d7ba5",
   "metadata": {},
   "outputs": [],
   "source": [
    "# Next based on the orthogroups assign pseudogenes to orthogroups based on the protein orthofinder\n",
    "# probably write a python script to do this"
   ]
  },
  {
   "cell_type": "code",
   "execution_count": null,
   "id": "cf70e8f5-6abd-4f8a-80fb-b3821abb4bb9",
   "metadata": {},
   "outputs": [],
   "source": [
    "cat tmp/manually_curated_pseudo_gene_ids.txt | wc -l"
   ]
  },
  {
   "cell_type": "code",
   "execution_count": null,
   "id": "56c80213-0df8-4d50-aca0-044d195db662",
   "metadata": {},
   "outputs": [],
   "source": [
    "# for those with hits produce gff table and quiry the gene orthogroup table for the orthogroup ids, need to check that all manually curated pseudogenes are included"
   ]
  },
  {
   "cell_type": "code",
   "execution_count": null,
   "id": "722ae9ac-d087-4da1-ab16-1a780d45028c",
   "metadata": {},
   "outputs": [],
   "source": [
    "for sequence in $(cat tmp/manually_curated_pseudo_gene_ids.txt)\n",
    "do \n",
    "grep \"${sequence}\" tmp/all_pseudo_and_pseudogenic_regions_all_proteins_aa_single_hit.tsv >> tmp/blast_hits_pseudo_manually_curated4.txt || echo \"${sequence}\"\n",
    "done\n",
    "\n"
   ]
  },
  {
   "cell_type": "code",
   "execution_count": null,
   "id": "adbb4714-86aa-4363-bebb-a8b9ebf237a2",
   "metadata": {},
   "outputs": [],
   "source": [
    "head tmp/blast_hits_pseudo_manually_curated4.txt"
   ]
  },
  {
   "cell_type": "code",
   "execution_count": null,
   "id": "6274d93c-dd60-435f-8f12-6bd36fe62ad8",
   "metadata": {},
   "outputs": [],
   "source": [
    "cat tmp/blast_hits_pseudo_manually_curated4.txt | wc -l"
   ]
  },
  {
   "cell_type": "code",
   "execution_count": null,
   "id": "056be9ca-61bb-47ed-b268-6daa3d7c3db4",
   "metadata": {},
   "outputs": [],
   "source": [
    "cat tmp/manually_curated_pseudo_gene_ids.txt | wc -l"
   ]
  },
  {
   "cell_type": "code",
   "execution_count": null,
   "id": "97e89d88-095e-484c-b907-96c8dfca27c3",
   "metadata": {},
   "outputs": [],
   "source": [
    "awk -F '\\t' '{print $2}' tmp/blast_hits_pseudo_manually_curated2.txt > tmp/manual_orthogroups_seq_list_pseudo.txt \n"
   ]
  },
  {
   "cell_type": "code",
   "execution_count": null,
   "id": "f91ba9e7-f541-42cc-aae4-a68b83d6a720",
   "metadata": {},
   "outputs": [],
   "source": [
    "head tmp/manual_orthogroups_seq_list_pseudo.txt"
   ]
  },
  {
   "cell_type": "code",
   "execution_count": null,
   "id": "50fb2a89-6777-4778-915c-cbd977eaea26",
   "metadata": {},
   "outputs": [],
   "source": [
    "cat tmp/manual_orthogroups_seq_list_pseudo.txt | wc -l"
   ]
  },
  {
   "cell_type": "code",
   "execution_count": null,
   "id": "5fe07cea-aad8-4c12-87e9-832f2cc5ff85",
   "metadata": {},
   "outputs": [],
   "source": [
    "cut -d_ -f1,2 tmp/manual_orthogroups_seq_list_pseudo.txt > tmp/manual_orthogroups_seq_list_pseudo_gene.txt\n",
    "tail -n +2 tmp/manual_orthogroups_seq_list_pseudo_gene.txt > tmp/manual_orthogroups_seq_list_pseudo_gene_no_header.txt"
   ]
  },
  {
   "cell_type": "code",
   "execution_count": null,
   "id": "00ebde75-7924-4830-a6eb-f851e21fe1c3",
   "metadata": {},
   "outputs": [],
   "source": [
    "cat tmp/manual_orthogroups_seq_list_pseudo_gene.txt | wc -l"
   ]
  },
  {
   "cell_type": "code",
   "execution_count": null,
   "id": "217ea3b1-ab4b-43c0-99c7-3a8c2a8247a3",
   "metadata": {},
   "outputs": [],
   "source": [
    "for sequence in $(cat tmp/manual_orthogroups_seq_list_pseudo_gene.txt)\n",
    "do \n",
    "   grep \"${sequence}\" tmp/ortho-clean-map_just_orthogroups_containing_manually_annotated_sequences.tsv >> orthogroups_for_the_pseudo.txt\n",
    "done"
   ]
  },
  {
   "cell_type": "code",
   "execution_count": null,
   "id": "17ddc7c5-02fb-4968-b9e7-f9f400ab0e32",
   "metadata": {},
   "outputs": [],
   "source": [
    "cat orthogroups_for_the_pseudo.txt | wc -l"
   ]
  },
  {
   "cell_type": "code",
   "execution_count": null,
   "id": "19e54a8b-da8e-4ea3-af45-fdb3d7fd8a7f",
   "metadata": {},
   "outputs": [],
   "source": [
    "head orthogroups_for_the_pseudo.txt"
   ]
  },
  {
   "cell_type": "code",
   "execution_count": null,
   "id": "2b9a4320-e968-4ab0-ab5e-07f4ca8f8b7b",
   "metadata": {},
   "outputs": [],
   "source": [
    "for sequence in $(cat tmp/manually_curated_pseudo_gene_ids.txt)\n",
    "do \n",
    "grep \"${sequence}\" tmp/just_manually_annotated/all_manually_curated_genes.gff3 >> tmp/just_pseudo_manually_curated_gffs2.gff3\n",
    "done"
   ]
  },
  {
   "cell_type": "code",
   "execution_count": null,
   "id": "d2eb17c1-ff3e-47e9-8f3c-911382e9353a",
   "metadata": {},
   "outputs": [],
   "source": [
    "cat tmp/just_pseudo_manually_curated_gffs2.gff3 | wc -l"
   ]
  },
  {
   "cell_type": "code",
   "execution_count": null,
   "id": "69c1ce89-cf92-4420-84d3-f98f1a9b0f79",
   "metadata": {},
   "outputs": [],
   "source": [
    "python3 ./extractids.py \\\n",
    "    <tmp/just_pseudo_manually_curated_gffs2.gff3 \\\n",
    "    > tmp/just_manually_annotated/just_pseudo_manually_curated_genes.attr.tsv"
   ]
  },
  {
   "cell_type": "code",
   "execution_count": null,
   "id": "8bb1d143-3c13-45af-9485-273bd09891ca",
   "metadata": {},
   "outputs": [],
   "source": [
    "# Then Pass Kevin's table to assign NLR or not"
   ]
  },
  {
   "cell_type": "code",
   "execution_count": null,
   "id": "79b0a70a-756d-4a07-807f-f23e0e3b7ab4",
   "metadata": {},
   "outputs": [],
   "source": [
    "# Then to confirm inclusivity, blast all non NLR sequences against the proteins to check if any other othogroup needs to be included\n",
    "# and then blast orthogroups against themselves to check clustering "
   ]
  },
  {
   "cell_type": "code",
   "execution_count": null,
   "id": "6949d476-bf6a-4822-8df3-6fb50148a7c5",
   "metadata": {},
   "outputs": [],
   "source": [
    "mkdir -p tmp/just_nucleotide_regions_all\n",
    "\n",
    "cp output/per_accession_nt_gene/*_gene_nt.fasta tmp/just_nucleotide_regions_all/\n",
    "cp output/per_accession_nt_pseudogene/*_pseudogene_nt.fasta tmp/just_nucleotide_regions_all/\n",
    "cp output/per_accession_nt_pseudogenic_region/*_pseudogenic_region_nt.fasta tmp/just_nucleotide_regions_all/"
   ]
  },
  {
   "cell_type": "code",
   "execution_count": null,
   "id": "5aae4238-ef46-46a5-993f-bd3a79f102ae",
   "metadata": {
    "tags": []
   },
   "outputs": [],
   "source": [
    "#Output_nucleotide_alignments with pseudogenes\n",
    "\n",
    "python3 src/fasta_formatter_general_with_an_orthofinder_list_1.2.py -t tmp/all_orthogroup_list_for_nucleotides.txt tmp/just_nucleotide_regions_all/*.fasta"
   ]
  },
  {
   "cell_type": "code",
   "execution_count": null,
   "id": "03b0277e-4925-4f12-a2d9-55d44d60d769",
   "metadata": {},
   "outputs": [],
   "source": [
    "ls tmp/first_try_nt_orthogroups_with_pseudogenes/* > tmp/per_ortholog_files_nt_names.txt\n",
    "\n",
    "mkdir tmp/per_ortholog_files_nt_mafft\n",
    "\n",
    "for sample in $(cat tmp/per_ortholog_files_nt_names.txt)\n",
    "do\n",
    "    mafft --auto ${sample} > ${sample}_mafft.fas\n",
    "done"
   ]
  },
  {
   "cell_type": "markdown",
   "id": "c2010d15-1f38-4e02-8d05-2053a33e0f8b",
   "metadata": {},
   "source": [
    "# Try nucleotide orthofinder"
   ]
  },
  {
   "cell_type": "code",
   "execution_count": null,
   "id": "2b30607c-7e0b-4a28-844c-7596b7aebb52",
   "metadata": {},
   "outputs": [],
   "source": [
    "mkdir -p output/all_nucleotide_genes_and_pseudo_per_accession\n",
    "\n",
    "\n",
    "for accession in \"${dl20[@]}\"\n",
    "do \n",
    "cat output/per_accession_nt_gene/${accession}_gene_nt.fasta \\\n",
    "    output/per_accession_nt_pseudogene/${accession}_pseudogene_nt.fasta \\\n",
    "    output/per_accession_nt_pseudogenic_region/${accession}_pseudogenic_region_nt.fasta \\\n",
    "   > output/all_nucleotide_genes_and_pseudo_per_accession/${accession}_gppr.fasta\n",
    "done"
   ]
  },
  {
   "cell_type": "code",
   "execution_count": null,
   "id": "18f447e2-7e14-4fc5-a2be-b81c42a3f81d",
   "metadata": {},
   "outputs": [],
   "source": [
    "# Then run on cluster"
   ]
  },
  {
   "cell_type": "code",
   "execution_count": null,
   "id": "0e09d962-260d-40a3-b18f-a651530f8e95",
   "metadata": {},
   "outputs": [],
   "source": [
    "cat tmp/list_of_known_sequences.txt |wc -l"
   ]
  },
  {
   "cell_type": "code",
   "execution_count": null,
   "id": "f8adb815-54b3-4a1e-8144-8ee3e9645416",
   "metadata": {},
   "outputs": [],
   "source": [
    "#list_of_known_sequences.txt\n",
    "\n",
    "for sequence in $(cat tmp/list_of_known_sequences.txt)\n",
    "do\n",
    "    grep \"${sequence}\" tmp/orthofinder/orthofinder_nt_gppr_araport/OrthoFinder_gppr_araport/OrthoFinder/Results_Jul11_1/Orthogroups/Orthogroups.txt  >> tmp/nt_orthofinder_subset3.txt\n",
    "done"
   ]
  },
  {
   "cell_type": "code",
   "execution_count": null,
   "id": "f5e4f058-efd5-4608-907c-2f0f7fbe1fc6",
   "metadata": {},
   "outputs": [],
   "source": [
    "cat tmp/nt_orthofinder_subset3.txt | wc -l"
   ]
  },
  {
   "cell_type": "code",
   "execution_count": null,
   "id": "e0cbd617-4970-4284-8089-cb1fd57bef22",
   "metadata": {},
   "outputs": [],
   "source": [
    "sed 's/\\|/ /' tmp/nt_orthofinder_subset3.txt | awk '{print $1}' > tmp/nt_orthofinder_subset3_ogs.txt"
   ]
  },
  {
   "cell_type": "markdown",
   "id": "58f953c4-f00b-45b1-8230-8cd6bec91222",
   "metadata": {},
   "source": [
    "# Also try mmseqs for nucleotide clusterin"
   ]
  },
  {
   "cell_type": "code",
   "execution_count": null,
   "id": "93ca8cf4-606c-4eae-a520-d018e93915c9",
   "metadata": {},
   "outputs": [],
   "source": [
    "mkdir -p tmp/all_nucleotide_genes_and_pseudo_mmseqs_test\n",
    "\n",
    "cat tmp/all_nucleotide_genes_and_pseudo_per_accession/*.fasta > tmp/all_nucleotide_genes_and_pseudo_mmseqs_test/all_gppr_plus_araport.fasta"
   ]
  },
  {
   "cell_type": "code",
   "execution_count": null,
   "id": "3e083744-888f-4e6b-8b64-bdef68a3db09",
   "metadata": {},
   "outputs": [],
   "source": [
    "cd tmp/all_nucleotide_genes_and_pseudo_mmseqs_test"
   ]
  },
  {
   "cell_type": "code",
   "execution_count": null,
   "id": "3391654e-3669-40e0-9a5d-4961452d3fd2",
   "metadata": {},
   "outputs": [],
   "source": [
    "mmseqs easy-cluster all_gppr_plus_araport.fasta clusterRes tmp --min-seq-id 0.5 -c 0.8 --cov-mode 1"
   ]
  },
  {
   "cell_type": "code",
   "execution_count": null,
   "id": "2f2154fe-0119-4233-8002-1054ca680e0c",
   "metadata": {},
   "outputs": [],
   "source": [
    "cd ../../"
   ]
  },
  {
   "cell_type": "code",
   "execution_count": null,
   "id": "cd718107-83a7-4b97-a84d-026e49349a06",
   "metadata": {},
   "outputs": [],
   "source": [
    "ls tmp/all_nucleotide_genes_and_pseudo_mmseqs_test"
   ]
  },
  {
   "cell_type": "code",
   "execution_count": null,
   "id": "20d2be8f-7f8a-47b5-b16e-d99c97969972",
   "metadata": {},
   "outputs": [],
   "source": [
    "python3 src/fasta_formatter_general_with_an_orthofinder_list_1.3.py \\\n",
    "    -t tmp/all_nucleotide_genes_and_pseudo_mmseqs_test/clusterRes_cluster.tsv \\\n",
    "    tmp/just_nucleotide_regions_all/*.fasta"
   ]
  },
  {
   "cell_type": "code",
   "execution_count": null,
   "id": "d023e73b-ffb5-4f1e-a6ed-1265cdd19ba9",
   "metadata": {},
   "outputs": [],
   "source": [
    "mkdir -p tmp/all_nucleotide_genes_and_pseudo_mmseqs_test/fasta_clusters"
   ]
  },
  {
   "cell_type": "code",
   "execution_count": null,
   "id": "fae7e62b-c92f-4c86-9477-d2fe71a4bb65",
   "metadata": {},
   "outputs": [],
   "source": [
    "mv *_nt.fa tmp/all_nucleotide_genes_and_pseudo_mmseqs_test/fasta_clusters/"
   ]
  },
  {
   "cell_type": "markdown",
   "id": "a1445a12-53ba-4d4f-a583-557c05c05195",
   "metadata": {},
   "source": [
    "## find which sequences fall into the neighbourhood bed files"
   ]
  },
  {
   "cell_type": "code",
   "execution_count": null,
   "id": "126af1eb-e8f6-42e2-aa65-cdeb95af00f3",
   "metadata": {},
   "outputs": [],
   "source": [
    "cat input/neigbourhoods_new/*.bed > input/neigbourhoods_new/all_neighbour_hoods.bed"
   ]
  },
  {
   "cell_type": "code",
   "execution_count": null,
   "id": "e0d235c1-87dd-40df-b3f4-a779cdca1e20",
   "metadata": {},
   "outputs": [],
   "source": [
    "bedtools intersect -a tmp/just_manually_annotated_final/all_manually_curated_and_nlrtracker.bed \\\n",
    "   -b input/neigbourhoods_new/all_neighbour_hoods.bed -wb > tmp/just_manually_annotated_final/all_nlr_neighbourhoods.txt"
   ]
  },
  {
   "cell_type": "code",
   "execution_count": null,
   "id": "c6316895-89e6-4478-8729-61f90ef64e3c",
   "metadata": {},
   "outputs": [],
   "source": [
    "cat input/final_gffs/*_hodgepodgemerged.gff3 > tmp/all_accessions_hodgepodge.gff3"
   ]
  },
  {
   "cell_type": "code",
   "execution_count": null,
   "id": "60ced2ae-667d-40ac-a94e-237b6e64b731",
   "metadata": {},
   "outputs": [],
   "source": [
    "#Extract just rpp1\n",
    "bedtools intersect -a tmp/all_accessions_hodgepodge.gff3 -b input/neigbourhoods/chr3_nh8/chr3_nh8.bed > input/neigbourhoods/chr3_nh8/chr3_ch8_all_entries.gff3"
   ]
  },
  {
   "cell_type": "code",
   "execution_count": null,
   "id": "ebb86652-83ca-4103-908b-10e13d927275",
   "metadata": {},
   "outputs": [],
   "source": [
    "grep \"gene\" input/neigbourhoods/chr3_nh8/chr3_ch8_all_entries.gff3 |wc -l"
   ]
  },
  {
   "cell_type": "code",
   "execution_count": null,
   "id": "a59d6fab-cf8e-4f33-9a3a-e88593efcfd4",
   "metadata": {},
   "outputs": [],
   "source": [
    "grep \"gene\" input/neigbourhoods/chr3_nh8/chr3_ch8_all_entries.gff3 > input/neigbourhoods/chr3_nh8/chr3_ch8_all_entries_just_genes.gff3"
   ]
  },
  {
   "cell_type": "code",
   "execution_count": null,
   "id": "6ff64ff1-2e46-486b-b9bf-44f84af3f0e0",
   "metadata": {},
   "outputs": [],
   "source": [
    "grep \"at9578_G304230\" tmp/orthofinder/orthofinder_no_araport/orthofinder/Orthogroups/Orthogroups.txt"
   ]
  },
  {
   "cell_type": "code",
   "execution_count": null,
   "id": "cdde8e78-aa35-498e-bddd-b333f26d5faf",
   "metadata": {},
   "outputs": [],
   "source": [
    "grep \"at9578_G004410\" input/final_gffs/at9578_hodgepodgemerged.gff3"
   ]
  },
  {
   "cell_type": "code",
   "execution_count": null,
   "id": "043873c2-2d1b-4ff4-a946-11766d33baa3",
   "metadata": {},
   "outputs": [],
   "source": [
    "pwd"
   ]
  },
  {
   "cell_type": "code",
   "execution_count": null,
   "id": "35cf3e3e-88fe-4ee4-96cf-8f1de988a310",
   "metadata": {},
   "outputs": [],
   "source": [
    "grep \"AT1G61300\" tmp/orthofinder/orthofinder_aa_with_araport/Orthofinder_results_aa_with_araport11/OrthoFinder/Results_Jul05/Orthogroups/Orthogroups.txt"
   ]
  },
  {
   "cell_type": "code",
   "execution_count": null,
   "id": "9305038f-96c2-4036-8610-120eeb03777a",
   "metadata": {},
   "outputs": [],
   "source": [
    "grep \"AT1G61300\" tmp/orthofinder/orthofinder_nt_gppr_araport/OrthoFinder_gppr_araport/OrthoFinder/Results_Jul11_1/Orthogroups/Orthogroups.txt"
   ]
  },
  {
   "cell_type": "code",
   "execution_count": null,
   "id": "bf2e4925-35f9-4948-ab22-13238465bc37",
   "metadata": {},
   "outputs": [],
   "source": [
    "cp tmp/orthofinder/orthofinder_nt_gppr_araport/OrthoFinder_gppr_araport/OrthoFinder/Results_Jul11_1/Orthogroup_Sequences/OG0000087.fa tmp/"
   ]
  },
  {
   "cell_type": "code",
   "execution_count": null,
   "id": "07b92321-2503-454a-9c14-ef3831fa6f52",
   "metadata": {},
   "outputs": [],
   "source": [
    "cp tmp/orthofinder/orthofinder_nt_gppr_araport/OrthoFinder_gppr_araport/OrthoFinder/Results_Jul11_1/Orthogroup_Sequences/OG0000428.fa tmp/"
   ]
  },
  {
   "cell_type": "markdown",
   "id": "0339dd5e-b9c0-4ffd-9207-ddd72586f326",
   "metadata": {},
   "source": [
    "## Convert the final gffs into bed format"
   ]
  },
  {
   "cell_type": "code",
   "execution_count": null,
   "id": "a0b2a5ef-f22b-414c-99d6-4054a66f72d4",
   "metadata": {},
   "outputs": [],
   "source": [
    "mkdir -p output/final_gffs_bed\n",
    "\n",
    "for accession in \"${dl20[@]}\"\n",
    "do \n",
    "gff2bed < input/final_gffs/${accession}_hodgepodgemerged.gff3 \\\n",
    "   > output/final_gffs_bed/${accession}_hodgepodgemerged.bed\n",
    "done"
   ]
  },
  {
   "cell_type": "code",
   "execution_count": null,
   "id": "a2e627ed-f23f-4944-ad44-3e4f5dbe6743",
   "metadata": {},
   "outputs": [],
   "source": []
  },
  {
   "cell_type": "code",
   "execution_count": null,
   "id": "85bb3f0f-6e4e-4c4c-8983-59451a6e3994",
   "metadata": {},
   "outputs": [],
   "source": [
    "head output/final_gffs_bed/at9900_hodgepodgemerged.bed"
   ]
  },
  {
   "cell_type": "code",
   "execution_count": null,
   "id": "739a1139-ede7-4409-b180-eadc9fb0f307",
   "metadata": {},
   "outputs": [],
   "source": [
    "for accession in \"${dl20[@]}\"\n",
    "do \n",
    "     grep -P '\\tgene\\t' output/final_gffs_bed/${accession}_hodgepodgemerged.bed > output/final_gffs_bed/${accession}_hodgepodgemerged_gene.bed\n",
    "done"
   ]
  },
  {
   "cell_type": "code",
   "execution_count": null,
   "id": "96a4ea05-be97-457c-8231-fc71f1f7f20e",
   "metadata": {},
   "outputs": [],
   "source": [
    "head output/final_gffs_bed/at9900_hodgepodgemerged_gene.bed"
   ]
  },
  {
   "cell_type": "markdown",
   "id": "f0a330f0-c131-4617-bcde-49756641ff90",
   "metadata": {},
   "source": [
    "## Comparison of annalena at9762 to our at9762"
   ]
  },
  {
   "cell_type": "code",
   "execution_count": null,
   "id": "d3f26a74-411b-40e0-aab3-bafff6c7ecfd",
   "metadata": {},
   "outputs": [],
   "source": [
    "pwd"
   ]
  },
  {
   "cell_type": "code",
   "execution_count": null,
   "id": "f389f280-abeb-4fd9-b385-a6c0475992b9",
   "metadata": {},
   "outputs": [],
   "source": [
    "mkdir -p tmp/annalena_comparison\n",
    "\n",
    "cat input/annalena_alignments_from_paper_supps/annalena_alignments/* > tmp/annalena_comparison/all_annalena_NLRs.fasta"
   ]
  },
  {
   "cell_type": "code",
   "execution_count": null,
   "id": "15810419-0801-4bd1-8832-19851a8f1dbe",
   "metadata": {},
   "outputs": [],
   "source": [
    "makeblastdb -in at9762_cds_aa.fasta -dbtype prot -out at9762_cds_aa\n",
    "blastp -db at9762_cds_aa -query tmp/annalena_comparison/at9762_cds_aa.fasta -outfmt \"6 qseqid sseqid pident length mismatch gapopen qstart qend sstart send evalue bitscore qlen slen gaps ppos frames qframe sframe sallgi\" -out at9762aa_ours_verses_annalena_aa.tsv -num_threads 4\n"
   ]
  },
  {
   "cell_type": "code",
   "execution_count": null,
   "id": "cf0d0100-171f-4b9e-8866-2a89fdb46fbd",
   "metadata": {},
   "outputs": [],
   "source": [
    "cat all_pseudo_and_pseudogenic_regions_all_proteins_aa.tsv | sort -k1,1 -k13,13nr -k12,12n | sort -u -k1,1 --merge > all_pseudo_and_pseudogenic_regions_all_proteins_aa_single_hit.tsv"
   ]
  },
  {
   "cell_type": "code",
   "execution_count": null,
   "id": "ad3d0595-4159-436d-aa80-b677729ab5d1",
   "metadata": {},
   "outputs": [],
   "source": [
    "mkdir -p tmp/at9762_comparison\n",
    "\n",
    "mv at9762.protein.fasta tmp/at9762_comparison"
   ]
  },
  {
   "cell_type": "code",
   "execution_count": null,
   "id": "37865903-40a2-4d56-ba51-af899bd477d7",
   "metadata": {},
   "outputs": [],
   "source": [
    "cd tmp/at9762_comparison"
   ]
  },
  {
   "cell_type": "code",
   "execution_count": null,
   "id": "978e5124-7dad-4234-8faf-6e9e634f3135",
   "metadata": {},
   "outputs": [],
   "source": [
    "makeblastdb -in at9762_nlrs_manually_annotated.fasta -dbtype prot -out at9762_cds_aa_nlr\n",
    "blastp -db at9762_cds_aa_nlr -query at9762.protein.fasta -outfmt \"6 qseqid sseqid pident length mismatch gapopen qstart qend sstart send evalue bitscore qlen slen gaps ppos frames qframe sframe sallgi\" \\\n",
    "     -out at9762aa_ours_verses_augustus_nlr.tsv -num_threads 4"
   ]
  }
 ],
 "metadata": {
  "kernelspec": {
   "display_name": "Bash",
   "language": "bash",
   "name": "bash"
  },
  "language_info": {
   "codemirror_mode": "shell",
   "file_extension": ".sh",
   "mimetype": "text/x-sh",
   "name": "bash"
  }
 },
 "nbformat": 4,
 "nbformat_minor": 5
}
