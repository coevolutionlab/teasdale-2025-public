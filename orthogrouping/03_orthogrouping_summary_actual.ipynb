{
 "cells": [
  {
   "cell_type": "markdown",
   "id": "1e52d1b0-4106-4e6c-bfc8-012e5ebd3c30",
   "metadata": {},
   "source": [
    "# 03. summarising the orthogrouping - stats - this might turn into an r- notebook"
   ]
  },
  {
   "cell_type": "code",
   "execution_count": null,
   "id": "a17824eb-a3b2-4f5b-9b83-dc37ee122dfa",
   "metadata": {},
   "outputs": [],
   "source": [
    "mamba activate dl20-orthogrouping\n",
    "conda info --envs"
   ]
  },
  {
   "cell_type": "code",
   "execution_count": null,
   "id": "a2202c36-d3ae-4aca-a0d0-4b92ab8c4a1f",
   "metadata": {},
   "outputs": [],
   "source": [
    "dl20=(\n",
    "at6923 at6929 at7143\n",
    "at8285 at9104 at9336 at9503\n",
    "at9578 at9744 at9762 at9806\n",
    "at9830 at9847 at9852 at9879\n",
    "at9883 at9900\n",
    ")"
   ]
  },
  {
   "cell_type": "code",
   "execution_count": null,
   "id": "91575db9-741d-4ee6-85d5-be59441318cd",
   "metadata": {},
   "outputs": [],
   "source": [
    "# move just NLR (orthofinder) orthogroups into a folder\n",
    "\n",
    "mkdir -p tmp/just_manually_annotated_final_actual/just_nlr_containing_orthogroups/\n",
    "\n",
    "for orthogroup in $(cat tmp/just_manually_annotated_final_actual/nlr_containing_orthogroups.txt)\n",
    "do \n",
    "cp tmp/just_manually_annotated_final_actual/manually_curated_orthogroups/${orthogroup}.fa tmp/just_manually_annotated_final_actual/just_nlr_containing_orthogroups/\n",
    "done"
   ]
  },
  {
   "cell_type": "code",
   "execution_count": null,
   "id": "cf06a716-f729-40b8-a80b-3b26ea918ff1",
   "metadata": {},
   "outputs": [],
   "source": [
    "# align these using mafft\n",
    "\n",
    "bash src/mafft_for_03.sh\n",
    "\n",
    "#Contents of bash script is:\n",
    "##!/bin/bash\n",
    "#set -xe\n",
    "\n",
    "#for orthogroup in $(cat tmp/just_manually_annotated_final_actual/nlr_containing_orthogroups.txt)\n",
    "#do \n",
    "#mafft --auto tmp/just_manually_annotated_final_actual/just_nlr_containing_orthogroups/${orthogroup}.fa > tmp/just_manually_annotated_final_actual/just_nlr_containing_orthogroups/${orthogroup}_mafft.fa\n",
    "#done"
   ]
  },
  {
   "cell_type": "code",
   "execution_count": null,
   "id": "e5622ec9-3b70-478e-b620-4459c2c26be4",
   "metadata": {},
   "outputs": [],
   "source": [
    "# run amas\n",
    "\n",
    "python3 ./src/AMAS.py summary -f fasta -d aa -i tmp/just_manually_annotated_final_actual/just_nlr_containing_orthogroups/*_mafft.fa"
   ]
  },
  {
   "cell_type": "code",
   "execution_count": null,
   "id": "fe0cb2ad-2ab1-4fd9-8cdc-4771639b7246",
   "metadata": {},
   "outputs": [],
   "source": [
    "mv summary.txt tmp/just_manually_annotated_final_actual/just_nlr_containing_orthogroups/"
   ]
  },
  {
   "cell_type": "code",
   "execution_count": null,
   "id": "f07d007b-9f5a-4b19-8dfc-1ffbe0c85935",
   "metadata": {
    "tags": []
   },
   "outputs": [],
   "source": [
    "#make fasta files of nlrs from orthogroups purely for assigning pseudogenes to orthogroups.\n",
    "\n",
    "python3 ./src/fasta_formatter_general_with_an_orthofinder_list_1.2.py -t tmp/just_manually_annotated_final_actual/nlr_sequences_orthogroup_map_just_for_assigning_nt_pseudogenes.txt output/per_accession_nt_cds/*.fasta"
   ]
  },
  {
   "cell_type": "code",
   "execution_count": null,
   "id": "a3b5189e-24a1-4b9f-9434-f827d5d0e417",
   "metadata": {},
   "outputs": [],
   "source": [
    "cat tmp/just_manually_annotated_final_actual/just_nlrs_from_nlr_containing_orthogroups_cds_nt/*.fa \\\n",
    "    > tmp/just_manually_annotated_final_actual/all_nlrs_so_far_assigned_orthogroups_cds_nt.fasta"
   ]
  },
  {
   "cell_type": "code",
   "execution_count": null,
   "id": "0c7687b4-051a-47ad-a318-89464581f4b7",
   "metadata": {},
   "outputs": [],
   "source": [
    "## All-by-all diamond to produce broad orthogroups"
   ]
  },
  {
   "cell_type": "code",
   "execution_count": null,
   "id": "a56148da-8eb5-4e06-ae01-7f392a766223",
   "metadata": {},
   "outputs": [],
   "source": [
    "cat tmp/just_manually_annotated_final_actual/just_nlr_containing_orthogroups/*.fa > \\\n",
    "    tmp/just_manually_annotated_final_actual/all_sequences_from_nlr_containing_orthogroups_aa_cds_reps.fasta"
   ]
  },
  {
   "cell_type": "code",
   "execution_count": null,
   "id": "71b743db-c2fb-4768-8cbc-f7ef9243e05b",
   "metadata": {
    "tags": []
   },
   "outputs": [],
   "source": [
    "diamond makedb --in tmp/just_manually_annotated_final_actual/all_sequences_from_nlr_containing_orthogroups_aa_cds_reps.fasta \\\n",
    "    -d tmp/just_manually_annotated_final_actual/all_sequences_from_nlr_containing_orthogroups_aa_cds_reps\n",
    "# running a search in blastp mode\n",
    "diamond blastp -d tmp/just_manually_annotated_final_actual/all_sequences_from_nlr_containing_orthogroups_aa_cds_reps \\\n",
    "   -q tmp/just_manually_annotated_final_actual/all_sequences_from_nlr_containing_orthogroups_aa_cds_reps.fasta \\\n",
    "   -o tmp/just_manually_annotated_final_actual/all_sequences_from_nlr_containing_orthogroups_aa_cds_reps_matches.tsv"
   ]
  },
  {
   "cell_type": "code",
   "execution_count": null,
   "id": "f20edec7-9af5-44f9-94cc-39069e1a4617",
   "metadata": {},
   "outputs": [],
   "source": [
    "### Manual check of orthogroups which had matches of 85% sequence identity "
   ]
  },
  {
   "cell_type": "code",
   "execution_count": null,
   "id": "b1de5c30-af4e-47ba-97d7-ea092b55984d",
   "metadata": {},
   "outputs": [],
   "source": [
    "# Produce a list of the sequences in the intermediate broad orthogroups and check that they are all unique"
   ]
  },
  {
   "cell_type": "code",
   "execution_count": null,
   "id": "ae12c432-6b19-4187-99b7-c4a8522289ad",
   "metadata": {},
   "outputs": [],
   "source": [
    "python src/produce_list_of_fasta_ids.py tmp/just_manually_annotated_final_actual/just_nlr_containing_orthogroups/broad_orthogroups/*.fa > intermediate_broad_orthogroups.txt"
   ]
  },
  {
   "cell_type": "code",
   "execution_count": null,
   "id": "e56aaba4-23ab-4b6d-bb76-3ce5e5d2acad",
   "metadata": {},
   "outputs": [],
   "source": [
    "head intermediate_broad_orthogroups.txt"
   ]
  },
  {
   "cell_type": "code",
   "execution_count": null,
   "id": "cbe53785-52c3-4be1-b6d2-dfc9015d1774",
   "metadata": {},
   "outputs": [],
   "source": [
    "# They are all unique"
   ]
  },
  {
   "cell_type": "code",
   "execution_count": null,
   "id": "a8b5e8ed-069e-4777-9421-15ac31bf4ad8",
   "metadata": {},
   "outputs": [],
   "source": [
    "# Then merge the sequences into the broad groups - put in table and produce fasta files"
   ]
  },
  {
   "cell_type": "code",
   "execution_count": null,
   "id": "77f89641-9920-461d-9330-753e05a0c002",
   "metadata": {},
   "outputs": [],
   "source": [
    "python3 src/produce_list_of_orthogroups_to_merge.py \\\n",
    "    -t tmp/just_manually_annotated_final_actual/just_nlr_containing_orthogroups/intermediate_orthogroups_to_be_merged_to_broad_orthogroups.txt\n"
   ]
  },
  {
   "cell_type": "code",
   "execution_count": null,
   "id": "f231790d-95b7-4b01-98ff-b039c66d9265",
   "metadata": {},
   "outputs": [],
   "source": [
    "# Then - do clustering on the broad groups to produce the allelic orthogroups"
   ]
  },
  {
   "cell_type": "code",
   "execution_count": null,
   "id": "54878afa-3396-4dbc-b7fb-7b8748dac8f2",
   "metadata": {},
   "outputs": [],
   "source": [
    "# produce fasta files for these"
   ]
  },
  {
   "cell_type": "code",
   "execution_count": null,
   "id": "5dfcc5d1-24f1-49e6-967d-894bb859b637",
   "metadata": {},
   "outputs": [],
   "source": [
    "cd tmp/just_manually_annotated_final_actual/just_nlr_containing_orthogroups/broad_orthogroups"
   ]
  },
  {
   "cell_type": "code",
   "execution_count": null,
   "id": "216d1bc4-ae87-41fc-9410-6f57a5494ce5",
   "metadata": {},
   "outputs": [],
   "source": [
    "bash merge_to_broad_orthogroups.sh\n"
   ]
  },
  {
   "cell_type": "code",
   "execution_count": null,
   "id": "a2bf2815-b4eb-43df-b7a5-f2aafb8501bc",
   "metadata": {},
   "outputs": [],
   "source": [
    "bash remove_files_that_were_merged.sh"
   ]
  },
  {
   "cell_type": "code",
   "execution_count": null,
   "id": "833b9b91-b992-4c61-a461-35e77545858e",
   "metadata": {},
   "outputs": [],
   "source": [
    "# Then alignments, stats, trees"
   ]
  },
  {
   "cell_type": "code",
   "execution_count": null,
   "id": "097c8284-7412-4858-b97a-8b9c0de60607",
   "metadata": {},
   "outputs": [],
   "source": [
    "# get the sequence to broad orthogroup mapping"
   ]
  },
  {
   "cell_type": "code",
   "execution_count": null,
   "id": "b98d08dc-db81-484a-b010-4fd0c8f2c956",
   "metadata": {},
   "outputs": [],
   "source": [
    "python src/produce_list_of_fasta_ids.py tmp/just_manually_annotated_final_actual/just_nlr_containing_orthogroups/broad_orthogroups/actual_broad_orthogroups/*.fa \\\n",
    "    > broad_orthogroups.txt"
   ]
  },
  {
   "cell_type": "code",
   "execution_count": null,
   "id": "8e64829b-cc91-4e28-880b-2db015514a69",
   "metadata": {},
   "outputs": [],
   "source": [
    "cd tmp/just_manually_annotated_final_actual/just_nlr_containing_orthogroups/broad_orthogroups/actual_broad_orthogroups"
   ]
  },
  {
   "cell_type": "code",
   "execution_count": null,
   "id": "7849b504-b4c9-4324-9197-43db2d3f8668",
   "metadata": {},
   "outputs": [],
   "source": [
    "ls *.fa > samples.txt"
   ]
  },
  {
   "cell_type": "code",
   "execution_count": null,
   "id": "ae6147cb-b1e4-4b6c-9321-4378771b4434",
   "metadata": {},
   "outputs": [],
   "source": [
    "sed -i 's/\\.fa//g' samples.txt"
   ]
  },
  {
   "cell_type": "code",
   "execution_count": null,
   "id": "15a2e477-20b7-4841-8c1a-ea6a0863d1a5",
   "metadata": {},
   "outputs": [],
   "source": [
    "bash ../../../../../src/mafft.sh"
   ]
  },
  {
   "cell_type": "code",
   "execution_count": null,
   "id": "cbc22a03-de91-4067-ba00-9b55efc4b17f",
   "metadata": {},
   "outputs": [],
   "source": [
    "# work out which sequences are in which orthogroup"
   ]
  },
  {
   "cell_type": "code",
   "execution_count": null,
   "id": "1ec38e81-974f-46a5-87a8-97299b989a52",
   "metadata": {},
   "outputs": [],
   "source": [
    "pwd"
   ]
  },
  {
   "cell_type": "code",
   "execution_count": null,
   "id": "089afc5d-43b4-4d49-8e7d-7ede23d3ccc0",
   "metadata": {},
   "outputs": [],
   "source": [
    "cat input/neigbourhoods_new2/*.bed > input/neigbourhoods_new2/all_neighbour_hoods.bed"
   ]
  },
  {
   "cell_type": "code",
   "execution_count": null,
   "id": "e5645183-fb3a-4a81-a782-075dc38925f3",
   "metadata": {},
   "outputs": [],
   "source": [
    "bedtools intersect -a tmp/just_manually_annotated_final_actual/all_final_nlrs.bed \\\n",
    "   -b input/neigbourhoods_new2/all_neighbour_hoods.bed -wb > tmp/just_manually_annotated_final_actual/all_nlr_neighbourhoods.txt"
   ]
  },
  {
   "cell_type": "code",
   "execution_count": null,
   "id": "bfc9339f-8f80-404c-805c-a0bf18d0f3ab",
   "metadata": {},
   "outputs": [],
   "source": [
    "head tmp/just_manually_annotated_final_actual/all_nlr_neighbourhoods.txt"
   ]
  },
  {
   "cell_type": "code",
   "execution_count": null,
   "id": "fdb3e7b2-8222-4e2a-aa20-55cfd8251b2b",
   "metadata": {},
   "outputs": [],
   "source": []
  },
  {
   "cell_type": "markdown",
   "id": "f2098990-809d-4971-84c8-2b329bba54f2",
   "metadata": {},
   "source": [
    "## Running cd-hit for splitting test"
   ]
  },
  {
   "cell_type": "code",
   "execution_count": null,
   "id": "af5a6c0c-9278-4a57-8de2-dc9151042446",
   "metadata": {},
   "outputs": [],
   "source": [
    "head broad_orthogroups_that_need_splitting.txt"
   ]
  },
  {
   "cell_type": "code",
   "execution_count": null,
   "id": "28074c4f-4aa1-45ea-9d21-2ab5cfaf40ad",
   "metadata": {
    "tags": []
   },
   "outputs": [],
   "source": [
    "for orthogroup in $(cat tmp/just_manually_annotated_final_actual/just_nlr_containing_orthogroups/broad_orthogroups/actual_broad_orthogroups/samples.txt)\n",
    "do \n",
    "    cd-hit -i tmp/just_manually_annotated_final_actual/just_nlr_containing_orthogroups/broad_orthogroups/actual_broad_orthogroups/${orthogroup}.fa \\\n",
    "    -o tmp/just_manually_annotated_final_actual/just_nlr_containing_orthogroups/broad_orthogroups/actual_broad_orthogroups/cd_hit_20231026/${orthogroup}_90.fa \\\n",
    "    -c 0.90\n",
    "done"
   ]
  },
  {
   "cell_type": "code",
   "execution_count": null,
   "id": "096e8414-0ef4-4e9d-a85f-b509c76fdeb2",
   "metadata": {
    "tags": []
   },
   "outputs": [],
   "source": [
    "bash src/mafft.sh"
   ]
  },
  {
   "cell_type": "code",
   "execution_count": null,
   "id": "d3fdf89d-a0b4-43c0-a464-1fd23c33fe04",
   "metadata": {
    "tags": []
   },
   "outputs": [],
   "source": [
    "python p-distance_script_v3.py -t prot -p average -s ~ -f *_mafft.fa > average_distance_table.txt"
   ]
  },
  {
   "cell_type": "code",
   "execution_count": null,
   "id": "f05f896a-833e-4243-b0fe-43ad34c75002",
   "metadata": {},
   "outputs": [],
   "source": [
    "cd tmp/just_manually_annotated_final_actual/just_nlr_containing_orthogroups/broad_orthogroups/actual_broad_orthogroups/cd_hit_20231026"
   ]
  },
  {
   "cell_type": "code",
   "execution_count": null,
   "id": "f6a99600-a4e7-439c-8e63-39b303cb920a",
   "metadata": {
    "tags": []
   },
   "outputs": [],
   "source": [
    "python3 ../../../../../../src/cd-hit_output_parser.py *_85.fa.clstr > cd_hit_summary_test_85.txt"
   ]
  }
 ],
 "metadata": {
  "kernelspec": {
   "display_name": "Bash",
   "language": "bash",
   "name": "bash"
  },
  "language_info": {
   "codemirror_mode": "shell",
   "file_extension": ".sh",
   "mimetype": "text/x-sh",
   "name": "bash"
  }
 },
 "nbformat": 4,
 "nbformat_minor": 5
}
