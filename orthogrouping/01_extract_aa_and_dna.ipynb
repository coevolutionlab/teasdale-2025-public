{
 "cells": [
  {
   "cell_type": "markdown",
   "id": "981763c9-75d3-4fee-98c3-dcb0269259bf",
   "metadata": {},
   "source": [
    "# 01. extract aa and nucleotide sequences to get ready for orthogrouping"
   ]
  },
  {
   "cell_type": "code",
   "execution_count": null,
   "id": "4463ac8f-a5ea-4fda-a6af-1554d80a4d9f",
   "metadata": {},
   "outputs": [],
   "source": [
    "conda activate dl20-orthogrouping"
   ]
  },
  {
   "cell_type": "code",
   "execution_count": null,
   "id": "336ef58d-8bed-4c1d-8e6f-35f0f99b5ef0",
   "metadata": {},
   "outputs": [],
   "source": [
    "dl20=(\n",
    "at6137 at6923 at6929 at7143\n",
    "at8285 at9104 at9336 at9503\n",
    "at9578 at9744 at9762 at9806\n",
    "at9830 at9847 at9852 at9879\n",
    "at9883 at9900\n",
    ")"
   ]
  },
  {
   "cell_type": "code",
   "execution_count": null,
   "id": "43a0b237-93a6-40fa-b39e-2460e13a795a",
   "metadata": {},
   "outputs": [],
   "source": [
    "dl20=(\n",
    "at6923 at6929 at7143\n",
    "at8285 at9104 at9336 at9503\n",
    "at9578 at9744 at9762 at9806\n",
    "at9830 at9847 at9852 at9879\n",
    "at9883 at9900\n",
    ")"
   ]
  },
  {
   "cell_type": "code",
   "execution_count": null,
   "id": "18ecebb9-6d45-4bdb-a663-cc1de7571d46",
   "metadata": {},
   "outputs": [],
   "source": [
    "dl20=(\n",
    "at9744 at9762 at9806\n",
    "at9830 at9847 at9852 at9879\n",
    "at9883 at9900\n",
    ")"
   ]
  },
  {
   "cell_type": "markdown",
   "id": "05240c70-87de-4e4b-9b7b-6ce7af1654db",
   "metadata": {},
   "source": [
    "First process the scaffolds such that agat can cope"
   ]
  },
  {
   "cell_type": "code",
   "execution_count": null,
   "id": "fc580f42-046c-44f4-81b9-7d00dd161f59",
   "metadata": {},
   "outputs": [],
   "source": [
    "mkdir -p input/line_wrapped_scaffolds\n",
    "\n",
    "for accession in \"${dl20[@]}\"\n",
    "do \n",
    "fasta_formatter -i ../assembly-and-annotation/output/01_assembly/03_inversion_fixed/${accession}.fasta \\\n",
    "   -w 60 \\\n",
    "   > input/line_wrapped_scaffolds/${accession}.fasta\n",
    "done"
   ]
  },
  {
   "cell_type": "markdown",
   "id": "5766c09a-53a8-4b5f-8b0d-df338c81d5ee",
   "metadata": {},
   "source": [
    "## First extract the amino acid sequences and nucleotide sequences for all genes (not pseudogenes)"
   ]
  },
  {
   "cell_type": "code",
   "execution_count": null,
   "id": "81f27dd1-c573-4b63-b124-0171f0d54635",
   "metadata": {
    "jupyter": {
     "outputs_hidden": true
    },
    "tags": []
   },
   "outputs": [],
   "source": [
    "mkdir -p output/per_accession_aa_cds\n",
    "\n",
    "for accession in \"${dl20[@]}\"\n",
    "do \n",
    "agat_sp_extract_sequences.pl \\\n",
    "   -g ../final/annotation/latest/${accession}_hodgepodgemerged.representatives.gff3 \\\n",
    "   -f input/line_wrapped_scaffolds/${accession}.fasta \\\n",
    "   -t cds \\\n",
    "   -p \\\n",
    "   -o output/per_accession_aa_cds/${accession}_cds_aa.fasta\n",
    "done\n",
    "\n",
    "#check that this is just for the genes\n",
    "#perhaps make a subset for this purpose with just the primary transcripts - kevin is already doing this"
   ]
  },
  {
   "cell_type": "code",
   "execution_count": null,
   "id": "fb7c77b8-1d65-4663-a179-fc6b93b05460",
   "metadata": {
    "jupyter": {
     "outputs_hidden": true
    },
    "tags": []
   },
   "outputs": [],
   "source": [
    "mkdir -p output/per_accession_nt_cds\n",
    "\n",
    "for accession in \"${dl20[@]}\"\n",
    "do \n",
    "agat_sp_extract_sequences.pl \\\n",
    "   -g ../final/annotation/latest/${accession}_hodgepodgemerged.representatives.gff3 \\\n",
    "   -f input/line_wrapped_scaffolds/${accession}.fasta \\\n",
    "   -t cds \\\n",
    "   -o output/per_accession_nt_cds/${accession}_cds_nt.fasta\n",
    "done"
   ]
  },
  {
   "cell_type": "markdown",
   "id": "44bf7320-e993-4022-934f-314157766d4f",
   "metadata": {},
   "source": [
    "## also extract the nucleotide sequences for the gene regions with introns (and utr if it's there)"
   ]
  },
  {
   "cell_type": "code",
   "execution_count": null,
   "id": "ac17ffa1-10de-4c7e-8cb4-701ff1b8ab5f",
   "metadata": {
    "jupyter": {
     "outputs_hidden": true
    },
    "tags": []
   },
   "outputs": [],
   "source": [
    "mkdir -p output/per_accession_nt_gene\n",
    "\n",
    "for accession in \"${dl20[@]}\"\n",
    "do \n",
    "agat_sp_extract_sequences.pl \\\n",
    "   -g ../final/annotation/latest/${accession}_hodgepodgemerged.gff3 \\\n",
    "   -f input/line_wrapped_scaffolds/${accession}.fasta \\\n",
    "   -t gene \\\n",
    "   -o output/per_accession_nt_gene/${accession}_gene_nt.fasta\n",
    "done"
   ]
  },
  {
   "cell_type": "code",
   "execution_count": null,
   "id": "8c6c1ae9-1e57-4c6d-9cc7-5683b60c56dc",
   "metadata": {
    "jupyter": {
     "outputs_hidden": true
    },
    "tags": []
   },
   "outputs": [],
   "source": [
    "#agat_sp_extract_sequences.pl -g infile.gff -f infile.fasta -t exon --merge\n",
    "\n",
    "mkdir -p output/per_accession_nt_mRNA\n",
    "\n",
    "for accession in \"${dl20[@]}\"\n",
    "do \n",
    "agat_sp_extract_sequences.pl \\\n",
    "   -g ../final/annotation/latest/${accession}_hodgepodgemerged.gff3 \\\n",
    "   -f input/line_wrapped_scaffolds/${accession}.fasta \\\n",
    "   -t exon --merge\\\n",
    "   -o output/per_accession_nt_mRNA/${accession}_mRNA_nt.fasta\n",
    "done"
   ]
  },
  {
   "cell_type": "markdown",
   "id": "fa3e14f0-a227-4de4-aaf8-02d2fd125869",
   "metadata": {},
   "source": [
    "## and extract the nucleotide sequences for the pseudogenes (for whole region)"
   ]
  },
  {
   "cell_type": "code",
   "execution_count": null,
   "id": "8c4ea378-8b72-4fac-b020-2817c895edee",
   "metadata": {
    "jupyter": {
     "outputs_hidden": true
    },
    "tags": []
   },
   "outputs": [],
   "source": [
    "#agat_sp_extract_sequences.pl -g infile.gff -f infile.fasta -t pseduogene\n",
    "#agat_sp_extract_sequences.pl -g infile.gff -f infile.fasta -t pseduogenic_region\n",
    "\n",
    "mkdir -p output/per_accession_nt_pseudogene\n",
    "\n",
    "for accession in \"${dl20[@]}\"\n",
    "do \n",
    "agat_sp_extract_sequences.pl \\\n",
    "   -g ../final/annotation/latest/${accession}_hodgepodgemerged.gff3 \\\n",
    "   -f input/line_wrapped_scaffolds/${accession}.fasta \\\n",
    "   -t pseudogene \\\n",
    "   -o output/per_accession_nt_pseudogene/${accession}_pseudogene_nt.fasta\n",
    "done"
   ]
  },
  {
   "cell_type": "code",
   "execution_count": null,
   "id": "8100acd4-5520-463a-8797-354efed8f847",
   "metadata": {
    "jupyter": {
     "outputs_hidden": true
    },
    "tags": []
   },
   "outputs": [],
   "source": [
    "mkdir -p output/per_accession_nt_pseudogenic_region\n",
    "\n",
    "for accession in \"${dl20[@]}\"\n",
    "do \n",
    "agat_sp_extract_sequences.pl \\\n",
    "   -g ../final/annotation/latest/${accession}_hodgepodgemerged.gff3 \\\n",
    "   -f input/line_wrapped_scaffolds/${accession}.fasta \\\n",
    "   -t pseudogenic_region \\\n",
    "   -o output/per_accession_nt_pseudogenic_region/${accession}_pseudogenic_region_nt.fasta\n",
    "done"
   ]
  },
  {
   "cell_type": "markdown",
   "id": "388ee107-8da6-407f-bbb4-1604f636ba07",
   "metadata": {},
   "source": [
    "# Here down are some of the steps performed to validate the manual annotations"
   ]
  },
  {
   "cell_type": "markdown",
   "id": "db91af3a-a2d8-447b-8562-7969a254286c",
   "metadata": {},
   "source": [
    "### Code to check the mannual annotation table and check if there is transdecoder present"
   ]
  },
  {
   "cell_type": "code",
   "execution_count": null,
   "id": "a582c3fa-1b49-4e1c-a90a-fd016b1c6519",
   "metadata": {},
   "outputs": [],
   "source": [
    "mkdir -p tmp/per_accession_nlr_transdecoder_overlap\n",
    "\n",
    "for accession in \"${dl20[@]}\"\n",
    "do\n",
    "bedtools intersect \\\n",
    "   -a ../gffuuuu/output/${accession}_nlr_decisions.bed \\\n",
    "   -b ../gffuuuu/input/${accession}.tama-v2.fix.gff \\\n",
    "   -u \\\n",
    "   > tmp/per_accession_nlr_transdecoder_overlap/${accession}_nlrs_with_transcripts.txt\n",
    "done"
   ]
  },
  {
   "cell_type": "code",
   "execution_count": null,
   "id": "fbaa1270-31e2-4878-808c-a6abd1484a49",
   "metadata": {},
   "outputs": [],
   "source": [
    "cat tmp/per_accession_nlr_transdecoder_overlap/*_nlrs_with_transcripts.txt > tmp/per_accession_nlr_transdecoder_overlap/all_nlrs_with_transcripts.txt"
   ]
  },
  {
   "cell_type": "code",
   "execution_count": null,
   "id": "e359df58-30f2-4409-99ad-2653c20f4acd",
   "metadata": {
    "jupyter": {
     "outputs_hidden": true
    },
    "tags": []
   },
   "outputs": [],
   "source": [
    "for accession in \"${dl20[@]}\"\n",
    "do\n",
    "grep \\\n",
    "   \"aug_liftoff_cds_disagree_use_aug\" ../gffuuuu/output/${accession}_nlr_decisions.bed | wc -l\n",
    "done"
   ]
  },
  {
   "cell_type": "code",
   "execution_count": null,
   "id": "8957059c-2027-4a06-93f5-6d076c1e1cd0",
   "metadata": {},
   "outputs": [],
   "source": [
    "mkdir -p tmp/per_accession_nlr_transdecoder_overlap\n",
    "\n",
    "for accession in \"${dl20[@]}\"\n",
    "do\n",
    "bedtools intersect \\\n",
    "   -a ../gffuuuu/output/${accession}_nlr_decisions.bed \\\n",
    "   -b ../gffuuuu/input/${accession}.tama-v2.fix.gff \\\n",
    "   -u \\\n",
    "   > tmp/per_accession_nlr_transdecoder_overlap/${accession}_nlrs_with_transcripts.txt\n",
    "done"
   ]
  },
  {
   "cell_type": "markdown",
   "id": "c22194da-61bd-49d5-85cd-7811399cf85d",
   "metadata": {},
   "source": [
    "### The code below was used to add the at9879 NLR annotator results that did not overlap with the already manually annotated loci"
   ]
  },
  {
   "cell_type": "code",
   "execution_count": null,
   "id": "01e30c0d-bd1f-4322-88dc-a564dacf3308",
   "metadata": {},
   "outputs": [],
   "source": [
    "bedtools intersect \\\n",
    "   -a ../NLRannotator/output/at9879_nlr_annotator.bed \\\n",
    "   -b ../gffuuuu/output/at9879_nlr_decisions.bed \\\n",
    "   -v \\\n",
    "   > tmp/at9879_nlr_annotator_extra.bed"
   ]
  },
  {
   "cell_type": "code",
   "execution_count": null,
   "id": "b7fcbfd5-3262-41ef-9fa2-5fef268d3cff",
   "metadata": {},
   "outputs": [],
   "source": [
    "cat tmp/at9879_nlr_annotator_extra.bed |wc -l"
   ]
  }
 ],
 "metadata": {
  "kernelspec": {
   "display_name": "Bash",
   "language": "bash",
   "name": "bash"
  },
  "language_info": {
   "codemirror_mode": "shell",
   "file_extension": ".sh",
   "mimetype": "text/x-sh",
   "name": "bash"
  }
 },
 "nbformat": 4,
 "nbformat_minor": 5
}
