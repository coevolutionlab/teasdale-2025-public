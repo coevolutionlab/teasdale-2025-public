{
 "cells": [
  {
   "cell_type": "code",
   "execution_count": null,
   "id": "ba40245f-f848-43e7-b9f6-15ec6d60dbdd",
   "metadata": {},
   "outputs": [],
   "source": [
    "mamba activate dl20-orthogrouping\n",
    "conda info --envs"
   ]
  },
  {
   "cell_type": "code",
   "execution_count": null,
   "id": "9cae0caa-df8c-43ae-a2ac-1fc0d4a8b18f",
   "metadata": {},
   "outputs": [],
   "source": [
    "mkdir tmp/pseudogene_clustering"
   ]
  },
  {
   "cell_type": "code",
   "execution_count": null,
   "id": "8028c4be-6397-4342-aaa6-38220f09d607",
   "metadata": {},
   "outputs": [],
   "source": [
    "cat output/per_accession_nt_pseudogene/* output/per_accession_nt_pseudogenic_region/* > tmp/pseudogene_clustering/all_ppr_nt.fasta"
   ]
  },
  {
   "cell_type": "code",
   "execution_count": null,
   "id": "63dd1766-db72-4098-a438-a28cdf0ff1e9",
   "metadata": {},
   "outputs": [],
   "source": [
    "cd-hit-est -i tmp/pseudogene_clustering/all_ppr_nt.fasta -o tmp/pseudogene_clustering/all_ppr_nt_cd_hit.fasta -c 0.80"
   ]
  }
 ],
 "metadata": {
  "kernelspec": {
   "display_name": "Bash",
   "language": "bash",
   "name": "bash"
  },
  "language_info": {
   "codemirror_mode": "shell",
   "file_extension": ".sh",
   "mimetype": "text/x-sh",
   "name": "bash"
  }
 },
 "nbformat": 4,
 "nbformat_minor": 5
}
