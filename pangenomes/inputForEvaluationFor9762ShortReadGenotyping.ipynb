{
 "cells": [
  {
   "cell_type": "code",
   "execution_count": 1,
   "id": "982ae639-ec5b-40cb-b676-a12ab300e678",
   "metadata": {},
   "outputs": [
    {
     "name": "stdout",
     "output_type": "stream",
     "text": [
      "/u/gshirsekar/src/softwares/bcftools-1.16/bin/bcftools\n"
     ]
    }
   ],
   "source": [
    "which bcftools"
   ]
  },
  {
   "cell_type": "code",
   "execution_count": 3,
   "id": "03fed483-05e5-4800-8b1c-a81cda8c9658",
   "metadata": {},
   "outputs": [
    {
     "name": "stdout",
     "output_type": "stream",
     "text": [
      "[W::vcf_parse] Contig 'at9852_1_chr1:0-33329944' is not defined in the header. (Quick workaround: index the file with tabix.)\n"
     ]
    }
   ],
   "source": [
    "bcftools query -f '%CHROM\\t%POS[\\t%GT]\\n' /ptmp/gshirsekar/variation/tmp/1001genomeReads/test/9762.shortreads.on.no9762PGGB_genotyping.vcf \\\n",
    "> /ptmp/gshirsekar/variation/tmp/1001genomeReads/test/9762.shortreads.on.no9762PGGB_genotyping.vcf.genotypes.txt"
   ]
  },
  {
   "cell_type": "code",
   "execution_count": 5,
   "id": "cd5eb997-276e-450b-a44d-1d36bc54c81d",
   "metadata": {},
   "outputs": [
    {
     "name": "stdout",
     "output_type": "stream",
     "text": [
      "642827 /ptmp/gshirsekar/variation/tmp/1001genomeReads/test/9762.shortreads.on.no9762PGGB_genotyping.vcf.genotypes.txt\n"
     ]
    }
   ],
   "source": [
    "wc -l /ptmp/gshirsekar/variation/tmp/1001genomeReads/test/9762.shortreads.on.no9762PGGB_genotyping.vcf.genotypes.txt"
   ]
  },
  {
   "cell_type": "code",
   "execution_count": 6,
   "id": "11d1c85a-c3e0-4c12-b3fd-262456ff3a2d",
   "metadata": {},
   "outputs": [
    {
     "name": "stdout",
     "output_type": "stream",
     "text": [
      "[W::vcf_parse] Contig 'at9852_1_chr1:0-33329944' is not defined in the header. (Quick workaround: index the file with tabix.)\n"
     ]
    }
   ],
   "source": [
    "bcftools query -f '%CHROM\\t%POS[\\t%GT]\\n' /ptmp/gshirsekar/variation/tmp/1001genomeReads/test/9762_genotyping.vcf \\\n",
    "> /ptmp/gshirsekar/variation/tmp/1001genomeReads/test/9762_genotyping.vcf.genotypes.txt"
   ]
  },
  {
   "cell_type": "code",
   "execution_count": 7,
   "id": "a6975880-cc33-4553-ae68-0e930e084af5",
   "metadata": {},
   "outputs": [
    {
     "name": "stdout",
     "output_type": "stream",
     "text": [
      "647465 /ptmp/gshirsekar/variation/tmp/1001genomeReads/test/9762_genotyping.vcf.genotypes.txt\n"
     ]
    }
   ],
   "source": [
    "wc -l /ptmp/gshirsekar/variation/tmp/1001genomeReads/test/9762_genotyping.vcf.genotypes.txt"
   ]
  },
  {
   "cell_type": "code",
   "execution_count": null,
   "id": "15d21d1e-8a54-457b-bf43-72099dd00daf",
   "metadata": {},
   "outputs": [],
   "source": []
  }
 ],
 "metadata": {
  "kernelspec": {
   "display_name": "Bash",
   "language": "bash",
   "name": "bash"
  },
  "language_info": {
   "codemirror_mode": "shell",
   "file_extension": ".sh",
   "mimetype": "text/x-sh",
   "name": "bash"
  }
 },
 "nbformat": 4,
 "nbformat_minor": 5
}
