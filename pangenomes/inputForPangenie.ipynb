{
 "cells": [
  {
   "cell_type": "code",
   "execution_count": 1,
   "id": "43983e2c-f8f8-43ce-bcd0-14f643fa8927",
   "metadata": {},
   "outputs": [
    {
     "name": "stdout",
     "output_type": "stream",
     "text": [
      "(/u/gshirsekar/conda-envs/pggb) \n"
     ]
    },
    {
     "ename": "",
     "evalue": "1",
     "output_type": "error",
     "traceback": []
    }
   ],
   "source": [
    "source ~/.bashrc\n",
    "conda activate pggb"
   ]
  },
  {
   "cell_type": "markdown",
   "id": "cd1e35f0-e55e-4523-8374-a9fcfde116cf",
   "metadata": {},
   "source": [
    "## 1. build graph using PGGB\n",
    "We will use vcf output of the pipeline"
   ]
  },
  {
   "cell_type": "code",
   "execution_count": null,
   "id": "dd18c839-1096-4abc-8846-95b63611f595",
   "metadata": {},
   "outputs": [],
   "source": [
    "mkdir -p ../chr3_cluster\n",
    "\n",
    "while read line\n",
    "do \n",
    "    grep \"chr3\" \\\n",
    "    /ptmp/gshirsekar/dl20-annex-unfucked/graffite/input/${line}.scaffolds-v2.3.fasta.fai \\\n",
    "    |awk 'OFS=\"\\t\"{print $1, 0, $2}'  \\\n",
    "    > ../chr3_cluster/$line.chr3.bed\n",
    "done < /ptmp/gshirsekar/dl20-annex-unfucked/graffite/input/accessions.txt\n",
    "\n",
    "while read line\n",
    "do \n",
    "    bedtools getfasta -name \\\n",
    "    -fi /ptmp/gshirsekar/dl20-annex-unfucked/graffite/input/${line}.scaffolds-v2.3.fasta \\\n",
    "    -bed ../chr3_cluster/${line}.chr3.bed \\\n",
    "    -fo ../chr3_cluster/${line}.chr3.fasta\n",
    "done < /ptmp/gshirsekar/dl20-annex-unfucked/graffite/input/accessions.txt\n",
    "\n",
    "rm ../chr3_cluster/chr3.fasta\n",
    "cat ../chr3_cluster/*.chr3.fasta \\\n",
    "> ../chr3_cluster/chr3.fasta\n",
    "\n",
    "sed -i \"s/:://g\" ../chr3_cluster/chr3.fasta\n",
    "bgzip -f ../chr3_cluster/chr3.fasta\n",
    "samtools faidx ../chr3_cluster/chr3.fasta.gz\n",
    "\n",
    "## for whole chr3\n",
    "nice pggb \\\n",
    "-i ../chr3_cluster/chr3.fasta.gz \\\n",
    "-p 90 \\\n",
    "-s 5000 \\\n",
    "-n 18 \\\n",
    "-t 48 \\\n",
    "-k 47 \\\n",
    "-o ../chr3_cluster/out_p90_s5000 \\\n",
    "-V 'at9852_1_chr3:#' \\\n",
    "-M \\\n",
    "-S \\\n",
    "-m \\\n",
    "-D /ptmp/gshirsekar/variation/tmp\n"
   ]
  },
  {
   "cell_type": "markdown",
   "id": "af73a897-b31e-4328-906a-9c39052acb32",
   "metadata": {},
   "source": [
    "## 2. Convert haploid vcf into diploid\n",
    "- polars library is dependency "
   ]
  },
  {
   "cell_type": "code",
   "execution_count": null,
   "id": "d169653f-3890-4c5a-8526-d98699a72a72",
   "metadata": {
    "tags": []
   },
   "outputs": [],
   "source": [
    "python makeHaploidToPseudoDiploidVCF.py \\\n",
    "-i chr3_cluster/out_p90_s5000/chr3.fasta.gz.92da240.e34d4cd.b17acf2.smooth.final.at9852_1_chr3.vcf \\\n",
    "-o chr3_cluster/out_p90_s5000/chr3.fasta.gz.92da240.e34d4cd.b17acf2.smooth.final.at9852_1_chr3.pDiploid.vcf \\\n",
    "-s phased\n"
   ]
  },
  {
   "cell_type": "markdown",
   "id": "f3252fec-ab71-4810-8ed2-89c8fa1a1711",
   "metadata": {},
   "source": [
    "## 3. Run Pangenie\n",
    "IMP: you will need to give reference's chromosome specific fasta here\n",
    "IMP: I created separated pangenie environment (which is activated here)"
   ]
  },
  {
   "cell_type": "code",
   "execution_count": null,
   "id": "57b49efa-f526-4b67-8749-eabd16f46640",
   "metadata": {},
   "outputs": [],
   "source": [
    "conda activate pangenie\n",
    "mkdir -p testOutputGenotypesPGGB\n",
    "for file in *.fastq.gz\n",
    "do\n",
    "    echo \"procesing ${file}\"\n",
    "    gunzip $file\n",
    "    nice PanGenie \\\n",
    "    -i ${file%.gz} \\\n",
    "    -r at9852_1.onlyChr3.fasta \\\n",
    "    -v chr3_cluster/out_p90_s5000/chr3.fasta.gz.92da240.e34d4cd.b17acf2.smooth.final.at9852_1_chr3.pDiploid.vcf \\\n",
    "    -t 48 -j 48 \\\n",
    "    -o testOutputGenotypesPGGB/${file%.fastq.gz}_pggb \\\n",
    "    -s ${file%.fastq.gz} -u\n",
    "    \n",
    "    bgzip ${file%.gz}\n",
    "    echo \"bgzipped ${file%.gz}\"\n",
    "done"
   ]
  },
  {
   "cell_type": "raw",
   "id": "d269a7ca-4cd7-4ae8-a75e-f0ee92385b02",
   "metadata": {},
   "source": [
    "## RPP.bed\n",
    "at9852_1_chr3:1-26358531\t18964487\t18970513\tRPP1\n",
    "at9852_1_chr3:1-26358531\t19977060\t19979999\tAT3G46510\n",
    "at9852_1_chr3:1-26358531\t19983640\t19986611\tRPP13"
   ]
  },
  {
   "cell_type": "code",
   "execution_count": null,
   "id": "26670f56-b6b8-4ace-b505-284b4963b12b",
   "metadata": {},
   "outputs": [],
   "source": []
  }
 ],
 "metadata": {
  "kernelspec": {
   "display_name": "Bash",
   "language": "bash",
   "name": "bash"
  },
  "language_info": {
   "codemirror_mode": "shell",
   "file_extension": ".sh",
   "mimetype": "text/x-sh",
   "name": "bash"
  }
 },
 "nbformat": 4,
 "nbformat_minor": 5
}
