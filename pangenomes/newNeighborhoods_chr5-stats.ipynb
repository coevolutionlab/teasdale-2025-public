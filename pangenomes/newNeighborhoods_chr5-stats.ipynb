{
 "cells": [
  {
   "cell_type": "code",
   "execution_count": 1,
   "id": "0d1d63ac-1ff1-47cb-b6bf-3fb78d7179e0",
   "metadata": {},
   "outputs": [
    {
     "name": "stdout",
     "output_type": "stream",
     "text": [
      "(pggb_fatica) \n"
     ]
    },
    {
     "ename": "",
     "evalue": "1",
     "output_type": "error",
     "traceback": []
    }
   ],
   "source": [
    "conda activate pggb_fatica\n"
   ]
  },
  {
   "cell_type": "code",
   "execution_count": 2,
   "id": "4cd277c5-7d42-4852-a3ad-b961337284b4",
   "metadata": {
    "scrolled": true
   },
   "outputs": [
    {
     "name": "stdout",
     "output_type": "stream",
     "text": [
      "(pggb_fatica) \n"
     ]
    },
    {
     "ename": "",
     "evalue": "1",
     "output_type": "error",
     "traceback": []
    }
   ],
   "source": [
    "chromosomeName=$(odgi paths -L -i chr5_cluster.p95.s5000.n17.k47.G700-900-1100.at9852.pggbRecommended/chr5.fasta.gz.856e650.e34d4cd.a91cbe1.smooth.final.og|grep \"9852\")"
   ]
  },
  {
   "cell_type": "code",
   "execution_count": 3,
   "id": "616ee04e-eeac-42de-82e5-e9036b72d6c9",
   "metadata": {},
   "outputs": [
    {
     "name": "stdout",
     "output_type": "stream",
     "text": [
      "(pggb_fatica) \n"
     ]
    },
    {
     "ename": "",
     "evalue": "1",
     "output_type": "error",
     "traceback": []
    }
   ],
   "source": [
    "cat neighborhoods/final/final_all_neighborhoods.chr5.bed|grep \"at9852\"|sed \"s/at9852_1_chr5/${chromosomeName}/g\" > neighborhoods/all_neighborhoods_at9852.chr5.txt"
   ]
  },
  {
   "cell_type": "code",
   "execution_count": 4,
   "id": "dff2a97c-3be1-4439-afc6-ca8ea19c5077",
   "metadata": {},
   "outputs": [
    {
     "name": "stdout",
     "output_type": "stream",
     "text": [
      "at9852_1_chr5:0-31304789\t1365839\t1378989\tchr5_nh01\n",
      "at9852_1_chr5:0-31304789\t1595700\t1610351\tchr5_nh02\n",
      "at9852_1_chr5:0-31304789\t3617231\t3627255\tchr5_nh03\n",
      "at9852_1_chr5:0-31304789\t3963299\t3977231\tchr5_nh04\n",
      "at9852_1_chr5:0-31304789\t5847528\t5856861\tchr5_nh05\n",
      "at9852_1_chr5:0-31304789\t5931453\t6014321\tchr5_nh06\n",
      "at9852_1_chr5:0-31304789\t6097573\t6118803\tchr5_nh07\n",
      "at9852_1_chr5:0-31304789\t7551817\t7560418\tchr5_nh08\n",
      "at9852_1_chr5:0-31304789\t18125973\t18150101\tchr5_nh09\n",
      "at9852_1_chr5:0-31304789\t18876829\t18905706\tchr5_nh10\n",
      "at9852_1_chr5:0-31304789\t19658592\t19705463\tchr5_nh11\n",
      "at9852_1_chr5:0-31304789\t19881714\t19889487\tchr5_nh12\n",
      "at9852_1_chr5:0-31304789\t20320090\t20344136\tchr5_nh13\n",
      "at9852_1_chr5:0-31304789\t20665663\t20715304\tchr5_nh14\n",
      "at9852_1_chr5:0-31304789\t20925575\t20945552\tchr5_nh15\n",
      "at9852_1_chr5:0-31304789\t20985040\t21072744\tchr5_nh16\n",
      "at9852_1_chr5:0-31304789\t21433955\t21467103\tchr5_nh17\n",
      "at9852_1_chr5:0-31304789\t21772002\t21793738\tchr5_nh18\n",
      "at9852_1_chr5:0-31304789\t21872257\t21889357\tchr5_nh19\n",
      "at9852_1_chr5:0-31304789\t22237429\t22252674\tchr5_nh20\n",
      "at9852_1_chr5:0-31304789\t22417114\t22530280\tchr5_nh21\n",
      "at9852_1_chr5:0-31304789\t22583496\t22662950\tchr5_nh22\n",
      "at9852_1_chr5:0-31304789\t22723547\t22806749\tchr5_nh23\n",
      "at9852_1_chr5:0-31304789\t23086782\t23104170\tchr5_nh24\n",
      "at9852_1_chr5:0-31304789\t23173369\t23212130\tchr5_nh25\n",
      "at9852_1_chr5:0-31304789\t23507128\t23576991\tchr5_nh26\n",
      "at9852_1_chr5:0-31304789\t24043481\t24057572\tchr5_nh27\n",
      "at9852_1_chr5:0-31304789\t24094200\t24110339\tchr5_e_nh01\n",
      "at9852_1_chr5:0-31304789\t24239623\t24250064\tchr5_nh28\n",
      "at9852_1_chr5:0-31304789\t25267116\t25290769\tchr5_nh29\n",
      "at9852_1_chr5:0-31304789\t27059189\t27065184\tchr5_nh30\n",
      "at9852_1_chr5:0-31304789\t27828819\t27844908\tchr5_nh31\n",
      "at9852_1_chr5:0-31304789\t29596476\t29607068\tchr5_nh32\n",
      "at9852_1_chr5:0-31304789\t30901628\t31044856\tchr5_nh33\n",
      "(pggb_fatica) \n"
     ]
    },
    {
     "ename": "",
     "evalue": "1",
     "output_type": "error",
     "traceback": []
    }
   ],
   "source": [
    "cat neighborhoods/all_neighborhoods_at9852.chr5.txt"
   ]
  },
  {
   "cell_type": "code",
   "execution_count": 7,
   "id": "6b5a53b1-d908-45d1-bb1d-5476f533c907",
   "metadata": {},
   "outputs": [
    {
     "name": "stdout",
     "output_type": "stream",
     "text": [
      "(pggb_fatica) \n",
      "(pggb_fatica) \n",
      "(pggb_fatica) \n",
      "(pggb_fatica) \n",
      "(pggb_fatica) \n",
      "(pggb_fatica) \n",
      "(pggb_fatica) \n",
      "(pggb_fatica) \n",
      "(pggb_fatica) \n"
     ]
    },
    {
     "ename": "",
     "evalue": "1",
     "output_type": "error",
     "traceback": []
    }
   ],
   "source": [
    "mkdir -p neighborhoods/chr5/cluster_og\n",
    "mkdir -p neighborhoods/chr5/cluster_gfa\n",
    "mkdir -p neighborhoods/chr5/cluster_allPathCoordinates\n",
    "mkdir -p neighborhoods/chr5/cluster_viz\n",
    "mkdir -p neighborhoods/chr5/cluster_pav\n",
    "mkdir -p neighborhoods/chr5/cluster_similarity\n",
    "mkdir -p neighborhoods/chr5/cluster_jumps\n",
    "mkdir -p neighborhoods/chr5/cluster_heaps\n",
    "mkdir -p neighborhoods/chr5/cluster_panacus"
   ]
  },
  {
   "cell_type": "code",
   "execution_count": 8,
   "id": "32304c64-ede9-4274-b4bb-cfefff7f345e",
   "metadata": {},
   "outputs": [
    {
     "name": "stdout",
     "output_type": "stream",
     "text": [
      "(pggb_fatica) \n",
      "(pggb_fatica) \n",
      "(pggb_fatica) \n",
      "[odgi::viz] Path range to pangenomic range conversion.\n",
      "[odgi::viz] Visualizing the graph in the pangenomic range [2.81842e+06, 2.89723e+06]\n",
      "[odgi::viz] Binned mode\n",
      "[odgi::viz] bin width: 78.812\n",
      "[odgi::viz] image width: 1000\n",
      "\n",
      "(pggb_fatica) \n"
     ]
    }
   ],
   "source": [
    "inputOdgi=chr5_cluster.p95.s5000.n17.k47.G700-900-1100.at9852.pggbRecommended/chr5.fasta.gz.856e650.e34d4cd.a91cbe1.smooth.final.og\n",
    "outdir=neighborhoods/chr5\n",
    "\n",
    "while read a b c d; \n",
    "do   \n",
    "    r_path=$(echo \"${a}:${b}-${c}\")\n",
    "    r=${r_path}\n",
    "    nh=${d}\n",
    "    outprefix=${nh}.region\n",
    "\n",
    "    ########################## view the pangenome graph of the region ######################\n",
    "    odgi viz \\\n",
    "    -i $inputOdgi \\\n",
    "    -o $outdir/${outprefix}.bm.png \\\n",
    "    -x 1000 \\\n",
    "    -bm \\\n",
    "    -t 20 \\\n",
    "    -P \\\n",
    "    -r ${r}\n",
    "    ########################## Node Strandedness ############################################\n",
    "    odgi viz \\\n",
    "    -i $inputOdgi \\\n",
    "    -o $outdir/${outprefix}.z.png \\\n",
    "    -x 1000 \\\n",
    "    -z \\\n",
    "    -t 20 \\\n",
    "    -P \\\n",
    "    -r ${r}\n",
    "    \n",
    "    ############################################ extract the region ############################################\n",
    "    odgi extract \\\n",
    "    -i $inputOdgi \\\n",
    "    -r ${r} \\\n",
    "    --threads 24 -P \\\n",
    "    -d 100000 \\\n",
    "    -c 1  \\\n",
    "    -o $outdir/cluster_og/${outprefix}.og \n",
    "    \n",
    "    ########################### get the coordinates in all the accessions ########################################\n",
    "    odgi paths -L \\\n",
    "    -i $outdir/cluster_og/${outprefix}.og  \\\n",
    "    > $outdir/cluster_allPathCoordinates/${outprefix}.allPathsCoordinates.txt\n",
    "    \n",
    "    ########################### for bandage plot #################################################################\n",
    "    odgi view -i $outdir/cluster_og/${outprefix}.og  \\\n",
    "    -g > $outdir/cluster_gfa/${outprefix}.gfa\n",
    "    \n",
    "    ########################### Individual path-based PAV comparisons ############################################\n",
    "    while read line;\n",
    "    do\n",
    "        r=${line}\n",
    "        echo $r|cut -d ':' -f1,2 >tmp1\n",
    "        echo $r|cut -d ':' -f3|sed \"s/-/\\t/g\" >tmp2\n",
    "        paste tmp1 tmp2 > \\\n",
    "        $outdir/cluster_allPathCoordinates/${outprefix}.${line}.bed && rm tmp1 && rm tmp2\n",
    "        \n",
    "        odgi pav \\\n",
    "        -i $inputOdgi \\\n",
    "        -t 24 \\\n",
    "        -b $outdir/cluster_allPathCoordinates/${outprefix}.${line}.bed > \\\n",
    "        $outdir/cluster_pav/${outprefix}.${line}.pav.txt\n",
    "        \n",
    "    done < $outdir/cluster_allPathCoordinates/${outprefix}.allPathsCoordinates.txt\n",
    "    \n",
    "    ########################### Node Jumps in Neighborhood ######################################################\n",
    "    ## for each node how many jumps it has taken\n",
    "    cat $outdir/cluster_gfa/${outprefix}.gfa \\\n",
    "    |grep \"^L\" \\\n",
    "    |awk '{print $1,$2,$4,$4-$2}'\\\n",
    "    |sed \"s/ /\\t/g\" \\\n",
    "    > $outdir/cluster_jumps/${outprefix}.nodeJumps.txt\n",
    "    \n",
    "    \n",
    "    ########################### Node Degrees ############################################################\n",
    "    odgi \\\n",
    "    degree \\\n",
    "    -i $outdir/cluster_og/${outprefix}.og \\\n",
    "    -t 24 \\\n",
    "    -d \\\n",
    "    -r ${r} > $outdir/cluster_jumps/${outprefix}.nodeDegrees.txt\n",
    "    \n",
    "    \n",
    "    ########################### Node Depth ###############################################################\n",
    "    odgi \\\n",
    "    depth \\\n",
    "    -i $outdir/cluster_og/${outprefix}.og \\\n",
    "    -t 24 \\\n",
    "    -d \\\n",
    "    -r ${r} > $outdir/cluster_jumps/${outprefix}.nodeDepth.txt\n",
    "    \n",
    "    ########################### Distance between different Paths (accessions) for the region #############\n",
    "    odgi \\\n",
    "    similarity \\\n",
    "    -i $outdir/cluster_og/${outprefix}.og \\\n",
    "    -t 24 \\\n",
    "    -d > $outdir/cluster_similarity/${outprefix}.distance.txt\n",
    "    \n",
    "    ###### Pangenome Graph Growth  Heaps' Law #########\n",
    "\n",
    "    odgi sort \\\n",
    "    -i $outdir/cluster_og/${outprefix}.og \\\n",
    "    -p Y \\\n",
    "    -O \\\n",
    "    -t 24 \\\n",
    "    -P \\\n",
    "    -o $outdir/cluster_og/${outprefix}.optimized_sorted.og \n",
    "    \n",
    "    for i in {1..18}\n",
    "    do\n",
    "    seq -w 1 ${i} > $outdir/cluster_heaps/pathGroup${i}.groups.txt\n",
    "    done\n",
    "    \n",
    "    \n",
    "    for i in {1..18}\n",
    "    do\n",
    "    odgi paths -i $outdir/cluster_og/${outprefix}.optimized_sorted.og \\\n",
    "    -L|sort -R|head -n ${i} > $outdir/cluster_heaps/pathGroup${i}.txt \n",
    "    done\n",
    "    \n",
    "    for i in {1..18}\n",
    "    do\n",
    "    paste $outdir/cluster_heaps/pathGroup${i}.txt $outdir/cluster_heaps/pathGroup${i}.groups.txt > tmp\n",
    "    mv tmp $outdir/cluster_heaps/pathGroup${i}.txt\n",
    "    done\n",
    "    \n",
    "    for i in {1..18}\n",
    "    do\n",
    "        odgi \\\n",
    "        heaps \\\n",
    "        -i $outdir/cluster_og/${outprefix}.optimized_sorted.og \\\n",
    "        -t 24 \\\n",
    "        -S \\\n",
    "        -d 2 \\\n",
    "        -n 100 \\\n",
    "        -p $outdir/cluster_heaps/pathGroup${i}.txt \\\n",
    "        > $outdir/cluster_heaps/${outprefix}.pathGroup${i}.optimized_sorted.heaps.txt\n",
    "    done\n",
    "    \n",
    "    \n",
    "    ########################## Panacus ##############################\n",
    "    parentDir=$outdir\n",
    "    \n",
    "    conda activate /u/gshirsekar/conda-envs/pggb #panacus is installed here\n",
    "\n",
    "    grep '^P' ${parentDir}/cluster_gfa/${outprefix}.gfa|cut -f2|sed \"s/_.*//g\" > ${parentDir}/cluster_panacus/${outprefix}.groupNames.txt\n",
    "    grep '^P' ${parentDir}/cluster_gfa/${outprefix}.gfa|cut -f2> ${parentDir}/cluster_panacus/${outprefix}.pathNames.txt\n",
    "    \n",
    "    paste ${parentDir}/cluster_panacus/${outprefix}.pathNames.txt \\\n",
    "    ${parentDir}/cluster_panacus/${outprefix}.groupNames.txt \\\n",
    "    > ${parentDir}/cluster_panacus/${outprefix}.groups.txt\n",
    "    \n",
    "    sed -i \"s/_1_chr5/#1#chr5/g\" ${parentDir}/cluster_panacus/${outprefix}.pathNames.txt \n",
    "    sed -i \"s/_1_chr5/#1#chr5/g\" ${parentDir}/cluster_panacus/${outprefix}.groups.txt\n",
    "    \n",
    "    \n",
    "    cat ${parentDir}/cluster_panacus/${outprefix}.pathNames.txt |cut -f1,3 -d \":\" > \\\n",
    "    ${parentDir}/cluster_panacus/${outprefix}.newPathNames.txt\n",
    "    \n",
    "    paste ${parentDir}/cluster_panacus/${outprefix}.pathNames.txt \\\n",
    "    ${parentDir}/cluster_panacus/${outprefix}.newPathNames.txt > ${parentDir}/cluster_panacus/tmp\n",
    "    \n",
    "    while read a b ; do sed -i \"s/${a}/${b}/\" ${parentDir}/cluster_panacus/${outprefix}.pathNames.txt ; done < ${parentDir}/cluster_panacus/tmp\n",
    "    while read a b ; do sed -i \"s/${a}/${b}/\" ${parentDir}/cluster_panacus/${outprefix}.groups.txt ; done < ${parentDir}/cluster_panacus/tmp\n",
    "    cp ${parentDir}/cluster_gfa/${outprefix}.gfa ${parentDir}/cluster_panacus/${outprefix}.ed.gfa\n",
    "    sed -i \"s/_1_chr5/#1#chr5/g\" ${parentDir}/cluster_panacus/${outprefix}.ed.gfa\n",
    "    \n",
    "    while read a b ; do sed -i \"s/${a}/${b}/g\" ${parentDir}/cluster_panacus/${outprefix}.ed.gfa ; done < ${parentDir}/cluster_panacus/tmp \n",
    "    \n",
    "    panacus histgrowth -t24 -q 0,0.1,0.5,1 -l 1,2,3,17 -g ${parentDir}/cluster_panacus/${outprefix}.groups.txt \\\n",
    "    -s ${parentDir}/cluster_panacus/${outprefix}.pathNames.txt \\\n",
    "    ${parentDir}/cluster_panacus/${outprefix}.ed.gfa > ${parentDir}/cluster_panacus/${outprefix}.histgrowth.txt\n",
    "    \n",
    "    panacus-visualize -e ${parentDir}/cluster_panacus/${outprefix}.histgrowth.txt > ${parentDir}/cluster_panacus/${outprefix}.histgrowth.node.pdf\n",
    "\n",
    "done < neighborhoods/all_neighborhoods_at9852.chr5.txt\n",
    "\n",
    "\n",
    "\n"
   ]
  },
  {
   "cell_type": "code",
   "execution_count": null,
   "id": "ac1bd101-dd00-4858-892f-7adf2ebd5faa",
   "metadata": {},
   "outputs": [],
   "source": []
  }
 ],
 "metadata": {
  "kernelspec": {
   "display_name": "Bash",
   "language": "bash",
   "name": "bash"
  },
  "language_info": {
   "codemirror_mode": "shell",
   "file_extension": ".sh",
   "mimetype": "text/x-sh",
   "name": "bash"
  }
 },
 "nbformat": 4,
 "nbformat_minor": 5
}
