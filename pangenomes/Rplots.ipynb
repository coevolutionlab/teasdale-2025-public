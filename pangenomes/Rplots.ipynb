{
 "cells": [
  {
   "cell_type": "code",
   "execution_count": 1,
   "id": "c29868ef-447f-4a50-ba56-7994eeda4de6",
   "metadata": {},
   "outputs": [
    {
     "name": "stderr",
     "output_type": "stream",
     "text": [
      "Warning message:\n",
      "“package ‘ggplot2’ was built under R version 4.2.3”\n"
     ]
    }
   ],
   "source": [
    "library(ggplot2)"
   ]
  },
  {
   "cell_type": "code",
   "execution_count": 2,
   "id": "f742e98c-3992-4d05-88b4-07c2711e085a",
   "metadata": {},
   "outputs": [],
   "source": [
    "nodeLength<- read.table(\"chr3_cluster.p95.s5000.n17.k47.G700-900-1100.at9852.pggbRecommended/chr3_odgi_stats/chr3_node_length.txt\",\n",
    "                        col.names=c(\"node\", \"length\"))"
   ]
  },
  {
   "cell_type": "code",
   "execution_count": 3,
   "id": "1cd36c4b-9ded-4af6-901f-2719ff2e8010",
   "metadata": {},
   "outputs": [
    {
     "data": {
      "text/html": [
       "<table class=\"dataframe\">\n",
       "<caption>A data.frame: 6 × 2</caption>\n",
       "<thead>\n",
       "\t<tr><th></th><th scope=col>node</th><th scope=col>length</th></tr>\n",
       "\t<tr><th></th><th scope=col>&lt;int&gt;</th><th scope=col>&lt;int&gt;</th></tr>\n",
       "</thead>\n",
       "<tbody>\n",
       "\t<tr><th scope=row>1</th><td>1</td><td>9996</td></tr>\n",
       "\t<tr><th scope=row>2</th><td>2</td><td>   9</td></tr>\n",
       "\t<tr><th scope=row>3</th><td>3</td><td>   5</td></tr>\n",
       "\t<tr><th scope=row>4</th><td>4</td><td>   1</td></tr>\n",
       "\t<tr><th scope=row>5</th><td>5</td><td>   1</td></tr>\n",
       "\t<tr><th scope=row>6</th><td>6</td><td>  18</td></tr>\n",
       "</tbody>\n",
       "</table>\n"
      ],
      "text/latex": [
       "A data.frame: 6 × 2\n",
       "\\begin{tabular}{r|ll}\n",
       "  & node & length\\\\\n",
       "  & <int> & <int>\\\\\n",
       "\\hline\n",
       "\t1 & 1 & 9996\\\\\n",
       "\t2 & 2 &    9\\\\\n",
       "\t3 & 3 &    5\\\\\n",
       "\t4 & 4 &    1\\\\\n",
       "\t5 & 5 &    1\\\\\n",
       "\t6 & 6 &   18\\\\\n",
       "\\end{tabular}\n"
      ],
      "text/markdown": [
       "\n",
       "A data.frame: 6 × 2\n",
       "\n",
       "| <!--/--> | node &lt;int&gt; | length &lt;int&gt; |\n",
       "|---|---|---|\n",
       "| 1 | 1 | 9996 |\n",
       "| 2 | 2 |    9 |\n",
       "| 3 | 3 |    5 |\n",
       "| 4 | 4 |    1 |\n",
       "| 5 | 5 |    1 |\n",
       "| 6 | 6 |   18 |\n",
       "\n"
      ],
      "text/plain": [
       "  node length\n",
       "1 1    9996  \n",
       "2 2       9  \n",
       "3 3       5  \n",
       "4 4       1  \n",
       "5 5       1  \n",
       "6 6      18  "
      ]
     },
     "metadata": {},
     "output_type": "display_data"
    }
   ],
   "source": [
    "head(nodeLength)"
   ]
  },
  {
   "cell_type": "code",
   "execution_count": null,
   "id": "2eb46e93-6644-4607-ba9a-5552f42e5648",
   "metadata": {},
   "outputs": [],
   "source": [
    "ggplot(nodeLength, aes(x=node, y=length))+geom_line()+theme_bw()"
   ]
  },
  {
   "cell_type": "code",
   "execution_count": null,
   "id": "a12edfdf-811c-476e-8d28-7a3bbecc4b52",
   "metadata": {},
   "outputs": [],
   "source": []
  }
 ],
 "metadata": {
  "kernelspec": {
   "display_name": "R",
   "language": "R",
   "name": "ir"
  },
  "language_info": {
   "codemirror_mode": "r",
   "file_extension": ".r",
   "mimetype": "text/x-r-source",
   "name": "R",
   "pygments_lexer": "r",
   "version": "4.2.0"
  }
 },
 "nbformat": 4,
 "nbformat_minor": 5
}
