{
 "cells": [
  {
   "cell_type": "code",
   "execution_count": 1,
   "id": "511998a8-a44d-420a-8bf1-27b409375a1e",
   "metadata": {},
   "outputs": [],
   "source": [
    "while read a b \n",
    "do \n",
    "cat $b/*.stats |grep \"^TSTV\"|sed \"s/$/\\t$b/\"|sed \"s/.G700-900-1100.at9852//\"\n",
    "done < rpp4regionDepthPlots.list |awk 'OFS=\"\\t\"{print $9,$3,$4,$5}'>  rpp4regionPlots/tstv.txt"
   ]
  },
  {
   "cell_type": "code",
   "execution_count": 2,
   "id": "5262fd7f-534c-4f20-b89e-334fd4e59ac1",
   "metadata": {},
   "outputs": [],
   "source": [
    "while read a b\n",
    "do\n",
    "cat $b/*stats |grep \"^SN\"|cut -f4|datamash transpose\n",
    "done < rpp4regionDepthPlots.list > rpp4regionPlots/SN.txt"
   ]
  },
  {
   "cell_type": "code",
   "execution_count": null,
   "id": "770bec31-6efc-44bf-8c81-1050e21f1d10",
   "metadata": {},
   "outputs": [],
   "source": [
    "paste rpp4regionPlots/tstv.txt rpp4regionPlots/SN.txt |sed \"s/rpp4region.p//g\"|sed \"s/.s/\\t/g\"|sed \"s/.n18//g\"|sed \"s/.k/\\t/g\" \\\n"
   ]
  }
 ],
 "metadata": {
  "kernelspec": {
   "display_name": "Bash",
   "language": "bash",
   "name": "bash"
  },
  "language_info": {
   "codemirror_mode": "shell",
   "file_extension": ".sh",
   "mimetype": "text/x-sh",
   "name": "bash"
  }
 },
 "nbformat": 4,
 "nbformat_minor": 5
}
