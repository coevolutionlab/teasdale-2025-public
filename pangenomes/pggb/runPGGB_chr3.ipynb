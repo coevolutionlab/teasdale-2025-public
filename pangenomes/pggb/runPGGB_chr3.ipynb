{
 "cells": [
  {
   "cell_type": "markdown",
   "id": "a71e28f9-f1b1-4dbf-bc3f-b5826a9afa4f",
   "metadata": {},
   "source": [
    "## Activate the PGGB environment"
   ]
  },
  {
   "cell_type": "code",
   "execution_count": 1,
   "id": "e8494b1c-d66c-410c-8907-97af7821e7f6",
   "metadata": {},
   "outputs": [
    {
     "name": "stdout",
     "output_type": "stream",
     "text": [
      "(/u/gshirsekar/conda-envs/pggb) \n"
     ]
    },
    {
     "ename": "",
     "evalue": "1",
     "output_type": "error",
     "traceback": []
    }
   ],
   "source": [
    "source ~/.bashrc\n",
    "conda activate pggb"
   ]
  },
  {
   "cell_type": "markdown",
   "id": "41eaf8c1-7629-41ed-8403-0293d3ae7564",
   "metadata": {},
   "source": [
    "## Create bed file for Chromosome 3 (for all the 18 accessions)"
   ]
  },
  {
   "cell_type": "code",
   "execution_count": 3,
   "id": "240708c9-64b3-4a3c-8b62-13cda6b9501d",
   "metadata": {},
   "outputs": [
    {
     "name": "stdout",
     "output_type": "stream",
     "text": [
      "(/u/gshirsekar/conda-envs/pggb) \n"
     ]
    },
    {
     "ename": "",
     "evalue": "1",
     "output_type": "error",
     "traceback": []
    }
   ],
   "source": [
    "while read line\n",
    "do \n",
    "    grep \"chr3\" \\\n",
    "    /ptmp/gshirsekar/dl20-annex-unfucked/graffite/input/${line}.scaffolds-v2.3.fasta.fai \\\n",
    "    |awk 'OFS=\"\\t\"{print $1, 0, $2}'  \\\n",
    "    > ../chr3_cluster/$line.chr3.bed\n",
    "done < /ptmp/gshirsekar/dl20-annex-unfucked/graffite/input/accessions.txt"
   ]
  },
  {
   "cell_type": "markdown",
   "id": "6c752936-c1db-4d7b-8727-79b32dea03d9",
   "metadata": {},
   "source": [
    "## Create Chromosome specific fasta file"
   ]
  },
  {
   "cell_type": "code",
   "execution_count": 4,
   "id": "20ed27b2-386e-4aaa-9d19-cfdf0eb59830",
   "metadata": {},
   "outputs": [
    {
     "name": "stdout",
     "output_type": "stream",
     "text": [
      "Warning: the index file is older than the FASTA file.\n",
      "(/u/gshirsekar/conda-envs/pggb) \n"
     ]
    },
    {
     "ename": "",
     "evalue": "1",
     "output_type": "error",
     "traceback": []
    }
   ],
   "source": [
    "while read line\n",
    "do \n",
    "    bedtools getfasta -name \\\n",
    "    -fi /ptmp/gshirsekar/dl20-annex-unfucked/graffite/input/${line}.scaffolds-v2.3.fasta \\\n",
    "    -bed ../chr3_cluster/${line}.chr3.bed \\\n",
    "    -fo ../chr3_cluster/${line}.chr3.fasta\n",
    "done < /ptmp/gshirsekar/dl20-annex-unfucked/graffite/input/accessions.txt"
   ]
  },
  {
   "cell_type": "markdown",
   "id": "cdfc1f96-b71a-44f3-b203-eb747484f44f",
   "metadata": {},
   "source": [
    "## Concatenate chromosome 3 fasta files of 18 accessions"
   ]
  },
  {
   "cell_type": "code",
   "execution_count": null,
   "id": "ec4bd80c-85c4-425e-8cbe-503f75c1f8ed",
   "metadata": {},
   "outputs": [
    {
     "name": "stdout",
     "output_type": "stream",
     "text": [
      "rm: cannot remove '../chr3_cluster/chr3.fasta': No such file or directory\n",
      "(/u/gshirsekar/conda-envs/pggb) \n",
      "(/u/gshirsekar/conda-envs/pggb) \n",
      "(/u/gshirsekar/conda-envs/pggb) \n",
      "(/u/gshirsekar/conda-envs/pggb) \n"
     ]
    }
   ],
   "source": [
    "rm ../chr3_cluster/chr3.fasta\n",
    "cat ../chr3_cluster/*.chr3.fasta \\\n",
    "> ../chr3_cluster/chr3.fasta\n",
    "\n",
    "sed -i \"s/:://g\" ../chr3_cluster/chr3.fasta\n",
    "bgzip ../chr3_cluster/chr3.fasta\n",
    "samtools faidx ../chr3_cluster/chr3.fasta.gz"
   ]
  },
  {
   "cell_type": "markdown",
   "id": "b5a9e99b-46be-4f3c-b902-3e64fd74f7ff",
   "metadata": {},
   "source": [
    "## Run PGGB\n",
    "Arabidopsis specific parameters tested with nucmer can be found here (from the authors)\n",
    "\n",
    "https://github.com/pangenome/pggb-paper/blob/main/workflows/AllSpecies.md#all-species"
   ]
  },
  {
   "cell_type": "code",
   "execution_count": null,
   "id": "7882669e-7421-4f20-8588-e682b2e45639",
   "metadata": {},
   "outputs": [],
   "source": [
    "## for whole chr3\n",
    "nice pggb \\\n",
    "-i ../chr3_cluster/chr3.fasta.gz \\\n",
    "-p 90 \\\n",
    "-s 5000 \\\n",
    "-n 18 \\\n",
    "-t 48 \\\n",
    "-k 47 \\\n",
    "-o ../chr3_cluster/out_p90_s5000 \\\n",
    "-V 'at9852_1_chr3:#' \\\n",
    "-M \\\n",
    "-S \\\n",
    "-m \\\n",
    "-D /ptmp/gshirsekar/variation/tmp"
   ]
  }
 ],
 "metadata": {
  "kernelspec": {
   "display_name": "Bash",
   "language": "bash",
   "name": "bash"
  },
  "language_info": {
   "codemirror_mode": "shell",
   "file_extension": ".sh",
   "mimetype": "text/x-sh",
   "name": "bash"
  }
 },
 "nbformat": 4,
 "nbformat_minor": 5
}
