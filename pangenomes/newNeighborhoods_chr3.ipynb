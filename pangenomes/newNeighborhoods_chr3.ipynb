{
 "cells": [
  {
   "cell_type": "code",
   "execution_count": 1,
   "id": "0d1d63ac-1ff1-47cb-b6bf-3fb78d7179e0",
   "metadata": {},
   "outputs": [
    {
     "name": "stdout",
     "output_type": "stream",
     "text": [
      "(pggb_fatica) \n"
     ]
    },
    {
     "ename": "",
     "evalue": "1",
     "output_type": "error",
     "traceback": []
    }
   ],
   "source": [
    "conda activate pggb_fatica"
   ]
  },
  {
   "cell_type": "code",
   "execution_count": 8,
   "id": "4cd277c5-7d42-4852-a3ad-b961337284b4",
   "metadata": {
    "scrolled": true
   },
   "outputs": [
    {
     "name": "stdout",
     "output_type": "stream",
     "text": [
      "(pggb_fatica) \n"
     ]
    },
    {
     "ename": "",
     "evalue": "1",
     "output_type": "error",
     "traceback": []
    }
   ],
   "source": [
    "chromosomeName=$(odgi paths -L -i chr3_cluster.p95.s5000.n17.k47.G700-900-1100.at9852.pggbRecommended/chr3.fasta.gz.856e650.e34d4cd.a91cbe1.smooth.final.og|grep \"9852\")"
   ]
  },
  {
   "cell_type": "markdown",
   "id": "c145199f-e2f1-4942-ac63-d0f3e5862216",
   "metadata": {},
   "source": [
    "## get length of each node\n"
   ]
  },
  {
   "cell_type": "code",
   "execution_count": 4,
   "id": "f64ffd2d-30d5-44cb-8d7a-fb20e6b22bf7",
   "metadata": {},
   "outputs": [
    {
     "name": "stdout",
     "output_type": "stream",
     "text": [
      "(pggb_fatica) \n",
      "(pggb_fatica) \n",
      "(pggb_fatica) \n",
      "(pggb_fatica) \n",
      "(pggb_fatica) \n"
     ]
    },
    {
     "ename": "",
     "evalue": "1",
     "output_type": "error",
     "traceback": []
    }
   ],
   "source": [
    "odgi view \\\n",
    "-i chr3_cluster.p95.s5000.n17.k47.G700-900-1100.at9852.pggbRecommended/chr3.fasta.gz.856e650.e34d4cd.a91cbe1.smooth.final.og \\\n",
    "-g \\\n",
    "-t 24 \\\n",
    "| grep '^S' \\\n",
    "| awk -v OFS='\\t' '{print($2,length($3))}' \\\n",
    "> chr3_cluster.p95.s5000.n17.k47.G700-900-1100.at9852.pggbRecommended/chr3.fasta.gz.856e650.e34d4cd.a91cbe1.smooth.final.og.nodeLength.txt\n",
    "\n",
    "echo -e \"#node.id\\tlength\" > tmpHeader\n",
    "cat tmpHeader chr3_cluster.p95.s5000.n17.k47.G700-900-1100.at9852.pggbRecommended/chr3.fasta.gz.856e650.e34d4cd.a91cbe1.smooth.final.og.nodeLength.txt > tmp \n",
    "mv tmp chr3_cluster.p95.s5000.n17.k47.G700-900-1100.at9852.pggbRecommended/chr3.fasta.gz.856e650.e34d4cd.a91cbe1.smooth.final.og.nodeLength.txt"
   ]
  },
  {
   "cell_type": "markdown",
   "id": "97267ce7-0f02-467d-ae6f-5ec437dbb560",
   "metadata": {},
   "source": [
    "## get depth of each node"
   ]
  },
  {
   "cell_type": "code",
   "execution_count": 5,
   "id": "ab4a9538-73c4-4e88-882c-18bb111348bd",
   "metadata": {},
   "outputs": [
    {
     "name": "stdout",
     "output_type": "stream",
     "text": [
      "(pggb_fatica) \n"
     ]
    },
    {
     "ename": "",
     "evalue": "1",
     "output_type": "error",
     "traceback": []
    }
   ],
   "source": [
    "odgi \\\n",
    "    depth \\\n",
    "    -i chr3_cluster.p95.s5000.n17.k47.G700-900-1100.at9852.pggbRecommended/chr3.fasta.gz.856e650.e34d4cd.a91cbe1.smooth.final.og \\\n",
    "    -t 24 \\\n",
    "    -d \\\n",
    "    > chr3_cluster.p95.s5000.n17.k47.G700-900-1100.at9852.pggbRecommended/chr3.fasta.gz.856e650.e34d4cd.a91cbe1.smooth.final.og.nodeDepth.txt"
   ]
  },
  {
   "cell_type": "markdown",
   "id": "e7e12f2b-8e3d-4e69-b88d-26a1741bb9f8",
   "metadata": {},
   "source": [
    "## merge depth and length"
   ]
  },
  {
   "cell_type": "code",
   "execution_count": 6,
   "id": "d0682dc3-8350-4bdb-b306-514932ee2bac",
   "metadata": {},
   "outputs": [
    {
     "name": "stdout",
     "output_type": "stream",
     "text": [
      "input length :chr3_cluster.p95.s5000.n17.k47.G700-900-1100.at9852.pggbRecommended/chr3.fasta.gz.856e650.e34d4cd.a91cbe1.smooth.final.og.nodeLength.txt\n",
      "input depth : chr3_cluster.p95.s5000.n17.k47.G700-900-1100.at9852.pggbRecommended/chr3.fasta.gz.856e650.e34d4cd.a91cbe1.smooth.final.og.nodeDepth.txt\n",
      "output file : chr3_cluster.p95.s5000.n17.k47.G700-900-1100.at9852.pggbRecommended/chr3.fasta.gz.856e650.e34d4cd.a91cbe1.smooth.final.og.nodeDepthLength.txt\n",
      "\n",
      " time for processing input: 3.7636101245880127\n",
      "(pggb_fatica) \n"
     ]
    },
    {
     "ename": "",
     "evalue": "1",
     "output_type": "error",
     "traceback": []
    }
   ],
   "source": [
    "python mergeNodeLengthDepth.py \\\n",
    "-l chr3_cluster.p95.s5000.n17.k47.G700-900-1100.at9852.pggbRecommended/chr3.fasta.gz.856e650.e34d4cd.a91cbe1.smooth.final.og.nodeLength.txt \\\n",
    "-d chr3_cluster.p95.s5000.n17.k47.G700-900-1100.at9852.pggbRecommended/chr3.fasta.gz.856e650.e34d4cd.a91cbe1.smooth.final.og.nodeDepth.txt \\\n",
    "-o chr3_cluster.p95.s5000.n17.k47.G700-900-1100.at9852.pggbRecommended/chr3.fasta.gz.856e650.e34d4cd.a91cbe1.smooth.final.og.nodeDepthLength.txt"
   ]
  },
  {
   "cell_type": "code",
   "execution_count": 9,
   "id": "afe4596b-1d46-4973-8d58-48e726d7de62",
   "metadata": {},
   "outputs": [
    {
     "name": "stdout",
     "output_type": "stream",
     "text": [
      "(pggb_fatica) \n",
      "(pggb_fatica) \n",
      "(pggb_fatica) \n"
     ]
    },
    {
     "ename": "",
     "evalue": "1",
     "output_type": "error",
     "traceback": []
    }
   ],
   "source": [
    "## here input should be a bed file of leftmost NLRs start and rightmost NLRs stop for the cluster (group of NLRs)\n",
    "sed -i \"s/at9852_1_chr3/${chromosomeName}/g\" neighborhoods/chr3_compound.bed\n",
    "while read chromosome start stop compoundName\n",
    "do\n",
    "\n",
    "    odgi \\\n",
    "    position \\\n",
    "    -i chr3_cluster.p95.s5000.n17.k47.G700-900-1100.at9852.pggbRecommended/chr3.fasta.gz.856e650.e34d4cd.a91cbe1.smooth.final.og \\\n",
    "    -t 24 \\\n",
    "    -b <(echo -e \"${chromosome}\\t${start}\\t${stop}\") \\\n",
    "    -v \n",
    "\n",
    "done < neighborhoods/chr3_compound.bed |cut -f1,4,5|cut -d ',' -f1,3|sed 's/+//g'|sed 's/,//g' > neighborhoods/chr3_compound.graph.bed"
   ]
  },
  {
   "cell_type": "code",
   "execution_count": 51,
   "id": "9939af1b-9563-45a5-aa0e-edacb0458a2a",
   "metadata": {},
   "outputs": [
    {
     "name": "stdout",
     "output_type": "stream",
     "text": [
      "cat: tmp1: No such file or directory\n",
      "(pggb_fatica) \n"
     ]
    },
    {
     "ename": "",
     "evalue": "1",
     "output_type": "error",
     "traceback": []
    }
   ],
   "source": []
  },
  {
   "cell_type": "code",
   "execution_count": 10,
   "id": "c95ffac3-88ae-408d-84d2-a9297afcd692",
   "metadata": {},
   "outputs": [
    {
     "name": "stdout",
     "output_type": "stream",
     "text": [
      "(pggb_fatica) \n",
      "(pggb_fatica) \n",
      "(pggb_fatica) \n",
      "(pggb_fatica) \n"
     ]
    },
    {
     "ename": "",
     "evalue": "1",
     "output_type": "error",
     "traceback": []
    }
   ],
   "source": [
    "rm tmp*\n",
    "while read chromosome gstart gstop\n",
    "do\n",
    "    echo ${chromosome} >> tmp3\n",
    "    \n",
    "    # take fifth leftmost node with depth.uniq=18 and length greater than 100 as left anchor for the neighborhood\n",
    "    awk '($2>100)&&($4==18)' chr3_cluster.p95.s5000.n17.k47.G700-900-1100.at9852.pggbRecommended/chr3.fasta.gz.856e650.e34d4cd.a91cbe1.smooth.final.og.nodeDepthLength.txt|awk -v \"start=${gstart}\" '($1<start)'|tail -n 5|head -n1|cut -f1 >> tmp1\n",
    "    \n",
    "    # take fifth rightmost node with depth.uniq=18 and length greater than 100 as right anchor for the neighborhood\n",
    "    awk '($2>100)&&($4==18)' chr3_cluster.p95.s5000.n17.k47.G700-900-1100.at9852.pggbRecommended/chr3.fasta.gz.856e650.e34d4cd.a91cbe1.smooth.final.og.nodeDepthLength.txt|awk -v \"stop=${gstop}\" '($1>stop)'|head -n 5|tail -n1|cut -f1 >> tmp2\n",
    "\n",
    "done < neighborhoods/chr3_compound.graph.bed\n",
    "\n",
    "paste tmp3 tmp1 tmp2 > neighborhoods/chr3_neighborhood.graph.bed"
   ]
  },
  {
   "cell_type": "code",
   "execution_count": 12,
   "id": "a63efe28-4a47-4c97-a262-5c72c8c8b9e0",
   "metadata": {},
   "outputs": [
    {
     "name": "stdout",
     "output_type": "stream",
     "text": [
      "(pggb_fatica) \n",
      "(pggb_fatica) \n",
      "(pggb_fatica) \n",
      "(pggb_fatica) \n"
     ]
    },
    {
     "ename": "",
     "evalue": "1",
     "output_type": "error",
     "traceback": []
    }
   ],
   "source": [
    "rm tmp*\n",
    "while read chromosome nStart nStop\n",
    "do\n",
    "    echo ${chromosome} >> tmp3\n",
    "\n",
    "    odgi position \\\n",
    "    -i chr3_cluster.p95.s5000.n17.k47.G700-900-1100.at9852.pggbRecommended/chr3.fasta.gz.856e650.e34d4cd.a91cbe1.smooth.final.og \\\n",
    "    -t 24 \\\n",
    "    -g ${nStart} \\\n",
    "    -r ${chromosome} |tail -n +2|cut -d ',' -f4,5|sed \"s/,/\\t/g\"|cut -f1 >> tmp1\n",
    "\n",
    "    odgi position \\\n",
    "    -i chr3_cluster.p95.s5000.n17.k47.G700-900-1100.at9852.pggbRecommended/chr3.fasta.gz.856e650.e34d4cd.a91cbe1.smooth.final.og \\\n",
    "    -t 24 \\\n",
    "    -g ${nStop} \\\n",
    "    -r ${chromosome} |tail -n +2|cut -d ',' -f4,5|sed \"s/,/\\t/g\"|cut -f1 >> tmp2\n",
    "done < neighborhoods/chr3_neighborhood.graph.bed\n",
    "\n",
    "paste tmp3 tmp1 tmp2 > neighborhoods/chr3_neighborhood.coordinates.bed"
   ]
  },
  {
   "cell_type": "code",
   "execution_count": 13,
   "id": "32304c64-ede9-4274-b4bb-cfefff7f345e",
   "metadata": {
    "collapsed": true,
    "jupyter": {
     "outputs_hidden": true
    }
   },
   "outputs": [
    {
     "name": "stdout",
     "output_type": "stream",
     "text": [
      "(pggb_fatica) \n",
      "(pggb_fatica) \n",
      "(pggb_fatica) \n",
      "[odgi::viz] Path range to pangenomic range conversion.\n",
      "[odgi::viz] Visualizing the graph in the pangenomic range [1.13402e+06, 1.1655e+06]\n",
      "[odgi::viz] Binned mode\n",
      "[odgi::viz] bin width: 31.486\n",
      "[odgi::viz] image width: 1000\n",
      "[odgi::viz] Path range to pangenomic range conversion.\n",
      "[odgi::viz] Visualizing the graph in the pangenomic range [1.13402e+06, 1.1655e+06]\n",
      "[odgi::viz] Binned mode\n",
      "[odgi::viz] bin width: 31.486\n",
      "[odgi::viz] image width: 1000\n",
      "[odgi::extract] expansion and adding connecting edges\n",
      "[odgi::extract] extracting path ranges 100.00% @ 1.53e+01/s elapsed: 00:00:00:00 remain: 00:00:00:00\n",
      "[odgi::extract] merge subpaths closer than 100000 bps - iteration 1 (max 3) 100.00% @ 4.45e+00/s elapsed: 00:00:00:04 remain: 00:00:00:00\n",
      "[odgi::extract] merge subpaths closer than 100000 bps - iteration 2 (max 3) 100.00% @ 5.03e+00/s elapsed: 00:00:00:03 remain: 00:00:00:00\n",
      "[odgi::extract] adding connecting edges 100.00% @ 6.35e+03/s elapsed: 00:00:00:00 remain: 00:00:00:00\n",
      "[odgi::extract] adding subpaths 100.00% @ 7.76e+00/s elapsed: 00:00:00:06 remain: 00:00:00:00\n",
      "[odgi::extract] checking missing edges and empty subpaths 100.00% @ 7.18e+01/s elapsed: 00:00:00:00 remain: 00:00:00:00\n",
      "[odgi::viz] Path range to pangenomic range conversion.\n",
      "[odgi::viz] Visualizing the graph in the pangenomic range [1.30471e+06, 1.32312e+06]\n",
      "[odgi::viz] Binned mode\n",
      "[odgi::viz] bin width: 18.407\n",
      "[odgi::viz] image width: 1000\n",
      "[odgi::viz] Path range to pangenomic range conversion.\n",
      "[odgi::viz] Visualizing the graph in the pangenomic range [1.30471e+06, 1.32312e+06]\n",
      "[odgi::viz] Binned mode\n",
      "[odgi::viz] bin width: 18.407\n",
      "[odgi::viz] image width: 1000\n",
      "[odgi::extract] expansion and adding connecting edges\n",
      "[odgi::extract] extracting path ranges 100.00% @ 1.84e+01/s elapsed: 00:00:00:00 remain: 00:00:00:00\n",
      "[odgi::extract] merge subpaths closer than 100000 bps - iteration 1 (max 3) 100.00% @ 2.68e+00/s elapsed: 00:00:00:06 remain: 00:00:00:00\n",
      "[odgi::extract] merge subpaths closer than 100000 bps - iteration 2 (max 3) 100.00% @ 4.56e+00/s elapsed: 00:00:00:03 remain: 00:00:00:00\n",
      "[odgi::extract] adding connecting edges 100.00% @ 3.11e+03/s elapsed: 00:00:00:00 remain: 00:00:00:00\n",
      "[odgi::extract] adding subpaths 100.00% @ 7.33e+00/s elapsed: 00:00:00:06 remain: 00:00:00:00\n",
      "[odgi::extract] checking missing edges and empty subpaths 100.00% @ 7.16e+01/s elapsed: 00:00:00:00 remain: 00:00:00:00\n",
      "[odgi::viz] Path range to pangenomic range conversion.\n",
      "[odgi::viz] Visualizing the graph in the pangenomic range [2.80759e+06, 2.81969e+06]\n",
      "[odgi::viz] Binned mode\n",
      "[odgi::viz] bin width: 12.105\n",
      "[odgi::viz] image width: 1000\n",
      "[odgi::viz] Path range to pangenomic range conversion.\n",
      "[odgi::viz] Visualizing the graph in the pangenomic range [2.80759e+06, 2.81969e+06]\n",
      "[odgi::viz] Binned mode\n",
      "[odgi::viz] bin width: 12.105\n",
      "[odgi::viz] image width: 1000\n",
      "[odgi::extract] expansion and adding connecting edges\n",
      "[odgi::extract] extracting path ranges 100.00% @ 1.27e+01/s elapsed: 00:00:00:00 remain: 00:00:00:00\n",
      "[odgi::extract] merge subpaths closer than 100000 bps - iteration 1 (max 3) 100.00% @ 5.06e+00/s elapsed: 00:00:00:03 remain: 00:00:00:00\n",
      "[odgi::extract] merge subpaths closer than 100000 bps - iteration 2 (max 3) 100.00% @ 5.51e+00/s elapsed: 00:00:00:03 remain: 00:00:00:00\n",
      "[odgi::extract] adding connecting edges 100.00% @ 3.13e+03/s elapsed: 00:00:00:00 remain: 00:00:00:00\n",
      "[odgi::extract] adding subpaths 100.00% @ 8.51e+00/s elapsed: 00:00:00:05 remain: 00:00:00:00\n",
      "[odgi::extract] checking missing edges and empty subpaths 100.00% @ 7.17e+01/s elapsed: 00:00:00:00 remain: 00:00:00:00\n",
      "[odgi::viz] Path range to pangenomic range conversion.\n",
      "[odgi::viz] Visualizing the graph in the pangenomic range [5.97008e+06, 5.98644e+06]\n",
      "[odgi::viz] Binned mode\n",
      "[odgi::viz] bin width: 16.371\n",
      "[odgi::viz] image width: 1000\n",
      "[odgi::viz] Path range to pangenomic range conversion.\n",
      "[odgi::viz] Visualizing the graph in the pangenomic range [5.97008e+06, 5.98644e+06]\n",
      "[odgi::viz] Binned mode\n",
      "[odgi::viz] bin width: 16.371\n",
      "[odgi::viz] image width: 1000\n",
      "[odgi::extract] expansion and adding connecting edges\n",
      "[odgi::extract] extracting path ranges 100.00% @ 1.13e+01/s elapsed: 00:00:00:00 remain: 00:00:00:00\n",
      "[odgi::extract] merge subpaths closer than 100000 bps - iteration 1 (max 3) 100.00% @ 4.75e+00/s elapsed: 00:00:00:03 remain: 00:00:00:00\n",
      "[odgi::extract] merge subpaths closer than 100000 bps - iteration 2 (max 3) 100.00% @ 3.07e+00/s elapsed: 00:00:00:05 remain: 00:00:00:00\n",
      "[odgi::extract] adding connecting edges 100.00% @ 5.70e+03/s elapsed: 00:00:00:00 remain: 00:00:00:00\n",
      "[odgi::extract] adding subpaths 100.00% @ 1.54e+00/s elapsed: 00:00:00:33 remain: 00:00:00:00\n",
      "[odgi::extract] checking missing edges and empty subpaths 100.00% @ 7.17e+01/s elapsed: 00:00:00:00 remain: 00:00:00:00\n",
      "[odgi::viz] Path range to pangenomic range conversion.\n",
      "[odgi::viz] Visualizing the graph in the pangenomic range [6.53789e+06, 6.54159e+06]\n",
      "[odgi::viz] Binned mode\n",
      "[odgi::viz] bin width: 3.699\n",
      "[odgi::viz] image width: 1000\n",
      "[odgi::viz] Path range to pangenomic range conversion.\n",
      "[odgi::viz] Visualizing the graph in the pangenomic range [6.53789e+06, 6.54159e+06]\n",
      "[odgi::viz] Binned mode\n",
      "[odgi::viz] bin width: 3.699\n",
      "[odgi::viz] image width: 1000\n",
      "[odgi::extract] expansion and adding connecting edges\n",
      "[odgi::extract] extracting path ranges 100.00% @ 1.10e+01/s elapsed: 00:00:00:00 remain: 00:00:00:00\n",
      "[odgi::extract] merge subpaths closer than 100000 bps - iteration 1 (max 3) 100.00% @ 5.01e+00/s elapsed: 00:00:00:03 remain: 00:00:00:00\n",
      "[odgi::extract] merge subpaths closer than 100000 bps - iteration 2 (max 3) 100.00% @ 5.01e+00/s elapsed: 00:00:00:03 remain: 00:00:00:00\n",
      "[odgi::extract] adding connecting edges 100.00% @ 4.46e+02/s elapsed: 00:00:00:00 remain: 00:00:00:00\n",
      "[odgi::extract] adding subpaths 100.00% @ 6.45e+00/s elapsed: 00:00:00:07 remain: 00:00:00:00\n",
      "[odgi::extract] checking missing edges and empty subpaths 100.00% @ 7.18e+01/s elapsed: 00:00:00:00 remain: 00:00:00:00\n",
      "[odgi::viz] Path range to pangenomic range conversion.\n",
      "[odgi::viz] Visualizing the graph in the pangenomic range [1.15811e+07, 1.16012e+07]\n",
      "[odgi::viz] Binned mode\n",
      "[odgi::viz] bin width: 20.151\n",
      "[odgi::viz] image width: 1000\n",
      "[odgi::viz] Path range to pangenomic range conversion.\n",
      "[odgi::viz] Visualizing the graph in the pangenomic range [1.15811e+07, 1.16012e+07]\n",
      "[odgi::viz] Binned mode\n",
      "[odgi::viz] bin width: 20.151\n",
      "[odgi::viz] image width: 1000\n",
      "[odgi::extract] expansion and adding connecting edges\n",
      "[odgi::extract] extracting path ranges 100.00% @ 7.89e+00/s elapsed: 00:00:00:00 remain: 00:00:00:00\n",
      "[odgi::extract] merge subpaths closer than 100000 bps - iteration 1 (max 3) 100.00% @ 4.72e+00/s elapsed: 00:00:00:03 remain: 00:00:00:00\n",
      "[odgi::extract] merge subpaths closer than 100000 bps - iteration 2 (max 3) 100.00% @ 5.08e+00/s elapsed: 00:00:00:03 remain: 00:00:00:00\n",
      "[odgi::extract] adding connecting edges 100.00% @ 8.00e+03/s elapsed: 00:00:00:00 remain: 00:00:00:00\n",
      "[odgi::extract] adding subpaths 100.00% @ 8.33e+00/s elapsed: 00:00:00:06 remain: 00:00:00:00\n",
      "[odgi::extract] checking missing edges and empty subpaths 100.00% @ 7.17e+01/s elapsed: 00:00:00:00 remain: 00:00:00:00\n",
      "[odgi::viz] Path range to pangenomic range conversion.\n",
      "[odgi::viz] Visualizing the graph in the pangenomic range [1.22708e+07, 1.22792e+07]\n",
      "[odgi::viz] Binned mode\n",
      "[odgi::viz] bin width: 8.421\n",
      "[odgi::viz] image width: 1000\n",
      "[odgi::viz] Path range to pangenomic range conversion.\n",
      "[odgi::viz] Visualizing the graph in the pangenomic range [1.22708e+07, 1.22792e+07]\n",
      "[odgi::viz] Binned mode\n",
      "[odgi::viz] bin width: 8.421\n",
      "[odgi::viz] image width: 1000\n",
      "[odgi::extract] expansion and adding connecting edges\n",
      "[odgi::extract] extracting path ranges 100.00% @ 8.43e+00/s elapsed: 00:00:00:00 remain: 00:00:00:00\n",
      "[odgi::extract] merge subpaths closer than 100000 bps - iteration 1 (max 3) 100.00% @ 4.61e+00/s elapsed: 00:00:00:03 remain: 00:00:00:00\n",
      "[odgi::extract] merge subpaths closer than 100000 bps - iteration 2 (max 3) 100.00% @ 4.82e+00/s elapsed: 00:00:00:03 remain: 00:00:00:00\n",
      "[odgi::extract] adding connecting edges 100.00% @ 2.99e+03/s elapsed: 00:00:00:00 remain: 00:00:00:00\n",
      "[odgi::extract] adding subpaths 100.00% @ 6.20e+00/s elapsed: 00:00:00:08 remain: 00:00:00:00\n",
      "[odgi::extract] checking missing edges and empty subpaths 100.00% @ 7.18e+01/s elapsed: 00:00:00:00 remain: 00:00:00:00\n",
      "[odgi::viz] Path range to pangenomic range conversion.\n",
      "[odgi::viz] Visualizing the graph in the pangenomic range [1.53452e+07, 1.56371e+07]\n",
      "[odgi::viz] Binned mode\n",
      "[odgi::viz] bin width: 291.954\n",
      "[odgi::viz] image width: 1000\n",
      "[odgi::viz] Path range to pangenomic range conversion.\n",
      "[odgi::viz] Visualizing the graph in the pangenomic range [1.53452e+07, 1.56371e+07]\n",
      "[odgi::viz] Binned mode\n",
      "[odgi::viz] bin width: 291.954\n",
      "[odgi::viz] image width: 1000\n",
      "[odgi::extract] expansion and adding connecting edges\n",
      "[odgi::extract] extracting path ranges 100.00% @ 7.91e+00/s elapsed: 00:00:00:00 remain: 00:00:00:00\n",
      "[odgi::extract] merge subpaths closer than 100000 bps - iteration 1 (max 3) 100.00% @ 4.42e+00/s elapsed: 00:00:00:04 remain: 00:00:00:00\n",
      "[odgi::extract] merge subpaths closer than 100000 bps - iteration 2 (max 3) 100.00% @ 3.24e+00/s elapsed: 00:00:00:05 remain: 00:00:00:00\n",
      "[odgi::extract] adding connecting edges 100.00% @ 9.39e+04/s elapsed: 00:00:00:00 remain: 00:00:00:00\n",
      "[odgi::extract] adding subpaths 100.00% @ 5.49e+00/s elapsed: 00:00:00:09 remain: 00:00:00:00\n",
      "[odgi::extract] checking missing edges and empty subpaths 100.00% @ 7.12e+01/s elapsed: 00:00:00:00 remain: 00:00:00:00\n",
      "[odgi::viz] Path range to pangenomic range conversion.\n",
      "[odgi::viz] Visualizing the graph in the pangenomic range [4.01539e+07, 4.04359e+07]\n",
      "[odgi::viz] Binned mode\n",
      "[odgi::viz] bin width: 282.021\n",
      "[odgi::viz] image width: 1000\n",
      "[odgi::viz] Path range to pangenomic range conversion.\n",
      "[odgi::viz] Visualizing the graph in the pangenomic range [4.01539e+07, 4.04359e+07]\n",
      "[odgi::viz] Binned mode\n",
      "[odgi::viz] bin width: 282.021\n",
      "[odgi::viz] image width: 1000\n",
      "[odgi::extract] expansion and adding connecting edges\n",
      "[odgi::extract] extracting path ranges 100.00% @ 2.45e+00/s elapsed: 00:00:00:00 remain: 00:00:00:00\n",
      "[odgi::extract] merge subpaths closer than 100000 bps - iteration 1 (max 3) 100.00% @ 4.38e+00/s elapsed: 00:00:00:04 remain: 00:00:00:00\n",
      "[odgi::extract] merge subpaths closer than 100000 bps - iteration 2 (max 3) 100.00% @ 4.52e+00/s elapsed: 00:00:00:03 remain: 00:00:00:00\n",
      "[odgi::extract] adding connecting edges 100.00% @ 8.47e+04/s elapsed: 00:00:00:00 remain: 00:00:00:00\n",
      "[odgi::extract] adding subpaths 100.00% @ 7.55e+00/s elapsed: 00:00:00:06 remain: 00:00:00:00\n",
      "[odgi::extract] checking missing edges and empty subpaths 100.00% @ 7.16e+01/s elapsed: 00:00:00:00 remain: 00:00:00:00\n",
      "[odgi::viz] Path range to pangenomic range conversion.\n",
      "[odgi::viz] Visualizing the graph in the pangenomic range [4.01823e+07, 4.33147e+07]\n",
      "[odgi::viz] Binned mode\n",
      "[odgi::viz] bin width: 3132.4\n",
      "[odgi::viz] image width: 1000\n",
      "[odgi::viz] Path range to pangenomic range conversion.\n",
      "[odgi::viz] Visualizing the graph in the pangenomic range [4.01823e+07, 4.33147e+07]\n",
      "[odgi::viz] Binned mode\n",
      "[odgi::viz] bin width: 3132.4\n",
      "[odgi::viz] image width: 1000\n",
      "[odgi::extract] expansion and adding connecting edges\n",
      "[odgi::extract] extracting path ranges 100.00% @ 1.98e+00/s elapsed: 00:00:00:00 remain: 00:00:00:00\n",
      "[odgi::extract] merge subpaths closer than 100000 bps - iteration 1 (max 3) 100.00% @ 4.70e+00/s elapsed: 00:00:00:03 remain: 00:00:00:00\n",
      "[odgi::extract] merge subpaths closer than 100000 bps - iteration 2 (max 3) 100.00% @ 5.26e+00/s elapsed: 00:00:00:03 remain: 00:00:00:00\n",
      "[odgi::extract] adding connecting edges 100.00% @ 3.09e+05/s elapsed: 00:00:00:00 remain: 00:00:00:00\n",
      "[odgi::extract] adding subpaths 100.00% @ 6.20e+00/s elapsed: 00:00:00:08 remain: 00:00:00:00\n",
      "[odgi::extract] checking missing edges and empty subpaths 100.00% @ 7.06e+01/s elapsed: 00:00:00:00 remain: 00:00:00:00\n",
      "[odgi::viz] Path range to pangenomic range conversion.\n",
      "[odgi::viz] Visualizing the graph in the pangenomic range [4.36492e+07, 4.3873e+07]\n",
      "[odgi::viz] Binned mode\n",
      "[odgi::viz] bin width: 223.825\n",
      "[odgi::viz] image width: 1000\n",
      "[odgi::viz] Path range to pangenomic range conversion.\n",
      "[odgi::viz] Visualizing the graph in the pangenomic range [4.36492e+07, 4.3873e+07]\n",
      "[odgi::viz] Binned mode\n",
      "[odgi::viz] bin width: 223.825\n",
      "[odgi::viz] image width: 1000\n",
      "[odgi::extract] expansion and adding connecting edges\n",
      "[odgi::extract] extracting path ranges 100.00% @ 1.80e+00/s elapsed: 00:00:00:00 remain: 00:00:00:00\n",
      "[odgi::extract] merge subpaths closer than 100000 bps - iteration 1 (max 3) 100.00% @ 1.59e+00/s elapsed: 00:00:00:11 remain: 00:00:00:00\n",
      "[odgi::extract] merge subpaths closer than 100000 bps - iteration 2 (max 3) 100.00% @ 1.33e+00/s elapsed: 00:00:00:13 remain: 00:00:00:00\n",
      "[odgi::extract] adding connecting edges 100.00% @ 7.00e+04/s elapsed: 00:00:00:00 remain: 00:00:00:00\n",
      "[odgi::extract] adding subpaths 100.00% @ 3.02e+00/s elapsed: 00:00:00:16 remain: 00:00:00:00\n",
      "[odgi::extract] checking missing edges and empty subpaths 100.00% @ 7.15e+01/s elapsed: 00:00:00:00 remain: 00:00:00:00\n",
      "[odgi::viz] Path range to pangenomic range conversion.\n",
      "[odgi::viz] Visualizing the graph in the pangenomic range [4.53552e+07, 5.21231e+07]\n",
      "[odgi::viz] Binned mode\n",
      "[odgi::viz] bin width: 6767.95\n",
      "[odgi::viz] image width: 1000\n",
      "[odgi::viz] Path range to pangenomic range conversion.\n",
      "[odgi::viz] Visualizing the graph in the pangenomic range [4.53552e+07, 5.21231e+07]\n",
      "[odgi::viz] Binned mode\n",
      "[odgi::viz] bin width: 6767.95\n",
      "[odgi::viz] image width: 1000\n",
      "[odgi::extract] expansion and adding connecting edges\n",
      "[odgi::extract] extracting path ranges 100.00% @ 1.89e+00/s elapsed: 00:00:00:00 remain: 00:00:00:00\n",
      "[odgi::extract] merge subpaths closer than 100000 bps - iteration 1 (max 3) 100.00% @ 3.10e+00/s elapsed: 00:00:00:05 remain: 00:00:00:00\n",
      "[odgi::extract] merge subpaths closer than 100000 bps - iteration 2 (max 3) 100.00% @ 5.53e+00/s elapsed: 00:00:00:03 remain: 00:00:00:00\n",
      "[odgi::extract] merge subpaths closer than 100000 bps - iteration 3 (max 3) 100.00% @ 4.75e+00/s elapsed: 00:00:00:03 remain: 00:00:00:00\n",
      "[odgi::extract] adding connecting edges 100.00% @ 8.01e+04/s elapsed: 00:00:00:00 remain: 00:00:00:00\n",
      "[odgi::extract] adding subpaths 100.00% @ 4.62e+00/s elapsed: 00:00:00:11 remain: 00:00:00:00\n",
      "[odgi::extract] checking missing edges and empty subpaths 100.00% @ 7.15e+01/s elapsed: 00:00:00:00 remain: 00:00:00:00\n",
      "[odgi::viz] Path range to pangenomic range conversion.\n",
      "[odgi::viz] Visualizing the graph in the pangenomic range [4.62134e+07, 4.6271e+07]\n",
      "[odgi::viz] Binned mode\n",
      "[odgi::viz] bin width: 57.604\n",
      "[odgi::viz] image width: 1000\n",
      "[odgi::viz] Path range to pangenomic range conversion.\n",
      "[odgi::viz] Visualizing the graph in the pangenomic range [4.62134e+07, 4.6271e+07]\n",
      "[odgi::viz] Binned mode\n",
      "[odgi::viz] bin width: 57.604\n",
      "[odgi::viz] image width: 1000\n",
      "[odgi::extract] expansion and adding connecting edges\n",
      "[odgi::extract] extracting path ranges 100.00% @ 1.65e+00/s elapsed: 00:00:00:00 remain: 00:00:00:00\n",
      "[odgi::extract] merge subpaths closer than 100000 bps - iteration 1 (max 3) 100.00% @ 4.78e+00/s elapsed: 00:00:00:03 remain: 00:00:00:00\n",
      "[odgi::extract] merge subpaths closer than 100000 bps - iteration 2 (max 3) 100.00% @ 5.22e+00/s elapsed: 00:00:00:03 remain: 00:00:00:00\n",
      "[odgi::extract] adding connecting edges 100.00% @ 2.04e+04/s elapsed: 00:00:00:00 remain: 00:00:00:00\n",
      "[odgi::extract] adding subpaths 100.00% @ 6.11e+00/s elapsed: 00:00:00:08 remain: 00:00:00:00\n",
      "[odgi::extract] checking missing edges and empty subpaths 100.00% @ 7.18e+01/s elapsed: 00:00:00:00 remain: 00:00:00:00\n",
      "[odgi::viz] Path range to pangenomic range conversion.\n",
      "[odgi::viz] Visualizing the graph in the pangenomic range [4.64988e+07, 4.6509e+07]\n",
      "[odgi::viz] Binned mode\n",
      "[odgi::viz] bin width: 10.21\n",
      "[odgi::viz] image width: 1000\n",
      "[odgi::viz] Path range to pangenomic range conversion.\n",
      "[odgi::viz] Visualizing the graph in the pangenomic range [4.64988e+07, 4.6509e+07]\n",
      "[odgi::viz] Binned mode\n",
      "[odgi::viz] bin width: 10.21\n",
      "[odgi::viz] image width: 1000\n",
      "[odgi::extract] expansion and adding connecting edges\n",
      "[odgi::extract] extracting path ranges 100.00% @ 1.62e+00/s elapsed: 00:00:00:00 remain: 00:00:00:00\n",
      "[odgi::extract] merge subpaths closer than 100000 bps - iteration 1 (max 3) 100.00% @ 3.23e+00/s elapsed: 00:00:00:05 remain: 00:00:00:00\n",
      "[odgi::extract] merge subpaths closer than 100000 bps - iteration 2 (max 3) 100.00% @ 5.63e+00/s elapsed: 00:00:00:03 remain: 00:00:00:00\n",
      "[odgi::extract] adding connecting edges 100.00% @ 1.40e+03/s elapsed: 00:00:00:00 remain: 00:00:00:00\n",
      "[odgi::extract] adding subpaths 100.00% @ 8.27e+00/s elapsed: 00:00:00:06 remain: 00:00:00:00\n",
      "[odgi::extract] checking missing edges and empty subpaths 100.00% @ 7.18e+01/s elapsed: 00:00:00:00 remain: 00:00:00:00\n",
      "[odgi::viz] Path range to pangenomic range conversion.\n",
      "[odgi::viz] Visualizing the graph in the pangenomic range [4.67067e+07, 4.67215e+07]\n",
      "[odgi::viz] Binned mode\n",
      "[odgi::viz] bin width: 14.85\n",
      "[odgi::viz] image width: 1000\n",
      "[odgi::viz] Path range to pangenomic range conversion.\n",
      "[odgi::viz] Visualizing the graph in the pangenomic range [4.67067e+07, 4.67215e+07]\n",
      "[odgi::viz] Binned mode\n",
      "[odgi::viz] bin width: 14.85\n",
      "[odgi::viz] image width: 1000\n",
      "[odgi::extract] expansion and adding connecting edges\n",
      "[odgi::extract] extracting path ranges 100.00% @ 1.85e+00/s elapsed: 00:00:00:00 remain: 00:00:00:00\n",
      "[odgi::extract] merge subpaths closer than 100000 bps - iteration 1 (max 3) 100.00% @ 4.25e+00/s elapsed: 00:00:00:04 remain: 00:00:00:00\n",
      "[odgi::extract] merge subpaths closer than 100000 bps - iteration 2 (max 3) 100.00% @ 3.74e+00/s elapsed: 00:00:00:04 remain: 00:00:00:00\n",
      "[odgi::extract] adding connecting edges 100.00% @ 3.20e+03/s elapsed: 00:00:00:00 remain: 00:00:00:00\n",
      "[odgi::extract] adding subpaths 100.00% @ 7.16e+00/s elapsed: 00:00:00:07 remain: 00:00:00:00\n",
      "[odgi::extract] checking missing edges and empty subpaths 100.00% @ 7.18e+01/s elapsed: 00:00:00:00 remain: 00:00:00:00\n",
      "(pggb_fatica) \n"
     ]
    },
    {
     "ename": "",
     "evalue": "1",
     "output_type": "error",
     "traceback": []
    }
   ],
   "source": [
    "inputOdgi=chr3_cluster.p95.s5000.n17.k47.G700-900-1100.at9852.pggbRecommended/chr3.fasta.gz.856e650.e34d4cd.a91cbe1.smooth.final.og\n",
    "outdir=neighborhoods/chr3\n",
    "count=0\n",
    "while read a b c; \n",
    "do\n",
    "    ((count+=1))   \n",
    "    r_path=$(echo \"${a}:${b}-${c}\")\n",
    "    r=${r_path}\n",
    "    nh=$(echo \"nh_${count}\")\n",
    "    outprefix=${nh}.region\n",
    "\n",
    "    ########################## view the pangenome graph of the region ######################\n",
    "    odgi viz \\\n",
    "    -i $inputOdgi \\\n",
    "    -o $outdir/${outprefix}.bm.png \\\n",
    "    -x 1000 \\\n",
    "    -bm \\\n",
    "    -t 20 \\\n",
    "    -P \\\n",
    "    -r ${r}\n",
    "    ########################## Node Strandedness ############################################\n",
    "    odgi viz \\\n",
    "    -i $inputOdgi \\\n",
    "    -o $outdir/${outprefix}.z.png \\\n",
    "    -x 1000 \\\n",
    "    -z \\\n",
    "    -t 20 \\\n",
    "    -P \\\n",
    "    -r ${r}\n",
    "    \n",
    "    ############################################ extract the region ############################################\n",
    "    odgi extract \\\n",
    "    -i $inputOdgi \\\n",
    "    -r ${r} \\\n",
    "    --threads 24 -P \\\n",
    "    -d 100000 \\\n",
    "    -c 1  \\\n",
    "    -o $outdir/${outprefix}.og \n",
    "    \n",
    "    ########################### get the coordinates in all the accessions ########################################\n",
    "    odgi paths -L \\\n",
    "    -i $outdir/${outprefix}.og  \\\n",
    "    > $outdir/${outprefix}.allPathsCoordinates.txt\n",
    "done < neighborhoods/chr3_neighborhood.coordinates.bed"
   ]
  },
  {
   "cell_type": "code",
   "execution_count": 14,
   "id": "613d1bb6-ff84-4e07-8069-33ad6f91a337",
   "metadata": {},
   "outputs": [
    {
     "name": "stdout",
     "output_type": "stream",
     "text": [
      "(pggb_fatica) \n",
      "(pggb_fatica) \n",
      "(pggb_fatica) \n",
      "(pggb_fatica) \n",
      "(pggb_fatica) \n",
      "(pggb_fatica) \n"
     ]
    },
    {
     "ename": "",
     "evalue": "1",
     "output_type": "error",
     "traceback": []
    }
   ],
   "source": [
    "for i in {1..15}\n",
    "do\n",
    "sed -i \"s/$/\\tchr3_nh${i}/g\" neighborhoods/chr3/nh_${i}.region.allPathsCoordinates.txt\n",
    "done\n",
    "\n",
    "for i in {1..9}\n",
    "do \n",
    "sed -i \"s/chr3_nh${i}/chr3_nh0${i}/g\" neighborhoods/chr3/nh_${i}.region.allPathsCoordinates.txt\n",
    "done\n",
    "\n",
    "\n",
    "for i in {1..15}\n",
    "do \n",
    "cut -d \":\" -f1,3 neighborhoods/chr3/nh_${i}.region.allPathsCoordinates.txt |sed \"s/:/\\t/g\"|sed \"s/-/\\t/g\" > neighborhoods/chr3/nh_${i}.region.allPathsCoordinates.bed\n",
    "done"
   ]
  },
  {
   "cell_type": "code",
   "execution_count": null,
   "id": "a6a4b405-e71e-4e33-9767-9091f0591ec2",
   "metadata": {},
   "outputs": [],
   "source": []
  }
 ],
 "metadata": {
  "kernelspec": {
   "display_name": "Bash",
   "language": "bash",
   "name": "bash"
  },
  "language_info": {
   "codemirror_mode": "shell",
   "file_extension": ".sh",
   "mimetype": "text/x-sh",
   "name": "bash"
  }
 },
 "nbformat": 4,
 "nbformat_minor": 5
}
