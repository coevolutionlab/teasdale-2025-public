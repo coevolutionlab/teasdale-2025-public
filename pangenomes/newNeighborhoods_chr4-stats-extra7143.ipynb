{
 "cells": [
  {
   "cell_type": "code",
   "execution_count": 5,
   "id": "0d1d63ac-1ff1-47cb-b6bf-3fb78d7179e0",
   "metadata": {},
   "outputs": [
    {
     "name": "stdout",
     "output_type": "stream",
     "text": [
      "(pggb_fatica) \n"
     ]
    },
    {
     "ename": "",
     "evalue": "1",
     "output_type": "error",
     "traceback": []
    }
   ],
   "source": [
    "conda activate pggb_fatica\n"
   ]
  },
  {
   "cell_type": "code",
   "execution_count": 6,
   "id": "4cd277c5-7d42-4852-a3ad-b961337284b4",
   "metadata": {
    "scrolled": true
   },
   "outputs": [
    {
     "name": "stdout",
     "output_type": "stream",
     "text": [
      "(pggb_fatica) \n"
     ]
    },
    {
     "ename": "",
     "evalue": "1",
     "output_type": "error",
     "traceback": []
    }
   ],
   "source": [
    "chromosomeName=$(odgi paths -L -i chr4_cluster.p95.s5000.n17.k47.G700-900-1100.at9852.pggbRecommended/chr4.fasta.gz.856e650.e34d4cd.a91cbe1.smooth.final.og|grep \"9852\")"
   ]
  },
  {
   "cell_type": "code",
   "execution_count": 7,
   "id": "616ee04e-eeac-42de-82e5-e9036b72d6c9",
   "metadata": {},
   "outputs": [
    {
     "name": "stdout",
     "output_type": "stream",
     "text": [
      "(pggb_fatica) \n"
     ]
    },
    {
     "ename": "",
     "evalue": "1",
     "output_type": "error",
     "traceback": []
    }
   ],
   "source": [
    "cat neighborhoods/final/final_all_neighborhoods.chr4.bed|grep \"at9852\"|sed \"s/at9852_1_chr4/${chromosomeName}/g\" > neighborhoods/all_neighborhoods_at9852.chr4.txt"
   ]
  },
  {
   "cell_type": "code",
   "execution_count": 8,
   "id": "dff2a97c-3be1-4439-afc6-ca8ea19c5077",
   "metadata": {},
   "outputs": [
    {
     "name": "stdout",
     "output_type": "stream",
     "text": [
      "at9852_1_chr4:0-24203097\t1700501\t1727126\tchr4_e_r4_nh01\n",
      "at9852_1_chr4:0-24203097\t2445970\t2452378\tchr4_e_r3_nh01\n",
      "at9852_1_chr4:0-24203097\t2455797\t2540938\tchr4_nh01\n",
      "at9852_1_chr4:0-24203097\t10948767\t10982024\tchr4_nh02\n",
      "at9852_1_chr4:0-24203097\t11317830\t11329245\tchr4_e_r5_nh01\n",
      "at9852_1_chr4:0-24203097\t11500339\t11560875\tchr4_e_r1_nh01\n",
      "at9852_1_chr4:0-24203097\t12195399\t12210412\tchr4_e_r2_nh01\n",
      "at9852_1_chr4:0-24203097\t12364417\t12388850\tchr4_nh04\n",
      "at9852_1_chr4:0-24203097\t12479245\t12499773\tchr4_e_r1_nh02\n",
      "at9852_1_chr4:0-24203097\t12792076\t12836849\tchr4_nh05\n",
      "at9852_1_chr4:0-24203097\t13906683\t14017133\tchr4_nh06\n",
      "at9852_1_chr4:0-24203097\t15114744\t15329424\tchr4_nh07\n",
      "at9852_1_chr4:0-24203097\t16096947\t16115246\tchr4_nh08\n",
      "at9852_1_chr4:0-24203097\t16271612\t16322663\tchr4_nh09\n",
      "at9852_1_chr4:0-24203097\t16467673\t16481949\tchr4_nh10\n",
      "at9852_1_chr4:0-24203097\t17231162\t17255325\tchr4_nh11\n",
      "at9852_1_chr4:0-24203097\t17843912\t17887958\tchr4_nh12\n",
      "at9852_1_chr4:0-24203097\t18827932\t18835823\tchr4_nh13\n",
      "at9852_1_chr4:0-24203097\t19221428\t19242388\tchr4_nh14\n",
      "at9852_1_chr4:0-24203097\t21648854\t21660269\tchr4_nh15\n",
      "at9852_1_chr4:0-24203097\t22695976\t22716750\tchr4_nh16\n",
      "(pggb_fatica) \n"
     ]
    },
    {
     "ename": "",
     "evalue": "1",
     "output_type": "error",
     "traceback": []
    }
   ],
   "source": [
    "cat neighborhoods/all_neighborhoods_at9852.chr4.txt"
   ]
  },
  {
   "cell_type": "code",
   "execution_count": 9,
   "id": "6b5a53b1-d908-45d1-bb1d-5476f533c907",
   "metadata": {},
   "outputs": [
    {
     "name": "stdout",
     "output_type": "stream",
     "text": [
      "(pggb_fatica) \n",
      "(pggb_fatica) \n",
      "(pggb_fatica) \n",
      "(pggb_fatica) \n",
      "(pggb_fatica) \n",
      "(pggb_fatica) \n",
      "(pggb_fatica) \n",
      "(pggb_fatica) \n",
      "(pggb_fatica) \n"
     ]
    },
    {
     "ename": "",
     "evalue": "1",
     "output_type": "error",
     "traceback": []
    }
   ],
   "source": [
    "mkdir -p neighborhoods/chr4/cluster_og\n",
    "mkdir -p neighborhoods/chr4/cluster_gfa\n",
    "mkdir -p neighborhoods/chr4/cluster_allPathCoordinates\n",
    "mkdir -p neighborhoods/chr4/cluster_viz\n",
    "mkdir -p neighborhoods/chr4/cluster_pav\n",
    "mkdir -p neighborhoods/chr4/cluster_similarity\n",
    "mkdir -p neighborhoods/chr4/cluster_jumps\n",
    "mkdir -p neighborhoods/chr4/cluster_heaps\n",
    "mkdir -p neighborhoods/chr4/cluster_panacus"
   ]
  },
  {
   "cell_type": "code",
   "execution_count": 10,
   "id": "32304c64-ede9-4274-b4bb-cfefff7f345e",
   "metadata": {},
   "outputs": [
    {
     "name": "stdout",
     "output_type": "stream",
     "text": [
      "(pggb_fatica) \n",
      "(pggb_fatica) \n",
      "(pggb_fatica) \n",
      "[odgi::viz] Path range to pangenomic range conversion.\n",
      "[odgi::viz] Visualizing the graph in the pangenomic range [2.24804e+07, 2.25731e+07]\n",
      "[odgi::viz] Binned mode\n",
      "[odgi::viz] bin width: 92.709\n",
      "[odgi::viz] image width: 1000\n",
      "[odgi::viz] Path range to pangenomic range conversion.\n",
      "[odgi::viz] Visualizing the graph in the pangenomic range [2.24804e+07, 2.25731e+07]\n",
      "[odgi::viz] Binned mode\n",
      "[odgi::viz] bin width: 92.709\n",
      "[odgi::viz] image width: 1000\n",
      "[odgi::extract] expansion and adding connecting edges\n",
      "[odgi::extract] extracting path ranges 100.00% @ 1.71e+00/s elapsed: 00:00:00:00 remain: 00:00:00:00\n",
      "[odgi::extract] merge subpaths closer than 100000 bps - iteration 1 (max 3) 100.00% @ 6.59e+00/s elapsed: 00:00:00:02 remain: 00:00:00:00\n",
      "[odgi::extract] merge subpaths closer than 100000 bps - iteration 2 (max 3) 100.00% @ 7.15e+00/s elapsed: 00:00:00:02 remain: 00:00:00:00\n",
      "[odgi::extract] adding connecting edges 100.00% @ 7.67e+03/s elapsed: 00:00:00:00 remain: 00:00:00:00\n",
      "[odgi::extract] adding subpaths 100.00% @ 1.09e+01/s elapsed: 00:00:00:04 remain: 00:00:00:00\n",
      "[odgi::extract] checking missing edges and empty subpaths 100.00% @ 7.18e+01/s elapsed: 00:00:00:00 remain: 00:00:00:00\n",
      "path_sgd_zipf_space_max: 100\n",
      "path_sgd_zipf_max_number_of_distributions: 101\n",
      "[odgi::path_linear_sgd] calculating linear SGD schedule (6.24912e-07 1 100 0 0.01)\n",
      "[odgi::path_linear_sgd] calculating zetas for 102 zipf distributions\n",
      "[odgi::path_linear_sgd] 1D path-guided SGD: 100.00% @ 8.14e+06/s elapsed: 00:00:00:00 remain: 00:00:00:00\n",
      "/u/gshirsekar/conda-envs/pggb/bin/panacus-visualize:107: UserWarning: FixedFormatter should only be used together with FixedLocator\n",
      "  axs[0].set_yticklabels(calibrate_yticks_text(yticks))\n",
      "/u/gshirsekar/conda-envs/pggb/bin/panacus-visualize:128: UserWarning: FixedFormatter should only be used together with FixedLocator\n",
      "  axs[1].set_yticklabels(calibrate_yticks_text(yticks))\n",
      "(/u/gshirsekar/conda-envs/pggb) \n"
     ]
    },
    {
     "ename": "",
     "evalue": "1",
     "output_type": "error",
     "traceback": []
    }
   ],
   "source": [
    "inputOdgi=chr4_cluster.p95.s5000.n17.k47.G700-900-1100.at9852.pggbRecommended/chr4.fasta.gz.856e650.e34d4cd.a91cbe1.smooth.final.og\n",
    "outdir=neighborhoods/chr4\n",
    "\n",
    "while read a b c d; \n",
    "do   \n",
    "    r_path=$(echo \"${a}:${b}-${c}\")\n",
    "    r=${r_path}\n",
    "    nh=${d}\n",
    "    outprefix=${nh}.region\n",
    "\n",
    "    ########################## view the pangenome graph of the region ######################\n",
    "    odgi viz \\\n",
    "    -i $inputOdgi \\\n",
    "    -o $outdir/${outprefix}.bm.png \\\n",
    "    -x 1000 \\\n",
    "    -bm \\\n",
    "    -t 20 \\\n",
    "    -P \\\n",
    "    -r ${r}\n",
    "    ########################## Node Strandedness ############################################\n",
    "    odgi viz \\\n",
    "    -i $inputOdgi \\\n",
    "    -o $outdir/${outprefix}.z.png \\\n",
    "    -x 1000 \\\n",
    "    -z \\\n",
    "    -t 20 \\\n",
    "    -P \\\n",
    "    -r ${r}\n",
    "    \n",
    "    ############################################ extract the region ############################################\n",
    "    odgi extract \\\n",
    "    -i $inputOdgi \\\n",
    "    -r ${r} \\\n",
    "    --threads 24 -P \\\n",
    "    -d 100000 \\\n",
    "    -c 1  \\\n",
    "    -o $outdir/cluster_og/${outprefix}.og \n",
    "    \n",
    "    ########################### get the coordinates in all the accessions ########################################\n",
    "    odgi paths -L \\\n",
    "    -i $outdir/cluster_og/${outprefix}.og  \\\n",
    "    > $outdir/cluster_allPathCoordinates/${outprefix}.allPathsCoordinates.txt\n",
    "    \n",
    "    ########################### for bandage plot #################################################################\n",
    "    odgi view -i $outdir/cluster_og/${outprefix}.og  \\\n",
    "    -g > $outdir/cluster_gfa/${outprefix}.gfa\n",
    "    \n",
    "    ########################### Individual path-based PAV comparisons ############################################\n",
    "    while read line;\n",
    "    do\n",
    "        r=${line}\n",
    "        echo $r|cut -d ':' -f1,2 >tmp1\n",
    "        echo $r|cut -d ':' -f3|sed \"s/-/\\t/g\" >tmp2\n",
    "        paste tmp1 tmp2 > \\\n",
    "        $outdir/cluster_allPathCoordinates/${outprefix}.${line}.bed && rm tmp1 && rm tmp2\n",
    "        \n",
    "        odgi pav \\\n",
    "        -i $inputOdgi \\\n",
    "        -t 24 \\\n",
    "        -b $outdir/cluster_allPathCoordinates/${outprefix}.${line}.bed > \\\n",
    "        $outdir/cluster_pav/${outprefix}.${line}.pav.txt\n",
    "        \n",
    "    done < $outdir/cluster_allPathCoordinates/${outprefix}.allPathsCoordinates.txt\n",
    "    \n",
    "    ########################### Node Jumps in Neighborhood ######################################################\n",
    "    ## for each node how many jumps it has taken\n",
    "    cat $outdir/cluster_gfa/${outprefix}.gfa \\\n",
    "    |grep \"^L\" \\\n",
    "    |awk '{print $1,$2,$4,$4-$2}'\\\n",
    "    |sed \"s/ /\\t/g\" \\\n",
    "    > $outdir/cluster_jumps/${outprefix}.nodeJumps.txt\n",
    "    \n",
    "    \n",
    "    ########################### Node Degrees ############################################################\n",
    "    odgi \\\n",
    "    degree \\\n",
    "    -i $outdir/cluster_og/${outprefix}.og \\\n",
    "    -t 24 \\\n",
    "    -d \\\n",
    "    -r ${r} > $outdir/cluster_jumps/${outprefix}.nodeDegrees.txt\n",
    "    \n",
    "    \n",
    "    ########################### Node Depth ###############################################################\n",
    "    odgi \\\n",
    "    depth \\\n",
    "    -i $outdir/cluster_og/${outprefix}.og \\\n",
    "    -t 24 \\\n",
    "    -d \\\n",
    "    -r ${r} > $outdir/cluster_jumps/${outprefix}.nodeDepth.txt\n",
    "    \n",
    "    ########################### Distance between different Paths (accessions) for the region #############\n",
    "    odgi \\\n",
    "    similarity \\\n",
    "    -i $outdir/cluster_og/${outprefix}.og \\\n",
    "    -t 24 \\\n",
    "    -d > $outdir/cluster_similarity/${outprefix}.distance.txt\n",
    "    \n",
    "    ###### Pangenome Graph Growth  Heaps' Law #########\n",
    "\n",
    "    odgi sort \\\n",
    "    -i $outdir/cluster_og/${outprefix}.og \\\n",
    "    -p Y \\\n",
    "    -O \\\n",
    "    -t 24 \\\n",
    "    -P \\\n",
    "    -o $outdir/cluster_og/${outprefix}.optimized_sorted.og \n",
    "    \n",
    "    for i in {1..18}\n",
    "    do\n",
    "    seq -w 1 ${i} > $outdir/cluster_heaps/pathGroup${i}.groups.txt\n",
    "    done\n",
    "    \n",
    "    \n",
    "    for i in {1..18}\n",
    "    do\n",
    "    odgi paths -i $outdir/cluster_og/${outprefix}.optimized_sorted.og \\\n",
    "    -L|sort -R|head -n ${i} > $outdir/cluster_heaps/pathGroup${i}.txt \n",
    "    done\n",
    "    \n",
    "    for i in {1..18}\n",
    "    do\n",
    "    paste $outdir/cluster_heaps/pathGroup${i}.txt $outdir/cluster_heaps/pathGroup${i}.groups.txt > tmp\n",
    "    mv tmp $outdir/cluster_heaps/pathGroup${i}.txt\n",
    "    done\n",
    "    \n",
    "    for i in {1..18}\n",
    "    do\n",
    "        odgi \\\n",
    "        heaps \\\n",
    "        -i $outdir/cluster_og/${outprefix}.optimized_sorted.og \\\n",
    "        -t 24 \\\n",
    "        -S \\\n",
    "        -d 2 \\\n",
    "        -n 100 \\\n",
    "        -p $outdir/cluster_heaps/pathGroup${i}.txt \\\n",
    "        > $outdir/cluster_heaps/${outprefix}.pathGroup${i}.optimized_sorted.heaps.txt\n",
    "    done\n",
    "    \n",
    "    \n",
    "    ########################## Panacus ##############################\n",
    "    parentDir=$outdir\n",
    "    \n",
    "    conda activate /u/gshirsekar/conda-envs/pggb #panacus is installed here\n",
    "\n",
    "    grep '^P' ${parentDir}/cluster_gfa/${outprefix}.gfa|cut -f2|sed \"s/_.*//g\" > ${parentDir}/cluster_panacus/${outprefix}.groupNames.txt\n",
    "    grep '^P' ${parentDir}/cluster_gfa/${outprefix}.gfa|cut -f2> ${parentDir}/cluster_panacus/${outprefix}.pathNames.txt\n",
    "    \n",
    "    paste ${parentDir}/cluster_panacus/${outprefix}.pathNames.txt \\\n",
    "    ${parentDir}/cluster_panacus/${outprefix}.groupNames.txt \\\n",
    "    > ${parentDir}/cluster_panacus/${outprefix}.groups.txt\n",
    "    \n",
    "    sed -i \"s/_1_chr4/#1#chr4/g\" ${parentDir}/cluster_panacus/${outprefix}.pathNames.txt \n",
    "    sed -i \"s/_1_chr4/#1#chr4/g\" ${parentDir}/cluster_panacus/${outprefix}.groups.txt\n",
    "    \n",
    "    \n",
    "    cat ${parentDir}/cluster_panacus/${outprefix}.pathNames.txt |cut -f1,3 -d \":\" > \\\n",
    "    ${parentDir}/cluster_panacus/${outprefix}.newPathNames.txt\n",
    "    \n",
    "    paste ${parentDir}/cluster_panacus/${outprefix}.pathNames.txt \\\n",
    "    ${parentDir}/cluster_panacus/${outprefix}.newPathNames.txt > ${parentDir}/cluster_panacus/tmp\n",
    "    \n",
    "    while read a b ; do sed -i \"s/${a}/${b}/\" ${parentDir}/cluster_panacus/${outprefix}.pathNames.txt ; done < ${parentDir}/cluster_panacus/tmp\n",
    "    while read a b ; do sed -i \"s/${a}/${b}/\" ${parentDir}/cluster_panacus/${outprefix}.groups.txt ; done < ${parentDir}/cluster_panacus/tmp\n",
    "    cp ${parentDir}/cluster_gfa/${outprefix}.gfa ${parentDir}/cluster_panacus/${outprefix}.ed.gfa\n",
    "    sed -i \"s/_1_chr4/#1#chr4/g\" ${parentDir}/cluster_panacus/${outprefix}.ed.gfa\n",
    "    \n",
    "    while read a b ; do sed -i \"s/${a}/${b}/g\" ${parentDir}/cluster_panacus/${outprefix}.ed.gfa ; done < ${parentDir}/cluster_panacus/tmp \n",
    "    \n",
    "    panacus histgrowth -t24 -q 0,0.1,0.5,1 -l 1,2,3,17 -g ${parentDir}/cluster_panacus/${outprefix}.groups.txt \\\n",
    "    -s ${parentDir}/cluster_panacus/${outprefix}.pathNames.txt \\\n",
    "    ${parentDir}/cluster_panacus/${outprefix}.ed.gfa > ${parentDir}/cluster_panacus/${outprefix}.histgrowth.txt\n",
    "    \n",
    "    panacus-visualize -e ${parentDir}/cluster_panacus/${outprefix}.histgrowth.txt > ${parentDir}/cluster_panacus/${outprefix}.histgrowth.node.pdf\n",
    "\n",
    "done < neighborhoods/extra_7143.chr4.txt\n",
    "\n",
    "\n",
    "\n"
   ]
  },
  {
   "cell_type": "code",
   "execution_count": null,
   "id": "ac1bd101-dd00-4858-892f-7adf2ebd5faa",
   "metadata": {},
   "outputs": [],
   "source": []
  }
 ],
 "metadata": {
  "kernelspec": {
   "display_name": "Bash",
   "language": "bash",
   "name": "bash"
  },
  "language_info": {
   "codemirror_mode": "shell",
   "file_extension": ".sh",
   "mimetype": "text/x-sh",
   "name": "bash"
  }
 },
 "nbformat": 4,
 "nbformat_minor": 5
}
