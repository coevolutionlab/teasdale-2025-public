{
 "cells": [
  {
   "cell_type": "code",
   "execution_count": 1,
   "id": "0d1d63ac-1ff1-47cb-b6bf-3fb78d7179e0",
   "metadata": {},
   "outputs": [
    {
     "name": "stdout",
     "output_type": "stream",
     "text": [
      "(pggb_fatica) \n"
     ]
    },
    {
     "ename": "",
     "evalue": "1",
     "output_type": "error",
     "traceback": []
    }
   ],
   "source": [
    "conda activate pggb_fatica"
   ]
  },
  {
   "cell_type": "code",
   "execution_count": 2,
   "id": "4cd277c5-7d42-4852-a3ad-b961337284b4",
   "metadata": {
    "scrolled": true
   },
   "outputs": [
    {
     "name": "stdout",
     "output_type": "stream",
     "text": [
      "(pggb_fatica) \n"
     ]
    },
    {
     "ename": "",
     "evalue": "1",
     "output_type": "error",
     "traceback": []
    }
   ],
   "source": [
    "chromosomeName=$(odgi paths -L -i chr4_cluster.p95.s5000.n17.k47.G700-900-1100.at9852.pggbRecommended/chr4.fasta.gz.856e650.e34d4cd.a91cbe1.smooth.final.og|grep \"9852\")"
   ]
  },
  {
   "cell_type": "code",
   "execution_count": 5,
   "id": "51de248a-dd66-49bd-878b-9532d7ac79a4",
   "metadata": {},
   "outputs": [
    {
     "name": "stdout",
     "output_type": "stream",
     "text": [
      "at9852_1_chr4:0-24203097\n",
      "(pggb_fatica) \n"
     ]
    },
    {
     "ename": "",
     "evalue": "1",
     "output_type": "error",
     "traceback": []
    }
   ],
   "source": []
  },
  {
   "cell_type": "markdown",
   "id": "c145199f-e2f1-4942-ac63-d0f3e5862216",
   "metadata": {},
   "source": [
    "## get length of each node\n"
   ]
  },
  {
   "cell_type": "code",
   "execution_count": 7,
   "id": "f64ffd2d-30d5-44cb-8d7a-fb20e6b22bf7",
   "metadata": {},
   "outputs": [
    {
     "name": "stdout",
     "output_type": "stream",
     "text": [
      "(pggb_fatica) \n",
      "(pggb_fatica) \n",
      "(pggb_fatica) \n",
      "(pggb_fatica) \n",
      "(pggb_fatica) \n"
     ]
    },
    {
     "ename": "",
     "evalue": "1",
     "output_type": "error",
     "traceback": []
    }
   ],
   "source": [
    "odgi view \\\n",
    "-i chr4_cluster.p95.s5000.n17.k47.G700-900-1100.at9852.pggbRecommended/chr4.fasta.gz.856e650.e34d4cd.a91cbe1.smooth.final.og \\\n",
    "-g \\\n",
    "-t 24 \\\n",
    "| grep '^S' \\\n",
    "| awk -v OFS='\\t' '{print($2,length($3))}' \\\n",
    "> chr4_cluster.p95.s5000.n17.k47.G700-900-1100.at9852.pggbRecommended/chr4.fasta.gz.856e650.e34d4cd.a91cbe1.smooth.final.og.nodeLength.txt\n",
    "\n",
    "echo -e \"#node.id\\tlength\" > tmpHeader\n",
    "cat tmpHeader chr4_cluster.p95.s5000.n17.k47.G700-900-1100.at9852.pggbRecommended/chr4.fasta.gz.856e650.e34d4cd.a91cbe1.smooth.final.og.nodeLength.txt > tmp \n",
    "mv tmp chr4_cluster.p95.s5000.n17.k47.G700-900-1100.at9852.pggbRecommended/chr4.fasta.gz.856e650.e34d4cd.a91cbe1.smooth.final.og.nodeLength.txt"
   ]
  },
  {
   "cell_type": "markdown",
   "id": "97267ce7-0f02-467d-ae6f-5ec437dbb560",
   "metadata": {},
   "source": [
    "## get depth of each node"
   ]
  },
  {
   "cell_type": "code",
   "execution_count": 8,
   "id": "ab4a9538-73c4-4e88-882c-18bb111348bd",
   "metadata": {},
   "outputs": [
    {
     "name": "stdout",
     "output_type": "stream",
     "text": [
      "(pggb_fatica) \n"
     ]
    },
    {
     "ename": "",
     "evalue": "1",
     "output_type": "error",
     "traceback": []
    }
   ],
   "source": [
    "odgi \\\n",
    "    depth \\\n",
    "    -i chr4_cluster.p95.s5000.n17.k47.G700-900-1100.at9852.pggbRecommended/chr4.fasta.gz.856e650.e34d4cd.a91cbe1.smooth.final.og \\\n",
    "    -t 24 \\\n",
    "    -d \\\n",
    "    > chr4_cluster.p95.s5000.n17.k47.G700-900-1100.at9852.pggbRecommended/chr4.fasta.gz.856e650.e34d4cd.a91cbe1.smooth.final.og.nodeDepth.txt"
   ]
  },
  {
   "cell_type": "markdown",
   "id": "e7e12f2b-8e3d-4e69-b88d-26a1741bb9f8",
   "metadata": {},
   "source": [
    "## merge depth and length"
   ]
  },
  {
   "cell_type": "code",
   "execution_count": 9,
   "id": "d0682dc3-8350-4bdb-b306-514932ee2bac",
   "metadata": {},
   "outputs": [
    {
     "name": "stdout",
     "output_type": "stream",
     "text": [
      "input length :chr4_cluster.p95.s5000.n17.k47.G700-900-1100.at9852.pggbRecommended/chr4.fasta.gz.856e650.e34d4cd.a91cbe1.smooth.final.og.nodeLength.txt\n",
      "input depth : chr4_cluster.p95.s5000.n17.k47.G700-900-1100.at9852.pggbRecommended/chr4.fasta.gz.856e650.e34d4cd.a91cbe1.smooth.final.og.nodeDepth.txt\n",
      "output file : chr4_cluster.p95.s5000.n17.k47.G700-900-1100.at9852.pggbRecommended/chr4.fasta.gz.856e650.e34d4cd.a91cbe1.smooth.final.og.nodeDepthLength.txt\n",
      "\n",
      " time for processing input: 3.283937454223633\n",
      "(pggb_fatica) \n"
     ]
    },
    {
     "ename": "",
     "evalue": "1",
     "output_type": "error",
     "traceback": []
    }
   ],
   "source": [
    "python mergeNodeLengthDepth.py \\\n",
    "-l chr4_cluster.p95.s5000.n17.k47.G700-900-1100.at9852.pggbRecommended/chr4.fasta.gz.856e650.e34d4cd.a91cbe1.smooth.final.og.nodeLength.txt \\\n",
    "-d chr4_cluster.p95.s5000.n17.k47.G700-900-1100.at9852.pggbRecommended/chr4.fasta.gz.856e650.e34d4cd.a91cbe1.smooth.final.og.nodeDepth.txt \\\n",
    "-o chr4_cluster.p95.s5000.n17.k47.G700-900-1100.at9852.pggbRecommended/chr4.fasta.gz.856e650.e34d4cd.a91cbe1.smooth.final.og.nodeDepthLength.txt"
   ]
  },
  {
   "cell_type": "code",
   "execution_count": 10,
   "id": "afe4596b-1d46-4973-8d58-48e726d7de62",
   "metadata": {},
   "outputs": [
    {
     "name": "stdout",
     "output_type": "stream",
     "text": [
      "(pggb_fatica) \n",
      "(pggb_fatica) \n",
      "(pggb_fatica) \n"
     ]
    },
    {
     "ename": "",
     "evalue": "1",
     "output_type": "error",
     "traceback": []
    }
   ],
   "source": [
    "## here input should be a bed file of leftmost NLRs start and rightmost NLRs stop for the cluster (group of NLRs)\n",
    "sed -i \"s/at9852_1_chr4/${chromosomeName}/g\" neighborhoods/chr4_compound.bed\n",
    "while read chromosome start stop compoundName\n",
    "do\n",
    "\n",
    "    odgi \\\n",
    "    position \\\n",
    "    -i chr4_cluster.p95.s5000.n17.k47.G700-900-1100.at9852.pggbRecommended/chr4.fasta.gz.856e650.e34d4cd.a91cbe1.smooth.final.og \\\n",
    "    -t 24 \\\n",
    "    -b <(echo -e \"${chromosome}\\t${start}\\t${stop}\") \\\n",
    "    -v \n",
    "\n",
    "done < neighborhoods/chr4_compound.bed |cut -f1,4,5|cut -d ',' -f1,3|sed 's/+//g'|sed 's/,//g' > neighborhoods/chr4_compound.graph.bed"
   ]
  },
  {
   "cell_type": "code",
   "execution_count": 51,
   "id": "9939af1b-9563-45a5-aa0e-edacb0458a2a",
   "metadata": {},
   "outputs": [
    {
     "name": "stdout",
     "output_type": "stream",
     "text": [
      "cat: tmp1: No such file or directory\n",
      "(pggb_fatica) \n"
     ]
    },
    {
     "ename": "",
     "evalue": "1",
     "output_type": "error",
     "traceback": []
    }
   ],
   "source": []
  },
  {
   "cell_type": "code",
   "execution_count": 11,
   "id": "c95ffac3-88ae-408d-84d2-a9297afcd692",
   "metadata": {},
   "outputs": [
    {
     "name": "stdout",
     "output_type": "stream",
     "text": [
      "(pggb_fatica) \n",
      "(pggb_fatica) \n",
      "(pggb_fatica) \n",
      "(pggb_fatica) \n"
     ]
    },
    {
     "ename": "",
     "evalue": "1",
     "output_type": "error",
     "traceback": []
    }
   ],
   "source": [
    "rm tmp*\n",
    "while read chromosome gstart gstop\n",
    "do\n",
    "    echo ${chromosome} >> tmp3\n",
    "    \n",
    "    # take fifth leftmost node with depth.uniq=18 and length greater than 100 as left anchor for the neighborhood\n",
    "    awk '($2>100)&&($4==18)' chr4_cluster.p95.s5000.n17.k47.G700-900-1100.at9852.pggbRecommended/chr4.fasta.gz.856e650.e34d4cd.a91cbe1.smooth.final.og.nodeDepthLength.txt|awk -v \"start=${gstart}\" '($1<start)'|tail -n 5|head -n1|cut -f1 >> tmp1\n",
    "    \n",
    "    # take fifth rightmost node with depth.uniq=18 and length greater than 100 as right anchor for the neighborhood\n",
    "    awk '($2>100)&&($4==18)' chr4_cluster.p95.s5000.n17.k47.G700-900-1100.at9852.pggbRecommended/chr4.fasta.gz.856e650.e34d4cd.a91cbe1.smooth.final.og.nodeDepthLength.txt|awk -v \"stop=${gstop}\" '($1>stop)'|head -n 5|tail -n1|cut -f1 >> tmp2\n",
    "\n",
    "done < neighborhoods/chr4_compound.graph.bed\n",
    "\n",
    "paste tmp3 tmp1 tmp2 > neighborhoods/chr4_neighborhood.graph.bed"
   ]
  },
  {
   "cell_type": "code",
   "execution_count": null,
   "id": "a63efe28-4a47-4c97-a262-5c72c8c8b9e0",
   "metadata": {},
   "outputs": [],
   "source": [
    "rm tmp*\n",
    "while read chromosome nStart nStop\n",
    "do\n",
    "    echo ${chromosome} >> tmp3\n",
    "\n",
    "    odgi position \\\n",
    "    -i chr4_cluster.p95.s5000.n17.k47.G700-900-1100.at9852.pggbRecommended/chr4.fasta.gz.856e650.e34d4cd.a91cbe1.smooth.final.og \\\n",
    "    -t 24 \\\n",
    "    -g ${nStart} \\\n",
    "    -r ${chromosome} |tail -n +2|cut -d ',' -f4,5|sed \"s/,/\\t/g\"|cut -f1 >> tmp1\n",
    "\n",
    "    odgi position \\\n",
    "    -i chr4_cluster.p95.s5000.n17.k47.G700-900-1100.at9852.pggbRecommended/chr4.fasta.gz.856e650.e34d4cd.a91cbe1.smooth.final.og \\\n",
    "    -t 24 \\\n",
    "    -g ${nStop} \\\n",
    "    -r ${chromosome} |tail -n +2|cut -d ',' -f4,5|sed \"s/,/\\t/g\"|cut -f1 >> tmp2\n",
    "done < neighborhoods/chr4_neighborhood.graph.bed\n",
    "\n",
    "paste tmp3 tmp1 tmp2 > neighborhoods/chr4_neighborhood.coordinates.bed"
   ]
  },
  {
   "cell_type": "code",
   "execution_count": 14,
   "id": "32304c64-ede9-4274-b4bb-cfefff7f345e",
   "metadata": {},
   "outputs": [
    {
     "name": "stdout",
     "output_type": "stream",
     "text": [
      "(pggb_fatica) \n",
      "(pggb_fatica) \n",
      "(pggb_fatica) \n",
      "[odgi::viz] Path range to pangenomic range conversion.\n",
      "[odgi::viz] Visualizing the graph in the pangenomic range [4.23956e+06, 4.43529e+06]\n",
      "[odgi::viz] Binned mode\n",
      "[odgi::viz] bin width: 195.735\n",
      "[odgi::viz] image width: 1000\n",
      "[odgi::viz] Path range to pangenomic range conversion.\n",
      "[odgi::viz] Visualizing the graph in the pangenomic range [4.23956e+06, 4.43529e+06]\n",
      "[odgi::viz] Binned mode\n",
      "[odgi::viz] bin width: 195.735\n",
      "[odgi::viz] image width: 1000\n",
      "[odgi::extract] expansion and adding connecting edges\n",
      "[odgi::extract] extracting path ranges 100.00% @ 1.02e+01/s elapsed: 00:00:00:00 remain: 00:00:00:00\n",
      "[odgi::extract] merge subpaths closer than 100000 bps - iteration 1 (max 3) 100.00% @ 5.76e+00/s elapsed: 00:00:00:03 remain: 00:00:00:00\n",
      "[odgi::extract] merge subpaths closer than 100000 bps - iteration 2 (max 3) 100.00% @ 7.48e+00/s elapsed: 00:00:00:02 remain: 00:00:00:00\n",
      "[odgi::extract] adding connecting edges 100.00% @ 8.96e+04/s elapsed: 00:00:00:00 remain: 00:00:00:00\n",
      "[odgi::extract] adding subpaths 100.00% @ 8.41e+00/s elapsed: 00:00:00:06 remain: 00:00:00:00\n",
      "[odgi::extract] checking missing edges and empty subpaths 100.00% @ 7.12e+01/s elapsed: 00:00:00:00 remain: 00:00:00:00\n",
      "[odgi::viz] Path range to pangenomic range conversion.\n",
      "[odgi::viz] Visualizing the graph in the pangenomic range [2.17684e+07, 2.18107e+07]\n",
      "[odgi::viz] Binned mode\n",
      "[odgi::viz] bin width: 42.29\n",
      "[odgi::viz] image width: 1000\n",
      "[odgi::viz] Path range to pangenomic range conversion.\n",
      "[odgi::viz] Visualizing the graph in the pangenomic range [2.17684e+07, 2.18107e+07]\n",
      "[odgi::viz] Binned mode\n",
      "[odgi::viz] bin width: 42.29\n",
      "[odgi::viz] image width: 1000\n",
      "[odgi::extract] expansion and adding connecting edges\n",
      "[odgi::extract] extracting path ranges 100.00% @ 1.97e+00/s elapsed: 00:00:00:00 remain: 00:00:00:00\n",
      "[odgi::extract] merge subpaths closer than 100000 bps - iteration 1 (max 3) 100.00% @ 7.37e+00/s elapsed: 00:00:00:02 remain: 00:00:00:00\n",
      "[odgi::extract] merge subpaths closer than 100000 bps - iteration 2 (max 3) 100.00% @ 8.02e+00/s elapsed: 00:00:00:02 remain: 00:00:00:00\n",
      "[odgi::extract] adding connecting edges 100.00% @ 1.53e+04/s elapsed: 00:00:00:00 remain: 00:00:00:00\n",
      "[odgi::extract] adding subpaths 100.00% @ 8.69e+00/s elapsed: 00:00:00:05 remain: 00:00:00:00\n",
      "[odgi::extract] checking missing edges and empty subpaths 100.00% @ 7.18e+01/s elapsed: 00:00:00:00 remain: 00:00:00:00\n",
      "[odgi::viz] Path range to pangenomic range conversion.\n",
      "[odgi::viz] Visualizing the graph in the pangenomic range [2.28787e+07, 4.17035e+07]\n",
      "[odgi::viz] Binned mode\n",
      "[odgi::viz] bin width: 18824.9\n",
      "[odgi::viz] image width: 1000\n",
      "[odgi::viz] Path range to pangenomic range conversion.\n",
      "[odgi::viz] Visualizing the graph in the pangenomic range [2.28787e+07, 4.17035e+07]\n",
      "[odgi::viz] Binned mode\n",
      "[odgi::viz] bin width: 18824.9\n",
      "[odgi::viz] image width: 1000\n",
      "[odgi::extract] expansion and adding connecting edges\n",
      "[odgi::extract] extracting path ranges 100.00% @ 1.80e+00/s elapsed: 00:00:00:00 remain: 00:00:00:00\n",
      "[odgi::extract] merge subpaths closer than 100000 bps - iteration 1 (max 3) 100.00% @ 6.61e+00/s elapsed: 00:00:00:02 remain: 00:00:00:00\n",
      "[odgi::extract] merge subpaths closer than 100000 bps - iteration 2 (max 3) 100.00% @ 7.22e+00/s elapsed: 00:00:00:02 remain: 00:00:00:00\n",
      "[odgi::extract] merge subpaths closer than 100000 bps - iteration 3 (max 3) 100.00% @ 6.76e+00/s elapsed: 00:00:00:02 remain: 00:00:00:00\n",
      "[odgi::extract] adding connecting edges 100.00% @ 1.01e+05/s elapsed: 00:00:00:00 remain: 00:00:00:00\n",
      "[odgi::extract] adding subpaths 100.00% @ 9.23e+00/s elapsed: 00:00:00:05 remain: 00:00:00:00\n",
      "[odgi::extract] checking missing edges and empty subpaths 100.00% @ 7.57e+01/s elapsed: 00:00:00:00 remain: 00:00:00:00\n",
      "[odgi::viz] Path range to pangenomic range conversion.\n",
      "[odgi::viz] Visualizing the graph in the pangenomic range [2.484e+07, 2.4875e+07]\n",
      "[odgi::viz] Binned mode\n",
      "[odgi::viz] bin width: 34.94\n",
      "[odgi::viz] image width: 1000\n",
      "[odgi::viz] Path range to pangenomic range conversion.\n",
      "[odgi::viz] Visualizing the graph in the pangenomic range [2.484e+07, 2.4875e+07]\n",
      "[odgi::viz] Binned mode\n",
      "[odgi::viz] bin width: 34.94\n",
      "[odgi::viz] image width: 1000\n",
      "[odgi::extract] expansion and adding connecting edges\n",
      "[odgi::extract] extracting path ranges 100.00% @ 1.99e+00/s elapsed: 00:00:00:00 remain: 00:00:00:00\n",
      "[odgi::extract] merge subpaths closer than 100000 bps - iteration 1 (max 3) 100.00% @ 6.72e+00/s elapsed: 00:00:00:02 remain: 00:00:00:00\n",
      "[odgi::extract] merge subpaths closer than 100000 bps - iteration 2 (max 3) 100.00% @ 5.79e+00/s elapsed: 00:00:00:03 remain: 00:00:00:00\n",
      "[odgi::extract] adding connecting edges 100.00% @ 9.63e+03/s elapsed: 00:00:00:00 remain: 00:00:00:00\n",
      "[odgi::extract] adding subpaths 100.00% @ 5.08e+00/s elapsed: 00:00:00:10 remain: 00:00:00:00\n",
      "[odgi::extract] checking missing edges and empty subpaths 100.00% @ 7.16e+01/s elapsed: 00:00:00:00 remain: 00:00:00:00\n",
      "[odgi::viz] Path range to pangenomic range conversion.\n",
      "[odgi::viz] Visualizing the graph in the pangenomic range [2.55351e+07, 2.56331e+07]\n",
      "[odgi::viz] Binned mode\n",
      "[odgi::viz] bin width: 97.973\n",
      "[odgi::viz] image width: 1000\n",
      "[odgi::viz] Path range to pangenomic range conversion.\n",
      "[odgi::viz] Visualizing the graph in the pangenomic range [2.55351e+07, 2.56331e+07]\n",
      "[odgi::viz] Binned mode\n",
      "[odgi::viz] bin width: 97.973\n",
      "[odgi::viz] image width: 1000\n",
      "[odgi::extract] expansion and adding connecting edges\n",
      "[odgi::extract] extracting path ranges 100.00% @ 1.97e+00/s elapsed: 00:00:00:00 remain: 00:00:00:00\n",
      "[odgi::extract] merge subpaths closer than 100000 bps - iteration 1 (max 3) 100.00% @ 7.00e+00/s elapsed: 00:00:00:02 remain: 00:00:00:00\n",
      "[odgi::extract] merge subpaths closer than 100000 bps - iteration 2 (max 3) 100.00% @ 7.43e+00/s elapsed: 00:00:00:02 remain: 00:00:00:00\n",
      "[odgi::extract] adding connecting edges 100.00% @ 2.80e+04/s elapsed: 00:00:00:00 remain: 00:00:00:00\n",
      "[odgi::extract] adding subpaths 100.00% @ 8.98e+00/s elapsed: 00:00:00:05 remain: 00:00:00:00\n",
      "[odgi::extract] checking missing edges and empty subpaths 100.00% @ 7.17e+01/s elapsed: 00:00:00:00 remain: 00:00:00:00\n",
      "[odgi::viz] Path range to pangenomic range conversion.\n",
      "[odgi::viz] Visualizing the graph in the pangenomic range [2.73844e+07, 2.75791e+07]\n",
      "[odgi::viz] Binned mode\n",
      "[odgi::viz] bin width: 194.664\n",
      "[odgi::viz] image width: 1000\n",
      "[odgi::viz] Path range to pangenomic range conversion.\n",
      "[odgi::viz] Visualizing the graph in the pangenomic range [2.73844e+07, 2.75791e+07]\n",
      "[odgi::viz] Binned mode\n",
      "[odgi::viz] bin width: 194.664\n",
      "[odgi::viz] image width: 1000\n",
      "[odgi::extract] expansion and adding connecting edges\n",
      "[odgi::extract] extracting path ranges 100.00% @ 1.57e+00/s elapsed: 00:00:00:00 remain: 00:00:00:00\n",
      "[odgi::extract] merge subpaths closer than 100000 bps - iteration 1 (max 3) 100.00% @ 5.54e+00/s elapsed: 00:00:00:03 remain: 00:00:00:00\n",
      "[odgi::extract] merge subpaths closer than 100000 bps - iteration 2 (max 3) 100.00% @ 4.79e+00/s elapsed: 00:00:00:03 remain: 00:00:00:00\n",
      "[odgi::extract] adding connecting edges 100.00% @ 6.56e+04/s elapsed: 00:00:00:00 remain: 00:00:00:00\n",
      "[odgi::extract] adding subpaths 100.00% @ 6.88e+00/s elapsed: 00:00:00:07 remain: 00:00:00:00\n",
      "[odgi::extract] checking missing edges and empty subpaths 100.00% @ 7.16e+01/s elapsed: 00:00:00:00 remain: 00:00:00:00\n",
      "[odgi::viz] Path range to pangenomic range conversion.\n",
      "[odgi::viz] Visualizing the graph in the pangenomic range [2.91682e+07, 2.97516e+07]\n",
      "[odgi::viz] Binned mode\n",
      "[odgi::viz] bin width: 583.341\n",
      "[odgi::viz] image width: 1000\n",
      "[odgi::viz] Path range to pangenomic range conversion.\n",
      "[odgi::viz] Visualizing the graph in the pangenomic range [2.91682e+07, 2.97516e+07]\n",
      "[odgi::viz] Binned mode\n",
      "[odgi::viz] bin width: 583.341\n",
      "[odgi::viz] image width: 1000\n",
      "[odgi::extract] expansion and adding connecting edges\n",
      "[odgi::extract] extracting path ranges 100.00% @ 1.54e+00/s elapsed: 00:00:00:00 remain: 00:00:00:00\n",
      "[odgi::extract] merge subpaths closer than 100000 bps - iteration 1 (max 3) 100.00% @ 5.34e+00/s elapsed: 00:00:00:03 remain: 00:00:00:00\n",
      "[odgi::extract] merge subpaths closer than 100000 bps - iteration 2 (max 3) 100.00% @ 6.69e+00/s elapsed: 00:00:00:02 remain: 00:00:00:00\n",
      "[odgi::extract] adding connecting edges 100.00% @ 1.43e+05/s elapsed: 00:00:00:00 remain: 00:00:00:00\n",
      "[odgi::extract] adding subpaths 100.00% @ 9.80e+00/s elapsed: 00:00:00:05 remain: 00:00:00:00\n",
      "[odgi::extract] checking missing edges and empty subpaths 100.00% @ 7.11e+01/s elapsed: 00:00:00:00 remain: 00:00:00:00\n",
      "[odgi::viz] Path range to pangenomic range conversion.\n",
      "[odgi::viz] Visualizing the graph in the pangenomic range [3.07689e+07, 3.08553e+07]\n",
      "[odgi::viz] Binned mode\n",
      "[odgi::viz] bin width: 86.374\n",
      "[odgi::viz] image width: 1000\n",
      "[odgi::viz] Path range to pangenomic range conversion.\n",
      "[odgi::viz] Visualizing the graph in the pangenomic range [3.07689e+07, 3.08553e+07]\n",
      "[odgi::viz] Binned mode\n",
      "[odgi::viz] bin width: 86.374\n",
      "[odgi::viz] image width: 1000\n",
      "[odgi::extract] expansion and adding connecting edges\n",
      "[odgi::extract] extracting path ranges 100.00% @ 1.13e+00/s elapsed: 00:00:00:00 remain: 00:00:00:00\n",
      "[odgi::extract] merge subpaths closer than 100000 bps - iteration 1 (max 3) 100.00% @ 2.02e+00/s elapsed: 00:00:00:08 remain: 00:00:00:00\n",
      "[odgi::extract] merge subpaths closer than 100000 bps - iteration 2 (max 3) 100.00% @ 2.77e+00/s elapsed: 00:00:00:06 remain: 00:00:00:00\n",
      "[odgi::extract] adding connecting edges 100.00% @ 2.32e+04/s elapsed: 00:00:00:00 remain: 00:00:00:00\n",
      "[odgi::extract] adding subpaths 100.00% @ 6.50e+00/s elapsed: 00:00:00:07 remain: 00:00:00:00\n",
      "[odgi::extract] checking missing edges and empty subpaths 100.00% @ 7.18e+01/s elapsed: 00:00:00:00 remain: 00:00:00:00\n",
      "[odgi::viz] Path range to pangenomic range conversion.\n",
      "[odgi::viz] Visualizing the graph in the pangenomic range [3.10025e+07, 3.12308e+07]\n",
      "[odgi::viz] Binned mode\n",
      "[odgi::viz] bin width: 228.315\n",
      "[odgi::viz] image width: 1000\n",
      "[odgi::viz] Path range to pangenomic range conversion.\n",
      "[odgi::viz] Visualizing the graph in the pangenomic range [3.10025e+07, 3.12308e+07]\n",
      "[odgi::viz] Binned mode\n",
      "[odgi::viz] bin width: 228.315\n",
      "[odgi::viz] image width: 1000\n",
      "[odgi::extract] expansion and adding connecting edges\n",
      "[odgi::extract] extracting path ranges 100.00% @ 1.95e+00/s elapsed: 00:00:00:00 remain: 00:00:00:00\n",
      "[odgi::extract] merge subpaths closer than 100000 bps - iteration 1 (max 3) 100.00% @ 6.48e+00/s elapsed: 00:00:00:02 remain: 00:00:00:00\n",
      "[odgi::extract] merge subpaths closer than 100000 bps - iteration 2 (max 3) 100.00% @ 6.85e+00/s elapsed: 00:00:00:02 remain: 00:00:00:00\n",
      "[odgi::extract] adding connecting edges 100.00% @ 4.27e+04/s elapsed: 00:00:00:00 remain: 00:00:00:00\n",
      "[odgi::extract] adding subpaths 100.00% @ 8.40e+00/s elapsed: 00:00:00:06 remain: 00:00:00:00\n",
      "[odgi::extract] checking missing edges and empty subpaths 100.00% @ 7.15e+01/s elapsed: 00:00:00:00 remain: 00:00:00:00\n",
      "[odgi::viz] Path range to pangenomic range conversion.\n",
      "[odgi::viz] Visualizing the graph in the pangenomic range [3.14172e+07, 3.14495e+07]\n",
      "[odgi::viz] Binned mode\n",
      "[odgi::viz] bin width: 32.236\n",
      "[odgi::viz] image width: 1000\n",
      "[odgi::viz] Path range to pangenomic range conversion.\n",
      "[odgi::viz] Visualizing the graph in the pangenomic range [3.14172e+07, 3.14495e+07]\n",
      "[odgi::viz] Binned mode\n",
      "[odgi::viz] bin width: 32.236\n",
      "[odgi::viz] image width: 1000\n",
      "[odgi::extract] expansion and adding connecting edges\n",
      "[odgi::extract] extracting path ranges 100.00% @ 1.44e+00/s elapsed: 00:00:00:00 remain: 00:00:00:00\n",
      "[odgi::extract] merge subpaths closer than 100000 bps - iteration 1 (max 3) 100.00% @ 5.53e+00/s elapsed: 00:00:00:03 remain: 00:00:00:00\n",
      "[odgi::extract] merge subpaths closer than 100000 bps - iteration 2 (max 3) 100.00% @ 5.52e+00/s elapsed: 00:00:00:03 remain: 00:00:00:00\n",
      "[odgi::extract] adding connecting edges 100.00% @ 9.18e+03/s elapsed: 00:00:00:00 remain: 00:00:00:00\n",
      "[odgi::extract] adding subpaths 100.00% @ 3.45e+00/s elapsed: 00:00:00:14 remain: 00:00:00:00\n",
      "[odgi::extract] checking missing edges and empty subpaths 100.00% @ 7.18e+01/s elapsed: 00:00:00:00 remain: 00:00:00:00\n",
      "[odgi::viz] Path range to pangenomic range conversion.\n",
      "[odgi::viz] Visualizing the graph in the pangenomic range [3.29044e+07, 3.29357e+07]\n",
      "[odgi::viz] Binned mode\n",
      "[odgi::viz] bin width: 31.29\n",
      "[odgi::viz] image width: 1000\n",
      "[odgi::viz] Path range to pangenomic range conversion.\n",
      "[odgi::viz] Visualizing the graph in the pangenomic range [3.29044e+07, 3.29357e+07]\n",
      "[odgi::viz] Binned mode\n",
      "[odgi::viz] bin width: 31.29\n",
      "[odgi::viz] image width: 1000\n",
      "[odgi::extract] expansion and adding connecting edges\n",
      "[odgi::extract] extracting path ranges 100.00% @ 1.77e+00/s elapsed: 00:00:00:00 remain: 00:00:00:00\n",
      "[odgi::extract] merge subpaths closer than 100000 bps - iteration 1 (max 3) 100.00% @ 7.29e+00/s elapsed: 00:00:00:02 remain: 00:00:00:00\n",
      "[odgi::extract] merge subpaths closer than 100000 bps - iteration 2 (max 3) 100.00% @ 6.78e+00/s elapsed: 00:00:00:02 remain: 00:00:00:00\n",
      "[odgi::extract] adding connecting edges 100.00% @ 6.14e+03/s elapsed: 00:00:00:00 remain: 00:00:00:00\n",
      "[odgi::extract] adding subpaths 100.00% @ 9.02e+00/s elapsed: 00:00:00:05 remain: 00:00:00:00\n",
      "[odgi::extract] checking missing edges and empty subpaths 100.00% @ 7.17e+01/s elapsed: 00:00:00:00 remain: 00:00:00:00\n",
      "[odgi::viz] Path range to pangenomic range conversion.\n",
      "[odgi::viz] Visualizing the graph in the pangenomic range [3.37688e+07, 3.38577e+07]\n",
      "[odgi::viz] Binned mode\n",
      "[odgi::viz] bin width: 88.909\n",
      "[odgi::viz] image width: 1000\n",
      "[odgi::viz] Path range to pangenomic range conversion.\n",
      "[odgi::viz] Visualizing the graph in the pangenomic range [3.37688e+07, 3.38577e+07]\n",
      "[odgi::viz] Binned mode\n",
      "[odgi::viz] bin width: 88.909\n",
      "[odgi::viz] image width: 1000\n",
      "[odgi::extract] expansion and adding connecting edges\n",
      "[odgi::extract] extracting path ranges 100.00% @ 1.70e+00/s elapsed: 00:00:00:00 remain: 00:00:00:00\n",
      "[odgi::extract] merge subpaths closer than 100000 bps - iteration 1 (max 3) 100.00% @ 1.56e+00/s elapsed: 00:00:00:11 remain: 00:00:00:00\n",
      "[odgi::extract] merge subpaths closer than 100000 bps - iteration 2 (max 3) 100.00% @ 7.35e+00/s elapsed: 00:00:00:02 remain: 00:00:00:00\n",
      "[odgi::extract] adding connecting edges 100.00% @ 1.15e+04/s elapsed: 00:00:00:00 remain: 00:00:00:00\n",
      "[odgi::extract] adding subpaths 100.00% @ 1.42e+00/s elapsed: 00:00:00:35 remain: 00:00:00:00\n",
      "[odgi::extract] checking missing edges and empty subpaths 100.00% @ 7.18e+01/s elapsed: 00:00:00:00 remain: 00:00:00:00\n",
      "[odgi::viz] Path range to pangenomic range conversion.\n",
      "[odgi::viz] Visualizing the graph in the pangenomic range [3.49536e+07, 3.49698e+07]\n",
      "[odgi::viz] Binned mode\n",
      "[odgi::viz] bin width: 16.184\n",
      "[odgi::viz] image width: 1000\n",
      "[odgi::viz] Path range to pangenomic range conversion.\n",
      "[odgi::viz] Visualizing the graph in the pangenomic range [3.49536e+07, 3.49698e+07]\n",
      "[odgi::viz] Binned mode\n",
      "[odgi::viz] bin width: 16.184\n",
      "[odgi::viz] image width: 1000\n",
      "[odgi::extract] expansion and adding connecting edges\n",
      "[odgi::extract] extracting path ranges 100.00% @ 1.74e+00/s elapsed: 00:00:00:00 remain: 00:00:00:00\n",
      "[odgi::extract] merge subpaths closer than 100000 bps - iteration 1 (max 3) 100.00% @ 5.93e+00/s elapsed: 00:00:00:03 remain: 00:00:00:00\n",
      "[odgi::extract] merge subpaths closer than 100000 bps - iteration 2 (max 3) 100.00% @ 7.81e+00/s elapsed: 00:00:00:02 remain: 00:00:00:00\n",
      "[odgi::extract] adding connecting edges 100.00% @ 1.78e+03/s elapsed: 00:00:00:00 remain: 00:00:00:00\n",
      "[odgi::extract] adding subpaths 100.00% @ 7.54e+00/s elapsed: 00:00:00:06 remain: 00:00:00:00\n",
      "[odgi::extract] checking missing edges and empty subpaths 100.00% @ 7.16e+01/s elapsed: 00:00:00:00 remain: 00:00:00:00\n",
      "[odgi::viz] Path range to pangenomic range conversion.\n",
      "[odgi::viz] Visualizing the graph in the pangenomic range [3.54698e+07, 3.55427e+07]\n",
      "[odgi::viz] Binned mode\n",
      "[odgi::viz] bin width: 72.991\n",
      "[odgi::viz] image width: 1000\n",
      "[odgi::viz] Path range to pangenomic range conversion.\n",
      "[odgi::viz] Visualizing the graph in the pangenomic range [3.54698e+07, 3.55427e+07]\n",
      "[odgi::viz] Binned mode\n",
      "[odgi::viz] bin width: 72.991\n",
      "[odgi::viz] image width: 1000\n",
      "[odgi::extract] expansion and adding connecting edges\n",
      "[odgi::extract] extracting path ranges 100.00% @ 1.34e+00/s elapsed: 00:00:00:00 remain: 00:00:00:00\n",
      "[odgi::extract] merge subpaths closer than 100000 bps - iteration 1 (max 3) 100.00% @ 5.49e+00/s elapsed: 00:00:00:03 remain: 00:00:00:00\n",
      "[odgi::extract] merge subpaths closer than 100000 bps - iteration 2 (max 3) 100.00% @ 6.64e+00/s elapsed: 00:00:00:02 remain: 00:00:00:00\n",
      "[odgi::extract] adding connecting edges 100.00% @ 3.27e+03/s elapsed: 00:00:00:00 remain: 00:00:00:00\n",
      "[odgi::extract] adding subpaths 100.00% @ 1.04e+01/s elapsed: 00:00:00:04 remain: 00:00:00:00\n",
      "[odgi::extract] checking missing edges and empty subpaths 100.00% @ 7.18e+01/s elapsed: 00:00:00:00 remain: 00:00:00:00\n",
      "[odgi::viz] Path range to pangenomic range conversion.\n",
      "[odgi::viz] Visualizing the graph in the pangenomic range [3.83663e+07, 3.83796e+07]\n",
      "[odgi::viz] Binned mode\n",
      "[odgi::viz] bin width: 13.346\n",
      "[odgi::viz] image width: 1000\n",
      "[odgi::viz] Path range to pangenomic range conversion.\n",
      "[odgi::viz] Visualizing the graph in the pangenomic range [3.83663e+07, 3.83796e+07]\n",
      "[odgi::viz] Binned mode\n",
      "[odgi::viz] bin width: 13.346\n",
      "[odgi::viz] image width: 1000\n",
      "[odgi::extract] expansion and adding connecting edges\n",
      "[odgi::extract] extracting path ranges 100.00% @ 2.01e+00/s elapsed: 00:00:00:00 remain: 00:00:00:00\n",
      "[odgi::extract] merge subpaths closer than 100000 bps - iteration 1 (max 3) 100.00% @ 6.77e+00/s elapsed: 00:00:00:02 remain: 00:00:00:00\n",
      "[odgi::extract] merge subpaths closer than 100000 bps - iteration 2 (max 3) 100.00% @ 6.80e+00/s elapsed: 00:00:00:02 remain: 00:00:00:00\n",
      "[odgi::extract] adding connecting edges 100.00% @ 4.92e+03/s elapsed: 00:00:00:00 remain: 00:00:00:00\n",
      "[odgi::extract] adding subpaths 100.00% @ 9.84e+00/s elapsed: 00:00:00:05 remain: 00:00:00:00\n",
      "[odgi::extract] checking missing edges and empty subpaths 100.00% @ 7.18e+01/s elapsed: 00:00:00:00 remain: 00:00:00:00\n",
      "[odgi::viz] Path range to pangenomic range conversion.\n",
      "[odgi::viz] Visualizing the graph in the pangenomic range [3.95789e+07, 3.96255e+07]\n",
      "[odgi::viz] Binned mode\n",
      "[odgi::viz] bin width: 46.678\n",
      "[odgi::viz] image width: 1000\n",
      "[odgi::viz] Path range to pangenomic range conversion.\n",
      "[odgi::viz] Visualizing the graph in the pangenomic range [3.95789e+07, 3.96255e+07]\n",
      "[odgi::viz] Binned mode\n",
      "[odgi::viz] bin width: 46.678\n",
      "[odgi::viz] image width: 1000\n",
      "[odgi::extract] expansion and adding connecting edges\n",
      "[odgi::extract] extracting path ranges 100.00% @ 2.03e+00/s elapsed: 00:00:00:00 remain: 00:00:00:00\n",
      "[odgi::extract] merge subpaths closer than 100000 bps - iteration 1 (max 3) 100.00% @ 2.95e+00/s elapsed: 00:00:00:06 remain: 00:00:00:00\n",
      "[odgi::extract] merge subpaths closer than 100000 bps - iteration 2 (max 3) 100.00% @ 2.84e+00/s elapsed: 00:00:00:06 remain: 00:00:00:00\n",
      "[odgi::extract] adding connecting edges 100.00% @ 1.23e+04/s elapsed: 00:00:00:00 remain: 00:00:00:00\n",
      "[odgi::extract] adding subpaths 100.00% @ 5.80e+00/s elapsed: 00:00:00:08 remain: 00:00:00:00\n",
      "[odgi::extract] checking missing edges and empty subpaths 100.00% @ 7.18e+01/s elapsed: 00:00:00:00 remain: 00:00:00:00\n",
      "(pggb_fatica) \n"
     ]
    },
    {
     "ename": "",
     "evalue": "1",
     "output_type": "error",
     "traceback": []
    }
   ],
   "source": [
    "inputOdgi=chr4_cluster.p95.s5000.n17.k47.G700-900-1100.at9852.pggbRecommended/chr4.fasta.gz.856e650.e34d4cd.a91cbe1.smooth.final.og\n",
    "outdir=neighborhoods/chr4\n",
    "count=0\n",
    "while read a b c; \n",
    "do\n",
    "    ((count+=1))   \n",
    "    r_path=$(echo \"${a}:${b}-${c}\")\n",
    "    r=${r_path}\n",
    "    nh=$(echo \"nh_${count}\")\n",
    "    outprefix=${nh}.region\n",
    "\n",
    "    ########################## view the pangenome graph of the region ######################\n",
    "    odgi viz \\\n",
    "    -i $inputOdgi \\\n",
    "    -o $outdir/${outprefix}.bm.png \\\n",
    "    -x 1000 \\\n",
    "    -bm \\\n",
    "    -t 20 \\\n",
    "    -P \\\n",
    "    -r ${r}\n",
    "    ########################## Node Strandedness ############################################\n",
    "    odgi viz \\\n",
    "    -i $inputOdgi \\\n",
    "    -o $outdir/${outprefix}.z.png \\\n",
    "    -x 1000 \\\n",
    "    -z \\\n",
    "    -t 20 \\\n",
    "    -P \\\n",
    "    -r ${r}\n",
    "    \n",
    "    ############################################ extract the region ############################################\n",
    "    odgi extract \\\n",
    "    -i $inputOdgi \\\n",
    "    -r ${r} \\\n",
    "    --threads 24 -P \\\n",
    "    -d 100000 \\\n",
    "    -c 1  \\\n",
    "    -o $outdir/${outprefix}.og \n",
    "    \n",
    "    ########################### get the coordinates in all the accessions ########################################\n",
    "    odgi paths -L \\\n",
    "    -i $outdir/${outprefix}.og  \\\n",
    "    > $outdir/${outprefix}.allPathsCoordinates.txt\n",
    "done < neighborhoods/chr4_neighborhood.coordinates.bed"
   ]
  },
  {
   "cell_type": "code",
   "execution_count": 15,
   "id": "613d1bb6-ff84-4e07-8069-33ad6f91a337",
   "metadata": {},
   "outputs": [
    {
     "name": "stdout",
     "output_type": "stream",
     "text": [
      "\u001b[0m\u001b[00mneighborhoods/chr4/nh_1.region.allPathsCoordinates.txt\u001b[0m\n",
      "\u001b[00mneighborhoods/chr4/nh_10.region.allPathsCoordinates.txt\u001b[0m\n",
      "\u001b[00mneighborhoods/chr4/nh_11.region.allPathsCoordinates.txt\u001b[0m\n",
      "\u001b[00mneighborhoods/chr4/nh_12.region.allPathsCoordinates.txt\u001b[0m\n",
      "\u001b[00mneighborhoods/chr4/nh_13.region.allPathsCoordinates.txt\u001b[0m\n",
      "\u001b[00mneighborhoods/chr4/nh_14.region.allPathsCoordinates.txt\u001b[0m\n",
      "\u001b[00mneighborhoods/chr4/nh_15.region.allPathsCoordinates.txt\u001b[0m\n",
      "\u001b[00mneighborhoods/chr4/nh_16.region.allPathsCoordinates.txt\u001b[0m\n",
      "\u001b[00mneighborhoods/chr4/nh_2.region.allPathsCoordinates.txt\u001b[0m\n",
      "\u001b[00mneighborhoods/chr4/nh_3.region.allPathsCoordinates.txt\u001b[0m\n",
      "\u001b[00mneighborhoods/chr4/nh_4.region.allPathsCoordinates.txt\u001b[0m\n",
      "\u001b[00mneighborhoods/chr4/nh_5.region.allPathsCoordinates.txt\u001b[0m\n",
      "\u001b[00mneighborhoods/chr4/nh_6.region.allPathsCoordinates.txt\u001b[0m\n",
      "\u001b[00mneighborhoods/chr4/nh_7.region.allPathsCoordinates.txt\u001b[0m\n",
      "\u001b[00mneighborhoods/chr4/nh_8.region.allPathsCoordinates.txt\u001b[0m\n",
      "\u001b[00mneighborhoods/chr4/nh_9.region.allPathsCoordinates.txt\u001b[0m\n",
      "(pggb_fatica) \n"
     ]
    },
    {
     "ename": "",
     "evalue": "1",
     "output_type": "error",
     "traceback": []
    }
   ],
   "source": [
    "ls neighborhoods/chr4/nh_*.region.allPathsCoordinates.txt"
   ]
  },
  {
   "cell_type": "code",
   "execution_count": 17,
   "id": "076ff7ee-cf5d-48c8-9ea4-bf47f3fc578d",
   "metadata": {},
   "outputs": [
    {
     "name": "stdout",
     "output_type": "stream",
     "text": [
      "(pggb_fatica) \n"
     ]
    },
    {
     "ename": "",
     "evalue": "1",
     "output_type": "error",
     "traceback": []
    }
   ],
   "source": [
    "for i in {1..16}\n",
    "do\n",
    "sed -i \"s/$/\\tchr4_nh${i}/g\" neighborhoods/chr4/nh_${i}.region.allPathsCoordinates.txt\n",
    "done\n",
    "\n",
    "for i in {1..9}\n",
    "do \n",
    "sed -i \"s/chr4_nh${i}/chr4_nh0${i}/g\" neighborhoods/chr4/nh_${i}.region.allPathsCoordinates.txt\n",
    "done\n",
    "\n",
    "\n",
    "for i in {1..16}\n",
    "do \n",
    "cut -d \":\" -f1,3 neighborhoods/chr4/nh_${i}.region.allPathsCoordinates.txt |sed \"s/:/\\t/g\"|sed \"s/-/\\t/g\" > neighborhoods/chr4/nh_${i}.region.allPathsCoordinates.bed\n",
    "done"
   ]
  }
 ],
 "metadata": {
  "kernelspec": {
   "display_name": "Bash",
   "language": "bash",
   "name": "bash"
  },
  "language_info": {
   "codemirror_mode": "shell",
   "file_extension": ".sh",
   "mimetype": "text/x-sh",
   "name": "bash"
  }
 },
 "nbformat": 4,
 "nbformat_minor": 5
}
