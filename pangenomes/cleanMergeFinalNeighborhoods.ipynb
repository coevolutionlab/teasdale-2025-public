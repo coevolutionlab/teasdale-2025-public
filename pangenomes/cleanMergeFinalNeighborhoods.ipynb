{
 "cells": [
  {
   "cell_type": "markdown",
   "id": "7172dc7d-5993-4a9a-ba65-202f43402a4e",
   "metadata": {},
   "source": [
    "## Chromosome 4"
   ]
  },
  {
   "cell_type": "code",
   "execution_count": 1,
   "id": "81de2e20-0b29-4b68-8ed9-13c9720d3c39",
   "metadata": {},
   "outputs": [],
   "source": [
    "cat neighborhoods/chr4/*bed|sort -k1,1 -k2n > neighborhoods/final/final_all_neighborhoods.chr4.bed\n",
    "bedtools merge -i neighborhoods/final/final_all_neighborhoods.chr4.bed -c 4 -o distinct -d -1 > tmp && mv tmp neighborhoods/final/final_all_neighborhoods.chr4.bed"
   ]
  },
  {
   "cell_type": "markdown",
   "id": "f72e81ef-bd4e-4ce1-af65-212b86333d9e",
   "metadata": {},
   "source": [
    "##  Chromosome 5"
   ]
  },
  {
   "cell_type": "code",
   "execution_count": 2,
   "id": "be212a57-0c58-4e5d-8990-7f8d3b10b101",
   "metadata": {},
   "outputs": [],
   "source": [
    "cat neighborhoods/chr5/*bed|sort -k1,1 -k2n > neighborhoods/final/final_all_neighborhoods.chr5.bed\n",
    "bedtools merge -i neighborhoods/final/final_all_neighborhoods.chr5.bed -c 4 -o distinct -d -1 > tmp && mv tmp neighborhoods/final/final_all_neighborhoods.chr5.bed"
   ]
  },
  {
   "cell_type": "markdown",
   "id": "f79e6df6-cfb4-4a2c-b305-535566eb6338",
   "metadata": {},
   "source": [
    "## Chromosome 1"
   ]
  },
  {
   "cell_type": "code",
   "execution_count": 1,
   "id": "d2204d3e-85a6-48d0-a124-f32255212122",
   "metadata": {},
   "outputs": [],
   "source": [
    "cat neighborhoods/chr1/*bed|sort -k1,1 -k2n > neighborhoods/final/final_all_neighborhoods.chr1.bed\n",
    "bedtools merge -i neighborhoods/final/final_all_neighborhoods.chr1.bed -c 4 -o distinct -d -1 > tmp && mv tmp neighborhoods/final/final_all_neighborhoods.chr1.bed"
   ]
  },
  {
   "cell_type": "markdown",
   "id": "268bf649-d89a-4ad1-8f5b-3a5c830355e2",
   "metadata": {},
   "source": [
    "## Chromosome 3\n"
   ]
  },
  {
   "cell_type": "code",
   "execution_count": 2,
   "id": "1dd79403-d998-475f-a898-e0d8d310dd3e",
   "metadata": {},
   "outputs": [],
   "source": [
    "cat neighborhoods/chr3/*bed|sort -k1,1 -k2n > neighborhoods/final/final_all_neighborhoods.chr3.bed\n",
    "bedtools merge -i neighborhoods/final/final_all_neighborhoods.chr3.bed -c 4 -o distinct -d -1 > tmp && mv tmp neighborhoods/final/final_all_neighborhoods.chr3.bed"
   ]
  },
  {
   "cell_type": "markdown",
   "id": "43c32164-4722-4551-b353-8b85a7b9861d",
   "metadata": {},
   "source": [
    "## Chromosome 2"
   ]
  },
  {
   "cell_type": "code",
   "execution_count": 4,
   "id": "9dfbb28b-bc0c-41e1-842a-276176015bfd",
   "metadata": {},
   "outputs": [],
   "source": [
    "cat neighborhoods/chr2/*bed|sort -k1,1 -k2n > neighborhoods/final/final_all_neighborhoods.chr2.bed\n",
    "bedtools merge -i neighborhoods/final/final_all_neighborhoods.chr2.bed -c 4 -o distinct -d 200 > tmp && mv tmp neighborhoods/final/final_all_neighborhoods.chr2.bed"
   ]
  },
  {
   "cell_type": "code",
   "execution_count": null,
   "id": "32367445-7e81-4a9a-bf1d-8e0dcab337b0",
   "metadata": {},
   "outputs": [],
   "source": []
  }
 ],
 "metadata": {
  "kernelspec": {
   "display_name": "Bash",
   "language": "bash",
   "name": "bash"
  },
  "language_info": {
   "codemirror_mode": "shell",
   "file_extension": ".sh",
   "mimetype": "text/x-sh",
   "name": "bash"
  }
 },
 "nbformat": 4,
 "nbformat_minor": 5
}
