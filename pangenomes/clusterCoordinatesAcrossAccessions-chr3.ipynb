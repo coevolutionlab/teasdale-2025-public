{
 "cells": [
  {
   "cell_type": "code",
   "execution_count": 1,
   "id": "7b807d2e-aa58-4d2b-afa4-c26fcd0fb5e2",
   "metadata": {},
   "outputs": [
    {
     "name": "stdout",
     "output_type": "stream",
     "text": [
      "(base) \n",
      "(/u/gshirsekar/conda-envs/pggb) \n"
     ]
    },
    {
     "ename": "",
     "evalue": "1",
     "output_type": "error",
     "traceback": []
    }
   ],
   "source": [
    "source ~/.bashrc\n",
    "conda activate /u/gshirsekar/conda-envs/pggb"
   ]
  },
  {
   "cell_type": "code",
   "execution_count": 2,
   "id": "15649021-e3cb-41da-bc4a-9a2e2eedfbce",
   "metadata": {},
   "outputs": [
    {
     "name": "stdout",
     "output_type": "stream",
     "text": [
      "/raven/u/gshirsekar/src/odgi-v0.8.3/bin/odgi\n",
      "(/u/gshirsekar/conda-envs/pggb) \n"
     ]
    },
    {
     "ename": "",
     "evalue": "1",
     "output_type": "error",
     "traceback": []
    }
   ],
   "source": [
    "which odgi"
   ]
  },
  {
   "cell_type": "markdown",
   "id": "a00bf65d-0e4f-4dd2-b467-a0e514ff8645",
   "metadata": {},
   "source": [
    "# Chromosome 3\n"
   ]
  },
  {
   "cell_type": "code",
   "execution_count": 7,
   "id": "21cbdac9-b404-4382-8643-4ef6f621b011",
   "metadata": {},
   "outputs": [
    {
     "name": "stdout",
     "output_type": "stream",
     "text": [
      "(/u/gshirsekar/conda-envs/pggb) \n",
      "(/u/gshirsekar/conda-envs/pggb) \n",
      "(/u/gshirsekar/conda-envs/pggb) \n",
      "(/u/gshirsekar/conda-envs/pggb) \n",
      "(/u/gshirsekar/conda-envs/pggb) \n",
      "(/u/gshirsekar/conda-envs/pggb) \n",
      "(/u/gshirsekar/conda-envs/pggb) \n",
      "(/u/gshirsekar/conda-envs/pggb) \n",
      "(/u/gshirsekar/conda-envs/pggb) \n",
      "(/u/gshirsekar/conda-envs/pggb) \n"
     ]
    },
    {
     "ename": "",
     "evalue": "1",
     "output_type": "error",
     "traceback": []
    }
   ],
   "source": [
    "\n",
    "mkdir -p chr5_cluster.p95.s5000.n17.k47.G700-900-1100.at9852.pggbRecommended/cluster_og\n",
    "mkdir -p chr5_cluster.p95.s5000.n17.k47.G700-900-1100.at9852.pggbRecommended/cluster_gfa\n",
    "mkdir -p chr5_cluster.p95.s5000.n17.k47.G700-900-1100.at9852.pggbRecommended/cluster_allPathCoordinates\n",
    "mkdir -p chr5_cluster.p95.s5000.n17.k47.G700-900-1100.at9852.pggbRecommended/cluster_viz\n",
    "mkdir -p chr5_cluster.p95.s5000.n17.k47.G700-900-1100.at9852.pggbRecommended/cluster_pav\n",
    "mkdir -p chr5_cluster.p95.s5000.n17.k47.G700-900-1100.at9852.pggbRecommended/cluster_similarity\n",
    "mkdir -p chr5_cluster.p95.s5000.n17.k47.G700-900-1100.at9852.pggbRecommended/cluster_heaps\n",
    "mkdir -p chr5_cluster.p95.s5000.n17.k47.G700-900-1100.at9852.pggbRecommended/cluster_panacus\n",
    "mkdir -p chr5_cluster.p95.s5000.n17.k47.G700-900-1100.at9852.pggbRecommended/cluster_genebed\n"
   ]
  },
  {
   "cell_type": "code",
   "execution_count": 3,
   "id": "24b60d35-cb5e-4fcf-b396-826cd39a243d",
   "metadata": {},
   "outputs": [
    {
     "name": "stdout",
     "output_type": "stream",
     "text": [
      "(/u/gshirsekar/conda-envs/pggb) \n"
     ]
    },
    {
     "ename": "",
     "evalue": "1",
     "output_type": "error",
     "traceback": []
    }
   ],
   "source": [
    "inputOdgi=chr3_cluster.p95.s5000.n17.k47.G700-900-1100.at9852.pggbRecommended/chr3.fasta.gz.856e650.e34d4cd.a91cbe1.smooth.final.og"
   ]
  },
  {
   "cell_type": "code",
   "execution_count": 4,
   "id": "819e5305-dc07-46fb-a39e-a772a0a1948b",
   "metadata": {},
   "outputs": [
    {
     "name": "stdout",
     "output_type": "stream",
     "text": [
      "at6137_1_chr3:0-26194750\n",
      "at6923_1_chr3:0-28738137\n",
      "at6929_1_chr3:0-25712594\n",
      "at7143_1_chr3:0-26044309\n",
      "at8285_1_chr3:0-26796854\n",
      "at9104_1_chr3:0-27458818\n",
      "at9336_1_chr3:0-27060997\n",
      "at9503_1_chr3:0-28010412\n",
      "at9578_1_chr3:0-26348032\n",
      "at9744_1_chr3:0-27175644\n",
      "at9762_1_chr3:0-27262250\n",
      "at9806_1_chr3:0-27369393\n",
      "at9830_1_chr3:0-27041555\n",
      "at9847_1_chr3:0-28044082\n",
      "at9852_1_chr3:0-26358531\n",
      "at9879_1_chr3:0-27173682\n",
      "at9883_1_chr3:0-26028663\n",
      "at9900_1_chr3:0-27314136\n",
      "(/u/gshirsekar/conda-envs/pggb) \n"
     ]
    },
    {
     "ename": "",
     "evalue": "1",
     "output_type": "error",
     "traceback": []
    }
   ],
   "source": [
    "odgi paths -L \\\n",
    "-i $inputOdgi"
   ]
  },
  {
   "cell_type": "code",
   "execution_count": 76,
   "id": "e0b872d9-234d-4705-a871-80357e1bcd04",
   "metadata": {
    "collapsed": true,
    "jupyter": {
     "outputs_hidden": true
    }
   },
   "outputs": [
    {
     "name": "stdout",
     "output_type": "stream",
     "text": [
      "[odgi::viz] Path range to pangenomic range conversion.\n",
      "[odgi::viz] Visualizing the graph in the pangenomic range [2.91685e+07, 2.97161e+07]\n",
      "[odgi::viz] Binned mode\n",
      "[odgi::viz] bin width: 547.583\n",
      "[odgi::viz] image width: 1000\n",
      "bash: -t: command not found\n",
      "[odgi::extract] expansion and adding connecting edges\n",
      "[odgi::extract] extracting path ranges 100.00% @ 8.28e-01/s elapsed: 00:00:00:01 remain: 00:00:00:00\n",
      "[odgi::extract] merge subpaths closer than 100000 bps - iteration 1 (max 3) 100.00% @ 2.01e+00/s elapsed: 00:00:00:08 remain: 00:00:00:00\n",
      "[odgi::extract] merge subpaths closer than 100000 bps - iteration 2 (max 3) 100.00% @ 2.27e+00/s elapsed: 00:00:00:07 remain: 00:00:00:00\n",
      "[odgi::extract] adding connecting edges 100.00% @ 1.17e+05/s elapsed: 00:00:00:00 remain: 00:00:00:00\n",
      "[odgi::extract] adding subpaths 100.00% @ 3.72e+00/s elapsed: 00:00:00:13 remain: 00:00:00:00\n",
      "[odgi::extract] checking missing edges and empty subpaths 100.00% @ 7.09e+01/s elapsed: 00:00:00:00 remain: 00:00:00:00\n",
      "[odgi::paths] error: the given file \"chr4_cluster.p95.s5000.n17.k47.G700-900-1100.at9852.pggbRecommended/cluster_og/RPP4.region.optimized_sorted.og\" does not exist. Please specify an existing input file in ODGI format via -i=[FILE], --idx=[FILE].\n",
      "[odgi::paths] error: the given file \"chr4_cluster.p95.s5000.n17.k47.G700-900-1100.at9852.pggbRecommended/cluster_og/RPP4.region.optimized_sorted.og\" does not exist. Please specify an existing input file in ODGI format via -i=[FILE], --idx=[FILE].\n",
      "[odgi::paths] error: the given file \"chr4_cluster.p95.s5000.n17.k47.G700-900-1100.at9852.pggbRecommended/cluster_og/RPP4.region.optimized_sorted.og\" does not exist. Please specify an existing input file in ODGI format via -i=[FILE], --idx=[FILE].\n",
      "[odgi::paths] error: the given file \"chr4_cluster.p95.s5000.n17.k47.G700-900-1100.at9852.pggbRecommended/cluster_og/RPP4.region.optimized_sorted.og\" does not exist. Please specify an existing input file in ODGI format via -i=[FILE], --idx=[FILE].\n",
      "[odgi::paths] error: the given file \"chr4_cluster.p95.s5000.n17.k47.G700-900-1100.at9852.pggbRecommended/cluster_og/RPP4.region.optimized_sorted.og\" does not exist. Please specify an existing input file in ODGI format via -i=[FILE], --idx=[FILE].\n",
      "[odgi::paths] error: the given file \"chr4_cluster.p95.s5000.n17.k47.G700-900-1100.at9852.pggbRecommended/cluster_og/RPP4.region.optimized_sorted.og\" does not exist. Please specify an existing input file in ODGI format via -i=[FILE], --idx=[FILE].\n",
      "[odgi::paths] error: the given file \"chr4_cluster.p95.s5000.n17.k47.G700-900-1100.at9852.pggbRecommended/cluster_og/RPP4.region.optimized_sorted.og\" does not exist. Please specify an existing input file in ODGI format via -i=[FILE], --idx=[FILE].\n",
      "[odgi::paths] error: the given file \"chr4_cluster.p95.s5000.n17.k47.G700-900-1100.at9852.pggbRecommended/cluster_og/RPP4.region.optimized_sorted.og\" does not exist. Please specify an existing input file in ODGI format via -i=[FILE], --idx=[FILE].\n",
      "[odgi::paths] error: the given file \"chr4_cluster.p95.s5000.n17.k47.G700-900-1100.at9852.pggbRecommended/cluster_og/RPP4.region.optimized_sorted.og\" does not exist. Please specify an existing input file in ODGI format via -i=[FILE], --idx=[FILE].\n",
      "[odgi::paths] error: the given file \"chr4_cluster.p95.s5000.n17.k47.G700-900-1100.at9852.pggbRecommended/cluster_og/RPP4.region.optimized_sorted.og\" does not exist. Please specify an existing input file in ODGI format via -i=[FILE], --idx=[FILE].\n",
      "[odgi::paths] error: the given file \"chr4_cluster.p95.s5000.n17.k47.G700-900-1100.at9852.pggbRecommended/cluster_og/RPP4.region.optimized_sorted.og\" does not exist. Please specify an existing input file in ODGI format via -i=[FILE], --idx=[FILE].\n",
      "[odgi::paths] error: the given file \"chr4_cluster.p95.s5000.n17.k47.G700-900-1100.at9852.pggbRecommended/cluster_og/RPP4.region.optimized_sorted.og\" does not exist. Please specify an existing input file in ODGI format via -i=[FILE], --idx=[FILE].\n",
      "[odgi::paths] error: the given file \"chr4_cluster.p95.s5000.n17.k47.G700-900-1100.at9852.pggbRecommended/cluster_og/RPP4.region.optimized_sorted.og\" does not exist. Please specify an existing input file in ODGI format via -i=[FILE], --idx=[FILE].\n",
      "[odgi::paths] error: the given file \"chr4_cluster.p95.s5000.n17.k47.G700-900-1100.at9852.pggbRecommended/cluster_og/RPP4.region.optimized_sorted.og\" does not exist. Please specify an existing input file in ODGI format via -i=[FILE], --idx=[FILE].\n",
      "[odgi::paths] error: the given file \"chr4_cluster.p95.s5000.n17.k47.G700-900-1100.at9852.pggbRecommended/cluster_og/RPP4.region.optimized_sorted.og\" does not exist. Please specify an existing input file in ODGI format via -i=[FILE], --idx=[FILE].\n",
      "[odgi::paths] error: the given file \"chr4_cluster.p95.s5000.n17.k47.G700-900-1100.at9852.pggbRecommended/cluster_og/RPP4.region.optimized_sorted.og\" does not exist. Please specify an existing input file in ODGI format via -i=[FILE], --idx=[FILE].\n",
      "[odgi::paths] error: the given file \"chr4_cluster.p95.s5000.n17.k47.G700-900-1100.at9852.pggbRecommended/cluster_og/RPP4.region.optimized_sorted.og\" does not exist. Please specify an existing input file in ODGI format via -i=[FILE], --idx=[FILE].\n",
      "[odgi::paths] error: the given file \"chr4_cluster.p95.s5000.n17.k47.G700-900-1100.at9852.pggbRecommended/cluster_og/RPP4.region.optimized_sorted.og\" does not exist. Please specify an existing input file in ODGI format via -i=[FILE], --idx=[FILE].\n",
      "[odgi::heaps] error: the given file \"chr4_cluster.p95.s5000.n17.k47.G700-900-1100.at9852.pggbRecommended/cluster_og/RPP4.region.optimized_sorted.og\" does not exist. Please specify an existing input file in ODGI format via -i=[FILE], --idx=[FILE].\n",
      "[odgi::heaps] error: the given file \"chr4_cluster.p95.s5000.n17.k47.G700-900-1100.at9852.pggbRecommended/cluster_og/RPP4.region.optimized_sorted.og\" does not exist. Please specify an existing input file in ODGI format via -i=[FILE], --idx=[FILE].\n",
      "[odgi::heaps] error: the given file \"chr4_cluster.p95.s5000.n17.k47.G700-900-1100.at9852.pggbRecommended/cluster_og/RPP4.region.optimized_sorted.og\" does not exist. Please specify an existing input file in ODGI format via -i=[FILE], --idx=[FILE].\n",
      "[odgi::heaps] error: the given file \"chr4_cluster.p95.s5000.n17.k47.G700-900-1100.at9852.pggbRecommended/cluster_og/RPP4.region.optimized_sorted.og\" does not exist. Please specify an existing input file in ODGI format via -i=[FILE], --idx=[FILE].\n",
      "[odgi::heaps] error: the given file \"chr4_cluster.p95.s5000.n17.k47.G700-900-1100.at9852.pggbRecommended/cluster_og/RPP4.region.optimized_sorted.og\" does not exist. Please specify an existing input file in ODGI format via -i=[FILE], --idx=[FILE].\n",
      "[odgi::heaps] error: the given file \"chr4_cluster.p95.s5000.n17.k47.G700-900-1100.at9852.pggbRecommended/cluster_og/RPP4.region.optimized_sorted.og\" does not exist. Please specify an existing input file in ODGI format via -i=[FILE], --idx=[FILE].\n",
      "[odgi::heaps] error: the given file \"chr4_cluster.p95.s5000.n17.k47.G700-900-1100.at9852.pggbRecommended/cluster_og/RPP4.region.optimized_sorted.og\" does not exist. Please specify an existing input file in ODGI format via -i=[FILE], --idx=[FILE].\n",
      "[odgi::heaps] error: the given file \"chr4_cluster.p95.s5000.n17.k47.G700-900-1100.at9852.pggbRecommended/cluster_og/RPP4.region.optimized_sorted.og\" does not exist. Please specify an existing input file in ODGI format via -i=[FILE], --idx=[FILE].\n",
      "[odgi::heaps] error: the given file \"chr4_cluster.p95.s5000.n17.k47.G700-900-1100.at9852.pggbRecommended/cluster_og/RPP4.region.optimized_sorted.og\" does not exist. Please specify an existing input file in ODGI format via -i=[FILE], --idx=[FILE].\n",
      "[odgi::heaps] error: the given file \"chr4_cluster.p95.s5000.n17.k47.G700-900-1100.at9852.pggbRecommended/cluster_og/RPP4.region.optimized_sorted.og\" does not exist. Please specify an existing input file in ODGI format via -i=[FILE], --idx=[FILE].\n",
      "[odgi::heaps] error: the given file \"chr4_cluster.p95.s5000.n17.k47.G700-900-1100.at9852.pggbRecommended/cluster_og/RPP4.region.optimized_sorted.og\" does not exist. Please specify an existing input file in ODGI format via -i=[FILE], --idx=[FILE].\n",
      "[odgi::heaps] error: the given file \"chr4_cluster.p95.s5000.n17.k47.G700-900-1100.at9852.pggbRecommended/cluster_og/RPP4.region.optimized_sorted.og\" does not exist. Please specify an existing input file in ODGI format via -i=[FILE], --idx=[FILE].\n",
      "[odgi::heaps] error: the given file \"chr4_cluster.p95.s5000.n17.k47.G700-900-1100.at9852.pggbRecommended/cluster_og/RPP4.region.optimized_sorted.og\" does not exist. Please specify an existing input file in ODGI format via -i=[FILE], --idx=[FILE].\n",
      "[odgi::heaps] error: the given file \"chr4_cluster.p95.s5000.n17.k47.G700-900-1100.at9852.pggbRecommended/cluster_og/RPP4.region.optimized_sorted.og\" does not exist. Please specify an existing input file in ODGI format via -i=[FILE], --idx=[FILE].\n",
      "[odgi::heaps] error: the given file \"chr4_cluster.p95.s5000.n17.k47.G700-900-1100.at9852.pggbRecommended/cluster_og/RPP4.region.optimized_sorted.og\" does not exist. Please specify an existing input file in ODGI format via -i=[FILE], --idx=[FILE].\n",
      "[odgi::heaps] error: the given file \"chr4_cluster.p95.s5000.n17.k47.G700-900-1100.at9852.pggbRecommended/cluster_og/RPP4.region.optimized_sorted.og\" does not exist. Please specify an existing input file in ODGI format via -i=[FILE], --idx=[FILE].\n",
      "[odgi::heaps] error: the given file \"chr4_cluster.p95.s5000.n17.k47.G700-900-1100.at9852.pggbRecommended/cluster_og/RPP4.region.optimized_sorted.og\" does not exist. Please specify an existing input file in ODGI format via -i=[FILE], --idx=[FILE].\n",
      "[odgi::heaps] error: the given file \"chr4_cluster.p95.s5000.n17.k47.G700-900-1100.at9852.pggbRecommended/cluster_og/RPP4.region.optimized_sorted.og\" does not exist. Please specify an existing input file in ODGI format via -i=[FILE], --idx=[FILE].\n",
      "/u/gshirsekar/conda-envs/pggb/bin/panacus-visualize:107: UserWarning: FixedFormatter should only be used together with FixedLocator\n",
      "  axs[0].set_yticklabels(calibrate_yticks_text(yticks))\n",
      "/u/gshirsekar/conda-envs/pggb/bin/panacus-visualize:128: UserWarning: FixedFormatter should only be used together with FixedLocator\n",
      "  axs[1].set_yticklabels(calibrate_yticks_text(yticks))\n",
      "[odgi::viz] Path range to pangenomic range conversion.\n",
      "[odgi::viz] Visualizing the graph in the pangenomic range [2.31108e+07, 2.34623e+07]\n",
      "[odgi::viz] Binned mode\n",
      "[odgi::viz] bin width: 351.441\n",
      "[odgi::viz] image width: 1000\n",
      "bash: -t: command not found\n",
      "[odgi::extract] expansion and adding connecting edges\n",
      "[odgi::extract] extracting path ranges 100.00% @ 8.45e-01/s elapsed: 00:00:00:01 remain: 00:00:00:00\n",
      "[odgi::extract] merge subpaths closer than 100000 bps - iteration 1 (max 3) 100.00% @ 5.69e+00/s elapsed: 00:00:00:03 remain: 00:00:00:00\n",
      "[odgi::extract] merge subpaths closer than 100000 bps - iteration 2 (max 3) 100.00% @ 6.18e+00/s elapsed: 00:00:00:02 remain: 00:00:00:00\n",
      "[odgi::extract] merge subpaths closer than 100000 bps - iteration 3 (max 3) 100.00% @ 5.61e+00/s elapsed: 00:00:00:03 remain: 00:00:00:00\n",
      "[odgi::extract] adding connecting edges 100.00% @ 6.08e+04/s elapsed: 00:00:00:00 remain: 00:00:00:00\n",
      "[odgi::extract] adding subpaths 100.00% @ 7.97e+00/s elapsed: 00:00:00:06 remain: 00:00:00:00\n",
      "[odgi::extract] checking missing edges and empty subpaths 100.00% @ 7.13e+01/s elapsed: 00:00:00:00 remain: 00:00:00:00\n",
      "[odgi::paths] error: the given file \"chr4_cluster.p95.s5000.n17.k47.G700-900-1100.at9852.pggbRecommended/cluster_og/cluster1.region.optimized_sorted.og\" does not exist. Please specify an existing input file in ODGI format via -i=[FILE], --idx=[FILE].\n",
      "[odgi::paths] error: the given file \"chr4_cluster.p95.s5000.n17.k47.G700-900-1100.at9852.pggbRecommended/cluster_og/cluster1.region.optimized_sorted.og\" does not exist. Please specify an existing input file in ODGI format via -i=[FILE], --idx=[FILE].\n",
      "[odgi::paths] error: the given file \"chr4_cluster.p95.s5000.n17.k47.G700-900-1100.at9852.pggbRecommended/cluster_og/cluster1.region.optimized_sorted.og\" does not exist. Please specify an existing input file in ODGI format via -i=[FILE], --idx=[FILE].\n",
      "[odgi::paths] error: the given file \"chr4_cluster.p95.s5000.n17.k47.G700-900-1100.at9852.pggbRecommended/cluster_og/cluster1.region.optimized_sorted.og\" does not exist. Please specify an existing input file in ODGI format via -i=[FILE], --idx=[FILE].\n",
      "[odgi::paths] error: the given file \"chr4_cluster.p95.s5000.n17.k47.G700-900-1100.at9852.pggbRecommended/cluster_og/cluster1.region.optimized_sorted.og\" does not exist. Please specify an existing input file in ODGI format via -i=[FILE], --idx=[FILE].\n",
      "[odgi::paths] error: the given file \"chr4_cluster.p95.s5000.n17.k47.G700-900-1100.at9852.pggbRecommended/cluster_og/cluster1.region.optimized_sorted.og\" does not exist. Please specify an existing input file in ODGI format via -i=[FILE], --idx=[FILE].\n",
      "[odgi::paths] error: the given file \"chr4_cluster.p95.s5000.n17.k47.G700-900-1100.at9852.pggbRecommended/cluster_og/cluster1.region.optimized_sorted.og\" does not exist. Please specify an existing input file in ODGI format via -i=[FILE], --idx=[FILE].\n",
      "[odgi::paths] error: the given file \"chr4_cluster.p95.s5000.n17.k47.G700-900-1100.at9852.pggbRecommended/cluster_og/cluster1.region.optimized_sorted.og\" does not exist. Please specify an existing input file in ODGI format via -i=[FILE], --idx=[FILE].\n",
      "[odgi::paths] error: the given file \"chr4_cluster.p95.s5000.n17.k47.G700-900-1100.at9852.pggbRecommended/cluster_og/cluster1.region.optimized_sorted.og\" does not exist. Please specify an existing input file in ODGI format via -i=[FILE], --idx=[FILE].\n",
      "[odgi::paths] error: the given file \"chr4_cluster.p95.s5000.n17.k47.G700-900-1100.at9852.pggbRecommended/cluster_og/cluster1.region.optimized_sorted.og\" does not exist. Please specify an existing input file in ODGI format via -i=[FILE], --idx=[FILE].\n",
      "[odgi::paths] error: the given file \"chr4_cluster.p95.s5000.n17.k47.G700-900-1100.at9852.pggbRecommended/cluster_og/cluster1.region.optimized_sorted.og\" does not exist. Please specify an existing input file in ODGI format via -i=[FILE], --idx=[FILE].\n",
      "[odgi::paths] error: the given file \"chr4_cluster.p95.s5000.n17.k47.G700-900-1100.at9852.pggbRecommended/cluster_og/cluster1.region.optimized_sorted.og\" does not exist. Please specify an existing input file in ODGI format via -i=[FILE], --idx=[FILE].\n",
      "[odgi::paths] error: the given file \"chr4_cluster.p95.s5000.n17.k47.G700-900-1100.at9852.pggbRecommended/cluster_og/cluster1.region.optimized_sorted.og\" does not exist. Please specify an existing input file in ODGI format via -i=[FILE], --idx=[FILE].\n",
      "[odgi::paths] error: the given file \"chr4_cluster.p95.s5000.n17.k47.G700-900-1100.at9852.pggbRecommended/cluster_og/cluster1.region.optimized_sorted.og\" does not exist. Please specify an existing input file in ODGI format via -i=[FILE], --idx=[FILE].\n",
      "[odgi::paths] error: the given file \"chr4_cluster.p95.s5000.n17.k47.G700-900-1100.at9852.pggbRecommended/cluster_og/cluster1.region.optimized_sorted.og\" does not exist. Please specify an existing input file in ODGI format via -i=[FILE], --idx=[FILE].\n",
      "[odgi::paths] error: the given file \"chr4_cluster.p95.s5000.n17.k47.G700-900-1100.at9852.pggbRecommended/cluster_og/cluster1.region.optimized_sorted.og\" does not exist. Please specify an existing input file in ODGI format via -i=[FILE], --idx=[FILE].\n",
      "[odgi::paths] error: the given file \"chr4_cluster.p95.s5000.n17.k47.G700-900-1100.at9852.pggbRecommended/cluster_og/cluster1.region.optimized_sorted.og\" does not exist. Please specify an existing input file in ODGI format via -i=[FILE], --idx=[FILE].\n",
      "[odgi::paths] error: the given file \"chr4_cluster.p95.s5000.n17.k47.G700-900-1100.at9852.pggbRecommended/cluster_og/cluster1.region.optimized_sorted.og\" does not exist. Please specify an existing input file in ODGI format via -i=[FILE], --idx=[FILE].\n",
      "[odgi::heaps] error: the given file \"chr4_cluster.p95.s5000.n17.k47.G700-900-1100.at9852.pggbRecommended/cluster_og/cluster1.region.optimized_sorted.og\" does not exist. Please specify an existing input file in ODGI format via -i=[FILE], --idx=[FILE].\n",
      "[odgi::heaps] error: the given file \"chr4_cluster.p95.s5000.n17.k47.G700-900-1100.at9852.pggbRecommended/cluster_og/cluster1.region.optimized_sorted.og\" does not exist. Please specify an existing input file in ODGI format via -i=[FILE], --idx=[FILE].\n",
      "[odgi::heaps] error: the given file \"chr4_cluster.p95.s5000.n17.k47.G700-900-1100.at9852.pggbRecommended/cluster_og/cluster1.region.optimized_sorted.og\" does not exist. Please specify an existing input file in ODGI format via -i=[FILE], --idx=[FILE].\n",
      "[odgi::heaps] error: the given file \"chr4_cluster.p95.s5000.n17.k47.G700-900-1100.at9852.pggbRecommended/cluster_og/cluster1.region.optimized_sorted.og\" does not exist. Please specify an existing input file in ODGI format via -i=[FILE], --idx=[FILE].\n",
      "[odgi::heaps] error: the given file \"chr4_cluster.p95.s5000.n17.k47.G700-900-1100.at9852.pggbRecommended/cluster_og/cluster1.region.optimized_sorted.og\" does not exist. Please specify an existing input file in ODGI format via -i=[FILE], --idx=[FILE].\n",
      "[odgi::heaps] error: the given file \"chr4_cluster.p95.s5000.n17.k47.G700-900-1100.at9852.pggbRecommended/cluster_og/cluster1.region.optimized_sorted.og\" does not exist. Please specify an existing input file in ODGI format via -i=[FILE], --idx=[FILE].\n",
      "[odgi::heaps] error: the given file \"chr4_cluster.p95.s5000.n17.k47.G700-900-1100.at9852.pggbRecommended/cluster_og/cluster1.region.optimized_sorted.og\" does not exist. Please specify an existing input file in ODGI format via -i=[FILE], --idx=[FILE].\n",
      "[odgi::heaps] error: the given file \"chr4_cluster.p95.s5000.n17.k47.G700-900-1100.at9852.pggbRecommended/cluster_og/cluster1.region.optimized_sorted.og\" does not exist. Please specify an existing input file in ODGI format via -i=[FILE], --idx=[FILE].\n",
      "[odgi::heaps] error: the given file \"chr4_cluster.p95.s5000.n17.k47.G700-900-1100.at9852.pggbRecommended/cluster_og/cluster1.region.optimized_sorted.og\" does not exist. Please specify an existing input file in ODGI format via -i=[FILE], --idx=[FILE].\n",
      "[odgi::heaps] error: the given file \"chr4_cluster.p95.s5000.n17.k47.G700-900-1100.at9852.pggbRecommended/cluster_og/cluster1.region.optimized_sorted.og\" does not exist. Please specify an existing input file in ODGI format via -i=[FILE], --idx=[FILE].\n",
      "[odgi::heaps] error: the given file \"chr4_cluster.p95.s5000.n17.k47.G700-900-1100.at9852.pggbRecommended/cluster_og/cluster1.region.optimized_sorted.og\" does not exist. Please specify an existing input file in ODGI format via -i=[FILE], --idx=[FILE].\n",
      "[odgi::heaps] error: the given file \"chr4_cluster.p95.s5000.n17.k47.G700-900-1100.at9852.pggbRecommended/cluster_og/cluster1.region.optimized_sorted.og\" does not exist. Please specify an existing input file in ODGI format via -i=[FILE], --idx=[FILE].\n",
      "[odgi::heaps] error: the given file \"chr4_cluster.p95.s5000.n17.k47.G700-900-1100.at9852.pggbRecommended/cluster_og/cluster1.region.optimized_sorted.og\" does not exist. Please specify an existing input file in ODGI format via -i=[FILE], --idx=[FILE].\n",
      "[odgi::heaps] error: the given file \"chr4_cluster.p95.s5000.n17.k47.G700-900-1100.at9852.pggbRecommended/cluster_og/cluster1.region.optimized_sorted.og\" does not exist. Please specify an existing input file in ODGI format via -i=[FILE], --idx=[FILE].\n",
      "[odgi::heaps] error: the given file \"chr4_cluster.p95.s5000.n17.k47.G700-900-1100.at9852.pggbRecommended/cluster_og/cluster1.region.optimized_sorted.og\" does not exist. Please specify an existing input file in ODGI format via -i=[FILE], --idx=[FILE].\n",
      "[odgi::heaps] error: the given file \"chr4_cluster.p95.s5000.n17.k47.G700-900-1100.at9852.pggbRecommended/cluster_og/cluster1.region.optimized_sorted.og\" does not exist. Please specify an existing input file in ODGI format via -i=[FILE], --idx=[FILE].\n",
      "[odgi::heaps] error: the given file \"chr4_cluster.p95.s5000.n17.k47.G700-900-1100.at9852.pggbRecommended/cluster_og/cluster1.region.optimized_sorted.og\" does not exist. Please specify an existing input file in ODGI format via -i=[FILE], --idx=[FILE].\n",
      "[odgi::heaps] error: the given file \"chr4_cluster.p95.s5000.n17.k47.G700-900-1100.at9852.pggbRecommended/cluster_og/cluster1.region.optimized_sorted.og\" does not exist. Please specify an existing input file in ODGI format via -i=[FILE], --idx=[FILE].\n",
      "/u/gshirsekar/conda-envs/pggb/bin/panacus-visualize:107: UserWarning: FixedFormatter should only be used together with FixedLocator\n",
      "  axs[0].set_yticklabels(calibrate_yticks_text(yticks))\n",
      "/u/gshirsekar/conda-envs/pggb/bin/panacus-visualize:128: UserWarning: FixedFormatter should only be used together with FixedLocator\n",
      "  axs[1].set_yticklabels(calibrate_yticks_text(yticks))\n",
      "[odgi::viz] Path range to pangenomic range conversion.\n",
      "[odgi::viz] Visualizing the graph in the pangenomic range [2.47871e+07, 2.49134e+07]\n",
      "[odgi::viz] Binned mode\n",
      "[odgi::viz] bin width: 126.33\n",
      "[odgi::viz] image width: 1000\n",
      "bash: -t: command not found\n",
      "[odgi::extract] expansion and adding connecting edges\n",
      "[odgi::extract] extracting path ranges 100.00% @ 8.03e-01/s elapsed: 00:00:00:01 remain: 00:00:00:00\n",
      "[odgi::extract] merge subpaths closer than 100000 bps - iteration 1 (max 3) 100.00% @ 3.28e+00/s elapsed: 00:00:00:05 remain: 00:00:00:00\n",
      "[odgi::extract] merge subpaths closer than 100000 bps - iteration 2 (max 3) 100.00% @ 3.44e+00/s elapsed: 00:00:00:05 remain: 00:00:00:00\n",
      "[odgi::extract] merge subpaths closer than 100000 bps - iteration 3 (max 3) 100.00% @ 3.41e+00/s elapsed: 00:00:00:05 remain: 00:00:00:00\n",
      "[odgi::extract] adding connecting edges 100.00% @ 4.00e+04/s elapsed: 00:00:00:00 remain: 00:00:00:00\n",
      "[odgi::extract] adding subpaths 100.00% @ 7.20e+00/s elapsed: 00:00:00:07 remain: 00:00:00:00\n",
      "[odgi::extract] checking missing edges and empty subpaths 100.00% @ 7.14e+01/s elapsed: 00:00:00:00 remain: 00:00:00:00\n",
      "[odgi::paths] error: the given file \"chr4_cluster.p95.s5000.n17.k47.G700-900-1100.at9852.pggbRecommended/cluster_og/cluster2.region.optimized_sorted.og\" does not exist. Please specify an existing input file in ODGI format via -i=[FILE], --idx=[FILE].\n",
      "[odgi::paths] error: the given file \"chr4_cluster.p95.s5000.n17.k47.G700-900-1100.at9852.pggbRecommended/cluster_og/cluster2.region.optimized_sorted.og\" does not exist. Please specify an existing input file in ODGI format via -i=[FILE], --idx=[FILE].\n",
      "[odgi::paths] error: the given file \"chr4_cluster.p95.s5000.n17.k47.G700-900-1100.at9852.pggbRecommended/cluster_og/cluster2.region.optimized_sorted.og\" does not exist. Please specify an existing input file in ODGI format via -i=[FILE], --idx=[FILE].\n",
      "[odgi::paths] error: the given file \"chr4_cluster.p95.s5000.n17.k47.G700-900-1100.at9852.pggbRecommended/cluster_og/cluster2.region.optimized_sorted.og\" does not exist. Please specify an existing input file in ODGI format via -i=[FILE], --idx=[FILE].\n",
      "[odgi::paths] error: the given file \"chr4_cluster.p95.s5000.n17.k47.G700-900-1100.at9852.pggbRecommended/cluster_og/cluster2.region.optimized_sorted.og\" does not exist. Please specify an existing input file in ODGI format via -i=[FILE], --idx=[FILE].\n",
      "[odgi::paths] error: the given file \"chr4_cluster.p95.s5000.n17.k47.G700-900-1100.at9852.pggbRecommended/cluster_og/cluster2.region.optimized_sorted.og\" does not exist. Please specify an existing input file in ODGI format via -i=[FILE], --idx=[FILE].\n",
      "[odgi::paths] error: the given file \"chr4_cluster.p95.s5000.n17.k47.G700-900-1100.at9852.pggbRecommended/cluster_og/cluster2.region.optimized_sorted.og\" does not exist. Please specify an existing input file in ODGI format via -i=[FILE], --idx=[FILE].\n",
      "[odgi::paths] error: the given file \"chr4_cluster.p95.s5000.n17.k47.G700-900-1100.at9852.pggbRecommended/cluster_og/cluster2.region.optimized_sorted.og\" does not exist. Please specify an existing input file in ODGI format via -i=[FILE], --idx=[FILE].\n",
      "[odgi::paths] error: the given file \"chr4_cluster.p95.s5000.n17.k47.G700-900-1100.at9852.pggbRecommended/cluster_og/cluster2.region.optimized_sorted.og\" does not exist. Please specify an existing input file in ODGI format via -i=[FILE], --idx=[FILE].\n",
      "[odgi::paths] error: the given file \"chr4_cluster.p95.s5000.n17.k47.G700-900-1100.at9852.pggbRecommended/cluster_og/cluster2.region.optimized_sorted.og\" does not exist. Please specify an existing input file in ODGI format via -i=[FILE], --idx=[FILE].\n",
      "[odgi::paths] error: the given file \"chr4_cluster.p95.s5000.n17.k47.G700-900-1100.at9852.pggbRecommended/cluster_og/cluster2.region.optimized_sorted.og\" does not exist. Please specify an existing input file in ODGI format via -i=[FILE], --idx=[FILE].\n",
      "[odgi::paths] error: the given file \"chr4_cluster.p95.s5000.n17.k47.G700-900-1100.at9852.pggbRecommended/cluster_og/cluster2.region.optimized_sorted.og\" does not exist. Please specify an existing input file in ODGI format via -i=[FILE], --idx=[FILE].\n",
      "[odgi::paths] error: the given file \"chr4_cluster.p95.s5000.n17.k47.G700-900-1100.at9852.pggbRecommended/cluster_og/cluster2.region.optimized_sorted.og\" does not exist. Please specify an existing input file in ODGI format via -i=[FILE], --idx=[FILE].\n",
      "[odgi::paths] error: the given file \"chr4_cluster.p95.s5000.n17.k47.G700-900-1100.at9852.pggbRecommended/cluster_og/cluster2.region.optimized_sorted.og\" does not exist. Please specify an existing input file in ODGI format via -i=[FILE], --idx=[FILE].\n",
      "[odgi::paths] error: the given file \"chr4_cluster.p95.s5000.n17.k47.G700-900-1100.at9852.pggbRecommended/cluster_og/cluster2.region.optimized_sorted.og\" does not exist. Please specify an existing input file in ODGI format via -i=[FILE], --idx=[FILE].\n",
      "[odgi::paths] error: the given file \"chr4_cluster.p95.s5000.n17.k47.G700-900-1100.at9852.pggbRecommended/cluster_og/cluster2.region.optimized_sorted.og\" does not exist. Please specify an existing input file in ODGI format via -i=[FILE], --idx=[FILE].\n",
      "[odgi::paths] error: the given file \"chr4_cluster.p95.s5000.n17.k47.G700-900-1100.at9852.pggbRecommended/cluster_og/cluster2.region.optimized_sorted.og\" does not exist. Please specify an existing input file in ODGI format via -i=[FILE], --idx=[FILE].\n",
      "[odgi::paths] error: the given file \"chr4_cluster.p95.s5000.n17.k47.G700-900-1100.at9852.pggbRecommended/cluster_og/cluster2.region.optimized_sorted.og\" does not exist. Please specify an existing input file in ODGI format via -i=[FILE], --idx=[FILE].\n",
      "[odgi::heaps] error: the given file \"chr4_cluster.p95.s5000.n17.k47.G700-900-1100.at9852.pggbRecommended/cluster_og/cluster2.region.optimized_sorted.og\" does not exist. Please specify an existing input file in ODGI format via -i=[FILE], --idx=[FILE].\n",
      "[odgi::heaps] error: the given file \"chr4_cluster.p95.s5000.n17.k47.G700-900-1100.at9852.pggbRecommended/cluster_og/cluster2.region.optimized_sorted.og\" does not exist. Please specify an existing input file in ODGI format via -i=[FILE], --idx=[FILE].\n",
      "[odgi::heaps] error: the given file \"chr4_cluster.p95.s5000.n17.k47.G700-900-1100.at9852.pggbRecommended/cluster_og/cluster2.region.optimized_sorted.og\" does not exist. Please specify an existing input file in ODGI format via -i=[FILE], --idx=[FILE].\n",
      "[odgi::heaps] error: the given file \"chr4_cluster.p95.s5000.n17.k47.G700-900-1100.at9852.pggbRecommended/cluster_og/cluster2.region.optimized_sorted.og\" does not exist. Please specify an existing input file in ODGI format via -i=[FILE], --idx=[FILE].\n",
      "[odgi::heaps] error: the given file \"chr4_cluster.p95.s5000.n17.k47.G700-900-1100.at9852.pggbRecommended/cluster_og/cluster2.region.optimized_sorted.og\" does not exist. Please specify an existing input file in ODGI format via -i=[FILE], --idx=[FILE].\n",
      "[odgi::heaps] error: the given file \"chr4_cluster.p95.s5000.n17.k47.G700-900-1100.at9852.pggbRecommended/cluster_og/cluster2.region.optimized_sorted.og\" does not exist. Please specify an existing input file in ODGI format via -i=[FILE], --idx=[FILE].\n",
      "[odgi::heaps] error: the given file \"chr4_cluster.p95.s5000.n17.k47.G700-900-1100.at9852.pggbRecommended/cluster_og/cluster2.region.optimized_sorted.og\" does not exist. Please specify an existing input file in ODGI format via -i=[FILE], --idx=[FILE].\n",
      "[odgi::heaps] error: the given file \"chr4_cluster.p95.s5000.n17.k47.G700-900-1100.at9852.pggbRecommended/cluster_og/cluster2.region.optimized_sorted.og\" does not exist. Please specify an existing input file in ODGI format via -i=[FILE], --idx=[FILE].\n",
      "[odgi::heaps] error: the given file \"chr4_cluster.p95.s5000.n17.k47.G700-900-1100.at9852.pggbRecommended/cluster_og/cluster2.region.optimized_sorted.og\" does not exist. Please specify an existing input file in ODGI format via -i=[FILE], --idx=[FILE].\n",
      "[odgi::heaps] error: the given file \"chr4_cluster.p95.s5000.n17.k47.G700-900-1100.at9852.pggbRecommended/cluster_og/cluster2.region.optimized_sorted.og\" does not exist. Please specify an existing input file in ODGI format via -i=[FILE], --idx=[FILE].\n",
      "[odgi::heaps] error: the given file \"chr4_cluster.p95.s5000.n17.k47.G700-900-1100.at9852.pggbRecommended/cluster_og/cluster2.region.optimized_sorted.og\" does not exist. Please specify an existing input file in ODGI format via -i=[FILE], --idx=[FILE].\n",
      "[odgi::heaps] error: the given file \"chr4_cluster.p95.s5000.n17.k47.G700-900-1100.at9852.pggbRecommended/cluster_og/cluster2.region.optimized_sorted.og\" does not exist. Please specify an existing input file in ODGI format via -i=[FILE], --idx=[FILE].\n",
      "[odgi::heaps] error: the given file \"chr4_cluster.p95.s5000.n17.k47.G700-900-1100.at9852.pggbRecommended/cluster_og/cluster2.region.optimized_sorted.og\" does not exist. Please specify an existing input file in ODGI format via -i=[FILE], --idx=[FILE].\n",
      "[odgi::heaps] error: the given file \"chr4_cluster.p95.s5000.n17.k47.G700-900-1100.at9852.pggbRecommended/cluster_og/cluster2.region.optimized_sorted.og\" does not exist. Please specify an existing input file in ODGI format via -i=[FILE], --idx=[FILE].\n",
      "[odgi::heaps] error: the given file \"chr4_cluster.p95.s5000.n17.k47.G700-900-1100.at9852.pggbRecommended/cluster_og/cluster2.region.optimized_sorted.og\" does not exist. Please specify an existing input file in ODGI format via -i=[FILE], --idx=[FILE].\n",
      "[odgi::heaps] error: the given file \"chr4_cluster.p95.s5000.n17.k47.G700-900-1100.at9852.pggbRecommended/cluster_og/cluster2.region.optimized_sorted.og\" does not exist. Please specify an existing input file in ODGI format via -i=[FILE], --idx=[FILE].\n",
      "[odgi::heaps] error: the given file \"chr4_cluster.p95.s5000.n17.k47.G700-900-1100.at9852.pggbRecommended/cluster_og/cluster2.region.optimized_sorted.og\" does not exist. Please specify an existing input file in ODGI format via -i=[FILE], --idx=[FILE].\n",
      "[odgi::heaps] error: the given file \"chr4_cluster.p95.s5000.n17.k47.G700-900-1100.at9852.pggbRecommended/cluster_og/cluster2.region.optimized_sorted.og\" does not exist. Please specify an existing input file in ODGI format via -i=[FILE], --idx=[FILE].\n",
      "/u/gshirsekar/conda-envs/pggb/bin/panacus-visualize:107: UserWarning: FixedFormatter should only be used together with FixedLocator\n",
      "  axs[0].set_yticklabels(calibrate_yticks_text(yticks))\n",
      "/u/gshirsekar/conda-envs/pggb/bin/panacus-visualize:128: UserWarning: FixedFormatter should only be used together with FixedLocator\n",
      "  axs[1].set_yticklabels(calibrate_yticks_text(yticks))\n",
      "[odgi::viz] Path range to pangenomic range conversion.\n",
      "[odgi::viz] Visualizing the graph in the pangenomic range [2.55308e+07, 2.56331e+07]\n",
      "[odgi::viz] Binned mode\n",
      "[odgi::viz] bin width: 102.305\n",
      "[odgi::viz] image width: 1000\n",
      "bash: -t: command not found\n",
      "[odgi::extract] expansion and adding connecting edges\n",
      "[odgi::extract] extracting path ranges 100.00% @ 1.04e+00/s elapsed: 00:00:00:00 remain: 00:00:00:00\n",
      "[odgi::extract] merge subpaths closer than 100000 bps - iteration 1 (max 3) 100.00% @ 6.23e+00/s elapsed: 00:00:00:02 remain: 00:00:00:00\n",
      "[odgi::extract] merge subpaths closer than 100000 bps - iteration 2 (max 3) 100.00% @ 6.41e+00/s elapsed: 00:00:00:02 remain: 00:00:00:00\n",
      "[odgi::extract] adding connecting edges 100.00% @ 3.07e+04/s elapsed: 00:00:00:00 remain: 00:00:00:00\n",
      "[odgi::extract] adding subpaths 100.00% @ 9.26e+00/s elapsed: 00:00:00:05 remain: 00:00:00:00\n",
      "[odgi::extract] checking missing edges and empty subpaths 100.00% @ 7.17e+01/s elapsed: 00:00:00:00 remain: 00:00:00:00\n",
      "[odgi::paths] error: the given file \"chr4_cluster.p95.s5000.n17.k47.G700-900-1100.at9852.pggbRecommended/cluster_og/cluster3.region.optimized_sorted.og\" does not exist. Please specify an existing input file in ODGI format via -i=[FILE], --idx=[FILE].\n",
      "[odgi::paths] error: the given file \"chr4_cluster.p95.s5000.n17.k47.G700-900-1100.at9852.pggbRecommended/cluster_og/cluster3.region.optimized_sorted.og\" does not exist. Please specify an existing input file in ODGI format via -i=[FILE], --idx=[FILE].\n",
      "[odgi::paths] error: the given file \"chr4_cluster.p95.s5000.n17.k47.G700-900-1100.at9852.pggbRecommended/cluster_og/cluster3.region.optimized_sorted.og\" does not exist. Please specify an existing input file in ODGI format via -i=[FILE], --idx=[FILE].\n",
      "[odgi::paths] error: the given file \"chr4_cluster.p95.s5000.n17.k47.G700-900-1100.at9852.pggbRecommended/cluster_og/cluster3.region.optimized_sorted.og\" does not exist. Please specify an existing input file in ODGI format via -i=[FILE], --idx=[FILE].\n",
      "[odgi::paths] error: the given file \"chr4_cluster.p95.s5000.n17.k47.G700-900-1100.at9852.pggbRecommended/cluster_og/cluster3.region.optimized_sorted.og\" does not exist. Please specify an existing input file in ODGI format via -i=[FILE], --idx=[FILE].\n",
      "[odgi::paths] error: the given file \"chr4_cluster.p95.s5000.n17.k47.G700-900-1100.at9852.pggbRecommended/cluster_og/cluster3.region.optimized_sorted.og\" does not exist. Please specify an existing input file in ODGI format via -i=[FILE], --idx=[FILE].\n",
      "[odgi::paths] error: the given file \"chr4_cluster.p95.s5000.n17.k47.G700-900-1100.at9852.pggbRecommended/cluster_og/cluster3.region.optimized_sorted.og\" does not exist. Please specify an existing input file in ODGI format via -i=[FILE], --idx=[FILE].\n",
      "[odgi::paths] error: the given file \"chr4_cluster.p95.s5000.n17.k47.G700-900-1100.at9852.pggbRecommended/cluster_og/cluster3.region.optimized_sorted.og\" does not exist. Please specify an existing input file in ODGI format via -i=[FILE], --idx=[FILE].\n",
      "[odgi::paths] error: the given file \"chr4_cluster.p95.s5000.n17.k47.G700-900-1100.at9852.pggbRecommended/cluster_og/cluster3.region.optimized_sorted.og\" does not exist. Please specify an existing input file in ODGI format via -i=[FILE], --idx=[FILE].\n",
      "[odgi::paths] error: the given file \"chr4_cluster.p95.s5000.n17.k47.G700-900-1100.at9852.pggbRecommended/cluster_og/cluster3.region.optimized_sorted.og\" does not exist. Please specify an existing input file in ODGI format via -i=[FILE], --idx=[FILE].\n",
      "[odgi::paths] error: the given file \"chr4_cluster.p95.s5000.n17.k47.G700-900-1100.at9852.pggbRecommended/cluster_og/cluster3.region.optimized_sorted.og\" does not exist. Please specify an existing input file in ODGI format via -i=[FILE], --idx=[FILE].\n",
      "[odgi::paths] error: the given file \"chr4_cluster.p95.s5000.n17.k47.G700-900-1100.at9852.pggbRecommended/cluster_og/cluster3.region.optimized_sorted.og\" does not exist. Please specify an existing input file in ODGI format via -i=[FILE], --idx=[FILE].\n",
      "[odgi::paths] error: the given file \"chr4_cluster.p95.s5000.n17.k47.G700-900-1100.at9852.pggbRecommended/cluster_og/cluster3.region.optimized_sorted.og\" does not exist. Please specify an existing input file in ODGI format via -i=[FILE], --idx=[FILE].\n",
      "[odgi::paths] error: the given file \"chr4_cluster.p95.s5000.n17.k47.G700-900-1100.at9852.pggbRecommended/cluster_og/cluster3.region.optimized_sorted.og\" does not exist. Please specify an existing input file in ODGI format via -i=[FILE], --idx=[FILE].\n",
      "[odgi::paths] error: the given file \"chr4_cluster.p95.s5000.n17.k47.G700-900-1100.at9852.pggbRecommended/cluster_og/cluster3.region.optimized_sorted.og\" does not exist. Please specify an existing input file in ODGI format via -i=[FILE], --idx=[FILE].\n",
      "[odgi::paths] error: the given file \"chr4_cluster.p95.s5000.n17.k47.G700-900-1100.at9852.pggbRecommended/cluster_og/cluster3.region.optimized_sorted.og\" does not exist. Please specify an existing input file in ODGI format via -i=[FILE], --idx=[FILE].\n",
      "[odgi::paths] error: the given file \"chr4_cluster.p95.s5000.n17.k47.G700-900-1100.at9852.pggbRecommended/cluster_og/cluster3.region.optimized_sorted.og\" does not exist. Please specify an existing input file in ODGI format via -i=[FILE], --idx=[FILE].\n",
      "[odgi::paths] error: the given file \"chr4_cluster.p95.s5000.n17.k47.G700-900-1100.at9852.pggbRecommended/cluster_og/cluster3.region.optimized_sorted.og\" does not exist. Please specify an existing input file in ODGI format via -i=[FILE], --idx=[FILE].\n",
      "[odgi::heaps] error: the given file \"chr4_cluster.p95.s5000.n17.k47.G700-900-1100.at9852.pggbRecommended/cluster_og/cluster3.region.optimized_sorted.og\" does not exist. Please specify an existing input file in ODGI format via -i=[FILE], --idx=[FILE].\n",
      "[odgi::heaps] error: the given file \"chr4_cluster.p95.s5000.n17.k47.G700-900-1100.at9852.pggbRecommended/cluster_og/cluster3.region.optimized_sorted.og\" does not exist. Please specify an existing input file in ODGI format via -i=[FILE], --idx=[FILE].\n",
      "[odgi::heaps] error: the given file \"chr4_cluster.p95.s5000.n17.k47.G700-900-1100.at9852.pggbRecommended/cluster_og/cluster3.region.optimized_sorted.og\" does not exist. Please specify an existing input file in ODGI format via -i=[FILE], --idx=[FILE].\n",
      "[odgi::heaps] error: the given file \"chr4_cluster.p95.s5000.n17.k47.G700-900-1100.at9852.pggbRecommended/cluster_og/cluster3.region.optimized_sorted.og\" does not exist. Please specify an existing input file in ODGI format via -i=[FILE], --idx=[FILE].\n",
      "[odgi::heaps] error: the given file \"chr4_cluster.p95.s5000.n17.k47.G700-900-1100.at9852.pggbRecommended/cluster_og/cluster3.region.optimized_sorted.og\" does not exist. Please specify an existing input file in ODGI format via -i=[FILE], --idx=[FILE].\n",
      "[odgi::heaps] error: the given file \"chr4_cluster.p95.s5000.n17.k47.G700-900-1100.at9852.pggbRecommended/cluster_og/cluster3.region.optimized_sorted.og\" does not exist. Please specify an existing input file in ODGI format via -i=[FILE], --idx=[FILE].\n",
      "[odgi::heaps] error: the given file \"chr4_cluster.p95.s5000.n17.k47.G700-900-1100.at9852.pggbRecommended/cluster_og/cluster3.region.optimized_sorted.og\" does not exist. Please specify an existing input file in ODGI format via -i=[FILE], --idx=[FILE].\n",
      "[odgi::heaps] error: the given file \"chr4_cluster.p95.s5000.n17.k47.G700-900-1100.at9852.pggbRecommended/cluster_og/cluster3.region.optimized_sorted.og\" does not exist. Please specify an existing input file in ODGI format via -i=[FILE], --idx=[FILE].\n",
      "[odgi::heaps] error: the given file \"chr4_cluster.p95.s5000.n17.k47.G700-900-1100.at9852.pggbRecommended/cluster_og/cluster3.region.optimized_sorted.og\" does not exist. Please specify an existing input file in ODGI format via -i=[FILE], --idx=[FILE].\n",
      "[odgi::heaps] error: the given file \"chr4_cluster.p95.s5000.n17.k47.G700-900-1100.at9852.pggbRecommended/cluster_og/cluster3.region.optimized_sorted.og\" does not exist. Please specify an existing input file in ODGI format via -i=[FILE], --idx=[FILE].\n",
      "[odgi::heaps] error: the given file \"chr4_cluster.p95.s5000.n17.k47.G700-900-1100.at9852.pggbRecommended/cluster_og/cluster3.region.optimized_sorted.og\" does not exist. Please specify an existing input file in ODGI format via -i=[FILE], --idx=[FILE].\n",
      "[odgi::heaps] error: the given file \"chr4_cluster.p95.s5000.n17.k47.G700-900-1100.at9852.pggbRecommended/cluster_og/cluster3.region.optimized_sorted.og\" does not exist. Please specify an existing input file in ODGI format via -i=[FILE], --idx=[FILE].\n",
      "[odgi::heaps] error: the given file \"chr4_cluster.p95.s5000.n17.k47.G700-900-1100.at9852.pggbRecommended/cluster_og/cluster3.region.optimized_sorted.og\" does not exist. Please specify an existing input file in ODGI format via -i=[FILE], --idx=[FILE].\n",
      "[odgi::heaps] error: the given file \"chr4_cluster.p95.s5000.n17.k47.G700-900-1100.at9852.pggbRecommended/cluster_og/cluster3.region.optimized_sorted.og\" does not exist. Please specify an existing input file in ODGI format via -i=[FILE], --idx=[FILE].\n",
      "[odgi::heaps] error: the given file \"chr4_cluster.p95.s5000.n17.k47.G700-900-1100.at9852.pggbRecommended/cluster_og/cluster3.region.optimized_sorted.og\" does not exist. Please specify an existing input file in ODGI format via -i=[FILE], --idx=[FILE].\n",
      "[odgi::heaps] error: the given file \"chr4_cluster.p95.s5000.n17.k47.G700-900-1100.at9852.pggbRecommended/cluster_og/cluster3.region.optimized_sorted.og\" does not exist. Please specify an existing input file in ODGI format via -i=[FILE], --idx=[FILE].\n",
      "[odgi::heaps] error: the given file \"chr4_cluster.p95.s5000.n17.k47.G700-900-1100.at9852.pggbRecommended/cluster_og/cluster3.region.optimized_sorted.og\" does not exist. Please specify an existing input file in ODGI format via -i=[FILE], --idx=[FILE].\n",
      "[odgi::heaps] error: the given file \"chr4_cluster.p95.s5000.n17.k47.G700-900-1100.at9852.pggbRecommended/cluster_og/cluster3.region.optimized_sorted.og\" does not exist. Please specify an existing input file in ODGI format via -i=[FILE], --idx=[FILE].\n",
      "/u/gshirsekar/conda-envs/pggb/bin/panacus-visualize:107: UserWarning: FixedFormatter should only be used together with FixedLocator\n",
      "  axs[0].set_yticklabels(calibrate_yticks_text(yticks))\n",
      "/u/gshirsekar/conda-envs/pggb/bin/panacus-visualize:128: UserWarning: FixedFormatter should only be used together with FixedLocator\n",
      "  axs[1].set_yticklabels(calibrate_yticks_text(yticks))\n",
      "[odgi::viz] Path range to pangenomic range conversion.\n",
      "[odgi::viz] Visualizing the graph in the pangenomic range [2.73797e+07, 2.74543e+07]\n",
      "[odgi::viz] Binned mode\n",
      "[odgi::viz] bin width: 74.674\n",
      "[odgi::viz] image width: 1000\n",
      "bash: -t: command not found\n",
      "[odgi::extract] expansion and adding connecting edges\n",
      "[odgi::extract] extracting path ranges 100.00% @ 1.02e+00/s elapsed: 00:00:00:00 remain: 00:00:00:00\n",
      "[odgi::extract] merge subpaths closer than 100000 bps - iteration 1 (max 3) 100.00% @ 6.79e+00/s elapsed: 00:00:00:02 remain: 00:00:00:00\n",
      "[odgi::extract] merge subpaths closer than 100000 bps - iteration 2 (max 3) 100.00% @ 5.92e+00/s elapsed: 00:00:00:03 remain: 00:00:00:00\n",
      "[odgi::extract] adding connecting edges 100.00% @ 1.85e+04/s elapsed: 00:00:00:00 remain: 00:00:00:00\n",
      "[odgi::extract] adding subpaths 100.00% @ 6.07e+00/s elapsed: 00:00:00:08 remain: 00:00:00:00\n",
      "[odgi::extract] checking missing edges and empty subpaths 100.00% @ 7.16e+01/s elapsed: 00:00:00:00 remain: 00:00:00:00\n",
      "[odgi::paths] error: the given file \"chr4_cluster.p95.s5000.n17.k47.G700-900-1100.at9852.pggbRecommended/cluster_og/cluster4.region.optimized_sorted.og\" does not exist. Please specify an existing input file in ODGI format via -i=[FILE], --idx=[FILE].\n",
      "[odgi::paths] error: the given file \"chr4_cluster.p95.s5000.n17.k47.G700-900-1100.at9852.pggbRecommended/cluster_og/cluster4.region.optimized_sorted.og\" does not exist. Please specify an existing input file in ODGI format via -i=[FILE], --idx=[FILE].\n",
      "[odgi::paths] error: the given file \"chr4_cluster.p95.s5000.n17.k47.G700-900-1100.at9852.pggbRecommended/cluster_og/cluster4.region.optimized_sorted.og\" does not exist. Please specify an existing input file in ODGI format via -i=[FILE], --idx=[FILE].\n",
      "[odgi::paths] error: the given file \"chr4_cluster.p95.s5000.n17.k47.G700-900-1100.at9852.pggbRecommended/cluster_og/cluster4.region.optimized_sorted.og\" does not exist. Please specify an existing input file in ODGI format via -i=[FILE], --idx=[FILE].\n",
      "[odgi::paths] error: the given file \"chr4_cluster.p95.s5000.n17.k47.G700-900-1100.at9852.pggbRecommended/cluster_og/cluster4.region.optimized_sorted.og\" does not exist. Please specify an existing input file in ODGI format via -i=[FILE], --idx=[FILE].\n",
      "[odgi::paths] error: the given file \"chr4_cluster.p95.s5000.n17.k47.G700-900-1100.at9852.pggbRecommended/cluster_og/cluster4.region.optimized_sorted.og\" does not exist. Please specify an existing input file in ODGI format via -i=[FILE], --idx=[FILE].\n",
      "[odgi::paths] error: the given file \"chr4_cluster.p95.s5000.n17.k47.G700-900-1100.at9852.pggbRecommended/cluster_og/cluster4.region.optimized_sorted.og\" does not exist. Please specify an existing input file in ODGI format via -i=[FILE], --idx=[FILE].\n",
      "[odgi::paths] error: the given file \"chr4_cluster.p95.s5000.n17.k47.G700-900-1100.at9852.pggbRecommended/cluster_og/cluster4.region.optimized_sorted.og\" does not exist. Please specify an existing input file in ODGI format via -i=[FILE], --idx=[FILE].\n",
      "[odgi::paths] error: the given file \"chr4_cluster.p95.s5000.n17.k47.G700-900-1100.at9852.pggbRecommended/cluster_og/cluster4.region.optimized_sorted.og\" does not exist. Please specify an existing input file in ODGI format via -i=[FILE], --idx=[FILE].\n",
      "[odgi::paths] error: the given file \"chr4_cluster.p95.s5000.n17.k47.G700-900-1100.at9852.pggbRecommended/cluster_og/cluster4.region.optimized_sorted.og\" does not exist. Please specify an existing input file in ODGI format via -i=[FILE], --idx=[FILE].\n",
      "[odgi::paths] error: the given file \"chr4_cluster.p95.s5000.n17.k47.G700-900-1100.at9852.pggbRecommended/cluster_og/cluster4.region.optimized_sorted.og\" does not exist. Please specify an existing input file in ODGI format via -i=[FILE], --idx=[FILE].\n",
      "[odgi::paths] error: the given file \"chr4_cluster.p95.s5000.n17.k47.G700-900-1100.at9852.pggbRecommended/cluster_og/cluster4.region.optimized_sorted.og\" does not exist. Please specify an existing input file in ODGI format via -i=[FILE], --idx=[FILE].\n",
      "[odgi::paths] error: the given file \"chr4_cluster.p95.s5000.n17.k47.G700-900-1100.at9852.pggbRecommended/cluster_og/cluster4.region.optimized_sorted.og\" does not exist. Please specify an existing input file in ODGI format via -i=[FILE], --idx=[FILE].\n",
      "[odgi::paths] error: the given file \"chr4_cluster.p95.s5000.n17.k47.G700-900-1100.at9852.pggbRecommended/cluster_og/cluster4.region.optimized_sorted.og\" does not exist. Please specify an existing input file in ODGI format via -i=[FILE], --idx=[FILE].\n",
      "[odgi::paths] error: the given file \"chr4_cluster.p95.s5000.n17.k47.G700-900-1100.at9852.pggbRecommended/cluster_og/cluster4.region.optimized_sorted.og\" does not exist. Please specify an existing input file in ODGI format via -i=[FILE], --idx=[FILE].\n",
      "[odgi::paths] error: the given file \"chr4_cluster.p95.s5000.n17.k47.G700-900-1100.at9852.pggbRecommended/cluster_og/cluster4.region.optimized_sorted.og\" does not exist. Please specify an existing input file in ODGI format via -i=[FILE], --idx=[FILE].\n",
      "[odgi::paths] error: the given file \"chr4_cluster.p95.s5000.n17.k47.G700-900-1100.at9852.pggbRecommended/cluster_og/cluster4.region.optimized_sorted.og\" does not exist. Please specify an existing input file in ODGI format via -i=[FILE], --idx=[FILE].\n",
      "[odgi::paths] error: the given file \"chr4_cluster.p95.s5000.n17.k47.G700-900-1100.at9852.pggbRecommended/cluster_og/cluster4.region.optimized_sorted.og\" does not exist. Please specify an existing input file in ODGI format via -i=[FILE], --idx=[FILE].\n",
      "[odgi::heaps] error: the given file \"chr4_cluster.p95.s5000.n17.k47.G700-900-1100.at9852.pggbRecommended/cluster_og/cluster4.region.optimized_sorted.og\" does not exist. Please specify an existing input file in ODGI format via -i=[FILE], --idx=[FILE].\n",
      "[odgi::heaps] error: the given file \"chr4_cluster.p95.s5000.n17.k47.G700-900-1100.at9852.pggbRecommended/cluster_og/cluster4.region.optimized_sorted.og\" does not exist. Please specify an existing input file in ODGI format via -i=[FILE], --idx=[FILE].\n",
      "[odgi::heaps] error: the given file \"chr4_cluster.p95.s5000.n17.k47.G700-900-1100.at9852.pggbRecommended/cluster_og/cluster4.region.optimized_sorted.og\" does not exist. Please specify an existing input file in ODGI format via -i=[FILE], --idx=[FILE].\n",
      "[odgi::heaps] error: the given file \"chr4_cluster.p95.s5000.n17.k47.G700-900-1100.at9852.pggbRecommended/cluster_og/cluster4.region.optimized_sorted.og\" does not exist. Please specify an existing input file in ODGI format via -i=[FILE], --idx=[FILE].\n",
      "[odgi::heaps] error: the given file \"chr4_cluster.p95.s5000.n17.k47.G700-900-1100.at9852.pggbRecommended/cluster_og/cluster4.region.optimized_sorted.og\" does not exist. Please specify an existing input file in ODGI format via -i=[FILE], --idx=[FILE].\n",
      "[odgi::heaps] error: the given file \"chr4_cluster.p95.s5000.n17.k47.G700-900-1100.at9852.pggbRecommended/cluster_og/cluster4.region.optimized_sorted.og\" does not exist. Please specify an existing input file in ODGI format via -i=[FILE], --idx=[FILE].\n",
      "[odgi::heaps] error: the given file \"chr4_cluster.p95.s5000.n17.k47.G700-900-1100.at9852.pggbRecommended/cluster_og/cluster4.region.optimized_sorted.og\" does not exist. Please specify an existing input file in ODGI format via -i=[FILE], --idx=[FILE].\n",
      "[odgi::heaps] error: the given file \"chr4_cluster.p95.s5000.n17.k47.G700-900-1100.at9852.pggbRecommended/cluster_og/cluster4.region.optimized_sorted.og\" does not exist. Please specify an existing input file in ODGI format via -i=[FILE], --idx=[FILE].\n",
      "[odgi::heaps] error: the given file \"chr4_cluster.p95.s5000.n17.k47.G700-900-1100.at9852.pggbRecommended/cluster_og/cluster4.region.optimized_sorted.og\" does not exist. Please specify an existing input file in ODGI format via -i=[FILE], --idx=[FILE].\n",
      "[odgi::heaps] error: the given file \"chr4_cluster.p95.s5000.n17.k47.G700-900-1100.at9852.pggbRecommended/cluster_og/cluster4.region.optimized_sorted.og\" does not exist. Please specify an existing input file in ODGI format via -i=[FILE], --idx=[FILE].\n",
      "[odgi::heaps] error: the given file \"chr4_cluster.p95.s5000.n17.k47.G700-900-1100.at9852.pggbRecommended/cluster_og/cluster4.region.optimized_sorted.og\" does not exist. Please specify an existing input file in ODGI format via -i=[FILE], --idx=[FILE].\n",
      "[odgi::heaps] error: the given file \"chr4_cluster.p95.s5000.n17.k47.G700-900-1100.at9852.pggbRecommended/cluster_og/cluster4.region.optimized_sorted.og\" does not exist. Please specify an existing input file in ODGI format via -i=[FILE], --idx=[FILE].\n",
      "[odgi::heaps] error: the given file \"chr4_cluster.p95.s5000.n17.k47.G700-900-1100.at9852.pggbRecommended/cluster_og/cluster4.region.optimized_sorted.og\" does not exist. Please specify an existing input file in ODGI format via -i=[FILE], --idx=[FILE].\n",
      "[odgi::heaps] error: the given file \"chr4_cluster.p95.s5000.n17.k47.G700-900-1100.at9852.pggbRecommended/cluster_og/cluster4.region.optimized_sorted.og\" does not exist. Please specify an existing input file in ODGI format via -i=[FILE], --idx=[FILE].\n",
      "[odgi::heaps] error: the given file \"chr4_cluster.p95.s5000.n17.k47.G700-900-1100.at9852.pggbRecommended/cluster_og/cluster4.region.optimized_sorted.og\" does not exist. Please specify an existing input file in ODGI format via -i=[FILE], --idx=[FILE].\n",
      "[odgi::heaps] error: the given file \"chr4_cluster.p95.s5000.n17.k47.G700-900-1100.at9852.pggbRecommended/cluster_og/cluster4.region.optimized_sorted.og\" does not exist. Please specify an existing input file in ODGI format via -i=[FILE], --idx=[FILE].\n",
      "[odgi::heaps] error: the given file \"chr4_cluster.p95.s5000.n17.k47.G700-900-1100.at9852.pggbRecommended/cluster_og/cluster4.region.optimized_sorted.og\" does not exist. Please specify an existing input file in ODGI format via -i=[FILE], --idx=[FILE].\n",
      "[odgi::heaps] error: the given file \"chr4_cluster.p95.s5000.n17.k47.G700-900-1100.at9852.pggbRecommended/cluster_og/cluster4.region.optimized_sorted.og\" does not exist. Please specify an existing input file in ODGI format via -i=[FILE], --idx=[FILE].\n",
      "/u/gshirsekar/conda-envs/pggb/bin/panacus-visualize:107: UserWarning: FixedFormatter should only be used together with FixedLocator\n",
      "  axs[0].set_yticklabels(calibrate_yticks_text(yticks))\n",
      "/u/gshirsekar/conda-envs/pggb/bin/panacus-visualize:128: UserWarning: FixedFormatter should only be used together with FixedLocator\n",
      "  axs[1].set_yticklabels(calibrate_yticks_text(yticks))\n",
      "[odgi::viz] Path range to pangenomic range conversion.\n",
      "[odgi::viz] Visualizing the graph in the pangenomic range [2.75558e+07, 2.75746e+07]\n",
      "[odgi::viz] Binned mode\n",
      "[odgi::viz] bin width: 18.807\n",
      "[odgi::viz] image width: 1000\n",
      "bash: -t: command not found\n",
      "[odgi::extract] expansion and adding connecting edges\n",
      "[odgi::extract] extracting path ranges 100.00% @ 1.02e+00/s elapsed: 00:00:00:00 remain: 00:00:00:00\n",
      "[odgi::extract] merge subpaths closer than 100000 bps - iteration 1 (max 3) 100.00% @ 5.44e+00/s elapsed: 00:00:00:03 remain: 00:00:00:00\n",
      "[odgi::extract] merge subpaths closer than 100000 bps - iteration 2 (max 3) 100.00% @ 5.62e+00/s elapsed: 00:00:00:03 remain: 00:00:00:00\n",
      "[odgi::extract] adding connecting edges 100.00% @ 9.07e+03/s elapsed: 00:00:00:00 remain: 00:00:00:00\n",
      "[odgi::extract] adding subpaths 100.00% @ 8.08e+00/s elapsed: 00:00:00:06 remain: 00:00:00:00\n",
      "[odgi::extract] checking missing edges and empty subpaths 100.00% @ 7.18e+01/s elapsed: 00:00:00:00 remain: 00:00:00:00\n",
      "[odgi::paths] error: the given file \"chr4_cluster.p95.s5000.n17.k47.G700-900-1100.at9852.pggbRecommended/cluster_og/cluster5.region.optimized_sorted.og\" does not exist. Please specify an existing input file in ODGI format via -i=[FILE], --idx=[FILE].\n",
      "[odgi::paths] error: the given file \"chr4_cluster.p95.s5000.n17.k47.G700-900-1100.at9852.pggbRecommended/cluster_og/cluster5.region.optimized_sorted.og\" does not exist. Please specify an existing input file in ODGI format via -i=[FILE], --idx=[FILE].\n",
      "[odgi::paths] error: the given file \"chr4_cluster.p95.s5000.n17.k47.G700-900-1100.at9852.pggbRecommended/cluster_og/cluster5.region.optimized_sorted.og\" does not exist. Please specify an existing input file in ODGI format via -i=[FILE], --idx=[FILE].\n",
      "[odgi::paths] error: the given file \"chr4_cluster.p95.s5000.n17.k47.G700-900-1100.at9852.pggbRecommended/cluster_og/cluster5.region.optimized_sorted.og\" does not exist. Please specify an existing input file in ODGI format via -i=[FILE], --idx=[FILE].\n",
      "[odgi::paths] error: the given file \"chr4_cluster.p95.s5000.n17.k47.G700-900-1100.at9852.pggbRecommended/cluster_og/cluster5.region.optimized_sorted.og\" does not exist. Please specify an existing input file in ODGI format via -i=[FILE], --idx=[FILE].\n",
      "[odgi::paths] error: the given file \"chr4_cluster.p95.s5000.n17.k47.G700-900-1100.at9852.pggbRecommended/cluster_og/cluster5.region.optimized_sorted.og\" does not exist. Please specify an existing input file in ODGI format via -i=[FILE], --idx=[FILE].\n",
      "[odgi::paths] error: the given file \"chr4_cluster.p95.s5000.n17.k47.G700-900-1100.at9852.pggbRecommended/cluster_og/cluster5.region.optimized_sorted.og\" does not exist. Please specify an existing input file in ODGI format via -i=[FILE], --idx=[FILE].\n",
      "[odgi::paths] error: the given file \"chr4_cluster.p95.s5000.n17.k47.G700-900-1100.at9852.pggbRecommended/cluster_og/cluster5.region.optimized_sorted.og\" does not exist. Please specify an existing input file in ODGI format via -i=[FILE], --idx=[FILE].\n",
      "[odgi::paths] error: the given file \"chr4_cluster.p95.s5000.n17.k47.G700-900-1100.at9852.pggbRecommended/cluster_og/cluster5.region.optimized_sorted.og\" does not exist. Please specify an existing input file in ODGI format via -i=[FILE], --idx=[FILE].\n",
      "[odgi::paths] error: the given file \"chr4_cluster.p95.s5000.n17.k47.G700-900-1100.at9852.pggbRecommended/cluster_og/cluster5.region.optimized_sorted.og\" does not exist. Please specify an existing input file in ODGI format via -i=[FILE], --idx=[FILE].\n",
      "[odgi::paths] error: the given file \"chr4_cluster.p95.s5000.n17.k47.G700-900-1100.at9852.pggbRecommended/cluster_og/cluster5.region.optimized_sorted.og\" does not exist. Please specify an existing input file in ODGI format via -i=[FILE], --idx=[FILE].\n",
      "[odgi::paths] error: the given file \"chr4_cluster.p95.s5000.n17.k47.G700-900-1100.at9852.pggbRecommended/cluster_og/cluster5.region.optimized_sorted.og\" does not exist. Please specify an existing input file in ODGI format via -i=[FILE], --idx=[FILE].\n",
      "[odgi::paths] error: the given file \"chr4_cluster.p95.s5000.n17.k47.G700-900-1100.at9852.pggbRecommended/cluster_og/cluster5.region.optimized_sorted.og\" does not exist. Please specify an existing input file in ODGI format via -i=[FILE], --idx=[FILE].\n",
      "[odgi::paths] error: the given file \"chr4_cluster.p95.s5000.n17.k47.G700-900-1100.at9852.pggbRecommended/cluster_og/cluster5.region.optimized_sorted.og\" does not exist. Please specify an existing input file in ODGI format via -i=[FILE], --idx=[FILE].\n",
      "[odgi::paths] error: the given file \"chr4_cluster.p95.s5000.n17.k47.G700-900-1100.at9852.pggbRecommended/cluster_og/cluster5.region.optimized_sorted.og\" does not exist. Please specify an existing input file in ODGI format via -i=[FILE], --idx=[FILE].\n",
      "[odgi::paths] error: the given file \"chr4_cluster.p95.s5000.n17.k47.G700-900-1100.at9852.pggbRecommended/cluster_og/cluster5.region.optimized_sorted.og\" does not exist. Please specify an existing input file in ODGI format via -i=[FILE], --idx=[FILE].\n",
      "[odgi::paths] error: the given file \"chr4_cluster.p95.s5000.n17.k47.G700-900-1100.at9852.pggbRecommended/cluster_og/cluster5.region.optimized_sorted.og\" does not exist. Please specify an existing input file in ODGI format via -i=[FILE], --idx=[FILE].\n",
      "[odgi::paths] error: the given file \"chr4_cluster.p95.s5000.n17.k47.G700-900-1100.at9852.pggbRecommended/cluster_og/cluster5.region.optimized_sorted.og\" does not exist. Please specify an existing input file in ODGI format via -i=[FILE], --idx=[FILE].\n",
      "[odgi::heaps] error: the given file \"chr4_cluster.p95.s5000.n17.k47.G700-900-1100.at9852.pggbRecommended/cluster_og/cluster5.region.optimized_sorted.og\" does not exist. Please specify an existing input file in ODGI format via -i=[FILE], --idx=[FILE].\n",
      "[odgi::heaps] error: the given file \"chr4_cluster.p95.s5000.n17.k47.G700-900-1100.at9852.pggbRecommended/cluster_og/cluster5.region.optimized_sorted.og\" does not exist. Please specify an existing input file in ODGI format via -i=[FILE], --idx=[FILE].\n",
      "[odgi::heaps] error: the given file \"chr4_cluster.p95.s5000.n17.k47.G700-900-1100.at9852.pggbRecommended/cluster_og/cluster5.region.optimized_sorted.og\" does not exist. Please specify an existing input file in ODGI format via -i=[FILE], --idx=[FILE].\n",
      "[odgi::heaps] error: the given file \"chr4_cluster.p95.s5000.n17.k47.G700-900-1100.at9852.pggbRecommended/cluster_og/cluster5.region.optimized_sorted.og\" does not exist. Please specify an existing input file in ODGI format via -i=[FILE], --idx=[FILE].\n",
      "[odgi::heaps] error: the given file \"chr4_cluster.p95.s5000.n17.k47.G700-900-1100.at9852.pggbRecommended/cluster_og/cluster5.region.optimized_sorted.og\" does not exist. Please specify an existing input file in ODGI format via -i=[FILE], --idx=[FILE].\n",
      "[odgi::heaps] error: the given file \"chr4_cluster.p95.s5000.n17.k47.G700-900-1100.at9852.pggbRecommended/cluster_og/cluster5.region.optimized_sorted.og\" does not exist. Please specify an existing input file in ODGI format via -i=[FILE], --idx=[FILE].\n",
      "[odgi::heaps] error: the given file \"chr4_cluster.p95.s5000.n17.k47.G700-900-1100.at9852.pggbRecommended/cluster_og/cluster5.region.optimized_sorted.og\" does not exist. Please specify an existing input file in ODGI format via -i=[FILE], --idx=[FILE].\n",
      "[odgi::heaps] error: the given file \"chr4_cluster.p95.s5000.n17.k47.G700-900-1100.at9852.pggbRecommended/cluster_og/cluster5.region.optimized_sorted.og\" does not exist. Please specify an existing input file in ODGI format via -i=[FILE], --idx=[FILE].\n",
      "[odgi::heaps] error: the given file \"chr4_cluster.p95.s5000.n17.k47.G700-900-1100.at9852.pggbRecommended/cluster_og/cluster5.region.optimized_sorted.og\" does not exist. Please specify an existing input file in ODGI format via -i=[FILE], --idx=[FILE].\n",
      "[odgi::heaps] error: the given file \"chr4_cluster.p95.s5000.n17.k47.G700-900-1100.at9852.pggbRecommended/cluster_og/cluster5.region.optimized_sorted.og\" does not exist. Please specify an existing input file in ODGI format via -i=[FILE], --idx=[FILE].\n",
      "[odgi::heaps] error: the given file \"chr4_cluster.p95.s5000.n17.k47.G700-900-1100.at9852.pggbRecommended/cluster_og/cluster5.region.optimized_sorted.og\" does not exist. Please specify an existing input file in ODGI format via -i=[FILE], --idx=[FILE].\n",
      "[odgi::heaps] error: the given file \"chr4_cluster.p95.s5000.n17.k47.G700-900-1100.at9852.pggbRecommended/cluster_og/cluster5.region.optimized_sorted.og\" does not exist. Please specify an existing input file in ODGI format via -i=[FILE], --idx=[FILE].\n",
      "[odgi::heaps] error: the given file \"chr4_cluster.p95.s5000.n17.k47.G700-900-1100.at9852.pggbRecommended/cluster_og/cluster5.region.optimized_sorted.og\" does not exist. Please specify an existing input file in ODGI format via -i=[FILE], --idx=[FILE].\n",
      "[odgi::heaps] error: the given file \"chr4_cluster.p95.s5000.n17.k47.G700-900-1100.at9852.pggbRecommended/cluster_og/cluster5.region.optimized_sorted.og\" does not exist. Please specify an existing input file in ODGI format via -i=[FILE], --idx=[FILE].\n",
      "[odgi::heaps] error: the given file \"chr4_cluster.p95.s5000.n17.k47.G700-900-1100.at9852.pggbRecommended/cluster_og/cluster5.region.optimized_sorted.og\" does not exist. Please specify an existing input file in ODGI format via -i=[FILE], --idx=[FILE].\n",
      "[odgi::heaps] error: the given file \"chr4_cluster.p95.s5000.n17.k47.G700-900-1100.at9852.pggbRecommended/cluster_og/cluster5.region.optimized_sorted.og\" does not exist. Please specify an existing input file in ODGI format via -i=[FILE], --idx=[FILE].\n",
      "[odgi::heaps] error: the given file \"chr4_cluster.p95.s5000.n17.k47.G700-900-1100.at9852.pggbRecommended/cluster_og/cluster5.region.optimized_sorted.og\" does not exist. Please specify an existing input file in ODGI format via -i=[FILE], --idx=[FILE].\n",
      "[odgi::heaps] error: the given file \"chr4_cluster.p95.s5000.n17.k47.G700-900-1100.at9852.pggbRecommended/cluster_og/cluster5.region.optimized_sorted.og\" does not exist. Please specify an existing input file in ODGI format via -i=[FILE], --idx=[FILE].\n",
      "/mpcdf/soft/SLE_15/packages/x86_64/anaconda/3/2021.05/lib/python3.8/site-packages/scipy/optimize/minpack.py:828: OptimizeWarning: Covariance of the parameters could not be estimated\n",
      "  warnings.warn('Covariance of the parameters could not be estimated',\n",
      "/u/gshirsekar/conda-envs/pggb/bin/panacus-visualize:107: UserWarning: FixedFormatter should only be used together with FixedLocator\n",
      "  axs[0].set_yticklabels(calibrate_yticks_text(yticks))\n",
      "/u/gshirsekar/conda-envs/pggb/bin/panacus-visualize:128: UserWarning: FixedFormatter should only be used together with FixedLocator\n",
      "  axs[1].set_yticklabels(calibrate_yticks_text(yticks))\n",
      "[odgi::viz] Path range to pangenomic range conversion.\n",
      "[odgi::viz] Visualizing the graph in the pangenomic range [3.07674e+07, 3.08562e+07]\n",
      "[odgi::viz] Binned mode\n",
      "[odgi::viz] bin width: 88.83\n",
      "[odgi::viz] image width: 1000\n",
      "bash: -t: command not found\n",
      "[odgi::extract] expansion and adding connecting edges\n",
      "[odgi::extract] extracting path ranges 100.00% @ 1.00e+00/s elapsed: 00:00:00:00 remain: 00:00:00:00\n",
      "[odgi::extract] merge subpaths closer than 100000 bps - iteration 1 (max 3) 100.00% @ 5.88e+00/s elapsed: 00:00:00:03 remain: 00:00:00:00\n",
      "[odgi::extract] merge subpaths closer than 100000 bps - iteration 2 (max 3) 100.00% @ 6.39e+00/s elapsed: 00:00:00:02 remain: 00:00:00:00\n",
      "[odgi::extract] adding connecting edges 100.00% @ 2.40e+04/s elapsed: 00:00:00:00 remain: 00:00:00:00\n",
      "[odgi::extract] adding subpaths 100.00% @ 8.73e+00/s elapsed: 00:00:00:05 remain: 00:00:00:00\n",
      "[odgi::extract] checking missing edges and empty subpaths 100.00% @ 7.17e+01/s elapsed: 00:00:00:00 remain: 00:00:00:00\n",
      "[odgi::paths] error: the given file \"chr4_cluster.p95.s5000.n17.k47.G700-900-1100.at9852.pggbRecommended/cluster_og/cluster6.region.optimized_sorted.og\" does not exist. Please specify an existing input file in ODGI format via -i=[FILE], --idx=[FILE].\n",
      "[odgi::paths] error: the given file \"chr4_cluster.p95.s5000.n17.k47.G700-900-1100.at9852.pggbRecommended/cluster_og/cluster6.region.optimized_sorted.og\" does not exist. Please specify an existing input file in ODGI format via -i=[FILE], --idx=[FILE].\n",
      "[odgi::paths] error: the given file \"chr4_cluster.p95.s5000.n17.k47.G700-900-1100.at9852.pggbRecommended/cluster_og/cluster6.region.optimized_sorted.og\" does not exist. Please specify an existing input file in ODGI format via -i=[FILE], --idx=[FILE].\n",
      "[odgi::paths] error: the given file \"chr4_cluster.p95.s5000.n17.k47.G700-900-1100.at9852.pggbRecommended/cluster_og/cluster6.region.optimized_sorted.og\" does not exist. Please specify an existing input file in ODGI format via -i=[FILE], --idx=[FILE].\n",
      "[odgi::paths] error: the given file \"chr4_cluster.p95.s5000.n17.k47.G700-900-1100.at9852.pggbRecommended/cluster_og/cluster6.region.optimized_sorted.og\" does not exist. Please specify an existing input file in ODGI format via -i=[FILE], --idx=[FILE].\n",
      "[odgi::paths] error: the given file \"chr4_cluster.p95.s5000.n17.k47.G700-900-1100.at9852.pggbRecommended/cluster_og/cluster6.region.optimized_sorted.og\" does not exist. Please specify an existing input file in ODGI format via -i=[FILE], --idx=[FILE].\n",
      "[odgi::paths] error: the given file \"chr4_cluster.p95.s5000.n17.k47.G700-900-1100.at9852.pggbRecommended/cluster_og/cluster6.region.optimized_sorted.og\" does not exist. Please specify an existing input file in ODGI format via -i=[FILE], --idx=[FILE].\n",
      "[odgi::paths] error: the given file \"chr4_cluster.p95.s5000.n17.k47.G700-900-1100.at9852.pggbRecommended/cluster_og/cluster6.region.optimized_sorted.og\" does not exist. Please specify an existing input file in ODGI format via -i=[FILE], --idx=[FILE].\n",
      "[odgi::paths] error: the given file \"chr4_cluster.p95.s5000.n17.k47.G700-900-1100.at9852.pggbRecommended/cluster_og/cluster6.region.optimized_sorted.og\" does not exist. Please specify an existing input file in ODGI format via -i=[FILE], --idx=[FILE].\n",
      "[odgi::paths] error: the given file \"chr4_cluster.p95.s5000.n17.k47.G700-900-1100.at9852.pggbRecommended/cluster_og/cluster6.region.optimized_sorted.og\" does not exist. Please specify an existing input file in ODGI format via -i=[FILE], --idx=[FILE].\n",
      "[odgi::paths] error: the given file \"chr4_cluster.p95.s5000.n17.k47.G700-900-1100.at9852.pggbRecommended/cluster_og/cluster6.region.optimized_sorted.og\" does not exist. Please specify an existing input file in ODGI format via -i=[FILE], --idx=[FILE].\n",
      "[odgi::paths] error: the given file \"chr4_cluster.p95.s5000.n17.k47.G700-900-1100.at9852.pggbRecommended/cluster_og/cluster6.region.optimized_sorted.og\" does not exist. Please specify an existing input file in ODGI format via -i=[FILE], --idx=[FILE].\n",
      "[odgi::paths] error: the given file \"chr4_cluster.p95.s5000.n17.k47.G700-900-1100.at9852.pggbRecommended/cluster_og/cluster6.region.optimized_sorted.og\" does not exist. Please specify an existing input file in ODGI format via -i=[FILE], --idx=[FILE].\n",
      "[odgi::paths] error: the given file \"chr4_cluster.p95.s5000.n17.k47.G700-900-1100.at9852.pggbRecommended/cluster_og/cluster6.region.optimized_sorted.og\" does not exist. Please specify an existing input file in ODGI format via -i=[FILE], --idx=[FILE].\n",
      "[odgi::paths] error: the given file \"chr4_cluster.p95.s5000.n17.k47.G700-900-1100.at9852.pggbRecommended/cluster_og/cluster6.region.optimized_sorted.og\" does not exist. Please specify an existing input file in ODGI format via -i=[FILE], --idx=[FILE].\n",
      "[odgi::paths] error: the given file \"chr4_cluster.p95.s5000.n17.k47.G700-900-1100.at9852.pggbRecommended/cluster_og/cluster6.region.optimized_sorted.og\" does not exist. Please specify an existing input file in ODGI format via -i=[FILE], --idx=[FILE].\n",
      "[odgi::paths] error: the given file \"chr4_cluster.p95.s5000.n17.k47.G700-900-1100.at9852.pggbRecommended/cluster_og/cluster6.region.optimized_sorted.og\" does not exist. Please specify an existing input file in ODGI format via -i=[FILE], --idx=[FILE].\n",
      "[odgi::paths] error: the given file \"chr4_cluster.p95.s5000.n17.k47.G700-900-1100.at9852.pggbRecommended/cluster_og/cluster6.region.optimized_sorted.og\" does not exist. Please specify an existing input file in ODGI format via -i=[FILE], --idx=[FILE].\n",
      "[odgi::heaps] error: the given file \"chr4_cluster.p95.s5000.n17.k47.G700-900-1100.at9852.pggbRecommended/cluster_og/cluster6.region.optimized_sorted.og\" does not exist. Please specify an existing input file in ODGI format via -i=[FILE], --idx=[FILE].\n",
      "[odgi::heaps] error: the given file \"chr4_cluster.p95.s5000.n17.k47.G700-900-1100.at9852.pggbRecommended/cluster_og/cluster6.region.optimized_sorted.og\" does not exist. Please specify an existing input file in ODGI format via -i=[FILE], --idx=[FILE].\n",
      "[odgi::heaps] error: the given file \"chr4_cluster.p95.s5000.n17.k47.G700-900-1100.at9852.pggbRecommended/cluster_og/cluster6.region.optimized_sorted.og\" does not exist. Please specify an existing input file in ODGI format via -i=[FILE], --idx=[FILE].\n",
      "[odgi::heaps] error: the given file \"chr4_cluster.p95.s5000.n17.k47.G700-900-1100.at9852.pggbRecommended/cluster_og/cluster6.region.optimized_sorted.og\" does not exist. Please specify an existing input file in ODGI format via -i=[FILE], --idx=[FILE].\n",
      "[odgi::heaps] error: the given file \"chr4_cluster.p95.s5000.n17.k47.G700-900-1100.at9852.pggbRecommended/cluster_og/cluster6.region.optimized_sorted.og\" does not exist. Please specify an existing input file in ODGI format via -i=[FILE], --idx=[FILE].\n",
      "[odgi::heaps] error: the given file \"chr4_cluster.p95.s5000.n17.k47.G700-900-1100.at9852.pggbRecommended/cluster_og/cluster6.region.optimized_sorted.og\" does not exist. Please specify an existing input file in ODGI format via -i=[FILE], --idx=[FILE].\n",
      "[odgi::heaps] error: the given file \"chr4_cluster.p95.s5000.n17.k47.G700-900-1100.at9852.pggbRecommended/cluster_og/cluster6.region.optimized_sorted.og\" does not exist. Please specify an existing input file in ODGI format via -i=[FILE], --idx=[FILE].\n",
      "[odgi::heaps] error: the given file \"chr4_cluster.p95.s5000.n17.k47.G700-900-1100.at9852.pggbRecommended/cluster_og/cluster6.region.optimized_sorted.og\" does not exist. Please specify an existing input file in ODGI format via -i=[FILE], --idx=[FILE].\n",
      "[odgi::heaps] error: the given file \"chr4_cluster.p95.s5000.n17.k47.G700-900-1100.at9852.pggbRecommended/cluster_og/cluster6.region.optimized_sorted.og\" does not exist. Please specify an existing input file in ODGI format via -i=[FILE], --idx=[FILE].\n",
      "[odgi::heaps] error: the given file \"chr4_cluster.p95.s5000.n17.k47.G700-900-1100.at9852.pggbRecommended/cluster_og/cluster6.region.optimized_sorted.og\" does not exist. Please specify an existing input file in ODGI format via -i=[FILE], --idx=[FILE].\n",
      "[odgi::heaps] error: the given file \"chr4_cluster.p95.s5000.n17.k47.G700-900-1100.at9852.pggbRecommended/cluster_og/cluster6.region.optimized_sorted.og\" does not exist. Please specify an existing input file in ODGI format via -i=[FILE], --idx=[FILE].\n",
      "[odgi::heaps] error: the given file \"chr4_cluster.p95.s5000.n17.k47.G700-900-1100.at9852.pggbRecommended/cluster_og/cluster6.region.optimized_sorted.og\" does not exist. Please specify an existing input file in ODGI format via -i=[FILE], --idx=[FILE].\n",
      "[odgi::heaps] error: the given file \"chr4_cluster.p95.s5000.n17.k47.G700-900-1100.at9852.pggbRecommended/cluster_og/cluster6.region.optimized_sorted.og\" does not exist. Please specify an existing input file in ODGI format via -i=[FILE], --idx=[FILE].\n",
      "[odgi::heaps] error: the given file \"chr4_cluster.p95.s5000.n17.k47.G700-900-1100.at9852.pggbRecommended/cluster_og/cluster6.region.optimized_sorted.og\" does not exist. Please specify an existing input file in ODGI format via -i=[FILE], --idx=[FILE].\n",
      "[odgi::heaps] error: the given file \"chr4_cluster.p95.s5000.n17.k47.G700-900-1100.at9852.pggbRecommended/cluster_og/cluster6.region.optimized_sorted.og\" does not exist. Please specify an existing input file in ODGI format via -i=[FILE], --idx=[FILE].\n",
      "[odgi::heaps] error: the given file \"chr4_cluster.p95.s5000.n17.k47.G700-900-1100.at9852.pggbRecommended/cluster_og/cluster6.region.optimized_sorted.og\" does not exist. Please specify an existing input file in ODGI format via -i=[FILE], --idx=[FILE].\n",
      "[odgi::heaps] error: the given file \"chr4_cluster.p95.s5000.n17.k47.G700-900-1100.at9852.pggbRecommended/cluster_og/cluster6.region.optimized_sorted.og\" does not exist. Please specify an existing input file in ODGI format via -i=[FILE], --idx=[FILE].\n",
      "[odgi::heaps] error: the given file \"chr4_cluster.p95.s5000.n17.k47.G700-900-1100.at9852.pggbRecommended/cluster_og/cluster6.region.optimized_sorted.og\" does not exist. Please specify an existing input file in ODGI format via -i=[FILE], --idx=[FILE].\n",
      "/u/gshirsekar/conda-envs/pggb/bin/panacus-visualize:107: UserWarning: FixedFormatter should only be used together with FixedLocator\n",
      "  axs[0].set_yticklabels(calibrate_yticks_text(yticks))\n",
      "/u/gshirsekar/conda-envs/pggb/bin/panacus-visualize:128: UserWarning: FixedFormatter should only be used together with FixedLocator\n",
      "  axs[1].set_yticklabels(calibrate_yticks_text(yticks))\n",
      "[odgi::viz] Path range to pangenomic range conversion.\n",
      "[odgi::viz] Visualizing the graph in the pangenomic range [3.29038e+07, 3.2931e+07]\n",
      "[odgi::viz] Binned mode\n",
      "[odgi::viz] bin width: 27.216\n",
      "[odgi::viz] image width: 1000\n",
      "bash: -t: command not found\n",
      "[odgi::extract] expansion and adding connecting edges\n",
      "[odgi::extract] extracting path ranges 100.00% @ 9.90e-01/s elapsed: 00:00:00:01 remain: 00:00:00:00\n",
      "[odgi::extract] merge subpaths closer than 100000 bps - iteration 1 (max 3) 100.00% @ 5.99e+00/s elapsed: 00:00:00:03 remain: 00:00:00:00\n",
      "[odgi::extract] merge subpaths closer than 100000 bps - iteration 2 (max 3) 100.00% @ 6.03e+00/s elapsed: 00:00:00:02 remain: 00:00:00:00\n",
      "[odgi::extract] adding connecting edges 100.00% @ 4.13e+03/s elapsed: 00:00:00:00 remain: 00:00:00:00\n",
      "[odgi::extract] adding subpaths 100.00% @ 9.05e+00/s elapsed: 00:00:00:05 remain: 00:00:00:00\n",
      "[odgi::extract] checking missing edges and empty subpaths 100.00% @ 7.18e+01/s elapsed: 00:00:00:00 remain: 00:00:00:00\n",
      "[odgi::paths] error: the given file \"chr4_cluster.p95.s5000.n17.k47.G700-900-1100.at9852.pggbRecommended/cluster_og/cluster7.region.optimized_sorted.og\" does not exist. Please specify an existing input file in ODGI format via -i=[FILE], --idx=[FILE].\n",
      "[odgi::paths] error: the given file \"chr4_cluster.p95.s5000.n17.k47.G700-900-1100.at9852.pggbRecommended/cluster_og/cluster7.region.optimized_sorted.og\" does not exist. Please specify an existing input file in ODGI format via -i=[FILE], --idx=[FILE].\n",
      "[odgi::paths] error: the given file \"chr4_cluster.p95.s5000.n17.k47.G700-900-1100.at9852.pggbRecommended/cluster_og/cluster7.region.optimized_sorted.og\" does not exist. Please specify an existing input file in ODGI format via -i=[FILE], --idx=[FILE].\n",
      "[odgi::paths] error: the given file \"chr4_cluster.p95.s5000.n17.k47.G700-900-1100.at9852.pggbRecommended/cluster_og/cluster7.region.optimized_sorted.og\" does not exist. Please specify an existing input file in ODGI format via -i=[FILE], --idx=[FILE].\n",
      "[odgi::paths] error: the given file \"chr4_cluster.p95.s5000.n17.k47.G700-900-1100.at9852.pggbRecommended/cluster_og/cluster7.region.optimized_sorted.og\" does not exist. Please specify an existing input file in ODGI format via -i=[FILE], --idx=[FILE].\n",
      "[odgi::paths] error: the given file \"chr4_cluster.p95.s5000.n17.k47.G700-900-1100.at9852.pggbRecommended/cluster_og/cluster7.region.optimized_sorted.og\" does not exist. Please specify an existing input file in ODGI format via -i=[FILE], --idx=[FILE].\n",
      "[odgi::paths] error: the given file \"chr4_cluster.p95.s5000.n17.k47.G700-900-1100.at9852.pggbRecommended/cluster_og/cluster7.region.optimized_sorted.og\" does not exist. Please specify an existing input file in ODGI format via -i=[FILE], --idx=[FILE].\n",
      "[odgi::paths] error: the given file \"chr4_cluster.p95.s5000.n17.k47.G700-900-1100.at9852.pggbRecommended/cluster_og/cluster7.region.optimized_sorted.og\" does not exist. Please specify an existing input file in ODGI format via -i=[FILE], --idx=[FILE].\n",
      "[odgi::paths] error: the given file \"chr4_cluster.p95.s5000.n17.k47.G700-900-1100.at9852.pggbRecommended/cluster_og/cluster7.region.optimized_sorted.og\" does not exist. Please specify an existing input file in ODGI format via -i=[FILE], --idx=[FILE].\n",
      "[odgi::paths] error: the given file \"chr4_cluster.p95.s5000.n17.k47.G700-900-1100.at9852.pggbRecommended/cluster_og/cluster7.region.optimized_sorted.og\" does not exist. Please specify an existing input file in ODGI format via -i=[FILE], --idx=[FILE].\n",
      "[odgi::paths] error: the given file \"chr4_cluster.p95.s5000.n17.k47.G700-900-1100.at9852.pggbRecommended/cluster_og/cluster7.region.optimized_sorted.og\" does not exist. Please specify an existing input file in ODGI format via -i=[FILE], --idx=[FILE].\n",
      "[odgi::paths] error: the given file \"chr4_cluster.p95.s5000.n17.k47.G700-900-1100.at9852.pggbRecommended/cluster_og/cluster7.region.optimized_sorted.og\" does not exist. Please specify an existing input file in ODGI format via -i=[FILE], --idx=[FILE].\n",
      "[odgi::paths] error: the given file \"chr4_cluster.p95.s5000.n17.k47.G700-900-1100.at9852.pggbRecommended/cluster_og/cluster7.region.optimized_sorted.og\" does not exist. Please specify an existing input file in ODGI format via -i=[FILE], --idx=[FILE].\n",
      "[odgi::paths] error: the given file \"chr4_cluster.p95.s5000.n17.k47.G700-900-1100.at9852.pggbRecommended/cluster_og/cluster7.region.optimized_sorted.og\" does not exist. Please specify an existing input file in ODGI format via -i=[FILE], --idx=[FILE].\n",
      "[odgi::paths] error: the given file \"chr4_cluster.p95.s5000.n17.k47.G700-900-1100.at9852.pggbRecommended/cluster_og/cluster7.region.optimized_sorted.og\" does not exist. Please specify an existing input file in ODGI format via -i=[FILE], --idx=[FILE].\n",
      "[odgi::paths] error: the given file \"chr4_cluster.p95.s5000.n17.k47.G700-900-1100.at9852.pggbRecommended/cluster_og/cluster7.region.optimized_sorted.og\" does not exist. Please specify an existing input file in ODGI format via -i=[FILE], --idx=[FILE].\n",
      "[odgi::paths] error: the given file \"chr4_cluster.p95.s5000.n17.k47.G700-900-1100.at9852.pggbRecommended/cluster_og/cluster7.region.optimized_sorted.og\" does not exist. Please specify an existing input file in ODGI format via -i=[FILE], --idx=[FILE].\n",
      "[odgi::paths] error: the given file \"chr4_cluster.p95.s5000.n17.k47.G700-900-1100.at9852.pggbRecommended/cluster_og/cluster7.region.optimized_sorted.og\" does not exist. Please specify an existing input file in ODGI format via -i=[FILE], --idx=[FILE].\n",
      "[odgi::heaps] error: the given file \"chr4_cluster.p95.s5000.n17.k47.G700-900-1100.at9852.pggbRecommended/cluster_og/cluster7.region.optimized_sorted.og\" does not exist. Please specify an existing input file in ODGI format via -i=[FILE], --idx=[FILE].\n",
      "[odgi::heaps] error: the given file \"chr4_cluster.p95.s5000.n17.k47.G700-900-1100.at9852.pggbRecommended/cluster_og/cluster7.region.optimized_sorted.og\" does not exist. Please specify an existing input file in ODGI format via -i=[FILE], --idx=[FILE].\n",
      "[odgi::heaps] error: the given file \"chr4_cluster.p95.s5000.n17.k47.G700-900-1100.at9852.pggbRecommended/cluster_og/cluster7.region.optimized_sorted.og\" does not exist. Please specify an existing input file in ODGI format via -i=[FILE], --idx=[FILE].\n",
      "[odgi::heaps] error: the given file \"chr4_cluster.p95.s5000.n17.k47.G700-900-1100.at9852.pggbRecommended/cluster_og/cluster7.region.optimized_sorted.og\" does not exist. Please specify an existing input file in ODGI format via -i=[FILE], --idx=[FILE].\n",
      "[odgi::heaps] error: the given file \"chr4_cluster.p95.s5000.n17.k47.G700-900-1100.at9852.pggbRecommended/cluster_og/cluster7.region.optimized_sorted.og\" does not exist. Please specify an existing input file in ODGI format via -i=[FILE], --idx=[FILE].\n",
      "[odgi::heaps] error: the given file \"chr4_cluster.p95.s5000.n17.k47.G700-900-1100.at9852.pggbRecommended/cluster_og/cluster7.region.optimized_sorted.og\" does not exist. Please specify an existing input file in ODGI format via -i=[FILE], --idx=[FILE].\n",
      "[odgi::heaps] error: the given file \"chr4_cluster.p95.s5000.n17.k47.G700-900-1100.at9852.pggbRecommended/cluster_og/cluster7.region.optimized_sorted.og\" does not exist. Please specify an existing input file in ODGI format via -i=[FILE], --idx=[FILE].\n",
      "[odgi::heaps] error: the given file \"chr4_cluster.p95.s5000.n17.k47.G700-900-1100.at9852.pggbRecommended/cluster_og/cluster7.region.optimized_sorted.og\" does not exist. Please specify an existing input file in ODGI format via -i=[FILE], --idx=[FILE].\n",
      "[odgi::heaps] error: the given file \"chr4_cluster.p95.s5000.n17.k47.G700-900-1100.at9852.pggbRecommended/cluster_og/cluster7.region.optimized_sorted.og\" does not exist. Please specify an existing input file in ODGI format via -i=[FILE], --idx=[FILE].\n",
      "[odgi::heaps] error: the given file \"chr4_cluster.p95.s5000.n17.k47.G700-900-1100.at9852.pggbRecommended/cluster_og/cluster7.region.optimized_sorted.og\" does not exist. Please specify an existing input file in ODGI format via -i=[FILE], --idx=[FILE].\n",
      "[odgi::heaps] error: the given file \"chr4_cluster.p95.s5000.n17.k47.G700-900-1100.at9852.pggbRecommended/cluster_og/cluster7.region.optimized_sorted.og\" does not exist. Please specify an existing input file in ODGI format via -i=[FILE], --idx=[FILE].\n",
      "[odgi::heaps] error: the given file \"chr4_cluster.p95.s5000.n17.k47.G700-900-1100.at9852.pggbRecommended/cluster_og/cluster7.region.optimized_sorted.og\" does not exist. Please specify an existing input file in ODGI format via -i=[FILE], --idx=[FILE].\n",
      "[odgi::heaps] error: the given file \"chr4_cluster.p95.s5000.n17.k47.G700-900-1100.at9852.pggbRecommended/cluster_og/cluster7.region.optimized_sorted.og\" does not exist. Please specify an existing input file in ODGI format via -i=[FILE], --idx=[FILE].\n",
      "[odgi::heaps] error: the given file \"chr4_cluster.p95.s5000.n17.k47.G700-900-1100.at9852.pggbRecommended/cluster_og/cluster7.region.optimized_sorted.og\" does not exist. Please specify an existing input file in ODGI format via -i=[FILE], --idx=[FILE].\n",
      "[odgi::heaps] error: the given file \"chr4_cluster.p95.s5000.n17.k47.G700-900-1100.at9852.pggbRecommended/cluster_og/cluster7.region.optimized_sorted.og\" does not exist. Please specify an existing input file in ODGI format via -i=[FILE], --idx=[FILE].\n",
      "[odgi::heaps] error: the given file \"chr4_cluster.p95.s5000.n17.k47.G700-900-1100.at9852.pggbRecommended/cluster_og/cluster7.region.optimized_sorted.og\" does not exist. Please specify an existing input file in ODGI format via -i=[FILE], --idx=[FILE].\n",
      "[odgi::heaps] error: the given file \"chr4_cluster.p95.s5000.n17.k47.G700-900-1100.at9852.pggbRecommended/cluster_og/cluster7.region.optimized_sorted.og\" does not exist. Please specify an existing input file in ODGI format via -i=[FILE], --idx=[FILE].\n",
      "[odgi::heaps] error: the given file \"chr4_cluster.p95.s5000.n17.k47.G700-900-1100.at9852.pggbRecommended/cluster_og/cluster7.region.optimized_sorted.og\" does not exist. Please specify an existing input file in ODGI format via -i=[FILE], --idx=[FILE].\n",
      "/u/gshirsekar/conda-envs/pggb/bin/panacus-visualize:107: UserWarning: FixedFormatter should only be used together with FixedLocator\n",
      "  axs[0].set_yticklabels(calibrate_yticks_text(yticks))\n",
      "/u/gshirsekar/conda-envs/pggb/bin/panacus-visualize:128: UserWarning: FixedFormatter should only be used together with FixedLocator\n",
      "  axs[1].set_yticklabels(calibrate_yticks_text(yticks))\n",
      "[odgi::viz] Path range to pangenomic range conversion.\n",
      "[odgi::viz] Visualizing the graph in the pangenomic range [3.49525e+07, 3.49732e+07]\n",
      "[odgi::viz] Binned mode\n",
      "[odgi::viz] bin width: 20.665\n",
      "[odgi::viz] image width: 1000\n",
      "bash: -t: command not found\n",
      "[odgi::extract] expansion and adding connecting edges\n",
      "[odgi::extract] extracting path ranges 100.00% @ 9.17e-01/s elapsed: 00:00:00:01 remain: 00:00:00:00\n",
      "[odgi::extract] merge subpaths closer than 100000 bps - iteration 1 (max 3) 100.00% @ 7.57e+00/s elapsed: 00:00:00:02 remain: 00:00:00:00\n",
      "[odgi::extract] merge subpaths closer than 100000 bps - iteration 2 (max 3) 100.00% @ 7.45e+00/s elapsed: 00:00:00:02 remain: 00:00:00:00\n",
      "[odgi::extract] adding connecting edges 100.00% @ 3.05e+03/s elapsed: 00:00:00:00 remain: 00:00:00:00\n",
      "[odgi::extract] adding subpaths 100.00% @ 1.09e+01/s elapsed: 00:00:00:04 remain: 00:00:00:00\n",
      "[odgi::extract] checking missing edges and empty subpaths 100.00% @ 7.18e+01/s elapsed: 00:00:00:00 remain: 00:00:00:00\n",
      "[odgi::paths] error: the given file \"chr4_cluster.p95.s5000.n17.k47.G700-900-1100.at9852.pggbRecommended/cluster_og/cluster8.region.optimized_sorted.og\" does not exist. Please specify an existing input file in ODGI format via -i=[FILE], --idx=[FILE].\n",
      "[odgi::paths] error: the given file \"chr4_cluster.p95.s5000.n17.k47.G700-900-1100.at9852.pggbRecommended/cluster_og/cluster8.region.optimized_sorted.og\" does not exist. Please specify an existing input file in ODGI format via -i=[FILE], --idx=[FILE].\n",
      "[odgi::paths] error: the given file \"chr4_cluster.p95.s5000.n17.k47.G700-900-1100.at9852.pggbRecommended/cluster_og/cluster8.region.optimized_sorted.og\" does not exist. Please specify an existing input file in ODGI format via -i=[FILE], --idx=[FILE].\n",
      "[odgi::paths] error: the given file \"chr4_cluster.p95.s5000.n17.k47.G700-900-1100.at9852.pggbRecommended/cluster_og/cluster8.region.optimized_sorted.og\" does not exist. Please specify an existing input file in ODGI format via -i=[FILE], --idx=[FILE].\n",
      "[odgi::paths] error: the given file \"chr4_cluster.p95.s5000.n17.k47.G700-900-1100.at9852.pggbRecommended/cluster_og/cluster8.region.optimized_sorted.og\" does not exist. Please specify an existing input file in ODGI format via -i=[FILE], --idx=[FILE].\n",
      "[odgi::paths] error: the given file \"chr4_cluster.p95.s5000.n17.k47.G700-900-1100.at9852.pggbRecommended/cluster_og/cluster8.region.optimized_sorted.og\" does not exist. Please specify an existing input file in ODGI format via -i=[FILE], --idx=[FILE].\n",
      "[odgi::paths] error: the given file \"chr4_cluster.p95.s5000.n17.k47.G700-900-1100.at9852.pggbRecommended/cluster_og/cluster8.region.optimized_sorted.og\" does not exist. Please specify an existing input file in ODGI format via -i=[FILE], --idx=[FILE].\n",
      "[odgi::paths] error: the given file \"chr4_cluster.p95.s5000.n17.k47.G700-900-1100.at9852.pggbRecommended/cluster_og/cluster8.region.optimized_sorted.og\" does not exist. Please specify an existing input file in ODGI format via -i=[FILE], --idx=[FILE].\n",
      "[odgi::paths] error: the given file \"chr4_cluster.p95.s5000.n17.k47.G700-900-1100.at9852.pggbRecommended/cluster_og/cluster8.region.optimized_sorted.og\" does not exist. Please specify an existing input file in ODGI format via -i=[FILE], --idx=[FILE].\n",
      "[odgi::paths] error: the given file \"chr4_cluster.p95.s5000.n17.k47.G700-900-1100.at9852.pggbRecommended/cluster_og/cluster8.region.optimized_sorted.og\" does not exist. Please specify an existing input file in ODGI format via -i=[FILE], --idx=[FILE].\n",
      "[odgi::paths] error: the given file \"chr4_cluster.p95.s5000.n17.k47.G700-900-1100.at9852.pggbRecommended/cluster_og/cluster8.region.optimized_sorted.og\" does not exist. Please specify an existing input file in ODGI format via -i=[FILE], --idx=[FILE].\n",
      "[odgi::paths] error: the given file \"chr4_cluster.p95.s5000.n17.k47.G700-900-1100.at9852.pggbRecommended/cluster_og/cluster8.region.optimized_sorted.og\" does not exist. Please specify an existing input file in ODGI format via -i=[FILE], --idx=[FILE].\n",
      "[odgi::paths] error: the given file \"chr4_cluster.p95.s5000.n17.k47.G700-900-1100.at9852.pggbRecommended/cluster_og/cluster8.region.optimized_sorted.og\" does not exist. Please specify an existing input file in ODGI format via -i=[FILE], --idx=[FILE].\n",
      "[odgi::paths] error: the given file \"chr4_cluster.p95.s5000.n17.k47.G700-900-1100.at9852.pggbRecommended/cluster_og/cluster8.region.optimized_sorted.og\" does not exist. Please specify an existing input file in ODGI format via -i=[FILE], --idx=[FILE].\n",
      "[odgi::paths] error: the given file \"chr4_cluster.p95.s5000.n17.k47.G700-900-1100.at9852.pggbRecommended/cluster_og/cluster8.region.optimized_sorted.og\" does not exist. Please specify an existing input file in ODGI format via -i=[FILE], --idx=[FILE].\n",
      "[odgi::paths] error: the given file \"chr4_cluster.p95.s5000.n17.k47.G700-900-1100.at9852.pggbRecommended/cluster_og/cluster8.region.optimized_sorted.og\" does not exist. Please specify an existing input file in ODGI format via -i=[FILE], --idx=[FILE].\n",
      "[odgi::paths] error: the given file \"chr4_cluster.p95.s5000.n17.k47.G700-900-1100.at9852.pggbRecommended/cluster_og/cluster8.region.optimized_sorted.og\" does not exist. Please specify an existing input file in ODGI format via -i=[FILE], --idx=[FILE].\n",
      "[odgi::paths] error: the given file \"chr4_cluster.p95.s5000.n17.k47.G700-900-1100.at9852.pggbRecommended/cluster_og/cluster8.region.optimized_sorted.og\" does not exist. Please specify an existing input file in ODGI format via -i=[FILE], --idx=[FILE].\n",
      "[odgi::heaps] error: the given file \"chr4_cluster.p95.s5000.n17.k47.G700-900-1100.at9852.pggbRecommended/cluster_og/cluster8.region.optimized_sorted.og\" does not exist. Please specify an existing input file in ODGI format via -i=[FILE], --idx=[FILE].\n",
      "[odgi::heaps] error: the given file \"chr4_cluster.p95.s5000.n17.k47.G700-900-1100.at9852.pggbRecommended/cluster_og/cluster8.region.optimized_sorted.og\" does not exist. Please specify an existing input file in ODGI format via -i=[FILE], --idx=[FILE].\n",
      "[odgi::heaps] error: the given file \"chr4_cluster.p95.s5000.n17.k47.G700-900-1100.at9852.pggbRecommended/cluster_og/cluster8.region.optimized_sorted.og\" does not exist. Please specify an existing input file in ODGI format via -i=[FILE], --idx=[FILE].\n",
      "[odgi::heaps] error: the given file \"chr4_cluster.p95.s5000.n17.k47.G700-900-1100.at9852.pggbRecommended/cluster_og/cluster8.region.optimized_sorted.og\" does not exist. Please specify an existing input file in ODGI format via -i=[FILE], --idx=[FILE].\n",
      "[odgi::heaps] error: the given file \"chr4_cluster.p95.s5000.n17.k47.G700-900-1100.at9852.pggbRecommended/cluster_og/cluster8.region.optimized_sorted.og\" does not exist. Please specify an existing input file in ODGI format via -i=[FILE], --idx=[FILE].\n",
      "[odgi::heaps] error: the given file \"chr4_cluster.p95.s5000.n17.k47.G700-900-1100.at9852.pggbRecommended/cluster_og/cluster8.region.optimized_sorted.og\" does not exist. Please specify an existing input file in ODGI format via -i=[FILE], --idx=[FILE].\n",
      "[odgi::heaps] error: the given file \"chr4_cluster.p95.s5000.n17.k47.G700-900-1100.at9852.pggbRecommended/cluster_og/cluster8.region.optimized_sorted.og\" does not exist. Please specify an existing input file in ODGI format via -i=[FILE], --idx=[FILE].\n",
      "[odgi::heaps] error: the given file \"chr4_cluster.p95.s5000.n17.k47.G700-900-1100.at9852.pggbRecommended/cluster_og/cluster8.region.optimized_sorted.og\" does not exist. Please specify an existing input file in ODGI format via -i=[FILE], --idx=[FILE].\n",
      "[odgi::heaps] error: the given file \"chr4_cluster.p95.s5000.n17.k47.G700-900-1100.at9852.pggbRecommended/cluster_og/cluster8.region.optimized_sorted.og\" does not exist. Please specify an existing input file in ODGI format via -i=[FILE], --idx=[FILE].\n",
      "[odgi::heaps] error: the given file \"chr4_cluster.p95.s5000.n17.k47.G700-900-1100.at9852.pggbRecommended/cluster_og/cluster8.region.optimized_sorted.og\" does not exist. Please specify an existing input file in ODGI format via -i=[FILE], --idx=[FILE].\n",
      "[odgi::heaps] error: the given file \"chr4_cluster.p95.s5000.n17.k47.G700-900-1100.at9852.pggbRecommended/cluster_og/cluster8.region.optimized_sorted.og\" does not exist. Please specify an existing input file in ODGI format via -i=[FILE], --idx=[FILE].\n",
      "[odgi::heaps] error: the given file \"chr4_cluster.p95.s5000.n17.k47.G700-900-1100.at9852.pggbRecommended/cluster_og/cluster8.region.optimized_sorted.og\" does not exist. Please specify an existing input file in ODGI format via -i=[FILE], --idx=[FILE].\n",
      "[odgi::heaps] error: the given file \"chr4_cluster.p95.s5000.n17.k47.G700-900-1100.at9852.pggbRecommended/cluster_og/cluster8.region.optimized_sorted.og\" does not exist. Please specify an existing input file in ODGI format via -i=[FILE], --idx=[FILE].\n",
      "[odgi::heaps] error: the given file \"chr4_cluster.p95.s5000.n17.k47.G700-900-1100.at9852.pggbRecommended/cluster_og/cluster8.region.optimized_sorted.og\" does not exist. Please specify an existing input file in ODGI format via -i=[FILE], --idx=[FILE].\n",
      "[odgi::heaps] error: the given file \"chr4_cluster.p95.s5000.n17.k47.G700-900-1100.at9852.pggbRecommended/cluster_og/cluster8.region.optimized_sorted.og\" does not exist. Please specify an existing input file in ODGI format via -i=[FILE], --idx=[FILE].\n",
      "[odgi::heaps] error: the given file \"chr4_cluster.p95.s5000.n17.k47.G700-900-1100.at9852.pggbRecommended/cluster_og/cluster8.region.optimized_sorted.og\" does not exist. Please specify an existing input file in ODGI format via -i=[FILE], --idx=[FILE].\n",
      "[odgi::heaps] error: the given file \"chr4_cluster.p95.s5000.n17.k47.G700-900-1100.at9852.pggbRecommended/cluster_og/cluster8.region.optimized_sorted.og\" does not exist. Please specify an existing input file in ODGI format via -i=[FILE], --idx=[FILE].\n",
      "[odgi::heaps] error: the given file \"chr4_cluster.p95.s5000.n17.k47.G700-900-1100.at9852.pggbRecommended/cluster_og/cluster8.region.optimized_sorted.og\" does not exist. Please specify an existing input file in ODGI format via -i=[FILE], --idx=[FILE].\n",
      "/u/gshirsekar/conda-envs/pggb/bin/panacus-visualize:107: UserWarning: FixedFormatter should only be used together with FixedLocator\n",
      "  axs[0].set_yticklabels(calibrate_yticks_text(yticks))\n",
      "/u/gshirsekar/conda-envs/pggb/bin/panacus-visualize:128: UserWarning: FixedFormatter should only be used together with FixedLocator\n",
      "  axs[1].set_yticklabels(calibrate_yticks_text(yticks))\n",
      "[odgi::viz] Path range to pangenomic range conversion.\n",
      "[odgi::viz] Visualizing the graph in the pangenomic range [3.53677e+07, 3.55427e+07]\n",
      "[odgi::viz] Binned mode\n",
      "[odgi::viz] bin width: 175.014\n",
      "[odgi::viz] image width: 1000\n",
      "bash: -t: command not found\n",
      "[odgi::extract] expansion and adding connecting edges\n",
      "[odgi::extract] extracting path ranges 100.00% @ 7.40e-01/s elapsed: 00:00:00:01 remain: 00:00:00:00\n",
      "[odgi::extract] merge subpaths closer than 100000 bps - iteration 1 (max 3) 100.00% @ 5.89e+00/s elapsed: 00:00:00:03 remain: 00:00:00:00\n",
      "[odgi::extract] merge subpaths closer than 100000 bps - iteration 2 (max 3) 100.00% @ 6.48e+00/s elapsed: 00:00:00:02 remain: 00:00:00:00\n",
      "[odgi::extract] adding connecting edges 100.00% @ 1.52e+04/s elapsed: 00:00:00:00 remain: 00:00:00:00\n",
      "[odgi::extract] adding subpaths 100.00% @ 9.25e+00/s elapsed: 00:00:00:05 remain: 00:00:00:00\n",
      "[odgi::extract] checking missing edges and empty subpaths 100.00% @ 7.17e+01/s elapsed: 00:00:00:00 remain: 00:00:00:00\n",
      "[odgi::paths] error: the given file \"chr4_cluster.p95.s5000.n17.k47.G700-900-1100.at9852.pggbRecommended/cluster_og/cluster9.region.optimized_sorted.og\" does not exist. Please specify an existing input file in ODGI format via -i=[FILE], --idx=[FILE].\n",
      "[odgi::paths] error: the given file \"chr4_cluster.p95.s5000.n17.k47.G700-900-1100.at9852.pggbRecommended/cluster_og/cluster9.region.optimized_sorted.og\" does not exist. Please specify an existing input file in ODGI format via -i=[FILE], --idx=[FILE].\n",
      "[odgi::paths] error: the given file \"chr4_cluster.p95.s5000.n17.k47.G700-900-1100.at9852.pggbRecommended/cluster_og/cluster9.region.optimized_sorted.og\" does not exist. Please specify an existing input file in ODGI format via -i=[FILE], --idx=[FILE].\n",
      "[odgi::paths] error: the given file \"chr4_cluster.p95.s5000.n17.k47.G700-900-1100.at9852.pggbRecommended/cluster_og/cluster9.region.optimized_sorted.og\" does not exist. Please specify an existing input file in ODGI format via -i=[FILE], --idx=[FILE].\n",
      "[odgi::paths] error: the given file \"chr4_cluster.p95.s5000.n17.k47.G700-900-1100.at9852.pggbRecommended/cluster_og/cluster9.region.optimized_sorted.og\" does not exist. Please specify an existing input file in ODGI format via -i=[FILE], --idx=[FILE].\n",
      "[odgi::paths] error: the given file \"chr4_cluster.p95.s5000.n17.k47.G700-900-1100.at9852.pggbRecommended/cluster_og/cluster9.region.optimized_sorted.og\" does not exist. Please specify an existing input file in ODGI format via -i=[FILE], --idx=[FILE].\n",
      "[odgi::paths] error: the given file \"chr4_cluster.p95.s5000.n17.k47.G700-900-1100.at9852.pggbRecommended/cluster_og/cluster9.region.optimized_sorted.og\" does not exist. Please specify an existing input file in ODGI format via -i=[FILE], --idx=[FILE].\n",
      "[odgi::paths] error: the given file \"chr4_cluster.p95.s5000.n17.k47.G700-900-1100.at9852.pggbRecommended/cluster_og/cluster9.region.optimized_sorted.og\" does not exist. Please specify an existing input file in ODGI format via -i=[FILE], --idx=[FILE].\n",
      "[odgi::paths] error: the given file \"chr4_cluster.p95.s5000.n17.k47.G700-900-1100.at9852.pggbRecommended/cluster_og/cluster9.region.optimized_sorted.og\" does not exist. Please specify an existing input file in ODGI format via -i=[FILE], --idx=[FILE].\n",
      "[odgi::paths] error: the given file \"chr4_cluster.p95.s5000.n17.k47.G700-900-1100.at9852.pggbRecommended/cluster_og/cluster9.region.optimized_sorted.og\" does not exist. Please specify an existing input file in ODGI format via -i=[FILE], --idx=[FILE].\n",
      "[odgi::paths] error: the given file \"chr4_cluster.p95.s5000.n17.k47.G700-900-1100.at9852.pggbRecommended/cluster_og/cluster9.region.optimized_sorted.og\" does not exist. Please specify an existing input file in ODGI format via -i=[FILE], --idx=[FILE].\n",
      "[odgi::paths] error: the given file \"chr4_cluster.p95.s5000.n17.k47.G700-900-1100.at9852.pggbRecommended/cluster_og/cluster9.region.optimized_sorted.og\" does not exist. Please specify an existing input file in ODGI format via -i=[FILE], --idx=[FILE].\n",
      "[odgi::paths] error: the given file \"chr4_cluster.p95.s5000.n17.k47.G700-900-1100.at9852.pggbRecommended/cluster_og/cluster9.region.optimized_sorted.og\" does not exist. Please specify an existing input file in ODGI format via -i=[FILE], --idx=[FILE].\n",
      "[odgi::paths] error: the given file \"chr4_cluster.p95.s5000.n17.k47.G700-900-1100.at9852.pggbRecommended/cluster_og/cluster9.region.optimized_sorted.og\" does not exist. Please specify an existing input file in ODGI format via -i=[FILE], --idx=[FILE].\n",
      "[odgi::paths] error: the given file \"chr4_cluster.p95.s5000.n17.k47.G700-900-1100.at9852.pggbRecommended/cluster_og/cluster9.region.optimized_sorted.og\" does not exist. Please specify an existing input file in ODGI format via -i=[FILE], --idx=[FILE].\n",
      "[odgi::paths] error: the given file \"chr4_cluster.p95.s5000.n17.k47.G700-900-1100.at9852.pggbRecommended/cluster_og/cluster9.region.optimized_sorted.og\" does not exist. Please specify an existing input file in ODGI format via -i=[FILE], --idx=[FILE].\n",
      "[odgi::paths] error: the given file \"chr4_cluster.p95.s5000.n17.k47.G700-900-1100.at9852.pggbRecommended/cluster_og/cluster9.region.optimized_sorted.og\" does not exist. Please specify an existing input file in ODGI format via -i=[FILE], --idx=[FILE].\n",
      "[odgi::paths] error: the given file \"chr4_cluster.p95.s5000.n17.k47.G700-900-1100.at9852.pggbRecommended/cluster_og/cluster9.region.optimized_sorted.og\" does not exist. Please specify an existing input file in ODGI format via -i=[FILE], --idx=[FILE].\n",
      "[odgi::heaps] error: the given file \"chr4_cluster.p95.s5000.n17.k47.G700-900-1100.at9852.pggbRecommended/cluster_og/cluster9.region.optimized_sorted.og\" does not exist. Please specify an existing input file in ODGI format via -i=[FILE], --idx=[FILE].\n",
      "[odgi::heaps] error: the given file \"chr4_cluster.p95.s5000.n17.k47.G700-900-1100.at9852.pggbRecommended/cluster_og/cluster9.region.optimized_sorted.og\" does not exist. Please specify an existing input file in ODGI format via -i=[FILE], --idx=[FILE].\n",
      "[odgi::heaps] error: the given file \"chr4_cluster.p95.s5000.n17.k47.G700-900-1100.at9852.pggbRecommended/cluster_og/cluster9.region.optimized_sorted.og\" does not exist. Please specify an existing input file in ODGI format via -i=[FILE], --idx=[FILE].\n",
      "[odgi::heaps] error: the given file \"chr4_cluster.p95.s5000.n17.k47.G700-900-1100.at9852.pggbRecommended/cluster_og/cluster9.region.optimized_sorted.og\" does not exist. Please specify an existing input file in ODGI format via -i=[FILE], --idx=[FILE].\n",
      "[odgi::heaps] error: the given file \"chr4_cluster.p95.s5000.n17.k47.G700-900-1100.at9852.pggbRecommended/cluster_og/cluster9.region.optimized_sorted.og\" does not exist. Please specify an existing input file in ODGI format via -i=[FILE], --idx=[FILE].\n",
      "[odgi::heaps] error: the given file \"chr4_cluster.p95.s5000.n17.k47.G700-900-1100.at9852.pggbRecommended/cluster_og/cluster9.region.optimized_sorted.og\" does not exist. Please specify an existing input file in ODGI format via -i=[FILE], --idx=[FILE].\n",
      "[odgi::heaps] error: the given file \"chr4_cluster.p95.s5000.n17.k47.G700-900-1100.at9852.pggbRecommended/cluster_og/cluster9.region.optimized_sorted.og\" does not exist. Please specify an existing input file in ODGI format via -i=[FILE], --idx=[FILE].\n",
      "[odgi::heaps] error: the given file \"chr4_cluster.p95.s5000.n17.k47.G700-900-1100.at9852.pggbRecommended/cluster_og/cluster9.region.optimized_sorted.og\" does not exist. Please specify an existing input file in ODGI format via -i=[FILE], --idx=[FILE].\n",
      "[odgi::heaps] error: the given file \"chr4_cluster.p95.s5000.n17.k47.G700-900-1100.at9852.pggbRecommended/cluster_og/cluster9.region.optimized_sorted.og\" does not exist. Please specify an existing input file in ODGI format via -i=[FILE], --idx=[FILE].\n",
      "[odgi::heaps] error: the given file \"chr4_cluster.p95.s5000.n17.k47.G700-900-1100.at9852.pggbRecommended/cluster_og/cluster9.region.optimized_sorted.og\" does not exist. Please specify an existing input file in ODGI format via -i=[FILE], --idx=[FILE].\n",
      "[odgi::heaps] error: the given file \"chr4_cluster.p95.s5000.n17.k47.G700-900-1100.at9852.pggbRecommended/cluster_og/cluster9.region.optimized_sorted.og\" does not exist. Please specify an existing input file in ODGI format via -i=[FILE], --idx=[FILE].\n",
      "[odgi::heaps] error: the given file \"chr4_cluster.p95.s5000.n17.k47.G700-900-1100.at9852.pggbRecommended/cluster_og/cluster9.region.optimized_sorted.og\" does not exist. Please specify an existing input file in ODGI format via -i=[FILE], --idx=[FILE].\n",
      "[odgi::heaps] error: the given file \"chr4_cluster.p95.s5000.n17.k47.G700-900-1100.at9852.pggbRecommended/cluster_og/cluster9.region.optimized_sorted.og\" does not exist. Please specify an existing input file in ODGI format via -i=[FILE], --idx=[FILE].\n",
      "[odgi::heaps] error: the given file \"chr4_cluster.p95.s5000.n17.k47.G700-900-1100.at9852.pggbRecommended/cluster_og/cluster9.region.optimized_sorted.og\" does not exist. Please specify an existing input file in ODGI format via -i=[FILE], --idx=[FILE].\n",
      "[odgi::heaps] error: the given file \"chr4_cluster.p95.s5000.n17.k47.G700-900-1100.at9852.pggbRecommended/cluster_og/cluster9.region.optimized_sorted.og\" does not exist. Please specify an existing input file in ODGI format via -i=[FILE], --idx=[FILE].\n",
      "[odgi::heaps] error: the given file \"chr4_cluster.p95.s5000.n17.k47.G700-900-1100.at9852.pggbRecommended/cluster_og/cluster9.region.optimized_sorted.og\" does not exist. Please specify an existing input file in ODGI format via -i=[FILE], --idx=[FILE].\n",
      "[odgi::heaps] error: the given file \"chr4_cluster.p95.s5000.n17.k47.G700-900-1100.at9852.pggbRecommended/cluster_og/cluster9.region.optimized_sorted.og\" does not exist. Please specify an existing input file in ODGI format via -i=[FILE], --idx=[FILE].\n",
      "[odgi::heaps] error: the given file \"chr4_cluster.p95.s5000.n17.k47.G700-900-1100.at9852.pggbRecommended/cluster_og/cluster9.region.optimized_sorted.og\" does not exist. Please specify an existing input file in ODGI format via -i=[FILE], --idx=[FILE].\n",
      "/u/gshirsekar/conda-envs/pggb/bin/panacus-visualize:107: UserWarning: FixedFormatter should only be used together with FixedLocator\n",
      "  axs[0].set_yticklabels(calibrate_yticks_text(yticks))\n",
      "/u/gshirsekar/conda-envs/pggb/bin/panacus-visualize:128: UserWarning: FixedFormatter should only be used together with FixedLocator\n",
      "  axs[1].set_yticklabels(calibrate_yticks_text(yticks))\n",
      "[odgi::viz] Path range to pangenomic range conversion.\n",
      "[odgi::viz] Visualizing the graph in the pangenomic range [3.8365e+07, 3.83791e+07]\n",
      "[odgi::viz] Binned mode\n",
      "[odgi::viz] bin width: 14.065\n",
      "[odgi::viz] image width: 1000\n",
      "bash: -t: command not found\n",
      "[odgi::extract] expansion and adding connecting edges\n",
      "[odgi::extract] extracting path ranges 100.00% @ 1.21e+00/s elapsed: 00:00:00:00 remain: 00:00:00:00\n",
      "[odgi::extract] merge subpaths closer than 100000 bps - iteration 1 (max 3) 100.00% @ 6.97e+00/s elapsed: 00:00:00:02 remain: 00:00:00:00\n",
      "[odgi::extract] merge subpaths closer than 100000 bps - iteration 2 (max 3) 100.00% @ 7.29e+00/s elapsed: 00:00:00:02 remain: 00:00:00:00\n",
      "[odgi::extract] adding connecting edges 100.00% @ 5.08e+03/s elapsed: 00:00:00:00 remain: 00:00:00:00\n",
      "[odgi::extract] adding subpaths 100.00% @ 6.76e+00/s elapsed: 00:00:00:07 remain: 00:00:00:00\n",
      "[odgi::extract] checking missing edges and empty subpaths 100.00% @ 7.17e+01/s elapsed: 00:00:00:00 remain: 00:00:00:00\n",
      "[odgi::paths] error: the given file \"chr4_cluster.p95.s5000.n17.k47.G700-900-1100.at9852.pggbRecommended/cluster_og/cluster10.region.optimized_sorted.og\" does not exist. Please specify an existing input file in ODGI format via -i=[FILE], --idx=[FILE].\n",
      "[odgi::paths] error: the given file \"chr4_cluster.p95.s5000.n17.k47.G700-900-1100.at9852.pggbRecommended/cluster_og/cluster10.region.optimized_sorted.og\" does not exist. Please specify an existing input file in ODGI format via -i=[FILE], --idx=[FILE].\n",
      "[odgi::paths] error: the given file \"chr4_cluster.p95.s5000.n17.k47.G700-900-1100.at9852.pggbRecommended/cluster_og/cluster10.region.optimized_sorted.og\" does not exist. Please specify an existing input file in ODGI format via -i=[FILE], --idx=[FILE].\n",
      "[odgi::paths] error: the given file \"chr4_cluster.p95.s5000.n17.k47.G700-900-1100.at9852.pggbRecommended/cluster_og/cluster10.region.optimized_sorted.og\" does not exist. Please specify an existing input file in ODGI format via -i=[FILE], --idx=[FILE].\n",
      "[odgi::paths] error: the given file \"chr4_cluster.p95.s5000.n17.k47.G700-900-1100.at9852.pggbRecommended/cluster_og/cluster10.region.optimized_sorted.og\" does not exist. Please specify an existing input file in ODGI format via -i=[FILE], --idx=[FILE].\n",
      "[odgi::paths] error: the given file \"chr4_cluster.p95.s5000.n17.k47.G700-900-1100.at9852.pggbRecommended/cluster_og/cluster10.region.optimized_sorted.og\" does not exist. Please specify an existing input file in ODGI format via -i=[FILE], --idx=[FILE].\n",
      "[odgi::paths] error: the given file \"chr4_cluster.p95.s5000.n17.k47.G700-900-1100.at9852.pggbRecommended/cluster_og/cluster10.region.optimized_sorted.og\" does not exist. Please specify an existing input file in ODGI format via -i=[FILE], --idx=[FILE].\n",
      "[odgi::paths] error: the given file \"chr4_cluster.p95.s5000.n17.k47.G700-900-1100.at9852.pggbRecommended/cluster_og/cluster10.region.optimized_sorted.og\" does not exist. Please specify an existing input file in ODGI format via -i=[FILE], --idx=[FILE].\n",
      "[odgi::paths] error: the given file \"chr4_cluster.p95.s5000.n17.k47.G700-900-1100.at9852.pggbRecommended/cluster_og/cluster10.region.optimized_sorted.og\" does not exist. Please specify an existing input file in ODGI format via -i=[FILE], --idx=[FILE].\n",
      "[odgi::paths] error: the given file \"chr4_cluster.p95.s5000.n17.k47.G700-900-1100.at9852.pggbRecommended/cluster_og/cluster10.region.optimized_sorted.og\" does not exist. Please specify an existing input file in ODGI format via -i=[FILE], --idx=[FILE].\n",
      "[odgi::paths] error: the given file \"chr4_cluster.p95.s5000.n17.k47.G700-900-1100.at9852.pggbRecommended/cluster_og/cluster10.region.optimized_sorted.og\" does not exist. Please specify an existing input file in ODGI format via -i=[FILE], --idx=[FILE].\n",
      "[odgi::paths] error: the given file \"chr4_cluster.p95.s5000.n17.k47.G700-900-1100.at9852.pggbRecommended/cluster_og/cluster10.region.optimized_sorted.og\" does not exist. Please specify an existing input file in ODGI format via -i=[FILE], --idx=[FILE].\n",
      "[odgi::paths] error: the given file \"chr4_cluster.p95.s5000.n17.k47.G700-900-1100.at9852.pggbRecommended/cluster_og/cluster10.region.optimized_sorted.og\" does not exist. Please specify an existing input file in ODGI format via -i=[FILE], --idx=[FILE].\n",
      "[odgi::paths] error: the given file \"chr4_cluster.p95.s5000.n17.k47.G700-900-1100.at9852.pggbRecommended/cluster_og/cluster10.region.optimized_sorted.og\" does not exist. Please specify an existing input file in ODGI format via -i=[FILE], --idx=[FILE].\n",
      "[odgi::paths] error: the given file \"chr4_cluster.p95.s5000.n17.k47.G700-900-1100.at9852.pggbRecommended/cluster_og/cluster10.region.optimized_sorted.og\" does not exist. Please specify an existing input file in ODGI format via -i=[FILE], --idx=[FILE].\n",
      "[odgi::paths] error: the given file \"chr4_cluster.p95.s5000.n17.k47.G700-900-1100.at9852.pggbRecommended/cluster_og/cluster10.region.optimized_sorted.og\" does not exist. Please specify an existing input file in ODGI format via -i=[FILE], --idx=[FILE].\n",
      "[odgi::paths] error: the given file \"chr4_cluster.p95.s5000.n17.k47.G700-900-1100.at9852.pggbRecommended/cluster_og/cluster10.region.optimized_sorted.og\" does not exist. Please specify an existing input file in ODGI format via -i=[FILE], --idx=[FILE].\n",
      "[odgi::paths] error: the given file \"chr4_cluster.p95.s5000.n17.k47.G700-900-1100.at9852.pggbRecommended/cluster_og/cluster10.region.optimized_sorted.og\" does not exist. Please specify an existing input file in ODGI format via -i=[FILE], --idx=[FILE].\n",
      "[odgi::heaps] error: the given file \"chr4_cluster.p95.s5000.n17.k47.G700-900-1100.at9852.pggbRecommended/cluster_og/cluster10.region.optimized_sorted.og\" does not exist. Please specify an existing input file in ODGI format via -i=[FILE], --idx=[FILE].\n",
      "[odgi::heaps] error: the given file \"chr4_cluster.p95.s5000.n17.k47.G700-900-1100.at9852.pggbRecommended/cluster_og/cluster10.region.optimized_sorted.og\" does not exist. Please specify an existing input file in ODGI format via -i=[FILE], --idx=[FILE].\n",
      "[odgi::heaps] error: the given file \"chr4_cluster.p95.s5000.n17.k47.G700-900-1100.at9852.pggbRecommended/cluster_og/cluster10.region.optimized_sorted.og\" does not exist. Please specify an existing input file in ODGI format via -i=[FILE], --idx=[FILE].\n",
      "[odgi::heaps] error: the given file \"chr4_cluster.p95.s5000.n17.k47.G700-900-1100.at9852.pggbRecommended/cluster_og/cluster10.region.optimized_sorted.og\" does not exist. Please specify an existing input file in ODGI format via -i=[FILE], --idx=[FILE].\n",
      "[odgi::heaps] error: the given file \"chr4_cluster.p95.s5000.n17.k47.G700-900-1100.at9852.pggbRecommended/cluster_og/cluster10.region.optimized_sorted.og\" does not exist. Please specify an existing input file in ODGI format via -i=[FILE], --idx=[FILE].\n",
      "[odgi::heaps] error: the given file \"chr4_cluster.p95.s5000.n17.k47.G700-900-1100.at9852.pggbRecommended/cluster_og/cluster10.region.optimized_sorted.og\" does not exist. Please specify an existing input file in ODGI format via -i=[FILE], --idx=[FILE].\n",
      "[odgi::heaps] error: the given file \"chr4_cluster.p95.s5000.n17.k47.G700-900-1100.at9852.pggbRecommended/cluster_og/cluster10.region.optimized_sorted.og\" does not exist. Please specify an existing input file in ODGI format via -i=[FILE], --idx=[FILE].\n",
      "[odgi::heaps] error: the given file \"chr4_cluster.p95.s5000.n17.k47.G700-900-1100.at9852.pggbRecommended/cluster_og/cluster10.region.optimized_sorted.og\" does not exist. Please specify an existing input file in ODGI format via -i=[FILE], --idx=[FILE].\n",
      "[odgi::heaps] error: the given file \"chr4_cluster.p95.s5000.n17.k47.G700-900-1100.at9852.pggbRecommended/cluster_og/cluster10.region.optimized_sorted.og\" does not exist. Please specify an existing input file in ODGI format via -i=[FILE], --idx=[FILE].\n",
      "[odgi::heaps] error: the given file \"chr4_cluster.p95.s5000.n17.k47.G700-900-1100.at9852.pggbRecommended/cluster_og/cluster10.region.optimized_sorted.og\" does not exist. Please specify an existing input file in ODGI format via -i=[FILE], --idx=[FILE].\n",
      "[odgi::heaps] error: the given file \"chr4_cluster.p95.s5000.n17.k47.G700-900-1100.at9852.pggbRecommended/cluster_og/cluster10.region.optimized_sorted.og\" does not exist. Please specify an existing input file in ODGI format via -i=[FILE], --idx=[FILE].\n",
      "[odgi::heaps] error: the given file \"chr4_cluster.p95.s5000.n17.k47.G700-900-1100.at9852.pggbRecommended/cluster_og/cluster10.region.optimized_sorted.og\" does not exist. Please specify an existing input file in ODGI format via -i=[FILE], --idx=[FILE].\n",
      "[odgi::heaps] error: the given file \"chr4_cluster.p95.s5000.n17.k47.G700-900-1100.at9852.pggbRecommended/cluster_og/cluster10.region.optimized_sorted.og\" does not exist. Please specify an existing input file in ODGI format via -i=[FILE], --idx=[FILE].\n",
      "[odgi::heaps] error: the given file \"chr4_cluster.p95.s5000.n17.k47.G700-900-1100.at9852.pggbRecommended/cluster_og/cluster10.region.optimized_sorted.og\" does not exist. Please specify an existing input file in ODGI format via -i=[FILE], --idx=[FILE].\n",
      "[odgi::heaps] error: the given file \"chr4_cluster.p95.s5000.n17.k47.G700-900-1100.at9852.pggbRecommended/cluster_og/cluster10.region.optimized_sorted.og\" does not exist. Please specify an existing input file in ODGI format via -i=[FILE], --idx=[FILE].\n",
      "[odgi::heaps] error: the given file \"chr4_cluster.p95.s5000.n17.k47.G700-900-1100.at9852.pggbRecommended/cluster_og/cluster10.region.optimized_sorted.og\" does not exist. Please specify an existing input file in ODGI format via -i=[FILE], --idx=[FILE].\n",
      "[odgi::heaps] error: the given file \"chr4_cluster.p95.s5000.n17.k47.G700-900-1100.at9852.pggbRecommended/cluster_og/cluster10.region.optimized_sorted.og\" does not exist. Please specify an existing input file in ODGI format via -i=[FILE], --idx=[FILE].\n",
      "[odgi::heaps] error: the given file \"chr4_cluster.p95.s5000.n17.k47.G700-900-1100.at9852.pggbRecommended/cluster_og/cluster10.region.optimized_sorted.og\" does not exist. Please specify an existing input file in ODGI format via -i=[FILE], --idx=[FILE].\n",
      "/u/gshirsekar/conda-envs/pggb/bin/panacus-visualize:107: UserWarning: FixedFormatter should only be used together with FixedLocator\n",
      "  axs[0].set_yticklabels(calibrate_yticks_text(yticks))\n",
      "/u/gshirsekar/conda-envs/pggb/bin/panacus-visualize:128: UserWarning: FixedFormatter should only be used together with FixedLocator\n",
      "  axs[1].set_yticklabels(calibrate_yticks_text(yticks))\n",
      "[odgi::viz] Path range to pangenomic range conversion.\n",
      "[odgi::viz] Visualizing the graph in the pangenomic range [3.95797e+07, 3.963e+07]\n",
      "[odgi::viz] Binned mode\n",
      "[odgi::viz] bin width: 50.285\n",
      "[odgi::viz] image width: 1000\n",
      "bash: -t: command not found\n",
      "[odgi::extract] expansion and adding connecting edges\n",
      "[odgi::extract] extracting path ranges 100.00% @ 1.60e+00/s elapsed: 00:00:00:00 remain: 00:00:00:00\n",
      "[odgi::extract] merge subpaths closer than 100000 bps - iteration 1 (max 3) 100.00% @ 6.16e+00/s elapsed: 00:00:00:02 remain: 00:00:00:00\n",
      "[odgi::extract] merge subpaths closer than 100000 bps - iteration 2 (max 3) 100.00% @ 4.32e+00/s elapsed: 00:00:00:04 remain: 00:00:00:00\n",
      "[odgi::extract] adding connecting edges 100.00% @ 1.34e+04/s elapsed: 00:00:00:00 remain: 00:00:00:00\n",
      "[odgi::extract] adding subpaths 100.00% @ 7.67e+00/s elapsed: 00:00:00:06 remain: 00:00:00:00\n",
      "[odgi::extract] checking missing edges and empty subpaths 100.00% @ 7.18e+01/s elapsed: 00:00:00:00 remain: 00:00:00:00\n",
      "[odgi::paths] error: the given file \"chr4_cluster.p95.s5000.n17.k47.G700-900-1100.at9852.pggbRecommended/cluster_og/cluster11.region.optimized_sorted.og\" does not exist. Please specify an existing input file in ODGI format via -i=[FILE], --idx=[FILE].\n",
      "[odgi::paths] error: the given file \"chr4_cluster.p95.s5000.n17.k47.G700-900-1100.at9852.pggbRecommended/cluster_og/cluster11.region.optimized_sorted.og\" does not exist. Please specify an existing input file in ODGI format via -i=[FILE], --idx=[FILE].\n",
      "[odgi::paths] error: the given file \"chr4_cluster.p95.s5000.n17.k47.G700-900-1100.at9852.pggbRecommended/cluster_og/cluster11.region.optimized_sorted.og\" does not exist. Please specify an existing input file in ODGI format via -i=[FILE], --idx=[FILE].\n",
      "[odgi::paths] error: the given file \"chr4_cluster.p95.s5000.n17.k47.G700-900-1100.at9852.pggbRecommended/cluster_og/cluster11.region.optimized_sorted.og\" does not exist. Please specify an existing input file in ODGI format via -i=[FILE], --idx=[FILE].\n",
      "[odgi::paths] error: the given file \"chr4_cluster.p95.s5000.n17.k47.G700-900-1100.at9852.pggbRecommended/cluster_og/cluster11.region.optimized_sorted.og\" does not exist. Please specify an existing input file in ODGI format via -i=[FILE], --idx=[FILE].\n",
      "[odgi::paths] error: the given file \"chr4_cluster.p95.s5000.n17.k47.G700-900-1100.at9852.pggbRecommended/cluster_og/cluster11.region.optimized_sorted.og\" does not exist. Please specify an existing input file in ODGI format via -i=[FILE], --idx=[FILE].\n",
      "[odgi::paths] error: the given file \"chr4_cluster.p95.s5000.n17.k47.G700-900-1100.at9852.pggbRecommended/cluster_og/cluster11.region.optimized_sorted.og\" does not exist. Please specify an existing input file in ODGI format via -i=[FILE], --idx=[FILE].\n",
      "[odgi::paths] error: the given file \"chr4_cluster.p95.s5000.n17.k47.G700-900-1100.at9852.pggbRecommended/cluster_og/cluster11.region.optimized_sorted.og\" does not exist. Please specify an existing input file in ODGI format via -i=[FILE], --idx=[FILE].\n",
      "[odgi::paths] error: the given file \"chr4_cluster.p95.s5000.n17.k47.G700-900-1100.at9852.pggbRecommended/cluster_og/cluster11.region.optimized_sorted.og\" does not exist. Please specify an existing input file in ODGI format via -i=[FILE], --idx=[FILE].\n",
      "[odgi::paths] error: the given file \"chr4_cluster.p95.s5000.n17.k47.G700-900-1100.at9852.pggbRecommended/cluster_og/cluster11.region.optimized_sorted.og\" does not exist. Please specify an existing input file in ODGI format via -i=[FILE], --idx=[FILE].\n",
      "[odgi::paths] error: the given file \"chr4_cluster.p95.s5000.n17.k47.G700-900-1100.at9852.pggbRecommended/cluster_og/cluster11.region.optimized_sorted.og\" does not exist. Please specify an existing input file in ODGI format via -i=[FILE], --idx=[FILE].\n",
      "[odgi::paths] error: the given file \"chr4_cluster.p95.s5000.n17.k47.G700-900-1100.at9852.pggbRecommended/cluster_og/cluster11.region.optimized_sorted.og\" does not exist. Please specify an existing input file in ODGI format via -i=[FILE], --idx=[FILE].\n",
      "[odgi::paths] error: the given file \"chr4_cluster.p95.s5000.n17.k47.G700-900-1100.at9852.pggbRecommended/cluster_og/cluster11.region.optimized_sorted.og\" does not exist. Please specify an existing input file in ODGI format via -i=[FILE], --idx=[FILE].\n",
      "[odgi::paths] error: the given file \"chr4_cluster.p95.s5000.n17.k47.G700-900-1100.at9852.pggbRecommended/cluster_og/cluster11.region.optimized_sorted.og\" does not exist. Please specify an existing input file in ODGI format via -i=[FILE], --idx=[FILE].\n",
      "[odgi::paths] error: the given file \"chr4_cluster.p95.s5000.n17.k47.G700-900-1100.at9852.pggbRecommended/cluster_og/cluster11.region.optimized_sorted.og\" does not exist. Please specify an existing input file in ODGI format via -i=[FILE], --idx=[FILE].\n",
      "[odgi::paths] error: the given file \"chr4_cluster.p95.s5000.n17.k47.G700-900-1100.at9852.pggbRecommended/cluster_og/cluster11.region.optimized_sorted.og\" does not exist. Please specify an existing input file in ODGI format via -i=[FILE], --idx=[FILE].\n",
      "[odgi::paths] error: the given file \"chr4_cluster.p95.s5000.n17.k47.G700-900-1100.at9852.pggbRecommended/cluster_og/cluster11.region.optimized_sorted.og\" does not exist. Please specify an existing input file in ODGI format via -i=[FILE], --idx=[FILE].\n",
      "[odgi::paths] error: the given file \"chr4_cluster.p95.s5000.n17.k47.G700-900-1100.at9852.pggbRecommended/cluster_og/cluster11.region.optimized_sorted.og\" does not exist. Please specify an existing input file in ODGI format via -i=[FILE], --idx=[FILE].\n",
      "[odgi::heaps] error: the given file \"chr4_cluster.p95.s5000.n17.k47.G700-900-1100.at9852.pggbRecommended/cluster_og/cluster11.region.optimized_sorted.og\" does not exist. Please specify an existing input file in ODGI format via -i=[FILE], --idx=[FILE].\n",
      "[odgi::heaps] error: the given file \"chr4_cluster.p95.s5000.n17.k47.G700-900-1100.at9852.pggbRecommended/cluster_og/cluster11.region.optimized_sorted.og\" does not exist. Please specify an existing input file in ODGI format via -i=[FILE], --idx=[FILE].\n",
      "[odgi::heaps] error: the given file \"chr4_cluster.p95.s5000.n17.k47.G700-900-1100.at9852.pggbRecommended/cluster_og/cluster11.region.optimized_sorted.og\" does not exist. Please specify an existing input file in ODGI format via -i=[FILE], --idx=[FILE].\n",
      "[odgi::heaps] error: the given file \"chr4_cluster.p95.s5000.n17.k47.G700-900-1100.at9852.pggbRecommended/cluster_og/cluster11.region.optimized_sorted.og\" does not exist. Please specify an existing input file in ODGI format via -i=[FILE], --idx=[FILE].\n",
      "[odgi::heaps] error: the given file \"chr4_cluster.p95.s5000.n17.k47.G700-900-1100.at9852.pggbRecommended/cluster_og/cluster11.region.optimized_sorted.og\" does not exist. Please specify an existing input file in ODGI format via -i=[FILE], --idx=[FILE].\n",
      "[odgi::heaps] error: the given file \"chr4_cluster.p95.s5000.n17.k47.G700-900-1100.at9852.pggbRecommended/cluster_og/cluster11.region.optimized_sorted.og\" does not exist. Please specify an existing input file in ODGI format via -i=[FILE], --idx=[FILE].\n",
      "[odgi::heaps] error: the given file \"chr4_cluster.p95.s5000.n17.k47.G700-900-1100.at9852.pggbRecommended/cluster_og/cluster11.region.optimized_sorted.og\" does not exist. Please specify an existing input file in ODGI format via -i=[FILE], --idx=[FILE].\n",
      "[odgi::heaps] error: the given file \"chr4_cluster.p95.s5000.n17.k47.G700-900-1100.at9852.pggbRecommended/cluster_og/cluster11.region.optimized_sorted.og\" does not exist. Please specify an existing input file in ODGI format via -i=[FILE], --idx=[FILE].\n",
      "[odgi::heaps] error: the given file \"chr4_cluster.p95.s5000.n17.k47.G700-900-1100.at9852.pggbRecommended/cluster_og/cluster11.region.optimized_sorted.og\" does not exist. Please specify an existing input file in ODGI format via -i=[FILE], --idx=[FILE].\n",
      "[odgi::heaps] error: the given file \"chr4_cluster.p95.s5000.n17.k47.G700-900-1100.at9852.pggbRecommended/cluster_og/cluster11.region.optimized_sorted.og\" does not exist. Please specify an existing input file in ODGI format via -i=[FILE], --idx=[FILE].\n",
      "[odgi::heaps] error: the given file \"chr4_cluster.p95.s5000.n17.k47.G700-900-1100.at9852.pggbRecommended/cluster_og/cluster11.region.optimized_sorted.og\" does not exist. Please specify an existing input file in ODGI format via -i=[FILE], --idx=[FILE].\n",
      "[odgi::heaps] error: the given file \"chr4_cluster.p95.s5000.n17.k47.G700-900-1100.at9852.pggbRecommended/cluster_og/cluster11.region.optimized_sorted.og\" does not exist. Please specify an existing input file in ODGI format via -i=[FILE], --idx=[FILE].\n",
      "[odgi::heaps] error: the given file \"chr4_cluster.p95.s5000.n17.k47.G700-900-1100.at9852.pggbRecommended/cluster_og/cluster11.region.optimized_sorted.og\" does not exist. Please specify an existing input file in ODGI format via -i=[FILE], --idx=[FILE].\n",
      "[odgi::heaps] error: the given file \"chr4_cluster.p95.s5000.n17.k47.G700-900-1100.at9852.pggbRecommended/cluster_og/cluster11.region.optimized_sorted.og\" does not exist. Please specify an existing input file in ODGI format via -i=[FILE], --idx=[FILE].\n",
      "[odgi::heaps] error: the given file \"chr4_cluster.p95.s5000.n17.k47.G700-900-1100.at9852.pggbRecommended/cluster_og/cluster11.region.optimized_sorted.og\" does not exist. Please specify an existing input file in ODGI format via -i=[FILE], --idx=[FILE].\n",
      "[odgi::heaps] error: the given file \"chr4_cluster.p95.s5000.n17.k47.G700-900-1100.at9852.pggbRecommended/cluster_og/cluster11.region.optimized_sorted.og\" does not exist. Please specify an existing input file in ODGI format via -i=[FILE], --idx=[FILE].\n",
      "[odgi::heaps] error: the given file \"chr4_cluster.p95.s5000.n17.k47.G700-900-1100.at9852.pggbRecommended/cluster_og/cluster11.region.optimized_sorted.og\" does not exist. Please specify an existing input file in ODGI format via -i=[FILE], --idx=[FILE].\n",
      "[odgi::heaps] error: the given file \"chr4_cluster.p95.s5000.n17.k47.G700-900-1100.at9852.pggbRecommended/cluster_og/cluster11.region.optimized_sorted.og\" does not exist. Please specify an existing input file in ODGI format via -i=[FILE], --idx=[FILE].\n",
      "/u/gshirsekar/conda-envs/pggb/bin/panacus-visualize:107: UserWarning: FixedFormatter should only be used together with FixedLocator\n",
      "  axs[0].set_yticklabels(calibrate_yticks_text(yticks))\n",
      "/u/gshirsekar/conda-envs/pggb/bin/panacus-visualize:128: UserWarning: FixedFormatter should only be used together with FixedLocator\n",
      "  axs[1].set_yticklabels(calibrate_yticks_text(yticks))\n",
      "(/u/gshirsekar/conda-envs/pggb) \n"
     ]
    },
    {
     "ename": "",
     "evalue": "1",
     "output_type": "error",
     "traceback": []
    }
   ],
   "source": [
    "while read a b; \n",
    "do\n",
    "\n",
    "    r=${a}\n",
    "    outprefix=${b}.region\n",
    "\n",
    "    ########################## view the pangenome graph of the region ######################\n",
    "    odgi viz \\\n",
    "    -i $inputOdgi \\\n",
    "    -o chr5_cluster.p95.s5000.n17.k47.G700-900-1100.at9852.pggbRecommended/cluster_viz/${outprefix}.bm.png \\\n",
    "    -x 1000 \\\n",
    "    -bm \\\n",
    "    -t 20 \\\n",
    "    -P \\\n",
    "    -r ${r}\n",
    "    ########################## Node Strandedness ############################################\n",
    "    odgi viz \\\n",
    "    -i $inputOdgi \\\n",
    "    -o chr5_cluster.p95.s5000.n17.k47.G700-900-1100.at9852.pggbRecommended/cluster_viz/${outprefix}.z.png \\\n",
    "    -x 1000 \\\n",
    "    -z \\\n",
    "    -t 20 \\\n",
    "    -P \\\n",
    "    -r ${r}\n",
    "    \n",
    "    ############################################ extract the region ############################################\n",
    "    odgi extract \\\n",
    "    -i $inputOdgi \\\n",
    "    -r ${r} \\\n",
    "    --threads 24 -P \\\n",
    "    -d 100000 \\\n",
    "    -c 1  \\\n",
    "    -o chr5_cluster.p95.s5000.n17.k47.G700-900-1100.at9852.pggbRecommended/cluster_og/${outprefix}.og \n",
    "    \n",
    "    ########################### get the coordinates in all the accessions ########################################\n",
    "    odgi paths -L \\\n",
    "    -i chr5_cluster.p95.s5000.n17.k47.G700-900-1100.at9852.pggbRecommended/cluster_og/${outprefix}.og  \\\n",
    "    > chr5_cluster.p95.s5000.n17.k47.G700-900-1100.at9852.pggbRecommended/cluster_allPathCoordinates/${outprefix}.allPathsCoordinates.txt\n",
    "    \n",
    "    \n",
    "    ########################### for bandage plot #################################################################\n",
    "    odgi view -i chr5_cluster.p95.s5000.n17.k47.G700-900-1100.at9852.pggbRecommended/cluster_og/${outprefix}.og  \\\n",
    "    -g > chr5_cluster.p95.s5000.n17.k47.G700-900-1100.at9852.pggbRecommended/cluster_gfa/${outprefix}.gfa\n",
    "    \n",
    "    ########################### Individual path-based PAV comparisons ############################################\n",
    "    while read line;\n",
    "    do\n",
    "        r=${line}\n",
    "        echo $r|cut -d ':' -f1,2 >tmp1\n",
    "        echo $r|cut -d ':' -f3|sed \"s/-/\\t/g\" >tmp2\n",
    "        paste tmp1 tmp2 > \\\n",
    "        chr5_cluster.p95.s5000.n17.k47.G700-900-1100.at9852.pggbRecommended/cluster_allPathCoordinates/${outprefix}.${line}.bed && rm tmp1 && rm tmp2\n",
    "        \n",
    "        odgi pav \\\n",
    "        -i $inputOdgi \\\n",
    "        -t 24 \\\n",
    "        -b chr5_cluster.p95.s5000.n17.k47.G700-900-1100.at9852.pggbRecommended/cluster_allPathCoordinates/${outprefix}.${line}.bed > \\\n",
    "        chr5_cluster.p95.s5000.n17.k47.G700-900-1100.at9852.pggbRecommended/cluster_pav/${outprefix}.${line}.pav.txt\n",
    "        \n",
    "    done < chr5_cluster.p95.s5000.n17.k47.G700-900-1100.at9852.pggbRecommended/cluster_allPathCoordinates/${outprefix}.allPathsCoordinates.txt\n",
    "    \n",
    "    ########################### Node Jumps in Neighborhood ######################################################\n",
    "    ## for each node how many jumps it has taken\n",
    "    cat chr5_cluster.p95.s5000.n17.k47.G700-900-1100.at9852.pggbRecommended/cluster_gfa/${outprefix}.gfa \\\n",
    "    |grep \"^L\" \\\n",
    "    |awk '{print $1,$2,$4,$4-$2}'\\\n",
    "    |sed \"s/ /\\t/g\" \\\n",
    "    > chr5_cluster.p95.s5000.n17.k47.G700-900-1100.at9852.pggbRecommended/cluster_jumps/${outprefix}.nodeJumps.txt\n",
    "    \n",
    "    \n",
    "    ########################### Node Degrees ############################################################\n",
    "    odgi \\\n",
    "    degree \\\n",
    "    -i chr5_cluster.p95.s5000.n17.k47.G700-900-1100.at9852.pggbRecommended/cluster_og/${outprefix}.og \\\n",
    "    -t 24 \\\n",
    "    -d \\\n",
    "    -r ${r} > chr5_cluster.p95.s5000.n17.k47.G700-900-1100.at9852.pggbRecommended/cluster_jumps/${outprefix}.nodeDegrees.txt\n",
    "    \n",
    "    \n",
    "    ########################### Node Depth ###############################################################\n",
    "    odgi \\\n",
    "    depth \\\n",
    "    -i chr5_cluster.p95.s5000.n17.k47.G700-900-1100.at9852.pggbRecommended/cluster_og/${outprefix}.og \\\n",
    "    -t 24 \\\n",
    "    -d \\\n",
    "    -r ${r} > chr5_cluster.p95.s5000.n17.k47.G700-900-1100.at9852.pggbRecommended/cluster_jumps/${outprefix}.nodeDepth.txt\n",
    "    \n",
    "    ########################### Distance between different Paths (accessions) for the region #############\n",
    "    odgi \\\n",
    "    similarity \\\n",
    "    -i chr5_cluster.p95.s5000.n17.k47.G700-900-1100.at9852.pggbRecommended/cluster_og/${outprefix}.og \\\n",
    "    -t 24 \\\n",
    "    -d > chr5_cluster.p95.s5000.n17.k47.G700-900-1100.at9852.pggbRecommended/cluster_similarity/${outprefix}.distance.txt\n",
    "    \n",
    "    ###### Pangenome Graph Growth  Heaps' Law #########\n",
    "\n",
    "    odgi sort \\\n",
    "    -i chr5_cluster.p95.s5000.n17.k47.G700-900-1100.at9852.pggbRecommended/cluster_og/${outprefix}.og \\\n",
    "    -p Y \\\n",
    "    -O \\\n",
    "    -t 24 \\\n",
    "    -P \\\n",
    "    -o chr5_cluster.p95.s5000.n17.k47.G700-900-1100.at9852.pggbRecommended/cluster_og/${outprefix}.optimized_sorted.og \n",
    "    \n",
    "    for i in {1..18}\n",
    "    do\n",
    "    seq -w 1 ${i} > chr5_cluster.p95.s5000.n17.k47.G700-900-1100.at9852.pggbRecommended/cluster_heaps/pathGroup${i}.groups.txt\n",
    "    done\n",
    "    \n",
    "    \n",
    "    for i in {1..18}\n",
    "    do\n",
    "    odgi paths -i chr5_cluster.p95.s5000.n17.k47.G700-900-1100.at9852.pggbRecommended/cluster_og/${outprefix}.optimized_sorted.og \\\n",
    "    -L|sort -R|head -n ${i} > pathGroup${i}.txt \n",
    "    done\n",
    "    \n",
    "    for i in {1..18}\n",
    "    do\n",
    "    paste pathGroup${i}.txt pathGroup${i}.groups.txt > tmp\n",
    "    mv tmp pathGroup${i}.txt\n",
    "    done\n",
    "    \n",
    "    for i in {1..18}\n",
    "    do\n",
    "        odgi \\\n",
    "        heaps \\\n",
    "        -i chr5_cluster.p95.s5000.n17.k47.G700-900-1100.at9852.pggbRecommended/cluster_og/${outprefix}.optimized_sorted.og \\\n",
    "        -t 24 \\\n",
    "        -S \\\n",
    "        -d 2 \\\n",
    "        -n 100 \\\n",
    "        -p pathGroup${i}.txt \\\n",
    "        > chr5_cluster.p95.s5000.n17.k47.G700-900-1100.at9852.pggbRecommended/cluster_heaps/${outprefix}.pathGroup${i}.optimized_sorted.heaps.txt\n",
    "    done\n",
    "    \n",
    "    \n",
    "    ########################## Panacus ##############################\n",
    "    parentDir=chr5_cluster.p95.s5000.n17.k47.G700-900-1100.at9852.pggbRecommended\n",
    "    \n",
    "    grep '^P' ${parentDir}/cluster_gfa/${outprefix}.gfa|cut -f2|sed \"s/_.*//g\" > ${parentDir}/cluster_panacus/${outprefix}.groupNames.txt\n",
    "    grep '^P' ${parentDir}/cluster_gfa/${outprefix}.gfa|cut -f2> ${parentDir}/cluster_panacus/${outprefix}.pathNames.txt\n",
    "    \n",
    "    paste ${parentDir}/cluster_panacus/${outprefix}.pathNames.txt \\\n",
    "    ${parentDir}/cluster_panacus/${outprefix}.groupNames.txt \\\n",
    "    > ${parentDir}/cluster_panacus/${outprefix}.groups.txt\n",
    "    \n",
    "    sed -i \"s/_1_chr5/#1#chr5/g\" ${parentDir}/cluster_panacus/${outprefix}.pathNames.txt \n",
    "    sed -i \"s/_1_chr5/#1#chr5/g\" ${parentDir}/cluster_panacus/${outprefix}.groups.txt\n",
    "    \n",
    "    \n",
    "    cat ${parentDir}/cluster_panacus/${outprefix}.pathNames.txt |cut -f1,3 -d \":\" > \\\n",
    "    ${parentDir}/cluster_panacus/${outprefix}.newPathNames.txt\n",
    "    \n",
    "    paste ${parentDir}/cluster_panacus/${outprefix}.pathNames.txt \\\n",
    "    ${parentDir}/cluster_panacus/${outprefix}.newPathNames.txt > ${parentDir}/cluster_panacus/tmp\n",
    "    \n",
    "    while read a b ; do sed -i \"s/${a}/${b}/\" ${parentDir}/cluster_panacus/${outprefix}.pathNames.txt ; done < ${parentDir}/cluster_panacus/tmp\n",
    "    while read a b ; do sed -i \"s/${a}/${b}/\" ${parentDir}/cluster_panacus/${outprefix}.groups.txt ; done < ${parentDir}/cluster_panacus/tmp\n",
    "    cp ${parentDir}/cluster_gfa/${outprefix}.gfa ${parentDir}/cluster_panacus/${outprefix}.ed.gfa\n",
    "    sed -i \"s/_1_chr5/#1#chr5/g\" ${parentDir}/cluster_panacus/${outprefix}.ed.gfa\n",
    "    \n",
    "    while read a b ; do sed -i \"s/${a}/${b}/g\" ${parentDir}/cluster_panacus/${outprefix}.ed.gfa ; done < ${parentDir}/cluster_panacus/tmp \n",
    "    \n",
    "    panacus histgrowth -t4 -q 0,1,0.5,0.1 -g ${parentDir}/cluster_panacus/${outprefix}.groups.txt \\\n",
    "    -s ${parentDir}/cluster_panacus/${outprefix}.pathNames.txt \\\n",
    "    ${parentDir}/cluster_panacus/${outprefix}.ed.gfa > ${parentDir}/cluster_panacus/${outprefix}.histgrowth.txt\n",
    "    \n",
    "    panacus-visualize -e ${parentDir}/cluster_panacus/${outprefix}.histgrowth.txt > ${parentDir}/cluster_panacus/${outprefix}.histgrowth.node.pdf\n",
    "\n",
    "done < chr5_cluster.neighborhoods.txt\n",
    "\n",
    "\n"
   ]
  },
  {
   "cell_type": "raw",
   "id": "49dc456f-5551-41a1-80dd-ec6b7730e39d",
   "metadata": {},
   "source": [
    "odgi kmers \\\n",
    "-i chr5_cluster.p95.s5000.n17.k47.G700-900-1100.at9852.pggbRecommended/cluster_og/${outprefix}.og \\\n",
    "-t 24 \\\n",
    "-k 7 \\\n",
    "-t 24 -c > chr5_cluster.p95.s5000.n17.k47.G700-900-1100.at9852.pggbRecommended/cluster_similarity/test.txt"
   ]
  },
  {
   "cell_type": "code",
   "execution_count": 81,
   "id": "8b649ab8-2b69-4f73-a522-7bf5fe1afa08",
   "metadata": {},
   "outputs": [
    {
     "name": "stdout",
     "output_type": "stream",
     "text": [
      "at9852_1_chr4:0-24203097:15114970-15264769 RPP4\n",
      "at9852_1_chr4:0-24203097:11476201-11576200 cluster1\n",
      "at9852_1_chr4:0-24203097:12318801-12419300 cluster2\n",
      "at9852_1_chr4:0-24203097:12787951-12838750 cluster3\n",
      "at9852_1_chr4:0-24203097:13902081-13922400 cluster4\n",
      "at9852_1_chr4:0-24203097:14001856-14014880 cluster5\n",
      "at9852_1_chr4:0-24203097:16095461-16116140 cluster6\n",
      "at9852_1_chr4:0-24203097:17230521-17251120 cluster7\n",
      "at9852_1_chr4:0-24203097:18826871-18839090 cluster8\n",
      "at9852_1_chr4:0-24203097:19165561-19244000 cluster9\n",
      "at9852_1_chr4:0-24203097:21647641-21659750 cluster10\n",
      "at9852_1_chr4:0-24203097:22696841-22721060 cluster11\n",
      "(/u/gshirsekar/conda-envs/pggb) \n"
     ]
    },
    {
     "ename": "",
     "evalue": "1",
     "output_type": "error",
     "traceback": []
    }
   ],
   "source": [
    "while read a b \n",
    "do\n",
    "echo $a $b\n",
    "done < chr5_cluster.neighborhoods.txt"
   ]
  },
  {
   "cell_type": "code",
   "execution_count": 83,
   "id": "b2aed3ca-1bd1-4e65-8f0f-a8f6c282bd83",
   "metadata": {
    "collapsed": true,
    "jupyter": {
     "outputs_hidden": true
    },
    "scrolled": true
   },
   "outputs": [
    {
     "name": "stdout",
     "output_type": "stream",
     "text": [
      "path_sgd_zipf_space_max: 100\n",
      "path_sgd_zipf_max_number_of_distributions: 101\n",
      "[odgi::path_linear_sgd] calculating linear SGD schedule (9.53422e-10 1 100 0 0.01)\n",
      "[odgi::path_linear_sgd] calculating zetas for 102 zipf distributions\n",
      "[odgi::path_linear_sgd] 1D path-guided SGD: 100.00% @ 4.90e+07/s elapsed: 00:00:00:00 remain: 00:00:00:00\n",
      "path_sgd_zipf_space_max: 100\n",
      "path_sgd_zipf_max_number_of_distributions: 101\n",
      "[odgi::path_linear_sgd] calculating linear SGD schedule (4.73011e-09 1 100 0 0.01)\n",
      "[odgi::path_linear_sgd] calculating zetas for 102 zipf distributions\n",
      "[odgi::path_linear_sgd] 1D path-guided SGD: 100.00% @ 6.79e+07/s elapsed: 00:00:00:00 remain: 00:00:00:00\n",
      "path_sgd_zipf_space_max: 100\n",
      "path_sgd_zipf_max_number_of_distributions: 101\n",
      "[odgi::path_linear_sgd] calculating linear SGD schedule (2.60062e-08 1 100 0 0.01)\n",
      "[odgi::path_linear_sgd] calculating zetas for 102 zipf distributions\n",
      "[odgi::path_linear_sgd] 1D path-guided SGD: 100.00% @ 4.03e+07/s elapsed: 00:00:00:00 remain: 00:00:00:00\n",
      "path_sgd_zipf_space_max: 100\n",
      "path_sgd_zipf_max_number_of_distributions: 101\n",
      "[odgi::path_linear_sgd] calculating linear SGD schedule (4.34933e-08 1 100 0 0.01)\n",
      "[odgi::path_linear_sgd] calculating zetas for 102 zipf distributions\n",
      "[odgi::path_linear_sgd] 1D path-guided SGD: 100.00% @ 3.10e+07/s elapsed: 00:00:00:00 remain: 00:00:00:00\n",
      "path_sgd_zipf_space_max: 100\n",
      "path_sgd_zipf_max_number_of_distributions: 101\n",
      "[odgi::path_linear_sgd] calculating linear SGD schedule (1.30706e-07 1 100 0 0.01)\n",
      "[odgi::path_linear_sgd] calculating zetas for 102 zipf distributions\n",
      "[odgi::path_linear_sgd] 1D path-guided SGD: 100.00% @ 1.85e+07/s elapsed: 00:00:00:00 remain: 00:00:00:00\n",
      "path_sgd_zipf_space_max: 100\n",
      "path_sgd_zipf_max_number_of_distributions: 101\n",
      "[odgi::path_linear_sgd] calculating linear SGD schedule (4.28305e-07 1 100 0 0.01)\n",
      "[odgi::path_linear_sgd] calculating zetas for 102 zipf distributions\n",
      "[odgi::path_linear_sgd] 1D path-guided SGD: 100.00% @ 1.06e+07/s elapsed: 00:00:00:00 remain: 00:00:00:00\n",
      "path_sgd_zipf_space_max: 100\n",
      "path_sgd_zipf_max_number_of_distributions: 101\n",
      "[odgi::path_linear_sgd] calculating linear SGD schedule (9.0779e-08 1 100 0 0.01)\n",
      "[odgi::path_linear_sgd] calculating zetas for 102 zipf distributions\n",
      "[odgi::path_linear_sgd] 1D path-guided SGD: 100.00% @ 1.94e+07/s elapsed: 00:00:00:00 remain: 00:00:00:00\n",
      "path_sgd_zipf_space_max: 100\n",
      "path_sgd_zipf_max_number_of_distributions: 101\n",
      "[odgi::path_linear_sgd] calculating linear SGD schedule (2.38886e-06 1 100 0 0.01)\n",
      "[odgi::path_linear_sgd] calculating zetas for 102 zipf distributions\n",
      "[odgi::path_linear_sgd] 1D path-guided SGD: 100.00% @ 4.32e+06/s elapsed: 00:00:00:00 remain: 00:00:00:00\n",
      "path_sgd_zipf_space_max: 100\n",
      "path_sgd_zipf_max_number_of_distributions: 101\n",
      "[odgi::path_linear_sgd] calculating linear SGD schedule (3.50685e-06 1 100 0 0.01)\n",
      "[odgi::path_linear_sgd] calculating zetas for 102 zipf distributions\n",
      "[odgi::path_linear_sgd] 1D path-guided SGD: 100.00% @ 3.76e+06/s elapsed: 00:00:00:00 remain: 00:00:00:00\n",
      "path_sgd_zipf_space_max: 100\n",
      "path_sgd_zipf_max_number_of_distributions: 101\n",
      "[odgi::path_linear_sgd] calculating linear SGD schedule (7.06582e-08 1 100 0 0.01)\n",
      "[odgi::path_linear_sgd] calculating zetas for 102 zipf distributions\n",
      "[odgi::path_linear_sgd] 1D path-guided SGD: 100.00% @ 1.83e+07/s elapsed: 00:00:00:00 remain: 00:00:00:00\n",
      "path_sgd_zipf_space_max: 100\n",
      "path_sgd_zipf_max_number_of_distributions: 101\n",
      "[odgi::path_linear_sgd] calculating linear SGD schedule (1.30612e-06 1 100 0 0.01)\n",
      "[odgi::path_linear_sgd] calculating zetas for 102 zipf distributions\n",
      "[odgi::path_linear_sgd] 1D path-guided SGD: 100.00% @ 5.92e+06/s elapsed: 00:00:00:00 remain: 00:00:00:00\n",
      "path_sgd_zipf_space_max: 100\n",
      "path_sgd_zipf_max_number_of_distributions: 101\n",
      "[odgi::path_linear_sgd] calculating linear SGD schedule (2.0037e-07 1 100 0 0.01)\n",
      "[odgi::path_linear_sgd] calculating zetas for 102 zipf distributions\n",
      "[odgi::path_linear_sgd] 1D path-guided SGD: 100.00% @ 1.42e+07/s elapsed: 00:00:00:00 remain: 00:00:00:00\n",
      "(/u/gshirsekar/conda-envs/pggb) \n"
     ]
    },
    {
     "ename": "",
     "evalue": "1",
     "output_type": "error",
     "traceback": []
    }
   ],
   "source": [
    "while read a b \n",
    "do \n",
    "    r=${a}\n",
    "    outprefix=${b}.region\n",
    "    \n",
    "    ###### Pangenome Graph Growth  #########\n",
    "    \n",
    "    odgi sort \\\n",
    "    -i chr5_cluster.p95.s5000.n17.k47.G700-900-1100.at9852.pggbRecommended/cluster_og/${outprefix}.og \\\n",
    "    -p Y \\\n",
    "    -O \\\n",
    "    -t 24 \\\n",
    "    -P \\\n",
    "    -o chr5_cluster.p95.s5000.n17.k47.G700-900-1100.at9852.pggbRecommended/cluster_og/${outprefix}.optimized_sorted.og \n",
    "    \n",
    "    for i in {1..18}\n",
    "    do\n",
    "        seq -w 1 ${i} > chr5_cluster.p95.s5000.n17.k47.G700-900-1100.at9852.pggbRecommended/cluster_heaps/pathGroup${i}.groups.txt\n",
    "    done\n",
    "    \n",
    "    \n",
    "    for i in {1..18}\n",
    "    do\n",
    "    odgi paths -i chr5_cluster.p95.s5000.n17.k47.G700-900-1100.at9852.pggbRecommended/cluster_og/${outprefix}.optimized_sorted.og \\\n",
    "    -L|sort -R|head -n ${i} > pathGroup${i}.txt \n",
    "    done\n",
    "    \n",
    "    for i in {1..18}\n",
    "    do\n",
    "    paste pathGroup${i}.txt pathGroup${i}.groups.txt > tmp\n",
    "    mv tmp pathGroup${i}.txt\n",
    "    done\n",
    "    \n",
    "    for i in {1..18}\n",
    "    do\n",
    "    \n",
    "        odgi \\\n",
    "        heaps \\\n",
    "        -i chr5_cluster.p95.s5000.n17.k47.G700-900-1100.at9852.pggbRecommended/cluster_og/${outprefix}.optimized_sorted.og \\\n",
    "        -t 24 \\\n",
    "        -S \\\n",
    "        -d 2 \\\n",
    "        -n 100 \\\n",
    "        -p pathGroup${i}.txt \\\n",
    "        > chr5_cluster.p95.s5000.n17.k47.G700-900-1100.at9852.pggbRecommended/cluster_heaps/${outprefix}.pathGroup${i}.optimized_sorted.heaps.txt\n",
    "    done\n",
    "\n",
    "done < chr5_cluster.neighborhoods.txt"
   ]
  },
  {
   "cell_type": "code",
   "execution_count": 88,
   "id": "6a29ada9-59f0-468a-8019-fb95fe5d7803",
   "metadata": {},
   "outputs": [
    {
     "name": "stdout",
     "output_type": "stream",
     "text": [
      "(/u/gshirsekar/conda-envs/pggb) \n",
      "(/u/gshirsekar/conda-envs/pggb) \n",
      "(/u/gshirsekar/conda-envs/pggb) \n",
      "(/u/gshirsekar/conda-envs/pggb) \n",
      "(/u/gshirsekar/conda-envs/pggb) \n"
     ]
    },
    {
     "ename": "",
     "evalue": "1",
     "output_type": "error",
     "traceback": []
    }
   ],
   "source": [
    "#### PAV statistics for clusters ######\n",
    "parentDir=chr5_cluster.p95.s5000.n17.k47.G700-900-1100.at9852.pggbRecommended\n",
    "\n",
    "while read a b \n",
    "do\n",
    "    cat ${parentDir}/cluster_pav/${b}.region.*pav.txt|cut -f1,5,6|sed '/pav/d'|sed \"s/$/\\t${b}/g\" > ${parentDir}/cluster_pav/${b}.region.tmp\n",
    "done < chr5_cluster.neighborhoods.txt\n",
    "\n",
    "cat ${parentDir}/cluster_pav/*.region.tmp > ${parentDir}/cluster_pav/all.clusters.pavs.txt\n",
    "awk '($1!=$2)' ${parentDir}/cluster_pav/all.clusters.pavs.txt > tmp && mv tmp  ${parentDir}/cluster_pav/all.clusters.pavs.txt"
   ]
  },
  {
   "cell_type": "code",
   "execution_count": 85,
   "id": "6c04b4f9-2551-4462-a044-e1f1854d4091",
   "metadata": {},
   "outputs": [
    {
     "name": "stdout",
     "output_type": "stream",
     "text": [
      "(/u/gshirsekar/conda-envs/pggb) \n"
     ]
    },
    {
     "ename": "",
     "evalue": "1",
     "output_type": "error",
     "traceback": []
    }
   ],
   "source": [
    "rm all.clusters.pavs.txt"
   ]
  },
  {
   "cell_type": "code",
   "execution_count": 91,
   "id": "b7564c99-aa5c-4d3f-b5ee-88fb83b928b6",
   "metadata": {},
   "outputs": [
    {
     "name": "stdout",
     "output_type": "stream",
     "text": [
      "(/u/gshirsekar/conda-envs/pggb) \n",
      "(/u/gshirsekar/conda-envs/pggb) \n",
      "(/u/gshirsekar/conda-envs/pggb) \n",
      "(/u/gshirsekar/conda-envs/pggb) \n",
      "(/u/gshirsekar/conda-envs/pggb) \n"
     ]
    },
    {
     "ename": "",
     "evalue": "1",
     "output_type": "error",
     "traceback": []
    }
   ],
   "source": [
    "parentDir=chr5_cluster.p95.s5000.n17.k47.G700-900-1100.at9852.pggbRecommended\n",
    "while read a b \n",
    "do\n",
    "cat ${parentDir}/cluster_similarity/${b}.region.distance.txt|cut -f1,2,3,4,5,6,7|sed '/distance/d'|sed \"s/$/\\t${b}/g\" > ${parentDir}/cluster_similarity/${b}.region.tmp\n",
    "done < chr5_cluster.neighborhoods.txt\n",
    "\n",
    "cat ${parentDir}/cluster_similarity/*.region.tmp > ${parentDir}/cluster_similarity/all.clusters.similarity.txt\n",
    "awk '($1!=$2)' ${parentDir}/cluster_similarity/all.clusters.similarity.txt > tmp && mv tmp  ${parentDir}/cluster_similarity/all.clusters.similarity.txt"
   ]
  },
  {
   "cell_type": "code",
   "execution_count": 56,
   "id": "81930270-ba80-4088-a5c7-57324301f3c7",
   "metadata": {},
   "outputs": [
    {
     "name": "stdout",
     "output_type": "stream",
     "text": [
      "(/u/gshirsekar/conda-envs/pggb) \n",
      "(/u/gshirsekar/conda-envs/pggb) \n",
      "(/u/gshirsekar/conda-envs/pggb) \n",
      "(/u/gshirsekar/conda-envs/pggb) \n",
      "(/u/gshirsekar/conda-envs/pggb) \n",
      "(/u/gshirsekar/conda-envs/pggb) \n",
      "(/u/gshirsekar/conda-envs/pggb) \n",
      "(/u/gshirsekar/conda-envs/pggb) \n",
      "[odgi::viz] Path range to pangenomic range conversion.\n",
      "[odgi::viz] Visualizing the graph in the pangenomic range [5.12026e+07, 5.12179e+07]\n",
      "[odgi::viz] Binned mode\n",
      "[odgi::viz] bin width: 15.344\n",
      "[odgi::viz] image width: 1000\n",
      "(/u/gshirsekar/conda-envs/pggb) \n",
      "(/u/gshirsekar/conda-envs/pggb) \n",
      "(/u/gshirsekar/conda-envs/pggb) \n",
      "(/u/gshirsekar/conda-envs/pggb) \n",
      "(/u/gshirsekar/conda-envs/pggb) \n",
      "(/u/gshirsekar/conda-envs/pggb) \n",
      "(/u/gshirsekar/conda-envs/pggb) \n",
      "(/u/gshirsekar/conda-envs/pggb) \n",
      "(/u/gshirsekar/conda-envs/pggb) \n",
      "(/u/gshirsekar/conda-envs/pggb) \n",
      "(/u/gshirsekar/conda-envs/pggb) \n",
      "[odgi::extract] expansion and adding connecting edges\n",
      "[odgi::extract] extracting path ranges 100.00% @ 1.24e+00/s elapsed: 00:00:00:00 remain: 00:00:00:00\n",
      "[odgi::extract] merge subpaths closer than 500000 bps - iteration 1 (max 3) 100.00% @ 5.74e+00/s elapsed: 00:00:00:03 remain: 00:00:00:00\n",
      "[odgi::extract] merge subpaths closer than 500000 bps - iteration 2 (max 3) 100.00% @ 5.32e+00/s elapsed: 00:00:00:03 remain: 00:00:00:00\n",
      "[odgi::extract] adding connecting edges 100.00% @ 6.47e+03/s elapsed: 00:00:00:00 remain: 00:00:00:00\n",
      "[odgi::extract] adding subpaths 100.00% @ 6.75e+00/s elapsed: 00:00:00:07 remain: 00:00:00:00\n",
      "[odgi::extract] checking missing edges and empty subpaths 100.00% @ 7.18e+01/s elapsed: 00:00:00:00 remain: 00:00:00:00\n",
      "(/u/gshirsekar/conda-envs/pggb) \n",
      "(/u/gshirsekar/conda-envs/pggb) \n",
      "at9852_1_chr5:31029962-31044201\t14239\n",
      "at6137_1_chr5:30651446-30665784\t14338\n",
      "at6923_1_chr5:30125304-30139545\t14241\n",
      "at6929_1_chr5:30760021-30774321\t14300\n",
      "at7143_1_chr5:30604506-30618806\t14300\n",
      "at8285_1_chr5:30238141-30252476\t14335\n",
      "at9104_1_chr5:30589000-30603263\t14263\n",
      "at9336_1_chr5:30852194-30866526\t14332\n",
      "at9503_1_chr5:30360980-30375221\t14241\n",
      "at9578_1_chr5:29885390-29899689\t14299\n",
      "at9744_1_chr5:31071295-31085585\t14290\n",
      "at9762_1_chr5:31220942-31235209\t14267\n",
      "at9806_1_chr5:28692992-28707246\t14254\n",
      "at9830_1_chr5:29271840-29286073\t14233\n",
      "at9847_1_chr5:29679137-29693378\t14241\n",
      "at9879_1_chr5:31125903-31140185\t14282\n",
      "at9883_1_chr5:29222361-29236656\t14295\n",
      "at9900_1_chr5:29738226-29752490\t14264\n",
      "(/u/gshirsekar/conda-envs/pggb) \n",
      "(/u/gshirsekar/conda-envs/pggb) \n",
      "(/u/gshirsekar/conda-envs/pggb) \n",
      "(/u/gshirsekar/conda-envs/pggb) \n",
      "(/u/gshirsekar/conda-envs/pggb) \n",
      "(/u/gshirsekar/conda-envs/pggb) \n",
      "(/u/gshirsekar/conda-envs/pggb) \n",
      "(/u/gshirsekar/conda-envs/pggb) \n",
      "(/u/gshirsekar/conda-envs/pggb) \n",
      "(/u/gshirsekar/conda-envs/pggb) \n",
      "(/u/gshirsekar/conda-envs/pggb) \n",
      "(/u/gshirsekar/conda-envs/pggb) \n",
      "(/u/gshirsekar/conda-envs/pggb) \n",
      "(/u/gshirsekar/conda-envs/pggb) \n",
      "(/u/gshirsekar/conda-envs/pggb) \n",
      "(/u/gshirsekar/conda-envs/pggb) \n",
      "(/u/gshirsekar/conda-envs/pggb) \n",
      "(/u/gshirsekar/conda-envs/pggb) \n",
      "(/u/gshirsekar/conda-envs/pggb) \n",
      "(/u/gshirsekar/conda-envs/pggb) \n",
      "(/u/gshirsekar/conda-envs/pggb) \n",
      "(/u/gshirsekar/conda-envs/pggb) \n",
      "[odgi::viz] Binned mode\n",
      "[odgi::viz] bin width: 100\n",
      "[odgi::viz] image width: 153\n",
      "(/u/gshirsekar/conda-envs/pggb) \n"
     ]
    },
    {
     "ename": "",
     "evalue": "1",
     "output_type": "error",
     "traceback": []
    }
   ],
   "source": [
    "a=at9852_1_chr5:0-31304789:31029962-31044201 \n",
    "b=nh32\n",
    "r=${a}\n",
    "outprefix=${b}.region\n",
    "\n",
    "echo -e \"at9852_1_chr5\\t31034504\\t31038572\\tNLR\\nat9852_1_chr5\\t23515695\\t23518800\\tNLR2\\nat9852_1_chr5\\t23519441\\t23521843\\tADR1-L3\\nat9852_1_chr5\\t19097486\\t19100449\\tNLR4\\nat9852_1_chr5\\t11396138\\t11404504\\tENSPM5\" \\\n",
    "> chr5_cluster.p95.s5000.n17.k47.G700-900-1100.at9852.pggbRecommended/cluster_genebed/${outprefix}.bed\n",
    "\n",
    "    ########################## view the pangenome graph of the region ######################\n",
    "    odgi viz \\\n",
    "    -i $inputOdgi \\\n",
    "    -o chr5_cluster.p95.s5000.n17.k47.G700-900-1100.at9852.pggbRecommended/cluster_viz/${outprefix}.bm.png \\\n",
    "    -x 1000 \\\n",
    "    -bm \\\n",
    "    -t 20 \\\n",
    "    -P \\\n",
    "    -r ${r}\n",
    "    ########################## Node Strandedness ############################################\n",
    "    #odgi viz \\\n",
    "    #-i $inputOdgi \\\n",
    "    #-o chr5_cluster.p95.s5000.n17.k47.G700-900-1100.at9852.pggbRecommended/cluster_viz/${outprefix}.z.png \\\n",
    "    #-x 1000 \\\n",
    "    #-z \\\n",
    "    #-t 40 \\\n",
    "    #-P \\\n",
    "    #-r ${r}\n",
    "\n",
    "odgi extract \\\n",
    "    -i $inputOdgi \\\n",
    "    -r ${r} \\\n",
    "    --threads 24 -P \\\n",
    "    -d 500000 \\\n",
    "    -c 1  \\\n",
    "    -o chr5_cluster.p95.s5000.n17.k47.G700-900-1100.at9852.pggbRecommended/cluster_og/${outprefix}.og\n",
    "\n",
    "\n",
    "\n",
    "odgi paths -L \\\n",
    "    -i chr5_cluster.p95.s5000.n17.k47.G700-900-1100.at9852.pggbRecommended/cluster_og/${outprefix}.og|cut -d ':' -f1,2,3| \\\n",
    "sed \"s/:/\\t/g\" |sed \"s/-/\\t/g\"|awk 'OFS=\"\\t\"{print $1,\":\",$4,\"-\",$5,$5-$4}'|sed \"s/\\t:\\t/:/g\"|sed \"s/\\t-\\t/-/g\"\n",
    "\n",
    "\n",
    "#### injecting gene annotation #####\n",
    "\n",
    "\n",
    "\n",
    "odgi view -i chr5_cluster.p95.s5000.n17.k47.G700-900-1100.at9852.pggbRecommended/cluster_og/${outprefix}.og  \\\n",
    "    -g > chr5_cluster.p95.s5000.n17.k47.G700-900-1100.at9852.pggbRecommended/cluster_gfa/${outprefix}.gfa\n",
    "\n",
    "cat chr5_cluster.p95.s5000.n17.k47.G700-900-1100.at9852.pggbRecommended/cluster_gfa/${outprefix}.gfa |grep \"^P\"|cut -f2|cut -f1,2 -d ':' > oldNames.txt\n",
    "cat chr5_cluster.p95.s5000.n17.k47.G700-900-1100.at9852.pggbRecommended/cluster_gfa/${outprefix}.gfa |grep \"^P\"|cut -f2|cut -f1 -d \":\" > newNames.txt\n",
    "paste oldNames.txt newNames.txt  > oNewNames.txt\n",
    "\n",
    "cp chr5_cluster.p95.s5000.n17.k47.G700-900-1100.at9852.pggbRecommended/cluster_gfa/${outprefix}.gfa \\\n",
    "    chr5_cluster.p95.s5000.n17.k47.G700-900-1100.at9852.pggbRecommended/cluster_gfa/${outprefix}.ed.gfa\n",
    "\n",
    "while read a b \n",
    "do\n",
    "    sed -i \"s/${a}/${b}/g\" chr5_cluster.p95.s5000.n17.k47.G700-900-1100.at9852.pggbRecommended/cluster_gfa/${outprefix}.ed.gfa \n",
    "done < oNewNames.txt\n",
    "\n",
    "\n",
    "odgi procbed \\\n",
    "-i chr5_cluster.p95.s5000.n17.k47.G700-900-1100.at9852.pggbRecommended/cluster_gfa/${outprefix}.ed.gfa \\\n",
    "-b chr5_cluster.p95.s5000.n17.k47.G700-900-1100.at9852.pggbRecommended/cluster_genebed/${outprefix}.bed \\\n",
    "> chr5_cluster.p95.s5000.n17.k47.G700-900-1100.at9852.pggbRecommended/cluster_genebed/${outprefix}.proc.bed\n",
    "\n",
    "odgi inject \\\n",
    "-i chr5_cluster.p95.s5000.n17.k47.G700-900-1100.at9852.pggbRecommended/cluster_gfa/${outprefix}.ed.gfa \\\n",
    "-b chr5_cluster.p95.s5000.n17.k47.G700-900-1100.at9852.pggbRecommended/cluster_genebed/${outprefix}.proc.bed \\\n",
    "-o chr5_cluster.p95.s5000.n17.k47.G700-900-1100.at9852.pggbRecommended/cluster_og/${outprefix}.proc.og\n",
    "\n",
    "odgi viz \\\n",
    "-i chr5_cluster.p95.s5000.n17.k47.G700-900-1100.at9852.pggbRecommended/cluster_og/${outprefix}.proc.og \\\n",
    "-o chr5_cluster.p95.s5000.n17.k47.G700-900-1100.at9852.pggbRecommended/cluster_viz/${outprefix}.proc.png \\\n",
    "-P -c 12 -w 100 -x 5000 -y 50 -m -B Spectral:4"
   ]
  },
  {
   "cell_type": "code",
   "execution_count": 39,
   "id": "9343a672-4843-47d5-a4ba-f50945f9d55f",
   "metadata": {},
   "outputs": [
    {
     "name": "stdout",
     "output_type": "stream",
     "text": [
      "at9852_1_chr5:22425001-22546100\t121099\n",
      "at6137_1_chr5:22106628-22214534\t107906\n",
      "at6923_1_chr5:21495919-21651823\t155904\n",
      "at6929_1_chr5:22252256-22354444\t102188\n",
      "at7143_1_chr5:22039523-22146119\t106596\n",
      "at8285_1_chr5:21691933-21793645\t101712\n",
      "at9104_1_chr5:22036556-22142581\t106025\n",
      "at9336_1_chr5:22292056-22396208\t104152\n",
      "at9503_1_chr5:21791093-21895482\t104389\n",
      "at9578_1_chr5:21251288-21376633\t125345\n",
      "at9744_1_chr5:22513900-22624076\t110176\n",
      "at9762_1_chr5:22622950-22729136\t106186\n",
      "at9806_1_chr5:20166346-20287143\t120797\n",
      "at9830_1_chr5:20711202-20830216\t119014\n",
      "at9847_1_chr5:21103746-21210419\t106673\n",
      "at9879_1_chr5:22520488-22626522\t106034\n",
      "at9883_1_chr5:20677747-20782728\t104981\n",
      "at9900_1_chr5:21217313-21316226\t98913\n",
      "(/u/gshirsekar/conda-envs/pggb) \n"
     ]
    },
    {
     "ename": "",
     "evalue": "1",
     "output_type": "error",
     "traceback": []
    }
   ],
   "source": [
    "odgi paths -L \\\n",
    "    -i chr5_cluster.p95.s5000.n17.k47.G700-900-1100.at9852.pggbRecommended/cluster_og/${outprefix}.og|cut -d ':' -f1,2,3| \\\n",
    "sed \"s/:/\\t/g\" |sed \"s/-/\\t/g\"|awk 'OFS=\"\\t\"{print $1,\":\",$4,\"-\",$5,$5-$4}'|sed \"s/\\t:\\t/:/g\"|sed \"s/\\t-\\t/-/g\""
   ]
  },
  {
   "cell_type": "code",
   "execution_count": 47,
   "id": "9e897ae4-e2e0-45f5-84a8-86a4997fc681",
   "metadata": {},
   "outputs": [
    {
     "name": "stdout",
     "output_type": "stream",
     "text": [
      "(/u/gshirsekar/conda-envs/pggb) \n"
     ]
    },
    {
     "ename": "",
     "evalue": "1",
     "output_type": "error",
     "traceback": []
    }
   ],
   "source": [
    "odgi view -i chr5_cluster.p95.s5000.n17.k47.G700-900-1100.at9852.pggbRecommended/cluster_og/${outprefix}.og  \\\n",
    "    -g > chr5_cluster.p95.s5000.n17.k47.G700-900-1100.at9852.pggbRecommended/cluster_gfa/${outprefix}.gfa"
   ]
  },
  {
   "cell_type": "code",
   "execution_count": 52,
   "id": "dee12cad-2ab1-47c5-9b42-ca2c615e839a",
   "metadata": {},
   "outputs": [
    {
     "name": "stdout",
     "output_type": "stream",
     "text": [
      "at9852_1_chr1:0-33329944\t19714894\t19718968\tNLR\n",
      "at9852_1_chr1:0-33329944\t19712162\t19713796\tVANDAL\n",
      "(/u/gshirsekar/conda-envs/pggb) \n"
     ]
    },
    {
     "ename": "",
     "evalue": "1",
     "output_type": "error",
     "traceback": []
    }
   ],
   "source": [
    "cat chr5_cluster.p95.s5000.n17.k47.G700-900-1100.at9852.pggbRecommended/cluster_gfa/${outprefix}.region.gfa |grep \"^P\"|cut -f2|cut -f1,2 -d ':' > oldNames.txt\n",
    "cat chr5_cluster.p95.s5000.n17.k47.G700-900-1100.at9852.pggbRecommended/cluster_gfa/${outprefix}.region.gfa |grep \"^P\"|cut -f2|cut -f1 -d \":\" > newNames.txt\n",
    "paste oldNames.txt newNames.txt  > oNewNames.txt\n",
    "\n",
    "while read a b \n",
    "do\n",
    "    cp chr5_cluster.p95.s5000.n17.k47.G700-900-1100.at9852.pggbRecommended/cluster_gfa/${outprefix}.region.gfa \\\n",
    "    chr5_cluster.p95.s5000.n17.k47.G700-900-1100.at9852.pggbRecommended/cluster_gfa/${outprefix}.region.ed.gfa\n",
    "    \n",
    "    sed -i \"s/${a}/${b}/g\" chr5_cluster.p95.s5000.n17.k47.G700-900-1100.at9852.pggbRecommended/cluster_gfa/${outprefix}.region.ed.gfa \n",
    "done < oNewNames.txt"
   ]
  },
  {
   "cell_type": "code",
   "execution_count": 56,
   "id": "e593c190-3cbd-476d-adc8-f818a8f0957d",
   "metadata": {},
   "outputs": [
    {
     "name": "stdout",
     "output_type": "stream",
     "text": [
      "(/u/gshirsekar/conda-envs/pggb) \n"
     ]
    },
    {
     "ename": "",
     "evalue": "1",
     "output_type": "error",
     "traceback": []
    }
   ],
   "source": [
    "odgi procbed \\\n",
    "-i chr5_cluster.p95.s5000.n17.k47.G700-900-1100.at9852.pggbRecommended/cluster_gfa/${outprefix}.gfa \\\n",
    "-b test1.bed \\\n",
    "> test1.adj.bed"
   ]
  },
  {
   "cell_type": "code",
   "execution_count": 55,
   "id": "3d74cf06-77ab-4d2b-ba8b-cc08c6f59bdf",
   "metadata": {},
   "outputs": [
    {
     "name": "stdout",
     "output_type": "stream",
     "text": [
      "at9852_1_chr1:19709802-19723621\n",
      "at6137_1_chr1:18522278-18522734\n",
      "at6923_1_chr1:17988272-18002307\n",
      "at6929_1_chr1:18937321-18937777\n",
      "at7143_1_chr1:19934976-19935432\n",
      "at8285_1_chr1:21033986-21034442\n",
      "at9104_1_chr1:18985264-18985720\n",
      "at9336_1_chr1:20317692-20318148\n",
      "at9503_1_chr1:18491569-18492025\n",
      "at9578_1_chr1:19768406-19768862\n",
      "at9744_1_chr1:18993676-19010178\n",
      "at9762_1_chr1:21064932-21065388\n",
      "at9806_1_chr1:21013890-21014346\n",
      "at9830_1_chr1:19314896-19315352\n",
      "at9847_1_chr1:18031599-18032055\n",
      "at9879_1_chr1:20217099-20217556\n",
      "at9883_1_chr1:20132519-20132975\n",
      "at9900_1_chr1:19663633-19679969\n",
      "(/u/gshirsekar/conda-envs/pggb) \n"
     ]
    },
    {
     "ename": "",
     "evalue": "1",
     "output_type": "error",
     "traceback": []
    }
   ],
   "source": [
    "odgi paths -i chr5_cluster.p95.s5000.n17.k47.G700-900-1100.at9852.pggbRecommended/cluster_gfa/${outprefix}.gfa \\\n",
    "-L "
   ]
  },
  {
   "cell_type": "code",
   "execution_count": 57,
   "id": "e71e94f1-bfb5-47f9-b1d0-93a31c4b2aef",
   "metadata": {},
   "outputs": [
    {
     "name": "stdout",
     "output_type": "stream",
     "text": [
      "at9852_1_chr1:19709802-19723621\t2360\t3994\tVANDAL\n",
      "at9852_1_chr1:19709802-19723621\t5092\t9166\tNLR\n",
      "(/u/gshirsekar/conda-envs/pggb) \n"
     ]
    },
    {
     "ename": "",
     "evalue": "1",
     "output_type": "error",
     "traceback": []
    }
   ],
   "source": [
    "cat test1.adj.bed"
   ]
  },
  {
   "cell_type": "code",
   "execution_count": 59,
   "id": "57d25923-7503-4112-b288-a4c298e558f6",
   "metadata": {},
   "outputs": [
    {
     "name": "stdout",
     "output_type": "stream",
     "text": [
      "(/u/gshirsekar/conda-envs/pggb) \n"
     ]
    },
    {
     "ename": "",
     "evalue": "1",
     "output_type": "error",
     "traceback": []
    }
   ],
   "source": [
    "odgi inject -i chr5_cluster.p95.s5000.n17.k47.G700-900-1100.at9852.pggbRecommended/cluster_gfa/${outprefix}.gfa \\\n",
    "-b test1.adj.bed -o - |odgi paths -i - -L|tail -2 > test1.gene.names.txt"
   ]
  },
  {
   "cell_type": "code",
   "execution_count": 60,
   "id": "2a3dceb2-9a90-4d83-b1dd-ec120990f7df",
   "metadata": {},
   "outputs": [
    {
     "name": "stdout",
     "output_type": "stream",
     "text": [
      "VANDAL\n",
      "NLR\n",
      "(/u/gshirsekar/conda-envs/pggb) \n"
     ]
    },
    {
     "ename": "",
     "evalue": "1",
     "output_type": "error",
     "traceback": []
    }
   ],
   "source": [
    "cat test1.gene.names.txt"
   ]
  },
  {
   "cell_type": "code",
   "execution_count": 61,
   "id": "88fd0ad2-8e68-4716-a03c-badbb670294a",
   "metadata": {},
   "outputs": [
    {
     "name": "stdout",
     "output_type": "stream",
     "text": [
      "(/u/gshirsekar/conda-envs/pggb) \n"
     ]
    },
    {
     "ename": "",
     "evalue": "1",
     "output_type": "error",
     "traceback": []
    }
   ],
   "source": [
    "odgi inject \\\n",
    "-i chr5_cluster.p95.s5000.n17.k47.G700-900-1100.at9852.pggbRecommended/cluster_gfa/${outprefix}.gfa \\\n",
    "-b test1.adj.bed \\\n",
    "-o test1.genes.og"
   ]
  },
  {
   "cell_type": "code",
   "execution_count": 75,
   "id": "11bbec22-41a6-4f21-ba03-bdf0de19cfd6",
   "metadata": {},
   "outputs": [
    {
     "name": "stdout",
     "output_type": "stream",
     "text": [
      "[odgi::viz] Binned mode\n",
      "[odgi::viz] bin width: 50\n",
      "[odgi::viz] image width: 349\n",
      "(/u/gshirsekar/conda-envs/pggb) \n"
     ]
    },
    {
     "ename": "",
     "evalue": "1",
     "output_type": "error",
     "traceback": []
    }
   ],
   "source": [
    "odgi viz -i test1.genes.og -o test1.genes.png -P -c 12 -w 50 -x 2000 -y 50 -m -B Spectral:4"
   ]
  },
  {
   "cell_type": "code",
   "execution_count": null,
   "id": "6ccada7d-db91-4aa2-8a7c-32cdbc3fd643",
   "metadata": {},
   "outputs": [],
   "source": [
    "#odgi extract \\\n",
    "    -i $inputOdgi \\\n",
    "    -r ${r} \\\n",
    "    --threads 24 -P \\\n",
    "    -d 100000 \\\n",
    "    -c 1  \\\n",
    "    -o chr5_cluster.p95.s5000.n17.k47.G700-900-1100.at9852.pggbRecommended/cluster_og/${outprefix}.og \n",
    "\n",
    "\n",
    "\n"
   ]
  },
  {
   "cell_type": "code",
   "execution_count": 7,
   "id": "a2a11774-b257-43ff-b426-18485691160e",
   "metadata": {},
   "outputs": [
    {
     "name": "stdout",
     "output_type": "stream",
     "text": [
      "[odgi::extract] extracting path ranges 100.00% @ 1.90e+00/s elapsed: 00:00:00:00 remain: 00:00:00:00\n",
      "[odgi::extract] collecting all nodes in the path range 100.00% @ 2.33e+06/s elapsed: 00:00:00:00 remain: 00:00:00:00\n",
      "[odgi::extract] merge subpaths closer than 100000 bps - iteration 1 (max 3) 100.00% @ 3.20e+00/s elapsed: 00:00:00:05 remain: 00:00:00:00\n",
      "[odgi::extract] adding connecting edges 100.00% @ 4.90e+03/s elapsed: 00:00:00:00 remain: 00:00:00:00\n",
      "[odgi::extract] adding subpaths 100.00% @ 8.54e+00/s elapsed: 00:00:00:05 remain: 00:00:00:00\n",
      "[odgi::extract] checking missing edges and empty subpaths 100.00% @ 7.18e+01/s elapsed: 00:00:00:00 remain: 00:00:00:00\n",
      "(/u/gshirsekar/conda-envs/pggb) \n"
     ]
    },
    {
     "ename": "",
     "evalue": "1",
     "output_type": "error",
     "traceback": []
    }
   ],
   "source": [
    "odgi extract \\\n",
    "-i $inputOdgi \\\n",
    "-o chr3_cluster.p95.s5000.n17.k47.G700-900-1100.at9852.pggbRecommended/cluster_og/testRPP13.og \\\n",
    "-b RPP13.bed \\\n",
    "-d 100000 \\\n",
    "-c 0 -E \\\n",
    "--threads 20 -P"
   ]
  },
  {
   "cell_type": "code",
   "execution_count": 10,
   "id": "5d31bb5e-01dc-4065-b119-ed8752b9ad8e",
   "metadata": {},
   "outputs": [
    {
     "name": "stdout",
     "output_type": "stream",
     "text": [
      "at9852_1_chr3:0-26358531:19983640-19986611\n",
      "at6137_1_chr3:0-26194750:19763636-19766715\n",
      "at6923_1_chr3:0-28738137:22474792-22477868\n",
      "at6929_1_chr3:0-25712594:19478338-19481420\n",
      "at7143_1_chr3:0-26044309:19656888-19659966\n",
      "at8285_1_chr3:0-26796854:20398488-20401442\n",
      "at9104_1_chr3:0-27458818:21139296-21142341\n",
      "at9336_1_chr3:0-27060997:20727426-20730344\n",
      "at9503_1_chr3:0-28010412:21707620-21710696\n",
      "at9578_1_chr3:0-26348032:20074564-20077497\n",
      "at9744_1_chr3:0-27175644:20816646-20819576\n",
      "at9762_1_chr3:0-27262250:20918590-20921495\n",
      "at9806_1_chr3:0-27369393:21021567-21024561\n",
      "at9830_1_chr3:0-27041555:20563059-20565969\n",
      "at9847_1_chr3:0-28044082:21522312-21525249\n",
      "at9879_1_chr3:0-27173682:20819689-20822614\n",
      "at9883_1_chr3:0-26028663:19755853-19758935\n",
      "at9900_1_chr3:0-27314136:21138030-21140938\n",
      "(/u/gshirsekar/conda-envs/pggb) \n"
     ]
    },
    {
     "ename": "",
     "evalue": "1",
     "output_type": "error",
     "traceback": []
    }
   ],
   "source": [
    "odgi paths -L \\\n",
    "-i chr3_cluster.p95.s5000.n17.k47.G700-900-1100.at9852.pggbRecommended/cluster_og/testRPP13.og"
   ]
  },
  {
   "cell_type": "code",
   "execution_count": 12,
   "id": "4bbc9e08-06e0-48ac-b2a4-5176a8405b11",
   "metadata": {},
   "outputs": [
    {
     "name": "stdout",
     "output_type": "stream",
     "text": [
      "path_sgd_zipf_space_max: 100\n",
      "path_sgd_zipf_max_number_of_distributions: 101\n",
      "[odgi::path_linear_sgd] calculating linear SGD schedule (2.12496e-06 1 100 0 0.01)\n",
      "[odgi::path_linear_sgd] calculating zetas for 102 zipf distributions\n",
      "[odgi::path_linear_sgd] 1D path-guided SGD: 100.00% @ 4.34e+06/s elapsed: 00:00:00:00 remain: 00:00:00:00\n",
      "(/u/gshirsekar/conda-envs/pggb) \n"
     ]
    },
    {
     "ename": "",
     "evalue": "1",
     "output_type": "error",
     "traceback": []
    }
   ],
   "source": [
    " odgi sort \\\n",
    "    -i chr3_cluster.p95.s5000.n17.k47.G700-900-1100.at9852.pggbRecommended/cluster_og/testRPP13.og \\\n",
    "    -p Y \\\n",
    "    -O \\\n",
    "    -t 24 \\\n",
    "    -P \\\n",
    "    -o chr3_cluster.p95.s5000.n17.k47.G700-900-1100.at9852.pggbRecommended/cluster_og/testRPP13.optimized_sorted.og "
   ]
  },
  {
   "cell_type": "code",
   "execution_count": 11,
   "id": "2eddb261-d5f4-455c-bc11-a6e6cd1ef528",
   "metadata": {},
   "outputs": [
    {
     "name": "stdout",
     "output_type": "stream",
     "text": [
      "[odgi::viz] error: please specify a valid path name.\n",
      "(/u/gshirsekar/conda-envs/pggb) \n"
     ]
    },
    {
     "ename": "",
     "evalue": "1",
     "output_type": "error",
     "traceback": []
    }
   ],
   "source": [
    "odgi viz \\\n",
    "    -i chr3_cluster.p95.s5000.n17.k47.G700-900-1100.at9852.pggbRecommended/cluster_og/testRPP13.og \\\n",
    "    -o chr3_cluster.p95.s5000.n17.k47.G700-900-1100.at9852.pggbRecommended/cluster_viz/testRPP13.bm.png \\\n",
    "    -x 1000 \\\n",
    "    -bm \\\n",
    "    -t 20 \\\n",
    "    -P \\\n",
    "    -r at9852_1_chr3:0-26358531:19983640-19986611"
   ]
  },
  {
   "cell_type": "code",
   "execution_count": 14,
   "id": "9ec2871f-ad66-4623-bca0-1a507a246638",
   "metadata": {},
   "outputs": [
    {
     "name": "stdout",
     "output_type": "stream",
     "text": [
      "#length\tnodes\tedges\tpaths\tsteps\n",
      "4242\t1242\t1791\t18\t10994\n",
      "(/u/gshirsekar/conda-envs/pggb) \n"
     ]
    },
    {
     "ename": "",
     "evalue": "1",
     "output_type": "error",
     "traceback": []
    }
   ],
   "source": [
    "odgi stats -i chr3_cluster.p95.s5000.n17.k47.G700-900-1100.at9852.pggbRecommended/cluster_og/testRPP13.optimized_sorted.og -S"
   ]
  },
  {
   "cell_type": "code",
   "execution_count": 15,
   "id": "80c86f15-c7a7-42bf-b6c7-79b03027d430",
   "metadata": {},
   "outputs": [
    {
     "name": "stdout",
     "output_type": "stream",
     "text": [
      "at9852_1_chr3:0-26358531:19983640-19986611\n",
      "at6137_1_chr3:0-26194750:19763636-19766715\n",
      "at6923_1_chr3:0-28738137:22474792-22477868\n",
      "at6929_1_chr3:0-25712594:19478338-19481420\n",
      "at7143_1_chr3:0-26044309:19656888-19659966\n",
      "at8285_1_chr3:0-26796854:20398488-20401442\n",
      "at9104_1_chr3:0-27458818:21139296-21142341\n",
      "at9336_1_chr3:0-27060997:20727426-20730344\n",
      "at9503_1_chr3:0-28010412:21707620-21710696\n",
      "at9578_1_chr3:0-26348032:20074564-20077497\n",
      "at9744_1_chr3:0-27175644:20816646-20819576\n",
      "at9762_1_chr3:0-27262250:20918590-20921495\n",
      "at9806_1_chr3:0-27369393:21021567-21024561\n",
      "at9830_1_chr3:0-27041555:20563059-20565969\n",
      "at9847_1_chr3:0-28044082:21522312-21525249\n",
      "at9879_1_chr3:0-27173682:20819689-20822614\n",
      "at9883_1_chr3:0-26028663:19755853-19758935\n",
      "at9900_1_chr3:0-27314136:21138030-21140938\n",
      "(/u/gshirsekar/conda-envs/pggb) \n"
     ]
    },
    {
     "ename": "",
     "evalue": "1",
     "output_type": "error",
     "traceback": []
    }
   ],
   "source": [
    "odgi paths \\\n",
    "-L \\\n",
    "-i chr3_cluster.p95.s5000.n17.k47.G700-900-1100.at9852.pggbRecommended/cluster_og/testRPP13.optimized_sorted.og"
   ]
  },
  {
   "cell_type": "code",
   "execution_count": 24,
   "id": "7eeb21eb-6a87-4beb-a14a-80dd4c07086d",
   "metadata": {},
   "outputs": [
    {
     "name": "stdout",
     "output_type": "stream",
     "text": [
      "[odgi::viz] Binned mode\n",
      "[odgi::viz] bin width: 4.242\n",
      "[odgi::viz] image width: 1000\n",
      "(/u/gshirsekar/conda-envs/pggb) \n"
     ]
    },
    {
     "ename": "",
     "evalue": "1",
     "output_type": "error",
     "traceback": []
    }
   ],
   "source": [
    "odgi viz -i chr3_cluster.p95.s5000.n17.k47.G700-900-1100.at9852.pggbRecommended/cluster_og/testRPP13.optimized_sorted.og \\\n",
    "-bm \\\n",
    "-x 1000 \\\n",
    "-o chr3_cluster.p95.s5000.n17.k47.G700-900-1100.at9852.pggbRecommended/cluster_og/testRPP13.optimized_sorted.bm.png -P"
   ]
  },
  {
   "cell_type": "code",
   "execution_count": 36,
   "id": "69c5fc41-8b37-4938-b99b-7c52a7d80a71",
   "metadata": {},
   "outputs": [
    {
     "name": "stdout",
     "output_type": "stream",
     "text": [
      "(/u/gshirsekar/conda-envs/pggb) \n",
      "(/u/gshirsekar/conda-envs/pggb) \n",
      "(/u/gshirsekar/conda-envs/pggb) \n",
      "(/u/gshirsekar/conda-envs/pggb) \n",
      "(/u/gshirsekar/conda-envs/pggb) \n",
      "(/u/gshirsekar/conda-envs/pggb) \n",
      "(/u/gshirsekar/conda-envs/pggb) \n",
      "(/u/gshirsekar/conda-envs/pggb) \n",
      "[odgi::viz] Path range to pangenomic range conversion.\n",
      "[odgi::viz] Visualizing the graph in the pangenomic range [4.03609e+07, 4.03931e+07]\n",
      "[odgi::viz] Binned mode\n",
      "[odgi::viz] bin width: 32.145\n",
      "[odgi::viz] image width: 1000\n",
      "(/u/gshirsekar/conda-envs/pggb) \n",
      "(/u/gshirsekar/conda-envs/pggb) \n",
      "(/u/gshirsekar/conda-envs/pggb) \n",
      "(/u/gshirsekar/conda-envs/pggb) \n",
      "(/u/gshirsekar/conda-envs/pggb) \n",
      "(/u/gshirsekar/conda-envs/pggb) \n",
      "(/u/gshirsekar/conda-envs/pggb) \n",
      "(/u/gshirsekar/conda-envs/pggb) \n",
      "(/u/gshirsekar/conda-envs/pggb) \n",
      "(/u/gshirsekar/conda-envs/pggb) \n",
      "(/u/gshirsekar/conda-envs/pggb) \n",
      "[odgi::extract] extracting path ranges 100.00% @ 2.02e+00/s elapsed: 00:00:00:00 remain: 00:00:00:00\n",
      "[odgi::extract] collecting all nodes in the path range 100.00% @ 1.38e+04/s elapsed: 00:00:00:00 remain: 00:00:00:00\n",
      "[odgi::extract] merge subpaths closer than 500000 bps - iteration 1 (max 3) 100.00% @ 3.67e+00/s elapsed: 00:00:00:04 remain: 00:00:00:00\n",
      "[odgi::extract] merge subpaths closer than 500000 bps - iteration 2 (max 3) 100.00% @ 4.54e+00/s elapsed: 00:00:00:03 remain: 00:00:00:00\n",
      "[odgi::extract] merge subpaths closer than 500000 bps - iteration 3 (max 3) 100.00% @ 4.68e+00/s elapsed: 00:00:00:03 remain: 00:00:00:00\n",
      "[odgi::extract] adding connecting edges 100.00% @ 1.76e+04/s elapsed: 00:00:00:00 remain: 00:00:00:00\n",
      "[odgi::extract] adding subpaths 100.00% @ 8.10e+00/s elapsed: 00:00:00:06 remain: 00:00:00:00\n",
      "[odgi::extract] checking missing edges and empty subpaths 100.00% @ 5.98e+01/s elapsed: 00:00:00:00 remain: 00:00:00:00\n",
      "(/u/gshirsekar/conda-envs/pggb) \n",
      "(/u/gshirsekar/conda-envs/pggb) \n",
      "(/u/gshirsekar/conda-envs/pggb) \n",
      "(/u/gshirsekar/conda-envs/pggb) \n",
      "(/u/gshirsekar/conda-envs/pggb) \n",
      "at9852_1_chr3:18964405-18970525\t6120\n",
      "at6137_1_chr3:18629888-18638454\t8566\n",
      "at6923_1_chr3:21423899-21435996\t12097\n",
      "at6929_1_chr3:18425326-18438589\t13263\n",
      "at7143_1_chr3:18459109-18486166\t27057\n",
      "at8285_1_chr3:19322805-19333163\t10358\n",
      "at9104_1_chr3:20045365-20057945\t12580\n",
      "at9336_1_chr3:19665058-19675374\t10316\n",
      "at9503_1_chr3:20686257-20708075\t21818\n",
      "at9578_1_chr3:18945179-18971856\t26677\n",
      "at9744_1_chr3:19675582-19683228\t7646\n",
      "at9762_1_chr3:19726989-19734675\t7686\n",
      "at9830_1_chr3:19461334-19487979\t26645\n",
      "at9847_1_chr3:20399560-20409662\t10102\n",
      "at9883_1_chr3:18493977-18502463\t8486\n",
      "(/u/gshirsekar/conda-envs/pggb) \n",
      "(/u/gshirsekar/conda-envs/pggb) \n",
      "(/u/gshirsekar/conda-envs/pggb) \n",
      "(/u/gshirsekar/conda-envs/pggb) \n",
      "(/u/gshirsekar/conda-envs/pggb) \n",
      "(/u/gshirsekar/conda-envs/pggb) \n",
      "(/u/gshirsekar/conda-envs/pggb) \n",
      "(/u/gshirsekar/conda-envs/pggb) \n",
      "(/u/gshirsekar/conda-envs/pggb) \n",
      "(/u/gshirsekar/conda-envs/pggb) \n",
      "(/u/gshirsekar/conda-envs/pggb) \n",
      "(/u/gshirsekar/conda-envs/pggb) \n",
      "(/u/gshirsekar/conda-envs/pggb) \n",
      "(/u/gshirsekar/conda-envs/pggb) \n",
      "(/u/gshirsekar/conda-envs/pggb) \n",
      "(/u/gshirsekar/conda-envs/pggb) \n",
      "(/u/gshirsekar/conda-envs/pggb) \n",
      "(/u/gshirsekar/conda-envs/pggb) \n",
      "(/u/gshirsekar/conda-envs/pggb) \n",
      "(/u/gshirsekar/conda-envs/pggb) \n",
      "(/u/gshirsekar/conda-envs/pggb) \n",
      "(/u/gshirsekar/conda-envs/pggb) \n",
      "[odgi::viz] Binned mode\n",
      "[odgi::viz] bin width: 100\n",
      "[odgi::viz] image width: 444\n",
      "(/u/gshirsekar/conda-envs/pggb) \n"
     ]
    },
    {
     "ename": "",
     "evalue": "1",
     "output_type": "error",
     "traceback": []
    }
   ],
   "source": [
    "a=at9852_1_chr3:0-26358531:18915435-19116857\n",
    "b=RPP1\n",
    "r=${a}\n",
    "outprefix=${b}.region\n",
    "\n",
    "echo -e \"at9852_1_chr3\\t18964405\\t18970525\\tRPP1\" \\\n",
    "> chr3_cluster.p95.s5000.n17.k47.G700-900-1100.at9852.pggbRecommended/cluster_genebed/${outprefix}.bed\n",
    "\n",
    "    ########################## view the pangenome graph of the region ######################\n",
    "    odgi viz \\\n",
    "    -i $inputOdgi \\\n",
    "    -o chr3_cluster.p95.s5000.n17.k47.G700-900-1100.at9852.pggbRecommended/cluster_viz/${outprefix}.bm.png \\\n",
    "    -x 1000 \\\n",
    "    -bm \\\n",
    "    -t 20 \\\n",
    "    -P \\\n",
    "    -r ${r}\n",
    "    ########################## Node Strandedness ############################################\n",
    "    #odgi viz \\\n",
    "    #-i $inputOdgi \\\n",
    "    #-o chr3_cluster.p95.s5000.n17.k47.G700-900-1100.at9852.pggbRecommended/cluster_viz/${outprefix}.z.png \\\n",
    "    #-x 1000 \\\n",
    "    #-z \\\n",
    "    #-t 40 \\\n",
    "    #-P \\\n",
    "    #-r ${r}\n",
    "\n",
    "odgi extract \\\n",
    "    -i $inputOdgi \\\n",
    "    -r ${r} \\\n",
    "    --threads 24 -P \\\n",
    "    -d 500000 \\\n",
    "    -c 1 \\\n",
    "    -o chr3_cluster.p95.s5000.n17.k47.G700-900-1100.at9852.pggbRecommended/cluster_og/${outprefix}.og\n",
    "\n",
    " odgi \\\n",
    "    depth \\\n",
    "    -i chr3_cluster.p95.s5000.n17.k47.G700-900-1100.at9852.pggbRecommended/cluster_og/${outprefix}.og \\\n",
    "    -t 24 \\\n",
    "    -d \\\n",
    "    -r ${r} > chr3_cluster.p95.s5000.n17.k47.G700-900-1100.at9852.pggbRecommended/cluster_depth/${outprefix}.nodeDepth.txt\n",
    "\n",
    "\n",
    "odgi paths -L \\\n",
    "    -i chr3_cluster.p95.s5000.n17.k47.G700-900-1100.at9852.pggbRecommended/cluster_og/${outprefix}.og|cut -d ':' -f1,2,3| \\\n",
    "sed \"s/:/\\t/g\" |sed \"s/-/\\t/g\"|awk 'OFS=\"\\t\"{print $1,\":\",$4,\"-\",$5,$5-$4}'|sed \"s/\\t:\\t/:/g\"|sed \"s/\\t-\\t/-/g\"\n",
    "\n",
    "\n",
    "#### injecting gene annotation #####\n",
    "\n",
    "\n",
    "\n",
    "odgi view -i chr3_cluster.p95.s5000.n17.k47.G700-900-1100.at9852.pggbRecommended/cluster_og/${outprefix}.og  \\\n",
    "    -g > chr3_cluster.p95.s5000.n17.k47.G700-900-1100.at9852.pggbRecommended/cluster_gfa/${outprefix}.gfa\n",
    "\n",
    "cat chr3_cluster.p95.s5000.n17.k47.G700-900-1100.at9852.pggbRecommended/cluster_gfa/${outprefix}.gfa |grep \"^P\"|cut -f2|cut -f1,2 -d ':' > oldNames.txt\n",
    "cat chr3_cluster.p95.s5000.n17.k47.G700-900-1100.at9852.pggbRecommended/cluster_gfa/${outprefix}.gfa |grep \"^P\"|cut -f2|cut -f1 -d \":\" > newNames.txt\n",
    "paste oldNames.txt newNames.txt  > oNewNames.txt\n",
    "\n",
    "cp chr3_cluster.p95.s5000.n17.k47.G700-900-1100.at9852.pggbRecommended/cluster_gfa/${outprefix}.gfa \\\n",
    "    chr3_cluster.p95.s5000.n17.k47.G700-900-1100.at9852.pggbRecommended/cluster_gfa/${outprefix}.ed.gfa\n",
    "\n",
    "while read a b \n",
    "do\n",
    "    sed -i \"s/${a}/${b}/g\" chr3_cluster.p95.s5000.n17.k47.G700-900-1100.at9852.pggbRecommended/cluster_gfa/${outprefix}.ed.gfa \n",
    "done < oNewNames.txt\n",
    "\n",
    "\n",
    "odgi procbed \\\n",
    "-i chr3_cluster.p95.s5000.n17.k47.G700-900-1100.at9852.pggbRecommended/cluster_gfa/${outprefix}.ed.gfa \\\n",
    "-b chr3_cluster.p95.s5000.n17.k47.G700-900-1100.at9852.pggbRecommended/cluster_genebed/${outprefix}.bed \\\n",
    "> chr3_cluster.p95.s5000.n17.k47.G700-900-1100.at9852.pggbRecommended/cluster_genebed/${outprefix}.proc.bed\n",
    "\n",
    "odgi inject \\\n",
    "-i chr3_cluster.p95.s5000.n17.k47.G700-900-1100.at9852.pggbRecommended/cluster_gfa/${outprefix}.ed.gfa \\\n",
    "-b chr3_cluster.p95.s5000.n17.k47.G700-900-1100.at9852.pggbRecommended/cluster_genebed/${outprefix}.proc.bed \\\n",
    "-o chr3_cluster.p95.s5000.n17.k47.G700-900-1100.at9852.pggbRecommended/cluster_og/${outprefix}.proc.og\n",
    "\n",
    "odgi viz \\\n",
    "-i chr3_cluster.p95.s5000.n17.k47.G700-900-1100.at9852.pggbRecommended/cluster_og/${outprefix}.proc.og \\\n",
    "-o chr3_cluster.p95.s5000.n17.k47.G700-900-1100.at9852.pggbRecommended/cluster_viz/${outprefix}.proc.png \\\n",
    "-P -c 12 -w 100 -x 5000 -y 50 -m -B Spectral:4"
   ]
  },
  {
   "cell_type": "code",
   "execution_count": 35,
   "id": "a5886564-89bf-45be-9813-c6cb0ec86297",
   "metadata": {},
   "outputs": [
    {
     "name": "stdout",
     "output_type": "stream",
     "text": [
      "(/u/gshirsekar/conda-envs/pggb) \n"
     ]
    },
    {
     "ename": "",
     "evalue": "1",
     "output_type": "error",
     "traceback": []
    }
   ],
   "source": [
    "odgi depth \\\n",
    "-i $inputOdgi \\\n",
    "-d \\\n",
    "> chr3_cluster.p95.s5000.n17.k47.G700-900-1100.at9852.pggbRecommended/chr3.fasta.gz.856e650.e34d4cd.a91cbe1.smooth.nodeDepth.txt"
   ]
  },
  {
   "cell_type": "code",
   "execution_count": 43,
   "id": "82e45cbd-2908-4dac-8b2d-82af7714b7c2",
   "metadata": {},
   "outputs": [
    {
     "name": "stdout",
     "output_type": "stream",
     "text": [
      "(/u/gshirsekar/conda-envs/pggb) \n"
     ]
    },
    {
     "ename": "",
     "evalue": "1",
     "output_type": "error",
     "traceback": []
    }
   ],
   "source": [
    "odgi depth \\\n",
    "-i $inputOdgi \\\n",
    "-r at9852_1_chr3:0-26358531 | \\\n",
    "bedtools makewindows -b /dev/stdin -w 1000 \\\n",
    "> chr3_cluster.p95.s5000.n17.k47.G700-900-1100.at9852.pggbRecommended/at9852_1_chr3.w1kb.bed"
   ]
  },
  {
   "cell_type": "code",
   "execution_count": 45,
   "id": "c8af4084-f05d-4ec6-9425-e29d882ebf7d",
   "metadata": {},
   "outputs": [
    {
     "name": "stdout",
     "output_type": "stream",
     "text": [
      "(/u/gshirsekar/conda-envs/pggb) \n"
     ]
    },
    {
     "ename": "",
     "evalue": "1",
     "output_type": "error",
     "traceback": []
    }
   ],
   "source": [
    "odgi depth \\\n",
    "-i $inputOdgi \\\n",
    "-b chr3_cluster.p95.s5000.n17.k47.G700-900-1100.at9852.pggbRecommended/at9852_1_chr3.w1kb.bed \\\n",
    "| bedtools sort > chr3_cluster.p95.s5000.n17.k47.G700-900-1100.at9852.pggbRecommended/at9852_1_chr3.w1kb.bed.depth"
   ]
  },
  {
   "cell_type": "code",
   "execution_count": 46,
   "id": "dbda844f-c666-463b-87ac-f4af7869e8a2",
   "metadata": {
    "collapsed": true,
    "jupyter": {
     "outputs_hidden": true
    }
   },
   "outputs": [
    {
     "name": "stdout",
     "output_type": "stream",
     "text": [
      "(/u/gshirsekar/conda-envs/pggb) \n",
      "(/u/gshirsekar/conda-envs/pggb) \n",
      "(/u/gshirsekar/conda-envs/pggb) \n",
      "(/u/gshirsekar/conda-envs/pggb) \n",
      "(/u/gshirsekar/conda-envs/pggb) \n",
      "(/u/gshirsekar/conda-envs/pggb) \n",
      "(/u/gshirsekar/conda-envs/pggb) \n",
      "(/u/gshirsekar/conda-envs/pggb) \n",
      "[odgi::viz] Path range to pangenomic range conversion.\n",
      "[odgi::viz] Visualizing the graph in the pangenomic range [4.02168e+07, 4.32887e+07]\n",
      "[odgi::viz] Binned mode\n",
      "[odgi::viz] bin width: 3071.85\n",
      "[odgi::viz] image width: 1000\n",
      "(/u/gshirsekar/conda-envs/pggb) \n",
      "(/u/gshirsekar/conda-envs/pggb) \n",
      "(/u/gshirsekar/conda-envs/pggb) \n",
      "(/u/gshirsekar/conda-envs/pggb) \n",
      "(/u/gshirsekar/conda-envs/pggb) \n",
      "(/u/gshirsekar/conda-envs/pggb) \n",
      "(/u/gshirsekar/conda-envs/pggb) \n",
      "(/u/gshirsekar/conda-envs/pggb) \n",
      "(/u/gshirsekar/conda-envs/pggb) \n",
      "(/u/gshirsekar/conda-envs/pggb) \n",
      "(/u/gshirsekar/conda-envs/pggb) \n",
      "[odgi::extract] extracting path ranges 100.00% @ 2.44e+00/s elapsed: 00:00:00:00 remain: 00:00:00:00\n",
      "[odgi::extract] collecting all nodes in the path range 100.00% @ 7.94e+05/s elapsed: 00:00:00:00 remain: 00:00:00:00\n",
      "[odgi::extract] merge subpaths closer than 500000 bps - iteration 1 (max 3) 100.00% @ 5.22e+00/s elapsed: 00:00:00:03 remain: 00:00:00:00\n",
      "[odgi::extract] merge subpaths closer than 500000 bps - iteration 2 (max 3) 100.00% @ 5.30e+00/s elapsed: 00:00:00:03 remain: 00:00:00:00\n",
      "[odgi::extract] merge subpaths closer than 500000 bps - iteration 3 (max 3) 100.00% @ 5.01e+00/s elapsed: 00:00:00:03 remain: 00:00:00:00\n",
      "[odgi::extract] adding connecting edges 100.00% @ 1.39e+06/s elapsed: 00:00:00:00 remain: 00:00:00:00\n",
      "[odgi::extract] adding subpaths 100.00% @ 7.12e+00/s elapsed: 00:00:00:07 remain: 00:00:00:00\n",
      "[odgi::extract] checking missing edges and empty subpaths 100.00% @ 7.10e+01/s elapsed: 00:00:00:00 remain: 00:00:00:00\n",
      "(/u/gshirsekar/conda-envs/pggb) \n",
      "(/u/gshirsekar/conda-envs/pggb) \n",
      "(/u/gshirsekar/conda-envs/pggb) \n",
      "(/u/gshirsekar/conda-envs/pggb) \n",
      "(/u/gshirsekar/conda-envs/pggb) \n",
      "at9852_1_chr3:18915435-19116857\t201422\n",
      "at6137_1_chr3:17866723-19584015\t1717292\n",
      "at6923_1_chr3:20672583-22332120\t1659537\n",
      "at6929_1_chr3:17551625-19315763\t1764138\n",
      "at7143_1_chr3:17650236-19508414\t1858178\n",
      "at8285_1_chr3:18542390-20249596\t1707206\n",
      "at9104_1_chr3:19257612-20990837\t1733225\n",
      "at9336_1_chr3:18765172-20577959\t1812787\n",
      "at9503_1_chr3:19846343-21564945\t1718602\n",
      "at9578_1_chr3:18083326-19880896\t1797570\n",
      "at9744_1_chr3:18914780-20667482\t1752702\n",
      "at9762_1_chr3:18858851-20773705\t1914854\n",
      "at9806_1_chr3:19200406-20871582\t1671176\n",
      "at9830_1_chr3:18747223-20422525\t1675302\n",
      "at9847_1_chr3:19627355-21382801\t1755446\n",
      "at9879_1_chr3:18602606-20631249\t2028643\n",
      "at9883_1_chr3:17782199-19613325\t1831126\n",
      "at9900_1_chr3:18905040-20998484\t2093444\n",
      "(/u/gshirsekar/conda-envs/pggb) \n",
      "(/u/gshirsekar/conda-envs/pggb) \n",
      "(/u/gshirsekar/conda-envs/pggb) \n",
      "(/u/gshirsekar/conda-envs/pggb) \n",
      "(/u/gshirsekar/conda-envs/pggb) \n",
      "(/u/gshirsekar/conda-envs/pggb) \n",
      "(/u/gshirsekar/conda-envs/pggb) \n",
      "(/u/gshirsekar/conda-envs/pggb) \n",
      "(/u/gshirsekar/conda-envs/pggb) \n",
      "(/u/gshirsekar/conda-envs/pggb) \n",
      "(/u/gshirsekar/conda-envs/pggb) \n",
      "(/u/gshirsekar/conda-envs/pggb) \n",
      "(/u/gshirsekar/conda-envs/pggb) \n",
      "(/u/gshirsekar/conda-envs/pggb) \n",
      "(/u/gshirsekar/conda-envs/pggb) \n",
      "(/u/gshirsekar/conda-envs/pggb) \n",
      "(/u/gshirsekar/conda-envs/pggb) \n",
      "(/u/gshirsekar/conda-envs/pggb) \n",
      "(/u/gshirsekar/conda-envs/pggb) \n",
      "(/u/gshirsekar/conda-envs/pggb) \n",
      "(/u/gshirsekar/conda-envs/pggb) \n",
      "(/u/gshirsekar/conda-envs/pggb) \n",
      "[odgi::viz] Binned mode\n",
      "[odgi::viz] bin width: 100\n",
      "[odgi::viz] image width: 52231\n",
      "[odgi::viz] warning: you are going to create a big image (width > 50000 pixels).\n",
      "(/u/gshirsekar/conda-envs/pggb) \n"
     ]
    },
    {
     "ename": "",
     "evalue": "1",
     "output_type": "error",
     "traceback": []
    }
   ],
   "source": [
    "a=at9852_1_chr3:0-26358531:18915435-19116857\n",
    "b=RPP1\n",
    "r=${a}\n",
    "outprefix=${b}.region\n",
    "\n",
    "echo -e \"at9852_1_chr3\\t18964405\\t18970525\\tRPP1\" \\\n",
    "> chr3_cluster.p95.s5000.n17.k47.G700-900-1100.at9852.pggbRecommended/cluster_genebed/${outprefix}.bed\n",
    "\n",
    "    ########################## view the pangenome graph of the region ######################\n",
    "    odgi viz \\\n",
    "    -i $inputOdgi \\\n",
    "    -o chr3_cluster.p95.s5000.n17.k47.G700-900-1100.at9852.pggbRecommended/cluster_viz/${outprefix}.bm.png \\\n",
    "    -x 1000 \\\n",
    "    -bm \\\n",
    "    -t 20 \\\n",
    "    -P \\\n",
    "    -r ${r}\n",
    "    ########################## Node Strandedness ############################################\n",
    "    #odgi viz \\\n",
    "    #-i $inputOdgi \\\n",
    "    #-o chr3_cluster.p95.s5000.n17.k47.G700-900-1100.at9852.pggbRecommended/cluster_viz/${outprefix}.z.png \\\n",
    "    #-x 1000 \\\n",
    "    #-z \\\n",
    "    #-t 40 \\\n",
    "    #-P \\\n",
    "    #-r ${r}\n",
    "\n",
    "odgi extract \\\n",
    "    -i $inputOdgi \\\n",
    "    -r ${r} \\\n",
    "    --threads 24 -P \\\n",
    "    -d 500000 \\\n",
    "    -c 1 \\\n",
    "    -o chr3_cluster.p95.s5000.n17.k47.G700-900-1100.at9852.pggbRecommended/cluster_og/${outprefix}.og\n",
    "\n",
    " odgi \\\n",
    "    depth \\\n",
    "    -i chr3_cluster.p95.s5000.n17.k47.G700-900-1100.at9852.pggbRecommended/cluster_og/${outprefix}.og \\\n",
    "    -t 24 \\\n",
    "    -d \\\n",
    "    -r ${r} > chr3_cluster.p95.s5000.n17.k47.G700-900-1100.at9852.pggbRecommended/cluster_depth/${outprefix}.nodeDepth.txt\n",
    "\n",
    "\n",
    "odgi paths -L \\\n",
    "    -i chr3_cluster.p95.s5000.n17.k47.G700-900-1100.at9852.pggbRecommended/cluster_og/${outprefix}.og|cut -d ':' -f1,2,3| \\\n",
    "sed \"s/:/\\t/g\" |sed \"s/-/\\t/g\"|awk 'OFS=\"\\t\"{print $1,\":\",$4,\"-\",$5,$5-$4}'|sed \"s/\\t:\\t/:/g\"|sed \"s/\\t-\\t/-/g\"\n",
    "\n",
    "\n",
    "#### injecting gene annotation #####\n",
    "\n",
    "\n",
    "\n",
    "odgi view -i chr3_cluster.p95.s5000.n17.k47.G700-900-1100.at9852.pggbRecommended/cluster_og/${outprefix}.og  \\\n",
    "    -g > chr3_cluster.p95.s5000.n17.k47.G700-900-1100.at9852.pggbRecommended/cluster_gfa/${outprefix}.gfa\n",
    "\n",
    "cat chr3_cluster.p95.s5000.n17.k47.G700-900-1100.at9852.pggbRecommended/cluster_gfa/${outprefix}.gfa |grep \"^P\"|cut -f2|cut -f1,2 -d ':' > oldNames.txt\n",
    "cat chr3_cluster.p95.s5000.n17.k47.G700-900-1100.at9852.pggbRecommended/cluster_gfa/${outprefix}.gfa |grep \"^P\"|cut -f2|cut -f1 -d \":\" > newNames.txt\n",
    "paste oldNames.txt newNames.txt  > oNewNames.txt\n",
    "\n",
    "cp chr3_cluster.p95.s5000.n17.k47.G700-900-1100.at9852.pggbRecommended/cluster_gfa/${outprefix}.gfa \\\n",
    "    chr3_cluster.p95.s5000.n17.k47.G700-900-1100.at9852.pggbRecommended/cluster_gfa/${outprefix}.ed.gfa\n",
    "\n",
    "while read a b \n",
    "do\n",
    "    sed -i \"s/${a}/${b}/g\" chr3_cluster.p95.s5000.n17.k47.G700-900-1100.at9852.pggbRecommended/cluster_gfa/${outprefix}.ed.gfa \n",
    "done < oNewNames.txt\n",
    "\n",
    "\n",
    "odgi procbed \\\n",
    "-i chr3_cluster.p95.s5000.n17.k47.G700-900-1100.at9852.pggbRecommended/cluster_gfa/${outprefix}.ed.gfa \\\n",
    "-b chr3_cluster.p95.s5000.n17.k47.G700-900-1100.at9852.pggbRecommended/cluster_genebed/${outprefix}.bed \\\n",
    "> chr3_cluster.p95.s5000.n17.k47.G700-900-1100.at9852.pggbRecommended/cluster_genebed/${outprefix}.proc.bed\n",
    "\n",
    "odgi inject \\\n",
    "-i chr3_cluster.p95.s5000.n17.k47.G700-900-1100.at9852.pggbRecommended/cluster_gfa/${outprefix}.ed.gfa \\\n",
    "-b chr3_cluster.p95.s5000.n17.k47.G700-900-1100.at9852.pggbRecommended/cluster_genebed/${outprefix}.proc.bed \\\n",
    "-o chr3_cluster.p95.s5000.n17.k47.G700-900-1100.at9852.pggbRecommended/cluster_og/${outprefix}.proc.og\n",
    "\n",
    "odgi viz \\\n",
    "-i chr3_cluster.p95.s5000.n17.k47.G700-900-1100.at9852.pggbRecommended/cluster_og/${outprefix}.proc.og \\\n",
    "-o chr3_cluster.p95.s5000.n17.k47.G700-900-1100.at9852.pggbRecommended/cluster_viz/${outprefix}.proc.png \\\n",
    "-P -c 12 -w 100 -x 5000 -y 50 -m -B Spectral:4"
   ]
  },
  {
   "cell_type": "code",
   "execution_count": 50,
   "id": "6245daf4-cd44-4aaf-82cd-9ac30c139756",
   "metadata": {},
   "outputs": [
    {
     "name": "stdout",
     "output_type": "stream",
     "text": [
      "(/u/gshirsekar/conda-envs/pggb) \n",
      "[odgi::extract] extracting path ranges  -nan% @ 0.00e+00/s elapsed: 00:00:00:00 remain: -2147483648:-3:-14:-8\n",
      "[odgi::extract] collecting all nodes in the path range 100.00% @ 2.08e+06/s elapsed: 00:00:00:00 remain: 00:00:00:00\n",
      "[odgi::extract] merge subpaths closer than 500000 bps - iteration 1 (max 3) 100.00% @ 4.00e+00/s elapsed: 00:00:00:04 remain: 00:00:00:00\n",
      "[odgi::extract] merge subpaths closer than 500000 bps - iteration 2 (max 3) 100.00% @ 5.56e+00/s elapsed: 00:00:00:03 remain: 00:00:00:00\n",
      "[odgi::extract] adding connecting edges 100.00% @ 2.01e+06/s elapsed: 00:00:00:00 remain: 00:00:00:00\n",
      "[odgi::extract] adding subpaths 100.00% @ 8.17e+00/s elapsed: 00:00:00:06 remain: 00:00:00:00\n",
      "[odgi::extract] checking missing edges and empty subpaths 100.00% @ 6.37e+01/s elapsed: 00:00:00:00 remain: 00:00:00:00\n",
      "(/u/gshirsekar/conda-envs/pggb) \n"
     ]
    },
    {
     "ename": "",
     "evalue": "1",
     "output_type": "error",
     "traceback": []
    }
   ],
   "source": [
    "outprefix=testRPP1region\n",
    "odgi extract \\\n",
    "    -i $inputOdgi \\\n",
    "    -l chr3_cluster.p95.s5000.n17.k47.G700-900-1100.at9852.pggbRecommended/${outprefix}.nodelist \\\n",
    "    --threads 24 -P \\\n",
    "    -d 500000 \\\n",
    "    -c 0 -E \\\n",
    "    -o chr3_cluster.p95.s5000.n17.k47.G700-900-1100.at9852.pggbRecommended/cluster_og/${outprefix}.og"
   ]
  },
  {
   "cell_type": "code",
   "execution_count": 52,
   "id": "447632d9-2d65-4fd8-a786-a37a763756a7",
   "metadata": {},
   "outputs": [
    {
     "name": "stdout",
     "output_type": "stream",
     "text": [
      "(/u/gshirsekar/conda-envs/pggb) \n",
      "path_sgd_zipf_space_max: 100\n",
      "path_sgd_zipf_max_number_of_distributions: 101\n",
      "[odgi::path_linear_sgd] calculating linear SGD schedule (1.23023e-11 1 100 0 0.01)\n",
      "[odgi::path_linear_sgd] calculating zetas for 102 zipf distributions\n",
      "[odgi::path_linear_sgd] 1D path-guided SGD: 100.00% @ 8.36e+07/s elapsed: 00:00:00:05 remain: 00:00:00:00\n",
      "(/u/gshirsekar/conda-envs/pggb) \n",
      "[odgi::viz] Binned mode\n",
      "[odgi::viz] bin width: 7625.03\n",
      "[odgi::viz] image width: 1000\n",
      "(/u/gshirsekar/conda-envs/pggb) \n"
     ]
    },
    {
     "ename": "",
     "evalue": "1",
     "output_type": "error",
     "traceback": []
    }
   ],
   "source": [
    "outprefix=testRPP1region\n",
    "odgi sort \\\n",
    "    -i chr3_cluster.p95.s5000.n17.k47.G700-900-1100.at9852.pggbRecommended/cluster_og/${outprefix}.og \\\n",
    "    -p Y \\\n",
    "    -O \\\n",
    "    -t 24 \\\n",
    "    -P \\\n",
    "    -o chr3_cluster.p95.s5000.n17.k47.G700-900-1100.at9852.pggbRecommended/cluster_og/${outprefix}.optimized_sorted.og\n",
    "odgi viz \\\n",
    "    -i chr3_cluster.p95.s5000.n17.k47.G700-900-1100.at9852.pggbRecommended/cluster_og/${outprefix}.optimized_sorted.og \\\n",
    "    -o chr3_cluster.p95.s5000.n17.k47.G700-900-1100.at9852.pggbRecommended/cluster_viz/${outprefix}.optimized_sorted.bm.png \\\n",
    "    -x 1000 \\\n",
    "    -bm \\\n",
    "    -t 20 \\\n",
    "    -P "
   ]
  },
  {
   "cell_type": "code",
   "execution_count": 4,
   "id": "00424949-429e-49de-9f4c-c289986b3929",
   "metadata": {},
   "outputs": [
    {
     "name": "stdout",
     "output_type": "stream",
     "text": [
      "(/u/gshirsekar/conda-envs/pggb) \n",
      "#source.path.pos\ttarget.graph.pos\n",
      "at9852_1_chr3:0-26358531,19964501,+\t2641852,0,+\n",
      "(/u/gshirsekar/conda-envs/pggb) \n"
     ]
    },
    {
     "ename": "",
     "evalue": "1",
     "output_type": "error",
     "traceback": []
    }
   ],
   "source": [
    "#left side (node (graph) position from the nucleotide)\n",
    "odgi position -i $inputOdgi -p at9852_1_chr3:0-26358531,19964501,+ -v"
   ]
  },
  {
   "cell_type": "code",
   "execution_count": 5,
   "id": "4c5bffcc-ab56-4151-bc03-2ca25051b163",
   "metadata": {},
   "outputs": [
    {
     "name": "stdout",
     "output_type": "stream",
     "text": [
      "(/u/gshirsekar/conda-envs/pggb) \n",
      "#source.path.pos\ttarget.graph.pos\n",
      "at9852_1_chr3:0-26358531,20086700,+\t2662491,0,+\n",
      "(/u/gshirsekar/conda-envs/pggb) \n"
     ]
    },
    {
     "ename": "",
     "evalue": "1",
     "output_type": "error",
     "traceback": []
    }
   ],
   "source": [
    "#right side (node(graph) position from the nucleotide)\n",
    "odgi position -i $inputOdgi -p at9852_1_chr3:0-26358531,20086700,+ -v"
   ]
  },
  {
   "cell_type": "code",
   "execution_count": 6,
   "id": "172af4e8-72b0-4fde-9a62-e63e1f7ab67e",
   "metadata": {},
   "outputs": [
    {
     "name": "stdout",
     "output_type": "stream",
     "text": [
      "#target.graph.pos\ttarget.path.pos\tdist.to.ref\tstrand.vs.ref\n",
      "2641852,0,+\tat9852_1_chr3:0-26358531,19964501,+\t0\t+\n",
      "2662491,0,+\tat9852_1_chr3:0-26358531,20086700,+\t0\t+\n",
      "(/u/gshirsekar/conda-envs/pggb) \n"
     ]
    },
    {
     "ename": "",
     "evalue": "1",
     "output_type": "error",
     "traceback": []
    }
   ],
   "source": [
    "odgi position -t 2 -i $inputOdgi -G <(echo -e \"2641852\\n2662491\") -r at9852_1_chr3:0-26358531 \n"
   ]
  },
  {
   "cell_type": "code",
   "execution_count": 6,
   "id": "366525b0-b9ff-4c01-88ff-06071e3a4fb8",
   "metadata": {},
   "outputs": [
    {
     "name": "stdout",
     "output_type": "stream",
     "text": [
      "(/u/gshirsekar/conda-envs/pggb) \n",
      "\n",
      "(/u/gshirsekar/conda-envs/pggb) \n"
     ]
    }
   ],
   "source": [
    "# get the genomic positions from the graph positions\n",
    "nice odgi position -t 24 -i $inputOdgi -G chr3_cluster.p95.s5000.n17.k47.G700-900-1100.at9852.pggbRecommended/testNodes_nodeLengthGT100_depthET18.txt -r at9852_1_chr3:0-26358531 |tail -n +2|cut -d ',' -f4,5|sed \"s/,/\\t/g\"|cut -f1,2 \\\n",
    "> chr3_cluster.p95.s5000.n17.k47.G700-900-1100.at9852.pggbRecommended/testNodes_nodeLengthGT100_depthET18.genomic_positions.txt\n"
   ]
  },
  {
   "cell_type": "code",
   "execution_count": 24,
   "id": "813060b1-5373-43a3-bdb9-7568ab48b8ee",
   "metadata": {
    "collapsed": true,
    "jupyter": {
     "outputs_hidden": true
    }
   },
   "outputs": [
    {
     "name": "stdout",
     "output_type": "stream",
     "text": [
      "  odgi position {OPTIONS}\n",
      "\n",
      "    Find, translate, and liftover graph and path positions between graphs.\n",
      "    Results are printed to stdout.\n",
      "\n",
      "  OPTIONS:\n",
      "\n",
      "      [ MANDATORY OPTIONS ]\n",
      "        -i[FILE], --target=[FILE]         Load the succinct variation graph in\n",
      "                                          ODGI format from this *FILE*. The file\n",
      "                                          name usually ends with *.og*. It also\n",
      "                                          accepts GFAv1, but the on-the-fly\n",
      "                                          conversion to the ODGI format requires\n",
      "                                          additional time!\n",
      "      [ Position Options ]\n",
      "        -x[FILE], --source=[FILE]         Translate positions from this *FILE\n",
      "                                          graph into the target graph using\n",
      "                                          common *-l, --lift-paths* shared\n",
      "                                          between both graphs (default: use the\n",
      "                                          same source/target graph). It also\n",
      "                                          accepts GFAv1, but the on-the-fly\n",
      "                                          conversion to the ODGI format requires\n",
      "                                          additional time!\n",
      "        -r[PATH_NAME],\n",
      "        --ref-path=[PATH_NAME]            Translate the given positions into\n",
      "                                          positions relative to this reference\n",
      "                                          path.\n",
      "        -R[FILE], --ref-paths=[FILE]      Use the ref-paths in *FILE* for\n",
      "                                          positional translation.\n",
      "        -l[PATH_NAME],\n",
      "        --lift-path=[PATH_NAME]           Lift positions from *-x, --source* to\n",
      "                                          *-i, --target* via coordinates in this\n",
      "                                          path common to both graphs (default:\n",
      "                                          all common paths between *-x,\n",
      "                                          --source* and *-i, --target*).\n",
      "        -L[FILE], --lift-paths=[FILE]     Same as in *-l, --lift-paths*, but for\n",
      "                                          all paths in *FILE*.\n",
      "        -g[[node_id][,offset[,(+|-)]*]*],\n",
      "        --graph-pos=[[node_id][,offset[,(+|-)]*]*]\n",
      "                                          A graph position, e.g. 42,10,+ or\n",
      "                                          302,0,-.\n",
      "        -G[FILE], --graph-pos-file=[FILE] Same as in *-g, --graph-pos*, but for\n",
      "                                          all graph positions in *FILE*.\n",
      "        -p[[path_name][,offset[,(+|-)]*]*],\n",
      "        --path-pos=[[path_name][,offset[,(+|-)]*]*]\n",
      "                                          A path position, e.g. chr8,1337,+ or\n",
      "                                          chrZ,3929,-.\n",
      "        -F[FILE], --path-pos-file=[FILE]  A *FILE* with one path position per\n",
      "                                          line.\n",
      "        -b[FILE], --bed-input=[FILE]      A BED file of ranges in paths in the\n",
      "                                          graph to lift into the target graph\n",
      "                                          *-v, --give-graph-pos* emit graph\n",
      "                                          positions.\n",
      "        -E[FILE], --gff-input=[FILE]      A GFF/GTF file with annotation of\n",
      "                                          ranges in paths in the graph to lift\n",
      "                                          into the target (sub)graph emitting\n",
      "                                          graph identifiers with annotation. The\n",
      "                                          output is a CSV reading for the\n",
      "                                          visualization within Bandage. The\n",
      "                                          first column is the node identifier,\n",
      "                                          the second column the annotation. If\n",
      "                                          several annotations exist for the same\n",
      "                                          node, they are combined via ';'.\n",
      "        -v, --give-graph-pos              Emit graph positions (node, offset,\n",
      "                                          strand) rather than path positions.\n",
      "        -I, --all-immediate               Emit all positions immediately at the\n",
      "                                          given graph/path position.\n",
      "        -d[DISTANCE],\n",
      "        --search-radius=[DISTANCE]        Limit coordinate conversion\n",
      "                                          breadth-first search up to DISTANCE bp\n",
      "                                          from each given position (default:\n",
      "                                          10000).\n",
      "        -w[N], --jaccard-context=[N]      Maximum walking distance in\n",
      "                                          nucleotides for one orientation when\n",
      "                                          finding the best target (reference)\n",
      "                                          range for each query path (default:\n",
      "                                          10000). Note: If we walked 9999 base\n",
      "                                          pairs and **w, --jaccard-context** is\n",
      "                                          **10000**, we will also include the\n",
      "                                          next node, even if we overflow the\n",
      "                                          actual limit.\n",
      "      [ Threading ]\n",
      "        -t[N], --threads=[N]              Number of threads to use for parallel\n",
      "                                          operations.\n",
      "      [ Processing Information ]\n",
      "        -P, --progress                    Write the current progress to stderr.\n",
      "      [ Program Information\n",
      "        -h, --help                        Print a help message for odgi\n",
      "                                          position.\n",
      "\n",
      "(/u/gshirsekar/conda-envs/pggb) \n"
     ]
    },
    {
     "ename": "",
     "evalue": "1",
     "output_type": "error",
     "traceback": []
    }
   ],
   "source": [
    "### Variant density correlates with node size in PGGB \n",
    "odgi view -i chr3_cluster.p95.s5000.n17.k47.G700-900-1100.at9852.pggbRecommended/"
   ]
  },
  {
   "cell_type": "code",
   "execution_count": 7,
   "id": "610771d7-4071-4e80-a146-8d553854ff6c",
   "metadata": {},
   "outputs": [
    {
     "name": "stdout",
     "output_type": "stream",
     "text": [
      "#target.graph.pos\ttarget.path.pos\tdist.to.ref\tstrand.vs.ref\n",
      "2638721,0,+\tat9852_1_chr3:0-26358531,19956707,+\t0\t+\n",
      "2663190,0,+\tat9852_1_chr3:0-26358531,20089883,+\t0\t+\n",
      "(/u/gshirsekar/conda-envs/pggb) \n"
     ]
    },
    {
     "ename": "",
     "evalue": "1",
     "output_type": "error",
     "traceback": []
    }
   ],
   "source": [
    "odgi position -t 2 -i $inputOdgi -G <(echo -e \"2638721\\n2663190\") -r at9852_1_chr3:0-26358531 \n"
   ]
  },
  {
   "cell_type": "code",
   "execution_count": 65,
   "id": "d091b80b-0145-4c57-b248-829fb72bdde9",
   "metadata": {},
   "outputs": [
    {
     "name": "stdout",
     "output_type": "stream",
     "text": [
      "chr3_cluster.p95.s5000.n17.k47.G700-900-1100.at9852.pggbRecommended/chr3.fasta.gz.856e650.e34d4cd.a91cbe1.smooth.final.og\n",
      "(/u/gshirsekar/conda-envs/pggb) \n"
     ]
    },
    {
     "ename": "",
     "evalue": "1",
     "output_type": "error",
     "traceback": []
    }
   ],
   "source": [
    "echo $inputOdgi"
   ]
  },
  {
   "cell_type": "code",
   "execution_count": 66,
   "id": "a8ea7180-5e2e-479e-a6ac-bd8fcd52152e",
   "metadata": {},
   "outputs": [
    {
     "name": "stdout",
     "output_type": "stream",
     "text": [
      "at6137_1_chr3:0-26194750\n",
      "at6923_1_chr3:0-28738137\n",
      "at6929_1_chr3:0-25712594\n",
      "at7143_1_chr3:0-26044309\n",
      "at8285_1_chr3:0-26796854\n",
      "at9104_1_chr3:0-27458818\n",
      "at9336_1_chr3:0-27060997\n",
      "at9503_1_chr3:0-28010412\n",
      "at9578_1_chr3:0-26348032\n",
      "at9744_1_chr3:0-27175644\n",
      "at9762_1_chr3:0-27262250\n",
      "at9806_1_chr3:0-27369393\n",
      "at9830_1_chr3:0-27041555\n",
      "at9847_1_chr3:0-28044082\n",
      "at9852_1_chr3:0-26358531\n",
      "at9879_1_chr3:0-27173682\n",
      "at9883_1_chr3:0-26028663\n",
      "at9900_1_chr3:0-27314136\n",
      "(/u/gshirsekar/conda-envs/pggb) \n"
     ]
    },
    {
     "ename": "",
     "evalue": "1",
     "output_type": "error",
     "traceback": []
    }
   ],
   "source": [
    "odgi paths -L \\\n",
    "-i $inputOdgi"
   ]
  },
  {
   "cell_type": "code",
   "execution_count": 11,
   "id": "237daaad-10f3-4bcd-9f35-f8d9fed75972",
   "metadata": {},
   "outputs": [
    {
     "name": "stdout",
     "output_type": "stream",
     "text": [
      "(/u/gshirsekar/conda-envs/pggb) \n",
      "(/u/gshirsekar/conda-envs/pggb) \n",
      "(/u/gshirsekar/conda-envs/pggb) \n",
      "(/u/gshirsekar/conda-envs/pggb) \n",
      "(/u/gshirsekar/conda-envs/pggb) \n",
      "(/u/gshirsekar/conda-envs/pggb) \n",
      "(/u/gshirsekar/conda-envs/pggb) \n",
      "(/u/gshirsekar/conda-envs/pggb) \n",
      "[odgi::viz] Path range to pangenomic range conversion.\n",
      "[odgi::viz] Visualizing the graph in the pangenomic range [4.36119e+07, 4.39064e+07]\n",
      "[odgi::viz] Binned mode\n",
      "[odgi::viz] bin width: 294.472\n",
      "[odgi::viz] image width: 1000\n",
      "(/u/gshirsekar/conda-envs/pggb) \n",
      "(/u/gshirsekar/conda-envs/pggb) \n",
      "(/u/gshirsekar/conda-envs/pggb) \n",
      "(/u/gshirsekar/conda-envs/pggb) \n",
      "(/u/gshirsekar/conda-envs/pggb) \n",
      "(/u/gshirsekar/conda-envs/pggb) \n",
      "(/u/gshirsekar/conda-envs/pggb) \n",
      "(/u/gshirsekar/conda-envs/pggb) \n",
      "(/u/gshirsekar/conda-envs/pggb) \n",
      "(/u/gshirsekar/conda-envs/pggb) \n",
      "(/u/gshirsekar/conda-envs/pggb) \n",
      "[odgi::extract] expansion and adding connecting edges\n",
      "[odgi::extract] extracting path ranges 100.00% @ 1.69e+00/s elapsed: 00:00:00:00 remain: 00:00:00:00\n",
      "[odgi::extract] merge subpaths closer than 100000 bps - iteration 1 (max 3) 100.00% @ 5.49e+00/s elapsed: 00:00:00:03 remain: 00:00:00:00\n",
      "[odgi::extract] merge subpaths closer than 100000 bps - iteration 2 (max 3) 100.00% @ 5.31e+00/s elapsed: 00:00:00:03 remain: 00:00:00:00\n",
      "[odgi::extract] adding connecting edges 100.00% @ 8.80e+04/s elapsed: 00:00:00:00 remain: 00:00:00:00\n",
      "[odgi::extract] adding subpaths 100.00% @ 6.95e+00/s elapsed: 00:00:00:07 remain: 00:00:00:00\n",
      "[odgi::extract] checking missing edges and empty subpaths 100.00% @ 7.15e+01/s elapsed: 00:00:00:00 remain: 00:00:00:00\n",
      "(/u/gshirsekar/conda-envs/pggb) \n",
      "(/u/gshirsekar/conda-envs/pggb) \n",
      "(/u/gshirsekar/conda-envs/pggb) \n",
      "(/u/gshirsekar/conda-envs/pggb) \n",
      "(/u/gshirsekar/conda-envs/pggb) \n",
      "at9852_1_chr3:19956707-20089883\t133176\n",
      "at6137_1_chr3:19725884-19880403\t154519\n",
      "at6923_1_chr3:22445439-22581042\t135603\n",
      "at6929_1_chr3:19443510-19595680\t152170\n",
      "at7143_1_chr3:19629816-19774215\t144399\n",
      "at8285_1_chr3:20371875-20517830\t145955\n",
      "at9104_1_chr3:21112803-21259213\t146410\n",
      "at9336_1_chr3:20700548-20838333\t137785\n",
      "at9503_1_chr3:21678272-21813869\t135597\n",
      "at9578_1_chr3:20033200-20176342\t143142\n",
      "at9744_1_chr3:20790097-20928221\t138124\n",
      "at9762_1_chr3:20890900-21028028\t137128\n",
      "at9806_1_chr3:20993759-21131019\t137260\n",
      "at9830_1_chr3:20532986-20683357\t150371\n",
      "at9847_1_chr3:21495768-21627756\t131988\n",
      "at9879_1_chr3:20791969-20927095\t135126\n",
      "at9883_1_chr3:19728966-19862020\t133054\n",
      "at9900_1_chr3:21111162-21242802\t131640\n",
      "(/u/gshirsekar/conda-envs/pggb) \n",
      "(/u/gshirsekar/conda-envs/pggb) \n",
      "(/u/gshirsekar/conda-envs/pggb) \n",
      "(/u/gshirsekar/conda-envs/pggb) \n",
      "(/u/gshirsekar/conda-envs/pggb) \n",
      "(/u/gshirsekar/conda-envs/pggb) \n",
      "(/u/gshirsekar/conda-envs/pggb) \n",
      "(/u/gshirsekar/conda-envs/pggb) \n",
      "(/u/gshirsekar/conda-envs/pggb) \n",
      "(/u/gshirsekar/conda-envs/pggb) \n",
      "(/u/gshirsekar/conda-envs/pggb) \n",
      "(/u/gshirsekar/conda-envs/pggb) \n",
      "(/u/gshirsekar/conda-envs/pggb) \n",
      "(/u/gshirsekar/conda-envs/pggb) \n",
      "(/u/gshirsekar/conda-envs/pggb) \n",
      "(/u/gshirsekar/conda-envs/pggb) \n",
      "(/u/gshirsekar/conda-envs/pggb) \n",
      "(/u/gshirsekar/conda-envs/pggb) \n",
      "(/u/gshirsekar/conda-envs/pggb) \n",
      "(/u/gshirsekar/conda-envs/pggb) \n",
      "(/u/gshirsekar/conda-envs/pggb) \n",
      "(/u/gshirsekar/conda-envs/pggb) \n",
      "[odgi::viz] Binned mode\n",
      "[odgi::viz] bin width: 100\n",
      "[odgi::viz] image width: 2720\n",
      "(/u/gshirsekar/conda-envs/pggb) \n"
     ]
    },
    {
     "ename": "",
     "evalue": "1",
     "output_type": "error",
     "traceback": []
    }
   ],
   "source": [
    "a=at9852_1_chr3:0-26358531:19956707-20089883\n",
    "b=RPP13\n",
    "r=${a}\n",
    "outprefix=${b}.region\n",
    "\n",
    "echo -e \"at9852_1_chr3\\t19983640\\t19986611\\tRPP13\\nat9852_1_chr3\\t20059013\\t20061289\\tNLR2\\nat9852_1_chr3\\t20065552\\t20067885\\tNLRright\" \\\n",
    "> chr3_cluster.p95.s5000.n17.k47.G700-900-1100.at9852.pggbRecommended/cluster_genebed/${outprefix}.bed\n",
    "\n",
    "    ########################## view the pangenome graph of the region ######################\n",
    "    odgi viz \\\n",
    "    -i $inputOdgi \\\n",
    "    -o chr3_cluster.p95.s5000.n17.k47.G700-900-1100.at9852.pggbRecommended/cluster_viz/${outprefix}.bm.png \\\n",
    "    -x 1000 \\\n",
    "    -bm \\\n",
    "    -t 20 \\\n",
    "    -P \\\n",
    "    -r ${r}\n",
    "    ########################## Node Strandedness ############################################\n",
    "    #odgi viz \\\n",
    "    #-i $inputOdgi \\\n",
    "    #-o chr3_cluster.p95.s5000.n17.k47.G700-900-1100.at9852.pggbRecommended/cluster_viz/${outprefix}.z.png \\\n",
    "    #-x 1000 \\\n",
    "    #-z \\\n",
    "    #-t 40 \\\n",
    "    #-P \\\n",
    "    #-r ${r}\n",
    "\n",
    "odgi extract \\\n",
    "    -i $inputOdgi \\\n",
    "    -r ${r} \\\n",
    "    --threads 24 -P \\\n",
    "    -d 100000 \\\n",
    "    -c 1 \\\n",
    "    -o chr3_cluster.p95.s5000.n17.k47.G700-900-1100.at9852.pggbRecommended/cluster_og/${outprefix}.og\n",
    "\n",
    " odgi \\\n",
    "    depth \\\n",
    "    -i chr3_cluster.p95.s5000.n17.k47.G700-900-1100.at9852.pggbRecommended/cluster_og/${outprefix}.og \\\n",
    "    -t 24 \\\n",
    "    -d \\\n",
    "    -r ${r} > chr3_cluster.p95.s5000.n17.k47.G700-900-1100.at9852.pggbRecommended/cluster_depth/${outprefix}.nodeDepth.txt\n",
    "\n",
    "\n",
    "odgi paths -L \\\n",
    "    -i chr3_cluster.p95.s5000.n17.k47.G700-900-1100.at9852.pggbRecommended/cluster_og/${outprefix}.og|cut -d ':' -f1,2,3| \\\n",
    "sed \"s/:/\\t/g\" |sed \"s/-/\\t/g\"|awk 'OFS=\"\\t\"{print $1,\":\",$4,\"-\",$5,$5-$4}'|sed \"s/\\t:\\t/:/g\"|sed \"s/\\t-\\t/-/g\"\n",
    "\n",
    "\n",
    "#### injecting gene annotation #####\n",
    "\n",
    "\n",
    "\n",
    "odgi view -i chr3_cluster.p95.s5000.n17.k47.G700-900-1100.at9852.pggbRecommended/cluster_og/${outprefix}.og  \\\n",
    "    -g > chr3_cluster.p95.s5000.n17.k47.G700-900-1100.at9852.pggbRecommended/cluster_gfa/${outprefix}.gfa\n",
    "\n",
    "cat chr3_cluster.p95.s5000.n17.k47.G700-900-1100.at9852.pggbRecommended/cluster_gfa/${outprefix}.gfa |grep \"^P\"|cut -f2|cut -f1,2 -d ':' > oldNames.txt\n",
    "cat chr3_cluster.p95.s5000.n17.k47.G700-900-1100.at9852.pggbRecommended/cluster_gfa/${outprefix}.gfa |grep \"^P\"|cut -f2|cut -f1 -d \":\" > newNames.txt\n",
    "paste oldNames.txt newNames.txt  > oNewNames.txt\n",
    "\n",
    "cp chr3_cluster.p95.s5000.n17.k47.G700-900-1100.at9852.pggbRecommended/cluster_gfa/${outprefix}.gfa \\\n",
    "    chr3_cluster.p95.s5000.n17.k47.G700-900-1100.at9852.pggbRecommended/cluster_gfa/${outprefix}.ed.gfa\n",
    "\n",
    "while read a b \n",
    "do\n",
    "    sed -i \"s/${a}/${b}/g\" chr3_cluster.p95.s5000.n17.k47.G700-900-1100.at9852.pggbRecommended/cluster_gfa/${outprefix}.ed.gfa \n",
    "done < oNewNames.txt\n",
    "\n",
    "\n",
    "odgi procbed \\\n",
    "-i chr3_cluster.p95.s5000.n17.k47.G700-900-1100.at9852.pggbRecommended/cluster_gfa/${outprefix}.ed.gfa \\\n",
    "-b chr3_cluster.p95.s5000.n17.k47.G700-900-1100.at9852.pggbRecommended/cluster_genebed/${outprefix}.bed \\\n",
    "> chr3_cluster.p95.s5000.n17.k47.G700-900-1100.at9852.pggbRecommended/cluster_genebed/${outprefix}.proc.bed\n",
    "\n",
    "odgi inject \\\n",
    "-i chr3_cluster.p95.s5000.n17.k47.G700-900-1100.at9852.pggbRecommended/cluster_gfa/${outprefix}.ed.gfa \\\n",
    "-b chr3_cluster.p95.s5000.n17.k47.G700-900-1100.at9852.pggbRecommended/cluster_genebed/${outprefix}.proc.bed \\\n",
    "-o chr3_cluster.p95.s5000.n17.k47.G700-900-1100.at9852.pggbRecommended/cluster_og/${outprefix}.proc.og\n",
    "\n",
    "odgi viz \\\n",
    "-i chr3_cluster.p95.s5000.n17.k47.G700-900-1100.at9852.pggbRecommended/cluster_og/${outprefix}.proc.og \\\n",
    "-o chr3_cluster.p95.s5000.n17.k47.G700-900-1100.at9852.pggbRecommended/cluster_viz/${outprefix}.proc.png \\\n",
    "-P -c 12 -w 100 -x 5000 -y 50 -m -B Spectral:4"
   ]
  },
  {
   "cell_type": "code",
   "execution_count": 6,
   "id": "845e6560-d327-45a8-8eee-8c60108e6b1a",
   "metadata": {},
   "outputs": [
    {
     "name": "stdout",
     "output_type": "stream",
     "text": [
      "(/u/gshirsekar/conda-envs/pggb) \n",
      "at6137\t16630669\t506890\t6293501\n",
      "at8285\t16630669\t583658\t6966372\n",
      "at6929\t16630669\t572727\t6026713\n",
      "at9503\t16630669\t1102609\t7233396\n",
      "at7143\t16630669\t310921\t7111828\n",
      "at9762\t16630669\t1939743\t6392736\n",
      "at9744\t16630669\t826048\t7075518\n",
      "at9847\t16630669\t1911960\t6724936\n",
      "at9883\t16630669\t444944\t6637752\n",
      "at9806\t16630669\t1741637\t6585387\n",
      "at9830\t16630669\t2293271\t6203805\n",
      "at9104\t16630669\t1177538\t6906428\n",
      "at9578\t16630669\t619714\t6683321\n",
      "at9900\t16630669\t617822\t6687988\n",
      "at9852\t16630669\t666629\t6689316\n",
      "at6923\t16630669\t2136507\t7202219\n",
      "at9879\t16630669\t1434151\t6427607\n",
      "at9336\t16630669\t390618\t7087203\n",
      "(/u/gshirsekar/conda-envs/pggb) \n"
     ]
    },
    {
     "ename": "",
     "evalue": "1",
     "output_type": "error",
     "traceback": []
    }
   ],
   "source": [
    "## odgi stats\n",
    "odgi stats \\\n",
    "-i $inputOdgi \\\n",
    "-a _,0"
   ]
  },
  {
   "cell_type": "code",
   "execution_count": 12,
   "id": "28e5b0ae-3dd1-41f0-81b2-525b4a17617b",
   "metadata": {},
   "outputs": [
    {
     "name": "stdout",
     "output_type": "stream",
     "text": [
      "path\tweighted_feedback_arc\n",
      "at6137_1_chr3:0-26194750\t833768\n",
      "at6923_1_chr3:0-28738137\t782329\n",
      "at6929_1_chr3:0-25712594\t780144\n",
      "at7143_1_chr3:0-26044309\t537876\n",
      "at8285_1_chr3:0-26796854\t782586\n",
      "at9104_1_chr3:0-27458818\t629490\n",
      "at9336_1_chr3:0-27060997\t899332\n",
      "at9503_1_chr3:0-28010412\t871719\n",
      "at9578_1_chr3:0-26348032\t714006\n",
      "at9744_1_chr3:0-27175644\t777662\n",
      "at9762_1_chr3:0-27262250\t575056\n",
      "at9806_1_chr3:0-27369393\t661517\n",
      "at9830_1_chr3:0-27041555\t550935\n",
      "at9847_1_chr3:0-28044082\t767735\n",
      "at9852_1_chr3:0-26358531\t697027\n",
      "at9879_1_chr3:0-27173682\t759553\n",
      "at9883_1_chr3:0-26028663\t652783\n",
      "at9900_1_chr3:0-27314136\t1051857\n",
      "all_paths\t13325375\n",
      "(/u/gshirsekar/conda-envs/pggb) \n"
     ]
    },
    {
     "ename": "",
     "evalue": "1",
     "output_type": "error",
     "traceback": []
    }
   ],
   "source": [
    "#weighted feedback arc\n",
    "odgi stats \\\n",
    "-i $inputOdgi \\\n",
    "-w \\\n",
    "-p"
   ]
  },
  {
   "cell_type": "code",
   "execution_count": 80,
   "id": "9e90a1c8-7d76-4014-bca0-00e69fd4b879",
   "metadata": {},
   "outputs": [
    {
     "name": "stdout",
     "output_type": "stream",
     "text": [
      "(/u/gshirsekar/conda-envs/pggb) \n",
      "(/u/gshirsekar/conda-envs/pggb) \n",
      "(/u/gshirsekar/conda-envs/pggb) \n",
      "(/u/gshirsekar/conda-envs/pggb) \n",
      "(/u/gshirsekar/conda-envs/pggb) \n"
     ]
    },
    {
     "ename": "",
     "evalue": "1",
     "output_type": "error",
     "traceback": []
    }
   ],
   "source": [
    "a=at9852_1_chr3:0-26358531:18903880-19132704\n",
    "b=RPP1\n",
    "r=${a}\n",
    "outprefix=${b}.region\n",
    "rpp1Odgi=chr3_cluster.p95.s5000.n17.k47.G700-900-1100.at9852.pggbRecommended/cluster_og/${outprefix}.og"
   ]
  },
  {
   "cell_type": "code",
   "execution_count": 81,
   "id": "486a0768-f4bf-489f-90e3-3c8b576e8d39",
   "metadata": {},
   "outputs": [
    {
     "name": "stdout",
     "output_type": "stream",
     "text": [
      "(/u/gshirsekar/conda-envs/pggb) \n",
      "#mean_links_length\n",
      "path\tin_node_space\tin_nucleotide_space\tnum_links_considered\n",
      "at9852_1_chr3:0-26358531:18899871-19170693\t93.1131\t1454.8\t33409\n",
      "at6137_1_chr3:0-26194750:18599950-18914034\t88.3874\t1385.63\t34412\n",
      "at6923_1_chr3:0-28738137:21392355-21655703\t87.845\t1384.21\t29525\n",
      "at6929_1_chr3:0-25712594:18309610-18613520\t56.4753\t878.383\t27342\n",
      "at7143_1_chr3:0-26044309:18397209-18804022\t70.626\t1108.31\t40821\n",
      "at8285_1_chr3:0-26796854:19277463-19538565\t93.9666\t1491.13\t32413\n",
      "at9104_1_chr3:0-27458818:19972962-20315943\t88.047\t1386.2\t37200\n",
      "at9336_1_chr3:0-27060997:19600251-19873904\t114.327\t1798.07\t36445\n",
      "at9503_1_chr3:0-28010412:20623403-20891902\t65.704\t1034.59\t29382\n",
      "at9578_1_chr3:0-26348032:18913183-19205482\t98.1876\t1537.71\t33687\n",
      "at9744_1_chr3:0-27175644:19648090-19966157\t81.3721\t1282.6\t36380\n",
      "at9762_1_chr3:0-27262250:19663793-19894295\t58.9334\t931.143\t26865\n",
      "at9806_1_chr3:0-27369393:19948562-20203542\t115.424\t1821.61\t30565\n",
      "at9830_1_chr3:0-27041555:19429336-19750700\t95.4529\t1501.05\t36689\n",
      "at9847_1_chr3:0-28044082:20337548-20694060\t105.919\t1673.84\t45504\n",
      "at9879_1_chr3:0-27173682:19387270-19575770\t71.294\t1108.58\t21162\n",
      "at9883_1_chr3:0-26028663:18465027-18766551\t93.8355\t1486.4\t37462\n",
      "at9900_1_chr3:0-27314136:19782880-20099172\t113.739\t1790.94\t31226\n",
      "all_paths\t89.7068\t1411.69\t600489\n",
      "(/u/gshirsekar/conda-envs/pggb) \n"
     ]
    },
    {
     "ename": "",
     "evalue": "1",
     "output_type": "error",
     "traceback": []
    }
   ],
   "source": [
    "# mean link lengths on RPP1 region\n",
    "odgi sort -i $rpp1Odgi -O -o -|odgi stats \\\n",
    "-i - \\\n",
    "-p -l"
   ]
  },
  {
   "cell_type": "code",
   "execution_count": 24,
   "id": "29683ff7-1ce5-4276-9fb1-c0d52040a47b",
   "metadata": {},
   "outputs": [
    {
     "name": "stdout",
     "output_type": "stream",
     "text": [
      "#mean_links_length\n",
      "path\tin_node_space\tin_nucleotide_space\tnum_links_considered\n",
      "at6137_1_chr3:0-26194750\t6197.6\t107912\t3778981\n",
      "at6923_1_chr3:0-28738137\t6105.24\t107351\t3833710\n",
      "at6929_1_chr3:0-25712594\t5223.32\t89088.4\t3545746\n",
      "at7143_1_chr3:0-26044309\t4280.66\t73952.7\t3056318\n",
      "at8285_1_chr3:0-26796854\t5656.8\t98331.2\t3724779\n",
      "at9104_1_chr3:0-27458818\t5450.13\t96979.5\t3447117\n",
      "at9336_1_chr3:0-27060997\t5653.92\t96947.1\t4014443\n",
      "at9503_1_chr3:0-28010412\t6303.87\t110550\t4060624\n",
      "at9578_1_chr3:0-26348032\t5447.79\t95415\t3491717\n",
      "at9744_1_chr3:0-27175644\t5767.36\t100825\t3749322\n",
      "at9762_1_chr3:0-27262250\t6334.23\t114403\t3150338\n",
      "at9806_1_chr3:0-27369393\t5814.99\t101567\t3394491\n",
      "at9830_1_chr3:0-27041555\t6049.35\t108052\t2925912\n",
      "at9847_1_chr3:0-28044082\t5971.17\t105039\t3636870\n",
      "at9852_1_chr3:0-26358531\t5108.56\t88471.2\t3474386\n",
      "at9879_1_chr3:0-27173682\t6172.43\t107693\t3637825\n",
      "at9883_1_chr3:0-26028663\t5045.85\t88194.7\t3249753\n",
      "at9900_1_chr3:0-27314136\t6146.89\t105223\t4396419\n",
      "all_paths\t5729.77\t100092\t64568751\n",
      "(/u/gshirsekar/conda-envs/pggb) \n"
     ]
    },
    {
     "ename": "",
     "evalue": "1",
     "output_type": "error",
     "traceback": []
    }
   ],
   "source": [
    "odgi stats \\\n",
    "-i $inputOdgi \\\n",
    "-p -l"
   ]
  },
  {
   "cell_type": "code",
   "execution_count": 20,
   "id": "baeb6233-64f4-42ff-8d9b-8f0626896fcf",
   "metadata": {},
   "outputs": [
    {
     "name": "stdout",
     "output_type": "stream",
     "text": [
      "(/u/gshirsekar/conda-envs/pggb) \n",
      "(/u/gshirsekar/conda-envs/pggb) \n",
      "(/u/gshirsekar/conda-envs/pggb) \n",
      "(/u/gshirsekar/conda-envs/pggb) \n",
      "(/u/gshirsekar/conda-envs/pggb) \n",
      "------------------------------------------  -------------  -------------------  --------------------  ---------------------------  -------------  -----------------------------------\n",
      "#mean_links_length\n",
      "path                                        in_node_space  in_nucleotide_space  num_links_considered  num_gap_links_not_penalized\n",
      "at9852_1_chr3:0-26358531:19956707-20089883  1.58303        20.3963              13104                 13095\n",
      "at6137_1_chr3:0-26194750:19725884-19880403  1.50147        18.9725              13590                 13581\n",
      "at6923_1_chr3:0-28738137:22445439-22581042  1.55102        19.9927              13366                 13357\n",
      "at6929_1_chr3:0-25712594:19443510-19595680  2.41147        28.5438              13746                 13691\n",
      "at7143_1_chr3:0-26044309:19629816-19774215  1.55428        19.5341              13098                 13092\n",
      "at8285_1_chr3:0-26796854:20371875-20517830  1.49225        18.8559              13674                 13665\n",
      "at9104_1_chr3:0-27458818:21112803-21259213  1.60704        20.9452              13467                 13456\n",
      "at9336_1_chr3:0-27060997:20700548-20838333  1.57126        20.6094              13036                 13027\n",
      "at9503_1_chr3:0-28010412:21678272-21813869  1.55137        19.9972              13363                 13354\n",
      "at9578_1_chr3:0-26348032:20033200-20176342  2.38904        27.1796              13176                 13161\n",
      "at9744_1_chr3:0-27175644:20790097-20928221  0.0356234      0.8323               12576                 12573\n",
      "at9762_1_chr3:0-27262250:20890900-21028028  1.51614        19.0658              13417                 13411\n",
      "at9806_1_chr3:0-27369393:20993759-21131019  2.3245         25.8943              13362                 13346\n",
      "at9830_1_chr3:0-27041555:20532986-20683357  1.64334        21.663               13144                 13134\n",
      "at9847_1_chr3:0-28044082:21495768-21627756  1.57814        20.2454              13099                 13093\n",
      "at9879_1_chr3:0-27173682:20791969-20927095  1.58436        20.4134              13093                 13084\n",
      "at9883_1_chr3:0-26028663:19728966-19862020  1.55658        19.9652              13283                 13277\n",
      "at9900_1_chr3:0-27314136:21111162-21242802  1.53137        18.9858              13023                 13017\n",
      "all_paths                                   1.61602        20.1846              238617                238414\n",
      "#sum_of_path_node_distances\n",
      "path                                        in_node_space  in_nucleotide_space  nodes                 nucleotides                  num_penalties  num_penalties_different_orientation\n",
      "at9852_1_chr3:0-26358531:19956707-20089883  4.75345        5.63699              13105                 133176                       3              0\n",
      "at6137_1_chr3:0-26194750:19725884-19880403  4.58347        4.85838              13591                 154519                       3              0\n",
      "at6923_1_chr3:0-28738137:22445439-22581042  4.66028        5.5361               13367                 135603                       3              0\n",
      "at6929_1_chr3:0-25712594:19443510-19595680  6.46876        6.776                13747                 152170                       9              0\n",
      "at7143_1_chr3:0-26044309:19629816-19774215  4.74739        5.17109              13099                 144399                       2              0\n",
      "at8285_1_chr3:0-26796854:20371875-20517830  4.55532        5.14345              13675                 145955                       3              0\n",
      "at9104_1_chr3:0-27458818:21112803-21259213  4.78928        5.41367              13468                 146410                       4              0\n",
      "at9336_1_chr3:0-27060997:20700548-20838333  4.79052        5.46547              13037                 137785                       3              0\n",
      "at9503_1_chr3:0-28010412:21678272-21813869  4.66133        5.53635              13364                 135597                       3              0\n",
      "at9578_1_chr3:0-26348032:20033200-20176342  6.38006        6.57177              13177                 143142                       5              0\n",
      "at9744_1_chr3:0-27175644:20790097-20928221  1.889          2.11769              12577                 138124                       1              0\n",
      "at9762_1_chr3:0-27262250:20890900-21028028  4.63452        5.44528              13418                 137128                       2              0\n",
      "at9806_1_chr3:0-27369393:20993759-21131019  6.25683        6.75474              13363                 137260                       5              0\n",
      "at9830_1_chr3:0-27041555:20532986-20683357  4.90148        5.26431              13145                 150371                       4              0\n",
      "at9847_1_chr3:0-28044082:21495768-21627756  4.74702        5.65733              13100                 131988                       2              0\n",
      "at9879_1_chr3:0-27173682:20791969-20927095  4.75745        5.55564              13094                 135126                       3              0\n",
      "at9883_1_chr3:0-26028663:19728966-19862020  4.68127        5.61201              13284                 133054                       2              0\n",
      "at9900_1_chr3:0-27314136:21111162-21242802  4.71453        5.5443               13024                 131640                       2              0\n",
      "all_paths                                   4.84279        5.44876              238635                2523447                      59             0\n",
      "------------------------------------------  -------------  -------------------  --------------------  ---------------------------  -------------  -----------------------------------\n",
      "(/u/gshirsekar/conda-envs/pggb) \n",
      "(/u/gshirsekar/conda-envs/pggb) \n",
      "(/u/gshirsekar/conda-envs/pggb) \n",
      "(/u/gshirsekar/conda-envs/pggb) \n",
      "[odgi::path_linear_sgd_layout] 2D path-guided SGD: 100.00% @ 4.08e+07/s elapsed: 00:00:00:01 remain: 00:00:00:00\n",
      "(/u/gshirsekar/conda-envs/pggb) \n",
      "(/u/gshirsekar/conda-envs/pggb) \n",
      "(/u/gshirsekar/conda-envs/pggb) \n"
     ]
    },
    {
     "ename": "",
     "evalue": "1",
     "output_type": "error",
     "traceback": []
    }
   ],
   "source": [
    "# mean link lengths on a region\n",
    "b=RPP13\n",
    "outprefix=${b}.region\n",
    "testOdgi=chr3_cluster.p95.s5000.n17.k47.G700-900-1100.at9852.pggbRecommended/cluster_og/${outprefix}.og\n",
    "\n",
    "odgi sort -i $testOdgi -O -o -|odgi stats \\\n",
    "-i - \\\n",
    "-p -s -d -g -l |tabulate\n",
    "\n",
    "odgi sort -i $testOdgi -O \\\n",
    "-o chr3_cluster.p95.s5000.n17.k47.G700-900-1100.at9852.pggbRecommended/cluster_og/${outprefix}.sorted.og\n",
    "\n",
    "odgi layout -i chr3_cluster.p95.s5000.n17.k47.G700-900-1100.at9852.pggbRecommended/cluster_og/${outprefix}.sorted.og \\\n",
    "-o chr3_cluster.p95.s5000.n17.k47.G700-900-1100.at9852.pggbRecommended/cluster_og/${outprefix}.sorted.lay \\\n",
    "-P -t 20\n",
    "\n",
    "odgi draw -i chr3_cluster.p95.s5000.n17.k47.G700-900-1100.at9852.pggbRecommended/cluster_og/${outprefix}.sorted.og \\\n",
    "-c chr3_cluster.p95.s5000.n17.k47.G700-900-1100.at9852.pggbRecommended/cluster_og/${outprefix}.sorted.lay \\\n",
    "-C -w 5 -P -t 20 \\\n",
    "-p chr3_cluster.p95.s5000.n17.k47.G700-900-1100.at9852.pggbRecommended/cluster_viz/${outprefix}.sorted.lay.png\n"
   ]
  },
  {
   "cell_type": "code",
   "execution_count": 18,
   "id": "e0d43275-6b67-40f2-93a2-08e6588ca123",
   "metadata": {},
   "outputs": [
    {
     "name": "stdout",
     "output_type": "stream",
     "text": [
      "  odgi draw {OPTIONS}\n",
      "\n",
      "    Draw previously-determined 2D layouts of the graph with diverse annotations.\n",
      "\n",
      "  OPTIONS:\n",
      "\n",
      "      [ MANDATORY OPTIONS ]\n",
      "        -i[FILE], --idx=[FILE]            Load the succinct variation graph in\n",
      "                                          ODGI format from this *FILE*. The file\n",
      "                                          name usually ends with *.og*. It also\n",
      "                                          accepts GFAv1, but the on-the-fly\n",
      "                                          conversion to the ODGI format requires\n",
      "                                          additional time!\n",
      "        -c[FILE], --coords-in=[FILE]      Read the layout coordinates from this\n",
      "                                          .lay format FILE produced by odgi\n",
      "                                          layout.\n",
      "      [ Files IO ]\n",
      "        -T[FILE], --tsv=[FILE]            Write the TSV layout plus displayed\n",
      "                                          annotations to this FILE.\n",
      "        -s[FILE], --svg=[FILE]            Write an SVG rendering to this FILE.\n",
      "        -p[FILE], --png=[FILE]            Write a rasterized PNG rendering to\n",
      "                                          this FILE.\n",
      "        -X[FILE], --path-index=[FILE]     Load the path index from this FILE.\n",
      "      [ Visualization Options ]\n",
      "        -H[FILE], --png-height=[FILE]     Height of PNG rendering (default:\n",
      "                                          1000).\n",
      "        -E[FILE], --png-border=[FILE]     Size of PNG border in bp (default:\n",
      "                                          10).\n",
      "        -C, --color-paths                 Color paths (in PNG output).\n",
      "        -R[N], --scale=[N]                Image scaling (default 1.0).\n",
      "        -B[N], --border=[N]               Image border (in approximate bp)\n",
      "                                          (default 100.0).\n",
      "        -w[N], --line-width=[N]           Line width (in approximate bp)\n",
      "                                          (default 0.0).\n",
      "        -S[N], --path-line-spacing=[N]    Spacing between path lines in PNG\n",
      "                                          layout (in approximate bp) (default\n",
      "                                          0.0).\n",
      "        -b[FILE], --bed-file=[FILE]       Color the nodes based on the input\n",
      "                                          annotation in the given BED FILE.\n",
      "                                          Colors are derived from the 4th\n",
      "                                          column, if present, else from the path\n",
      "                                          name.If the 4th column value is in the\n",
      "                                          format 'string#RRGGBB', the RRGGBB\n",
      "                                          color (in hex notation) will be used.\n",
      "      [ Threading ]\n",
      "        -t[N], --threads=[N]              Number of threads to use for parallel\n",
      "                                          operations.\n",
      "      [ Processing Information ]\n",
      "        -P, --progress                    Write the current progress to stderr.\n",
      "      [ Program Information ]\n",
      "        -h, --help                        Print a help message for odgi draw.\n",
      "\n",
      "(/u/gshirsekar/conda-envs/pggb) \n"
     ]
    },
    {
     "ename": "",
     "evalue": "1",
     "output_type": "error",
     "traceback": []
    }
   ],
   "source": [
    "odgi draw -h"
   ]
  },
  {
   "cell_type": "code",
   "execution_count": null,
   "id": "7dd36e46-f4b9-4ec3-bcd6-089f10b98142",
   "metadata": {},
   "outputs": [],
   "source": []
  },
  {
   "cell_type": "code",
   "execution_count": 41,
   "id": "0944d88f-654a-4172-abf6-afb6f5b32ccb",
   "metadata": {},
   "outputs": [
    {
     "name": "stdout",
     "output_type": "stream",
     "text": [
      "(/u/gshirsekar/conda-envs/pggb) \n",
      "(/u/gshirsekar/conda-envs/pggb) \n",
      "(/u/gshirsekar/conda-envs/pggb) \n",
      "(/u/gshirsekar/conda-envs/pggb) \n",
      "(/u/gshirsekar/conda-envs/pggb) \n",
      "#mean_links_length\n",
      "path\tin_node_space\tin_nucleotide_space\tnum_links_considered\tnum_gap_links_not_penalized\n",
      "at9852_1_chr3:0-26358531:21645148-21677047\t2.50819\t18.4347\t3906\t3472\n",
      "at6137_1_chr3:0-26194750:21386454-21412785\t1.76387\t13.707\t2939\t2710\n",
      "at6923_1_chr3:0-28738137:24082379-24118750\t4.18032\t31.593\t4076\t3516\n",
      "at6929_1_chr3:0-25712594:21079725-21098256\t0.0239163\t0.175386\t2007\t2004\n",
      "at7143_1_chr3:0-26044309:21323346-21370319\t3.31048\t24.2858\t5791\t5013\n",
      "at8285_1_chr3:0-26796854:22058842-22108477\t3.26905\t24.6839\t5932\t5104\n",
      "at9104_1_chr3:0-27458818:22745133-22788590\t3.53992\t26.1255\t4947\t4255\n",
      "at9336_1_chr3:0-27060997:22357392-22373341\t0\t0\t1633\t1633\n",
      "at9503_1_chr3:0-28010412:23294121-23337438\t3.11068\t23.2359\t5376\t4616\n",
      "at9578_1_chr3:0-26348032:21670064-21687907\t0.0247678\t0.181631\t1938\t1935\n",
      "at9744_1_chr3:0-27175644:22465659-22484176\t0.0238687\t0.175037\t2011\t2008\n",
      "at9762_1_chr3:0-27262250:22551851-22571962\t1.37218\t10.5268\t2128\t2086\n",
      "at9806_1_chr3:0-27369393:22617522-22632340\t0\t0\t1437\t1437\n",
      "at9830_1_chr3:0-27041555:22233470-22288399\t3.54889\t27.3784\t6699\t5679\n",
      "at9847_1_chr3:0-28044082:23189377-23207878\t0.0241085\t0.176796\t1991\t1988\n",
      "at9879_1_chr3:0-27173682:22417079-22464894\t3.43642\t26.1023\t5678\t4796\n",
      "at9883_1_chr3:0-26028663:21349314-21367852\t0.0240481\t0.176353\t1996\t1993\n",
      "at9900_1_chr3:0-27314136:22636036-22659974\t1.70139\t11.8983\t2803\t2532\n",
      "all_paths\t2.46544\t18.5093\t63288\t56777\n",
      "(/u/gshirsekar/conda-envs/pggb) \n"
     ]
    },
    {
     "ename": "",
     "evalue": "1",
     "output_type": "error",
     "traceback": []
    }
   ],
   "source": [
    "# mean link lengths on a region\n",
    "b=nh11\n",
    "outprefix=${b}.region\n",
    "testOdgi=chr3_cluster.p95.s5000.n17.k47.G700-900-1100.at9852.pggbRecommended/cluster_og/${outprefix}.og\n",
    "\n",
    "odgi sort -i $testOdgi -O -o -|odgi stats \\\n",
    "-i - \\\n",
    "-p -l -g"
   ]
  },
  {
   "cell_type": "code",
   "execution_count": 59,
   "id": "bb4d5189-1278-4383-9fc5-79792585720d",
   "metadata": {},
   "outputs": [
    {
     "name": "stdout",
     "output_type": "stream",
     "text": [
      "(/u/gshirsekar/conda-envs/pggb) \n",
      "(/u/gshirsekar/conda-envs/pggb) \n",
      "(/u/gshirsekar/conda-envs/pggb) \n",
      "(/u/gshirsekar/conda-envs/pggb) \n",
      "(/u/gshirsekar/conda-envs/pggb) \n",
      "#mean_links_length\n",
      "path\tin_node_space\tin_nucleotide_space\tnum_links_considered\n",
      "at9852_1_chr3:0-26358531:2288471-2300690\t0.57931\t2.50862\t580\n",
      "at6137_1_chr3:0-26194750:2231936-2244373\t0.531773\t2.20401\t598\n",
      "at6923_1_chr3:0-28738137:2232884-2245291\t0.555178\t2.28862\t589\n",
      "at6929_1_chr3:0-25712594:2235629-2247994\t0.587522\t2.40901\t577\n",
      "at7143_1_chr3:0-26044309:2230816-2239489\t0.828343\t10.1437\t501\n",
      "at8285_1_chr3:0-26796854:2232034-2244287\t0.587522\t2.60312\t577\n",
      "at9104_1_chr3:0-27458818:2390031-2402264\t0.593043\t2.64696\t575\n",
      "at9336_1_chr3:0-27060997:2276053-2288419\t0.584775\t2.40311\t578\n",
      "at9503_1_chr3:0-28010412:2237855-2250130\t0.571184\t2.53859\t583\n",
      "at9578_1_chr3:0-26348032:2234141-2246374\t0.593043\t2.64696\t575\n",
      "at9744_1_chr3:0-27175644:2239970-2252255\t0.565812\t2.51282\t585\n",
      "at9762_1_chr3:0-27262250:2247333-2255966\t0.832\t10.244\t500\n",
      "at9806_1_chr3:0-27369393:2233555-2245799\t0.595819\t2.6324\t574\n",
      "at9830_1_chr3:0-27041555:2254253-2262918\t0.832\t10.18\t500\n",
      "at9847_1_chr3:0-28044082:2267800-2280233\t0.547297\t2.23311\t592\n",
      "at9879_1_chr3:0-27173682:2291073-2303426\t0.576592\t2.41308\t581\n",
      "at9883_1_chr3:0-26028663:2525094-2537293\t0.573883\t2.67354\t582\n",
      "at9900_1_chr3:0-27314136:2248399-2260629\t0.604203\t2.67075\t571\n",
      "all_paths\t0.613623\t3.62165\t10218\n",
      "(/u/gshirsekar/conda-envs/pggb) \n"
     ]
    },
    {
     "ename": "",
     "evalue": "1",
     "output_type": "error",
     "traceback": []
    }
   ],
   "source": [
    "# mean link lengths on a region\n",
    "b=nh3\n",
    "outprefix=${b}.region\n",
    "testOdgi=chr3_cluster.p95.s5000.n17.k47.G700-900-1100.at9852.pggbRecommended/cluster_og/${outprefix}.og\n",
    "\n",
    "odgi sort -i $testOdgi -O -o -|odgi stats \\\n",
    "-i - \\\n",
    "-p -l "
   ]
  },
  {
   "cell_type": "code",
   "execution_count": 61,
   "id": "a460c884-0a11-4737-a8f5-116ff28f14bf",
   "metadata": {},
   "outputs": [
    {
     "name": "stdout",
     "output_type": "stream",
     "text": [
      "(/u/gshirsekar/conda-envs/pggb) \n",
      "(/u/gshirsekar/conda-envs/pggb) \n",
      "(/u/gshirsekar/conda-envs/pggb) \n",
      "(/u/gshirsekar/conda-envs/pggb) \n",
      "(/u/gshirsekar/conda-envs/pggb) \n",
      "terminate called after throwing an instance of 'xp::XPFormatError'\n",
      "  what():  XP input data not in XP version 42 format (std::bad_alloc)\n",
      "Aborted (core dumped)\n",
      "(/u/gshirsekar/conda-envs/pggb) \n"
     ]
    },
    {
     "ename": "",
     "evalue": "1",
     "output_type": "error",
     "traceback": []
    }
   ],
   "source": [
    "# mean link lengths on a region\n",
    "b=nh3\n",
    "outprefix=${b}.region\n",
    "testOdgi=chr3_cluster.p95.s5000.n17.k47.G700-900-1100.at9852.pggbRecommended/cluster_og/${outprefix}.og\n",
    "\n",
    "odgi panpos -i $testOdgi -n 2288478 -p at9852_1_chr3:0-26358531"
   ]
  },
  {
   "cell_type": "code",
   "execution_count": null,
   "id": "7aab04d7-9967-46fd-a4ed-6d274e769ff3",
   "metadata": {},
   "outputs": [],
   "source": []
  },
  {
   "cell_type": "code",
   "execution_count": null,
   "id": "1415ceaf-9cb6-47c9-abd3-0359885f0eb7",
   "metadata": {},
   "outputs": [],
   "source": []
  },
  {
   "cell_type": "code",
   "execution_count": null,
   "id": "1261827c-07d5-40b9-b6e6-8edc4cdea603",
   "metadata": {},
   "outputs": [],
   "source": []
  },
  {
   "cell_type": "code",
   "execution_count": 52,
   "id": "4cf346c1-232c-494b-b9d3-23c76343df64",
   "metadata": {},
   "outputs": [
    {
     "name": "stdout",
     "output_type": "stream",
     "text": [
      "(/u/gshirsekar/conda-envs/pggb) \n",
      "(/u/gshirsekar/conda-envs/pggb) \n",
      "(/u/gshirsekar/conda-envs/pggb) \n"
     ]
    },
    {
     "ename": "",
     "evalue": "1",
     "output_type": "error",
     "traceback": []
    }
   ],
   "source": [
    "# linearity of the graphs\n",
    "# mean link lengths on a region\n",
    "for i in {1..13}\n",
    "do \n",
    "    b=nh${i}\n",
    "    outprefix=${b}.region\n",
    "    testOdgi=chr3_cluster.p95.s5000.n17.k47.G700-900-1100.at9852.pggbRecommended/cluster_og/${outprefix}.og\n",
    "    \n",
    "    odgi sort -i $testOdgi -O -o -|odgi stats \\\n",
    "    -i - \\\n",
    "    -q |sed \"/^path/d\"|sed \"s/all_paths/nh${i}/g\"\n",
    "done > chr3_cluster.p95.s5000.n17.k47.G700-900-1100.at9852.pggbRecommended/neighborhood_linearity_per_nuc.txt"
   ]
  },
  {
   "cell_type": "code",
   "execution_count": 53,
   "id": "cb566f69-a6c1-42ef-8549-f5231fa4c5cb",
   "metadata": {},
   "outputs": [
    {
     "name": "stdout",
     "output_type": "stream",
     "text": [
      "(/u/gshirsekar/conda-envs/pggb) \n",
      "(/u/gshirsekar/conda-envs/pggb) \n",
      "(/u/gshirsekar/conda-envs/pggb) \n"
     ]
    },
    {
     "ename": "",
     "evalue": "1",
     "output_type": "error",
     "traceback": []
    }
   ],
   "source": [
    "# weighted feedback arcs\n",
    "# backward pointing edges\n",
    "for i in {1..13}\n",
    "do \n",
    "    b=nh${i}\n",
    "    outprefix=${b}.region\n",
    "    testOdgi=chr3_cluster.p95.s5000.n17.k47.G700-900-1100.at9852.pggbRecommended/cluster_og/${outprefix}.og\n",
    "    \n",
    "    odgi sort -i $testOdgi -O -o -|odgi stats \\\n",
    "    -i - \\\n",
    "    -w |sed \"/^path/d\"|sed \"s/all_paths/nh${i}/g\"\n",
    "done > chr3_cluster.p95.s5000.n17.k47.G700-900-1100.at9852.pggbRecommended/neighborhood_backwardEdges.txt"
   ]
  },
  {
   "cell_type": "code",
   "execution_count": 51,
   "id": "d00b187b-d3da-485e-b90e-275504d895ee",
   "metadata": {},
   "outputs": [
    {
     "name": "stdout",
     "output_type": "stream",
     "text": [
      "(/u/gshirsekar/conda-envs/pggb) \n",
      "(/u/gshirsekar/conda-envs/pggb) \n",
      "(/u/gshirsekar/conda-envs/pggb) \n"
     ]
    },
    {
     "ename": "",
     "evalue": "1",
     "output_type": "error",
     "traceback": []
    }
   ],
   "source": [
    "# weighted feedback arcs\n",
    "# backward pointing edges\n",
    "for i in {1..13}\n",
    "do \n",
    "    b=nh${i}\n",
    "    outprefix=${b}.region\n",
    "    testOdgi=chr3_cluster.p95.s5000.n17.k47.G700-900-1100.at9852.pggbRecommended/cluster_og/${outprefix}.og\n",
    "    \n",
    "    odgi sort -i $testOdgi -O -o -|odgi stats \\\n",
    "    -i - \\\n",
    "    -j |sed \"/^path/d\"|sed \"s/all_paths/nh${i}/g\"\n",
    "done > chr3_cluster.p95.s5000.n17.k47.G700-900-1100.at9852.pggbRecommended/neighborhood_reversingJoin.txt"
   ]
  },
  {
   "cell_type": "code",
   "execution_count": 6,
   "id": "6d3c5377-89dd-4edc-9dc2-bed03719b2f0",
   "metadata": {},
   "outputs": [
    {
     "name": "stdout",
     "output_type": "stream",
     "text": [
      "(/u/gshirsekar/conda-envs/pggb) \n"
     ]
    },
    {
     "ename": "",
     "evalue": "1",
     "output_type": "error",
     "traceback": []
    }
   ],
   "source": [
    "odgi stats -i $inputOdgi \\\n",
    "-s > test2.txt"
   ]
  },
  {
   "cell_type": "code",
   "execution_count": 7,
   "id": "74e2bc80-ccb1-4de7-a0ed-2660d146f2fd",
   "metadata": {},
   "outputs": [
    {
     "name": "stdout",
     "output_type": "stream",
     "text": [
      "#sum_of_path_node_distances\n",
      "path\tin_node_space\tin_nucleotide_space\tnodes\tnucleotides\tnum_penalties\n",
      "all_paths\t11459.6\t26588.5\t64568769\t486132839\t23173349\n",
      "(/u/gshirsekar/conda-envs/pggb) \n"
     ]
    },
    {
     "ename": "",
     "evalue": "1",
     "output_type": "error",
     "traceback": []
    }
   ],
   "source": [
    "head -n 10 test2.txt"
   ]
  },
  {
   "cell_type": "code",
   "execution_count": 10,
   "id": "9b6d2e9f-d344-44df-9113-08474ce334c7",
   "metadata": {},
   "outputs": [
    {
     "name": "stdout",
     "output_type": "stream",
     "text": [
      "\n",
      "(/u/gshirsekar/conda-envs/pggb) \n"
     ]
    }
   ],
   "source": [
    " odgi degree -i $inputOdgi \\\n",
    "-D > test2.txt"
   ]
  },
  {
   "cell_type": "code",
   "execution_count": 11,
   "id": "a3fbb8e2-eacf-4a28-afb6-b5db0d6a5ecb",
   "metadata": {},
   "outputs": [
    {
     "name": "stderr",
     "output_type": "stream",
     "text": [
      "IOPub data rate exceeded.\n",
      "The Jupyter server will temporarily stop sending output\n",
      "to the client in order to avoid crashing it.\n",
      "To change this limit, set the config variable\n",
      "`--ServerApp.iopub_data_rate_limit`.\n",
      "\n",
      "Current values:\n",
      "ServerApp.iopub_data_rate_limit=1000000.0 (bytes/sec)\n",
      "ServerApp.rate_limit_window=3.0 (secs)\n",
      "\n"
     ]
    },
    {
     "name": "stdout",
     "output_type": "stream",
     "text": [
      "at7143_1_chr3:0-26044309 1 1 1 1 1 1 1 1 1 1 1 1 1 1 1 1 1 1 1 1 1 1 1 1 1 1 1 1 1 1 1 1 1 1 1 1 1 1 1 1 1 1 1 1 1 1 1 1 1 1 1 1 1 1 1 1 1 1 1 1 1 1 1 1 1 1 1 1 1 1 1 1 1 1 1 1 1 1 1 1 1 1 1 1 1 1 1 1 1 1 1 1 1 1 1 1 1 1 1 1 1 1 1 1 1 1 1 1 1 1 1 1 1 1 1 1 1 1 1 1 1 1 1 1 1 1 1 1 1 1 1 1 1 1 1 1 1 1 1 1 1 1 3 3 3 3 3 3 3 3 3 3 3 9 4 21 21 21 17 9 4 5 21 21 21 17 9 4 5 21 21 21 17 9 4 5 21 21 21 17 9 4 5 21 21 21 17 9 4 5 21 21 21 17 9 4 5 21 21 21 17 9 4 5 21 21 21 17 9 4 5 21 21 21 17 9 4 5 21 21 21 17 9 4 5 21 21 21 17 8 4 3 3 3 3 3 3 3 3 3 2 2 2 2 2 2 2 2 2 2 2 2 2 2 2 2 2 2 3 3 3 3 3 3 3 3 2 2 2 2 2 2 2 2 2 2 2 2 2 2 2 2 2 9 4 5 21 21 21 17 9 4 5 21 21 21 17 9 4 5 21 21 21 17 9 4 5 21 21 21 17 9 4 5 21 21 21 17 9 4 5 21 21 21 17 9 4 5 21 21 21 17 9 4 5 21 21 21 17 9 4 5 21 21 21 17 9 4 5 21 21 21 17 8 4 4 2 2 2 2 2 4 4 4 4 4 2 6 6 2 5 5 5 21 21 21 17 9 4 5 21 21 21 17 9 4 5 21 21 21 17 9 4 5 21 21 21 17 9 4 5 21 21 21 17 9 4 5 21 21 21 17 9 4 5 21 21 21 17 9 4 5 21 21 21 17 9 4 5 21 21 21 17 9 4 5 21 21 21 17 9 4 5 21 21 21 17 9 4 5 21 21 21 17 9 4 5 21 21 21 17 9 4 5 21 21 21 17 9 4 5 21 21 21 17 9 4 5 21 21 21 17 9 4 5 21 21 21 17 9 4 5 21 21 21 17 9 4 5 21 21 21 17 9 4 5 21 21 21 17 9 4 5 21 21 21 17 9 4 5 21 21 21 17 9 4 5 21 21 21 17 9 4 5 21 21 21 17 9 4 5 21 21 21 17 9 4 5 21 21 21 17 9 4 5 21 21 21 17 9 4 5 21 21 21 17 9 4 5 21 21 21 17 9 4 5 21 21 21 17 9 4 5 21 21 21 17 9 4 5 21 21 21 17 9 4 5 21 21 21 17 9 4 5 21 21 21 17 9 4 5 21 21 21 17 9 4 5 21 21 21 17 9 4 5 21 21 21 17 9 4 5 21 21 21 17 9 4 5 21 21 21 17 9 4 5 21 21 21 17 9 4 5 21 21 21 17 9 4 5 21 21 21 17 9 4 5 21 21 21 17 9 4 5 21 21 21 17 9 4 5 21 21 21 17 9 4 5 21 21 21 17 9 4 5 21 21 21 17 9 4 5 21 21 21 17 9 4 5 21 21 21 17 9 4 5 21 21 21 17 9 4 5 21 21 21 17 9 4 5 21 21 21 17 9 4 5 21 21 21 17 9 4 5 21 21 21 17 9 4 5 21 21 21 17 9 4 5 21 21 21 17 9 4 5 21 21 21 17 9 4 5 21 21 21 17 9 4 5 21 21 21 17 9 4 5 21 21 21 17 9 4 5 21 21 21 17 9 4 5 21 21 21 17 9 4 5 21 21 21 17 9 4 5 21 21 21 17 9 4 5 21 21 21 17 9 4 5 21 21 21 17 9 4 5 21 21 21 17 9 4 5 21 21 21 17 9 4 5 21 21 21 17 9 4 5 21 21 21 17 9 4 5 21 21 21 17 9 4 5 21 21 21 17 9 4 5 21 21 21 17 9 4 5 21 21 21 17 9 4 5 21 21 21 17 9 4 5 21 21 21 17 9 4 5 21 21 21 17 9 4 5 21 21 21 17 9 4 5 21 21 21 17 9 4 5 21 21 21 17 9 4 5 21 21 21 17 9 4 5 21 21 21 17 9 4 5 21 21 21 17 9 4 5 21 21 21 17 9 4 5 21 21 21 17 9 4 5 21 21 21 17 9 4 5 21 21 21 17 9 4 5 21 21 21 17 9 4 5 21 21 21 17 9 4 5 21 21 21 17 9 4 5 21 21 21 17 9 4 5 21 21 21 17 9 4 5 21 21 21 17 9 4 5 21 21 21 17 9 4 5 21 21 21 17 9 4 5 21 21 21 17 9 4 5 21 21 21 17 9 4 5 21 21 21 17 9 4 5 21 21 21 17 9 4 5 21 21 21 17 9 4 5 21 21 21 17 9 4 5 21 21 21 17 9 4 5 21 21 21 17 9 4 5 21 21 21 17 9 4 5 21 21 21 17 9 4 5 21 21 21 17 9 4 5 21 21 21 17 9 4 5 21 21 21 17 9 4 5 21 21 21 17 9 4 5 21 21 21 17 9 4 5 21 21 21 17 9 4 5 21 21 21 17 9 4 5 21 21 21 17 9 4 5 21 21 21 17 9 4 5 21 21 21 17 9 4 5 21 21 21 17 9 4 5 21 21 21 17 9 4 5 21 21 21 17 9 4 5 21 21 21 17 9 4 5 21 21 21 17 9 4 5 21 21 21 17 9 4 5 21 21 21 17 9 4 5 21 21 21 17 9 4 5 21 21 21 17 9 4 5 21 21 21 17 9 4 5 21 21 21 17 9 4 5 21 21 21 17 9 4 5 21 21 21 17 9 4 5 21 21 21 17 9 4 5 21 21 21 17 9 4 5 21 21 21 17 9 4 5 21 21 21 17 9 4 5 21 21 21 17 9 4 5 21 21 21 17 9 4 5 21 21 21 17 9 4 5 21 21 21 17 9 4 5 21 21 21 17 9 4 5 21 21 21 17 9 4 5 21 21 21 17 9 4 5 21 21 21 17 9 4 5 21 21 21 17 9 4 5 21 21 21 17 9 4 5 21 21 21 17 9 4 5 21 21 21 17 9 4 5 21 21 21 17 9 4 5 21 21 21 17 9 4 5 21 21 21 17 9 4 5 21 21 21 17 9 4 5 21 21 21 17 9 4 5 21 21 21 17 9 4 5 21 21 21 17 9 4 5 21 21 21 17 9 4 5 21 21 21 17 9 4 5 21 21 21 17 9 4 5 21 21 21 17 9 4 5 21 21 21 17 9 4 5 21 21 21 17 9 4 5 21 21 21 17 9 4 5 21 21 21 17 9 4 5 21 21 21 17 9 4 5 21 21 21 17 9 4 5 21 21 21 17 9 4 5 21 21 21 17 9 4 5 21 21 21 17 9 4 5 21 21 21 17 9 4 5 21 21 21 17 9 4 5 21 21 21 17 9 4 5 21 21 21 17 9 4 5 21 21 21 17 9 4 5 21 21 21 17 9 4 5 21 21 21 17 9 4 5 21 21 21 17 9 4 5 21 21 21 17 9 4 5 21 21 21 17 9 4 5 21 21 21 17 9 4 5 21 21 21 17 9 4 5 21 21 21 17 9 4 5 21 21 21 17 9 4 5 21 21 21 17 9 4 5 21 21 21 17 9 4 5 21 21 21 17 9 4 5 21 21 21 17\n",
      "(/u/gshirsekar/conda-envs/pggb) \n"
     ]
    }
   ],
   "source": [
    "head -n 10 test2.txt"
   ]
  },
  {
   "cell_type": "code",
   "execution_count": 12,
   "id": "c435c3f4-69fd-4a5b-bb6a-65960d2aa370",
   "metadata": {},
   "outputs": [
    {
     "name": "stdout",
     "output_type": "stream",
     "text": [
      "(/u/gshirsekar/conda-envs/pggb) \n"
     ]
    },
    {
     "ename": "",
     "evalue": "1",
     "output_type": "error",
     "traceback": []
    }
   ],
   "source": [
    "odgi depth -i $inputOdgi \\\n",
    "> test2.txt"
   ]
  },
  {
   "cell_type": "code",
   "execution_count": 13,
   "id": "0e25b1f2-f057-4afb-9ff4-43bdfd47bc3e",
   "metadata": {},
   "outputs": [
    {
     "name": "stdout",
     "output_type": "stream",
     "text": [
      "#path\tstart\tend\tmean.depth\n",
      "at6137_1_chr3:0-26194750\t0\t26194750\t18280.5\n",
      "at6923_1_chr3:0-28738137\t0\t28738137\t15185.6\n",
      "at6929_1_chr3:0-25712594\t0\t25712594\t18278.5\n",
      "at7143_1_chr3:0-26044309\t0\t26044309\t12186.7\n",
      "at8285_1_chr3:0-26796854\t0\t26796854\t16851.8\n",
      "at9104_1_chr3:0-27458818\t0\t27458818\t12404.3\n",
      "at9336_1_chr3:0-27060997\t0\t27060997\t19882\n",
      "at9503_1_chr3:0-28010412\t0\t28010412\t17618.3\n",
      "at9578_1_chr3:0-26348032\t0\t26348032\t15702.8\n",
      "(/u/gshirsekar/conda-envs/pggb) \n"
     ]
    },
    {
     "ename": "",
     "evalue": "1",
     "output_type": "error",
     "traceback": []
    }
   ],
   "source": [
    "head -n10 test2.txt"
   ]
  },
  {
   "cell_type": "code",
   "execution_count": null,
   "id": "9361445a-dfd1-4238-8285-cef019399533",
   "metadata": {},
   "outputs": [],
   "source": []
  }
 ],
 "metadata": {
  "kernelspec": {
   "display_name": "Bash",
   "language": "bash",
   "name": "bash"
  },
  "language_info": {
   "codemirror_mode": "shell",
   "file_extension": ".sh",
   "mimetype": "text/x-sh",
   "name": "bash"
  }
 },
 "nbformat": 4,
 "nbformat_minor": 5
}
