{
 "cells": [
  {
   "cell_type": "code",
   "execution_count": 1,
   "id": "18572c23-f00a-4bd8-9fb3-20328d413208",
   "metadata": {},
   "outputs": [
    {
     "name": "stdout",
     "output_type": "stream",
     "text": [
      "(/u/gshirsekar/conda-envs/pggb) \n",
      "(/u/gshirsekar/conda-envs/pggb) \n",
      "(/u/gshirsekar/conda-envs/pggb) \n",
      "(/u/gshirsekar/conda-envs/pggb) \n",
      "at6137_1_chr4:0-22667791\n",
      "at6923_1_chr4:0-21225719\n",
      "at6929_1_chr4:0-23584199\n",
      "at7143_1_chr4:0-21422025\n",
      "at8285_1_chr4:0-22897587\n",
      "at9104_1_chr4:0-21384833\n",
      "at9336_1_chr4:0-23254149\n",
      "at9503_1_chr4:0-22845789\n",
      "at9578_1_chr4:0-23817584\n",
      "at9744_1_chr4:0-23477951\n",
      "at9762_1_chr4:0-23502266\n",
      "at9806_1_chr4:0-22962254\n",
      "at9830_1_chr4:0-21387555\n",
      "at9847_1_chr4:0-22152542\n",
      "at9852_1_chr4:0-24203097\n",
      "at9879_1_chr4:0-23300978\n",
      "at9883_1_chr4:0-23936058\n",
      "at9900_1_chr4:0-21468527\n",
      "(/u/gshirsekar/conda-envs/pggb) \n"
     ]
    },
    {
     "ename": "",
     "evalue": "1",
     "output_type": "error",
     "traceback": []
    }
   ],
   "source": [
    "source ~/.bashrc \n",
    "conda activate pggb\n",
    "\n",
    "inputOdgi=./chr4_cluster/out_p90_s5000/chr4.fasta.gz.92da240.e34d4cd.b17acf2.smooth.final.og\n",
    "\n",
    "odgi paths -L \\\n",
    "-i $inputOdgi\n",
    "\n"
   ]
  },
  {
   "cell_type": "code",
   "execution_count": 2,
   "id": "050c6f0c-e4ba-4039-b42b-5c8ca1008832",
   "metadata": {},
   "outputs": [
    {
     "name": "stdout",
     "output_type": "stream",
     "text": [
      "(/u/gshirsekar/conda-envs/pggb) \n"
     ]
    },
    {
     "ename": "",
     "evalue": "1",
     "output_type": "error",
     "traceback": []
    }
   ],
   "source": [
    "odgi viz \\\n",
    "-i $inputOdgi \\\n",
    "-o RMG1.bm.png \\\n",
    "-x 1000 \\\n",
    "-bm \\\n",
    "-r at9762_1_chr4:0-23502266:11370958-11379857"
   ]
  },
  {
   "cell_type": "code",
   "execution_count": null,
   "id": "4ba3ce36-fac0-4c5b-9f7c-e09ff696caa4",
   "metadata": {},
   "outputs": [],
   "source": []
  }
 ],
 "metadata": {
  "kernelspec": {
   "display_name": "Bash",
   "language": "bash",
   "name": "bash"
  },
  "language_info": {
   "codemirror_mode": "shell",
   "file_extension": ".sh",
   "mimetype": "text/x-sh",
   "name": "bash"
  }
 },
 "nbformat": 4,
 "nbformat_minor": 5
}
