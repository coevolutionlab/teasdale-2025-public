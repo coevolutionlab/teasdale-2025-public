{
 "cells": [
  {
   "cell_type": "code",
   "execution_count": 1,
   "id": "11ae0ea8-0c6e-4ffb-bb00-18bc0a6d7a07",
   "metadata": {},
   "outputs": [],
   "source": [
    "import pandas as pd\n",
    "import seaborn as sns\n",
    "import matplotlib.pyplot as plt\n",
    "import polars as pl"
   ]
  },
  {
   "cell_type": "code",
   "execution_count": 3,
   "id": "b2388c9f-1eca-4752-b4c1-d0254c85268a",
   "metadata": {},
   "outputs": [],
   "source": [
    "oo9762 = pd.read_csv(\n",
    "    \"/ptmp/gshirsekar/variation/tmp/1001genomeReads/test/9762.shortreads.on.no9762PGGB_genotyping.vcf.genotypes.txt\", sep = \"\\t\",\n",
    "    names = [\"chr\", \"pos\", \"genotype\"]\n",
    ")\n",
    "\n",
    "truth9762 = pd.read_csv(\n",
    "    \"/ptmp/gshirsekar/variation/tmp/1001genomeReads/test/9762_genotyping.vcf.genotypes.txt\", sep = \"\\t\",\n",
    "    names = [\"chr\", \"pos\", \"genotype\"]\n",
    ")"
   ]
  },
  {
   "cell_type": "code",
   "execution_count": 9,
   "id": "f7facc6f-78d2-4407-b017-ad6b5c444ae2",
   "metadata": {},
   "outputs": [
    {
     "data": {
      "text/html": [
       "<div>\n",
       "<style scoped>\n",
       "    .dataframe tbody tr th:only-of-type {\n",
       "        vertical-align: middle;\n",
       "    }\n",
       "\n",
       "    .dataframe tbody tr th {\n",
       "        vertical-align: top;\n",
       "    }\n",
       "\n",
       "    .dataframe thead th {\n",
       "        text-align: right;\n",
       "    }\n",
       "</style>\n",
       "<table border=\"1\" class=\"dataframe\">\n",
       "  <thead>\n",
       "    <tr style=\"text-align: right;\">\n",
       "      <th></th>\n",
       "      <th>chr</th>\n",
       "      <th>pos</th>\n",
       "      <th>genotype_x</th>\n",
       "      <th>genotype_y</th>\n",
       "    </tr>\n",
       "  </thead>\n",
       "  <tbody>\n",
       "    <tr>\n",
       "      <th>0</th>\n",
       "      <td>at9852_1_chr1:0-33329944</td>\n",
       "      <td>3574</td>\n",
       "      <td>1/1</td>\n",
       "      <td>2/2</td>\n",
       "    </tr>\n",
       "    <tr>\n",
       "      <th>1</th>\n",
       "      <td>at9852_1_chr1:0-33329944</td>\n",
       "      <td>3583</td>\n",
       "      <td>0/0</td>\n",
       "      <td>1/1</td>\n",
       "    </tr>\n",
       "    <tr>\n",
       "      <th>2</th>\n",
       "      <td>at9852_1_chr1:0-33329944</td>\n",
       "      <td>3606</td>\n",
       "      <td>0/0</td>\n",
       "      <td>0/0</td>\n",
       "    </tr>\n",
       "    <tr>\n",
       "      <th>3</th>\n",
       "      <td>at9852_1_chr1:0-33329944</td>\n",
       "      <td>3612</td>\n",
       "      <td>0/0</td>\n",
       "      <td>1/1</td>\n",
       "    </tr>\n",
       "    <tr>\n",
       "      <th>4</th>\n",
       "      <td>at9852_1_chr1:0-33329944</td>\n",
       "      <td>3616</td>\n",
       "      <td>0/0</td>\n",
       "      <td>0/0</td>\n",
       "    </tr>\n",
       "  </tbody>\n",
       "</table>\n",
       "</div>"
      ],
      "text/plain": [
       "                        chr   pos genotype_x genotype_y\n",
       "0  at9852_1_chr1:0-33329944  3574        1/1        2/2\n",
       "1  at9852_1_chr1:0-33329944  3583        0/0        1/1\n",
       "2  at9852_1_chr1:0-33329944  3606        0/0        0/0\n",
       "3  at9852_1_chr1:0-33329944  3612        0/0        1/1\n",
       "4  at9852_1_chr1:0-33329944  3616        0/0        0/0"
      ]
     },
     "execution_count": 9,
     "metadata": {},
     "output_type": "execute_result"
    }
   ],
   "source": [
    "overlap = pd.merge(oo9762, truth9762, how = \"inner\", on = ['chr', 'pos'],)\n",
    "overlap.head()"
   ]
  },
  {
   "cell_type": "code",
   "execution_count": 78,
   "id": "3f6782e8-2b5e-4d29-bf3a-44f251ec5c83",
   "metadata": {},
   "outputs": [],
   "source": [
    "overlap01 = overlap[((overlap[\"genotype_x\"]==\"0/0\")| \n",
    "        (overlap[\"genotype_x\"]==\"1/1\")| \n",
    "        (overlap[\"genotype_x\"]==\"0/1\")|\n",
    "        (overlap[\"genotype_x\"]==\".\")\n",
    "        ) &\n",
    "       ((overlap[\"genotype_y\"]==\"0/0\")| \n",
    "        (overlap[\"genotype_y\"]==\"1/1\")| \n",
    "        (overlap[\"genotype_y\"]==\"0/1\")|\n",
    "        (overlap[\"genotype_y\"]==\".\")\n",
    "        )]"
   ]
  },
  {
   "cell_type": "code",
   "execution_count": 79,
   "id": "001294c6-4bd2-4842-9eb9-bcd2fb6d08e9",
   "metadata": {},
   "outputs": [],
   "source": [
    "def confusion_matrix(df: pd.DataFrame, col1: str, col2: str):\n",
    "    \"\"\"\n",
    "    Given a dataframe with at least\n",
    "    two categorical columns, create a \n",
    "    confusion matrix of the count of the columns\n",
    "    cross-counts\n",
    "    \n",
    "    use like:\n",
    "    \n",
    "    >>> confusion_matrix(test_df, 'actual_label', 'predicted_label')\n",
    "    \"\"\"\n",
    "    return (\n",
    "            df\n",
    "            .groupby([col1, col2])\n",
    "            .size()\n",
    "            .unstack(fill_value=0)\n",
    "            )"
   ]
  },
  {
   "cell_type": "code",
   "execution_count": 87,
   "id": "97fcabe3-910d-4fc7-aed4-badb54d725de",
   "metadata": {},
   "outputs": [
    {
     "data": {
      "image/png": "[encoded data removed]",
      "text/plain": [
       "<Figure size 400x300 with 2 Axes>"
      ]
     },
     "metadata": {},
     "output_type": "display_data"
    }
   ],
   "source": [
    "confMatrix_overlap = confusion_matrix(overlap01,\"genotype_x\", \"genotype_y\",) \n",
    "plt.figure(figsize = (4,3))\n",
    "sns.set_palette(\"Blues\", )\n",
    "ax = sns.heatmap(confMatrix_overlap, annot=True, cmap = \"Blues\", fmt='d', vmax=100000)\n",
    "ax.set(xlabel='truth', ylabel='call');\n"
   ]
  },
  {
   "cell_type": "code",
   "execution_count": 72,
   "id": "768430ce-9da8-4aa9-aca4-7ee538b460b8",
   "metadata": {},
   "outputs": [
    {
     "data": {
      "text/html": [
       "<div>\n",
       "<style scoped>\n",
       "    .dataframe tbody tr th:only-of-type {\n",
       "        vertical-align: middle;\n",
       "    }\n",
       "\n",
       "    .dataframe tbody tr th {\n",
       "        vertical-align: top;\n",
       "    }\n",
       "\n",
       "    .dataframe thead th {\n",
       "        text-align: right;\n",
       "    }\n",
       "</style>\n",
       "<table border=\"1\" class=\"dataframe\">\n",
       "  <thead>\n",
       "    <tr style=\"text-align: right;\">\n",
       "      <th>genotype_y</th>\n",
       "      <th>0/0</th>\n",
       "      <th>0/1</th>\n",
       "      <th>1/1</th>\n",
       "    </tr>\n",
       "    <tr>\n",
       "      <th>genotype_x</th>\n",
       "      <th></th>\n",
       "      <th></th>\n",
       "      <th></th>\n",
       "    </tr>\n",
       "  </thead>\n",
       "  <tbody>\n",
       "    <tr>\n",
       "      <th>0/0</th>\n",
       "      <td>392014</td>\n",
       "      <td>365</td>\n",
       "      <td>4343</td>\n",
       "    </tr>\n",
       "    <tr>\n",
       "      <th>0/1</th>\n",
       "      <td>5190</td>\n",
       "      <td>1398</td>\n",
       "      <td>3211</td>\n",
       "    </tr>\n",
       "    <tr>\n",
       "      <th>1/1</th>\n",
       "      <td>3888</td>\n",
       "      <td>202</td>\n",
       "      <td>127310</td>\n",
       "    </tr>\n",
       "  </tbody>\n",
       "</table>\n",
       "</div>"
      ],
      "text/plain": [
       "genotype_y     0/0   0/1     1/1\n",
       "genotype_x                      \n",
       "0/0         392014   365    4343\n",
       "0/1           5190  1398    3211\n",
       "1/1           3888   202  127310"
      ]
     },
     "execution_count": 72,
     "metadata": {},
     "output_type": "execute_result"
    }
   ],
   "source": [
    "confMatrix_overlap"
   ]
  },
  {
   "cell_type": "markdown",
   "id": "05c77488-3c70-4ace-a500-6372146de188",
   "metadata": {},
   "source": [
    "$$concordance_{00} = \\frac{t_{00}}{t_{00}+f_{00}}$$\n",
    "$$concordance_{01} = \\frac{t_{01}}{t_{01}+f_{01}}$$\n",
    "$$concordance_{11} = \\frac{t_{11}}{t_{11}+f_{11}}$$"
   ]
  },
  {
   "cell_type": "markdown",
   "id": "85bc0be6-3b1c-4d44-b455-45442475929e",
   "metadata": {},
   "source": [
    "$$ weighted\\ genotype \\ concordance = \\frac{(concordance_{00} +concordance_{01}+concordance_{11})}{3}$$"
   ]
  },
  {
   "cell_type": "code",
   "execution_count": 83,
   "id": "8c7d2e9d-6e6f-4322-8db6-08df42290a05",
   "metadata": {},
   "outputs": [],
   "source": [
    "c00=392014/(392014+5190+3888)\n",
    "c01=1398/(1398+202+365)\n",
    "c11=127310/(127310+3211+4343)"
   ]
  },
  {
   "cell_type": "code",
   "execution_count": 84,
   "id": "1abdf372-3a1d-4fa7-828d-e790919f526d",
   "metadata": {},
   "outputs": [],
   "source": [
    "weighted_gc = (c00+c01+c11)/3"
   ]
  },
  {
   "cell_type": "code",
   "execution_count": 85,
   "id": "391b9dc8-d52f-4ca0-930d-c387b085424d",
   "metadata": {},
   "outputs": [
    {
     "name": "stdout",
     "output_type": "stream",
     "text": [
      "0.877601729301586\n"
     ]
    }
   ],
   "source": [
    "print(weighted_gc)"
   ]
  },
  {
   "cell_type": "code",
   "execution_count": 86,
   "id": "0913e893-acf7-4cc6-83d9-321fa73e9905",
   "metadata": {},
   "outputs": [
    {
     "name": "stdout",
     "output_type": "stream",
     "text": [
      "0.9606774031126842\n"
     ]
    }
   ],
   "source": [
    "weighted_gc_noHet = (c00+c11)/2\n",
    "print(weighted_gc_noHet)"
   ]
  },
  {
   "cell_type": "code",
   "execution_count": null,
   "id": "4566dc92-d458-4b9d-b6cc-ff3ab0f6b994",
   "metadata": {},
   "outputs": [],
   "source": []
  }
 ],
 "metadata": {
  "kernelspec": {
   "display_name": "Python 3 (ipykernel)",
   "language": "python",
   "name": "python3"
  },
  "language_info": {
   "codemirror_mode": {
    "name": "ipython",
    "version": 3
   },
   "file_extension": ".py",
   "mimetype": "text/x-python",
   "name": "python",
   "nbconvert_exporter": "python",
   "pygments_lexer": "ipython3",
   "version": "3.9.15"
  }
 },
 "nbformat": 4,
 "nbformat_minor": 5
}
