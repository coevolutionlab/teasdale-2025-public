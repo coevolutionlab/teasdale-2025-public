{
 "cells": [
  {
   "cell_type": "code",
   "execution_count": 1,
   "id": "7e8f98c8-77ff-4ac0-ae2e-6e253ff859fd",
   "metadata": {},
   "outputs": [
    {
     "name": "stdout",
     "output_type": "stream",
     "text": [
      "(/u/gshirsekar/conda-envs/pggb) \n"
     ]
    },
    {
     "ename": "",
     "evalue": "1",
     "output_type": "error",
     "traceback": []
    }
   ],
   "source": [
    "source ~/.bashrc\n",
    "conda activate pggb"
   ]
  },
  {
   "cell_type": "code",
   "execution_count": null,
   "id": "70bf67ce-959f-4ce9-bbc7-51bd7fa24949",
   "metadata": {
    "tags": []
   },
   "outputs": [],
   "source": [
    "odgi degree \\\n",
    "-i chr3_cluster/out_p90_s5000/chr3.fasta.gz.92da240.e34d4cd.b17acf2.smooth.final.og -t 24 \\\n",
    "-b chr3_cluster/out_p90_s5000/RPP13.bed "
   ]
  },
  {
   "cell_type": "code",
   "execution_count": 2,
   "id": "2baedd27-5938-403b-863b-54cd1be043b3",
   "metadata": {},
   "outputs": [
    {
     "name": "stdout",
     "output_type": "stream",
     "text": [
      "(/u/gshirsekar/conda-envs/pggb) \n"
     ]
    },
    {
     "ename": "",
     "evalue": "1",
     "output_type": "error",
     "traceback": []
    }
   ],
   "source": [
    "odgi degree \\\n",
    "-i chr3_cluster/out_p90_s5000/chr3.fasta.gz.92da240.e34d4cd.b17acf2.smooth.final.og -t 24 \\\n",
    "-d \\\n",
    "-r at9852_1_chr3:1-26358531 > test.txt"
   ]
  },
  {
   "cell_type": "code",
   "execution_count": 3,
   "id": "86a8a330-bcbd-413e-9870-0dacc2eb24d3",
   "metadata": {},
   "outputs": [
    {
     "name": "stdout",
     "output_type": "stream",
     "text": [
      "(/u/gshirsekar/conda-envs/pggb) \n",
      "(/u/gshirsekar/conda-envs/pggb) \n"
     ]
    },
    {
     "ename": "",
     "evalue": "1",
     "output_type": "error",
     "traceback": []
    }
   ],
   "source": [
    "## for each node how many jumps it has taken\n",
    "cat chr3_cluster/out_p90_s5000/chr3.fasta.gz.92da240.e34d4cd.b17acf2.smooth.final.gfa|grep \"^L\"|awk '{print $1,$2,$4,$4-$2}'|sed \"s/ /\\t/g\" > chr3_cluster/out_p90_s5000/chr3.fasta.gz.92da240.e34d4cd.b17acf2.smooth.final.gfa.nodeJumps.txt"
   ]
  },
  {
   "cell_type": "code",
   "execution_count": null,
   "id": "216ac8da-fbb2-4fee-8027-7bc19ee24bbb",
   "metadata": {},
   "outputs": [],
   "source": []
  },
  {
   "cell_type": "code",
   "execution_count": null,
   "id": "86403298-91c1-4962-a05c-060a0e513eb4",
   "metadata": {},
   "outputs": [],
   "source": []
  },
  {
   "cell_type": "code",
   "execution_count": null,
   "id": "1f8a6807-e806-4900-8b05-96d4821742c5",
   "metadata": {},
   "outputs": [],
   "source": []
  },
  {
   "cell_type": "code",
   "execution_count": null,
   "id": "5b7cc46d-e5a8-431a-9e23-2bb61d1ae33e",
   "metadata": {},
   "outputs": [],
   "source": []
  },
  {
   "cell_type": "code",
   "execution_count": 5,
   "id": "4cf1c4db-850d-455f-b60b-c4396e62a9f7",
   "metadata": {
    "collapsed": true,
    "jupyter": {
     "outputs_hidden": true
    },
    "tags": []
   },
   "outputs": [
    {
     "name": "stdout",
     "output_type": "stream",
     "text": [
      "chrom\tstart\tend\tname\tgroup\tpav\n",
      "at9852_1_chr3:1-26358531\t19983640\t19986611\tRPP13\tat6137_1_chr3:1-26194750\t0.82765\n",
      "at9852_1_chr3:1-26358531\t19983640\t19986611\tRPP13\tat6923_1_chr3:1-28738137\t0.827\n",
      "at9852_1_chr3:1-26358531\t19983640\t19986611\tRPP13\tat6929_1_chr3:1-25712594\t0.82538\n",
      "at9852_1_chr3:1-26358531\t19983640\t19986611\tRPP13\tat7143_1_chr3:1-26044309\t0.82668\n",
      "at9852_1_chr3:1-26358531\t19983640\t19986611\tRPP13\tat8285_1_chr3:1-26796854\t0.87634\n",
      "at9852_1_chr3:1-26358531\t19983640\t19986611\tRPP13\tat9104_1_chr3:1-27458818\t0.88478\n",
      "at9852_1_chr3:1-26358531\t19983640\t19986611\tRPP13\tat9336_1_chr3:1-27060997\t0.78189\n",
      "at9852_1_chr3:1-26358531\t19983640\t19986611\tRPP13\tat9503_1_chr3:1-28010412\t0.827\n",
      "at9852_1_chr3:1-26358531\t19983640\t19986611\tRPP13\tat9578_1_chr3:1-26348032\t0.93703\n",
      "at9852_1_chr3:1-26358531\t19983640\t19986611\tRPP13\tat9744_1_chr3:1-27175644\t0.87309\n",
      "at9852_1_chr3:1-26358531\t19983640\t19986611\tRPP13\tat9762_1_chr3:1-27262250\t0.81921\n",
      "at9852_1_chr3:1-26358531\t19983640\t19986611\tRPP13\tat9806_1_chr3:1-27369393\t0.87569\n",
      "at9852_1_chr3:1-26358531\t19983640\t19986611\tRPP13\tat9830_1_chr3:1-27041555\t0.83187\n",
      "at9852_1_chr3:1-26358531\t19983640\t19986611\tRPP13\tat9847_1_chr3:1-28044082\t0.86985\n",
      "at9852_1_chr3:1-26358531\t19983640\t19986611\tRPP13\tat9852_1_chr3:1-26358531\t1\n",
      "at9852_1_chr3:1-26358531\t19983640\t19986611\tRPP13\tat9879_1_chr3:1-27173682\t0.82636\n",
      "at9852_1_chr3:1-26358531\t19983640\t19986611\tRPP13\tat9883_1_chr3:1-26028663\t0.82538\n",
      "at9852_1_chr3:1-26358531\t19983640\t19986611\tRPP13\tat9900_1_chr3:1-27314136\t0.82019\n",
      "(/u/gshirsekar/conda-envs/pggb) \n"
     ]
    },
    {
     "ename": "",
     "evalue": "1",
     "output_type": "error",
     "traceback": []
    }
   ],
   "source": [
    "odgi pav \\\n",
    "-i chr3_cluster/out_p90_s5000/chr3.fasta.gz.92da240.e34d4cd.b17acf2.smooth.final.og -t 24 \\\n",
    "-b chr3_cluster/out_p90_s5000/RPP13.bed"
   ]
  },
  {
   "cell_type": "code",
   "execution_count": null,
   "id": "76675b53-708b-46ce-af1a-204695408eb8",
   "metadata": {},
   "outputs": [],
   "source": [
    "odgi extract \\\n",
    "-i chr3_cluster/out_p90_s5000/chr3.fasta.gz.92da240.e34d4cd.b17acf2.smooth.final.og -t 24 \\\n",
    "-b chr3_cluster/out_p90_s5000/RPP13.bed \\\n",
    "-c 0 -E --threads 2 -P -d 1 \\\n",
    "-o at9852.RPP13.og"
   ]
  },
  {
   "cell_type": "code",
   "execution_count": null,
   "id": "c0dcc05e-986e-4d7a-aeaf-33401c974174",
   "metadata": {},
   "outputs": [],
   "source": [
    "odgi sort \\\n",
    "-i at9852.RPP13.og -o at9852.RPP13.sorted.og -O -t 4"
   ]
  },
  {
   "cell_type": "code",
   "execution_count": null,
   "id": "845d890c-b499-4ab9-9864-445530753ff1",
   "metadata": {},
   "outputs": [],
   "source": [
    "odgi viz -i at9852.RPP13.sorted.og -o at9852.RPP13.sorted.png"
   ]
  },
  {
   "cell_type": "markdown",
   "id": "72e58167-36b1-4449-b258-64cde62d8d7a",
   "metadata": {},
   "source": [
    "### Color with respect to the node position"
   ]
  },
  {
   "cell_type": "code",
   "execution_count": null,
   "id": "5fca9e21-b734-4aeb-8da8-3fe7e5e01e38",
   "metadata": {},
   "outputs": [],
   "source": [
    "\n",
    "odgi viz -i at9852.RPP13.sorted.og -o at9852.RPP13.sorted.du.png -d -u"
   ]
  },
  {
   "cell_type": "markdown",
   "id": "716857e9-2dfa-4eef-92e1-cd6ac8e338d6",
   "metadata": {},
   "source": [
    "### Color with respect to the node strandedness"
   ]
  },
  {
   "cell_type": "code",
   "execution_count": null,
   "id": "4f75d0b0-b03e-4e57-9755-396b22387894",
   "metadata": {},
   "outputs": [],
   "source": [
    "odgi viz -i at9852.RPP13.sorted.og -o at9852.RPP13.sorted.z.png -z"
   ]
  },
  {
   "cell_type": "markdown",
   "id": "8f7b7e64-3e61-4cde-88ef-e1e4747cea1a",
   "metadata": {},
   "source": [
    "### Summarize path coverage information"
   ]
  },
  {
   "cell_type": "code",
   "execution_count": null,
   "id": "4e888181-2a66-43f8-a47a-090945831454",
   "metadata": {},
   "outputs": [],
   "source": [
    "odgi viz -i at9852.RPP13.sorted.og -o at9852.RPP13.sorted.O.png -O"
   ]
  },
  {
   "cell_type": "markdown",
   "id": "036aff32-7bcb-4de5-8118-dc5595f71653",
   "metadata": {},
   "source": [
    "### color with respect to node depth in a path"
   ]
  },
  {
   "cell_type": "code",
   "execution_count": null,
   "id": "62926da2-d819-4722-94b2-ed15768782f1",
   "metadata": {},
   "outputs": [],
   "source": [
    "odgi viz -i at9852.RPP13.sorted.og -o at9852.RPP13.sorted.bm.png -bm"
   ]
  },
  {
   "cell_type": "code",
   "execution_count": null,
   "id": "e77b6f40-4876-459f-8c4f-b512f59cbe29",
   "metadata": {},
   "outputs": [],
   "source": [
    "odgi viz -i at9852.RPP13.sorted.og -o at9852.RPP13.sorted.b.png -b"
   ]
  },
  {
   "cell_type": "markdown",
   "id": "2987d6db-c4e7-4faf-98ff-18af84906748",
   "metadata": {},
   "source": [
    "# for RPP cluster"
   ]
  },
  {
   "cell_type": "code",
   "execution_count": 2,
   "id": "9ca601c2-4db2-4432-befa-ed80a0ecb609",
   "metadata": {},
   "outputs": [
    {
     "name": "stdout",
     "output_type": "stream",
     "text": [
      "[odgi::extract] extracting path ranges 100.00% @ 1.49e+00/s elapsed: 00:00:00:00 remain: 00:00:00:00\n",
      "[odgi::extract] collecting all nodes in the path range 100.00% @ 5.75e+05/s elapsed: 00:00:00:00 remain: 00:00:00:00\n",
      "[odgi::extract] merge subpaths closer than 1 bps - iteration 1 (max 3) 100.00% @ 2.45e+00/s elapsed: 00:00:00:07 remain: 00:00:00:00\n",
      "[odgi::extract] merge subpaths closer than 1 bps - iteration 2 (max 3) 100.00% @ 2.22e+00/s elapsed: 00:00:00:08 remain: 00:00:00:00\n",
      "[odgi::extract] merge subpaths closer than 1 bps - iteration 3 (max 3) 100.00% @ 2.13e+00/s elapsed: 00:00:00:08 remain: 00:00:00:00\n",
      "[odgi::extract] adding connecting edges 100.00% @ 2.81e+05/s elapsed: 00:00:00:00 remain: 00:00:00:00\n",
      "[odgi::extract] adding subpaths 100.00% @ 2.82e+00/s elapsed: 00:00:00:18 remain: 00:00:00:00\n",
      "[odgi::extract] checking missing edges and empty subpaths 100.00% @ 1.14e+05/s elapsed: 00:00:00:00 remain: 00:00:00:00\n",
      "(/u/gshirsekar/conda-envs/pggb) \n"
     ]
    },
    {
     "ename": "",
     "evalue": "1",
     "output_type": "error",
     "traceback": []
    }
   ],
   "source": [
    "odgi extract \\\n",
    "-i chr3_cluster/out_p90_s5000/chr3.fasta.gz.92da240.e34d4cd.b17acf2.smooth.final.og -t 24 \\\n",
    "-b chr3_cluster/out_p90_s5000/RPP1.bed \\\n",
    "-c 0 -E --threads 2 -P -d 1 \\\n",
    "-o at9852.RPP1.og"
   ]
  },
  {
   "cell_type": "code",
   "execution_count": 3,
   "id": "cb89c43b-9a72-4ffc-9ade-8e48b6a159a8",
   "metadata": {},
   "outputs": [
    {
     "name": "stdout",
     "output_type": "stream",
     "text": [
      "(/u/gshirsekar/conda-envs/pggb) \n",
      "(/u/gshirsekar/conda-envs/pggb) \n",
      "(/u/gshirsekar/conda-envs/pggb) \n",
      "(/u/gshirsekar/conda-envs/pggb) \n",
      "(/u/gshirsekar/conda-envs/pggb) \n",
      "(/u/gshirsekar/conda-envs/pggb) \n"
     ]
    },
    {
     "ename": "",
     "evalue": "1",
     "output_type": "error",
     "traceback": []
    }
   ],
   "source": [
    "odgi sort \\\n",
    "-i at9852.RPP1.og -o at9852.RPP1.sorted.og -O -t 4\n",
    "odgi viz -i at9852.RPP1.sorted.og -o at9852.RPP1.sorted.png\n",
    "odgi viz -i at9852.RPP1.sorted.og -o at9852.RPP1.sorted.du.png -d -u\n",
    "odgi viz -i at9852.RPP1.sorted.og -o at9852.RPP1.sorted.z.png -z\n",
    "odgi viz -i at9852.RPP1.sorted.og -o at9852.RPP1.sorted.O.png -O\n",
    "odgi viz -i at9852.RPP1.sorted.og -o at9852.RPP1.sorted.bm.png -bm"
   ]
  },
  {
   "cell_type": "code",
   "execution_count": 4,
   "id": "441ab01e-56e7-4c68-a256-efdc9b1e4e37",
   "metadata": {},
   "outputs": [
    {
     "name": "stdout",
     "output_type": "stream",
     "text": [
      "(/u/gshirsekar/conda-envs/pggb) \n"
     ]
    },
    {
     "ename": "",
     "evalue": "1",
     "output_type": "error",
     "traceback": []
    }
   ],
   "source": [
    "odgi viz -i at9852.RPP1.sorted.og -o at9852.RPP1.sorted.png -x 100"
   ]
  },
  {
   "cell_type": "code",
   "execution_count": 6,
   "id": "35f76ff1-3843-4087-8556-68a0e1549fcc",
   "metadata": {},
   "outputs": [
    {
     "name": "stdout",
     "output_type": "stream",
     "text": [
      "chrom\tstart\tend\tname\tgroup\tpav\n",
      "at9852_1_chr3:1-26358531\t18964487\t18970513\tRPP1\tat6137_1_chr3:1-26194750\t0.96118\n",
      "at9852_1_chr3:1-26358531\t18964487\t18970513\tRPP1\tat6923_1_chr3:1-28738137\t0.65775\n",
      "at9852_1_chr3:1-26358531\t18964487\t18970513\tRPP1\tat6929_1_chr3:1-25712594\t0.75388\n",
      "at9852_1_chr3:1-26358531\t18964487\t18970513\tRPP1\tat7143_1_chr3:1-26044309\t0.84655\n",
      "at9852_1_chr3:1-26358531\t18964487\t18970513\tRPP1\tat8285_1_chr3:1-26796854\t0.8226\n",
      "at9852_1_chr3:1-26358531\t18964487\t18970513\tRPP1\tat9104_1_chr3:1-27458818\t0.68302\n",
      "at9852_1_chr3:1-26358531\t18964487\t18970513\tRPP1\tat9336_1_chr3:1-27060997\t0.65296\n",
      "at9852_1_chr3:1-26358531\t18964487\t18970513\tRPP1\tat9503_1_chr3:1-28010412\t0.74083\n",
      "at9852_1_chr3:1-26358531\t18964487\t18970513\tRPP1\tat9578_1_chr3:1-26348032\t0.74149\n",
      "at9852_1_chr3:1-26358531\t18964487\t18970513\tRPP1\tat9744_1_chr3:1-27175644\t0.81318\n",
      "at9852_1_chr3:1-26358531\t18964487\t18970513\tRPP1\tat9762_1_chr3:1-27262250\t0.83581\n",
      "at9852_1_chr3:1-26358531\t18964487\t18970513\tRPP1\tat9806_1_chr3:1-27369393\t0.16683\n",
      "at9852_1_chr3:1-26358531\t18964487\t18970513\tRPP1\tat9830_1_chr3:1-27041555\t0.741\n",
      "at9852_1_chr3:1-26358531\t18964487\t18970513\tRPP1\tat9847_1_chr3:1-28044082\t0.83317\n",
      "at9852_1_chr3:1-26358531\t18964487\t18970513\tRPP1\tat9852_1_chr3:1-26358531\t1\n",
      "at9852_1_chr3:1-26358531\t18964487\t18970513\tRPP1\tat9879_1_chr3:1-27173682\t0.16254\n",
      "at9852_1_chr3:1-26358531\t18964487\t18970513\tRPP1\tat9883_1_chr3:1-26028663\t0.95276\n",
      "at9852_1_chr3:1-26358531\t18964487\t18970513\tRPP1\tat9900_1_chr3:1-27314136\t0.30426\n",
      "(/u/gshirsekar/conda-envs/pggb) \n"
     ]
    },
    {
     "ename": "",
     "evalue": "1",
     "output_type": "error",
     "traceback": []
    }
   ],
   "source": [
    "odgi pav \\\n",
    "-i chr3_cluster/out_p90_s5000/chr3.fasta.gz.92da240.e34d4cd.b17acf2.smooth.final.og -t 24 \\\n",
    "-b chr3_cluster/out_p90_s5000/RPP1.bed"
   ]
  },
  {
   "cell_type": "markdown",
   "id": "1e82ecf4-4ec0-42a1-ac73-043676c773b0",
   "metadata": {},
   "source": [
    "make 1000 bp windows in RPP1 gene"
   ]
  },
  {
   "cell_type": "code",
   "execution_count": 7,
   "id": "f8671cdc-c734-4e7b-aaaa-2a9740d3e6c9",
   "metadata": {},
   "outputs": [
    {
     "name": "stdout",
     "output_type": "stream",
     "text": [
      "(/u/gshirsekar/conda-envs/pggb) \n"
     ]
    },
    {
     "ename": "",
     "evalue": "1",
     "output_type": "error",
     "traceback": []
    }
   ],
   "source": [
    "bedtools makewindows -b chr3_cluster/out_p90_s5000/RPP1.bed -w 1000 > chr3_cluster/out_p90_s5000/RPP1.1kW.bed"
   ]
  },
  {
   "cell_type": "code",
   "execution_count": 8,
   "id": "07eb5fb1-4796-4f98-af80-910708c13574",
   "metadata": {},
   "outputs": [
    {
     "name": "stdout",
     "output_type": "stream",
     "text": [
      "(/u/gshirsekar/conda-envs/pggb) \n"
     ]
    },
    {
     "ename": "",
     "evalue": "1",
     "output_type": "error",
     "traceback": []
    }
   ],
   "source": [
    "odgi pav \\\n",
    "-i chr3_cluster/out_p90_s5000/chr3.fasta.gz.92da240.e34d4cd.b17acf2.smooth.final.og -t 24 \\\n",
    "-b chr3_cluster/out_p90_s5000/RPP1.1kW.bed > RPP1.1kW.pavs.tsv"
   ]
  },
  {
   "cell_type": "code",
   "execution_count": null,
   "id": "f9742ffa-8f26-488f-bbb6-8d40877ad479",
   "metadata": {},
   "outputs": [],
   "source": []
  }
 ],
 "metadata": {
  "kernelspec": {
   "display_name": "Bash",
   "language": "bash",
   "name": "bash"
  },
  "language_info": {
   "codemirror_mode": "shell",
   "file_extension": ".sh",
   "mimetype": "text/x-sh",
   "name": "bash"
  }
 },
 "nbformat": 4,
 "nbformat_minor": 5
}
