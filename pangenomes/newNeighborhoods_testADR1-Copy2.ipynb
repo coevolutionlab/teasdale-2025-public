{
 "cells": [
  {
   "cell_type": "code",
   "execution_count": 11,
   "id": "0d1d63ac-1ff1-47cb-b6bf-3fb78d7179e0",
   "metadata": {},
   "outputs": [
    {
     "name": "stdout",
     "output_type": "stream",
     "text": [
      "(pggb_fatica) \n"
     ]
    },
    {
     "ename": "",
     "evalue": "1",
     "output_type": "error",
     "traceback": []
    }
   ],
   "source": [
    "conda activate pggb_fatica"
   ]
  },
  {
   "cell_type": "code",
   "execution_count": 12,
   "id": "4cd277c5-7d42-4852-a3ad-b961337284b4",
   "metadata": {
    "scrolled": true
   },
   "outputs": [
    {
     "name": "stdout",
     "output_type": "stream",
     "text": [
      "at6137_1_chr5:0-30926001\n",
      "at6923_1_chr5:0-30405250\n",
      "at6929_1_chr5:0-31033573\n",
      "at7143_1_chr5:0-30876513\n",
      "at8285_1_chr5:0-30525389\n",
      "at9104_1_chr5:0-30867744\n",
      "at9336_1_chr5:0-31130234\n",
      "at9503_1_chr5:0-30634581\n",
      "at9578_1_chr5:0-30154809\n",
      "at9744_1_chr5:0-31338815\n",
      "at9762_1_chr5:0-31489441\n",
      "at9806_1_chr5:0-28968011\n",
      "at9830_1_chr5:0-29547016\n",
      "at9847_1_chr5:0-29957574\n",
      "at9852_1_chr5:0-31304789\n",
      "at9879_1_chr5:0-31396706\n",
      "at9883_1_chr5:0-29492918\n",
      "at9900_1_chr5:0-30011449\n",
      "(pggb_fatica) \n"
     ]
    },
    {
     "ename": "",
     "evalue": "1",
     "output_type": "error",
     "traceback": []
    }
   ],
   "source": [
    "odgi paths -L \\\n",
    "-i chr5_cluster.p95.s5000.n17.k47.G700-900-1100.at9852.pggbRecommended/chr5.fasta.gz.856e650.e34d4cd.a91cbe1.smooth.final.og"
   ]
  },
  {
   "cell_type": "markdown",
   "id": "c145199f-e2f1-4942-ac63-d0f3e5862216",
   "metadata": {},
   "source": [
    "## get length of each node\n"
   ]
  },
  {
   "cell_type": "code",
   "execution_count": 13,
   "id": "f64ffd2d-30d5-44cb-8d7a-fb20e6b22bf7",
   "metadata": {},
   "outputs": [
    {
     "name": "stdout",
     "output_type": "stream",
     "text": [
      "(pggb_fatica) \n",
      "(pggb_fatica) \n",
      "(pggb_fatica) \n",
      "(pggb_fatica) \n",
      "(pggb_fatica) \n"
     ]
    },
    {
     "ename": "",
     "evalue": "1",
     "output_type": "error",
     "traceback": []
    }
   ],
   "source": [
    "odgi view \\\n",
    "-i chr5_cluster.p95.s5000.n17.k47.G700-900-1100.at9852.pggbRecommended/chr5.fasta.gz.856e650.e34d4cd.a91cbe1.smooth.final.og \\\n",
    "-g \\\n",
    "-t 24 \\\n",
    "| grep '^S' \\\n",
    "| awk -v OFS='\\t' '{print($2,length($3))}' \\\n",
    "> chr5_cluster.p95.s5000.n17.k47.G700-900-1100.at9852.pggbRecommended/chr5.fasta.gz.856e650.e34d4cd.a91cbe1.smooth.final.og.nodeLength.txt\n",
    "\n",
    "echo -e \"#node.id\\tlength\" > tmpHeader\n",
    "cat tmpHeader chr5_cluster.p95.s5000.n17.k47.G700-900-1100.at9852.pggbRecommended/chr5.fasta.gz.856e650.e34d4cd.a91cbe1.smooth.final.og.nodeLength.txt > tmp \n",
    "mv tmp chr5_cluster.p95.s5000.n17.k47.G700-900-1100.at9852.pggbRecommended/chr5.fasta.gz.856e650.e34d4cd.a91cbe1.smooth.final.og.nodeLength.txt"
   ]
  },
  {
   "cell_type": "markdown",
   "id": "97267ce7-0f02-467d-ae6f-5ec437dbb560",
   "metadata": {},
   "source": [
    "## get depth of each node"
   ]
  },
  {
   "cell_type": "code",
   "execution_count": 4,
   "id": "ab4a9538-73c4-4e88-882c-18bb111348bd",
   "metadata": {},
   "outputs": [
    {
     "name": "stdout",
     "output_type": "stream",
     "text": [
      "(pggb_fatica) \n"
     ]
    },
    {
     "ename": "",
     "evalue": "1",
     "output_type": "error",
     "traceback": []
    }
   ],
   "source": [
    "odgi \\\n",
    "    depth \\\n",
    "    -i chr5_cluster.p95.s5000.n17.k47.G700-900-1100.at9852.pggbRecommended/chr5.fasta.gz.856e650.e34d4cd.a91cbe1.smooth.final.og \\\n",
    "    -t 24 \\\n",
    "    -d \\\n",
    "    > chr5_cluster.p95.s5000.n17.k47.G700-900-1100.at9852.pggbRecommended/chr5.fasta.gz.856e650.e34d4cd.a91cbe1.smooth.final.og.nodeDepth.txt"
   ]
  },
  {
   "cell_type": "markdown",
   "id": "e7e12f2b-8e3d-4e69-b88d-26a1741bb9f8",
   "metadata": {},
   "source": [
    "## merge depth and length"
   ]
  },
  {
   "cell_type": "code",
   "execution_count": 5,
   "id": "d0682dc3-8350-4bdb-b306-514932ee2bac",
   "metadata": {},
   "outputs": [
    {
     "name": "stdout",
     "output_type": "stream",
     "text": [
      "input length :chr1_cluster.p95.s5000.n17.k47.G700-900-1100.at9852.pggbRecommended/chr1.fasta.gz.856e650.e34d4cd.a91cbe1.smooth.final.og.nodeLength.txt\n",
      "input depth : chr1_cluster.p95.s5000.n17.k47.G700-900-1100.at9852.pggbRecommended/chr1.fasta.gz.856e650.e34d4cd.a91cbe1.smooth.final.og.nodeDepth.txt\n",
      "output file : chr1_cluster.p95.s5000.n17.k47.G700-900-1100.at9852.pggbRecommended/chr1.fasta.gz.856e650.e34d4cd.a91cbe1.smooth.final.og.nodeDepthLength.txt\n",
      "\n",
      " time for processing input: 4.293874263763428\n",
      "(pggb_fatica) \n"
     ]
    },
    {
     "ename": "",
     "evalue": "1",
     "output_type": "error",
     "traceback": []
    }
   ],
   "source": [
    "python mergeNodeLengthDepth.py \\\n",
    "-l chr5_cluster.p95.s5000.n17.k47.G700-900-1100.at9852.pggbRecommended/chr5.fasta.gz.856e650.e34d4cd.a91cbe1.smooth.final.og.nodeLength.txt \\\n",
    "-d chr5_cluster.p95.s5000.n17.k47.G700-900-1100.at9852.pggbRecommended/chr5.fasta.gz.856e650.e34d4cd.a91cbe1.smooth.final.og.nodeDepth.txt \\\n",
    "-o chr5_cluster.p95.s5000.n17.k47.G700-900-1100.at9852.pggbRecommended/chr5.fasta.gz.856e650.e34d4cd.a91cbe1.smooth.final.og.nodeDepthLength.txt"
   ]
  },
  {
   "cell_type": "code",
   "execution_count": null,
   "id": "9fc6d345-4c39-4408-93e6-67a48b3bfd8b",
   "metadata": {},
   "outputs": [],
   "source": []
  },
  {
   "cell_type": "code",
   "execution_count": 14,
   "id": "fa2a1ef7-570f-45c9-97d9-005a0334cd65",
   "metadata": {},
   "outputs": [
    {
     "name": "stdout",
     "output_type": "stream",
     "text": [
      "(pggb_fatica) \n"
     ]
    },
    {
     "ename": "",
     "evalue": "1",
     "output_type": "error",
     "traceback": []
    }
   ],
   "source": [
    "echo -e \"at9852_1_chr5:0-31304789\\t27128798\\t27181027\" > chr5_fbox.bed"
   ]
  },
  {
   "cell_type": "code",
   "execution_count": 40,
   "id": "c63db910-e256-4a8e-8ee9-3d3e7951563f",
   "metadata": {},
   "outputs": [
    {
     "name": "stdout",
     "output_type": "stream",
     "text": [
      "896555\n",
      "(pggb_fatica) \n"
     ]
    },
    {
     "ename": "",
     "evalue": "1",
     "output_type": "error",
     "traceback": []
    }
   ],
   "source": []
  },
  {
   "cell_type": "code",
   "execution_count": 15,
   "id": "0e5cb2c8-d254-41bc-b96c-be5da5a78998",
   "metadata": {},
   "outputs": [
    {
     "name": "stdout",
     "output_type": "stream",
     "text": [
      "(pggb_fatica) \n",
      "(pggb_fatica) \n",
      "(pggb_fatica) \n"
     ]
    },
    {
     "ename": "",
     "evalue": "1",
     "output_type": "error",
     "traceback": []
    }
   ],
   "source": [
    "## here input should be a bed file of leftmost NLRs start and rightmost NLRs stop for the cluster (group of NLRs)\n",
    "\n",
    "while read chromosome start stop\n",
    "do\n",
    "\n",
    "    odgi \\\n",
    "    position \\\n",
    "    -i chr5_cluster.p95.s5000.n17.k47.G700-900-1100.at9852.pggbRecommended/chr5.fasta.gz.856e650.e34d4cd.a91cbe1.smooth.final.og \\\n",
    "    -t 24 \\\n",
    "    -b <(echo -e \"${chromosome}\\t${start}\\t${stop}\") \\\n",
    "    -v \n",
    "\n",
    "done < chr5_fbox.bed |cut -f1,4,5|cut -d ',' -f1,3|sed 's/+//g'|sed 's/,//g' > chr5_fbox.graph.bed"
   ]
  },
  {
   "cell_type": "code",
   "execution_count": 51,
   "id": "9939af1b-9563-45a5-aa0e-edacb0458a2a",
   "metadata": {},
   "outputs": [
    {
     "name": "stdout",
     "output_type": "stream",
     "text": [
      "cat: tmp1: No such file or directory\n",
      "(pggb_fatica) \n"
     ]
    },
    {
     "ename": "",
     "evalue": "1",
     "output_type": "error",
     "traceback": []
    }
   ],
   "source": []
  },
  {
   "cell_type": "code",
   "execution_count": 16,
   "id": "4efedd5b-5f53-4c96-ab9c-d9beca1c310e",
   "metadata": {},
   "outputs": [
    {
     "name": "stdout",
     "output_type": "stream",
     "text": [
      "(pggb_fatica) \n",
      "(pggb_fatica) \n",
      "(pggb_fatica) \n"
     ]
    },
    {
     "ename": "",
     "evalue": "1",
     "output_type": "error",
     "traceback": []
    }
   ],
   "source": [
    "while read chromosome gstart gstop\n",
    "do\n",
    "    echo ${chromosome} >> tmp3\n",
    "    \n",
    "    # take fifth leftmost node with depth.uniq=18 and length greater than 100 as left anchor for the neighborhood\n",
    "    awk '($2>100)&&($4==18)' chr5_cluster.p95.s5000.n17.k47.G700-900-1100.at9852.pggbRecommended/chr5.fasta.gz.856e650.e34d4cd.a91cbe1.smooth.final.og.nodeDepthLength.txt|awk -v \"start=${gstart}\" '($1<start)'|tail -n 5|head -n1|cut -f1 >> tmp1\n",
    "    \n",
    "    # take fifth rightmost node with depth.uniq=18 and length greater than 100 as right anchor for the neighborhood\n",
    "    awk '($2>100)&&($4==18)' chr5_cluster.p95.s5000.n17.k47.G700-900-1100.at9852.pggbRecommended/chr5.fasta.gz.856e650.e34d4cd.a91cbe1.smooth.final.og.nodeDepthLength.txt|awk -v \"stop=${gstop}\" '($1>stop)'|head -n 5|tail -n1|cut -f1 >> tmp2\n",
    "\n",
    "done < chr5_fbox.graph.bed \n",
    "\n",
    "paste tmp3 tmp1 tmp2 > chr5_fbox.neighborhood.graph.bed"
   ]
  },
  {
   "cell_type": "code",
   "execution_count": 17,
   "id": "aa49a5d1-d55f-4b6b-9774-d0e1aae875e0",
   "metadata": {},
   "outputs": [
    {
     "name": "stdout",
     "output_type": "stream",
     "text": [
      "at9852_1_chr5:0-31304789\t2812645\t2817309\n",
      "at9852_1_chr5:0-31304789\t\t\n",
      "at9852_1_chr5:0-31304789\t\t\n",
      "(pggb_fatica) \n"
     ]
    },
    {
     "ename": "",
     "evalue": "1",
     "output_type": "error",
     "traceback": []
    }
   ],
   "source": []
  },
  {
   "cell_type": "code",
   "execution_count": 18,
   "id": "6d1f17b0-eb7d-45e3-8af8-ed936f4f69f3",
   "metadata": {},
   "outputs": [
    {
     "name": "stdout",
     "output_type": "stream",
     "text": [
      "(pggb_fatica) \n",
      "(pggb_fatica) \n",
      "(pggb_fatica) \n",
      "(pggb_fatica) \n"
     ]
    },
    {
     "ename": "",
     "evalue": "1",
     "output_type": "error",
     "traceback": []
    }
   ],
   "source": [
    "rm tmp*\n",
    "while read chromosome nStart nStop\n",
    "do\n",
    "    echo ${chromosome} >> tmp3\n",
    "\n",
    "    odgi position \\\n",
    "    -i chr5_cluster.p95.s5000.n17.k47.G700-900-1100.at9852.pggbRecommended/chr5.fasta.gz.856e650.e34d4cd.a91cbe1.smooth.final.og \\\n",
    "    -t 24 \\\n",
    "    -g ${nStart} \\\n",
    "    -r ${chromosome} |tail -n +2|cut -d ',' -f4,5|sed \"s/,/\\t/g\"|cut -f1 >> tmp1\n",
    "\n",
    "    odgi position \\\n",
    "    -i chr5_cluster.p95.s5000.n17.k47.G700-900-1100.at9852.pggbRecommended/chr5.fasta.gz.856e650.e34d4cd.a91cbe1.smooth.final.og \\\n",
    "    -t 24 \\\n",
    "    -g ${nStop} \\\n",
    "    -r ${chromosome} |tail -n +2|cut -d ',' -f4,5|sed \"s/,/\\t/g\"|cut -f1 >> tmp2\n",
    "done < chr5_fbox.neighborhood.graph.bed\n",
    "\n",
    "paste tmp3 tmp1 tmp2 > chr5_fbox.neighborhood.coordinates.bed\n",
    "    \n"
   ]
  },
  {
   "cell_type": "code",
   "execution_count": 8,
   "id": "ac93a1e4-3aec-461a-99b2-dc2dba0e4333",
   "metadata": {},
   "outputs": [
    {
     "name": "stdout",
     "output_type": "stream",
     "text": [
      "at9852_1_chr5:0-31304789\t1365839\t1378989\n",
      "at9852_1_chr5:0-31304789\t1595700\t1610351\n",
      "at9852_1_chr5:0-31304789\t3617231\t3627255\n",
      "at9852_1_chr5:0-31304789\t3963299\t3977231\n",
      "at9852_1_chr5:0-31304789\t5847528\t5856861\n",
      "at9852_1_chr5:0-31304789\t5931453\t6014321\n",
      "at9852_1_chr5:0-31304789\t6097573\t6118803\n",
      "at9852_1_chr5:0-31304789\t7551817\t7560418\n",
      "at9852_1_chr5:0-31304789\t18125973\t18150101\n",
      "at9852_1_chr5:0-31304789\t18876829\t18905706\n",
      "at9852_1_chr5:0-31304789\t19658592\t19705463\n",
      "at9852_1_chr5:0-31304789\t19881714\t19889487\n",
      "at9852_1_chr5:0-31304789\t20320090\t20344136\n",
      "at9852_1_chr5:0-31304789\t20665663\t20715304\n",
      "at9852_1_chr5:0-31304789\t20925575\t20945552\n",
      "at9852_1_chr5:0-31304789\t20985040\t21072744\n",
      "at9852_1_chr5:0-31304789\t21433955\t21467103\n",
      "at9852_1_chr5:0-31304789\t21772002\t21793738\n",
      "at9852_1_chr5:0-31304789\t21872257\t21889357\n",
      "at9852_1_chr5:0-31304789\t22237429\t22252674\n",
      "at9852_1_chr5:0-31304789\t22417114\t22530280\n",
      "at9852_1_chr5:0-31304789\t22583496\t22662950\n",
      "at9852_1_chr5:0-31304789\t22723547\t22806749\n",
      "at9852_1_chr5:0-31304789\t23086782\t23104170\n",
      "at9852_1_chr5:0-31304789\t23173369\t23212130\n",
      "at9852_1_chr5:0-31304789\t23507128\t23576991\n",
      "at9852_1_chr5:0-31304789\t24043481\t24057572\n",
      "at9852_1_chr5:0-31304789\t24239623\t24250064\n",
      "at9852_1_chr5:0-31304789\t25267116\t25290769\n",
      "at9852_1_chr5:0-31304789\t27059189\t27065184\n",
      "at9852_1_chr5:0-31304789\t27828819\t27844908\n",
      "at9852_1_chr5:0-31304789\t29596476\t29607068\n",
      "at9852_1_chr5:0-31304789\t30901628\t31044856\n",
      "at9852_1_chr1:0-33329944\t739488\t748206\n",
      "(pggb_fatica) \n"
     ]
    },
    {
     "ename": "",
     "evalue": "1",
     "output_type": "error",
     "traceback": []
    }
   ],
   "source": [
    "cat chr5_fbox.neighborhood.graph.bed"
   ]
  },
  {
   "cell_type": "code",
   "execution_count": 8,
   "id": "a63efe28-4a47-4c97-a262-5c72c8c8b9e0",
   "metadata": {},
   "outputs": [
    {
     "name": "stdout",
     "output_type": "stream",
     "text": [
      "(pggb_fatica) \n",
      "(pggb_fatica) \n",
      "(pggb_fatica) \n",
      "(pggb_fatica) \n"
     ]
    },
    {
     "ename": "",
     "evalue": "1",
     "output_type": "error",
     "traceback": []
    }
   ],
   "source": [
    "rm tmp*\n",
    "while read chromosome nStart nStop\n",
    "do\n",
    "    echo ${chromosome} >> tmp3\n",
    "\n",
    "    odgi position \\\n",
    "    -i chr5_cluster.p95.s5000.n17.k47.G700-900-1100.at9852.pggbRecommended/chr5.fasta.gz.856e650.e34d4cd.a91cbe1.smooth.final.og \\\n",
    "    -t 24 \\\n",
    "    -g ${nStart} \\\n",
    "    -r ${chromosome} |tail -n +2|cut -d ',' -f4,5|sed \"s/,/\\t/g\"|cut -f1 >> tmp1\n",
    "\n",
    "    odgi position \\\n",
    "    -i chr5_cluster.p95.s5000.n17.k47.G700-900-1100.at9852.pggbRecommended/chr5.fasta.gz.856e650.e34d4cd.a91cbe1.smooth.final.og \\\n",
    "    -t 24 \\\n",
    "    -g ${nStop} \\\n",
    "    -r ${chromosome} |tail -n +2|cut -d ',' -f4,5|sed \"s/,/\\t/g\"|cut -f1 >> tmp2\n",
    "done < neighborhoods/chr5_neighborhood.graph.bed\n",
    "\n",
    "paste tmp3 tmp1 tmp2 > neighborhoods/chr5_neighborhood.coordinates.bed"
   ]
  },
  {
   "cell_type": "code",
   "execution_count": null,
   "id": "99f2b569-b33d-4079-ab35-8e89bb533bb7",
   "metadata": {},
   "outputs": [],
   "source": []
  },
  {
   "cell_type": "code",
   "execution_count": 19,
   "id": "32304c64-ede9-4274-b4bb-cfefff7f345e",
   "metadata": {},
   "outputs": [
    {
     "name": "stdout",
     "output_type": "stream",
     "text": [
      "(pggb_fatica) \n",
      "(pggb_fatica) \n",
      "(pggb_fatica) \n",
      "[odgi::viz] Path range to pangenomic range conversion.\n",
      "[odgi::viz] Visualizing the graph in the pangenomic range [4.6478e+07, 4.6563e+07]\n",
      "[odgi::viz] Binned mode\n",
      "[odgi::viz] bin width: 85.035\n",
      "[odgi::viz] image width: 1000\n",
      "[odgi::viz] Path range to pangenomic range conversion.\n",
      "[odgi::viz] Visualizing the graph in the pangenomic range [4.6478e+07, 4.6563e+07]\n",
      "[odgi::viz] Binned mode\n",
      "[odgi::viz] bin width: 85.035\n",
      "[odgi::viz] image width: 1000\n",
      "[odgi::extract] expansion and adding connecting edges\n",
      "[odgi::extract] extracting path ranges 100.00% @ 1.48e+00/s elapsed: 00:00:00:00 remain: 00:00:00:00\n",
      "[odgi::extract] merge subpaths closer than 100000 bps - iteration 1 (max 3) 100.00% @ 4.82e+00/s elapsed: 00:00:00:03 remain: 00:00:00:00\n",
      "[odgi::extract] merge subpaths closer than 100000 bps - iteration 2 (max 3) 100.00% @ 4.18e+00/s elapsed: 00:00:00:04 remain: 00:00:00:00\n",
      "[odgi::extract] adding connecting edges 100.00% @ 1.79e+04/s elapsed: 00:00:00:00 remain: 00:00:00:00\n",
      "[odgi::extract] adding subpaths 100.00% @ 6.81e+00/s elapsed: 00:00:00:07 remain: 00:00:00:00\n",
      "[odgi::extract] checking missing edges and empty subpaths 100.00% @ 7.18e+01/s elapsed: 00:00:00:00 remain: 00:00:00:00\n",
      "(pggb_fatica) \n"
     ]
    },
    {
     "ename": "",
     "evalue": "1",
     "output_type": "error",
     "traceback": []
    }
   ],
   "source": [
    "inputOdgi=chr5_cluster.p95.s5000.n17.k47.G700-900-1100.at9852.pggbRecommended/chr5.fasta.gz.856e650.e34d4cd.a91cbe1.smooth.final.og\n",
    "outdir=forGal\n",
    "count=0\n",
    "while read a b c; \n",
    "do\n",
    "    ((count+=1))   \n",
    "    r_path=$(echo \"${a}:${b}-${c}\")\n",
    "    r=${r_path}\n",
    "    nh=$(echo \"nh_${count}\")\n",
    "    outprefix=${nh}.region\n",
    "\n",
    "    ########################## view the pangenome graph of the region ######################\n",
    "    odgi viz \\\n",
    "    -i $inputOdgi \\\n",
    "    -o $outdir/${outprefix}.bm.png \\\n",
    "    -x 1000 \\\n",
    "    -bm \\\n",
    "    -t 20 \\\n",
    "    -P \\\n",
    "    -r ${r}\n",
    "    ########################## Node Strandedness ############################################\n",
    "    odgi viz \\\n",
    "    -i $inputOdgi \\\n",
    "    -o $outdir/${outprefix}.z.png \\\n",
    "    -x 1000 \\\n",
    "    -z \\\n",
    "    -t 20 \\\n",
    "    -P \\\n",
    "    -r ${r}\n",
    "    \n",
    "    ############################################ extract the region ############################################\n",
    "    odgi extract \\\n",
    "    -i $inputOdgi \\\n",
    "    -r ${r} \\\n",
    "    --threads 24 -P \\\n",
    "    -d 100000 \\\n",
    "    -c 1  \\\n",
    "    -o $outdir/${outprefix}.og \n",
    "    \n",
    "    ########################### get the coordinates in all the accessions ########################################\n",
    "    odgi paths -L \\\n",
    "    -i $outdir/${outprefix}.og  \\\n",
    "    > $outdir/${outprefix}.allPathsCoordinates.txt\n",
    "done < chr5_fbox.neighborhood.coordinates.bed"
   ]
  },
  {
   "cell_type": "code",
   "execution_count": null,
   "id": "613d1bb6-ff84-4e07-8069-33ad6f91a337",
   "metadata": {},
   "outputs": [],
   "source": []
  }
 ],
 "metadata": {
  "kernelspec": {
   "display_name": "Bash",
   "language": "bash",
   "name": "bash"
  },
  "language_info": {
   "codemirror_mode": "shell",
   "file_extension": ".sh",
   "mimetype": "text/x-sh",
   "name": "bash"
  }
 },
 "nbformat": 4,
 "nbformat_minor": 5
}
