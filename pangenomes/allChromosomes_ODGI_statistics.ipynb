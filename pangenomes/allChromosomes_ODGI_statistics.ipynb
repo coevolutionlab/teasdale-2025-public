{
 "cells": [
  {
   "cell_type": "code",
   "execution_count": 2,
   "id": "c57095a8-e036-42b6-a5dd-584b38d22b87",
   "metadata": {},
   "outputs": [
    {
     "name": "stdout",
     "output_type": "stream",
     "text": [
      "(base) \n",
      "(/u/gshirsekar/conda-envs/pggb) \n"
     ]
    },
    {
     "ename": "",
     "evalue": "1",
     "output_type": "error",
     "traceback": []
    }
   ],
   "source": [
    "source ~/.bashrc\n",
    "conda activate /u/gshirsekar/conda-envs/pggb"
   ]
  },
  {
   "cell_type": "code",
   "execution_count": 4,
   "id": "db4a37aa-b6b0-452a-bfca-4bd02ddb2add",
   "metadata": {},
   "outputs": [
    {
     "name": "stdout",
     "output_type": "stream",
     "text": [
      "(/u/gshirsekar/conda-envs/pggb) \n"
     ]
    },
    {
     "ename": "",
     "evalue": "1",
     "output_type": "error",
     "traceback": []
    }
   ],
   "source": [
    "for i in {1..5}\n",
    "do\n",
    "mkdir -p chr${i}_cluster.p95.s5000.n17.k47.G700-900-1100.at9852.pggbRecommended/chr${i}_odgi_stats\n",
    "done"
   ]
  },
  {
   "cell_type": "code",
   "execution_count": 10,
   "id": "c84a2b95-757d-47e6-a083-24e87e8089c4",
   "metadata": {},
   "outputs": [
    {
     "name": "stdout",
     "output_type": "stream",
     "text": [
      "processing chromosome 1\n",
      "processed chromosome 1\n",
      "processing chromosome 2\n",
      "processed chromosome 2\n",
      "processing chromosome 3\n",
      "processed chromosome 3\n",
      "processing chromosome 4\n",
      "processed chromosome 4\n",
      "processing chromosome 5\n",
      "processed chromosome 5\n",
      "(/u/gshirsekar/conda-envs/pggb) \n"
     ]
    },
    {
     "ename": "",
     "evalue": "1",
     "output_type": "error",
     "traceback": []
    }
   ],
   "source": [
    "for i in {1..5}\n",
    "do \n",
    "    echo \"processing chromosome ${i}\"\n",
    "    parentDir=chr${i}_cluster.p95.s5000.n17.k47.G700-900-1100.at9852.pggbRecommended\n",
    "    \n",
    "    inputOdgi=$parentDir/chr${i}.fasta.gz.856e650.e34d4cd.a91cbe1.smooth.final.og\n",
    "    \n",
    "    ##variant density is reflected in the node length of the PGGB graph\n",
    "    \n",
    "    odgi view -i $inputOdgi -g \\\n",
    "    |grep \"^S\"| awk 'OFS=\"\\t\"{print($2,length($3))}' \\\n",
    "    > $parentDir/chr${i}_odgi_stats/chr${i}_node_length.txt\n",
    "\n",
    "    echo \"processed chromosome ${i}\"\n",
    "\n",
    "done\n"
   ]
  },
  {
   "cell_type": "code",
   "execution_count": null,
   "id": "fac3f9ef-3105-4116-8b27-52b9fdac596c",
   "metadata": {},
   "outputs": [],
   "source": [
    "chr3_cluster.p95.s5000.n17.k47.G700-900-1100.at9852.pggbRecommended/chr3.fasta.gz.856e650.e34d4cd.a91cbe1.smooth.final.og"
   ]
  },
  {
   "cell_type": "code",
   "execution_count": null,
   "id": "cbcedf32-b4fd-4c89-b1f4-5104c107503a",
   "metadata": {},
   "outputs": [],
   "source": [
    "inputOdgi=chr3_cluster.p95.s5000.n17.k47.G700-900-1100.at9852.pggbRecommended/chr3.fasta.gz.856e650.e34d4cd.a91cbe1.smooth.final.og"
   ]
  }
 ],
 "metadata": {
  "kernelspec": {
   "display_name": "Bash",
   "language": "bash",
   "name": "bash"
  },
  "language_info": {
   "codemirror_mode": "shell",
   "file_extension": ".sh",
   "mimetype": "text/x-sh",
   "name": "bash"
  }
 },
 "nbformat": 4,
 "nbformat_minor": 5
}
