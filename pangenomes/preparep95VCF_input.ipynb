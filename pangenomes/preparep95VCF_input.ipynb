{
 "cells": [
  {
   "cell_type": "code",
   "execution_count": 1,
   "id": "a8f1b18d-b152-402a-9f60-07610c47fabd",
   "metadata": {},
   "outputs": [
    {
     "name": "stdout",
     "output_type": "stream",
     "text": [
      "(/u/gshirsekar/conda-envs/pggb) \n"
     ]
    },
    {
     "ename": "",
     "evalue": "1",
     "output_type": "error",
     "traceback": []
    }
   ],
   "source": [
    "source ~/.bashrc\n",
    "conda activate pggb"
   ]
  },
  {
   "cell_type": "code",
   "execution_count": 6,
   "id": "6793b483-2bbb-45e2-97c1-3d7fdec65b7c",
   "metadata": {},
   "outputs": [
    {
     "name": "stdout",
     "output_type": "stream",
     "text": [
      "(/u/gshirsekar/conda-envs/pggb) \n",
      "input vcf :chr1_cluster.p95.s5000.n17.k47.G700-900-1100.at9852.pggbRecommended/chr1.fasta.gz.856e650.e34d4cd.a91cbe1.smooth.final.at9852_1_chr1.vcf\n",
      "output vcf : chr1_cluster.p95.s5000.n17.k47.G700-900-1100.at9852.pggbRecommended/chr1.fasta.gz.856e650.e34d4cd.a91cbe1.smooth.final.at9852_1_chr1.pDiploid.vcf\n",
      "\n",
      " time for processing input: 2.531064987182617\n",
      "\n",
      " time for polars manipulation of input: 46.464871406555176\n",
      "\n",
      " time for formatting output: 0.6350374221801758\n",
      "(/u/gshirsekar/conda-envs/pggb) \n"
     ]
    },
    {
     "ename": "",
     "evalue": "1",
     "output_type": "error",
     "traceback": []
    }
   ],
   "source": [
    "\n",
    "python makeHaploidToPseudoDiploidVCF.py \\\n",
    "-i chr1_cluster.p95.s5000.n17.k47.G700-900-1100.at9852.pggbRecommended/chr1.fasta.gz.856e650.e34d4cd.a91cbe1.smooth.final.at9852_1_chr1.vcf \\\n",
    "-o chr1_cluster.p95.s5000.n17.k47.G700-900-1100.at9852.pggbRecommended/chr1.fasta.gz.856e650.e34d4cd.a91cbe1.smooth.final.at9852_1_chr1 \\\n",
    "-s phased"
   ]
  },
  {
   "cell_type": "code",
   "execution_count": 5,
   "id": "cbda9547-aeda-44c5-bc03-4277f14c22c0",
   "metadata": {},
   "outputs": [
    {
     "name": "stdout",
     "output_type": "stream",
     "text": [
      "(/u/gshirsekar/conda-envs/pggb) \n",
      "input vcf :chr2_cluster.p95.s5000.n17.k47.G700-900-1100.at9852.pggbRecommended/chr2.fasta.gz.856e650.e34d4cd.a91cbe1.smooth.final.at9852_1_chr2.vcf\n",
      "output vcf : chr2_cluster.p95.s5000.n17.k47.G700-900-1100.at9852.pggbRecommended/chr2.fasta.gz.856e650.e34d4cd.a91cbe1.smooth.final.at9852_1_chr2.pDiploid.vcf\n",
      "\n",
      " time for processing input: 1.8890554904937744\n",
      "\n",
      " time for polars manipulation of input: 28.259329080581665\n",
      "\n",
      " time for formatting output: 0.3693702220916748\n",
      "(/u/gshirsekar/conda-envs/pggb) \n",
      "(/u/gshirsekar/conda-envs/pggb) \n",
      "input vcf :chr3_cluster.p95.s5000.n17.k47.G700-900-1100.at9852.pggbRecommended/chr3.fasta.gz.856e650.e34d4cd.a91cbe1.smooth.final.at9852_1_chr3.vcf\n",
      "output vcf : chr3_cluster.p95.s5000.n17.k47.G700-900-1100.at9852.pggbRecommended/chr3.fasta.gz.856e650.e34d4cd.a91cbe1.smooth.final.at9852_1_chr3.pDiploid.vcf\n",
      "\n",
      " time for processing input: 2.248804807662964\n",
      "\n",
      " time for polars manipulation of input: 32.99140954017639\n",
      "\n",
      " time for formatting output: 0.45265841484069824\n",
      "(/u/gshirsekar/conda-envs/pggb) \n",
      "(/u/gshirsekar/conda-envs/pggb) \n",
      "input vcf :chr4_cluster.p95.s5000.n17.k47.G700-900-1100.at9852.pggbRecommended/chr4.fasta.gz.856e650.e34d4cd.a91cbe1.smooth.final.at9852_1_chr4.vcf\n",
      "output vcf : chr4_cluster.p95.s5000.n17.k47.G700-900-1100.at9852.pggbRecommended/chr4.fasta.gz.856e650.e34d4cd.a91cbe1.smooth.final.at9852_1_chr4.pDiploid.vcf\n",
      "\n",
      " time for processing input: 3.355638265609741\n",
      "\n",
      " time for polars manipulation of input: 29.66435670852661\n",
      "\n",
      " time for formatting output: 0.5309257507324219\n",
      "(/u/gshirsekar/conda-envs/pggb) \n",
      "(/u/gshirsekar/conda-envs/pggb) \n",
      "input vcf :chr5_cluster.p95.s5000.n17.k47.G700-900-1100.at9852.pggbRecommended/chr5.fasta.gz.856e650.e34d4cd.a91cbe1.smooth.final.at9852_1_chr5.vcf\n",
      "output vcf : chr5_cluster.p95.s5000.n17.k47.G700-900-1100.at9852.pggbRecommended/chr5.fasta.gz.856e650.e34d4cd.a91cbe1.smooth.final.at9852_1_chr5.pDiploid.vcf\n",
      "\n",
      " time for processing input: 3.198421001434326\n",
      "\n",
      " time for polars manipulation of input: 37.72388935089111\n",
      "\n",
      " time for formatting output: 0.5858635902404785\n",
      "(/u/gshirsekar/conda-envs/pggb) \n"
     ]
    },
    {
     "ename": "",
     "evalue": "1",
     "output_type": "error",
     "traceback": []
    }
   ],
   "source": [
    "\n",
    "python makeHaploidToPseudoDiploidVCF.py \\\n",
    "-i chr2_cluster.p95.s5000.n17.k47.G700-900-1100.at9852.pggbRecommended/chr2.fasta.gz.856e650.e34d4cd.a91cbe1.smooth.final.at9852_1_chr2.vcf \\\n",
    "-o chr2_cluster.p95.s5000.n17.k47.G700-900-1100.at9852.pggbRecommended/chr2.fasta.gz.856e650.e34d4cd.a91cbe1.smooth.final.at9852_1_chr2 \\\n",
    "-s phased\n",
    "\n",
    "python makeHaploidToPseudoDiploidVCF.py \\\n",
    "-i chr3_cluster.p95.s5000.n17.k47.G700-900-1100.at9852.pggbRecommended/chr3.fasta.gz.856e650.e34d4cd.a91cbe1.smooth.final.at9852_1_chr3.vcf \\\n",
    "-o chr3_cluster.p95.s5000.n17.k47.G700-900-1100.at9852.pggbRecommended/chr3.fasta.gz.856e650.e34d4cd.a91cbe1.smooth.final.at9852_1_chr3 \\\n",
    "-s phased\n",
    "\n",
    "python makeHaploidToPseudoDiploidVCF.py \\\n",
    "-i chr4_cluster.p95.s5000.n17.k47.G700-900-1100.at9852.pggbRecommended/chr4.fasta.gz.856e650.e34d4cd.a91cbe1.smooth.final.at9852_1_chr4.vcf \\\n",
    "-o chr4_cluster.p95.s5000.n17.k47.G700-900-1100.at9852.pggbRecommended/chr4.fasta.gz.856e650.e34d4cd.a91cbe1.smooth.final.at9852_1_chr4 \\\n",
    "-s phased\n",
    "\n",
    "python makeHaploidToPseudoDiploidVCF.py \\\n",
    "-i chr5_cluster.p95.s5000.n17.k47.G700-900-1100.at9852.pggbRecommended/chr5.fasta.gz.856e650.e34d4cd.a91cbe1.smooth.final.at9852_1_chr5.vcf \\\n",
    "-o chr5_cluster.p95.s5000.n17.k47.G700-900-1100.at9852.pggbRecommended/chr5.fasta.gz.856e650.e34d4cd.a91cbe1.smooth.final.at9852_1_chr5 \\\n",
    "-s phased "
   ]
  },
  {
   "cell_type": "code",
   "execution_count": 7,
   "id": "cd99551d-03b5-4d03-a280-bd3e5aa8b869",
   "metadata": {},
   "outputs": [
    {
     "name": "stdout",
     "output_type": "stream",
     "text": [
      "(/u/gshirsekar/conda-envs/pggb) \n"
     ]
    },
    {
     "ename": "",
     "evalue": "1",
     "output_type": "error",
     "traceback": []
    }
   ],
   "source": [
    "for i in {1..5}\n",
    "do\n",
    "\n",
    "#get old names\n",
    "bcftools query -l chr${i}_cluster.p95.s5000.n17.k47.G700-900-1100.at9852.pggbRecommended/chr${i}.fasta.gz.856e650.e34d4cd.a91cbe1.smooth.final.at9852_1_chr${i}.pDiploid.vcf >  \\\n",
    "chr${i}_cluster.p95.s5000.n17.k47.G700-900-1100.at9852.pggbRecommended/oNames.txt \\\n",
    "\n",
    "#change old names and save new names\n",
    "sed \"s/_.*//g\" chr${i}_cluster.p95.s5000.n17.k47.G700-900-1100.at9852.pggbRecommended/oNames.txt > chr${i}_cluster.p95.s5000.n17.k47.G700-900-1100.at9852.pggbRecommended/nNames.txt \\\n",
    "\n",
    "#make sample list for bcftools\n",
    "paste chr${i}_cluster.p95.s5000.n17.k47.G700-900-1100.at9852.pggbRecommended/oNames.txt chr${i}_cluster.p95.s5000.n17.k47.G700-900-1100.at9852.pggbRecommended/nNames.txt \\\n",
    "> chr${i}_cluster.p95.s5000.n17.k47.G700-900-1100.at9852.pggbRecommended/oNamesNNames.txt\n",
    "\n",
    "#bgzip input vcf\n",
    "bgzip chr${i}_cluster.p95.s5000.n17.k47.G700-900-1100.at9852.pggbRecommended/chr${i}.fasta.gz.856e650.e34d4cd.a91cbe1.smooth.final.at9852_1_chr${i}.pDiploid.vcf\n",
    "\n",
    "#index input vcf\n",
    "bcftools index chr${i}_cluster.p95.s5000.n17.k47.G700-900-1100.at9852.pggbRecommended/chr${i}.fasta.gz.856e650.e34d4cd.a91cbe1.smooth.final.at9852_1_chr${i}.pDiploid.vcf.gz\n",
    "\n",
    "#change the sample names to just accession names\n",
    "bcftools reheader -s chr${i}_cluster.p95.s5000.n17.k47.G700-900-1100.at9852.pggbRecommended/oNamesNNames.txt \\\n",
    "-o chr${i}_cluster.p95.s5000.n17.k47.G700-900-1100.at9852.pggbRecommended/chr${i}.fasta.gz.856e650.e34d4cd.a91cbe1.smooth.final.at9852_1_chr${i}.pDiploid.reheader.vcf.gz \\\n",
    "chr${i}_cluster.p95.s5000.n17.k47.G700-900-1100.at9852.pggbRecommended/chr${i}.fasta.gz.856e650.e34d4cd.a91cbe1.smooth.final.at9852_1_chr${i}.pDiploid.vcf.gz\n",
    "\n",
    "done\n"
   ]
  },
  {
   "cell_type": "code",
   "execution_count": null,
   "id": "a8c8ef97-27a7-4728-a65d-eb509514000c",
   "metadata": {},
   "outputs": [],
   "source": []
  }
 ],
 "metadata": {
  "kernelspec": {
   "display_name": "Bash",
   "language": "bash",
   "name": "bash"
  },
  "language_info": {
   "codemirror_mode": "shell",
   "file_extension": ".sh",
   "mimetype": "text/x-sh",
   "name": "bash"
  }
 },
 "nbformat": 4,
 "nbformat_minor": 5
}
